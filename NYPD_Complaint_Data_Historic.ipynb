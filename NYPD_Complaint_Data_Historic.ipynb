{
  "cells": [
    {
      "cell_type": "markdown",
      "metadata": {},
      "source": [
        "<a href=\"https://colab.research.google.com/github/shubhamgundawarNYU/Big-Data-Project-Group-16/blob/main/NYPD_Complaint_Data_Historic.ipynb\" target=\"_parent\"><img src=\"https://colab.research.google.com/assets/colab-badge.svg\" alt=\"Open In Colab\"/></a>"
      ]
    },
    {
      "cell_type": "markdown",
      "metadata": {
        "id": "7-dJg3ZWVPHJ"
      },
      "source": [
        "##**BIG DATA PROJECT**\n",
        "\n",
        "### NYPD COMPLAINTS DATA HISTORIC \n",
        "Link to Dataset (https://data.cityofnewyork.us/Public-Safety/NYPD-Complaint-Data-Historic/qgea-i56i)\n",
        "\n",
        "### DATA CLEANING AT SCALE"
      ]
    },
    {
      "cell_type": "markdown",
      "metadata": {
        "id": "dZWscsxWG6BD"
      },
      "source": [
        "#### Mounting Google Drive to Google Collab Notebook to Load the Data Set\n",
        "\n",
        "Make sure you have the dataset in your Google Drive and you mount your drive to the Colab.\n",
        "\n",
        "The file should be at the following path: `gdrive/My Drive/NYPD_Complaint_Data_Historic.csv`\n"
      ]
    },
    {
      "cell_type": "code",
      "execution_count": null,
      "metadata": {
        "colab": {
          "base_uri": "https://localhost:8080/"
        },
        "id": "wSt7ZZI_zSt2",
        "outputId": "a87b4c25-eca6-4ac2-9a82-a4e4f81872a6"
      },
      "outputs": [
        {
          "name": "stdout",
          "output_type": "stream",
          "text": [
            "Drive already mounted at /content/gdrive; to attempt to forcibly remount, call drive.mount(\"/content/gdrive\", force_remount=True).\n"
          ]
        }
      ],
      "source": [
        "from google.colab import drive \n",
        "drive.mount('/content/gdrive')"
      ]
    },
    {
      "cell_type": "markdown",
      "metadata": {
        "id": "5XTa8wVQHjVm"
      },
      "source": [
        "#### Importing required and Necessary Libraries for cleaning the data present in the data set\n",
        "\n",
        "\n",
        "\n",
        "\n"
      ]
    },
    {
      "cell_type": "code",
      "execution_count": null,
      "metadata": {
        "id": "IglUIuU9ntFm"
      },
      "outputs": [],
      "source": [
        "import numpy as np\n",
        "import pandas as pd\n",
        "import io"
      ]
    },
    {
      "cell_type": "code",
      "execution_count": null,
      "metadata": {
        "colab": {
          "base_uri": "https://localhost:8080/"
        },
        "id": "a6CbM0l_UnFq",
        "outputId": "23345cd0-abae-4c55-e7cf-db19d6d769dc"
      },
      "outputs": [
        {
          "name": "stdout",
          "output_type": "stream",
          "text": [
            "Requirement already satisfied: pyspark in /usr/local/lib/python3.7/dist-packages (3.2.0)\n",
            "Requirement already satisfied: py4j==0.10.9.2 in /usr/local/lib/python3.7/dist-packages (from pyspark) (0.10.9.2)\n"
          ]
        }
      ],
      "source": [
        "!pip install pyspark"
      ]
    },
    {
      "cell_type": "markdown",
      "metadata": {
        "id": "J94HTiO28t4l"
      },
      "source": [
        "#### Installing and importing openclean python library for data profiling and statistical inference"
      ]
    },
    {
      "cell_type": "code",
      "execution_count": null,
      "metadata": {
        "colab": {
          "base_uri": "https://localhost:8080/"
        },
        "id": "QdTSm9Vb8XAl",
        "outputId": "ae5ffdae-936b-46e5-a060-3b9fc57c38ab"
      },
      "outputs": [
        {
          "name": "stdout",
          "output_type": "stream",
          "text": [
            "Collecting openclean\n",
            "  Downloading openclean-0.2.1-py3-none-any.whl (5.2 kB)\n",
            "Collecting humanfriendly\n",
            "  Downloading humanfriendly-10.0-py2.py3-none-any.whl (86 kB)\n",
            "\u001b[K     |████████████████████████████████| 86 kB 3.2 MB/s \n",
            "\u001b[?25hCollecting openclean-core==0.4.1\n",
            "  Downloading openclean_core-0.4.1-py3-none-any.whl (267 kB)\n",
            "\u001b[K     |████████████████████████████████| 267 kB 36.5 MB/s \n",
            "\u001b[?25hCollecting jellyfish\n",
            "  Downloading jellyfish-0.8.9.tar.gz (137 kB)\n",
            "\u001b[K     |████████████████████████████████| 137 kB 57.0 MB/s \n",
            "\u001b[?25hCollecting refdata>=0.2.0\n",
            "  Downloading refdata-0.2.0-py3-none-any.whl (37 kB)\n",
            "Requirement already satisfied: requests in /usr/local/lib/python3.7/dist-packages (from openclean-core==0.4.1->openclean) (2.23.0)\n",
            "Requirement already satisfied: scikit-learn in /usr/local/lib/python3.7/dist-packages (from openclean-core==0.4.1->openclean) (1.0.1)\n",
            "Collecting jsonschema>=3.2.0\n",
            "  Downloading jsonschema-4.2.1-py3-none-any.whl (69 kB)\n",
            "\u001b[K     |████████████████████████████████| 69 kB 6.3 MB/s \n",
            "\u001b[?25hRequirement already satisfied: scipy in /usr/local/lib/python3.7/dist-packages (from openclean-core==0.4.1->openclean) (1.4.1)\n",
            "Requirement already satisfied: appdirs>=1.4.4 in /usr/local/lib/python3.7/dist-packages (from openclean-core==0.4.1->openclean) (1.4.4)\n",
            "Collecting histore>=0.4.0\n",
            "  Downloading histore-0.4.1-py3-none-any.whl (109 kB)\n",
            "\u001b[K     |████████████████████████████████| 109 kB 72.2 MB/s \n",
            "\u001b[?25hCollecting flowserv-core>=0.8.0\n",
            "  Downloading flowserv_core-0.9.2-py3-none-any.whl (260 kB)\n",
            "\u001b[K     |████████████████████████████████| 260 kB 62.8 MB/s \n",
            "\u001b[?25hRequirement already satisfied: future in /usr/local/lib/python3.7/dist-packages (from openclean-core==0.4.1->openclean) (0.16.0)\n",
            "Requirement already satisfied: dill in /usr/local/lib/python3.7/dist-packages (from openclean-core==0.4.1->openclean) (0.3.4)\n",
            "Requirement already satisfied: python-dateutil in /usr/local/lib/python3.7/dist-packages (from openclean-core==0.4.1->openclean) (2.8.2)\n",
            "Requirement already satisfied: pandas>=1.0.0 in /usr/local/lib/python3.7/dist-packages (from openclean-core==0.4.1->openclean) (1.1.5)\n",
            "Requirement already satisfied: SQLAlchemy>=1.3.18 in /usr/local/lib/python3.7/dist-packages (from flowserv-core>=0.8.0->openclean-core==0.4.1->openclean) (1.4.27)\n",
            "Collecting pyyaml>=5.1\n",
            "  Downloading PyYAML-6.0-cp37-cp37m-manylinux_2_5_x86_64.manylinux1_x86_64.manylinux_2_12_x86_64.manylinux2010_x86_64.whl (596 kB)\n",
            "\u001b[K     |████████████████████████████████| 596 kB 47.9 MB/s \n",
            "\u001b[?25hCollecting paramiko\n",
            "  Downloading paramiko-2.8.1-py2.py3-none-any.whl (206 kB)\n",
            "\u001b[K     |████████████████████████████████| 206 kB 52.0 MB/s \n",
            "\u001b[?25hRequirement already satisfied: Click in /usr/local/lib/python3.7/dist-packages (from flowserv-core>=0.8.0->openclean-core==0.4.1->openclean) (7.1.2)\n",
            "Collecting pyyaml-include\n",
            "  Downloading pyyaml_include-1.2.post2-py3-none-any.whl (20 kB)\n",
            "Collecting passlib\n",
            "  Downloading passlib-1.7.4-py2.py3-none-any.whl (525 kB)\n",
            "\u001b[K     |████████████████████████████████| 525 kB 74.8 MB/s \n",
            "\u001b[?25hCollecting gitpython\n",
            "  Downloading GitPython-3.1.24-py3-none-any.whl (180 kB)\n",
            "\u001b[K     |████████████████████████████████| 180 kB 58.8 MB/s \n",
            "\u001b[?25hRequirement already satisfied: psutil in /usr/local/lib/python3.7/dist-packages (from histore>=0.4.0->openclean-core==0.4.1->openclean) (5.4.8)\n",
            "Requirement already satisfied: importlib-resources>=1.4.0 in /usr/local/lib/python3.7/dist-packages (from jsonschema>=3.2.0->openclean-core==0.4.1->openclean) (5.4.0)\n",
            "Requirement already satisfied: pyrsistent!=0.17.0,!=0.17.1,!=0.17.2,>=0.14.0 in /usr/local/lib/python3.7/dist-packages (from jsonschema>=3.2.0->openclean-core==0.4.1->openclean) (0.18.0)\n",
            "Requirement already satisfied: importlib-metadata in /usr/local/lib/python3.7/dist-packages (from jsonschema>=3.2.0->openclean-core==0.4.1->openclean) (4.8.2)\n",
            "Requirement already satisfied: attrs>=17.4.0 in /usr/local/lib/python3.7/dist-packages (from jsonschema>=3.2.0->openclean-core==0.4.1->openclean) (21.2.0)\n",
            "Requirement already satisfied: zipp>=3.1.0 in /usr/local/lib/python3.7/dist-packages (from importlib-resources>=1.4.0->jsonschema>=3.2.0->openclean-core==0.4.1->openclean) (3.6.0)\n",
            "Requirement already satisfied: numpy>=1.15.4 in /usr/local/lib/python3.7/dist-packages (from pandas>=1.0.0->openclean-core==0.4.1->openclean) (1.19.5)\n",
            "Requirement already satisfied: pytz>=2017.2 in /usr/local/lib/python3.7/dist-packages (from pandas>=1.0.0->openclean-core==0.4.1->openclean) (2018.9)\n",
            "Requirement already satisfied: six>=1.5 in /usr/local/lib/python3.7/dist-packages (from python-dateutil->openclean-core==0.4.1->openclean) (1.15.0)\n",
            "Collecting tableprint\n",
            "  Downloading tableprint-0.9.1-py3-none-any.whl (6.8 kB)\n",
            "Collecting datasize>=1.0.0\n",
            "  Downloading datasize-1.0.0.tar.gz (149 kB)\n",
            "\u001b[K     |████████████████████████████████| 149 kB 67.5 MB/s \n",
            "\u001b[?25hRequirement already satisfied: pooch>=1.3.0 in /usr/local/lib/python3.7/dist-packages (from refdata>=0.2.0->openclean-core==0.4.1->openclean) (1.5.2)\n",
            "Requirement already satisfied: packaging in /usr/local/lib/python3.7/dist-packages (from pooch>=1.3.0->refdata>=0.2.0->openclean-core==0.4.1->openclean) (21.3)\n",
            "Requirement already satisfied: greenlet!=0.4.17 in /usr/local/lib/python3.7/dist-packages (from SQLAlchemy>=1.3.18->flowserv-core>=0.8.0->openclean-core==0.4.1->openclean) (1.1.2)\n",
            "Requirement already satisfied: typing-extensions>=3.7.4.3 in /usr/local/lib/python3.7/dist-packages (from gitpython->flowserv-core>=0.8.0->openclean-core==0.4.1->openclean) (3.10.0.2)\n",
            "Collecting gitdb<5,>=4.0.1\n",
            "  Downloading gitdb-4.0.9-py3-none-any.whl (63 kB)\n",
            "\u001b[K     |████████████████████████████████| 63 kB 1.4 MB/s \n",
            "\u001b[?25hCollecting smmap<6,>=3.0.1\n",
            "  Downloading smmap-5.0.0-py3-none-any.whl (24 kB)\n",
            "Requirement already satisfied: pyparsing!=3.0.5,>=2.0.2 in /usr/local/lib/python3.7/dist-packages (from packaging->pooch>=1.3.0->refdata>=0.2.0->openclean-core==0.4.1->openclean) (3.0.6)\n",
            "Collecting bcrypt>=3.1.3\n",
            "  Downloading bcrypt-3.2.0-cp36-abi3-manylinux2010_x86_64.whl (63 kB)\n",
            "\u001b[K     |████████████████████████████████| 63 kB 2.2 MB/s \n",
            "\u001b[?25hCollecting cryptography>=2.5\n",
            "  Downloading cryptography-36.0.0-cp36-abi3-manylinux_2_24_x86_64.whl (3.6 MB)\n",
            "\u001b[K     |████████████████████████████████| 3.6 MB 75.4 MB/s \n",
            "\u001b[?25hCollecting pynacl>=1.0.1\n",
            "  Downloading PyNaCl-1.4.0-cp35-abi3-manylinux1_x86_64.whl (961 kB)\n",
            "\u001b[K     |████████████████████████████████| 961 kB 42.9 MB/s \n",
            "\u001b[?25hRequirement already satisfied: cffi>=1.1 in /usr/local/lib/python3.7/dist-packages (from bcrypt>=3.1.3->paramiko->flowserv-core>=0.8.0->openclean-core==0.4.1->openclean) (1.15.0)\n",
            "Requirement already satisfied: pycparser in /usr/local/lib/python3.7/dist-packages (from cffi>=1.1->bcrypt>=3.1.3->paramiko->flowserv-core>=0.8.0->openclean-core==0.4.1->openclean) (2.21)\n",
            "Collecting pyyaml>=5.1\n",
            "  Downloading PyYAML-5.4.1-cp37-cp37m-manylinux1_x86_64.whl (636 kB)\n",
            "\u001b[K     |████████████████████████████████| 636 kB 73.6 MB/s \n",
            "\u001b[?25hRequirement already satisfied: certifi>=2017.4.17 in /usr/local/lib/python3.7/dist-packages (from requests->openclean-core==0.4.1->openclean) (2021.10.8)\n",
            "Requirement already satisfied: idna<3,>=2.5 in /usr/local/lib/python3.7/dist-packages (from requests->openclean-core==0.4.1->openclean) (2.10)\n",
            "Requirement already satisfied: chardet<4,>=3.0.2 in /usr/local/lib/python3.7/dist-packages (from requests->openclean-core==0.4.1->openclean) (3.0.4)\n",
            "Requirement already satisfied: urllib3!=1.25.0,!=1.25.1,<1.26,>=1.21.1 in /usr/local/lib/python3.7/dist-packages (from requests->openclean-core==0.4.1->openclean) (1.24.3)\n",
            "Requirement already satisfied: threadpoolctl>=2.0.0 in /usr/local/lib/python3.7/dist-packages (from scikit-learn->openclean-core==0.4.1->openclean) (3.0.0)\n",
            "Requirement already satisfied: joblib>=0.11 in /usr/local/lib/python3.7/dist-packages (from scikit-learn->openclean-core==0.4.1->openclean) (1.1.0)\n",
            "Requirement already satisfied: wcwidth in /usr/local/lib/python3.7/dist-packages (from tableprint->refdata>=0.2.0->openclean-core==0.4.1->openclean) (0.2.5)\n",
            "Building wheels for collected packages: datasize, jellyfish\n",
            "  Building wheel for datasize (setup.py) ... \u001b[?25l\u001b[?25hdone\n",
            "  Created wheel for datasize: filename=datasize-1.0.0-py2.py3-none-any.whl size=155047 sha256=5c83d48d80795b1d24fb520b653d027a7926600a6ad344f16434433012e11909\n",
            "  Stored in directory: /root/.cache/pip/wheels/f7/b5/32/d8836896da6aca7f9c5748670ea6110d1385c262bf3abcca30\n",
            "  Building wheel for jellyfish (setup.py) ... \u001b[?25l\u001b[?25hdone\n",
            "  Created wheel for jellyfish: filename=jellyfish-0.8.9-cp37-cp37m-linux_x86_64.whl size=73231 sha256=19b297f21c8ff61fd0fa0b4ba3c200b0d46ee84a7350fb6200b07621c7c25b21\n",
            "  Stored in directory: /root/.cache/pip/wheels/32/a9/ef/5d8742e72deaf0d1de327a180d008c2c0299367581800ea73f\n",
            "Successfully built datasize jellyfish\n",
            "Installing collected packages: smmap, pyyaml, pynacl, gitdb, cryptography, bcrypt, tableprint, pyyaml-include, passlib, paramiko, jsonschema, gitpython, datasize, refdata, jellyfish, histore, flowserv-core, openclean-core, openclean, humanfriendly\n",
            "  Attempting uninstall: pyyaml\n",
            "    Found existing installation: PyYAML 3.13\n",
            "    Uninstalling PyYAML-3.13:\n",
            "      Successfully uninstalled PyYAML-3.13\n",
            "  Attempting uninstall: jsonschema\n",
            "    Found existing installation: jsonschema 2.6.0\n",
            "    Uninstalling jsonschema-2.6.0:\n",
            "      Successfully uninstalled jsonschema-2.6.0\n",
            "\u001b[31mERROR: pip's dependency resolver does not currently take into account all the packages that are installed. This behaviour is the source of the following dependency conflicts.\n",
            "nbclient 0.5.9 requires jupyter-client>=6.1.5, but you have jupyter-client 5.3.5 which is incompatible.\u001b[0m\n",
            "Successfully installed bcrypt-3.2.0 cryptography-36.0.0 datasize-1.0.0 flowserv-core-0.9.2 gitdb-4.0.9 gitpython-3.1.24 histore-0.4.1 humanfriendly-10.0 jellyfish-0.8.9 jsonschema-4.2.1 openclean-0.2.1 openclean-core-0.4.1 paramiko-2.8.1 passlib-1.7.4 pynacl-1.4.0 pyyaml-5.4.1 pyyaml-include-1.2.post2 refdata-0.2.0 smmap-5.0.0 tableprint-0.9.1\n"
          ]
        }
      ],
      "source": [
        "pip install openclean humanfriendly"
      ]
    },
    {
      "cell_type": "markdown",
      "metadata": {
        "id": "sq8U3BtmhtRx"
      },
      "source": [
        "\n",
        "# **Running Pyspark in Colab**\n",
        "\n",
        "To run spark in Colab, we need to first install all the dependencies in Colab environment i.e. Apache Spark 2.3.2 with hadoop 2.7, Java 8 and Findspark to locate the spark in the system. The tools installation can be carried out inside the Jupyter Notebook of the Colab. One important note is that if you are new in Spark, it is better to avoid Spark 2.4.0 version since some people have already complained about its compatibility issue with python. \n",
        "Follow the steps to install the dependencies:"
      ]
    },
    {
      "cell_type": "code",
      "execution_count": null,
      "metadata": {
        "id": "lh5NCoc8fsSO"
      },
      "outputs": [],
      "source": [
        "!apt-get install openjdk-8-jdk-headless -qq > /dev/null\n",
        "!wget -q https://dlcdn.apache.org/spark/spark-3.2.0/spark-3.2.0-bin-hadoop3.2.tgz\n",
        "!tar xf spark-3.2.0-bin-hadoop3.2.tgz\n",
        "!pip install -q findspark"
      ]
    },
    {
      "cell_type": "markdown",
      "metadata": {
        "id": "ILheUROOhprv"
      },
      "source": [
        "Now that you installed Spark and Java in Colab, it is time to set the environment path which enables you to run Pyspark in your Colab environment. Set the location of Java and Spark by running the following code:"
      ]
    },
    {
      "cell_type": "code",
      "execution_count": null,
      "metadata": {
        "id": "v1b8k_OVf2QF"
      },
      "outputs": [],
      "source": [
        "import os\n",
        "os.environ[\"JAVA_HOME\"] = \"/usr/lib/jvm/java-8-openjdk-amd64\"\n",
        "os.environ[\"SPARK_HOME\"] = \"/content/spark-3.2.0-bin-hadoop3.2\""
      ]
    },
    {
      "cell_type": "markdown",
      "metadata": {
        "id": "KwrqMk3HiMiE"
      },
      "source": [
        "Run a local spark session to test your installation:"
      ]
    },
    {
      "cell_type": "code",
      "execution_count": null,
      "metadata": {
        "id": "9_Uz1NL4gHFx"
      },
      "outputs": [],
      "source": [
        "import findspark\n",
        "findspark.init()\n",
        "from pyspark.sql import SparkSession\n",
        "from pyspark.sql.functions import *\n",
        "from pyspark.sql.types import *\n",
        "spark = SparkSession.builder.getOrCreate()"
      ]
    },
    {
      "cell_type": "markdown",
      "metadata": {
        "id": "Z1n1HPiEIOXF"
      },
      "source": [
        "#### Reading the Data Set CSV File using `spark.read.csv()` Function"
      ]
    },
    {
      "cell_type": "code",
      "execution_count": null,
      "metadata": {
        "id": "NNL-wR74W52g"
      },
      "outputs": [],
      "source": [
        "df = spark.read.csv(\"/content/gdrive/MyDrive/NYPD_Complaint_Data_Historic.csv\", inferSchema=True, header =True)"
      ]
    },
    {
      "cell_type": "markdown",
      "metadata": {
        "id": "rUHvjAzy-fSF"
      },
      "source": [
        "### In order to find similar datasets to 'NYPD Complaint Data Historic', we use openclean python library's easy integration with Socrata NYC Open Data engine and find out all the datasets that have similar column structure as our original dataset."
      ]
    },
    {
      "cell_type": "code",
      "execution_count": null,
      "metadata": {
        "colab": {
          "base_uri": "https://localhost:8080/"
        },
        "id": "fgmnBEKd-ekS",
        "outputId": "00c92b1f-3b20-4d5b-a75f-6525e37fcc8a"
      },
      "outputs": [
        {
          "name": "stdout",
          "output_type": "stream",
          "text": [
            "qgea-i56i\tdata.cityofnewyork.us\tNYPD Complaint Data Historic\n",
            "uip8-fykc\tdata.cityofnewyork.us\tNYPD Arrest Data (Year to Date)\n",
            "eabe-havv\tdata.cityofnewyork.us\tDOB Complaints Received\n",
            "5uac-w243\tdata.cityofnewyork.us\tNYPD Complaint Data Current (Year To Date)\n",
            "8h9b-rp9u\tdata.cityofnewyork.us\tNYPD Arrests Data (Historic)\n",
            "833y-fsy8\tdata.cityofnewyork.us\tNYPD Shooting Incident Data (Historic)\n",
            "5ucz-vwe8\tdata.cityofnewyork.us\tNYPD Shooting Incident Data (Year To Date)\n",
            "uwyv-629c\tdata.cityofnewyork.us\tHousing Maintenance Code Complaints\n",
            "a2nx-4u46\tdata.cityofnewyork.us\tComplaint Problems\n",
            "bqiq-cu78\tdata.cityofnewyork.us\tNYPD Hate Crimes\n",
            "sv2w-rv3k\tdata.cityofnewyork.us\tNYPD Criminal Court Summons (Historic)\n",
            "nre2-6m2s\tdata.cityofnewyork.us\tConsumer Services Mediated Complaints\n",
            "mv4k-y93f\tdata.cityofnewyork.us\tNYPD Criminal Court Summons Incident Level Data (Year To Date)\n",
            "6v9u-ndjg\tdata.cityofnewyork.us\tBuilding Complaint Disposition Codes\n",
            "9jgj-bmct\tdata.cityofnewyork.us\tDOHMH Indoor Environmental Complaints\n",
            "n2zq-pubd\tdata.cityofnewyork.us\tNYPD Calls for Service (Year to Date)\n",
            "kwvk-z7i9\tdata.cityofnewyork.us\t2017 - 2018 Schools NYPD Crime Data Report\n",
            "63nx-cpi9\tdata.cityofnewyork.us\tCivilian Complaint Review Board (CCRB) - Complaints Received\n",
            "ck4n-5h6x\tdata.cityofnewyork.us\tLandmarks Complaints\n",
            "f4tj-796d\tdata.cityofnewyork.us\tNYPD Use of Force Incidents\n",
            "fx4z-5xg2\tdata.cityofnewyork.us\tCivilian Complaint Review Board (CCRB) - Complaints Closed\n",
            "pq5i-thsu\tdata.cityofnewyork.us\tDerelict Vehicles Dispositions - Complaints\n",
            "xyq2-jjkn\tdata.cityofnewyork.us\tCivilian Complaint Review Board (CCRB) - Allegations Closed\n",
            "5vr7-5fki\tdata.cityofnewyork.us\tNYPD Personnel Demographics\n",
            "d6zx-ckhd\tdata.cityofnewyork.us\tNYPD Calls for Service (Historic)\n",
            "cwy2-px8b\tdata.cityofnewyork.us\tLocal Law 8 of 2020 – Complaints of Illegal Parking of Vehicles Operated on Behalf of the City\n",
            "p2d7-vcsb\tdata.cityofnewyork.us\tBIC Complaints Inquiries\n",
            "57p3-pdcj\tdata.cityofnewyork.us\tNYPD B Summons (Year to Date)\n",
            "9y7k-h295\tdata.cityofnewyork.us\tLocal Law 8 of 2020 Report – Monthly Complaints of Illegal Parking of Vehicles Operated on Behalf of the City\n",
            "arhf-esqb\tdata.cityofnewyork.us\tDOP Adult Probationers Rearrested As A Percentage Of NYPD Arrest Report (Monthly Average)\n",
            "7m8q-jgtg\tdata.cityofnewyork.us\tDOP Juvenile Probationers Rearrested As A Percentage Of NYPD Arrest Report (Monthly Average)\n",
            "dfwh-7sqg\tdata.cityofnewyork.us\t2015-2016 Suspension Report NYPD Contacts - SWD\n",
            "bme5-7ty4\tdata.cityofnewyork.us\tNYPD B Summons (Historic)\n",
            "tre2-h8i2\tdata.cityofnewyork.us\t2015-2016 Suspension Report NYPD Contacts - Race\n",
            "8ufi-zgz6\tdata.cityofnewyork.us\t2015-2016 Suspension Report NYPD Contacts - STH\n",
            "fsmu-8tsy\tdata.cityofnewyork.us\t2015-2016 Suspension Report NYPD Contacts - Grade Level\n",
            "hafw-ruje\tdata.cityofnewyork.us\t2015-2016 Suspension Report NYPD Contacts - Date Of Birth\n",
            "fjb8-yxzv\tdata.cityofnewyork.us\t2015-2016 Suspension Report NYPD Contacts - Gender\n",
            "vacq-ce69\tdata.cityofnewyork.us\t2015-2016 Suspension Report NYPD Contacts - ELL\n",
            "dufe-vxb7\tdata.cityofnewyork.us\tNYPD Use of Force: Subjects\n",
            "v5jd-6wqn\tdata.cityofnewyork.us\tNYPD Use of Force: Members of Service\n",
            "2qb3-8eu4\tdata.cityofnewyork.us\t2017-2018 Suspension Report NYPD Contacts - RACE\n",
            "6ayi-8khd\tdata.cityofnewyork.us\tPre-Complaint Resolutions\n",
            "byvd-5eau\tdata.cityofnewyork.us\t2017-2018 Suspension Report NYPD Contacts - GENDER\n",
            "c5d8-ajrd\tdata.cityofnewyork.us\t2017-2018 Suspension Report NYPD Contacts - DOB\n",
            "wq7m-7i29\tdata.cityofnewyork.us\t2017-2018 Suspension Report NYPD Contacts - GRADE\n",
            "dsif-42wj\tdata.cityofnewyork.us\t2017-2018 Suspension Report NYPD Contacts - ELL\n",
            "eevf-vb98\tdata.cityofnewyork.us\t2017-2018 Suspension Report NYPD Contacts - STH\n",
            "gmhi-8qzt\tdata.cityofnewyork.us\t2017-2018 Suspension Report NYPD Contacts - SWD\n",
            "2eq2-nywg\tdata.cityofnewyork.us\t2020-2021 Suspension Report NYPD Contacts - All\n"
          ]
        }
      ],
      "source": [
        "import openclean\n",
        "from openclean.data.source.socrata import Socrata\n",
        "\n",
        "for dataset in Socrata().catalog(domain='data.cityofnewyork.us'):\n",
        "    if 'complaint' in dataset.name.lower() or 'NYPD' in dataset.name or 'Crime' in dataset.name.lower():\n",
        "        print(f'{dataset.identifier}\\t{dataset.domain}\\t{dataset.name}')"
      ]
    },
    {
      "cell_type": "markdown",
      "metadata": {
        "id": "0-Gke24P_jyo"
      },
      "source": [
        "#### From the above list we select 10 datasets that have maximum overlapping columns with 'NYPD Complaint Data Historic'"
      ]
    },
    {
      "cell_type": "markdown",
      "metadata": {
        "id": "Vx8Gr3z3BXZf"
      },
      "source": [
        "# **Data Profiling**"
      ]
    },
    {
      "cell_type": "code",
      "execution_count": null,
      "metadata": {
        "colab": {
          "base_uri": "https://localhost:8080/"
        },
        "id": "IMecwoTS6upe",
        "outputId": "a4810d37-92bf-4baf-f27b-814bd48123bb"
      },
      "outputs": [
        {
          "data": {
            "text/plain": [
              "7375993"
            ]
          },
          "execution_count": 10,
          "metadata": {},
          "output_type": "execute_result"
        }
      ],
      "source": [
        "df.count()"
      ]
    },
    {
      "cell_type": "markdown",
      "metadata": {
        "id": "ZLKtS1rNIjRD"
      },
      "source": [
        "#### Get Data Type for each column present in the Data Set\n",
        "\n",
        "\n"
      ]
    },
    {
      "cell_type": "code",
      "execution_count": null,
      "metadata": {
        "colab": {
          "base_uri": "https://localhost:8080/"
        },
        "id": "tYDkaV6r75y6",
        "outputId": "39c922c1-aaf0-46a9-a2ae-04c9d2c5ebb0"
      },
      "outputs": [
        {
          "name": "stdout",
          "output_type": "stream",
          "text": [
            "root\n",
            " |-- CMPLNT_NUM: integer (nullable = true)\n",
            " |-- CMPLNT_FR_DT: string (nullable = true)\n",
            " |-- CMPLNT_FR_TM: string (nullable = true)\n",
            " |-- CMPLNT_TO_DT: string (nullable = true)\n",
            " |-- CMPLNT_TO_TM: string (nullable = true)\n",
            " |-- ADDR_PCT_CD: integer (nullable = true)\n",
            " |-- RPT_DT: string (nullable = true)\n",
            " |-- KY_CD: integer (nullable = true)\n",
            " |-- OFNS_DESC: string (nullable = true)\n",
            " |-- PD_CD: integer (nullable = true)\n",
            " |-- PD_DESC: string (nullable = true)\n",
            " |-- CRM_ATPT_CPTD_CD: string (nullable = true)\n",
            " |-- LAW_CAT_CD: string (nullable = true)\n",
            " |-- BORO_NM: string (nullable = true)\n",
            " |-- LOC_OF_OCCUR_DESC: string (nullable = true)\n",
            " |-- PREM_TYP_DESC: string (nullable = true)\n",
            " |-- JURIS_DESC: string (nullable = true)\n",
            " |-- JURISDICTION_CODE: integer (nullable = true)\n",
            " |-- PARKS_NM: string (nullable = true)\n",
            " |-- HADEVELOPT: string (nullable = true)\n",
            " |-- HOUSING_PSA: string (nullable = true)\n",
            " |-- X_COORD_CD: integer (nullable = true)\n",
            " |-- Y_COORD_CD: integer (nullable = true)\n",
            " |-- SUSP_AGE_GROUP: string (nullable = true)\n",
            " |-- SUSP_RACE: string (nullable = true)\n",
            " |-- SUSP_SEX: string (nullable = true)\n",
            " |-- TRANSIT_DISTRICT: integer (nullable = true)\n",
            " |-- Latitude: double (nullable = true)\n",
            " |-- Longitude: double (nullable = true)\n",
            " |-- Lat_Lon: string (nullable = true)\n",
            " |-- PATROL_BORO: string (nullable = true)\n",
            " |-- STATION_NAME: string (nullable = true)\n",
            " |-- VIC_AGE_GROUP: string (nullable = true)\n",
            " |-- VIC_RACE: string (nullable = true)\n",
            " |-- VIC_SEX: string (nullable = true)\n",
            "\n"
          ]
        }
      ],
      "source": [
        "df.printSchema()"
      ]
    },
    {
      "cell_type": "markdown",
      "metadata": {
        "id": "hNCSlJEuJIBS"
      },
      "source": [
        "#### Outputing the List of Columns in the Data Set"
      ]
    },
    {
      "cell_type": "code",
      "execution_count": null,
      "metadata": {
        "colab": {
          "base_uri": "https://localhost:8080/"
        },
        "id": "hApjoVvG9v9Y",
        "outputId": "1d1d7836-7514-4184-ec40-222b5ad5f768"
      },
      "outputs": [
        {
          "data": {
            "text/plain": [
              "['CMPLNT_NUM',\n",
              " 'CMPLNT_FR_DT',\n",
              " 'CMPLNT_FR_TM',\n",
              " 'CMPLNT_TO_DT',\n",
              " 'CMPLNT_TO_TM',\n",
              " 'ADDR_PCT_CD',\n",
              " 'RPT_DT',\n",
              " 'KY_CD',\n",
              " 'OFNS_DESC',\n",
              " 'PD_CD',\n",
              " 'PD_DESC',\n",
              " 'CRM_ATPT_CPTD_CD',\n",
              " 'LAW_CAT_CD',\n",
              " 'BORO_NM',\n",
              " 'LOC_OF_OCCUR_DESC',\n",
              " 'PREM_TYP_DESC',\n",
              " 'JURIS_DESC',\n",
              " 'JURISDICTION_CODE',\n",
              " 'PARKS_NM',\n",
              " 'HADEVELOPT',\n",
              " 'HOUSING_PSA',\n",
              " 'X_COORD_CD',\n",
              " 'Y_COORD_CD',\n",
              " 'SUSP_AGE_GROUP',\n",
              " 'SUSP_RACE',\n",
              " 'SUSP_SEX',\n",
              " 'TRANSIT_DISTRICT',\n",
              " 'Latitude',\n",
              " 'Longitude',\n",
              " 'Lat_Lon',\n",
              " 'PATROL_BORO',\n",
              " 'STATION_NAME',\n",
              " 'VIC_AGE_GROUP',\n",
              " 'VIC_RACE',\n",
              " 'VIC_SEX']"
            ]
          },
          "execution_count": 12,
          "metadata": {},
          "output_type": "execute_result"
        }
      ],
      "source": [
        "df.columns"
      ]
    },
    {
      "cell_type": "markdown",
      "metadata": {
        "id": "LDnW9Gi7Idy4"
      },
      "source": [
        "#### Get top 10 rows of the complaints dataframe"
      ]
    },
    {
      "cell_type": "code",
      "execution_count": null,
      "metadata": {
        "colab": {
          "base_uri": "https://localhost:8080/"
        },
        "id": "AOUrvQEG-UcM",
        "outputId": "7c703c58-b016-400b-de12-8f3eac27b6ec"
      },
      "outputs": [
        {
          "name": "stdout",
          "output_type": "stream",
          "text": [
            "+----------+------------+------------+------------+------------+-----------+----------+-----+--------------------+-----+--------------------+----------------+-----------+---------+-----------------+--------------------+----------------+-----------------+--------+----------+-----------+----------+----------+--------------+---------+--------+----------------+------------------+------------------+--------------------+--------------------+------------+-------------+--------------+-------+\n",
            "|CMPLNT_NUM|CMPLNT_FR_DT|CMPLNT_FR_TM|CMPLNT_TO_DT|CMPLNT_TO_TM|ADDR_PCT_CD|    RPT_DT|KY_CD|           OFNS_DESC|PD_CD|             PD_DESC|CRM_ATPT_CPTD_CD| LAW_CAT_CD|  BORO_NM|LOC_OF_OCCUR_DESC|       PREM_TYP_DESC|      JURIS_DESC|JURISDICTION_CODE|PARKS_NM|HADEVELOPT|HOUSING_PSA|X_COORD_CD|Y_COORD_CD|SUSP_AGE_GROUP|SUSP_RACE|SUSP_SEX|TRANSIT_DISTRICT|          Latitude|         Longitude|             Lat_Lon|         PATROL_BORO|STATION_NAME|VIC_AGE_GROUP|      VIC_RACE|VIC_SEX|\n",
            "+----------+------------+------------+------------+------------+-----------+----------+-----+--------------------+-----+--------------------+----------------+-----------+---------+-----------------+--------------------+----------------+-----------------+--------+----------+-----------+----------+----------+--------------+---------+--------+----------------+------------------+------------------+--------------------+--------------------+------------+-------------+--------------+-------+\n",
            "| 394506329|  12/31/2019|    17:30:00|        null|        null|         32|12/31/2019|  118|   DANGEROUS WEAPONS|  793|WEAPONS POSSESSION 3|       COMPLETED|     FELONY|MANHATTAN|             null|              STREET|N.Y. POLICE DEPT|                0|    null|      null|       null|    999937|    238365|          null|     null|    null|            null| 40.82092679700002|-73.94332421899996|(40.8209267970000...|PATROL BORO MAN N...|        null|      UNKNOWN|       UNKNOWN|      E|\n",
            "| 968873685|  12/29/2019|    16:31:00|  12/29/2019|    16:54:00|         47|12/29/2019|  113|             FORGERY|  729|FORGERY,ETC.,UNCL...|       COMPLETED|     FELONY|    BRONX|             null|              STREET|N.Y. POLICE DEPT|                0|    null|      null|       null|   1022508|    261990|          null|     null|    null|            null|40.885701406000074|-73.86164032499995|(40.8857014060000...|   PATROL BORO BRONX|        null|      UNKNOWN|       UNKNOWN|      E|\n",
            "| 509837549|  12/15/2019|    18:45:00|        null|        null|        109|12/29/2019|  578|       HARRASSMENT 2|  638|HARASSMENT,SUBD 3...|       COMPLETED|  VIOLATION|   QUEENS|         FRONT OF|              STREET|N.Y. POLICE DEPT|                0|    null|      null|       null|   1034178|    209758|         25-44|  UNKNOWN|       M|            null| 40.74228115600005|      -73.81982408|(40.7422811560000...|PATROL BORO QUEEN...|        null|        25-44|WHITE HISPANIC|      F|\n",
            "| 352454313|  12/28/2019|    01:00:00|        null|        null|         47|12/28/2019|  126|MISCELLANEOUS PEN...|  117|RECKLESS ENDANGER...|       COMPLETED|     FELONY|    BRONX|          REAR OF|              STREET|N.Y. POLICE DEPT|                0|    null|      null|       null|   1026412|    258211|         18-24|    BLACK|       M|            null| 40.87531145100007|-73.84754521099995|(40.8753114510000...|   PATROL BORO BRONX|        null|      UNKNOWN|       UNKNOWN|      E|\n",
            "| 248803469|  09/05/2008|    21:41:00|        null|        null|       null|09/05/2008|  101|MURDER & NON-NEGL...| null|                null|       COMPLETED|     FELONY|     null|          OUTSIDE|                null|N.Y. POLICE DEPT|             null|      NA|      null|         NA|   1001215|    193881|          null|     null|    null|            null|      40.698827283|     -73.938819047|(40.698827283, -7...|                null|        null|        25-44|         BLACK|      M|\n",
            "| 293718737|  12/27/2019|    22:00:00|        null|        null|          9|12/27/2019|  107|            BURGLARY|  223|BURGLARY,RESIDENC...|       ATTEMPTED|     FELONY|MANHATTAN|         FRONT OF|RESIDENCE - APT. ...|N.Y. POLICE DEPT|                0|    null|      null|       null|    989665|    201866|          null|     null|    null|            null| 40.72075882100006|-73.98046642299995|(40.7207588210000...|PATROL BORO MAN S...|        null|      UNKNOWN|       UNKNOWN|      M|\n",
            "| 552685226|  12/27/2019|    20:10:00|  12/27/2019|    20:15:00|         79|12/27/2019|  117|     DANGEROUS DRUGS|  521|CONTROLLED SUBSTA...|       COMPLETED|     FELONY| BROOKLYN|             null|              STREET|N.Y. POLICE DEPT|                0|    null|      null|       null|   1001545|    192836|          null|     null|    null|            null|40.695958362000056|-73.93763162199998|(40.6959583620000...|PATROL BORO BKLYN...|        null|      UNKNOWN|       UNKNOWN|      E|\n",
            "| 134037758|  12/26/2019|    20:00:00|  12/27/2019|    07:15:00|        101|12/27/2019|  341|       PETIT LARCENY|  321|LARCENY,PETIT FRO...|       COMPLETED|MISDEMEANOR|   QUEENS|         FRONT OF|              STREET|N.Y. POLICE DEPT|                0|    null|      null|       null|   1054394|    162186|          null|     null|    null|            null| 40.61157006600007|-73.74736517199995|(40.6115700660000...|PATROL BORO QUEEN...|        null|        25-44|WHITE HISPANIC|      F|\n",
            "| 855385879|  12/26/2019|    19:57:00|        null|        null|         44|12/26/2019|  361|OFF. AGNST PUB OR...|  639|AGGRAVATED HARASS...|       COMPLETED|MISDEMEANOR|    BRONX|             null|              STREET|N.Y. POLICE DEPT|                0|    null|      null|       null|   1007027|    245405|         18-24|    BLACK|       F|            null| 40.84023413800003|-73.91768411399994|(40.8402341380000...|   PATROL BORO BRONX|        null|        18-24|         BLACK|      F|\n",
            "| 241602326|  12/25/2019|    23:00:00|  12/26/2019|    14:25:00|         20|12/26/2019|  341|       PETIT LARCENY|  321|LARCENY,PETIT FRO...|       COMPLETED|MISDEMEANOR|MANHATTAN|             null|              STREET|N.Y. POLICE DEPT|                0|    null|      null|       null|    987147|    220853|          null|     null|    null|            null| 40.77287456000005|-73.98954212299998|(40.7728745600000...|PATROL BORO MAN N...|        null|        45-64|         BLACK|      M|\n",
            "+----------+------------+------------+------------+------------+-----------+----------+-----+--------------------+-----+--------------------+----------------+-----------+---------+-----------------+--------------------+----------------+-----------------+--------+----------+-----------+----------+----------+--------------+---------+--------+----------------+------------------+------------------+--------------------+--------------------+------------+-------------+--------------+-------+\n",
            "only showing top 10 rows\n",
            "\n"
          ]
        }
      ],
      "source": [
        "df.show(n=10)"
      ]
    },
    {
      "cell_type": "markdown",
      "metadata": {
        "id": "YJDJQOKfDMKR"
      },
      "source": [
        "Check for duplicate values in dataset"
      ]
    },
    {
      "cell_type": "code",
      "execution_count": null,
      "metadata": {
        "colab": {
          "base_uri": "https://localhost:8080/"
        },
        "id": "5BO82obd0N6u",
        "outputId": "104c8f04-e61b-4b8e-8132-046518f73d29"
      },
      "outputs": [
        {
          "data": {
            "text/plain": [
              "7375993"
            ]
          },
          "execution_count": 14,
          "metadata": {},
          "output_type": "execute_result"
        }
      ],
      "source": [
        "df.distinct().count()"
      ]
    },
    {
      "cell_type": "code",
      "execution_count": null,
      "metadata": {
        "colab": {
          "base_uri": "https://localhost:8080/"
        },
        "id": "fcpfFUg4F6_Q",
        "outputId": "39dee38f-85fb-4363-f5c7-8532f361b857"
      },
      "outputs": [
        {
          "name": "stdout",
          "output_type": "stream",
          "text": [
            "Using 'NYPD Complaint Data Historic' in file ./qgea-i56i.tsv.gz of size 475.48 MB\n"
          ]
        }
      ],
      "source": [
        "# Download the full 'NYPD Complaint Data Historic' dataset.\n",
        "# Note that the downloaded full dataset file is about 380 MB in size! Use the\n",
        "# alternative data file with 10,000 rows that is included in the repository if\n",
        "# you do not want to download the full data file.\n",
        "\n",
        "import gzip\n",
        "import humanfriendly\n",
        "import os\n",
        "\n",
        "dataset = Socrata().dataset('qgea-i56i')\n",
        "\n",
        "# By default, this example uses a small sample of the full dataset that\n",
        "# is included in the 'data' subfolder within this repository.\n",
        "#datafile = './data/qgea-i56i.tsv.gz'\n",
        "\n",
        "# Remove the comment for this line if you want to use the full dataset.\n",
        "datafile = './qgea-i56i.tsv.gz'\n",
        "\n",
        "\n",
        "# Download file only if it does not exist already.\n",
        "if not os.path.isfile(datafile):\n",
        "    with gzip.open(datafile, 'wb') as f:\n",
        "        print('Downloading ...\\n')\n",
        "        dataset.write(f)\n",
        "\n",
        "\n",
        "fsize = humanfriendly.format_size(os.stat(datafile).st_size)\n",
        "print(\"Using '{}' in file {} of size {}\".format(dataset.name, datafile, fsize))"
      ]
    },
    {
      "cell_type": "code",
      "execution_count": null,
      "metadata": {
        "id": "MPyn2XQRHBxq"
      },
      "outputs": [],
      "source": [
        "# Due to the size of the full dataset file, we make use of openclean's\n",
        "# stream operator to avoid having to load the dataset into main-memory.\n",
        "\n",
        "from openclean.pipeline import stream\n",
        "\n",
        "ds = stream(datafile)"
      ]
    },
    {
      "cell_type": "code",
      "execution_count": null,
      "metadata": {
        "colab": {
          "background_save": true
        },
        "id": "WNA-Uy5LHDqz"
      },
      "outputs": [],
      "source": [
        "# Profile the resulting dataset view using the default data profiler.\n",
        "\n",
        "from openclean.profiling.column import DefaultColumnProfiler\n",
        "\n",
        "profiles = ds.profile(default_profiler=DefaultColumnProfiler)"
      ]
    },
    {
      "cell_type": "code",
      "execution_count": null,
      "metadata": {
        "colab": {
          "background_save": true
        },
        "id": "csBM29OTHD1q",
        "outputId": "88db8e3d-ea41-4c54-b506-70e0f9246058"
      },
      "outputs": [
        {
          "data": {
            "text/html": [
              "<div>\n",
              "<style scoped>\n",
              "    .dataframe tbody tr th:only-of-type {\n",
              "        vertical-align: middle;\n",
              "    }\n",
              "\n",
              "    .dataframe tbody tr th {\n",
              "        vertical-align: top;\n",
              "    }\n",
              "\n",
              "    .dataframe thead th {\n",
              "        text-align: right;\n",
              "    }\n",
              "</style>\n",
              "<table border=\"1\" class=\"dataframe\">\n",
              "  <thead>\n",
              "    <tr style=\"text-align: right;\">\n",
              "      <th></th>\n",
              "      <th>total</th>\n",
              "      <th>empty</th>\n",
              "      <th>distinct</th>\n",
              "      <th>uniqueness</th>\n",
              "      <th>entropy</th>\n",
              "    </tr>\n",
              "  </thead>\n",
              "  <tbody>\n",
              "    <tr>\n",
              "      <th>CMPLNT_NUM</th>\n",
              "      <td>7375993</td>\n",
              "      <td>0</td>\n",
              "      <td>7373143</td>\n",
              "      <td>9.996136e-01</td>\n",
              "      <td>22.813633</td>\n",
              "    </tr>\n",
              "    <tr>\n",
              "      <th>CMPLNT_FR_DT</th>\n",
              "      <td>7375993</td>\n",
              "      <td>655</td>\n",
              "      <td>8606</td>\n",
              "      <td>1.166862e-03</td>\n",
              "      <td>12.425578</td>\n",
              "    </tr>\n",
              "    <tr>\n",
              "      <th>CMPLNT_FR_TM</th>\n",
              "      <td>7375993</td>\n",
              "      <td>48</td>\n",
              "      <td>1441</td>\n",
              "      <td>1.953648e-04</td>\n",
              "      <td>8.136466</td>\n",
              "    </tr>\n",
              "    <tr>\n",
              "      <th>CMPLNT_TO_DT</th>\n",
              "      <td>7375993</td>\n",
              "      <td>1704204</td>\n",
              "      <td>6825</td>\n",
              "      <td>1.203324e-03</td>\n",
              "      <td>12.417984</td>\n",
              "    </tr>\n",
              "    <tr>\n",
              "      <th>CMPLNT_TO_TM</th>\n",
              "      <td>7375993</td>\n",
              "      <td>1699541</td>\n",
              "      <td>1441</td>\n",
              "      <td>2.538558e-04</td>\n",
              "      <td>8.862856</td>\n",
              "    </tr>\n",
              "    <tr>\n",
              "      <th>ADDR_PCT_CD</th>\n",
              "      <td>7375993</td>\n",
              "      <td>2166</td>\n",
              "      <td>77</td>\n",
              "      <td>1.044234e-05</td>\n",
              "      <td>6.148690</td>\n",
              "    </tr>\n",
              "    <tr>\n",
              "      <th>RPT_DT</th>\n",
              "      <td>7375993</td>\n",
              "      <td>0</td>\n",
              "      <td>5479</td>\n",
              "      <td>7.428152e-04</td>\n",
              "      <td>12.405384</td>\n",
              "    </tr>\n",
              "    <tr>\n",
              "      <th>KY_CD</th>\n",
              "      <td>7375993</td>\n",
              "      <td>0</td>\n",
              "      <td>74</td>\n",
              "      <td>1.003255e-05</td>\n",
              "      <td>4.170727</td>\n",
              "    </tr>\n",
              "    <tr>\n",
              "      <th>OFNS_DESC</th>\n",
              "      <td>7375993</td>\n",
              "      <td>18823</td>\n",
              "      <td>71</td>\n",
              "      <td>9.650450e-06</td>\n",
              "      <td>4.006583</td>\n",
              "    </tr>\n",
              "    <tr>\n",
              "      <th>PD_CD</th>\n",
              "      <td>7375993</td>\n",
              "      <td>6278</td>\n",
              "      <td>432</td>\n",
              "      <td>5.861828e-05</td>\n",
              "      <td>5.913459</td>\n",
              "    </tr>\n",
              "    <tr>\n",
              "      <th>PD_DESC</th>\n",
              "      <td>7375993</td>\n",
              "      <td>6278</td>\n",
              "      <td>422</td>\n",
              "      <td>5.726137e-05</td>\n",
              "      <td>5.904814</td>\n",
              "    </tr>\n",
              "    <tr>\n",
              "      <th>CRM_ATPT_CPTD_CD</th>\n",
              "      <td>7375993</td>\n",
              "      <td>7</td>\n",
              "      <td>2</td>\n",
              "      <td>2.711502e-07</td>\n",
              "      <td>0.124481</td>\n",
              "    </tr>\n",
              "    <tr>\n",
              "      <th>LAW_CAT_CD</th>\n",
              "      <td>7375993</td>\n",
              "      <td>0</td>\n",
              "      <td>3</td>\n",
              "      <td>4.067249e-07</td>\n",
              "      <td>1.373922</td>\n",
              "    </tr>\n",
              "    <tr>\n",
              "      <th>BORO_NM</th>\n",
              "      <td>7375993</td>\n",
              "      <td>11329</td>\n",
              "      <td>5</td>\n",
              "      <td>6.789176e-07</td>\n",
              "      <td>2.162442</td>\n",
              "    </tr>\n",
              "    <tr>\n",
              "      <th>LOC_OF_OCCUR_DESC</th>\n",
              "      <td>7375993</td>\n",
              "      <td>1543800</td>\n",
              "      <td>5</td>\n",
              "      <td>8.573104e-07</td>\n",
              "      <td>1.241785</td>\n",
              "    </tr>\n",
              "    <tr>\n",
              "      <th>PREM_TYP_DESC</th>\n",
              "      <td>7375993</td>\n",
              "      <td>40745</td>\n",
              "      <td>74</td>\n",
              "      <td>1.008828e-05</td>\n",
              "      <td>3.579655</td>\n",
              "    </tr>\n",
              "    <tr>\n",
              "      <th>JURIS_DESC</th>\n",
              "      <td>7375993</td>\n",
              "      <td>0</td>\n",
              "      <td>25</td>\n",
              "      <td>3.389374e-06</td>\n",
              "      <td>0.668693</td>\n",
              "    </tr>\n",
              "    <tr>\n",
              "      <th>JURISDICTION_CODE</th>\n",
              "      <td>7375993</td>\n",
              "      <td>6278</td>\n",
              "      <td>25</td>\n",
              "      <td>3.392261e-06</td>\n",
              "      <td>0.668795</td>\n",
              "    </tr>\n",
              "    <tr>\n",
              "      <th>PARKS_NM</th>\n",
              "      <td>7375993</td>\n",
              "      <td>3229345</td>\n",
              "      <td>1206</td>\n",
              "      <td>2.908373e-04</td>\n",
              "      <td>0.110850</td>\n",
              "    </tr>\n",
              "    <tr>\n",
              "      <th>HADEVELOPT</th>\n",
              "      <td>7375993</td>\n",
              "      <td>7029181</td>\n",
              "      <td>279</td>\n",
              "      <td>8.044704e-04</td>\n",
              "      <td>7.277703</td>\n",
              "    </tr>\n",
              "    <tr>\n",
              "      <th>HOUSING_PSA</th>\n",
              "      <td>7375993</td>\n",
              "      <td>1241432</td>\n",
              "      <td>5103</td>\n",
              "      <td>8.318444e-04</td>\n",
              "      <td>1.216803</td>\n",
              "    </tr>\n",
              "    <tr>\n",
              "      <th>X_COORD_CD</th>\n",
              "      <td>7375993</td>\n",
              "      <td>17339</td>\n",
              "      <td>71343</td>\n",
              "      <td>9.695115e-03</td>\n",
              "      <td>14.595751</td>\n",
              "    </tr>\n",
              "    <tr>\n",
              "      <th>Y_COORD_CD</th>\n",
              "      <td>7375993</td>\n",
              "      <td>17339</td>\n",
              "      <td>73933</td>\n",
              "      <td>1.004708e-02</td>\n",
              "      <td>14.744968</td>\n",
              "    </tr>\n",
              "    <tr>\n",
              "      <th>SUSP_AGE_GROUP</th>\n",
              "      <td>7375993</td>\n",
              "      <td>4795235</td>\n",
              "      <td>111</td>\n",
              "      <td>4.301062e-05</td>\n",
              "      <td>2.113260</td>\n",
              "    </tr>\n",
              "    <tr>\n",
              "      <th>SUSP_RACE</th>\n",
              "      <td>7375993</td>\n",
              "      <td>3426694</td>\n",
              "      <td>8</td>\n",
              "      <td>2.025676e-06</td>\n",
              "      <td>2.224526</td>\n",
              "    </tr>\n",
              "    <tr>\n",
              "      <th>SUSP_SEX</th>\n",
              "      <td>7375993</td>\n",
              "      <td>3560008</td>\n",
              "      <td>3</td>\n",
              "      <td>7.861666e-07</td>\n",
              "      <td>1.323637</td>\n",
              "    </tr>\n",
              "    <tr>\n",
              "      <th>TRANSIT_DISTRICT</th>\n",
              "      <td>7375993</td>\n",
              "      <td>7212494</td>\n",
              "      <td>12</td>\n",
              "      <td>7.339494e-05</td>\n",
              "      <td>3.437520</td>\n",
              "    </tr>\n",
              "    <tr>\n",
              "      <th>Latitude</th>\n",
              "      <td>7375993</td>\n",
              "      <td>17339</td>\n",
              "      <td>205539</td>\n",
              "      <td>2.793160e-02</td>\n",
              "      <td>15.828371</td>\n",
              "    </tr>\n",
              "    <tr>\n",
              "      <th>Longitude</th>\n",
              "      <td>7375993</td>\n",
              "      <td>17339</td>\n",
              "      <td>201311</td>\n",
              "      <td>2.735704e-02</td>\n",
              "      <td>15.797580</td>\n",
              "    </tr>\n",
              "    <tr>\n",
              "      <th>Lat_Lon</th>\n",
              "      <td>7375993</td>\n",
              "      <td>17339</td>\n",
              "      <td>198552</td>\n",
              "      <td>2.698211e-02</td>\n",
              "      <td>15.677861</td>\n",
              "    </tr>\n",
              "    <tr>\n",
              "      <th>PATROL_BORO</th>\n",
              "      <td>7375993</td>\n",
              "      <td>6735</td>\n",
              "      <td>8</td>\n",
              "      <td>1.085591e-06</td>\n",
              "      <td>2.898560</td>\n",
              "    </tr>\n",
              "    <tr>\n",
              "      <th>STATION_NAME</th>\n",
              "      <td>7375993</td>\n",
              "      <td>7212494</td>\n",
              "      <td>372</td>\n",
              "      <td>2.275243e-03</td>\n",
              "      <td>7.617040</td>\n",
              "    </tr>\n",
              "    <tr>\n",
              "      <th>VIC_AGE_GROUP</th>\n",
              "      <td>7375993</td>\n",
              "      <td>1638445</td>\n",
              "      <td>202</td>\n",
              "      <td>3.520668e-05</td>\n",
              "      <td>2.201239</td>\n",
              "    </tr>\n",
              "    <tr>\n",
              "      <th>VIC_RACE</th>\n",
              "      <td>7375993</td>\n",
              "      <td>309</td>\n",
              "      <td>8</td>\n",
              "      <td>1.084645e-06</td>\n",
              "      <td>2.323077</td>\n",
              "    </tr>\n",
              "    <tr>\n",
              "      <th>VIC_SEX</th>\n",
              "      <td>7375993</td>\n",
              "      <td>308</td>\n",
              "      <td>5</td>\n",
              "      <td>6.779031e-07</td>\n",
              "      <td>1.846472</td>\n",
              "    </tr>\n",
              "  </tbody>\n",
              "</table>\n",
              "</div>"
            ],
            "text/plain": [
              "                     total    empty  distinct    uniqueness    entropy\n",
              "CMPLNT_NUM         7375993        0   7373143  9.996136e-01  22.813633\n",
              "CMPLNT_FR_DT       7375993      655      8606  1.166862e-03  12.425578\n",
              "CMPLNT_FR_TM       7375993       48      1441  1.953648e-04   8.136466\n",
              "CMPLNT_TO_DT       7375993  1704204      6825  1.203324e-03  12.417984\n",
              "CMPLNT_TO_TM       7375993  1699541      1441  2.538558e-04   8.862856\n",
              "ADDR_PCT_CD        7375993     2166        77  1.044234e-05   6.148690\n",
              "RPT_DT             7375993        0      5479  7.428152e-04  12.405384\n",
              "KY_CD              7375993        0        74  1.003255e-05   4.170727\n",
              "OFNS_DESC          7375993    18823        71  9.650450e-06   4.006583\n",
              "PD_CD              7375993     6278       432  5.861828e-05   5.913459\n",
              "PD_DESC            7375993     6278       422  5.726137e-05   5.904814\n",
              "CRM_ATPT_CPTD_CD   7375993        7         2  2.711502e-07   0.124481\n",
              "LAW_CAT_CD         7375993        0         3  4.067249e-07   1.373922\n",
              "BORO_NM            7375993    11329         5  6.789176e-07   2.162442\n",
              "LOC_OF_OCCUR_DESC  7375993  1543800         5  8.573104e-07   1.241785\n",
              "PREM_TYP_DESC      7375993    40745        74  1.008828e-05   3.579655\n",
              "JURIS_DESC         7375993        0        25  3.389374e-06   0.668693\n",
              "JURISDICTION_CODE  7375993     6278        25  3.392261e-06   0.668795\n",
              "PARKS_NM           7375993  3229345      1206  2.908373e-04   0.110850\n",
              "HADEVELOPT         7375993  7029181       279  8.044704e-04   7.277703\n",
              "HOUSING_PSA        7375993  1241432      5103  8.318444e-04   1.216803\n",
              "X_COORD_CD         7375993    17339     71343  9.695115e-03  14.595751\n",
              "Y_COORD_CD         7375993    17339     73933  1.004708e-02  14.744968\n",
              "SUSP_AGE_GROUP     7375993  4795235       111  4.301062e-05   2.113260\n",
              "SUSP_RACE          7375993  3426694         8  2.025676e-06   2.224526\n",
              "SUSP_SEX           7375993  3560008         3  7.861666e-07   1.323637\n",
              "TRANSIT_DISTRICT   7375993  7212494        12  7.339494e-05   3.437520\n",
              "Latitude           7375993    17339    205539  2.793160e-02  15.828371\n",
              "Longitude          7375993    17339    201311  2.735704e-02  15.797580\n",
              "Lat_Lon            7375993    17339    198552  2.698211e-02  15.677861\n",
              "PATROL_BORO        7375993     6735         8  1.085591e-06   2.898560\n",
              "STATION_NAME       7375993  7212494       372  2.275243e-03   7.617040\n",
              "VIC_AGE_GROUP      7375993  1638445       202  3.520668e-05   2.201239\n",
              "VIC_RACE           7375993      309         8  1.084645e-06   2.323077\n",
              "VIC_SEX            7375993      308         5  6.779031e-07   1.846472"
            ]
          },
          "execution_count": null,
          "metadata": {},
          "output_type": "execute_result"
        }
      ],
      "source": [
        "# Print overview of profiling results.\n",
        "\n",
        "profiles.stats()"
      ]
    },
    {
      "cell_type": "markdown",
      "metadata": {
        "id": "9d390PqSBK68"
      },
      "source": [
        "# **Data Cleaning**"
      ]
    },
    {
      "cell_type": "markdown",
      "metadata": {
        "id": "ygOCZQiaG97V"
      },
      "source": [
        "## We see that the columns `X_COORD_CD`,`Y_COORD_CD`,`Latitude`, `Longitude` conveys the same data as `Lat_Lon`.\n",
        "\n",
        "#### Hence, we drop those columns and keep only `Lat_Lon` column in our cleaned dataset."
      ]
    },
    {
      "cell_type": "code",
      "execution_count": null,
      "metadata": {
        "id": "r51qg2Ji_Ajv"
      },
      "outputs": [],
      "source": [
        "df = df.drop('X_COORD_CD','Y_COORD_CD','Latitude','Longitude')"
      ]
    },
    {
      "cell_type": "code",
      "execution_count": null,
      "metadata": {
        "colab": {
          "base_uri": "https://localhost:8080/"
        },
        "id": "I52xg3GV_jh0",
        "outputId": "63575a82-4c37-4162-ea26-0ed014b4e903"
      },
      "outputs": [
        {
          "data": {
            "text/plain": [
              "['CMPLNT_NUM',\n",
              " 'CMPLNT_FR_DT',\n",
              " 'CMPLNT_FR_TM',\n",
              " 'CMPLNT_TO_DT',\n",
              " 'CMPLNT_TO_TM',\n",
              " 'ADDR_PCT_CD',\n",
              " 'RPT_DT',\n",
              " 'KY_CD',\n",
              " 'OFNS_DESC',\n",
              " 'PD_CD',\n",
              " 'PD_DESC',\n",
              " 'CRM_ATPT_CPTD_CD',\n",
              " 'LAW_CAT_CD',\n",
              " 'BORO_NM',\n",
              " 'LOC_OF_OCCUR_DESC',\n",
              " 'PREM_TYP_DESC',\n",
              " 'JURIS_DESC',\n",
              " 'JURISDICTION_CODE',\n",
              " 'PARKS_NM',\n",
              " 'HADEVELOPT',\n",
              " 'HOUSING_PSA',\n",
              " 'SUSP_AGE_GROUP',\n",
              " 'SUSP_RACE',\n",
              " 'SUSP_SEX',\n",
              " 'TRANSIT_DISTRICT',\n",
              " 'Lat_Lon',\n",
              " 'PATROL_BORO',\n",
              " 'STATION_NAME',\n",
              " 'VIC_AGE_GROUP',\n",
              " 'VIC_RACE',\n",
              " 'VIC_SEX']"
            ]
          },
          "execution_count": 12,
          "metadata": {},
          "output_type": "execute_result"
        }
      ],
      "source": [
        "df.columns"
      ]
    },
    {
      "cell_type": "markdown",
      "metadata": {
        "id": "xdJS_wPiJaUN"
      },
      "source": [
        "#### Removing all the **duplicate** entries"
      ]
    },
    {
      "cell_type": "code",
      "execution_count": null,
      "metadata": {
        "id": "S2iLHt_GAVJh"
      },
      "outputs": [],
      "source": [
        "df = df.drop_duplicates()"
      ]
    },
    {
      "cell_type": "markdown",
      "metadata": {
        "id": "O4zgb1QPJ02z"
      },
      "source": [
        "#### **Checking** if the complaint number is unique or not"
      ]
    },
    {
      "cell_type": "code",
      "execution_count": null,
      "metadata": {
        "colab": {
          "base_uri": "https://localhost:8080/"
        },
        "id": "R0o2wLm1h4Bo",
        "outputId": "d73b1724-e71e-4e9e-bce1-5deab7d6038c"
      },
      "outputs": [
        {
          "data": {
            "text/plain": [
              "7373143"
            ]
          },
          "execution_count": 17,
          "metadata": {},
          "output_type": "execute_result"
        }
      ],
      "source": [
        "df.select('CMPLNT_NUM').distinct().count()"
      ]
    },
    {
      "cell_type": "markdown",
      "metadata": {
        "id": "M-_iiUuEJ_5c"
      },
      "source": [
        "#### As we can see `CMPLNT_NUM` should have been unique, but it is not.\n",
        "#### Let's see what are the duplicate values."
      ]
    },
    {
      "cell_type": "code",
      "execution_count": null,
      "metadata": {
        "colab": {
          "base_uri": "https://localhost:8080/"
        },
        "id": "869tZgVki68U",
        "outputId": "90c0b92c-c826-4dbd-d5bc-58a3ef49331c"
      },
      "outputs": [
        {
          "data": {
            "text/plain": [
              "2850"
            ]
          },
          "execution_count": 18,
          "metadata": {},
          "output_type": "execute_result"
        }
      ],
      "source": [
        "df1 = df.groupBy('CMPLNT_NUM').count().filter(\"count > 1\")\n",
        "df1.drop('count').count()"
      ]
    },
    {
      "cell_type": "code",
      "execution_count": null,
      "metadata": {
        "colab": {
          "base_uri": "https://localhost:8080/"
        },
        "id": "WgA4Q88SoGaW",
        "outputId": "db600bb8-586d-4eae-a76b-891739b05178"
      },
      "outputs": [
        {
          "name": "stdout",
          "output_type": "stream",
          "text": [
            "+----------+-----+\n",
            "|CMPLNT_NUM|count|\n",
            "+----------+-----+\n",
            "| 100490719|    2|\n",
            "| 100509703|    2|\n",
            "| 100519696|    2|\n",
            "| 100757966|    2|\n",
            "| 101031690|    2|\n",
            "| 101337283|    2|\n",
            "| 101364555|    2|\n",
            "| 101422279|    2|\n",
            "| 101500555|    2|\n",
            "| 101897138|    2|\n",
            "+----------+-----+\n",
            "only showing top 10 rows\n",
            "\n"
          ]
        }
      ],
      "source": [
        "df1.sort('CMPLNT_NUM').show(n = 10)"
      ]
    },
    {
      "cell_type": "markdown",
      "metadata": {
        "id": "xIXIyTg_LSGf"
      },
      "source": [
        "#### Check for complaint number `100509703`"
      ]
    },
    {
      "cell_type": "code",
      "execution_count": null,
      "metadata": {
        "colab": {
          "base_uri": "https://localhost:8080/"
        },
        "id": "SuNyl3VjmbXH",
        "outputId": "fc398e49-9a0c-4a1e-de11-4574de7e4ecb"
      },
      "outputs": [
        {
          "name": "stdout",
          "output_type": "stream",
          "text": [
            "+----------+------------+------------+------------+------------+-----------+----------+-----+--------------------+-----+--------------------+----------------+-----------+---------+-----------------+-------------+----------------+-----------------+--------+----------+-----------+--------------+--------------+--------+----------------+--------------------+------------+-------------+--------------+-------+\n",
            "|CMPLNT_NUM|CMPLNT_FR_DT|CMPLNT_FR_TM|CMPLNT_TO_DT|CMPLNT_TO_TM|ADDR_PCT_CD|    RPT_DT|KY_CD|           OFNS_DESC|PD_CD|             PD_DESC|CRM_ATPT_CPTD_CD| LAW_CAT_CD|  BORO_NM|LOC_OF_OCCUR_DESC|PREM_TYP_DESC|      JURIS_DESC|JURISDICTION_CODE|PARKS_NM|HADEVELOPT|HOUSING_PSA|SUSP_AGE_GROUP|     SUSP_RACE|SUSP_SEX|TRANSIT_DISTRICT|         PATROL_BORO|STATION_NAME|VIC_AGE_GROUP|      VIC_RACE|VIC_SEX|\n",
            "+----------+------------+------------+------------+------------+-----------+----------+-----+--------------------+-----+--------------------+----------------+-----------+---------+-----------------+-------------+----------------+-----------------+--------+----------+-----------+--------------+--------------+--------+----------------+--------------------+------------+-------------+--------------+-------+\n",
            "| 100509703|  06/22/2019|    01:16:00|  06/22/2019|    01:20:00|         83|06/22/2019|  344|ASSAULT 3 & RELAT...|  101|           ASSAULT 3|       COMPLETED|MISDEMEANOR| BROOKLYN|         FRONT OF|       STREET|N.Y. POLICE DEPT|                0|    null|      null|       null|       UNKNOWN|       UNKNOWN|       U|            null|PATROL BORO BKLYN...|        null|        25-44|WHITE HISPANIC|      M|\n",
            "| 100509703|  01/29/2016|    03:00:00|  01/29/2016|    03:10:00|         32|03/02/2016|  578|       HARRASSMENT 2|  638|HARASSMENT,SUBD 3...|       COMPLETED|  VIOLATION|MANHATTAN|         FRONT OF|       STREET|N.Y. POLICE DEPT|                0|    null|      null|         NA|         45-64|WHITE HISPANIC|       M|            null|PATROL BORO MAN N...|        null|        45-64|WHITE HISPANIC|      M|\n",
            "+----------+------------+------------+------------+------------+-----------+----------+-----+--------------------+-----+--------------------+----------------+-----------+---------+-----------------+-------------+----------------+-----------------+--------+----------+-----------+--------------+--------------+--------+----------------+--------------------+------------+-------------+--------------+-------+\n",
            "\n"
          ]
        }
      ],
      "source": [
        "df.filter('CMPLNT_NUM = 100509703').show()"
      ]
    },
    {
      "cell_type": "markdown",
      "metadata": {
        "id": "XG8tNFuBT2YJ"
      },
      "source": [
        "#### We understand, that complaint number is not specifically unique. The dataset has rows with duplicated complaint numbers having unique information for all other columns. Thus, we cannot drop the entries with duplicated complaint numbers."
      ]
    },
    {
      "cell_type": "markdown",
      "metadata": {
        "id": "n96nZ6Pjq9k1"
      },
      "source": [
        "## Find Count of Null, None, NaN of All DataFrame Columns"
      ]
    },
    {
      "cell_type": "code",
      "execution_count": null,
      "metadata": {
        "colab": {
          "base_uri": "https://localhost:8080/"
        },
        "id": "mxelZ1tgqB74",
        "outputId": "f663128d-bade-4fa8-dcbd-53c1fa4bd0cc"
      },
      "outputs": [
        {
          "name": "stdout",
          "output_type": "stream",
          "text": [
            "+----------+------------+------------+------------+------------+-----------+------+-----+---------+-----+-------+----------------+----------+-------+-----------------+-------------+----------+-----------------+--------+----------+-----------+--------------+---------+--------+----------------+-----------+------------+-------------+--------+-------+\n",
            "|CMPLNT_NUM|CMPLNT_FR_DT|CMPLNT_FR_TM|CMPLNT_TO_DT|CMPLNT_TO_TM|ADDR_PCT_CD|RPT_DT|KY_CD|OFNS_DESC|PD_CD|PD_DESC|CRM_ATPT_CPTD_CD|LAW_CAT_CD|BORO_NM|LOC_OF_OCCUR_DESC|PREM_TYP_DESC|JURIS_DESC|JURISDICTION_CODE|PARKS_NM|HADEVELOPT|HOUSING_PSA|SUSP_AGE_GROUP|SUSP_RACE|SUSP_SEX|TRANSIT_DISTRICT|PATROL_BORO|STATION_NAME|VIC_AGE_GROUP|VIC_RACE|VIC_SEX|\n",
            "+----------+------------+------------+------------+------------+-----------+------+-----+---------+-----+-------+----------------+----------+-------+-----------------+-------------+----------+-----------------+--------+----------+-----------+--------------+---------+--------+----------------+-----------+------------+-------------+--------+-------+\n",
            "|         0|         655|          48|     1704204|     1699541|       2166|     0|    0|    18823| 6278|   6278|               7|         0|  11329|          1543800|        40745|         0|             6278| 3229345|   7029181|    1241432|       4795235|  3426694| 3560008|         7212494|       6735|     7212494|      1638445|     309|    308|\n",
            "+----------+------------+------------+------------+------------+-----------+------+-----+---------+-----+-------+----------------+----------+-------+-----------------+-------------+----------+-----------------+--------+----------+-----------+--------------+---------+--------+----------------+-----------+------------+-------------+--------+-------+\n",
            "\n"
          ]
        }
      ],
      "source": [
        "df.select([count(when(isnan(c) | col(c).isNull(), c)).alias(c) for c in df.columns]\n",
        "   ).show()"
      ]
    },
    {
      "cell_type": "markdown",
      "metadata": {
        "id": "Wt7SOaqwSIfw"
      },
      "source": [
        "#### Get top 5 rows where complaint from Date is NaN"
      ]
    },
    {
      "cell_type": "code",
      "execution_count": null,
      "metadata": {
        "colab": {
          "base_uri": "https://localhost:8080/"
        },
        "id": "OSBt5ZBcpfv2",
        "outputId": "792aa563-44f7-43d5-8bd7-acbf04321267"
      },
      "outputs": [
        {
          "name": "stdout",
          "output_type": "stream",
          "text": [
            "+----------+------------+------------+------------+------------+-----------+----------+-----+--------------------+-----+--------------------+----------------+-----------+---------+-----------------+--------------------+-------------------+-----------------+--------+----------+-----------+--------------+--------------+--------+----------------+--------------------+------------+-------------+--------------------+-------+\n",
            "|CMPLNT_NUM|CMPLNT_FR_DT|CMPLNT_FR_TM|CMPLNT_TO_DT|CMPLNT_TO_TM|ADDR_PCT_CD|    RPT_DT|KY_CD|           OFNS_DESC|PD_CD|             PD_DESC|CRM_ATPT_CPTD_CD| LAW_CAT_CD|  BORO_NM|LOC_OF_OCCUR_DESC|       PREM_TYP_DESC|         JURIS_DESC|JURISDICTION_CODE|PARKS_NM|HADEVELOPT|HOUSING_PSA|SUSP_AGE_GROUP|     SUSP_RACE|SUSP_SEX|TRANSIT_DISTRICT|         PATROL_BORO|STATION_NAME|VIC_AGE_GROUP|            VIC_RACE|VIC_SEX|\n",
            "+----------+------------+------------+------------+------------+-----------+----------+-----+--------------------+-----+--------------------+----------------+-----------+---------+-----------------+--------------------+-------------------+-----------------+--------+----------+-----------+--------------+--------------+--------+----------------+--------------------+------------+-------------+--------------------+-------+\n",
            "| 687564036|        null|    17:00:00|  06/23/2014|    17:05:00|         33|06/23/2014|  105|             ROBBERY|  366|     ROBBERY,BICYCLE|       COMPLETED|     FELONY|MANHATTAN|          REAR OF|     PARK/PLAYGROUND|   N.Y. POLICE DEPT|                0|    null|      null|         NA|          null|         BLACK|       M|            null|PATROL BORO MAN N...|        null|          <18|               BLACK|      M|\n",
            "| 756628816|        null|    11:00:00|        null|        null|         40|03/27/2013|  578|       HARRASSMENT 2|  638|HARASSMENT,SUBD 3...|       COMPLETED|  VIOLATION|    BRONX|           INSIDE|RESIDENCE - PUBLI...|N.Y. HOUSING POLICE|                2|      NA|   JACKSON|        794|          null|WHITE HISPANIC|       F|            null|   PATROL BORO BRONX|        null|        45-64|      WHITE HISPANIC|      F|\n",
            "| 277984145|        null|    17:00:00|  04/11/2013|    17:00:00|          7|04/11/2013|  351|CRIMINAL MISCHIEF...|  254|MISCHIEF, CRIMINA...|       COMPLETED|MISDEMEANOR|MANHATTAN|           INSIDE| COMMERCIAL BUILDING|   N.Y. POLICE DEPT|                0|      NA|      null|         NA|          null|          null|    null|            null|PATROL BORO MAN S...|        null|         null|             UNKNOWN|      D|\n",
            "| 663810445|        null|    20:45:00|  03/01/2013|    21:00:00|        111|03/02/2013|  361|OFF. AGNST PUB OR...|  639|AGGRAVATED HARASS...|       COMPLETED|MISDEMEANOR|   QUEENS|         FRONT OF|     RESIDENCE-HOUSE|   N.Y. POLICE DEPT|                0|      NA|      null|         NA|          null|       UNKNOWN|       M|            null|PATROL BORO QUEEN...|        null|          65+|ASIAN / PACIFIC I...|      F|\n",
            "| 800601490|        null|    08:00:00|        null|        null|        108|02/22/2011|  344|ASSAULT 3 & RELAT...|  101|           ASSAULT 3|       COMPLETED|MISDEMEANOR|   QUEENS|           INSIDE|RESIDENCE - APT. ...|   N.Y. POLICE DEPT|                0|      NA|      null|         NA|         25-44|         WHITE|       F|            null|PATROL BORO QUEEN...|        null|        25-44|               WHITE|      M|\n",
            "+----------+------------+------------+------------+------------+-----------+----------+-----+--------------------+-----+--------------------+----------------+-----------+---------+-----------------+--------------------+-------------------+-----------------+--------+----------+-----------+--------------+--------------+--------+----------------+--------------------+------------+-------------+--------------------+-------+\n",
            "only showing top 5 rows\n",
            "\n"
          ]
        }
      ],
      "source": [
        "df.where(col('CMPLNT_FR_DT').isNull()).show(n=5)"
      ]
    },
    {
      "cell_type": "markdown",
      "metadata": {
        "id": "0THJK1JWSgtT"
      },
      "source": [
        "### Get rows where either complaint from date or complaint from time is null"
      ]
    },
    {
      "cell_type": "code",
      "execution_count": null,
      "metadata": {
        "colab": {
          "base_uri": "https://localhost:8080/"
        },
        "id": "hu_HmwGjTPF9",
        "outputId": "8809040b-4d80-4ef1-d8d7-654a4a8c24d6"
      },
      "outputs": [
        {
          "name": "stdout",
          "output_type": "stream",
          "text": [
            "+----------+------------+------------+------------+------------+-----------+----------+-----+--------------------+-----+--------------------+----------------+-----------+---------+-----------------+--------------------+-------------------+-----------------+--------+----------+-----------+----------+----------+--------------+---------+--------+----------------+------------+-------------+--------------------+--------------------+------------+-------------+--------------------+-------+\n",
            "|CMPLNT_NUM|CMPLNT_FR_DT|CMPLNT_FR_TM|CMPLNT_TO_DT|CMPLNT_TO_TM|ADDR_PCT_CD|    RPT_DT|KY_CD|           OFNS_DESC|PD_CD|             PD_DESC|CRM_ATPT_CPTD_CD| LAW_CAT_CD|  BORO_NM|LOC_OF_OCCUR_DESC|       PREM_TYP_DESC|         JURIS_DESC|JURISDICTION_CODE|PARKS_NM|HADEVELOPT|HOUSING_PSA|X_COORD_CD|Y_COORD_CD|SUSP_AGE_GROUP|SUSP_RACE|SUSP_SEX|TRANSIT_DISTRICT|    Latitude|    Longitude|             Lat_Lon|         PATROL_BORO|STATION_NAME|VIC_AGE_GROUP|            VIC_RACE|VIC_SEX|\n",
            "+----------+------------+------------+------------+------------+-----------+----------+-----+--------------------+-----+--------------------+----------------+-----------+---------+-----------------+--------------------+-------------------+-----------------+--------+----------+-----------+----------+----------+--------------+---------+--------+----------------+------------+-------------+--------------------+--------------------+------------+-------------+--------------------+-------+\n",
            "| 157926465|        null|    08:45:00|  10/30/2013|    09:00:00|        108|11/21/2013|  578|       HARRASSMENT 2|  637|HARASSMENT,SUBD 1...|       COMPLETED|  VIOLATION|   QUEENS|           INSIDE|       PUBLIC SCHOOL|   N.Y. POLICE DEPT|                0|      NA|      null|         NA|   1002604|    210271|          null|  UNKNOWN|       M|            null|  40.7438111|-73.933765081|(40.7438111, -73....|PATROL BORO QUEEN...|        null|          <18|ASIAN / PACIFIC I...|      M|\n",
            "| 687501677|        null|    21:13:00|  09/11/2014|    21:15:00|         26|09/11/2014|  578|       HARRASSMENT 2|  638|HARASSMENT,SUBD 3...|       COMPLETED|  VIOLATION|MANHATTAN|             null|TRANSIT - NYC SUBWAY|N.Y. TRANSIT POLICE|                1|    null|      null|         NA|    997374|    234664|          null|    BLACK|       M|               3|40.810772767| -73.95259159|(40.810772767, -7...|PATROL BORO MAN N...|  125 STREET|        25-44|             UNKNOWN|      F|\n",
            "| 663810445|        null|    20:45:00|  03/01/2013|    21:00:00|        111|03/02/2013|  361|OFF. AGNST PUB OR...|  639|AGGRAVATED HARASS...|       COMPLETED|MISDEMEANOR|   QUEENS|         FRONT OF|     RESIDENCE-HOUSE|   N.Y. POLICE DEPT|                0|      NA|      null|         NA|   1044540|    211399|          null|  UNKNOWN|       M|            null|40.746720708|-73.782415705|(40.746720708, -7...|PATROL BORO QUEEN...|        null|          65+|ASIAN / PACIFIC I...|      F|\n",
            "| 689168068|        null|    23:00:00|  05/03/2015|    11:00:00|         20|05/03/2015|  109|       GRAND LARCENY|  421|LARCENY,GRAND FRO...|       COMPLETED|     FELONY|MANHATTAN|      OPPOSITE OF|              STREET|   N.Y. POLICE DEPT|                0|    null|      null|         NA|    987542|    220634|          null|     null|    null|            null|40.772273324|-73.988116123|(40.772273324, -7...|PATROL BORO MAN N...|        null|         null|             UNKNOWN|      F|\n",
            "| 800601490|        null|    08:00:00|        null|        null|        108|02/22/2011|  344|ASSAULT 3 & RELAT...|  101|           ASSAULT 3|       COMPLETED|MISDEMEANOR|   QUEENS|           INSIDE|RESIDENCE - APT. ...|   N.Y. POLICE DEPT|                0|      NA|      null|         NA|   1006523|    211827|         25-44|    WHITE|       F|            null|40.748072927|-73.919616952|(40.748072927, -7...|PATROL BORO QUEEN...|        null|        25-44|               WHITE|      M|\n",
            "+----------+------------+------------+------------+------------+-----------+----------+-----+--------------------+-----+--------------------+----------------+-----------+---------+-----------------+--------------------+-------------------+-----------------+--------+----------+-----------+----------+----------+--------------+---------+--------+----------------+------------+-------------+--------------------+--------------------+------------+-------------+--------------------+-------+\n",
            "only showing top 5 rows\n",
            "\n"
          ]
        }
      ],
      "source": [
        "df.filter(df.CMPLNT_FR_DT.isNull() | df.CMPLNT_FR_TM.isNull()).show(5)"
      ]
    },
    {
      "cell_type": "markdown",
      "metadata": {
        "id": "6xl4xqaKSoly"
      },
      "source": [
        "1. There maybe null values in the CMPLNT_TO_DT, CMPLNT_TO_TM, LOC_OF_OCCUR_DESC, PREM_TYP_DESC, PARKS_NM and HADEVELOPT columns. \n",
        "\n",
        "2. LOC_OF_OCCUR_DESC, PREM_TYP_DESC, PARKS_NM and HADEVELOPT need not be present for all the fields so cannot be used to eliminate records.\n",
        "\n",
        "3. However, complaint from date and complaint from time columns cannot have null values. We drop the rows where either complaint from date or complaint from time is null."
      ]
    },
    {
      "cell_type": "code",
      "execution_count": null,
      "metadata": {
        "id": "v7i-_-ckTEQ0"
      },
      "outputs": [],
      "source": [
        "df = df.filter(df.CMPLNT_FR_DT.isNotNull() & df.CMPLNT_FR_TM.isNotNull())"
      ]
    },
    {
      "cell_type": "code",
      "execution_count": null,
      "metadata": {
        "colab": {
          "base_uri": "https://localhost:8080/"
        },
        "id": "bXb7-Kaip25C",
        "outputId": "0fc015ad-1fc0-4804-90f9-ec6f1ca1a772"
      },
      "outputs": [
        {
          "name": "stdout",
          "output_type": "stream",
          "text": [
            "+----------+------------+------------+------------+------------+-----------+------+-----+---------+-----+-------+----------------+----------+-------+-----------------+-------------+----------+-----------------+--------+----------+-----------+--------------+---------+--------+----------------+-------+-----------+------------+-------------+--------+-------+\n",
            "|CMPLNT_NUM|CMPLNT_FR_DT|CMPLNT_FR_TM|CMPLNT_TO_DT|CMPLNT_TO_TM|ADDR_PCT_CD|RPT_DT|KY_CD|OFNS_DESC|PD_CD|PD_DESC|CRM_ATPT_CPTD_CD|LAW_CAT_CD|BORO_NM|LOC_OF_OCCUR_DESC|PREM_TYP_DESC|JURIS_DESC|JURISDICTION_CODE|PARKS_NM|HADEVELOPT|HOUSING_PSA|SUSP_AGE_GROUP|SUSP_RACE|SUSP_SEX|TRANSIT_DISTRICT|Lat_Lon|PATROL_BORO|STATION_NAME|VIC_AGE_GROUP|VIC_RACE|VIC_SEX|\n",
            "+----------+------------+------------+------------+------------+-----------+------+-----+---------+-----+-------+----------------+----------+-------+-----------------+-------------+----------+-----------------+--------+----------+-----------+--------------+---------+--------+----------------+-------+-----------+------------+-------------+--------+-------+\n",
            "+----------+------------+------------+------------+------------+-----------+------+-----+---------+-----+-------+----------------+----------+-------+-----------------+-------------+----------+-----------------+--------+----------+-----------+--------------+---------+--------+----------------+-------+-----------+------------+-------------+--------+-------+\n",
            "\n"
          ]
        }
      ],
      "source": [
        "df.where(col('CMPLNT_FR_DT').isNull()).show()"
      ]
    },
    {
      "cell_type": "code",
      "execution_count": null,
      "metadata": {
        "colab": {
          "base_uri": "https://localhost:8080/"
        },
        "id": "D4R-mfAq1BjU",
        "outputId": "1f199803-8a3b-4fcb-dad3-4cd183571777"
      },
      "outputs": [
        {
          "data": {
            "text/plain": [
              "1704046"
            ]
          },
          "execution_count": 52,
          "metadata": {},
          "output_type": "execute_result"
        }
      ],
      "source": [
        "df.where(col('CMPLNT_TO_DT').isNull()).count()"
      ]
    },
    {
      "cell_type": "markdown",
      "metadata": {
        "id": "xQB6VENfU63C"
      },
      "source": [
        "Check if minimum and maximum values of date and time are valid or not. The value of time cannot be 24:00:00. "
      ]
    },
    {
      "cell_type": "code",
      "execution_count": null,
      "metadata": {
        "colab": {
          "base_uri": "https://localhost:8080/"
        },
        "id": "vVavFmZSuUoz",
        "outputId": "ffc4e12a-eb1a-4062-ac20-46b3bb807bb6"
      },
      "outputs": [
        {
          "name": "stdout",
          "output_type": "stream",
          "text": [
            "+-----------------+\n",
            "|min(CMPLNT_FR_TM)|\n",
            "+-----------------+\n",
            "|         00:00:00|\n",
            "+-----------------+\n",
            "\n"
          ]
        }
      ],
      "source": [
        "## Minimum value of the column in pyspark\n",
        "df.agg({'CMPLNT_FR_TM': 'min'}).show()"
      ]
    },
    {
      "cell_type": "code",
      "execution_count": null,
      "metadata": {
        "colab": {
          "base_uri": "https://localhost:8080/"
        },
        "id": "Tono32lCucBj",
        "outputId": "5b70121c-ec5b-4d95-89da-858625f69704"
      },
      "outputs": [
        {
          "name": "stdout",
          "output_type": "stream",
          "text": [
            "+-----------------+\n",
            "|max(CMPLNT_FR_TM)|\n",
            "+-----------------+\n",
            "|         23:59:00|\n",
            "+-----------------+\n",
            "\n"
          ]
        }
      ],
      "source": [
        "## Maximum value of the column in pyspark\n",
        "df.agg({'CMPLNT_FR_TM': 'max'}).show()"
      ]
    },
    {
      "cell_type": "code",
      "execution_count": null,
      "metadata": {
        "colab": {
          "base_uri": "https://localhost:8080/"
        },
        "id": "8papMV3_W4Bj",
        "outputId": "8b9acdfc-091c-437f-e9f4-d34f0c76d5fd"
      },
      "outputs": [
        {
          "name": "stdout",
          "output_type": "stream",
          "text": [
            "+-----------------+\n",
            "|min(CMPLNT_FR_DT)|\n",
            "+-----------------+\n",
            "|       01/01/1948|\n",
            "+-----------------+\n",
            "\n"
          ]
        }
      ],
      "source": [
        "df.agg({'CMPLNT_FR_DT': 'min'}).show()"
      ]
    },
    {
      "cell_type": "code",
      "execution_count": null,
      "metadata": {
        "colab": {
          "base_uri": "https://localhost:8080/"
        },
        "id": "tPxH9P8RW4OM",
        "outputId": "891b8d46-56f1-4c30-999b-113de1c369bf"
      },
      "outputs": [
        {
          "name": "stdout",
          "output_type": "stream",
          "text": [
            "+-----------------+\n",
            "|max(CMPLNT_FR_DT)|\n",
            "+-----------------+\n",
            "|       12/31/2020|\n",
            "+-----------------+\n",
            "\n"
          ]
        }
      ],
      "source": [
        "df.agg({'CMPLNT_FR_DT': 'max'}).show()"
      ]
    },
    {
      "cell_type": "code",
      "execution_count": null,
      "metadata": {
        "colab": {
          "base_uri": "https://localhost:8080/"
        },
        "id": "PUzsG3qpozob",
        "outputId": "9b312f13-bd2e-448a-8de4-41c4b40ce4d9"
      },
      "outputs": [
        {
          "name": "stdout",
          "output_type": "stream",
          "text": [
            "+------------+\n",
            "|CMPLNT_FR_DT|\n",
            "+------------+\n",
            "|  01/01/1948|\n",
            "|  01/01/1955|\n",
            "|  01/01/1964|\n",
            "|  01/01/1965|\n",
            "|  01/01/1967|\n",
            "|  01/01/1968|\n",
            "|  01/01/1969|\n",
            "|  01/01/1970|\n",
            "|  01/01/1971|\n",
            "|  01/01/1972|\n",
            "|  01/01/1973|\n",
            "|  01/01/1974|\n",
            "|  01/01/1975|\n",
            "|  01/01/1976|\n",
            "|  01/01/1977|\n",
            "|  01/01/1978|\n",
            "|  01/01/1979|\n",
            "|  01/01/1980|\n",
            "|  01/01/1981|\n",
            "|  01/01/1982|\n",
            "+------------+\n",
            "only showing top 20 rows\n",
            "\n"
          ]
        }
      ],
      "source": [
        "df.select('CMPLNT_FR_DT').distinct().orderBy('CMPLNT_FR_DT').show()"
      ]
    },
    {
      "cell_type": "code",
      "execution_count": null,
      "metadata": {
        "colab": {
          "base_uri": "https://localhost:8080/"
        },
        "id": "s8U82OvtTjKw",
        "outputId": "98e9cb80-55f6-4454-a0ac-7d441aa1010c"
      },
      "outputs": [
        {
          "name": "stdout",
          "output_type": "stream",
          "text": [
            "+----------+------------+------------+------------+------------+-----------+----------+-----+--------------------+-----+--------------------+----------------+-----------+---------+-----------------+--------------------+-------------------+-----------------+--------+----------+-----------+--------------+--------------+--------+----------------+--------------------+--------------------+------------+-------------+--------------+-------+\n",
            "|CMPLNT_NUM|CMPLNT_FR_DT|CMPLNT_FR_TM|CMPLNT_TO_DT|CMPLNT_TO_TM|ADDR_PCT_CD|    RPT_DT|KY_CD|           OFNS_DESC|PD_CD|             PD_DESC|CRM_ATPT_CPTD_CD| LAW_CAT_CD|  BORO_NM|LOC_OF_OCCUR_DESC|       PREM_TYP_DESC|         JURIS_DESC|JURISDICTION_CODE|PARKS_NM|HADEVELOPT|HOUSING_PSA|SUSP_AGE_GROUP|     SUSP_RACE|SUSP_SEX|TRANSIT_DISTRICT|             Lat_Lon|         PATROL_BORO|STATION_NAME|VIC_AGE_GROUP|      VIC_RACE|VIC_SEX|\n",
            "+----------+------------+------------+------------+------------+-----------+----------+-----+--------------------+-----+--------------------+----------------+-----------+---------+-----------------+--------------------+-------------------+-----------------+--------+----------+-----------+--------------+--------------+--------+----------------+--------------------+--------------------+------------+-------------+--------------+-------+\n",
            "| 394506329|  2019-12-31|    17:30:00|        null|        null|         32|12/31/2019|  118|   DANGEROUS WEAPONS|  793|WEAPONS POSSESSION 3|       COMPLETED|     FELONY|MANHATTAN|             null|              STREET|   N.Y. POLICE DEPT|                0|    null|      null|       null|          null|          null|    null|            null|(40.8209267970000...|PATROL BORO MAN N...|        null|      UNKNOWN|       UNKNOWN|      E|\n",
            "| 968873685|  2019-12-29|    16:31:00|  12/29/2019|    16:54:00|         47|12/29/2019|  113|             FORGERY|  729|FORGERY,ETC.,UNCL...|       COMPLETED|     FELONY|    BRONX|             null|              STREET|   N.Y. POLICE DEPT|                0|    null|      null|       null|          null|          null|    null|            null|(40.8857014060000...|   PATROL BORO BRONX|        null|      UNKNOWN|       UNKNOWN|      E|\n",
            "| 509837549|  2019-12-15|    18:45:00|        null|        null|        109|12/29/2019|  578|       HARRASSMENT 2|  638|HARASSMENT,SUBD 3...|       COMPLETED|  VIOLATION|   QUEENS|         FRONT OF|              STREET|   N.Y. POLICE DEPT|                0|    null|      null|       null|         25-44|       UNKNOWN|       M|            null|(40.7422811560000...|PATROL BORO QUEEN...|        null|        25-44|WHITE HISPANIC|      F|\n",
            "| 352454313|  2019-12-28|    01:00:00|        null|        null|         47|12/28/2019|  126|MISCELLANEOUS PEN...|  117|RECKLESS ENDANGER...|       COMPLETED|     FELONY|    BRONX|          REAR OF|              STREET|   N.Y. POLICE DEPT|                0|    null|      null|       null|         18-24|         BLACK|       M|            null|(40.8753114510000...|   PATROL BORO BRONX|        null|      UNKNOWN|       UNKNOWN|      E|\n",
            "| 248803469|  2008-09-05|    21:41:00|        null|        null|       null|09/05/2008|  101|MURDER & NON-NEGL...| null|                null|       COMPLETED|     FELONY|     null|          OUTSIDE|                null|   N.Y. POLICE DEPT|             null|      NA|      null|         NA|          null|          null|    null|            null|(40.698827283, -7...|                null|        null|        25-44|         BLACK|      M|\n",
            "| 293718737|  2019-12-27|    22:00:00|        null|        null|          9|12/27/2019|  107|            BURGLARY|  223|BURGLARY,RESIDENC...|       ATTEMPTED|     FELONY|MANHATTAN|         FRONT OF|RESIDENCE - APT. ...|   N.Y. POLICE DEPT|                0|    null|      null|       null|          null|          null|    null|            null|(40.7207588210000...|PATROL BORO MAN S...|        null|      UNKNOWN|       UNKNOWN|      M|\n",
            "| 552685226|  2019-12-27|    20:10:00|  12/27/2019|    20:15:00|         79|12/27/2019|  117|     DANGEROUS DRUGS|  521|CONTROLLED SUBSTA...|       COMPLETED|     FELONY| BROOKLYN|             null|              STREET|   N.Y. POLICE DEPT|                0|    null|      null|       null|          null|          null|    null|            null|(40.6959583620000...|PATROL BORO BKLYN...|        null|      UNKNOWN|       UNKNOWN|      E|\n",
            "| 134037758|  2019-12-26|    20:00:00|  12/27/2019|    07:15:00|        101|12/27/2019|  341|       PETIT LARCENY|  321|LARCENY,PETIT FRO...|       COMPLETED|MISDEMEANOR|   QUEENS|         FRONT OF|              STREET|   N.Y. POLICE DEPT|                0|    null|      null|       null|          null|          null|    null|            null|(40.6115700660000...|PATROL BORO QUEEN...|        null|        25-44|WHITE HISPANIC|      F|\n",
            "| 855385879|  2019-12-26|    19:57:00|        null|        null|         44|12/26/2019|  361|OFF. AGNST PUB OR...|  639|AGGRAVATED HARASS...|       COMPLETED|MISDEMEANOR|    BRONX|             null|              STREET|   N.Y. POLICE DEPT|                0|    null|      null|       null|         18-24|         BLACK|       F|            null|(40.8402341380000...|   PATROL BORO BRONX|        null|        18-24|         BLACK|      F|\n",
            "| 241602326|  2019-12-25|    23:00:00|  12/26/2019|    14:25:00|         20|12/26/2019|  341|       PETIT LARCENY|  321|LARCENY,PETIT FRO...|       COMPLETED|MISDEMEANOR|MANHATTAN|             null|              STREET|   N.Y. POLICE DEPT|                0|    null|      null|       null|          null|          null|    null|            null|(40.7728745600000...|PATROL BORO MAN N...|        null|        45-64|         BLACK|      M|\n",
            "| 585574881|  2019-12-24|    16:00:00|        null|        null|         14|12/24/2019|  109|       GRAND LARCENY|  433|LARCENY,GRAND FRO...|       COMPLETED|     FELONY|MANHATTAN|           INSIDE|    DEPARTMENT STORE|   N.Y. POLICE DEPT|                0|    null|      null|       null|          null|          null|    null|            null|(40.7504307680000...|PATROL BORO MAN S...|        null|      UNKNOWN|       UNKNOWN|      D|\n",
            "| 916172359|  2019-12-21|    20:00:00|  12/21/2019|    20:30:00|         25|12/24/2019|  341|       PETIT LARCENY|  301|LARCENY,PETIT BY ...|       COMPLETED|MISDEMEANOR|MANHATTAN|             null|               OTHER|   N.Y. POLICE DEPT|                0|    null|      null|       null|       UNKNOWN|       UNKNOWN|       U|            null|(40.8016840590000...|PATROL BORO MAN N...|        null|        25-44|       UNKNOWN|      F|\n",
            "| 946914583|  2019-12-22|    04:15:00|  12/22/2019|    04:24:00|        108|12/22/2019|  113|             FORGERY|  729|FORGERY,ETC.,UNCL...|       COMPLETED|     FELONY|   QUEENS|             null|              STREET|   N.Y. POLICE DEPT|                0|    null|      null|       null|          null|          null|    null|            null|(40.7431245990000...|PATROL BORO QUEEN...|        null|      UNKNOWN|       UNKNOWN|      E|\n",
            "| 355952564|  2019-12-21|    02:35:00|        null|        null|         46|12/21/2019|  101|MURDER & NON-NEGL...| null|                null|       COMPLETED|     FELONY|     null|           INSIDE|                null|   N.Y. POLICE DEPT|             null|    null|      null|       null|         18-24|BLACK HISPANIC|       M|            null|(40.8585839700000...|                null|        null|        18-24|WHITE HISPANIC|      M|\n",
            "| 249276017|  2019-12-20|    14:00:00|        null|        null|         42|12/21/2019|  106|      FELONY ASSAULT|  109|ASSAULT 2,1,UNCLA...|       COMPLETED|     FELONY|    BRONX|             null|              STREET|   N.Y. POLICE DEPT|                0|    null|      null|       null|       UNKNOWN|       UNKNOWN|       U|            null|(40.8222710410000...|   PATROL BORO BRONX|        null|          <18|BLACK HISPANIC|      M|\n",
            "| 636997863|  2019-12-20|    22:18:00|        null|        null|         52|12/20/2019|  344|ASSAULT 3 & RELAT...|  114| OBSTR BREATH/CIRCUL|       COMPLETED|MISDEMEANOR|    BRONX|           INSIDE|RESIDENCE - APT. ...|   N.Y. POLICE DEPT|                0|    null|      null|       null|         25-44|         BLACK|       M|            null|(40.8632230650000...|   PATROL BORO BRONX|        null|        18-24|         BLACK|      F|\n",
            "| 183266811|  2019-12-20|    01:35:00|  12/20/2019|    01:44:00|         66|12/20/2019|  107|            BURGLARY|  223|BURGLARY,RESIDENC...|       COMPLETED|     FELONY| BROOKLYN|          REAR OF|     RESIDENCE-HOUSE|   N.Y. POLICE DEPT|                0|    null|      null|       null|          null|          null|    null|            null|(40.6325447520000...|PATROL BORO BKLYN...|        null|          65+|         WHITE|      F|\n",
            "| 699043216|  2019-12-20|    00:07:00|  12/20/2019|    00:12:00|         50|12/20/2019|  341|       PETIT LARCENY|  339|LARCENY,PETIT FRO...|       COMPLETED|MISDEMEANOR|    BRONX|             null|               OTHER|        METRO NORTH|               15|    null|      null|       null|          null|          null|    null|            null|(40.8746587900000...|   PATROL BORO BRONX|        null|        25-44|         WHITE|      F|\n",
            "| 431547413|  2019-12-10|    20:06:00|  12/10/2019|    20:24:00|          7|12/20/2019|  114|               ARSON|  263|         ARSON 2,3,4|       COMPLETED|     FELONY|MANHATTAN|           INSIDE|RESIDENCE - PUBLI...|N.Y. HOUSING POLICE|                2|    null|LA GUARDIA|      575.0|          null|          null|    null|            null|(40.7119520930000...|PATROL BORO MAN S...|        null|      UNKNOWN|       UNKNOWN|      E|\n",
            "| 800366831|  2019-12-19|    17:50:00|        null|        null|         43|12/19/2019|  341|       PETIT LARCENY|  333|LARCENY,PETIT FRO...|       COMPLETED|MISDEMEANOR|    BRONX|           INSIDE|    DEPARTMENT STORE|   N.Y. POLICE DEPT|                0|    null|      null|       null|         45-64|WHITE HISPANIC|       M|            null|(40.8234999640000...|   PATROL BORO BRONX|        null|      UNKNOWN|       UNKNOWN|      D|\n",
            "+----------+------------+------------+------------+------------+-----------+----------+-----+--------------------+-----+--------------------+----------------+-----------+---------+-----------------+--------------------+-------------------+-----------------+--------+----------+-----------+--------------+--------------+--------+----------------+--------------------+--------------------+------------+-------------+--------------+-------+\n",
            "only showing top 20 rows\n",
            "\n"
          ]
        }
      ],
      "source": [
        "from datetime import datetime\n",
        "date_from = '2006-01-01'\n",
        "date_to = '2020-12-31'\n",
        "\n",
        "# Setting an user define function:\n",
        "# This function converts the string cell into a date:\n",
        "func =  udf (lambda x: datetime.strptime(str(x), '%m/%d/%Y'), DateType())\n",
        "\n",
        "df = df.withColumn('CMPLNT_FR_DT', func(col('CMPLNT_FR_DT')))\n",
        "df = df.filter(df.CMPLNT_FR_DT >= date_from).filter(df.CMPLNT_FR_DT <= date_to)\n",
        "df.show()"
      ]
    },
    {
      "cell_type": "code",
      "execution_count": null,
      "metadata": {
        "colab": {
          "base_uri": "https://localhost:8080/"
        },
        "id": "AMlARQojn8jz",
        "outputId": "aafcdeaa-e834-484b-9fc8-af79eb0bf45d"
      },
      "outputs": [
        {
          "name": "stdout",
          "output_type": "stream",
          "text": [
            "+------------+\n",
            "|CMPLNT_FR_DT|\n",
            "+------------+\n",
            "|  2019-06-04|\n",
            "|  2019-05-08|\n",
            "|  2016-03-01|\n",
            "|  2014-11-12|\n",
            "|  2018-05-28|\n",
            "|  2020-08-24|\n",
            "|  2018-08-10|\n",
            "|  2019-11-18|\n",
            "|  2019-11-01|\n",
            "|  2006-04-23|\n",
            "|  2019-09-22|\n",
            "|  2011-05-06|\n",
            "|  2017-01-06|\n",
            "|  2016-04-25|\n",
            "|  2018-06-06|\n",
            "|  2018-03-17|\n",
            "|  2020-01-21|\n",
            "|  2019-11-21|\n",
            "|  2018-09-01|\n",
            "|  2016-05-03|\n",
            "+------------+\n",
            "only showing top 20 rows\n",
            "\n"
          ]
        }
      ],
      "source": [
        "df.select('CMPLNT_FR_DT').distinct().show()"
      ]
    },
    {
      "cell_type": "code",
      "execution_count": null,
      "metadata": {
        "colab": {
          "base_uri": "https://localhost:8080/"
        },
        "id": "PeHUX9yInbHC",
        "outputId": "636559aa-ec32-42a8-9b31-7d0c7e65e0d6"
      },
      "outputs": [
        {
          "name": "stdout",
          "output_type": "stream",
          "text": [
            "+-----------------+\n",
            "|min(CMPLNT_FR_DT)|\n",
            "+-----------------+\n",
            "|       2006-01-01|\n",
            "+-----------------+\n",
            "\n"
          ]
        }
      ],
      "source": [
        "df.agg({'CMPLNT_FR_DT': 'min'}).show()"
      ]
    },
    {
      "cell_type": "code",
      "execution_count": null,
      "metadata": {
        "colab": {
          "base_uri": "https://localhost:8080/"
        },
        "id": "sJmJd2Mj67KS",
        "outputId": "4d706fcc-c0e9-4016-ac92-efb910150038"
      },
      "outputs": [
        {
          "name": "stdout",
          "output_type": "stream",
          "text": [
            "+----------+------------+------------+------------+------------+-----------+------+-----+---------+-----+-------+----------------+----------+-------+-----------------+-------------+----------+-----------------+--------+----------+-----------+--------------+---------+--------+----------------+-------+-----------+------------+-------------+--------+-------+\n",
            "|CMPLNT_NUM|CMPLNT_FR_DT|CMPLNT_FR_TM|CMPLNT_TO_DT|CMPLNT_TO_TM|ADDR_PCT_CD|RPT_DT|KY_CD|OFNS_DESC|PD_CD|PD_DESC|CRM_ATPT_CPTD_CD|LAW_CAT_CD|BORO_NM|LOC_OF_OCCUR_DESC|PREM_TYP_DESC|JURIS_DESC|JURISDICTION_CODE|PARKS_NM|HADEVELOPT|HOUSING_PSA|SUSP_AGE_GROUP|SUSP_RACE|SUSP_SEX|TRANSIT_DISTRICT|Lat_Lon|PATROL_BORO|STATION_NAME|VIC_AGE_GROUP|VIC_RACE|VIC_SEX|\n",
            "+----------+------------+------------+------------+------------+-----------+------+-----+---------+-----+-------+----------------+----------+-------+-----------------+-------------+----------+-----------------+--------+----------+-----------+--------------+---------+--------+----------------+-------+-----------+------------+-------------+--------+-------+\n",
            "+----------+------------+------------+------------+------------+-----------+------+-----+---------+-----+-------+----------------+----------+-------+-----------------+-------------+----------+-----------------+--------+----------+-----------+--------------+---------+--------+----------------+-------+-----------+------------+-------------+--------+-------+\n",
            "\n"
          ]
        }
      ],
      "source": [
        "df.filter(df.CMPLNT_FR_DT < date_from).filter(df.CMPLNT_FR_DT > date_to).show()"
      ]
    },
    {
      "cell_type": "code",
      "execution_count": null,
      "metadata": {
        "colab": {
          "base_uri": "https://localhost:8080/"
        },
        "id": "tyWDbn0m7DNd",
        "outputId": "29ab046b-4768-4e80-a36c-4cdc16bcafe7"
      },
      "outputs": [
        {
          "name": "stdout",
          "output_type": "stream",
          "text": [
            "+----------+------------+------------+------------+------------+-----------+------+-----+---------+-----+-------+----------------+----------+-------+-----------------+-------------+----------+-----------------+--------+----------+-----------+--------------+---------+--------+----------------+-----------+------------+-------------+--------+-------+\n",
            "|CMPLNT_NUM|CMPLNT_FR_DT|CMPLNT_FR_TM|CMPLNT_TO_DT|CMPLNT_TO_TM|ADDR_PCT_CD|RPT_DT|KY_CD|OFNS_DESC|PD_CD|PD_DESC|CRM_ATPT_CPTD_CD|LAW_CAT_CD|BORO_NM|LOC_OF_OCCUR_DESC|PREM_TYP_DESC|JURIS_DESC|JURISDICTION_CODE|PARKS_NM|HADEVELOPT|HOUSING_PSA|SUSP_AGE_GROUP|SUSP_RACE|SUSP_SEX|TRANSIT_DISTRICT|PATROL_BORO|STATION_NAME|VIC_AGE_GROUP|VIC_RACE|VIC_SEX|\n",
            "+----------+------------+------------+------------+------------+-----------+------+-----+---------+-----+-------+----------------+----------+-------+-----------------+-------------+----------+-----------------+--------+----------+-----------+--------------+---------+--------+----------------+-----------+------------+-------------+--------+-------+\n",
            "+----------+------------+------------+------------+------------+-----------+------+-----+---------+-----+-------+----------------+----------+-------+-----------------+-------------+----------+-----------------+--------+----------+-----------+--------------+---------+--------+----------------+-----------+------------+-------------+--------+-------+\n",
            "\n"
          ]
        }
      ],
      "source": [
        "df.filter(df.CMPLNT_TO_DT < date_from).filter(df.CMPLNT_TO_DT > date_to).show()"
      ]
    },
    {
      "cell_type": "markdown",
      "metadata": {
        "id": "StfFUDBsc_8R"
      },
      "source": [
        "**Some basic data quality checks are as below:**\n",
        "1. Check if there are no garbage values in the location of occurence description column. The valid values that this column should ideally contain are: 'FRONT OF', 'REAR OF', 'OUTSIDE', 'INSIDE', 'OPPOSITE OF'\n",
        "2. Check if there are no garbage values in law category column. The valid values are: 'FELONY', 'VIOLATION', 'MISDEMEANOR'\n",
        "3. Check if there are no misspellings in Borough Name. There should be 5 distinct boroughs: Manhattan, Bronx, Queens, Brooklyn, Staten Island. We implement unique method, in case of misspellings multiple values of the same borough would be returned.\n",
        "4. Check if 'CRM_ATPT_CPTD_CD' column has no garbage value. The only acceptable values are Completed or Attempted.\n",
        "5. Ideally, key code should contain only 3 digits. Implementing a check below to see if there are any invalid values for the key code. "
      ]
    },
    {
      "cell_type": "code",
      "execution_count": null,
      "metadata": {
        "colab": {
          "base_uri": "https://localhost:8080/"
        },
        "id": "bMCP753walMv",
        "outputId": "cdea67b8-074d-4608-b726-ab99311916dd"
      },
      "outputs": [
        {
          "name": "stdout",
          "output_type": "stream",
          "text": [
            "+-----------------+\n",
            "|LOC_OF_OCCUR_DESC|\n",
            "+-----------------+\n",
            "|      OPPOSITE OF|\n",
            "|          REAR OF|\n",
            "|             null|\n",
            "|           INSIDE|\n",
            "|          OUTSIDE|\n",
            "|         FRONT OF|\n",
            "+-----------------+\n",
            "\n"
          ]
        }
      ],
      "source": [
        "df.select('LOC_OF_OCCUR_DESC').distinct().show()"
      ]
    },
    {
      "cell_type": "code",
      "execution_count": null,
      "metadata": {
        "colab": {
          "base_uri": "https://localhost:8080/"
        },
        "id": "thhWypodbGdS",
        "outputId": "488ded6f-a15d-4268-8d46-b978a9d44a89"
      },
      "outputs": [
        {
          "name": "stdout",
          "output_type": "stream",
          "text": [
            "+-----------+\n",
            "| LAW_CAT_CD|\n",
            "+-----------+\n",
            "|     FELONY|\n",
            "|MISDEMEANOR|\n",
            "|  VIOLATION|\n",
            "+-----------+\n",
            "\n"
          ]
        }
      ],
      "source": [
        "df.select('LAW_CAT_CD').distinct().show()"
      ]
    },
    {
      "cell_type": "markdown",
      "metadata": {
        "id": "GZowh0na-VjI"
      },
      "source": [
        "### Checks for Borough Name"
      ]
    },
    {
      "cell_type": "code",
      "execution_count": null,
      "metadata": {
        "colab": {
          "base_uri": "https://localhost:8080/"
        },
        "id": "8EkBxmg_bOue",
        "outputId": "70018a30-2256-420c-ffa4-9e63fabba282"
      },
      "outputs": [
        {
          "name": "stdout",
          "output_type": "stream",
          "text": [
            "+-------------+\n",
            "|      BORO_NM|\n",
            "+-------------+\n",
            "|         null|\n",
            "|       QUEENS|\n",
            "|     BROOKLYN|\n",
            "|        BRONX|\n",
            "|    MANHATTAN|\n",
            "|STATEN ISLAND|\n",
            "+-------------+\n",
            "\n"
          ]
        }
      ],
      "source": [
        "df.select('BORO_NM').distinct().show()"
      ]
    },
    {
      "cell_type": "markdown",
      "metadata": {
        "id": "CLGPDp3OAdxF"
      },
      "source": [
        "We can see there are no misspellings for the Borough names and thus no need for additional data correction for the same."
      ]
    },
    {
      "cell_type": "code",
      "execution_count": null,
      "metadata": {
        "colab": {
          "base_uri": "https://localhost:8080/"
        },
        "id": "TGS80nUK-O1f",
        "outputId": "da14355e-776e-4575-9355-150180db7460"
      },
      "outputs": [
        {
          "name": "stdout",
          "output_type": "stream",
          "text": [
            "+----------+------------+------------+------------+------------+-----------+----------+-----+--------------------+-----+-------+----------------+----------+-------+-----------------+-------------+-------------------+-----------------+--------+----------+-----------+--------------+--------------------+--------+----------------+-----------+------------+-------------+--------------------+-------+\n",
            "|CMPLNT_NUM|CMPLNT_FR_DT|CMPLNT_FR_TM|CMPLNT_TO_DT|CMPLNT_TO_TM|ADDR_PCT_CD|    RPT_DT|KY_CD|           OFNS_DESC|PD_CD|PD_DESC|CRM_ATPT_CPTD_CD|LAW_CAT_CD|BORO_NM|LOC_OF_OCCUR_DESC|PREM_TYP_DESC|         JURIS_DESC|JURISDICTION_CODE|PARKS_NM|HADEVELOPT|HOUSING_PSA|SUSP_AGE_GROUP|           SUSP_RACE|SUSP_SEX|TRANSIT_DISTRICT|PATROL_BORO|STATION_NAME|VIC_AGE_GROUP|            VIC_RACE|VIC_SEX|\n",
            "+----------+------------+------------+------------+------------+-----------+----------+-----+--------------------+-----+-------+----------------+----------+-------+-----------------+-------------+-------------------+-----------------+--------+----------+-----------+--------------+--------------------+--------+----------------+-----------+------------+-------------+--------------------+-------+\n",
            "| 509240838|  06/02/2019|    22:15:00|        null|        null|         75|06/02/2019|  101|MURDER & NON-NEGL...| null|   null|       COMPLETED|    FELONY|   null|          OUTSIDE|         null|   N.Y. POLICE DEPT|             null|    null|      null|       null|          null|                null|    null|            null|       null|        null|        25-44|               BLACK|      M|\n",
            "| 230540174|  12/16/2019|    19:15:00|        null|        null|        120|12/16/2019|  101|MURDER & NON-NEGL...| null|   null|       COMPLETED|    FELONY|   null|          OUTSIDE|         null|   N.Y. POLICE DEPT|             null|    null|      null|       null|          null|                null|    null|            null|       null|        null|          <18|      BLACK HISPANIC|      M|\n",
            "| 227359325|  11/19/2019|    08:45:00|        null|        null|         75|11/19/2019|  101|MURDER & NON-NEGL...| null|   null|       COMPLETED|    FELONY|   null|          OUTSIDE|         null|   N.Y. POLICE DEPT|             null|    null|      null|       null|          null|                null|    null|            null|       null|        null|        25-44|      BLACK HISPANIC|      M|\n",
            "| 183571768|  07/22/2019|    21:55:00|        null|        null|         66|07/22/2019|  101|MURDER & NON-NEGL...| null|   null|       COMPLETED|    FELONY|   null|          OUTSIDE|         null|   N.Y. POLICE DEPT|             null|    null|      null|       null|         25-44|ASIAN / PACIFIC I...|       M|            null|       null|        null|        45-64|ASIAN / PACIFIC I...|      F|\n",
            "| 314552377|  04/27/2019|    20:25:00|        null|        null|         42|04/27/2019|  101|MURDER & NON-NEGL...| null|   null|       COMPLETED|    FELONY|   null|          OUTSIDE|         null|   N.Y. POLICE DEPT|             null|    null|      null|       null|         18-24|               BLACK|       F|            null|       null|        null|          <18|               BLACK|      M|\n",
            "| 562217258|  08/06/2019|    10:30:00|        null|        null|         22|08/06/2019|  101|MURDER & NON-NEGL...| null|   null|       COMPLETED|    FELONY|   null|          OUTSIDE|         null|   N.Y. POLICE DEPT|             null|    null|      null|       null|         18-24|               BLACK|       M|            null|       null|        null|        25-44|      WHITE HISPANIC|      M|\n",
            "| 249738804|  09/22/2019|    20:38:00|        null|        null|         42|09/22/2019|  101|MURDER & NON-NEGL...| null|   null|       COMPLETED|    FELONY|   null|          OUTSIDE|         null|   N.Y. POLICE DEPT|             null|    null|      null|       null|         25-44|               BLACK|       M|            null|       null|        null|        25-44|               BLACK|      M|\n",
            "| 837685917|  08/18/2019|    22:18:00|        null|        null|         34|08/18/2019|  101|MURDER & NON-NEGL...| null|   null|       COMPLETED|    FELONY|   null|           INSIDE|         null|   N.Y. POLICE DEPT|             null|    null|      null|       null|           65+|      WHITE HISPANIC|       M|            null|       null|        null|          65+|      WHITE HISPANIC|      F|\n",
            "| 578168157|  01/21/2007|    10:23:00|        null|        null|       null|01/21/2007|  101|MURDER & NON-NEGL...| null|   null|       COMPLETED|    FELONY|   null|           INSIDE|         null|   N.Y. POLICE DEPT|             null|      NA|      null|         NA|          null|                null|    null|            null|       null|        null|        25-44|               BLACK|      M|\n",
            "| 807968051|  08/11/2019|    23:42:00|        null|        null|         49|08/11/2019|  101|MURDER & NON-NEGL...| null|   null|       COMPLETED|    FELONY|   null|          OUTSIDE|         null|N.Y. HOUSING POLICE|             null|    null|  PARKSIDE|       null|         45-64|      WHITE HISPANIC|       M|            null|       null|        null|        18-24|               BLACK|      M|\n",
            "| 651220062|  05/07/2019|    16:38:00|        null|        null|        122|05/07/2019|  101|MURDER & NON-NEGL...| null|   null|       COMPLETED|    FELONY|   null|          OUTSIDE|         null|   N.Y. POLICE DEPT|             null|    null|      null|       null|         25-44|      WHITE HISPANIC|       F|            null|       null|        null|        18-24|      WHITE HISPANIC|      M|\n",
            "| 150063598|  09/05/2019|    20:48:00|        null|        null|         67|09/05/2019|  101|MURDER & NON-NEGL...| null|   null|       COMPLETED|    FELONY|   null|          OUTSIDE|         null|   N.Y. POLICE DEPT|             null|    null|      null|       null|          null|                null|    null|            null|       null|        null|        25-44|               BLACK|      M|\n",
            "| 113422729|  09/22/2019|    17:14:00|        null|        null|         70|09/22/2019|  101|MURDER & NON-NEGL...| null|   null|       COMPLETED|    FELONY|   null|           INSIDE|         null|   N.Y. POLICE DEPT|             null|    null|      null|       null|         25-44|               BLACK|       M|            null|       null|        null|        25-44|               BLACK|      M|\n",
            "| 484137259|  08/16/2019|    22:25:00|        null|        null|         52|08/16/2019|  101|MURDER & NON-NEGL...| null|   null|       COMPLETED|    FELONY|   null|          OUTSIDE|         null|   N.Y. POLICE DEPT|             null|    null|      null|       null|       UNKNOWN|               BLACK|       M|            null|       null|        null|        25-44|      WHITE HISPANIC|      M|\n",
            "| 893117822|  04/24/2013|    13:09:00|        null|        null|         60|04/24/2013|  101|MURDER & NON-NEGL...| null|   null|       COMPLETED|    FELONY|   null|           INSIDE|         null|N.Y. HOUSING POLICE|             null|      NA|      null|         NA|          null|                null|    null|            null|       null|        null|        25-44|               BLACK|      M|\n",
            "| 239915695|  03/15/2008|    21:40:00|        null|        null|       null|03/15/2008|  101|MURDER & NON-NEGL...| null|   null|       COMPLETED|    FELONY|   null|          OUTSIDE|         null|   N.Y. POLICE DEPT|             null|      NA|      null|         NA|          null|                null|    null|            null|       null|        null|        45-64|               BLACK|      M|\n",
            "| 385847558|  11/19/2019|    08:05:00|        null|        null|         71|11/19/2019|  101|MURDER & NON-NEGL...| null|   null|       COMPLETED|    FELONY|   null|           INSIDE|         null|   N.Y. POLICE DEPT|             null|    null|      null|       null|          null|                null|    null|            null|       null|        null|          <18|               BLACK|      M|\n",
            "| 670879936|  08/30/2019|    22:49:00|        null|        null|        104|08/30/2019|  101|MURDER & NON-NEGL...| null|   null|       COMPLETED|    FELONY|   null|          OUTSIDE|         null|   N.Y. POLICE DEPT|             null|    null|      null|       null|         25-44|               BLACK|       M|            null|       null|        null|        18-24|      WHITE HISPANIC|      M|\n",
            "| 165277900|  10/24/2019|    13:05:00|        null|        null|         41|10/24/2019|  101|MURDER & NON-NEGL...| null|   null|       COMPLETED|    FELONY|   null|           INSIDE|         null|   N.Y. POLICE DEPT|             null|    null|      null|       null|         25-44|      WHITE HISPANIC|       M|            null|       null|        null|        25-44|      BLACK HISPANIC|      M|\n",
            "| 905390758|  10/18/2019|    14:43:00|        null|        null|         32|10/18/2019|  101|MURDER & NON-NEGL...| null|   null|       COMPLETED|    FELONY|   null|           INSIDE|         null|   N.Y. POLICE DEPT|             null|    null|      null|       null|         45-64|               BLACK|       F|            null|       null|        null|          65+|               BLACK|      M|\n",
            "+----------+------------+------------+------------+------------+-----------+----------+-----+--------------------+-----+-------+----------------+----------+-------+-----------------+-------------+-------------------+-----------------+--------+----------+-----------+--------------+--------------------+--------+----------------+-----------+------------+-------------+--------------------+-------+\n",
            "only showing top 20 rows\n",
            "\n"
          ]
        }
      ],
      "source": [
        "df.where(col('BORO_NM').isNull()).show()"
      ]
    },
    {
      "cell_type": "code",
      "execution_count": null,
      "metadata": {
        "id": "3lxbjLgg37V8"
      },
      "outputs": [],
      "source": [
        "df = df.filter(df.BORO_NM.isNotNull())"
      ]
    },
    {
      "cell_type": "code",
      "execution_count": null,
      "metadata": {
        "id": "-aR9P20bu75M"
      },
      "outputs": [],
      "source": [
        "bor = ds.select('BORO_NM')\n",
        "bor1 = bor.to_df()\n",
        "bor1['BORO_NM'].replace('', np.nan, inplace=True)\n",
        "bor1.dropna(inplace=True)"
      ]
    },
    {
      "cell_type": "code",
      "execution_count": null,
      "metadata": {
        "colab": {
          "base_uri": "https://localhost:8080/"
        },
        "id": "sy0fOz4oyrxO",
        "outputId": "4e81dfcf-75fa-4b12-e82c-1b96ab9c55eb"
      },
      "outputs": [
        {
          "data": {
            "text/plain": [
              "False"
            ]
          },
          "execution_count": 19,
          "metadata": {},
          "output_type": "execute_result"
        }
      ],
      "source": [
        "bor1.isnull().values.any()"
      ]
    },
    {
      "cell_type": "code",
      "execution_count": null,
      "metadata": {
        "colab": {
          "base_uri": "https://localhost:8080/"
        },
        "id": "4kuFVJJqyxVs",
        "outputId": "add33f76-b034-48f0-ae15-5a553a8207b3"
      },
      "outputs": [
        {
          "data": {
            "text/plain": [
              "array(['MANHATTAN', 'BRONX', 'QUEENS', 'BROOKLYN', 'STATEN ISLAND'],\n",
              "      dtype=object)"
            ]
          },
          "execution_count": 20,
          "metadata": {},
          "output_type": "execute_result"
        }
      ],
      "source": [
        "bor1['BORO_NM'].unique()"
      ]
    },
    {
      "cell_type": "code",
      "execution_count": null,
      "metadata": {
        "colab": {
          "base_uri": "https://localhost:8080/"
        },
        "id": "kgyJwGnnI6HP",
        "outputId": "e51f08ae-4556-419c-e87b-818e3a5292e8"
      },
      "outputs": [
        {
          "name": "stderr",
          "output_type": "stream",
          "text": [
            "IOPub data rate exceeded.\n",
            "The notebook server will temporarily stop sending output\n",
            "to the client in order to avoid crashing it.\n",
            "To change this limit, set the config variable\n",
            "`--NotebookApp.iopub_data_rate_limit`.\n",
            "\n",
            "Current values:\n",
            "NotebookApp.iopub_data_rate_limit=1000000.0 (bytes/sec)\n",
            "NotebookApp.rate_limit_window=3.0 (secs)\n",
            "\n"
          ]
        }
      ],
      "source": [
        "from openclean.function.matching.base import DefaultStringMatcher\n",
        "from openclean.function.matching.fuzzy import FuzzySimilarity\n",
        "from openclean.data.mapping import Mapping\n",
        "\n",
        "VOCABULARY = ['BROOKLYN' ,'MANHATTAN','STATEN ISLAND','BRONX', 'QUEENS']\n",
        "\n",
        "matcher = DefaultStringMatcher(\n",
        "    vocabulary=VOCABULARY,\n",
        "    similarity=FuzzySimilarity()\n",
        ")\n",
        "\n",
        "map = Mapping()\n",
        "for query in bor1['BORO_NM']:\n",
        "    map.add(query, matcher.find_matches(query))\n",
        "\n",
        "print(map)"
      ]
    },
    {
      "cell_type": "code",
      "execution_count": null,
      "metadata": {
        "colab": {
          "base_uri": "https://localhost:8080/"
        },
        "id": "jCFDt3WdLAZl",
        "outputId": "713bf0b3-ba99-4866-98d4-3a57bdcd6022"
      },
      "outputs": [
        {
          "name": "stderr",
          "output_type": "stream",
          "text": [
            "/usr/local/lib/python3.7/dist-packages/openclean/data/mapping.py:223: UserWarning: Ignoring key: MANHATTAN (1771637 matches). To include ignored keys, update the map to contain only 1 match per key\n",
            "  'update the map to contain only 1 match per key'.format(k, len(v)))\n",
            "/usr/local/lib/python3.7/dist-packages/openclean/data/mapping.py:223: UserWarning: Ignoring key: BRONX (1599801 matches). To include ignored keys, update the map to contain only 1 match per key\n",
            "  'update the map to contain only 1 match per key'.format(k, len(v)))\n",
            "/usr/local/lib/python3.7/dist-packages/openclean/data/mapping.py:223: UserWarning: Ignoring key: QUEENS (1463554 matches). To include ignored keys, update the map to contain only 1 match per key\n",
            "  'update the map to contain only 1 match per key'.format(k, len(v)))\n",
            "/usr/local/lib/python3.7/dist-packages/openclean/data/mapping.py:223: UserWarning: Ignoring key: BROOKLYN (2186681 matches). To include ignored keys, update the map to contain only 1 match per key\n",
            "  'update the map to contain only 1 match per key'.format(k, len(v)))\n",
            "/usr/local/lib/python3.7/dist-packages/openclean/data/mapping.py:223: UserWarning: Ignoring key: STATEN ISLAND (342991 matches). To include ignored keys, update the map to contain only 1 match per key\n",
            "  'update the map to contain only 1 match per key'.format(k, len(v)))\n"
          ]
        },
        {
          "name": "stdout",
          "output_type": "stream",
          "text": [
            "['MANHATTAN' 'BRONX' 'QUEENS' 'BROOKLYN' 'STATEN ISLAND']\n"
          ]
        }
      ],
      "source": [
        "from openclean.function.eval.domain import Lookup\n",
        "from openclean.operator.transform.update import update\n",
        "from openclean.function.eval.base import Col\n",
        "\n",
        "fixed = update(bor1, 'BORO_NM', Lookup(columns=['BORO_NM'], mapping=map.to_lookup(), default=Col('BORO_NM')))\n",
        "\n",
        "print(fixed['BORO_NM'].unique())"
      ]
    },
    {
      "cell_type": "markdown",
      "metadata": {
        "id": "8qNiIF2iQohN"
      },
      "source": [
        "### The above script can be used to fix any error in the spellings of Borough names or for any other column by specifying it in the vocabulary list.\n",
        "\n",
        "### There are null values present which can be removed before running this script on the data."
      ]
    },
    {
      "cell_type": "markdown",
      "metadata": {
        "id": "8PBAVylwS6md"
      },
      "source": [
        "#### Dropping Rows where Borough Name is NULL"
      ]
    },
    {
      "cell_type": "code",
      "execution_count": null,
      "metadata": {
        "colab": {
          "base_uri": "https://localhost:8080/"
        },
        "id": "BdsO97LX6bSs",
        "outputId": "d8193576-1d69-4283-a9ea-a9fde209cbcf"
      },
      "outputs": [
        {
          "data": {
            "text/plain": [
              "7364664"
            ]
          },
          "execution_count": 36,
          "metadata": {},
          "output_type": "execute_result"
        }
      ],
      "source": [
        "df.count()"
      ]
    },
    {
      "cell_type": "code",
      "execution_count": null,
      "metadata": {
        "colab": {
          "base_uri": "https://localhost:8080/"
        },
        "id": "5TxYWPFN-mP5",
        "outputId": "de08466c-7412-43ee-cb3a-718dcdcf191e"
      },
      "outputs": [
        {
          "name": "stdout",
          "output_type": "stream",
          "text": [
            "+----------+------------+------------+------------+------------+-----------+------+-----+---------+-----+-------+----------------+----------+-------+-----------------+-------------+----------+-----------------+--------+----------+-----------+--------------+---------+--------+----------------+-----------+------------+-------------+--------+-------+\n",
            "|CMPLNT_NUM|CMPLNT_FR_DT|CMPLNT_FR_TM|CMPLNT_TO_DT|CMPLNT_TO_TM|ADDR_PCT_CD|RPT_DT|KY_CD|OFNS_DESC|PD_CD|PD_DESC|CRM_ATPT_CPTD_CD|LAW_CAT_CD|BORO_NM|LOC_OF_OCCUR_DESC|PREM_TYP_DESC|JURIS_DESC|JURISDICTION_CODE|PARKS_NM|HADEVELOPT|HOUSING_PSA|SUSP_AGE_GROUP|SUSP_RACE|SUSP_SEX|TRANSIT_DISTRICT|PATROL_BORO|STATION_NAME|VIC_AGE_GROUP|VIC_RACE|VIC_SEX|\n",
            "+----------+------------+------------+------------+------------+-----------+------+-----+---------+-----+-------+----------------+----------+-------+-----------------+-------------+----------+-----------------+--------+----------+-----------+--------------+---------+--------+----------------+-----------+------------+-------------+--------+-------+\n",
            "+----------+------------+------------+------------+------------+-----------+------+-----+---------+-----+-------+----------------+----------+-------+-----------------+-------------+----------+-----------------+--------+----------+-----------+--------------+---------+--------+----------------+-----------+------------+-------------+--------+-------+\n",
            "\n"
          ]
        }
      ],
      "source": [
        "df.filter(df.BORO_NM.isNull()).show()"
      ]
    },
    {
      "cell_type": "markdown",
      "metadata": {
        "id": "zAqM8qC-TG9A"
      },
      "source": [
        "#### Check if all Rows of the column 'CRM_ATPT_CPTD_CD' have the expected values. Either Completed or Atempted. From the statistics above, there are only 7 rows that have null value for this column. Since it constitutes of very less percentage of the entire dataset, we decided to drop the rows that have null values for this column."
      ]
    },
    {
      "cell_type": "code",
      "execution_count": null,
      "metadata": {
        "colab": {
          "base_uri": "https://localhost:8080/"
        },
        "id": "wpbd5kWucpl7",
        "outputId": "cb0ff548-80a1-41e4-fe77-d2680dcd9859"
      },
      "outputs": [
        {
          "name": "stdout",
          "output_type": "stream",
          "text": [
            "+----------------+\n",
            "|CRM_ATPT_CPTD_CD|\n",
            "+----------------+\n",
            "|       ATTEMPTED|\n",
            "|       COMPLETED|\n",
            "|            null|\n",
            "+----------------+\n",
            "\n"
          ]
        }
      ],
      "source": [
        "df.select('CRM_ATPT_CPTD_CD').distinct().show()"
      ]
    },
    {
      "cell_type": "code",
      "execution_count": null,
      "metadata": {
        "colab": {
          "base_uri": "https://localhost:8080/"
        },
        "id": "_K_7XHFjD1ZI",
        "outputId": "dddd822d-2aeb-4760-b276-7825acbd418a"
      },
      "outputs": [
        {
          "name": "stdout",
          "output_type": "stream",
          "text": [
            "+----------------+-------+\n",
            "|CRM_ATPT_CPTD_CD|  count|\n",
            "+----------------+-------+\n",
            "|       COMPLETED|7239063|\n",
            "|       ATTEMPTED| 125594|\n",
            "|            null|      7|\n",
            "+----------------+-------+\n",
            "\n"
          ]
        }
      ],
      "source": [
        "# similar to pandas' value_counts\n",
        "df.groupBy('CRM_ATPT_CPTD_CD').count().orderBy('count', ascending=False).show()"
      ]
    },
    {
      "cell_type": "code",
      "execution_count": null,
      "metadata": {
        "colab": {
          "base_uri": "https://localhost:8080/"
        },
        "id": "Y3TdQMPuGJup",
        "outputId": "48901b09-192f-4a44-dbc7-3ec9615df277"
      },
      "outputs": [
        {
          "name": "stdout",
          "output_type": "stream",
          "text": [
            "+----------+------------+------------+------------+------------+-----------+----------+-----+--------------------+-----+--------------------+----------------+-----------+---------+-----------------+--------------------+-------------------+-----------------+--------+----------+-----------+--------------+--------------+--------+----------------+--------------------+------------+-------------+--------------+-------+\n",
            "|CMPLNT_NUM|CMPLNT_FR_DT|CMPLNT_FR_TM|CMPLNT_TO_DT|CMPLNT_TO_TM|ADDR_PCT_CD|    RPT_DT|KY_CD|           OFNS_DESC|PD_CD|             PD_DESC|CRM_ATPT_CPTD_CD| LAW_CAT_CD|  BORO_NM|LOC_OF_OCCUR_DESC|       PREM_TYP_DESC|         JURIS_DESC|JURISDICTION_CODE|PARKS_NM|HADEVELOPT|HOUSING_PSA|SUSP_AGE_GROUP|     SUSP_RACE|SUSP_SEX|TRANSIT_DISTRICT|         PATROL_BORO|STATION_NAME|VIC_AGE_GROUP|      VIC_RACE|VIC_SEX|\n",
            "+----------+------------+------------+------------+------------+-----------+----------+-----+--------------------+-----+--------------------+----------------+-----------+---------+-----------------+--------------------+-------------------+-----------------+--------+----------+-----------+--------------+--------------+--------+----------------+--------------------+------------+-------------+--------------+-------+\n",
            "| 248505582|  02/26/2014|    21:20:00|        null|        null|          6|02/26/2014|  341|       PETIT LARCENY|  338|LARCENY,PETIT FRO...|            null|MISDEMEANOR|MANHATTAN|           INSIDE|      BAR/NIGHT CLUB|   N.Y. POLICE DEPT|                0|    null|      null|         NA|         18-24|WHITE HISPANIC|       M|            null|PATROL BORO MAN S...|        null|        18-24|       UNKNOWN|      M|\n",
            "| 786604519|  04/19/2013|    22:00:00|  04/21/2013|    10:00:00|         83|04/21/2013|  110|GRAND LARCENY OF ...|  441|LARCENY,GRAND OF ...|            null|     FELONY| BROOKLYN|         FRONT OF|              STREET|   N.Y. POLICE DEPT|                0|      NA|      null|         NA|          null|          null|    null|            null|PATROL BORO BKLYN...|        null|        25-44|         BLACK|      M|\n",
            "| 311227321|  06/01/2001|    14:00:00|        null|        null|         25|08/25/2006|  109|       GRAND LARCENY|  419|LARCENY,GRAND FRO...|            null|     FELONY|MANHATTAN|           INSIDE|RESIDENCE - APT. ...|N.Y. HOUSING POLICE|                2|      NA|      null|        670|          null|       UNKNOWN|       M|            null|PATROL BORO MAN N...|        null|        25-44|         BLACK|      F|\n",
            "| 181835873|  08/19/2011|    17:30:00|  08/19/2011|    17:50:00|         47|08/19/2011|  232|POSSESSION OF STO...|  490|STOLEN PROPERTY 3...|            null|MISDEMEANOR|    BRONX|           INSIDE|      GROCERY/BODEGA|   N.Y. POLICE DEPT|                0|      NA|      null|         NA|          null|WHITE HISPANIC|       F|            null|   PATROL BORO BRONX|        null|         null|       UNKNOWN|      E|\n",
            "| 559717358|  10/14/2011|    23:30:00|  10/15/2011|    00:10:00|        108|10/15/2011|  351|CRIMINAL MISCHIEF...|  254|MISCHIEF, CRIMINA...|            null|MISDEMEANOR|   QUEENS|         FRONT OF|              STREET|   N.Y. POLICE DEPT|                0|      NA|      null|         NA|          null|          null|    null|            null|PATROL BORO QUEEN...|        null|        25-44|BLACK HISPANIC|      F|\n",
            "| 923443495|  08/26/2006|    22:40:00|  08/26/2006|    23:50:00|         32|08/27/2006|  106|      FELONY ASSAULT|  109|ASSAULT 2,1,UNCLA...|            null|     FELONY|MANHATTAN|             null|              STREET|N.Y. HOUSING POLICE|                2|      NA|      null|         NA|          null|         BLACK|       M|            null|PATROL BORO MAN N...|        null|        18-24|         BLACK|      F|\n",
            "| 843383787|  08/27/2006|    03:45:00|  08/27/2006|    03:50:00|         79|08/27/2006|  351|CRIMINAL MISCHIEF...|  259|CRIMINAL MISCHIEF...|            null|MISDEMEANOR| BROOKLYN|           INSIDE|RESIDENCE - APT. ...|   N.Y. POLICE DEPT|                0|      NA|      null|         NA|          null|         BLACK|       M|            null|PATROL BORO BKLYN...|        null|        25-44|         WHITE|      M|\n",
            "+----------+------------+------------+------------+------------+-----------+----------+-----+--------------------+-----+--------------------+----------------+-----------+---------+-----------------+--------------------+-------------------+-----------------+--------+----------+-----------+--------------+--------------+--------+----------------+--------------------+------------+-------------+--------------+-------+\n",
            "\n"
          ]
        }
      ],
      "source": [
        "df.filter(df.CRM_ATPT_CPTD_CD.isNull()).show()"
      ]
    },
    {
      "cell_type": "code",
      "execution_count": null,
      "metadata": {
        "id": "4tSswxvLFhqd"
      },
      "outputs": [],
      "source": [
        "df = df.filter(df.CRM_ATPT_CPTD_CD.isNotNull())"
      ]
    },
    {
      "cell_type": "code",
      "execution_count": null,
      "metadata": {
        "colab": {
          "base_uri": "https://localhost:8080/"
        },
        "id": "lkZeVnh4-ta4",
        "outputId": "c77d6ae4-9209-42d8-e113-a0fe70c70b06"
      },
      "outputs": [
        {
          "data": {
            "text/plain": [
              "7364657"
            ]
          },
          "execution_count": 42,
          "metadata": {},
          "output_type": "execute_result"
        }
      ],
      "source": [
        "df.count()"
      ]
    },
    {
      "cell_type": "markdown",
      "metadata": {
        "id": "yrZc_yocN8wq"
      },
      "source": [
        "#### We can see that all the key codes are valid 3-digit numbers"
      ]
    },
    {
      "cell_type": "code",
      "execution_count": null,
      "metadata": {
        "colab": {
          "base_uri": "https://localhost:8080/"
        },
        "id": "LpMZbUBasZQa",
        "outputId": "e233a73e-1c86-4ca8-a51b-786e79081e9c"
      },
      "outputs": [
        {
          "data": {
            "text/plain": [
              "0"
            ]
          },
          "execution_count": 43,
          "metadata": {},
          "output_type": "execute_result"
        }
      ],
      "source": [
        "df.filter((df.KY_CD < 100) | (df.KY_CD > 999)).count()"
      ]
    },
    {
      "cell_type": "markdown",
      "metadata": {
        "id": "2yoI3xH_tbtM"
      },
      "source": [
        "## Defining checks for outliers in age group"
      ]
    },
    {
      "cell_type": "code",
      "execution_count": null,
      "metadata": {
        "colab": {
          "base_uri": "https://localhost:8080/"
        },
        "id": "DPf0c3XRtMth",
        "outputId": "90612612-2333-482f-887f-76837a7500b9"
      },
      "outputs": [
        {
          "name": "stdout",
          "output_type": "stream",
          "text": [
            "+--------------+\n",
            "|SUSP_AGE_GROUP|\n",
            "+--------------+\n",
            "|            -1|\n",
            "|           924|\n",
            "|          -965|\n",
            "|          2019|\n",
            "|           <18|\n",
            "|          -966|\n",
            "|         25-44|\n",
            "|          null|\n",
            "|           -64|\n",
            "|          -973|\n",
            "|       UNKNOWN|\n",
            "|           -80|\n",
            "|           929|\n",
            "|           65+|\n",
            "|          -968|\n",
            "|           930|\n",
            "|         18-24|\n",
            "|          -964|\n",
            "|         45-64|\n",
            "|           947|\n",
            "+--------------+\n",
            "only showing top 20 rows\n",
            "\n"
          ]
        }
      ],
      "source": [
        "df.select('SUSP_AGE_GROUP').distinct().show()"
      ]
    },
    {
      "cell_type": "markdown",
      "metadata": {
        "id": "PupPgsepOcUV"
      },
      "source": [
        "#### There are many invalid age groups like negative values, unrealistically high age groups, etc.\n",
        "\n",
        "#### Lets find all the invalid age groups and replace them with `NaN`"
      ]
    },
    {
      "cell_type": "code",
      "execution_count": null,
      "metadata": {
        "colab": {
          "base_uri": "https://localhost:8080/"
        },
        "id": "4PZeQuUBtmaT",
        "outputId": "0c13a8d4-3bf1-4ffb-ba20-62ea0892aff4"
      },
      "outputs": [
        {
          "name": "stdout",
          "output_type": "stream",
          "text": [
            "+----------+------------+------------+------------+------------+-----------+----------+-----+--------------------+-----+--------------------+----------------+-----------+---------+-----------------+--------------------+-------------------+-----------------+--------+----------+-----------+--------------+--------------+--------+----------------+--------------------+--------------------+------------+-------------+--------------+-------+\n",
            "|CMPLNT_NUM|CMPLNT_FR_DT|CMPLNT_FR_TM|CMPLNT_TO_DT|CMPLNT_TO_TM|ADDR_PCT_CD|    RPT_DT|KY_CD|           OFNS_DESC|PD_CD|             PD_DESC|CRM_ATPT_CPTD_CD| LAW_CAT_CD|  BORO_NM|LOC_OF_OCCUR_DESC|       PREM_TYP_DESC|         JURIS_DESC|JURISDICTION_CODE|PARKS_NM|HADEVELOPT|HOUSING_PSA|SUSP_AGE_GROUP|     SUSP_RACE|SUSP_SEX|TRANSIT_DISTRICT|             Lat_Lon|         PATROL_BORO|STATION_NAME|VIC_AGE_GROUP|      VIC_RACE|VIC_SEX|\n",
            "+----------+------------+------------+------------+------------+-----------+----------+-----+--------------------+-----+--------------------+----------------+-----------+---------+-----------------+--------------------+-------------------+-----------------+--------+----------+-----------+--------------+--------------+--------+----------------+--------------------+--------------------+------------+-------------+--------------+-------+\n",
            "| 394506329|  2019-12-31|    17:30:00|        null|        null|         32|12/31/2019|  118|   DANGEROUS WEAPONS|  793|WEAPONS POSSESSION 3|       COMPLETED|     FELONY|MANHATTAN|             null|              STREET|   N.Y. POLICE DEPT|                0|    null|      null|       null|           NaN|          null|    null|            null|(40.8209267970000...|PATROL BORO MAN N...|        null|      UNKNOWN|       UNKNOWN|      E|\n",
            "| 968873685|  2019-12-29|    16:31:00|  12/29/2019|    16:54:00|         47|12/29/2019|  113|             FORGERY|  729|FORGERY,ETC.,UNCL...|       COMPLETED|     FELONY|    BRONX|             null|              STREET|   N.Y. POLICE DEPT|                0|    null|      null|       null|           NaN|          null|    null|            null|(40.8857014060000...|   PATROL BORO BRONX|        null|      UNKNOWN|       UNKNOWN|      E|\n",
            "| 509837549|  2019-12-15|    18:45:00|        null|        null|        109|12/29/2019|  578|       HARRASSMENT 2|  638|HARASSMENT,SUBD 3...|       COMPLETED|  VIOLATION|   QUEENS|         FRONT OF|              STREET|   N.Y. POLICE DEPT|                0|    null|      null|       null|         25-44|       UNKNOWN|       M|            null|(40.7422811560000...|PATROL BORO QUEEN...|        null|        25-44|WHITE HISPANIC|      F|\n",
            "| 352454313|  2019-12-28|    01:00:00|        null|        null|         47|12/28/2019|  126|MISCELLANEOUS PEN...|  117|RECKLESS ENDANGER...|       COMPLETED|     FELONY|    BRONX|          REAR OF|              STREET|   N.Y. POLICE DEPT|                0|    null|      null|       null|         18-24|         BLACK|       M|            null|(40.8753114510000...|   PATROL BORO BRONX|        null|      UNKNOWN|       UNKNOWN|      E|\n",
            "| 293718737|  2019-12-27|    22:00:00|        null|        null|          9|12/27/2019|  107|            BURGLARY|  223|BURGLARY,RESIDENC...|       ATTEMPTED|     FELONY|MANHATTAN|         FRONT OF|RESIDENCE - APT. ...|   N.Y. POLICE DEPT|                0|    null|      null|       null|           NaN|          null|    null|            null|(40.7207588210000...|PATROL BORO MAN S...|        null|      UNKNOWN|       UNKNOWN|      M|\n",
            "| 552685226|  2019-12-27|    20:10:00|  12/27/2019|    20:15:00|         79|12/27/2019|  117|     DANGEROUS DRUGS|  521|CONTROLLED SUBSTA...|       COMPLETED|     FELONY| BROOKLYN|             null|              STREET|   N.Y. POLICE DEPT|                0|    null|      null|       null|           NaN|          null|    null|            null|(40.6959583620000...|PATROL BORO BKLYN...|        null|      UNKNOWN|       UNKNOWN|      E|\n",
            "| 134037758|  2019-12-26|    20:00:00|  12/27/2019|    07:15:00|        101|12/27/2019|  341|       PETIT LARCENY|  321|LARCENY,PETIT FRO...|       COMPLETED|MISDEMEANOR|   QUEENS|         FRONT OF|              STREET|   N.Y. POLICE DEPT|                0|    null|      null|       null|           NaN|          null|    null|            null|(40.6115700660000...|PATROL BORO QUEEN...|        null|        25-44|WHITE HISPANIC|      F|\n",
            "| 855385879|  2019-12-26|    19:57:00|        null|        null|         44|12/26/2019|  361|OFF. AGNST PUB OR...|  639|AGGRAVATED HARASS...|       COMPLETED|MISDEMEANOR|    BRONX|             null|              STREET|   N.Y. POLICE DEPT|                0|    null|      null|       null|         18-24|         BLACK|       F|            null|(40.8402341380000...|   PATROL BORO BRONX|        null|        18-24|         BLACK|      F|\n",
            "| 241602326|  2019-12-25|    23:00:00|  12/26/2019|    14:25:00|         20|12/26/2019|  341|       PETIT LARCENY|  321|LARCENY,PETIT FRO...|       COMPLETED|MISDEMEANOR|MANHATTAN|             null|              STREET|   N.Y. POLICE DEPT|                0|    null|      null|       null|           NaN|          null|    null|            null|(40.7728745600000...|PATROL BORO MAN N...|        null|        45-64|         BLACK|      M|\n",
            "| 585574881|  2019-12-24|    16:00:00|        null|        null|         14|12/24/2019|  109|       GRAND LARCENY|  433|LARCENY,GRAND FRO...|       COMPLETED|     FELONY|MANHATTAN|           INSIDE|    DEPARTMENT STORE|   N.Y. POLICE DEPT|                0|    null|      null|       null|           NaN|          null|    null|            null|(40.7504307680000...|PATROL BORO MAN S...|        null|      UNKNOWN|       UNKNOWN|      D|\n",
            "| 916172359|  2019-12-21|    20:00:00|  12/21/2019|    20:30:00|         25|12/24/2019|  341|       PETIT LARCENY|  301|LARCENY,PETIT BY ...|       COMPLETED|MISDEMEANOR|MANHATTAN|             null|               OTHER|   N.Y. POLICE DEPT|                0|    null|      null|       null|           NaN|       UNKNOWN|       U|            null|(40.8016840590000...|PATROL BORO MAN N...|        null|        25-44|       UNKNOWN|      F|\n",
            "| 946914583|  2019-12-22|    04:15:00|  12/22/2019|    04:24:00|        108|12/22/2019|  113|             FORGERY|  729|FORGERY,ETC.,UNCL...|       COMPLETED|     FELONY|   QUEENS|             null|              STREET|   N.Y. POLICE DEPT|                0|    null|      null|       null|           NaN|          null|    null|            null|(40.7431245990000...|PATROL BORO QUEEN...|        null|      UNKNOWN|       UNKNOWN|      E|\n",
            "| 249276017|  2019-12-20|    14:00:00|        null|        null|         42|12/21/2019|  106|      FELONY ASSAULT|  109|ASSAULT 2,1,UNCLA...|       COMPLETED|     FELONY|    BRONX|             null|              STREET|   N.Y. POLICE DEPT|                0|    null|      null|       null|           NaN|       UNKNOWN|       U|            null|(40.8222710410000...|   PATROL BORO BRONX|        null|          <18|BLACK HISPANIC|      M|\n",
            "| 636997863|  2019-12-20|    22:18:00|        null|        null|         52|12/20/2019|  344|ASSAULT 3 & RELAT...|  114| OBSTR BREATH/CIRCUL|       COMPLETED|MISDEMEANOR|    BRONX|           INSIDE|RESIDENCE - APT. ...|   N.Y. POLICE DEPT|                0|    null|      null|       null|         25-44|         BLACK|       M|            null|(40.8632230650000...|   PATROL BORO BRONX|        null|        18-24|         BLACK|      F|\n",
            "| 183266811|  2019-12-20|    01:35:00|  12/20/2019|    01:44:00|         66|12/20/2019|  107|            BURGLARY|  223|BURGLARY,RESIDENC...|       COMPLETED|     FELONY| BROOKLYN|          REAR OF|     RESIDENCE-HOUSE|   N.Y. POLICE DEPT|                0|    null|      null|       null|           NaN|          null|    null|            null|(40.6325447520000...|PATROL BORO BKLYN...|        null|          65+|         WHITE|      F|\n",
            "| 699043216|  2019-12-20|    00:07:00|  12/20/2019|    00:12:00|         50|12/20/2019|  341|       PETIT LARCENY|  339|LARCENY,PETIT FRO...|       COMPLETED|MISDEMEANOR|    BRONX|             null|               OTHER|        METRO NORTH|               15|    null|      null|       null|           NaN|          null|    null|            null|(40.8746587900000...|   PATROL BORO BRONX|        null|        25-44|         WHITE|      F|\n",
            "| 431547413|  2019-12-10|    20:06:00|  12/10/2019|    20:24:00|          7|12/20/2019|  114|               ARSON|  263|         ARSON 2,3,4|       COMPLETED|     FELONY|MANHATTAN|           INSIDE|RESIDENCE - PUBLI...|N.Y. HOUSING POLICE|                2|    null|LA GUARDIA|      575.0|           NaN|          null|    null|            null|(40.7119520930000...|PATROL BORO MAN S...|        null|      UNKNOWN|       UNKNOWN|      E|\n",
            "| 800366831|  2019-12-19|    17:50:00|        null|        null|         43|12/19/2019|  341|       PETIT LARCENY|  333|LARCENY,PETIT FRO...|       COMPLETED|MISDEMEANOR|    BRONX|           INSIDE|    DEPARTMENT STORE|   N.Y. POLICE DEPT|                0|    null|      null|       null|         45-64|WHITE HISPANIC|       M|            null|(40.8234999640000...|   PATROL BORO BRONX|        null|      UNKNOWN|       UNKNOWN|      D|\n",
            "| 354566222|  2019-12-19|    02:50:00|        null|        null|         42|12/19/2019|  104|                RAPE|  153|              RAPE 3|       COMPLETED|     FELONY|    BRONX|           INSIDE|  ABANDONED BUILDING|   N.Y. POLICE DEPT|                0|    null|      null|       null|         18-24|BLACK HISPANIC|       M|            null|(40.8225699160000...|   PATROL BORO BRONX|        null|          <18|BLACK HISPANIC|      F|\n",
            "| 464928227|  2019-12-18|    20:30:00|  12/19/2019|    11:22:00|        104|12/19/2019|  341|       PETIT LARCENY|  321|LARCENY,PETIT FRO...|       COMPLETED|MISDEMEANOR|   QUEENS|             null|              STREET|   N.Y. POLICE DEPT|                0|    null|      null|       null|           NaN|          null|    null|            null|(40.6984434060000...|PATROL BORO QUEEN...|        null|        25-44|         WHITE|      M|\n",
            "+----------+------------+------------+------------+------------+-----------+----------+-----+--------------------+-----+--------------------+----------------+-----------+---------+-----------------+--------------------+-------------------+-----------------+--------+----------+-----------+--------------+--------------+--------+----------------+--------------------+--------------------+------------+-------------+--------------+-------+\n",
            "only showing top 20 rows\n",
            "\n"
          ]
        }
      ],
      "source": [
        "valid_age_groups = ['<18','18-24','25-44','45-64','65+',np.NaN]\n",
        "df = df.withColumn('SUSP_AGE_GROUP', when(df.SUSP_AGE_GROUP.isin(valid_age_groups), df.SUSP_AGE_GROUP).otherwise(np.NaN))\n",
        "df.show()"
      ]
    },
    {
      "cell_type": "code",
      "execution_count": null,
      "metadata": {
        "colab": {
          "base_uri": "https://localhost:8080/"
        },
        "id": "Y4_Sm8jySwhZ",
        "outputId": "2458bd0c-3703-4424-bf54-6c7d840a279e"
      },
      "outputs": [
        {
          "name": "stdout",
          "output_type": "stream",
          "text": [
            "+--------------+\n",
            "|SUSP_AGE_GROUP|\n",
            "+--------------+\n",
            "|           <18|\n",
            "|         25-44|\n",
            "|           65+|\n",
            "|           NaN|\n",
            "|         18-24|\n",
            "|         45-64|\n",
            "+--------------+\n",
            "\n"
          ]
        }
      ],
      "source": [
        "df.select('SUSP_AGE_GROUP').distinct().show()"
      ]
    },
    {
      "cell_type": "code",
      "execution_count": null,
      "metadata": {
        "colab": {
          "base_uri": "https://localhost:8080/"
        },
        "id": "JkZU28TmbL-X",
        "outputId": "446840f2-7945-444b-83f1-0932df2808e4"
      },
      "outputs": [
        {
          "name": "stdout",
          "output_type": "stream",
          "text": [
            "+----------+------------+------------+------------+------------+-----------+----------+-----+--------------------+-----+--------------------+----------------+-----------+---------+-----------------+--------------------+----------------+-----------------+--------+----------+-----------+--------------+---------+--------+----------------+--------------------+------------+-------------+--------------------+-------+\n",
            "|CMPLNT_NUM|CMPLNT_FR_DT|CMPLNT_FR_TM|CMPLNT_TO_DT|CMPLNT_TO_TM|ADDR_PCT_CD|    RPT_DT|KY_CD|           OFNS_DESC|PD_CD|             PD_DESC|CRM_ATPT_CPTD_CD| LAW_CAT_CD|  BORO_NM|LOC_OF_OCCUR_DESC|       PREM_TYP_DESC|      JURIS_DESC|JURISDICTION_CODE|PARKS_NM|HADEVELOPT|HOUSING_PSA|SUSP_AGE_GROUP|SUSP_RACE|SUSP_SEX|TRANSIT_DISTRICT|         PATROL_BORO|STATION_NAME|VIC_AGE_GROUP|            VIC_RACE|VIC_SEX|\n",
            "+----------+------------+------------+------------+------------+-----------+----------+-----+--------------------+-----+--------------------+----------------+-----------+---------+-----------------+--------------------+----------------+-----------------+--------+----------+-----------+--------------+---------+--------+----------------+--------------------+------------+-------------+--------------------+-------+\n",
            "| 751484078|  03/29/2019|    00:00:00|  04/01/2019|    18:00:00|        108|04/06/2019|  109|       GRAND LARCENY|  434|LARCENY,GRAND BY ...|       COMPLETED|     FELONY|   QUEENS|           INSIDE|RESIDENCE - APT. ...|N.Y. POLICE DEPT|                0|    null|      null|       null|           NaN|     null|    null|            null|PATROL BORO QUEEN...|        null|        45-64|ASIAN / PACIFIC I...|      M|\n",
            "| 596232679|  04/30/2019|    00:00:00|  05/02/2019|    11:30:00|        108|05/03/2019|  351|CRIMINAL MISCHIEF...|  258|CRIMINAL MISCHIEF...|       COMPLETED|MISDEMEANOR|   QUEENS|          REAR OF|               OTHER|N.Y. POLICE DEPT|                0|    null|      null|       null|           NaN|     null|    null|            null|PATROL BORO QUEEN...|        null|        45-64|ASIAN / PACIFIC I...|      F|\n",
            "| 691793625|  12/08/2019|    00:00:00|  12/08/2019|    23:59:00|          9|12/29/2019|  109|       GRAND LARCENY|  405|LARCENY,GRAND BY ...|       COMPLETED|     FELONY|MANHATTAN|           INSIDE|         CHAIN STORE|N.Y. POLICE DEPT|                0|    null|      null|       null|           NaN|     null|    null|            null|PATROL BORO MAN S...|        null|        18-24|ASIAN / PACIFIC I...|      F|\n",
            "| 734304855|  09/26/2019|    00:00:00|  09/26/2019|    00:15:00|        113|09/26/2019|  126|MISCELLANEOUS PEN...|  198| CRIMINAL CONTEMPT 1|       COMPLETED|     FELONY|   QUEENS|         FRONT OF|     RESIDENCE-HOUSE|N.Y. POLICE DEPT|                0|    null|      null|       null|           NaN|     null|    null|            null|PATROL BORO QUEEN...|        null|        25-44|               BLACK|      M|\n",
            "| 890656773|  12/07/2019|    00:00:00|  12/07/2019|    12:00:00|         75|12/07/2019|  341|       PETIT LARCENY|  321|LARCENY,PETIT FRO...|       COMPLETED|MISDEMEANOR| BROOKLYN|             null|              STREET|N.Y. POLICE DEPT|                0|    null|      null|       null|           NaN|     null|    null|            null|PATROL BORO BKLYN...|        null|        25-44|               BLACK|      M|\n",
            "+----------+------------+------------+------------+------------+-----------+----------+-----+--------------------+-----+--------------------+----------------+-----------+---------+-----------------+--------------------+----------------+-----------------+--------+----------+-----------+--------------+---------+--------+----------------+--------------------+------------+-------------+--------------------+-------+\n",
            "only showing top 5 rows\n",
            "\n"
          ]
        }
      ],
      "source": [
        "df.show(n=5)"
      ]
    },
    {
      "cell_type": "code",
      "execution_count": null,
      "metadata": {
        "colab": {
          "base_uri": "https://localhost:8080/"
        },
        "id": "0jWTxrnVdZ4Q",
        "outputId": "b2367843-cf8d-4fba-b7a4-35a5e279e884"
      },
      "outputs": [
        {
          "name": "stdout",
          "output_type": "stream",
          "text": [
            "+-------------+\n",
            "|VIC_AGE_GROUP|\n",
            "+-------------+\n",
            "|          -71|\n",
            "|         -942|\n",
            "|          938|\n",
            "|         -954|\n",
            "|          -39|\n",
            "|          951|\n",
            "|          <18|\n",
            "|         1013|\n",
            "|        25-44|\n",
            "|         null|\n",
            "|         -946|\n",
            "|         -967|\n",
            "|          -50|\n",
            "|         -961|\n",
            "|          -56|\n",
            "|          943|\n",
            "|          -67|\n",
            "|          936|\n",
            "|          927|\n",
            "|          941|\n",
            "+-------------+\n",
            "only showing top 20 rows\n",
            "\n"
          ]
        }
      ],
      "source": [
        "df.select('VIC_AGE_GROUP').distinct().show()"
      ]
    },
    {
      "cell_type": "markdown",
      "metadata": {
        "id": "oZa1lwP7divX"
      },
      "source": [
        "#### There are many invalid age groups like negative values, unrealistically high age groups, etc.\n",
        "\n",
        "#### Lets find all the invalid age groups and replace them with `NaN`"
      ]
    },
    {
      "cell_type": "code",
      "execution_count": null,
      "metadata": {
        "colab": {
          "base_uri": "https://localhost:8080/"
        },
        "id": "EEIrpMI0djtP",
        "outputId": "db63d9fd-debc-46e6-f974-995dd5b72345"
      },
      "outputs": [
        {
          "name": "stdout",
          "output_type": "stream",
          "text": [
            "+----------+------------+------------+------------+------------+-----------+----------+-----+--------------------+-----+--------------------+----------------+-----------+---------+-----------------+--------------------+-------------------+-----------------+--------+----------+-----------+--------------+--------------+--------+----------------+--------------------+--------------------+------------+-------------+--------------+-------+\n",
            "|CMPLNT_NUM|CMPLNT_FR_DT|CMPLNT_FR_TM|CMPLNT_TO_DT|CMPLNT_TO_TM|ADDR_PCT_CD|    RPT_DT|KY_CD|           OFNS_DESC|PD_CD|             PD_DESC|CRM_ATPT_CPTD_CD| LAW_CAT_CD|  BORO_NM|LOC_OF_OCCUR_DESC|       PREM_TYP_DESC|         JURIS_DESC|JURISDICTION_CODE|PARKS_NM|HADEVELOPT|HOUSING_PSA|SUSP_AGE_GROUP|     SUSP_RACE|SUSP_SEX|TRANSIT_DISTRICT|             Lat_Lon|         PATROL_BORO|STATION_NAME|VIC_AGE_GROUP|      VIC_RACE|VIC_SEX|\n",
            "+----------+------------+------------+------------+------------+-----------+----------+-----+--------------------+-----+--------------------+----------------+-----------+---------+-----------------+--------------------+-------------------+-----------------+--------+----------+-----------+--------------+--------------+--------+----------------+--------------------+--------------------+------------+-------------+--------------+-------+\n",
            "| 394506329|  2019-12-31|    17:30:00|        null|        null|         32|12/31/2019|  118|   DANGEROUS WEAPONS|  793|WEAPONS POSSESSION 3|       COMPLETED|     FELONY|MANHATTAN|             null|              STREET|   N.Y. POLICE DEPT|                0|    null|      null|       null|           NaN|          null|    null|            null|(40.8209267970000...|PATROL BORO MAN N...|        null|          NaN|       UNKNOWN|      E|\n",
            "| 968873685|  2019-12-29|    16:31:00|  12/29/2019|    16:54:00|         47|12/29/2019|  113|             FORGERY|  729|FORGERY,ETC.,UNCL...|       COMPLETED|     FELONY|    BRONX|             null|              STREET|   N.Y. POLICE DEPT|                0|    null|      null|       null|           NaN|          null|    null|            null|(40.8857014060000...|   PATROL BORO BRONX|        null|          NaN|       UNKNOWN|      E|\n",
            "| 509837549|  2019-12-15|    18:45:00|        null|        null|        109|12/29/2019|  578|       HARRASSMENT 2|  638|HARASSMENT,SUBD 3...|       COMPLETED|  VIOLATION|   QUEENS|         FRONT OF|              STREET|   N.Y. POLICE DEPT|                0|    null|      null|       null|         25-44|       UNKNOWN|       M|            null|(40.7422811560000...|PATROL BORO QUEEN...|        null|        25-44|WHITE HISPANIC|      F|\n",
            "| 352454313|  2019-12-28|    01:00:00|        null|        null|         47|12/28/2019|  126|MISCELLANEOUS PEN...|  117|RECKLESS ENDANGER...|       COMPLETED|     FELONY|    BRONX|          REAR OF|              STREET|   N.Y. POLICE DEPT|                0|    null|      null|       null|         18-24|         BLACK|       M|            null|(40.8753114510000...|   PATROL BORO BRONX|        null|          NaN|       UNKNOWN|      E|\n",
            "| 293718737|  2019-12-27|    22:00:00|        null|        null|          9|12/27/2019|  107|            BURGLARY|  223|BURGLARY,RESIDENC...|       ATTEMPTED|     FELONY|MANHATTAN|         FRONT OF|RESIDENCE - APT. ...|   N.Y. POLICE DEPT|                0|    null|      null|       null|           NaN|          null|    null|            null|(40.7207588210000...|PATROL BORO MAN S...|        null|          NaN|       UNKNOWN|      M|\n",
            "| 552685226|  2019-12-27|    20:10:00|  12/27/2019|    20:15:00|         79|12/27/2019|  117|     DANGEROUS DRUGS|  521|CONTROLLED SUBSTA...|       COMPLETED|     FELONY| BROOKLYN|             null|              STREET|   N.Y. POLICE DEPT|                0|    null|      null|       null|           NaN|          null|    null|            null|(40.6959583620000...|PATROL BORO BKLYN...|        null|          NaN|       UNKNOWN|      E|\n",
            "| 134037758|  2019-12-26|    20:00:00|  12/27/2019|    07:15:00|        101|12/27/2019|  341|       PETIT LARCENY|  321|LARCENY,PETIT FRO...|       COMPLETED|MISDEMEANOR|   QUEENS|         FRONT OF|              STREET|   N.Y. POLICE DEPT|                0|    null|      null|       null|           NaN|          null|    null|            null|(40.6115700660000...|PATROL BORO QUEEN...|        null|        25-44|WHITE HISPANIC|      F|\n",
            "| 855385879|  2019-12-26|    19:57:00|        null|        null|         44|12/26/2019|  361|OFF. AGNST PUB OR...|  639|AGGRAVATED HARASS...|       COMPLETED|MISDEMEANOR|    BRONX|             null|              STREET|   N.Y. POLICE DEPT|                0|    null|      null|       null|         18-24|         BLACK|       F|            null|(40.8402341380000...|   PATROL BORO BRONX|        null|        18-24|         BLACK|      F|\n",
            "| 241602326|  2019-12-25|    23:00:00|  12/26/2019|    14:25:00|         20|12/26/2019|  341|       PETIT LARCENY|  321|LARCENY,PETIT FRO...|       COMPLETED|MISDEMEANOR|MANHATTAN|             null|              STREET|   N.Y. POLICE DEPT|                0|    null|      null|       null|           NaN|          null|    null|            null|(40.7728745600000...|PATROL BORO MAN N...|        null|        45-64|         BLACK|      M|\n",
            "| 585574881|  2019-12-24|    16:00:00|        null|        null|         14|12/24/2019|  109|       GRAND LARCENY|  433|LARCENY,GRAND FRO...|       COMPLETED|     FELONY|MANHATTAN|           INSIDE|    DEPARTMENT STORE|   N.Y. POLICE DEPT|                0|    null|      null|       null|           NaN|          null|    null|            null|(40.7504307680000...|PATROL BORO MAN S...|        null|          NaN|       UNKNOWN|      D|\n",
            "| 916172359|  2019-12-21|    20:00:00|  12/21/2019|    20:30:00|         25|12/24/2019|  341|       PETIT LARCENY|  301|LARCENY,PETIT BY ...|       COMPLETED|MISDEMEANOR|MANHATTAN|             null|               OTHER|   N.Y. POLICE DEPT|                0|    null|      null|       null|           NaN|       UNKNOWN|       U|            null|(40.8016840590000...|PATROL BORO MAN N...|        null|        25-44|       UNKNOWN|      F|\n",
            "| 946914583|  2019-12-22|    04:15:00|  12/22/2019|    04:24:00|        108|12/22/2019|  113|             FORGERY|  729|FORGERY,ETC.,UNCL...|       COMPLETED|     FELONY|   QUEENS|             null|              STREET|   N.Y. POLICE DEPT|                0|    null|      null|       null|           NaN|          null|    null|            null|(40.7431245990000...|PATROL BORO QUEEN...|        null|          NaN|       UNKNOWN|      E|\n",
            "| 249276017|  2019-12-20|    14:00:00|        null|        null|         42|12/21/2019|  106|      FELONY ASSAULT|  109|ASSAULT 2,1,UNCLA...|       COMPLETED|     FELONY|    BRONX|             null|              STREET|   N.Y. POLICE DEPT|                0|    null|      null|       null|           NaN|       UNKNOWN|       U|            null|(40.8222710410000...|   PATROL BORO BRONX|        null|          <18|BLACK HISPANIC|      M|\n",
            "| 636997863|  2019-12-20|    22:18:00|        null|        null|         52|12/20/2019|  344|ASSAULT 3 & RELAT...|  114| OBSTR BREATH/CIRCUL|       COMPLETED|MISDEMEANOR|    BRONX|           INSIDE|RESIDENCE - APT. ...|   N.Y. POLICE DEPT|                0|    null|      null|       null|         25-44|         BLACK|       M|            null|(40.8632230650000...|   PATROL BORO BRONX|        null|        18-24|         BLACK|      F|\n",
            "| 183266811|  2019-12-20|    01:35:00|  12/20/2019|    01:44:00|         66|12/20/2019|  107|            BURGLARY|  223|BURGLARY,RESIDENC...|       COMPLETED|     FELONY| BROOKLYN|          REAR OF|     RESIDENCE-HOUSE|   N.Y. POLICE DEPT|                0|    null|      null|       null|           NaN|          null|    null|            null|(40.6325447520000...|PATROL BORO BKLYN...|        null|          65+|         WHITE|      F|\n",
            "| 699043216|  2019-12-20|    00:07:00|  12/20/2019|    00:12:00|         50|12/20/2019|  341|       PETIT LARCENY|  339|LARCENY,PETIT FRO...|       COMPLETED|MISDEMEANOR|    BRONX|             null|               OTHER|        METRO NORTH|               15|    null|      null|       null|           NaN|          null|    null|            null|(40.8746587900000...|   PATROL BORO BRONX|        null|        25-44|         WHITE|      F|\n",
            "| 431547413|  2019-12-10|    20:06:00|  12/10/2019|    20:24:00|          7|12/20/2019|  114|               ARSON|  263|         ARSON 2,3,4|       COMPLETED|     FELONY|MANHATTAN|           INSIDE|RESIDENCE - PUBLI...|N.Y. HOUSING POLICE|                2|    null|LA GUARDIA|      575.0|           NaN|          null|    null|            null|(40.7119520930000...|PATROL BORO MAN S...|        null|          NaN|       UNKNOWN|      E|\n",
            "| 800366831|  2019-12-19|    17:50:00|        null|        null|         43|12/19/2019|  341|       PETIT LARCENY|  333|LARCENY,PETIT FRO...|       COMPLETED|MISDEMEANOR|    BRONX|           INSIDE|    DEPARTMENT STORE|   N.Y. POLICE DEPT|                0|    null|      null|       null|         45-64|WHITE HISPANIC|       M|            null|(40.8234999640000...|   PATROL BORO BRONX|        null|          NaN|       UNKNOWN|      D|\n",
            "| 354566222|  2019-12-19|    02:50:00|        null|        null|         42|12/19/2019|  104|                RAPE|  153|              RAPE 3|       COMPLETED|     FELONY|    BRONX|           INSIDE|  ABANDONED BUILDING|   N.Y. POLICE DEPT|                0|    null|      null|       null|         18-24|BLACK HISPANIC|       M|            null|(40.8225699160000...|   PATROL BORO BRONX|        null|          <18|BLACK HISPANIC|      F|\n",
            "| 464928227|  2019-12-18|    20:30:00|  12/19/2019|    11:22:00|        104|12/19/2019|  341|       PETIT LARCENY|  321|LARCENY,PETIT FRO...|       COMPLETED|MISDEMEANOR|   QUEENS|             null|              STREET|   N.Y. POLICE DEPT|                0|    null|      null|       null|           NaN|          null|    null|            null|(40.6984434060000...|PATROL BORO QUEEN...|        null|        25-44|         WHITE|      M|\n",
            "+----------+------------+------------+------------+------------+-----------+----------+-----+--------------------+-----+--------------------+----------------+-----------+---------+-----------------+--------------------+-------------------+-----------------+--------+----------+-----------+--------------+--------------+--------+----------------+--------------------+--------------------+------------+-------------+--------------+-------+\n",
            "only showing top 20 rows\n",
            "\n"
          ]
        }
      ],
      "source": [
        "valid_age_groups = ['<18','18-24','25-44','45-64','65+',np.NaN]\n",
        "df = df.withColumn('VIC_AGE_GROUP', when(df.VIC_AGE_GROUP.isin(valid_age_groups), df.VIC_AGE_GROUP).otherwise(np.NaN))\n",
        "df.show()"
      ]
    },
    {
      "cell_type": "code",
      "execution_count": null,
      "metadata": {
        "colab": {
          "base_uri": "https://localhost:8080/"
        },
        "id": "rY0e7MKMdpBb",
        "outputId": "2e640eeb-1f6d-4d04-e57c-2aee6db67d7b"
      },
      "outputs": [
        {
          "name": "stdout",
          "output_type": "stream",
          "text": [
            "+-------------+\n",
            "|VIC_AGE_GROUP|\n",
            "+-------------+\n",
            "|          <18|\n",
            "|        25-44|\n",
            "|          65+|\n",
            "|          NaN|\n",
            "|        18-24|\n",
            "|        45-64|\n",
            "+-------------+\n",
            "\n"
          ]
        }
      ],
      "source": [
        "df.select('VIC_AGE_GROUP').distinct().show()"
      ]
    },
    {
      "cell_type": "code",
      "execution_count": null,
      "metadata": {
        "colab": {
          "base_uri": "https://localhost:8080/"
        },
        "id": "525Nar0QeH1e",
        "outputId": "25f51d77-e6dc-4ef9-fbbf-af05cca5b430"
      },
      "outputs": [
        {
          "name": "stdout",
          "output_type": "stream",
          "text": [
            "+----------+------------+------------+------------+------------+-----------+----------+-----+--------------------+-----+--------------------+----------------+-----------+---------+-----------------+--------------------+----------------+-----------------+--------+----------+-----------+--------------+---------+--------+----------------+--------------------+------------+-------------+--------------------+-------+\n",
            "|CMPLNT_NUM|CMPLNT_FR_DT|CMPLNT_FR_TM|CMPLNT_TO_DT|CMPLNT_TO_TM|ADDR_PCT_CD|    RPT_DT|KY_CD|           OFNS_DESC|PD_CD|             PD_DESC|CRM_ATPT_CPTD_CD| LAW_CAT_CD|  BORO_NM|LOC_OF_OCCUR_DESC|       PREM_TYP_DESC|      JURIS_DESC|JURISDICTION_CODE|PARKS_NM|HADEVELOPT|HOUSING_PSA|SUSP_AGE_GROUP|SUSP_RACE|SUSP_SEX|TRANSIT_DISTRICT|         PATROL_BORO|STATION_NAME|VIC_AGE_GROUP|            VIC_RACE|VIC_SEX|\n",
            "+----------+------------+------------+------------+------------+-----------+----------+-----+--------------------+-----+--------------------+----------------+-----------+---------+-----------------+--------------------+----------------+-----------------+--------+----------+-----------+--------------+---------+--------+----------------+--------------------+------------+-------------+--------------------+-------+\n",
            "| 751484078|  03/29/2019|    00:00:00|  04/01/2019|    18:00:00|        108|04/06/2019|  109|       GRAND LARCENY|  434|LARCENY,GRAND BY ...|       COMPLETED|     FELONY|   QUEENS|           INSIDE|RESIDENCE - APT. ...|N.Y. POLICE DEPT|                0|    null|      null|       null|           NaN|     null|    null|            null|PATROL BORO QUEEN...|        null|        45-64|ASIAN / PACIFIC I...|      M|\n",
            "| 596232679|  04/30/2019|    00:00:00|  05/02/2019|    11:30:00|        108|05/03/2019|  351|CRIMINAL MISCHIEF...|  258|CRIMINAL MISCHIEF...|       COMPLETED|MISDEMEANOR|   QUEENS|          REAR OF|               OTHER|N.Y. POLICE DEPT|                0|    null|      null|       null|           NaN|     null|    null|            null|PATROL BORO QUEEN...|        null|        45-64|ASIAN / PACIFIC I...|      F|\n",
            "| 691793625|  12/08/2019|    00:00:00|  12/08/2019|    23:59:00|          9|12/29/2019|  109|       GRAND LARCENY|  405|LARCENY,GRAND BY ...|       COMPLETED|     FELONY|MANHATTAN|           INSIDE|         CHAIN STORE|N.Y. POLICE DEPT|                0|    null|      null|       null|           NaN|     null|    null|            null|PATROL BORO MAN S...|        null|        18-24|ASIAN / PACIFIC I...|      F|\n",
            "| 734304855|  09/26/2019|    00:00:00|  09/26/2019|    00:15:00|        113|09/26/2019|  126|MISCELLANEOUS PEN...|  198| CRIMINAL CONTEMPT 1|       COMPLETED|     FELONY|   QUEENS|         FRONT OF|     RESIDENCE-HOUSE|N.Y. POLICE DEPT|                0|    null|      null|       null|           NaN|     null|    null|            null|PATROL BORO QUEEN...|        null|        25-44|               BLACK|      M|\n",
            "| 890656773|  12/07/2019|    00:00:00|  12/07/2019|    12:00:00|         75|12/07/2019|  341|       PETIT LARCENY|  321|LARCENY,PETIT FRO...|       COMPLETED|MISDEMEANOR| BROOKLYN|             null|              STREET|N.Y. POLICE DEPT|                0|    null|      null|       null|           NaN|     null|    null|            null|PATROL BORO BKLYN...|        null|        25-44|               BLACK|      M|\n",
            "+----------+------------+------------+------------+------------+-----------+----------+-----+--------------------+-----+--------------------+----------------+-----------+---------+-----------------+--------------------+----------------+-----------------+--------+----------+-----------+--------------+---------+--------+----------------+--------------------+------------+-------------+--------------------+-------+\n",
            "only showing top 5 rows\n",
            "\n"
          ]
        }
      ],
      "source": [
        "df.show(n=5)"
      ]
    },
    {
      "cell_type": "markdown",
      "metadata": {
        "id": "9C5Wbu2Hrb4m"
      },
      "source": [
        "### Check for Race Values "
      ]
    },
    {
      "cell_type": "code",
      "execution_count": null,
      "metadata": {
        "colab": {
          "base_uri": "https://localhost:8080/"
        },
        "id": "mGZ6lAHAoC7m",
        "outputId": "bd7c49df-edbc-4e47-cfd0-5cc8a6174799"
      },
      "outputs": [
        {
          "name": "stdout",
          "output_type": "stream",
          "text": [
            "+--------------------+\n",
            "|           SUSP_RACE|\n",
            "+--------------------+\n",
            "|               WHITE|\n",
            "|               BLACK|\n",
            "|AMERICAN INDIAN/A...|\n",
            "|                null|\n",
            "|      BLACK HISPANIC|\n",
            "|      WHITE HISPANIC|\n",
            "|             UNKNOWN|\n",
            "|ASIAN / PACIFIC I...|\n",
            "|               OTHER|\n",
            "+--------------------+\n",
            "\n"
          ]
        }
      ],
      "source": [
        "df.select('SUSP_RACE').distinct().show()"
      ]
    },
    {
      "cell_type": "markdown",
      "metadata": {
        "id": "zL4B-B4f2fp2"
      },
      "source": [
        "#### Replace all `UNKNOWN` values with `NaN`"
      ]
    },
    {
      "cell_type": "code",
      "execution_count": null,
      "metadata": {
        "id": "lC0bTJYj2W2Q"
      },
      "outputs": [],
      "source": [
        "from pyspark.sql.functions import regexp_replace\n",
        "\n",
        "df = df.withColumn(\"SUSP_RACE\",\n",
        "  regexp_replace(\"SUSP_RACE\", \"UNKNOWN\", \"NaN\"))"
      ]
    },
    {
      "cell_type": "code",
      "execution_count": null,
      "metadata": {
        "colab": {
          "base_uri": "https://localhost:8080/"
        },
        "id": "Lz15zl4N8e5l",
        "outputId": "996f4ae8-f48c-4f70-b42b-6f5c41fc7953"
      },
      "outputs": [
        {
          "name": "stdout",
          "output_type": "stream",
          "text": [
            "+----------+------------+------------+------------+------------+-----------+----------+-----+--------------------+-----+--------------------+----------------+-----------+-------------+-----------------+--------------------+-------------------+-----------------+--------+-----------------+-----------+--------------+--------------------+--------+----------------+--------------------+--------------------+-------------+--------------------+-------+\n",
            "|CMPLNT_NUM|CMPLNT_FR_DT|CMPLNT_FR_TM|CMPLNT_TO_DT|CMPLNT_TO_TM|ADDR_PCT_CD|    RPT_DT|KY_CD|           OFNS_DESC|PD_CD|             PD_DESC|CRM_ATPT_CPTD_CD| LAW_CAT_CD|      BORO_NM|LOC_OF_OCCUR_DESC|       PREM_TYP_DESC|         JURIS_DESC|JURISDICTION_CODE|PARKS_NM|       HADEVELOPT|HOUSING_PSA|SUSP_AGE_GROUP|           SUSP_RACE|SUSP_SEX|TRANSIT_DISTRICT|         PATROL_BORO|        STATION_NAME|VIC_AGE_GROUP|            VIC_RACE|VIC_SEX|\n",
            "+----------+------------+------------+------------+------------+-----------+----------+-----+--------------------+-----+--------------------+----------------+-----------+-------------+-----------------+--------------------+-------------------+-----------------+--------+-----------------+-----------+--------------+--------------------+--------+----------------+--------------------+--------------------+-------------+--------------------+-------+\n",
            "| 751484078|  03/29/2019|    00:00:00|  04/01/2019|    18:00:00|        108|04/06/2019|  109|       GRAND LARCENY|  434|LARCENY,GRAND BY ...|       COMPLETED|     FELONY|       QUEENS|           INSIDE|RESIDENCE - APT. ...|   N.Y. POLICE DEPT|                0|    null|             null|       null|           NaN|                null|    null|            null|PATROL BORO QUEEN...|                null|        45-64|ASIAN / PACIFIC I...|      M|\n",
            "| 596232679|  04/30/2019|    00:00:00|  05/02/2019|    11:30:00|        108|05/03/2019|  351|CRIMINAL MISCHIEF...|  258|CRIMINAL MISCHIEF...|       COMPLETED|MISDEMEANOR|       QUEENS|          REAR OF|               OTHER|   N.Y. POLICE DEPT|                0|    null|             null|       null|           NaN|                null|    null|            null|PATROL BORO QUEEN...|                null|        45-64|ASIAN / PACIFIC I...|      F|\n",
            "| 691793625|  12/08/2019|    00:00:00|  12/08/2019|    23:59:00|          9|12/29/2019|  109|       GRAND LARCENY|  405|LARCENY,GRAND BY ...|       COMPLETED|     FELONY|    MANHATTAN|           INSIDE|         CHAIN STORE|   N.Y. POLICE DEPT|                0|    null|             null|       null|           NaN|                null|    null|            null|PATROL BORO MAN S...|                null|        18-24|ASIAN / PACIFIC I...|      F|\n",
            "| 734304855|  09/26/2019|    00:00:00|  09/26/2019|    00:15:00|        113|09/26/2019|  126|MISCELLANEOUS PEN...|  198| CRIMINAL CONTEMPT 1|       COMPLETED|     FELONY|       QUEENS|         FRONT OF|     RESIDENCE-HOUSE|   N.Y. POLICE DEPT|                0|    null|             null|       null|           NaN|                null|    null|            null|PATROL BORO QUEEN...|                null|        25-44|               BLACK|      M|\n",
            "| 890656773|  12/07/2019|    00:00:00|  12/07/2019|    12:00:00|         75|12/07/2019|  341|       PETIT LARCENY|  321|LARCENY,PETIT FRO...|       COMPLETED|MISDEMEANOR|     BROOKLYN|             null|              STREET|   N.Y. POLICE DEPT|                0|    null|             null|       null|           NaN|                null|    null|            null|PATROL BORO BKLYN...|                null|        25-44|               BLACK|      M|\n",
            "| 877741694|  07/21/2019|    00:00:00|  07/21/2019|    00:15:00|        107|07/21/2019|  121|CRIMINAL MISCHIEF...|  269|MISCHIEF,CRIMINAL...|       COMPLETED|     FELONY|       QUEENS|         FRONT OF|           FAST FOOD|   N.Y. POLICE DEPT|                0|    null|             null|       null|           NaN|                null|    null|            null|PATROL BORO QUEEN...|                null|          NaN|             UNKNOWN|      D|\n",
            "| 933824284|  04/27/2019|    00:00:00|  04/27/2019|    07:00:00|        101|04/27/2019|  578|       HARRASSMENT 2|  638|HARASSMENT,SUBD 3...|       COMPLETED|  VIOLATION|       QUEENS|           INSIDE|RESIDENCE - APT. ...|   N.Y. POLICE DEPT|                0|    null|             null|       null|           NaN|                null|    null|            null|PATROL BORO QUEEN...|                null|        25-44|               WHITE|      F|\n",
            "| 154132132|  06/15/2019|    00:00:00|  06/15/2019|    07:40:00|         77|06/15/2019|  341|       PETIT LARCENY|  349|LARCENY,PETIT OF ...|       COMPLETED|MISDEMEANOR|     BROOKLYN|         FRONT OF|RESIDENCE - PUBLI...|N.Y. HOUSING POLICE|                2|    null|        ALBANY II|      329.0|           NaN|                null|    null|            null|PATROL BORO BKLYN...|                null|        25-44|      WHITE HISPANIC|      F|\n",
            "| 243121723|  05/01/2016|    00:00:00|  06/16/2019|    00:00:00|         68|06/22/2019|  112|         THEFT-FRAUD|  739|FRAUD,UNCLASSIFIE...|       COMPLETED|     FELONY|     BROOKLYN|           INSIDE|RESIDENCE - APT. ...|   N.Y. POLICE DEPT|                0|    null|             null|       null|           NaN|                null|    null|            null|PATROL BORO BKLYN...|                null|        25-44|      WHITE HISPANIC|      M|\n",
            "| 353863445|  10/24/2018|    00:00:00|  03/05/2019|    07:00:00|         34|03/06/2019|  109|       GRAND LARCENY|  407|LARCENY,GRAND BY ...|       COMPLETED|     FELONY|    MANHATTAN|           INSIDE|  STORE UNCLASSIFIED|   N.Y. POLICE DEPT|                0|    null|             null|       null|         25-44|      WHITE HISPANIC|       F|            null|PATROL BORO MAN N...|                null|          NaN|             UNKNOWN|      D|\n",
            "| 325378889|  07/14/2019|    00:00:00|        null|        null|         49|07/15/2019|  344|ASSAULT 3 & RELAT...|  101|           ASSAULT 3|       COMPLETED|MISDEMEANOR|        BRONX|           INSIDE|RESIDENCE - APT. ...|   N.Y. POLICE DEPT|                0|    null|             null|       null|         25-44|                 NaN|       F|            null|   PATROL BORO BRONX|                null|          <18|      WHITE HISPANIC|      M|\n",
            "| 325713654|  03/16/2019|    00:00:00|        null|        null|         32|03/18/2019|  578|       HARRASSMENT 2|  638|HARASSMENT,SUBD 3...|       COMPLETED|  VIOLATION|    MANHATTAN|           INSIDE|RESIDENCE - APT. ...|   N.Y. POLICE DEPT|                0|    null|             null|       null|           NaN|      WHITE HISPANIC|       M|            null|PATROL BORO MAN N...|                null|        18-24|               BLACK|      F|\n",
            "| 110459024|  05/15/2019|    00:00:00|  05/15/2019|    00:03:00|         77|05/15/2019|  344|ASSAULT 3 & RELAT...|  101|           ASSAULT 3|       COMPLETED|MISDEMEANOR|     BROOKLYN|         FRONT OF|              STREET|   N.Y. POLICE DEPT|                0|    null|             null|       null|         45-64|               BLACK|       M|            null|PATROL BORO BKLYN...|                null|          <18|               BLACK|      F|\n",
            "| 906697092|  07/24/2019|    00:00:00|  07/24/2019|    00:05:00|         49|07/24/2019|  344|ASSAULT 3 & RELAT...|  113|MENACING,UNCLASSI...|       COMPLETED|MISDEMEANOR|        BRONX|         FRONT OF|              STREET|   N.Y. POLICE DEPT|                0|    null|             null|       null|           NaN|               BLACK|       M|            null|   PATROL BORO BRONX|                null|        25-44|               BLACK|      M|\n",
            "| 748376958|  09/23/2017|    00:00:00|  07/16/2019|    23:59:00|        105|07/30/2019|  104|                RAPE|  157|              RAPE 1|       COMPLETED|     FELONY|       QUEENS|           INSIDE|    HOMELESS SHELTER|   N.Y. POLICE DEPT|                0|    null|             null|       null|           NaN|                 NaN|       M|            null|PATROL BORO QUEEN...|                null|          <18|               BLACK|      F|\n",
            "| 506575095|  11/19/2019|    00:00:00|        null|        null|         48|11/19/2019|  344|ASSAULT 3 & RELAT...|  101|           ASSAULT 3|       COMPLETED|MISDEMEANOR|        BRONX|           INSIDE|RESIDENCE - APT. ...|   N.Y. POLICE DEPT|                0|    null|             null|       null|         25-44|      BLACK HISPANIC|       M|            null|   PATROL BORO BRONX|                null|        45-64|      BLACK HISPANIC|      F|\n",
            "| 517894726|  02/02/2019|    00:00:00|  04/02/2019|    10:48:00|         41|04/02/2019|  361|OFF. AGNST PUB OR...|  639|AGGRAVATED HARASS...|       COMPLETED|MISDEMEANOR|        BRONX|           INSIDE|   FACTORY/WAREHOUSE|   N.Y. POLICE DEPT|                0|    null|             null|       null|         45-64|               WHITE|       M|            null|   PATROL BORO BRONX|                null|          NaN|             UNKNOWN|      D|\n",
            "| 873203049|  04/07/2019|    00:00:00|  04/07/2019|    00:12:00|         45|04/07/2019|  126|MISCELLANEOUS PEN...|  117|RECKLESS ENDANGER...|       COMPLETED|     FELONY|        BRONX|         FRONT OF|              STREET|   N.Y. POLICE DEPT|                0|    null|             null|       null|         25-44|      WHITE HISPANIC|       M|            null|   PATROL BORO BRONX|                null|          NaN|             UNKNOWN|      E|\n",
            "| 603694797|  05/22/2019|    00:00:00|  05/22/2019|    00:23:00|         66|05/22/2019|  106|      FELONY ASSAULT|  109|ASSAULT 2,1,UNCLA...|       COMPLETED|     FELONY|     BROOKLYN|           INSIDE|RESIDENCE - APT. ...|   N.Y. POLICE DEPT|                0|    null|             null|       null|         45-64|      WHITE HISPANIC|       M|            null|PATROL BORO BKLYN...|                null|        25-44|      WHITE HISPANIC|      F|\n",
            "| 638801430|  07/27/2019|    00:00:00|  07/27/2019|    00:05:00|         90|07/28/2019|  578|       HARRASSMENT 2|  638|HARASSMENT,SUBD 3...|       COMPLETED|  VIOLATION|     BROOKLYN|         FRONT OF|RESIDENCE - APT. ...|   N.Y. POLICE DEPT|                0|    null|             null|       null|         25-44|      WHITE HISPANIC|       M|            null|PATROL BORO BKLYN...|                null|        45-64|      WHITE HISPANIC|      M|\n",
            "| 146879926|  11/18/2019|    00:00:00|  11/18/2019|    18:00:00|         13|11/18/2019|  351|CRIMINAL MISCHIEF...|  258|CRIMINAL MISCHIEF...|       COMPLETED|MISDEMEANOR|    MANHATTAN|         FRONT OF| COMMERCIAL BUILDING|   N.Y. POLICE DEPT|                0|    null|             null|       null|           NaN|                 NaN|       U|            null|PATROL BORO MAN S...|                null|          NaN|             UNKNOWN|      E|\n",
            "| 349822138|  06/19/2019|    00:01:00|  06/20/2019|    10:00:00|        107|06/28/2019|  109|       GRAND LARCENY|  403|LARCENY,GRAND BY ...|       COMPLETED|     FELONY|       QUEENS|           INSIDE|RESIDENCE - APT. ...|   N.Y. POLICE DEPT|                0|    null|             null|       null|           NaN|                null|    null|            null|PATROL BORO QUEEN...|                null|          65+|               BLACK|      F|\n",
            "| 380607377|  01/01/2019|    00:01:00|  10/08/2019|    16:59:00|        107|10/08/2019|  351|CRIMINAL MISCHIEF...|  258|CRIMINAL MISCHIEF...|       COMPLETED|MISDEMEANOR|       QUEENS|             null|              STREET|   N.Y. POLICE DEPT|                0|    null|             null|       null|           NaN|                null|    null|            null|PATROL BORO QUEEN...|                null|          NaN|             UNKNOWN|      E|\n",
            "| 989064982|  01/01/2019|    00:01:00|  10/08/2019|    16:59:00|        107|10/08/2019|  351|CRIMINAL MISCHIEF...|  258|CRIMINAL MISCHIEF...|       COMPLETED|MISDEMEANOR|       QUEENS|             null|              STREET|   N.Y. POLICE DEPT|                0|    null|             null|       null|           NaN|                null|    null|            null|PATROL BORO QUEEN...|                null|          NaN|             UNKNOWN|      E|\n",
            "| 505845709|  07/04/2019|    00:01:00|  07/04/2019|    10:00:00|        120|07/05/2019|  361|OFF. AGNST PUB OR...|  639|AGGRAVATED HARASS...|       COMPLETED|MISDEMEANOR|STATEN ISLAND|           INSIDE|     RESIDENCE-HOUSE|   N.Y. POLICE DEPT|                0|    null|             null|       null|           <18|               BLACK|       F|            null|PATROL BORO STATE...|                null|          <18|               WHITE|      F|\n",
            "| 329769852|  11/28/2016|    00:01:00|  11/28/2016|    23:59:00|         71|03/27/2019|  115|PROSTITUTION & RE...|  587|PROSTITUTION 2, C...|       COMPLETED|     FELONY|     BROOKLYN|           INSIDE|RESIDENCE - APT. ...|   N.Y. POLICE DEPT|                0|    null|             null|       null|         45-64|               BLACK|       M|            null|PATROL BORO BKLYN...|                null|        25-44|ASIAN / PACIFIC I...|      F|\n",
            "| 141825901|  07/17/2019|    00:01:00|  07/18/2019|    17:03:00|         79|07/18/2019|  352|   CRIMINAL TRESPASS|  205|TRESPASS 2, CRIMINAL|       COMPLETED|MISDEMEANOR|     BROOKLYN|           INSIDE|RESIDENCE - APT. ...|   N.Y. POLICE DEPT|                0|    null|             null|       null|         25-44|               BLACK|       M|            null|PATROL BORO BKLYN...|                null|          65+|ASIAN / PACIFIC I...|      M|\n",
            "| 738608402|  06/01/2016|    00:01:00|  07/01/2017|    23:59:00|         25|03/15/2019|  233|          SEX CRIMES|  170|SEXUAL MISCONDUCT...|       COMPLETED|MISDEMEANOR|    MANHATTAN|           INSIDE|RESIDENCE - PUBLI...|N.Y. HOUSING POLICE|                2|    null|             null|      662.0|           <18|                 NaN|       M|            null|PATROL BORO MAN N...|                null|          <18|             UNKNOWN|      F|\n",
            "| 454256336|  09/01/2019|    00:01:00|  09/12/2019|    23:59:00|         25|10/01/2019|  125|NYS LAWS-UNCLASSI...|  847|NY STATE LAWS,UNC...|       COMPLETED|     FELONY|    MANHATTAN|           INSIDE|    HOMELESS SHELTER|   N.Y. POLICE DEPT|                0|    null|             null|       null|         25-44|               BLACK|       M|            null|PATROL BORO MAN N...|                null|          NaN|             UNKNOWN|      E|\n",
            "| 913636912|  11/13/2019|    00:01:00|        null|        null|         13|11/13/2019|  341|       PETIT LARCENY|  333|LARCENY,PETIT FRO...|       COMPLETED|MISDEMEANOR|    MANHATTAN|           INSIDE|    DEPARTMENT STORE|   N.Y. POLICE DEPT|                0|    null|             null|       null|         45-64|               BLACK|       M|            null|PATROL BORO MAN S...|                null|          NaN|             UNKNOWN|      D|\n",
            "| 468659844|  08/22/2019|    00:01:00|  08/22/2019|    00:10:00|         52|08/22/2019|  361|OFF. AGNST PUB OR...|  639|AGGRAVATED HARASS...|       COMPLETED|MISDEMEANOR|        BRONX|         FRONT OF|              STREET|   N.Y. POLICE DEPT|                0|    null|             null|       null|           NaN|               BLACK|       M|            null|   PATROL BORO BRONX|                null|        25-44|               WHITE|      M|\n",
            "| 575413134|  09/23/2019|    00:01:00|  09/23/2019|    00:10:00|        120|09/23/2019|  578|       HARRASSMENT 2|  638|HARASSMENT,SUBD 3...|       COMPLETED|  VIOLATION|STATEN ISLAND|         FRONT OF|RESIDENCE - APT. ...|   N.Y. POLICE DEPT|                0|    null|             null|       null|         45-64|               WHITE|       M|            null|PATROL BORO STATE...|                null|          65+|               WHITE|      M|\n",
            "| 426238644|  07/18/2019|    00:01:00|  07/29/2019|    13:00:00|         88|08/03/2019|  109|       GRAND LARCENY|  422|LARCENY,GRAND BY ...|       COMPLETED|     FELONY|     BROOKLYN|           INSIDE|RESIDENCE - PUBLI...|N.Y. HOUSING POLICE|                2|    null|        INGERSOLL|      477.0|           NaN|                 NaN|       U|            null|PATROL BORO BKLYN...|                null|          65+|             UNKNOWN|      F|\n",
            "| 934546479|  03/18/2019|    00:01:00|  04/14/2019|    00:00:00|         77|06/29/2019|  112|         THEFT-FRAUD|  739|FRAUD,UNCLASSIFIE...|       COMPLETED|     FELONY|     BROOKLYN|           INSIDE|     TELECOMM. STORE|   N.Y. POLICE DEPT|                0|    null|             null|       null|           NaN|                 NaN|       U|            null|PATROL BORO BKLYN...|                null|        25-44|               WHITE|      M|\n",
            "| 589617127|  04/10/2019|    00:01:00|  06/07/2019|    23:59:00|         70|06/20/2019|  109|       GRAND LARCENY|  424|LARCENY,GRAND BY ...|       COMPLETED|     FELONY|     BROOKLYN|           INSIDE|     RESIDENCE-HOUSE|   N.Y. POLICE DEPT|                0|    null|             null|       null|           NaN|                 NaN|       U|            null|PATROL BORO BKLYN...|                null|          65+|      WHITE HISPANIC|      F|\n",
            "| 927128106|  10/01/2019|    00:04:00|        null|        null|         44|10/01/2019|  351|CRIMINAL MISCHIEF...|  254|MISCHIEF, CRIMINA...|       COMPLETED|MISDEMEANOR|        BRONX|             null|              STREET|   N.Y. POLICE DEPT|                0|    null|             null|       null|           NaN|               BLACK|       M|            null|   PATROL BORO BRONX|                null|        25-44|      WHITE HISPANIC|      M|\n",
            "| 860457263|  09/02/2019|    00:05:00|  09/02/2019|    00:20:00|         81|09/02/2019|  350|            GAMBLING|  544|GAMBLING 2,PROMOT...|       COMPLETED|MISDEMEANOR|     BROOKLYN|         FRONT OF|RESIDENCE - PUBLI...|N.Y. HOUSING POLICE|                2|    null|         BREVOORT|      450.0|           NaN|                null|    null|            null|PATROL BORO BKLYN...|                null|          NaN|             UNKNOWN|      E|\n",
            "| 847918699|  11/17/2019|    00:05:00|  11/17/2019|    03:00:00|          7|11/17/2019|  109|       GRAND LARCENY|  406|LARCENY,GRAND FRO...|       COMPLETED|     FELONY|    MANHATTAN|           INSIDE|      BAR/NIGHT CLUB|   N.Y. POLICE DEPT|                0|    null|             null|       null|           NaN|                null|    null|            null|PATROL BORO MAN S...|                null|        18-24|               WHITE|      F|\n",
            "| 720018226|  03/29/2019|    00:05:00|  03/29/2019|    00:25:00|         49|03/29/2019|  105|             ROBBERY|  397|ROBBERY,OPEN AREA...|       COMPLETED|     FELONY|        BRONX|             null|              STREET|   N.Y. POLICE DEPT|                0|    null|             null|       null|           NaN|      BLACK HISPANIC|       M|            null|   PATROL BORO BRONX|                null|        45-64|               BLACK|      M|\n",
            "| 177046344|  11/30/2019|    00:05:00|  11/30/2019|    00:10:00|         60|12/02/2019|  344|ASSAULT 3 & RELAT...|  101|           ASSAULT 3|       COMPLETED|MISDEMEANOR|     BROOKLYN|           INSIDE|RESIDENCE - APT. ...|   N.Y. POLICE DEPT|                0|    null|             null|       null|         25-44|               WHITE|       M|            null|PATROL BORO BKLYN...|                null|        25-44|               BLACK|      F|\n",
            "| 128082740|  04/10/2019|    00:07:00|  04/10/2019|    00:33:00|         46|04/10/2019|  344|ASSAULT 3 & RELAT...|  101|           ASSAULT 3|       COMPLETED|MISDEMEANOR|        BRONX|           INSIDE|RESIDENCE - APT. ...|   N.Y. POLICE DEPT|                0|    null|             null|       null|         18-24|      BLACK HISPANIC|       M|            null|   PATROL BORO BRONX|                null|        45-64|      BLACK HISPANIC|      M|\n",
            "| 997029926|  05/05/2019|    00:10:00|  05/05/2019|    00:15:00|         71|05/09/2019|  109|       GRAND LARCENY|  443|LARCENY,GRAND OF ...|       COMPLETED|     FELONY|     BROOKLYN|             null|              STREET|   N.Y. POLICE DEPT|                0|    null|             null|       null|           NaN|                null|    null|            null|PATROL BORO BKLYN...|                null|          NaN|             UNKNOWN|      D|\n",
            "| 596766681|  08/26/2019|    00:10:00|  08/26/2019|    00:50:00|        121|08/26/2019|  578|       HARRASSMENT 2|  638|HARASSMENT,SUBD 3...|       COMPLETED|  VIOLATION|STATEN ISLAND|           INSIDE|     RESIDENCE-HOUSE|   N.Y. POLICE DEPT|                0|    null|             null|       null|           NaN|                null|    null|            null|PATROL BORO STATE...|                null|        45-64|               WHITE|      F|\n",
            "| 159528444|  04/17/2019|    00:10:00|  04/17/2019|    00:15:00|         43|04/17/2019|  344|ASSAULT 3 & RELAT...|  101|           ASSAULT 3|       COMPLETED|MISDEMEANOR|        BRONX|           INSIDE|RESIDENCE - PUBLI...|N.Y. HOUSING POLICE|                2|    null|             null|      879.0|         45-64|               BLACK|       M|            null|   PATROL BORO BRONX|                null|        25-44|               BLACK|      M|\n",
            "| 199570141|  10/04/2019|    00:10:00|  10/04/2019|    00:20:00|         70|10/04/2019|  105|             ROBBERY|  397|ROBBERY,OPEN AREA...|       COMPLETED|     FELONY|     BROOKLYN|         FRONT OF|              STREET|   N.Y. POLICE DEPT|                0|    null|             null|       null|         25-44|               BLACK|       M|            null|PATROL BORO BKLYN...|                null|        18-24|               BLACK|      M|\n",
            "| 369501081|  07/04/2019|    00:15:00|  07/04/2019|    00:30:00|         26|07/19/2019|  116|          SEX CRIMES|  164|            SODOMY 3|       COMPLETED|     FELONY|    MANHATTAN|           INSIDE|RESIDENCE - APT. ...|   N.Y. POLICE DEPT|                0|    null|             null|       null|         45-64|               BLACK|       M|            null|PATROL BORO MAN N...|                null|        25-44|               BLACK|      F|\n",
            "| 199116470|  04/20/2019|    00:15:00|  04/20/2019|    00:25:00|        109|04/20/2019|  105|             ROBBERY|  399|ROBBERY,COMMERCIA...|       ATTEMPTED|     FELONY|       QUEENS|           INSIDE| COMMERCIAL BUILDING|   N.Y. POLICE DEPT|                0|    null|             null|       null|         25-44|               BLACK|       M|            null|PATROL BORO QUEEN...|                null|          NaN|             UNKNOWN|      D|\n",
            "| 482635855|  12/22/2019|    00:15:00|  12/22/2019|    00:20:00|         81|12/22/2019|  341|       PETIT LARCENY|  333|LARCENY,PETIT FRO...|       COMPLETED|MISDEMEANOR|     BROOKLYN|           INSIDE|         CHAIN STORE|   N.Y. POLICE DEPT|                0|    null|             null|       null|         45-64|               BLACK|       M|            null|PATROL BORO BKLYN...|                null|          NaN|             UNKNOWN|      D|\n",
            "| 470793052|  03/06/2019|    00:15:00|  03/06/2019|    00:20:00|         73|03/06/2019|  578|       HARRASSMENT 2|  638|HARASSMENT,SUBD 3...|       COMPLETED|  VIOLATION|     BROOKLYN|           INSIDE|RESIDENCE - PUBLI...|N.Y. HOUSING POLICE|                2|    null|HUGHES APARTMENTS|      361.0|         25-44|               BLACK|       M|            null|PATROL BORO BKLYN...|                null|        25-44|      WHITE HISPANIC|      F|\n",
            "| 680991366|  06/26/2019|    00:15:00|  06/26/2019|    00:20:00|         30|06/26/2019|  341|       PETIT LARCENY|  339|LARCENY,PETIT FRO...|       COMPLETED|MISDEMEANOR|    MANHATTAN|             null|TRANSIT - NYC SUBWAY|N.Y. TRANSIT POLICE|                1|    null|             null|       null|           NaN|                 NaN|       U|               3|PATROL BORO MAN N...|          145 STREET|        25-44|               BLACK|      M|\n",
            "| 984802148|  10/25/2019|    00:15:00|  10/25/2019|    00:50:00|         47|10/25/2019|  109|       GRAND LARCENY|  438|LARCENY,GRAND FRO...|       COMPLETED|     FELONY|        BRONX|           INSIDE|               OTHER|              OTHER|               97|    null|             null|       null|           NaN|                 NaN|       U|            null|   PATROL BORO BRONX|                null|        45-64|               WHITE|      M|\n",
            "| 565945240|  10/25/2019|    00:16:00|  10/25/2019|    01:04:00|         67|10/25/2019|  346|ALCOHOLIC BEVERAG...|  802|ALCOHOLIC BEVERAG...|       COMPLETED|MISDEMEANOR|     BROOKLYN|           INSIDE|  SOCIAL CLUB/POLICY|   N.Y. POLICE DEPT|                0|    null|             null|       null|         25-44|               WHITE|       M|            null|PATROL BORO BKLYN...|                null|          NaN|             UNKNOWN|      E|\n",
            "| 971058793|  03/18/2019|    00:17:00|  03/18/2019|    00:27:00|         61|03/18/2019|  578|       HARRASSMENT 2|  638|HARASSMENT,SUBD 3...|       COMPLETED|  VIOLATION|     BROOKLYN|             null|              STREET|   N.Y. POLICE DEPT|                0|    null|             null|       null|           NaN|                 NaN|       M|            null|PATROL BORO BKLYN...|                null|        25-44|               BLACK|      M|\n",
            "| 205474232|  04/08/2019|    00:18:00|  04/08/2019|    00:20:00|         77|04/08/2019|  118|   DANGEROUS WEAPONS|  792|WEAPONS POSSESSIO...|       COMPLETED|     FELONY|     BROOKLYN|         FRONT OF|              STREET|   N.Y. POLICE DEPT|                0|    null|             null|       null|           NaN|                null|    null|            null|PATROL BORO BKLYN...|                null|          NaN|             UNKNOWN|      E|\n",
            "| 646429530|  03/15/2019|    00:20:00|  03/15/2019|    00:30:00|         47|03/15/2019|  106|      FELONY ASSAULT|  109|ASSAULT 2,1,UNCLA...|       COMPLETED|     FELONY|        BRONX|           INSIDE|     RESIDENCE-HOUSE|   N.Y. POLICE DEPT|                0|    null|             null|       null|           <18|               BLACK|       M|            null|   PATROL BORO BRONX|                null|        18-24|               BLACK|      M|\n",
            "| 629934927|  11/30/2019|    00:22:00|  11/30/2019|    00:31:00|        105|11/30/2019|  344|ASSAULT 3 & RELAT...|  113|MENACING,UNCLASSI...|       COMPLETED|MISDEMEANOR|       QUEENS|         FRONT OF|              STREET|   N.Y. POLICE DEPT|                0|    null|             null|       null|         18-24|ASIAN / PACIFIC I...|       M|            null|PATROL BORO QUEEN...|                null|        18-24|ASIAN / PACIFIC I...|      M|\n",
            "| 429696561|  08/21/2019|    00:25:00|  08/21/2019|    00:35:00|        121|08/21/2019|  347|INTOXICATED & IMP...|  905|INTOXICATED DRIVI...|       COMPLETED|MISDEMEANOR|STATEN ISLAND|             null|              STREET|   N.Y. POLICE DEPT|                0|    null|             null|       null|         25-44|               WHITE|       M|            null|PATROL BORO STATE...|                null|          NaN|             UNKNOWN|      E|\n",
            "| 754307636|  03/25/2019|    00:30:00|  03/25/2019|    00:45:00|         14|03/25/2019|  361|OFF. AGNST PUB OR...|  639|AGGRAVATED HARASS...|       COMPLETED|MISDEMEANOR|    MANHATTAN|         FRONT OF|              STREET|   N.Y. POLICE DEPT|                0|    null|             null|       null|         25-44|ASIAN / PACIFIC I...|       F|            null|PATROL BORO MAN S...|                null|        25-44|      WHITE HISPANIC|      M|\n",
            "| 809625138|  08/29/2019|    00:30:00|  08/29/2019|    00:30:00|         63|08/29/2019|  341|       PETIT LARCENY|  339|LARCENY,PETIT FRO...|       COMPLETED|MISDEMEANOR|     BROOKLYN|         FRONT OF|              STREET|   N.Y. POLICE DEPT|                0|    null|             null|       null|           NaN|               BLACK|       M|            null|PATROL BORO BKLYN...|                null|        25-44|ASIAN / PACIFIC I...|      M|\n",
            "| 249195671|  09/12/2019|    00:30:00|  09/12/2019|    00:36:00|         69|09/12/2019|  578|       HARRASSMENT 2|  637|HARASSMENT,SUBD 1...|       COMPLETED|  VIOLATION|     BROOKLYN|           INSIDE|     RESIDENCE-HOUSE|   N.Y. POLICE DEPT|                0|    null|             null|       null|         25-44|               BLACK|       M|            null|PATROL BORO BKLYN...|                null|        25-44|               BLACK|      F|\n",
            "| 166733116|  09/14/2019|    00:30:00|  09/14/2019|    00:30:00|        110|09/14/2019|  110|GRAND LARCENY OF ...|  441|LARCENY,GRAND OF ...|       COMPLETED|     FELONY|       QUEENS|         FRONT OF|              STREET|   N.Y. POLICE DEPT|                0|    null|             null|       null|           NaN|                 NaN|       M|            null|PATROL BORO QUEEN...|                null|        45-64|               BLACK|      F|\n",
            "| 315342719|  08/05/2019|    00:30:00|        null|        null|          6|08/06/2019|  344|ASSAULT 3 & RELAT...|  101|           ASSAULT 3|       COMPLETED|MISDEMEANOR|    MANHATTAN|             null|TRANSIT - NYC SUBWAY|N.Y. TRANSIT POLICE|                1|    null|             null|       null|         25-44|               BLACK|       M|               2|PATROL BORO MAN S...|         W. 4 STREET|        25-44|               WHITE|      M|\n",
            "| 280886714|  02/26/2019|    00:30:00|  02/26/2019|    01:00:00|         33|03/02/2019|  344|ASSAULT 3 & RELAT...|  101|           ASSAULT 3|       COMPLETED|MISDEMEANOR|    MANHATTAN|         FRONT OF|    RESTAURANT/DINER|   N.Y. POLICE DEPT|                0|    null|             null|       null|           NaN|      BLACK HISPANIC|       M|            null|PATROL BORO MAN N...|                null|        25-44|      WHITE HISPANIC|      M|\n",
            "| 641872434|  06/29/2019|    00:30:00|  06/29/2019|    00:53:00|         19|06/29/2019|  355|OFFENSES AGAINST ...|  115|RECKLESS ENDANGER...|       COMPLETED|MISDEMEANOR|    MANHATTAN|             null|              STREET|   N.Y. POLICE DEPT|                0|    null|             null|       null|           NaN|               BLACK|       M|            null|PATROL BORO MAN N...|                null|        25-44|      WHITE HISPANIC|      M|\n",
            "| 715419188|  03/21/2019|    00:30:00|  03/21/2019|    18:00:00|         69|03/21/2019|  121|CRIMINAL MISCHIEF...|  267|MISCHIEF, CRIMINA...|       COMPLETED|     FELONY|     BROOKLYN|         FRONT OF|              STREET|   N.Y. POLICE DEPT|                0|    null|             null|       null|           NaN|                 NaN|       U|            null|PATROL BORO BKLYN...|                null|        25-44|               BLACK|      F|\n",
            "| 730356887|  11/21/2019|    00:30:00|  11/21/2019|    00:57:00|         90|11/21/2019|  348|VEHICLE AND TRAFF...|  916|LEAVING SCENE-ACC...|       COMPLETED|MISDEMEANOR|     BROOKLYN|             null|              STREET|   N.Y. POLICE DEPT|                0|    null|             null|       null|           NaN|                 NaN|       U|            null|PATROL BORO BKLYN...|                null|        25-44|               WHITE|      F|\n",
            "| 243231174|  02/18/2019|    00:33:00|  02/18/2019|    00:33:00|         14|04/09/2019|  121|CRIMINAL MISCHIEF...|  273|TAMPERING 1,CRIMINAL|       COMPLETED|     FELONY|    MANHATTAN|             null|TRANSIT - NYC SUBWAY|N.Y. TRANSIT POLICE|                1|    null|             null|       null|         25-44|               BLACK|       M|               2|PATROL BORO MAN S...|   34 ST.-HERALD SQ.|          NaN|             UNKNOWN|      E|\n",
            "| 172945308|  08/12/2019|    00:36:00|  08/12/2019|    00:40:00|         76|08/12/2019|  118|   DANGEROUS WEAPONS|  792|WEAPONS POSSESSIO...|       COMPLETED|     FELONY|     BROOKLYN|         FRONT OF|RESIDENCE - PUBLI...|N.Y. HOUSING POLICE|                2|    null|    RED HOOK EAST|      265.0|         25-44|      WHITE HISPANIC|       M|            null|PATROL BORO BKLYN...|                null|          NaN|             UNKNOWN|      E|\n",
            "| 949944325|  04/21/2019|    00:40:00|  04/21/2019|    00:45:00|         83|04/21/2019|  344|ASSAULT 3 & RELAT...|  101|           ASSAULT 3|       COMPLETED|MISDEMEANOR|     BROOKLYN|             null|              STREET|   N.Y. POLICE DEPT|                0|    null|             null|       null|           NaN|               BLACK|       M|            null|PATROL BORO BKLYN...|                null|        18-24|               BLACK|      F|\n",
            "| 204465303|  06/06/2019|    00:45:00|  06/06/2019|    00:45:00|         75|06/06/2019|  118|   DANGEROUS WEAPONS|  792|WEAPONS POSSESSIO...|       COMPLETED|     FELONY|     BROOKLYN|             null|              STREET|   N.Y. POLICE DEPT|                0|    null|             null|       null|           NaN|                null|    null|            null|PATROL BORO BKLYN...|                null|          NaN|             UNKNOWN|      E|\n",
            "| 408896512|  06/02/2019|    00:45:00|  06/02/2019|    00:52:00|         44|06/02/2019|  106|      FELONY ASSAULT|  109|ASSAULT 2,1,UNCLA...|       COMPLETED|     FELONY|        BRONX|             null|              STREET|   N.Y. POLICE DEPT|                0|    null|             null|       null|         18-24|               BLACK|       F|            null|   PATROL BORO BRONX|                null|        25-44|               BLACK|      M|\n",
            "| 629861927|  04/13/2019|    00:45:00|  04/13/2019|    00:55:00|         17|04/13/2019|  341|       PETIT LARCENY|  333|LARCENY,PETIT FRO...|       COMPLETED|MISDEMEANOR|    MANHATTAN|           INSIDE|         CHAIN STORE|   N.Y. POLICE DEPT|                0|    null|             null|       null|         45-64|      WHITE HISPANIC|       M|            null|PATROL BORO MAN S...|                null|          NaN|             UNKNOWN|      D|\n",
            "| 496650847|  08/28/2019|    00:45:00|        null|        null|         42|08/28/2019|  578|       HARRASSMENT 2|  637|HARASSMENT,SUBD 1...|       COMPLETED|  VIOLATION|        BRONX|           INSIDE|RESIDENCE - APT. ...|   N.Y. POLICE DEPT|                0|    null|             null|       null|         25-44|      WHITE HISPANIC|       M|            null|   PATROL BORO BRONX|                null|        45-64|      WHITE HISPANIC|      F|\n",
            "| 958728067|  09/21/2019|    00:45:00|  09/21/2019|    00:55:00|         50|09/21/2019|  344|ASSAULT 3 & RELAT...|  101|           ASSAULT 3|       COMPLETED|MISDEMEANOR|        BRONX|           INSIDE|    RESTAURANT/DINER|   N.Y. POLICE DEPT|                0|    null|             null|       null|           NaN|      WHITE HISPANIC|       M|            null|   PATROL BORO BRONX|                null|        45-64|      WHITE HISPANIC|      M|\n",
            "| 589118940|  10/25/2019|    00:50:00|        null|        null|         13|10/25/2019|  105|             ROBBERY|  366|     ROBBERY,BICYCLE|       COMPLETED|     FELONY|    MANHATTAN|         FRONT OF|              STREET|   N.Y. POLICE DEPT|                0|    null|             null|       null|         18-24|               BLACK|       M|            null|PATROL BORO MAN S...|                null|          NaN|             UNKNOWN|      M|\n",
            "| 980359900|  03/10/2019|    00:51:00|  03/10/2019|    01:05:00|          7|03/11/2019|  361|OFF. AGNST PUB OR...|  639|AGGRAVATED HARASS...|       COMPLETED|MISDEMEANOR|    MANHATTAN|             null|      GROCERY/BODEGA|   N.Y. POLICE DEPT|                0|    null|             null|       null|         45-64|               WHITE|       F|            null|PATROL BORO MAN S...|                null|        25-44|      WHITE HISPANIC|      M|\n",
            "| 366286877|  11/23/2019|    00:51:00|  11/23/2019|    01:16:00|         76|11/25/2019|  109|       GRAND LARCENY|  438|LARCENY,GRAND FRO...|       COMPLETED|     FELONY|     BROOKLYN|           INSIDE|      BAR/NIGHT CLUB|   N.Y. POLICE DEPT|                0|    null|             null|       null|           NaN|                 NaN|       M|            null|PATROL BORO BKLYN...|                null|        25-44|               WHITE|      F|\n",
            "| 701280488|  12/08/2019|    00:55:00|  12/08/2019|    01:00:00|         69|12/08/2019|  578|       HARRASSMENT 2|  638|HARASSMENT,SUBD 3...|       COMPLETED|  VIOLATION|     BROOKLYN|           INSIDE|     RESIDENCE-HOUSE|   N.Y. POLICE DEPT|                0|    null|             null|       null|         25-44|               BLACK|       M|            null|PATROL BORO BKLYN...|                null|        25-44|               BLACK|      M|\n",
            "| 214477920|  07/08/2019|    00:55:00|  07/08/2019|    01:00:00|          9|07/08/2019|  236|   DANGEROUS WEAPONS|  782|WEAPONS, POSSESSI...|       COMPLETED|MISDEMEANOR|    MANHATTAN|           INSIDE|RESIDENCE - PUBLI...|N.Y. HOUSING POLICE|                2|    null|             WALD|      609.0|           <18|      WHITE HISPANIC|       M|            null|PATROL BORO MAN S...|                null|          NaN|             UNKNOWN|      E|\n",
            "| 207575546|  06/03/2019|    00:55:00|  06/03/2019|    01:25:00|        106|06/03/2019|  106|      FELONY ASSAULT|  109|ASSAULT 2,1,UNCLA...|       COMPLETED|     FELONY|       QUEENS|             null|              STREET|   N.Y. POLICE DEPT|                0|    null|             null|       null|           NaN|                 NaN|       U|            null|PATROL BORO QUEEN...|                null|        25-44|               BLACK|      F|\n",
            "| 281605579|  12/07/2019|    00:58:00|  12/07/2019|    01:17:00|        108|12/07/2019|  344|ASSAULT 3 & RELAT...|  101|           ASSAULT 3|       COMPLETED|MISDEMEANOR|       QUEENS|           INSIDE|    RESTAURANT/DINER|   N.Y. POLICE DEPT|                0|    null|             null|       null|           NaN|                 NaN|       U|            null|PATROL BORO QUEEN...|                null|        45-64|      WHITE HISPANIC|      M|\n",
            "| 304254677|  06/26/2019|    01:00:00|  06/26/2019|    18:00:00|         42|06/26/2019|  351|CRIMINAL MISCHIEF...|  254|MISCHIEF, CRIMINA...|       COMPLETED|MISDEMEANOR|        BRONX|             null|              STREET|   N.Y. POLICE DEPT|                0|    null|             null|       null|           NaN|                null|    null|            null|   PATROL BORO BRONX|                null|        18-24|               BLACK|      M|\n",
            "| 698978682|  04/30/2019|    01:00:00|        null|        null|         47|05/15/2019|  351|CRIMINAL MISCHIEF...|  258|CRIMINAL MISCHIEF...|       COMPLETED|MISDEMEANOR|        BRONX|         FRONT OF|GYM/FITNESS FACILITY|   N.Y. POLICE DEPT|                0|    null|             null|       null|           NaN|                null|    null|            null|   PATROL BORO BRONX|                null|          NaN|             UNKNOWN|      D|\n",
            "| 124109027|  05/02/2019|    01:00:00|  05/02/2019|    01:05:00|         73|05/02/2019|  124|KIDNAPPING & RELA...|  183|IMPRISONMENT 1,UN...|       COMPLETED|     FELONY|     BROOKLYN|             null|TRANSIT FACILITY ...|   N.Y. POLICE DEPT|                0|    null|             null|       null|           NaN|                null|    null|            null|PATROL BORO BKLYN...|                null|          NaN|               WHITE|      M|\n",
            "| 648563231|  12/08/2018|    01:00:00|  12/08/2018|    09:00:00|         13|10/22/2019|  109|       GRAND LARCENY|  425|LARCENY,GRAND BY ...|       COMPLETED|     FELONY|    MANHATTAN|           INSIDE|RESIDENCE - APT. ...|   N.Y. POLICE DEPT|                0|    null|             null|       null|         25-44|               BLACK|       F|            null|PATROL BORO MAN S...|                null|        25-44|ASIAN / PACIFIC I...|      M|\n",
            "| 995219393|  03/01/2019|    01:00:00|  03/01/2019|    01:05:00|        102|03/01/2019|  344|ASSAULT 3 & RELAT...|  101|           ASSAULT 3|       COMPLETED|MISDEMEANOR|       QUEENS|             null|              STREET|   N.Y. POLICE DEPT|                0|    null|             null|       null|         18-24|ASIAN / PACIFIC I...|       M|            null|PATROL BORO QUEEN...|                null|        18-24|ASIAN / PACIFIC I...|      F|\n",
            "| 636218363|  08/26/2017|    01:00:00|  08/26/2017|    01:05:00|          1|08/12/2019|  344|ASSAULT 3 & RELAT...|  101|           ASSAULT 3|       COMPLETED|MISDEMEANOR|    MANHATTAN|         FRONT OF|  SOCIAL CLUB/POLICY|   N.Y. POLICE DEPT|                0|    null|             null|       null|           NaN|                 NaN|       M|            null|PATROL BORO MAN S...|                null|        25-44|               BLACK|      F|\n",
            "| 795131389|  05/19/2019|    01:00:00|  05/22/2019|    02:30:00|         47|05/22/2019|  352|   CRIMINAL TRESPASS|  205|TRESPASS 2, CRIMINAL|       COMPLETED|MISDEMEANOR|        BRONX|           INSIDE|      BAR/NIGHT CLUB|   N.Y. POLICE DEPT|                0|    null|             null|       null|         18-24|               WHITE|       M|            null|   PATROL BORO BRONX|                null|          NaN|             UNKNOWN|      D|\n",
            "| 692164730|  01/19/2019|    01:00:00|  03/02/2019|    02:00:00|          5|03/02/2019|  578|       HARRASSMENT 2|  638|HARASSMENT,SUBD 3...|       COMPLETED|  VIOLATION|    MANHATTAN|           INSIDE|      BAR/NIGHT CLUB|   N.Y. POLICE DEPT|                0|    null|             null|       null|           NaN|               WHITE|       M|            null|PATROL BORO MAN S...|                null|        25-44|               WHITE|      M|\n",
            "| 309429222|  10/15/2019|    01:00:00|  10/15/2019|    05:00:00|         68|10/15/2019|  578|       HARRASSMENT 2|  638|HARASSMENT,SUBD 3...|       COMPLETED|  VIOLATION|     BROOKLYN|         FRONT OF|RESIDENCE - APT. ...|   N.Y. POLICE DEPT|                0|    null|             null|       null|         18-24|      WHITE HISPANIC|       M|            null|PATROL BORO BKLYN...|                null|        18-24|               WHITE|      F|\n",
            "| 828886873|  12/01/2019|    01:00:00|  12/01/2019|    01:05:00|         90|12/03/2019|  109|       GRAND LARCENY|  416|LARCENY,GRAND FRO...|       COMPLETED|     FELONY|     BROOKLYN|           INSIDE|      BAR/NIGHT CLUB|   N.Y. POLICE DEPT|                0|    null|             null|       null|           NaN|               BLACK|       M|            null|PATROL BORO BKLYN...|                null|        25-44|               WHITE|      M|\n",
            "| 213675395|  09/10/2019|    01:00:00|  09/10/2019|    04:45:00|         33|09/10/2019|  109|       GRAND LARCENY|  412|LARCENY,GRAND FRO...|       COMPLETED|     FELONY|    MANHATTAN|           INSIDE|RESIDENCE - APT. ...|   N.Y. POLICE DEPT|                0|    null|             null|       null|         25-44|                 NaN|       M|            null|PATROL BORO MAN N...|                null|        25-44|      WHITE HISPANIC|      M|\n",
            "| 973933205|  10/13/2019|    01:00:00|  10/13/2019|    01:30:00|         90|10/15/2019|  344|ASSAULT 3 & RELAT...|  101|           ASSAULT 3|       COMPLETED|MISDEMEANOR|     BROOKLYN|           INSIDE|RESIDENCE - APT. ...|   N.Y. POLICE DEPT|                0|    null|             null|       null|         25-44|               BLACK|       M|            null|PATROL BORO BKLYN...|                null|        25-44|      WHITE HISPANIC|      F|\n",
            "| 273863323|  10/24/2019|    01:00:00|  10/24/2019|    01:05:00|        103|10/24/2019|  109|       GRAND LARCENY|  408|LARCENY,GRAND FRO...|       COMPLETED|     FELONY|       QUEENS|             null|TRANSIT - NYC SUBWAY|N.Y. TRANSIT POLICE|                1|    null|             null|       null|           NaN|                 NaN|       U|              20|PATROL BORO QUEEN...|SUTPHIN BLVD.-ARC...|        45-64|               BLACK|      M|\n",
            "| 313573164|  07/05/2019|    01:03:00|  07/05/2019|    01:10:00|         41|07/05/2019|  351|CRIMINAL MISCHIEF...|  254|MISCHIEF, CRIMINA...|       COMPLETED|MISDEMEANOR|        BRONX|         FRONT OF|              STREET|   N.Y. POLICE DEPT|                0|    null|             null|       null|           NaN|                null|    null|            null|   PATROL BORO BRONX|                null|        45-64|ASIAN / PACIFIC I...|      M|\n",
            "| 775138047|  12/16/2019|    01:03:00|  12/16/2019|    01:30:00|         71|12/16/2019|  109|       GRAND LARCENY|  402|LARCENY,GRAND BY ...|       COMPLETED|     FELONY|     BROOKLYN|           INSIDE|                BANK|   N.Y. POLICE DEPT|                0|    null|             null|       null|           NaN|                 NaN|       M|            null|PATROL BORO BKLYN...|                null|        25-44|               BLACK|      M|\n",
            "| 442818103|  06/08/2019|    01:05:00|  06/08/2019|    01:30:00|         34|06/08/2019|  347|INTOXICATED & IMP...|  905|INTOXICATED DRIVI...|       COMPLETED|MISDEMEANOR|    MANHATTAN|             null|              STREET|   N.Y. POLICE DEPT|                0|    null|             null|       null|           NaN|                null|    null|            null|PATROL BORO MAN N...|                null|          NaN|             UNKNOWN|      E|\n",
            "| 211990637|  12/05/2019|    01:05:00|  12/05/2019|    01:11:00|         67|12/05/2019|  343|OTHER OFFENSES RE...|  478|THEFT OF SERVICES...|       COMPLETED|MISDEMEANOR|     BROOKLYN|             null|   BUS (NYC TRANSIT)|   N.Y. POLICE DEPT|                0|    null|             null|       null|         18-24|               BLACK|       M|            null|PATROL BORO BKLYN...|                null|          NaN|             UNKNOWN|      E|\n",
            "| 594846965|  08/21/2019|    01:05:00|        null|        null|         69|08/21/2019|  578|       HARRASSMENT 2|  637|HARASSMENT,SUBD 1...|       COMPLETED|  VIOLATION|     BROOKLYN|           INSIDE|               OTHER|   N.Y. POLICE DEPT|                0|    null|             null|       null|           NaN|                 NaN|       U|            null|PATROL BORO BKLYN...|                null|        25-44|               BLACK|      F|\n",
            "| 506002131|  05/01/2019|    01:10:00|  05/01/2019|    01:17:00|         68|05/01/2019|  106|      FELONY ASSAULT|  109|ASSAULT 2,1,UNCLA...|       COMPLETED|     FELONY|     BROOKLYN|         FRONT OF|              STREET|   N.Y. POLICE DEPT|                0|    null|             null|       null|           NaN|               WHITE|       M|            null|PATROL BORO BKLYN...|                null|        25-44|               WHITE|      M|\n",
            "+----------+------------+------------+------------+------------+-----------+----------+-----+--------------------+-----+--------------------+----------------+-----------+-------------+-----------------+--------------------+-------------------+-----------------+--------+-----------------+-----------+--------------+--------------------+--------+----------------+--------------------+--------------------+-------------+--------------------+-------+\n",
            "only showing top 100 rows\n",
            "\n"
          ]
        }
      ],
      "source": [
        "df.show(100)"
      ]
    },
    {
      "cell_type": "code",
      "execution_count": null,
      "metadata": {
        "colab": {
          "base_uri": "https://localhost:8080/"
        },
        "id": "r-IkJsOz2b5V",
        "outputId": "b00f9789-112c-43e7-b143-7b3149b2865d"
      },
      "outputs": [
        {
          "name": "stdout",
          "output_type": "stream",
          "text": [
            "+--------------------+\n",
            "|           SUSP_RACE|\n",
            "+--------------------+\n",
            "|               WHITE|\n",
            "|               BLACK|\n",
            "|AMERICAN INDIAN/A...|\n",
            "|                null|\n",
            "|      BLACK HISPANIC|\n",
            "|      WHITE HISPANIC|\n",
            "|                 NaN|\n",
            "|ASIAN / PACIFIC I...|\n",
            "|               OTHER|\n",
            "+--------------------+\n",
            "\n"
          ]
        }
      ],
      "source": [
        "df.select('SUSP_RACE').distinct().show()"
      ]
    },
    {
      "cell_type": "code",
      "execution_count": null,
      "metadata": {
        "colab": {
          "base_uri": "https://localhost:8080/"
        },
        "id": "onrUAeaeosWl",
        "outputId": "ac362f52-5f29-4259-a8dd-3eee314d2812"
      },
      "outputs": [
        {
          "name": "stdout",
          "output_type": "stream",
          "text": [
            "+--------------------+\n",
            "|            VIC_RACE|\n",
            "+--------------------+\n",
            "|               WHITE|\n",
            "|               BLACK|\n",
            "|AMERICAN INDIAN/A...|\n",
            "|                null|\n",
            "|      BLACK HISPANIC|\n",
            "|      WHITE HISPANIC|\n",
            "|             UNKNOWN|\n",
            "|ASIAN / PACIFIC I...|\n",
            "|               OTHER|\n",
            "+--------------------+\n",
            "\n"
          ]
        }
      ],
      "source": [
        "df.select('VIC_RACE').distinct().show()"
      ]
    },
    {
      "cell_type": "code",
      "execution_count": null,
      "metadata": {
        "id": "rFoikiAB1x3V"
      },
      "outputs": [],
      "source": [
        "from pyspark.sql.functions import regexp_replace\n",
        "\n",
        "df = df.withColumn(\"VIC_RACE\",\n",
        "  regexp_replace(\"VIC_RACE\", \"UNKNOWN\", \"NaN\"))"
      ]
    },
    {
      "cell_type": "code",
      "execution_count": null,
      "metadata": {
        "colab": {
          "base_uri": "https://localhost:8080/"
        },
        "id": "0RaNG8Wk2vQE",
        "outputId": "84b0bd9b-36df-4580-d23b-3b405cd526d7"
      },
      "outputs": [
        {
          "name": "stdout",
          "output_type": "stream",
          "text": [
            "+--------------------+\n",
            "|            VIC_RACE|\n",
            "+--------------------+\n",
            "|               WHITE|\n",
            "|               BLACK|\n",
            "|AMERICAN INDIAN/A...|\n",
            "|                null|\n",
            "|      BLACK HISPANIC|\n",
            "|      WHITE HISPANIC|\n",
            "|                 NaN|\n",
            "|ASIAN / PACIFIC I...|\n",
            "|               OTHER|\n",
            "+--------------------+\n",
            "\n"
          ]
        }
      ],
      "source": [
        "df.select('VIC_RACE').distinct().show()"
      ]
    },
    {
      "cell_type": "markdown",
      "metadata": {
        "id": "9BlHN7RN20P1"
      },
      "source": [
        "### Checks for Suspect & Victim Sex"
      ]
    },
    {
      "cell_type": "code",
      "execution_count": null,
      "metadata": {
        "colab": {
          "base_uri": "https://localhost:8080/"
        },
        "id": "zsjPnhTAGxNj",
        "outputId": "1eeab1dc-6165-4a6f-ee10-c379d006ff9e"
      },
      "outputs": [
        {
          "name": "stdout",
          "output_type": "stream",
          "text": [
            "+--------+\n",
            "|SUSP_SEX|\n",
            "+--------+\n",
            "|       F|\n",
            "|    null|\n",
            "|       M|\n",
            "|       U|\n",
            "+--------+\n",
            "\n"
          ]
        }
      ],
      "source": [
        "df.select('SUSP_SEX').distinct().show()"
      ]
    },
    {
      "cell_type": "markdown",
      "metadata": {
        "id": "GZBTi4BWTtiO"
      },
      "source": [
        "#### Checking values in suspect sex"
      ]
    },
    {
      "cell_type": "code",
      "execution_count": null,
      "metadata": {
        "colab": {
          "base_uri": "https://localhost:8080/"
        },
        "id": "kTb_dCZlDlHN",
        "outputId": "9654db21-a9b5-4d1b-9ae0-91c229f1b1a9"
      },
      "outputs": [
        {
          "name": "stdout",
          "output_type": "stream",
          "text": [
            "+--------+-------+\n",
            "|SUSP_SEX|  count|\n",
            "+--------+-------+\n",
            "|    null|3554679|\n",
            "|       M|2390246|\n",
            "|       F| 755676|\n",
            "|       U| 664056|\n",
            "+--------+-------+\n",
            "\n"
          ]
        }
      ],
      "source": [
        "df.groupBy('SUSP_SEX').count().orderBy('count', ascending=False).show()"
      ]
    },
    {
      "cell_type": "code",
      "execution_count": null,
      "metadata": {
        "colab": {
          "base_uri": "https://localhost:8080/"
        },
        "id": "8qyhrbbuGqaW",
        "outputId": "62ed1f95-ce1e-4e3b-c499-81a1501880e4"
      },
      "outputs": [
        {
          "name": "stdout",
          "output_type": "stream",
          "text": [
            "+-------+\n",
            "|VIC_SEX|\n",
            "+-------+\n",
            "|      F|\n",
            "|   null|\n",
            "|      E|\n",
            "|      M|\n",
            "|      D|\n",
            "+-------+\n",
            "\n"
          ]
        }
      ],
      "source": [
        "df.select('VIC_SEX').distinct().show()"
      ]
    },
    {
      "cell_type": "code",
      "execution_count": null,
      "metadata": {
        "colab": {
          "base_uri": "https://localhost:8080/"
        },
        "id": "wqIIB5niHER9",
        "outputId": "5a72f6f9-febf-4b22-ad97-3c9e7e079790"
      },
      "outputs": [
        {
          "name": "stdout",
          "output_type": "stream",
          "text": [
            "+-------+-------+\n",
            "|VIC_SEX|  count|\n",
            "+-------+-------+\n",
            "|      F|2884877|\n",
            "|      M|2427980|\n",
            "|      E|1149967|\n",
            "|      D| 901528|\n",
            "|   null|    305|\n",
            "+-------+-------+\n",
            "\n"
          ]
        }
      ],
      "source": [
        "df.groupBy('VIC_SEX').count().orderBy('count', ascending=False).show()"
      ]
    },
    {
      "cell_type": "markdown",
      "metadata": {
        "id": "u50lhakET780"
      },
      "source": [
        "#### Get unique values of offense description in sorted order"
      ]
    },
    {
      "cell_type": "code",
      "execution_count": null,
      "metadata": {
        "colab": {
          "base_uri": "https://localhost:8080/"
        },
        "id": "P22KLvXgf5qs",
        "outputId": "8aed6a15-47c2-42cb-eb30-ca318b7eb207"
      },
      "outputs": [
        {
          "name": "stdout",
          "output_type": "stream",
          "text": [
            "+--------------------+\n",
            "|           OFNS_DESC|\n",
            "+--------------------+\n",
            "|                null|\n",
            "|            ABORTION|\n",
            "| ADMINISTRATIVE CODE|\n",
            "|ADMINISTRATIVE CODES|\n",
            "|AGRICULTURE & MRK...|\n",
            "|ALCOHOLIC BEVERAG...|\n",
            "|ANTICIPATORY OFFE...|\n",
            "|               ARSON|\n",
            "|ASSAULT 3 & RELAT...|\n",
            "|     BURGLAR'S TOOLS|\n",
            "|            BURGLARY|\n",
            "|CHILD ABANDONMENT...|\n",
            "|CRIMINAL MISCHIEF...|\n",
            "|   CRIMINAL TRESPASS|\n",
            "|     DANGEROUS DRUGS|\n",
            "|   DANGEROUS WEAPONS|\n",
            "|  DISORDERLY CONDUCT|\n",
            "|DISRUPTION OF A R...|\n",
            "|ENDAN WELFARE INCOMP|\n",
            "|            ESCAPE 3|\n",
            "+--------------------+\n",
            "only showing top 20 rows\n",
            "\n"
          ]
        }
      ],
      "source": [
        "df.select('OFNS_DESC').distinct().orderBy('OFNS_DESC', ascending=True).show()"
      ]
    },
    {
      "cell_type": "markdown",
      "metadata": {
        "id": "oXST8FTeUGgZ"
      },
      "source": [
        "#### Getting Total Count of Offense Description"
      ]
    },
    {
      "cell_type": "code",
      "execution_count": null,
      "metadata": {
        "colab": {
          "base_uri": "https://localhost:8080/"
        },
        "id": "S7qj-jmIMCWL",
        "outputId": "e214e1f6-0fb5-48fb-d6ce-768d7a92d991"
      },
      "outputs": [
        {
          "data": {
            "text/plain": [
              "71"
            ]
          },
          "execution_count": 28,
          "metadata": {},
          "output_type": "execute_result"
        }
      ],
      "source": [
        "df.select('OFNS_DESC').distinct().count()"
      ]
    },
    {
      "cell_type": "code",
      "execution_count": null,
      "metadata": {
        "colab": {
          "base_uri": "https://localhost:8080/"
        },
        "id": "feQGTHyyqflL",
        "outputId": "15457058-e1c0-42ce-a032-8f797c72c774"
      },
      "outputs": [
        {
          "name": "stdout",
          "output_type": "stream",
          "text": [
            "+--------------------+------+\n",
            "|           OFNS_DESC| count|\n",
            "+--------------------+------+\n",
            "|OTHER TRAFFIC INF...|    15|\n",
            "|ANTICIPATORY OFFE...|   128|\n",
            "|   FELONY SEX CRIMES|    18|\n",
            "|NEW YORK CITY HEA...|    93|\n",
            "|OTHER OFFENSES RE...| 16226|\n",
            "|VEHICLE AND TRAFF...| 91734|\n",
            "|KIDNAPPING & RELA...|  2874|\n",
            "|HOMICIDE-NEGLIGEN...|   104|\n",
            "|OFF. AGNST PUB OR...|383063|\n",
            "|PETIT LARCENY OF ...|  1334|\n",
            "|      FELONY ASSAULT|285879|\n",
            "|ALCOHOLIC BEVERAG...|  1277|\n",
            "|OFFENSES RELATED ...|  1691|\n",
            "|CRIMINAL MISCHIEF...|744482|\n",
            "|         THEFT-FRAUD| 76591|\n",
            "|   THEFT OF SERVICES|  4527|\n",
            "|            JOSTLING|   446|\n",
            "|MISCELLANEOUS PEN...|185656|\n",
            "|LOITERING/GAMBLIN...|   245|\n",
            "|               ARSON| 17639|\n",
            "+--------------------+------+\n",
            "only showing top 20 rows\n",
            "\n"
          ]
        }
      ],
      "source": [
        "df.groupBy('OFNS_DESC').count().show()"
      ]
    },
    {
      "cell_type": "markdown",
      "metadata": {
        "id": "a_22p8gNUWwK"
      },
      "source": [
        "**Map Key Codes with Offense Description**"
      ]
    },
    {
      "cell_type": "code",
      "execution_count": null,
      "metadata": {
        "colab": {
          "base_uri": "https://localhost:8080/"
        },
        "id": "F43lcNe1jCIP",
        "outputId": "b4e3d09f-b141-425b-cf87-4c5bf4a9c7eb"
      },
      "outputs": [
        {
          "name": "stdout",
          "output_type": "stream",
          "text": [
            "+-----+--------------------+\n",
            "|KY_CD|          OFNS_DESCS|\n",
            "+-----+--------------------+\n",
            "|  102|[HOMICIDE-NEGLIGE...|\n",
            "|  103|[HOMICIDE-NEGLIGE...|\n",
            "|  104|              [RAPE]|\n",
            "|  105|           [ROBBERY]|\n",
            "|  106|    [FELONY ASSAULT]|\n",
            "|  107|          [BURGLARY]|\n",
            "|  109|     [GRAND LARCENY]|\n",
            "|  110|[GRAND LARCENY OF...|\n",
            "|  111|[POSSESSION OF ST...|\n",
            "|  112|       [THEFT-FRAUD]|\n",
            "|  113|           [FORGERY]|\n",
            "|  114|             [ARSON]|\n",
            "|  115|[PROSTITUTION & R...|\n",
            "|  116|[SEX CRIMES, FELO...|\n",
            "|  117|   [DANGEROUS DRUGS]|\n",
            "|  118| [DANGEROUS WEAPONS]|\n",
            "|  119|[INTOXICATED/IMPA...|\n",
            "|  120|[ENDAN WELFARE IN...|\n",
            "|  121|[CRIMINAL MISCHIE...|\n",
            "|  122|          [GAMBLING]|\n",
            "+-----+--------------------+\n",
            "only showing top 20 rows\n",
            "\n"
          ]
        }
      ],
      "source": [
        "key_off_mapping = df.groupBy('KY_CD').agg(collect_set('OFNS_DESC').alias('OFNS_DESCS')).orderBy('KY_CD')\n",
        "key_off_mapping.show()"
      ]
    },
    {
      "cell_type": "code",
      "execution_count": null,
      "metadata": {
        "colab": {
          "base_uri": "https://localhost:8080/"
        },
        "id": "T-uGRES6yApb",
        "outputId": "da0525f8-64a1-4c59-8e62-e1087196954e"
      },
      "outputs": [
        {
          "data": {
            "text/plain": [
              "73"
            ]
          },
          "execution_count": 30,
          "metadata": {},
          "output_type": "execute_result"
        }
      ],
      "source": [
        "key_off_mapping.count()"
      ]
    },
    {
      "cell_type": "code",
      "execution_count": null,
      "metadata": {
        "colab": {
          "base_uri": "https://localhost:8080/"
        },
        "id": "_iGrOfh5C-bd",
        "outputId": "badbdc0c-bd2c-45ea-d85f-e6c99bcd2c13"
      },
      "outputs": [
        {
          "data": {
            "text/plain": [
              "73"
            ]
          },
          "execution_count": 68,
          "metadata": {},
          "output_type": "execute_result"
        }
      ],
      "source": [
        "df.select('KY_CD').distinct().count()"
      ]
    },
    {
      "cell_type": "markdown",
      "metadata": {
        "id": "XcrKWfruKlJI"
      },
      "source": [
        "### Functional Dependency Violation for OFNS_DESC & KY_CD"
      ]
    },
    {
      "cell_type": "code",
      "execution_count": null,
      "metadata": {
        "id": "M_2VjTBJYXdG"
      },
      "outputs": [],
      "source": [
        "ofns_key = ds.to_df()"
      ]
    },
    {
      "cell_type": "code",
      "execution_count": null,
      "metadata": {
        "colab": {
          "base_uri": "https://localhost:8080/"
        },
        "id": "XpVgZu-X-jSs",
        "outputId": "6c9cf8c9-d61c-4300-8d9d-b72c9a332c5e"
      },
      "outputs": [
        {
          "name": "stdout",
          "output_type": "stream",
          "text": [
            "# of violations for FD(KY_CD -> OFNS_DESC) is 9\n",
            "\n",
            "       KY_CD                OFNS_DESC\n",
            "104      126  MISCELLANEOUS PENAL LAW\n",
            "161      126  MISCELLANEOUS PENAL LAW\n",
            "195      126  MISCELLANEOUS PENAL LAW\n",
            "243      126  MISCELLANEOUS PENAL LAW\n",
            "244      126  MISCELLANEOUS PENAL LAW\n",
            "...      ...                      ...\n",
            "323640   126  MISCELLANEOUS PENAL LAW\n",
            "323643   126  MISCELLANEOUS PENAL LAW\n",
            "323665   126  MISCELLANEOUS PENAL LAW\n",
            "323723   126  MISCELLANEOUS PENAL LAW\n",
            "323762   126  MISCELLANEOUS PENAL LAW\n",
            "\n",
            "[10450 rows x 2 columns]\n",
            "       KY_CD                       OFNS_DESC\n",
            "119      343  OTHER OFFENSES RELATED TO THEF\n",
            "629      343  OTHER OFFENSES RELATED TO THEF\n",
            "1167     343  OTHER OFFENSES RELATED TO THEF\n",
            "1877     343               THEFT OF SERVICES\n",
            "2605     343  OTHER OFFENSES RELATED TO THEF\n",
            "...      ...                             ...\n",
            "320888   343  OTHER OFFENSES RELATED TO THEF\n",
            "322746   343  OTHER OFFENSES RELATED TO THEF\n",
            "323015   343  OTHER OFFENSES RELATED TO THEF\n",
            "323021   343  OTHER OFFENSES RELATED TO THEF\n",
            "323165   343  OTHER OFFENSES RELATED TO THEF\n",
            "\n",
            "[565 rows x 2 columns]\n",
            "       KY_CD   OFNS_DESC\n",
            "185      116  SEX CRIMES\n",
            "594      116  SEX CRIMES\n",
            "675      116  SEX CRIMES\n",
            "879      116  SEX CRIMES\n",
            "1166     116  SEX CRIMES\n",
            "...      ...         ...\n",
            "320453   116  SEX CRIMES\n",
            "321228   116  SEX CRIMES\n",
            "322492   116  SEX CRIMES\n",
            "322937   116  SEX CRIMES\n",
            "323530   116  SEX CRIMES\n",
            "\n",
            "[1117 rows x 2 columns]\n",
            "       KY_CD                             OFNS_DESC\n",
            "716      364        OTHER STATE LAWS (NON PENAL LA\n",
            "1266     364        OTHER STATE LAWS (NON PENAL LA\n",
            "2620     364  AGRICULTURE & MRKTS LAW-UNCLASSIFIED\n",
            "3357     364        OTHER STATE LAWS (NON PENAL LA\n",
            "4975     364        OTHER STATE LAWS (NON PENAL LA\n",
            "...      ...                                   ...\n",
            "319325   364        OTHER STATE LAWS (NON PENAL LA\n",
            "319875   364        OTHER STATE LAWS (NON PENAL LA\n",
            "322414   364        OTHER STATE LAWS (NON PENAL LA\n",
            "323604   364        OTHER STATE LAWS (NON PENAL LA\n",
            "323632   364  AGRICULTURE & MRKTS LAW-UNCLASSIFIED\n",
            "\n",
            "[295 rows x 2 columns]\n",
            "       KY_CD                      OFNS_DESC\n",
            "1299     124  KIDNAPPING & RELATED OFFENSES\n",
            "1696     124  KIDNAPPING & RELATED OFFENSES\n",
            "2318     124  KIDNAPPING & RELATED OFFENSES\n",
            "4179     124  KIDNAPPING & RELATED OFFENSES\n",
            "6057     124  KIDNAPPING & RELATED OFFENSES\n",
            "...      ...                            ...\n",
            "313231   124  KIDNAPPING & RELATED OFFENSES\n",
            "320182   124  KIDNAPPING & RELATED OFFENSES\n",
            "320235   124  KIDNAPPING & RELATED OFFENSES\n",
            "320330   124  KIDNAPPING & RELATED OFFENSES\n",
            "322566   124  KIDNAPPING & RELATED OFFENSES\n",
            "\n",
            "[106 rows x 2 columns]\n",
            "       KY_CD                       OFNS_DESC\n",
            "1307     125    NYS LAWS-UNCLASSIFIED FELONY\n",
            "2550     125  OTHER STATE LAWS (NON PENAL LA\n",
            "3208     125    NYS LAWS-UNCLASSIFIED FELONY\n",
            "3579     125    NYS LAWS-UNCLASSIFIED FELONY\n",
            "5803     125    NYS LAWS-UNCLASSIFIED FELONY\n",
            "...      ...                             ...\n",
            "317623   125    NYS LAWS-UNCLASSIFIED FELONY\n",
            "319353   125    NYS LAWS-UNCLASSIFIED FELONY\n",
            "320550   125    NYS LAWS-UNCLASSIFIED FELONY\n",
            "320592   125    NYS LAWS-UNCLASSIFIED FELONY\n",
            "322429   125    NYS LAWS-UNCLASSIFIED FELONY\n",
            "\n",
            "[307 rows x 2 columns]\n",
            "       KY_CD                        OFNS_DESC\n",
            "10781    677  NYS LAWS-UNCLASSIFIED VIOLATION\n",
            "96607    677  NYS LAWS-UNCLASSIFIED VIOLATION\n",
            "122909   677  NYS LAWS-UNCLASSIFIED VIOLATION\n",
            "132798   677                 OTHER STATE LAWS\n",
            "139489   677  NYS LAWS-UNCLASSIFIED VIOLATION\n",
            "153653   677  NYS LAWS-UNCLASSIFIED VIOLATION\n",
            "160610   677  NYS LAWS-UNCLASSIFIED VIOLATION\n",
            "180969   677  NYS LAWS-UNCLASSIFIED VIOLATION\n",
            "191367   677                 OTHER STATE LAWS\n",
            "200049   677                 OTHER STATE LAWS\n",
            "230152   677  NYS LAWS-UNCLASSIFIED VIOLATION\n",
            "250500   677                 OTHER STATE LAWS\n",
            "287504   677                 OTHER STATE LAWS\n",
            "       KY_CD                      OFNS_DESC\n",
            "16895    120  CHILD ABANDONMENT/NON SUPPORT\n",
            "71337    120           ENDAN WELFARE INCOMP\n",
            "78176    120  CHILD ABANDONMENT/NON SUPPORT\n",
            "78193    120  CHILD ABANDONMENT/NON SUPPORT\n",
            "78687    120           ENDAN WELFARE INCOMP\n",
            "79432    120           ENDAN WELFARE INCOMP\n",
            "93226    120           ENDAN WELFARE INCOMP\n",
            "155305   120  CHILD ABANDONMENT/NON SUPPORT\n",
            "263703   120           ENDAN WELFARE INCOMP\n",
            "264980   120  CHILD ABANDONMENT/NON SUPPORT\n",
            "278800   120           ENDAN WELFARE INCOMP\n",
            "291808   120  CHILD ABANDONMENT/NON SUPPORT\n",
            "294693   120           ENDAN WELFARE INCOMP\n",
            "297915   120  CHILD ABANDONMENT/NON SUPPORT\n",
            "298542   120           ENDAN WELFARE INCOMP\n",
            "305624   120  CHILD ABANDONMENT/NON SUPPORT\n",
            "322275   120           ENDAN WELFARE INCOMP\n",
            "       KY_CD                     OFNS_DESC\n",
            "18993    345          ENDAN WELFARE INCOMP\n",
            "53140    345          ENDAN WELFARE INCOMP\n",
            "67025    345  OFFENSES RELATED TO CHILDREN\n",
            "73451    345          ENDAN WELFARE INCOMP\n",
            "201743   345  OFFENSES RELATED TO CHILDREN\n",
            "250859   345  OFFENSES RELATED TO CHILDREN\n",
            "254903   345  OFFENSES RELATED TO CHILDREN\n",
            "260157   345          ENDAN WELFARE INCOMP\n"
          ]
        }
      ],
      "source": [
        "from openclean.operator.map.violations import fd_violations\n",
        "from openclean.operator.collector.count import distinct\n",
        "\n",
        "fd2_violations = fd_violations(ofns_key, ['KY_CD'], ['OFNS_DESC'])\n",
        "\n",
        "print('# of violations for FD(KY_CD -> OFNS_DESC) is {}\\n'.format(len(fd2_violations)))\n",
        "for key, gr in fd2_violations.items():\n",
        "    print(gr[['KY_CD', 'OFNS_DESC']])"
      ]
    },
    {
      "cell_type": "code",
      "execution_count": null,
      "metadata": {
        "id": "Op2hMjZkAX7f"
      },
      "outputs": [],
      "source": [
        "from openclean.operator.collector.repair import Shortest, Vote, conflict_repair\n",
        "\n",
        "# Define the conflict resolution strategy. We use a majority vote for RHS attributes.\n",
        "strategy = {'KY_CD': Vote()}\n",
        "\n",
        "# resolve the conflicts\n",
        "resolved = conflict_repair(conflicts=fd1_violations, strategy=strategy, in_order=False)"
      ]
    },
    {
      "cell_type": "code",
      "execution_count": null,
      "metadata": {
        "id": "e0P_A4NEMdBK"
      },
      "outputs": [],
      "source": [
        "#resolving for key code -> offense description\n",
        "\n",
        "from openclean.operator.collector.repair import Shortest, Vote, conflict_repair\n",
        "\n",
        "# Define the conflict resolution strategy. We use a majority vote for RHS attributes.\n",
        "strategy = {'OFNS_DESC': Vote(tiebreaker=Shortest())}\n",
        "\n",
        "# resolve the conflicts\n",
        "resolved = conflict_repair(conflicts=fd2_violations, strategy=strategy, in_order=False)"
      ]
    },
    {
      "cell_type": "code",
      "execution_count": null,
      "metadata": {
        "colab": {
          "base_uri": "https://localhost:8080/"
        },
        "id": "83xTag8wMu9g",
        "outputId": "1ad12e72-093d-423a-877a-131e3daf532f"
      },
      "outputs": [
        {
          "name": "stdout",
          "output_type": "stream",
          "text": [
            "# of violations for FD(KY_CD -> OFNS_DESC)) is 0\n",
            "\n",
            "       CMPLNT_NUM  ...                       New Georeferenced Column\n",
            "13      276278658  ...  POINT (-73.94569741099998 40.786182447000044)\n",
            "166     890663602  ...   POINT (-73.91843446099993 40.80893116500005)\n",
            "180     728758084  ...  POINT (-73.91212195899993 40.747301667000045)\n",
            "181     985806516  ...  POINT (-73.98411999099994 40.754849215000036)\n",
            "268     842358698  ...   POINT (-73.85902567999993 40.88735603500004)\n",
            "...           ...  ...                                            ...\n",
            "323571  172047038  ...   POINT (-73.90410359499998 40.66646466200007)\n",
            "323678  217581853  ...   POINT (-73.89515414499994 40.66132136900006)\n",
            "323733  793541563  ...  POINT (-73.80633674899997 40.701804167000034)\n",
            "323738  306924169  ...   POINT (-73.89690223799995 40.66833311800008)\n",
            "323806  476968757  ...   POINT (-73.87565666399996 40.75686097700003)\n",
            "\n",
            "[4058 rows x 36 columns]\n"
          ]
        }
      ],
      "source": [
        "trial = fd_violations(resolved, ['KY_CD'], ['OFNS_DESC'])\n",
        "\n",
        "print('# of violations for FD(KY_CD -> OFNS_DESC)) is {}\\n'.format(len(trial)))\n",
        "print(violation_group)"
      ]
    },
    {
      "cell_type": "code",
      "execution_count": null,
      "metadata": {
        "colab": {
          "base_uri": "https://localhost:8080/"
        },
        "id": "satoP4vbBJHz",
        "outputId": "7bb52221-dbb2-4fb7-c7f9-8e943fd58f7c"
      },
      "outputs": [
        {
          "name": "stdout",
          "output_type": "stream",
          "text": [
            "# of violations for FD(KY_CD -> OFNS_DESC) is 0\n",
            "\n",
            "       CMPLNT_NUM  ...                       New Georeferenced Column\n",
            "1307    243028990  ...   POINT (-74.00125319299997 40.71634415200003)\n",
            "2550    726416926  ...   POINT (-73.77623390699993 40.67998073800004)\n",
            "3208    533129014  ...   POINT (-73.89776780399995 40.86326000900005)\n",
            "3579    657165465  ...  POINT (-73.99398802999998 40.716193040000064)\n",
            "5803    822041811  ...   POINT (-73.92894705999998 40.61544337400005)\n",
            "...           ...  ...                                            ...\n",
            "317623  926822345  ...   POINT (-74.00125319299997 40.71634415200003)\n",
            "319353  486010364  ...   POINT (-73.91354311599997 40.75347568500007)\n",
            "320550  398377413  ...   POINT (-74.13004566699995 40.63852488600002)\n",
            "320592  777788721  ...   POINT (-74.00125319299997 40.71634415200003)\n",
            "322429  999058929  ...   POINT (-73.94184447299993 40.75709455700007)\n",
            "\n",
            "[307 rows x 36 columns]\n"
          ]
        }
      ],
      "source": [
        "violation_group = resolved[(resolved['KY_CD']=='125')]\n",
        "\n",
        "fd3_violations = fd_violations(resolved, ['KY_CD'], ['OFNS_DESC'])\n",
        "\n",
        "print('# of violations for FD(KY_CD -> OFNS_DESC) is {}\\n'.format(len(fd3_violations)))\n",
        "print(violation_group)"
      ]
    },
    {
      "cell_type": "code",
      "execution_count": null,
      "metadata": {
        "colab": {
          "base_uri": "https://localhost:8080/"
        },
        "id": "IYf9GhkXB3ya",
        "outputId": "f67fdc8f-ce82-48db-abdf-27d727b0423f"
      },
      "outputs": [
        {
          "data": {
            "text/plain": [
              "OFNS_DESC                       KY_CD\n",
              "ADMINISTRATIVE CODE             365       528\n",
              "                                675        34\n",
              "ALCOHOLIC BEVERAGE CONTROL LAW  346        52\n",
              "ANTICIPATORY OFFENSES           354        13\n",
              "ARSON                           114       472\n",
              "                                         ... \n",
              "SEX CRIMES                      116      1117\n",
              "                                233      4046\n",
              "THEFT-FRAUD                     112      3003\n",
              "UNAUTHORIZED USE OF A VEHICLE   353       936\n",
              "VEHICLE AND TRAFFIC LAWS        348      6060\n",
              "Length: 63, dtype: int64"
            ]
          },
          "execution_count": 34,
          "metadata": {},
          "output_type": "execute_result"
        }
      ],
      "source": [
        "resolved.groupby(['OFNS_DESC', 'KY_CD']).size()"
      ]
    },
    {
      "cell_type": "code",
      "execution_count": null,
      "metadata": {
        "colab": {
          "base_uri": "https://localhost:8080/"
        },
        "id": "DDx9CLIWEXng",
        "outputId": "1c3bc25d-aefb-42db-f78c-c46ab2ad141a"
      },
      "outputs": [
        {
          "name": "stdout",
          "output_type": "stream",
          "text": [
            "KY_CD\n",
            "101    [MURDER & NON-NEGL. MANSLAUGHTER]\n",
            "102         [HOMICIDE-NEGLIGENT-VEHICLE]\n",
            "103     [HOMICIDE-NEGLIGENT,UNCLASSIFIE]\n",
            "104                               [RAPE]\n",
            "105                            [ROBBERY]\n",
            "                     ...                \n",
            "572                 [DISORDERLY CONDUCT]\n",
            "578                      [HARRASSMENT 2]\n",
            "675                [ADMINISTRATIVE CODE]\n",
            "677    [NYS LAWS-UNCLASSIFIED VIOLATION]\n",
            "678            [MISCELLANEOUS PENAL LAW]\n",
            "Length: 63, dtype: object\n"
          ]
        }
      ],
      "source": [
        "keymapping = resolved.groupby('KY_CD').apply(lambda x: x['OFNS_DESC'].unique())\n",
        "print(keymapping)"
      ]
    },
    {
      "cell_type": "markdown",
      "metadata": {
        "id": "o7CvGBj3D0z4"
      },
      "source": [
        "#### Each key code represents a particular offense description. There is a one to one mapping. So we would use key code for future analysis instead of offense description."
      ]
    },
    {
      "cell_type": "markdown",
      "metadata": {
        "id": "fZ74ExfCRC4g"
      },
      "source": [
        "#### Calculating the null values present in the data columnwise (with respect to the features)"
      ]
    },
    {
      "cell_type": "code",
      "execution_count": null,
      "metadata": {
        "id": "eNTgn7bW-X-t"
      },
      "outputs": [],
      "source": [
        "df.select([count(when(isnan(c) | col(c).isNull(), c)).alias(c) for c in df.columns]).show()"
      ]
    },
    {
      "cell_type": "code",
      "execution_count": null,
      "metadata": {
        "colab": {
          "base_uri": "https://localhost:8080/"
        },
        "id": "MgV4_9FW-a1j",
        "outputId": "84e752c7-8b0b-4c63-de21-de310be6298c"
      },
      "outputs": [
        {
          "name": "stdout",
          "output_type": "stream",
          "text": [
            "+----------+--------------------+-------------------+------------------+-------------------+--------------------+------+-----+--------------------+-----+-------+----------------+----------+-------+-------------------+--------------------+----------+-----------------+-------------------+------------------+-------------------+------------------+------------------+-----------------+------------------+--------------------+------------------+-------------------+----------------+--------------------+\n",
            "|CMPLNT_NUM|        CMPLNT_FR_DT|       CMPLNT_FR_TM|      CMPLNT_TO_DT|       CMPLNT_TO_TM|         ADDR_PCT_CD|RPT_DT|KY_CD|           OFNS_DESC|PD_CD|PD_DESC|CRM_ATPT_CPTD_CD|LAW_CAT_CD|BORO_NM|  LOC_OF_OCCUR_DESC|       PREM_TYP_DESC|JURIS_DESC|JURISDICTION_CODE|           PARKS_NM|        HADEVELOPT|        HOUSING_PSA|    SUSP_AGE_GROUP|         SUSP_RACE|         SUSP_SEX|  TRANSIT_DISTRICT|         PATROL_BORO|      STATION_NAME|      VIC_AGE_GROUP|        VIC_RACE|             VIC_SEX|\n",
            "+----------+--------------------+-------------------+------------------+-------------------+--------------------+------+-----+--------------------+-----+-------+----------------+----------+-------+-------------------+--------------------+----------+-----------------+-------------------+------------------+-------------------+------------------+------------------+-----------------+------------------+--------------------+------------------+-------------------+----------------+--------------------+\n",
            "|       0.0|8.880250634890396E-5|6.38183149602215E-6|0.2303550593055454|0.22972217171824838|5.214092115898948...|   0.0|  0.0|0.002552053680164...|  0.0|    0.0|             0.0|       0.0|    0.0|0.20944424159876013|0.004674759462660651|       0.0|              0.0|0.43816079961361404|0.9529917007675985|0.16841544691083374|0.7419058348542233|0.6048167620026296|0.482667285115926|0.9778261227915978|6.205312752515154E-5|0.9778261227915978|0.31544442599295525|0.33014110501005|4.141401289971820...|\n",
            "+----------+--------------------+-------------------+------------------+-------------------+--------------------+------+-----+--------------------+-----+-------+----------------+----------+-------+-------------------+--------------------+----------+-----------------+-------------------+------------------+-------------------+------------------+------------------+-----------------+------------------+--------------------+------------------+-------------------+----------------+--------------------+\n",
            "\n"
          ]
        }
      ],
      "source": [
        "amount_missing_df = df.select([(count(when(isnan(c) | col(c).isNull(), c))/count(lit(1))).alias(c) for c in df.columns])\n",
        "amount_missing_df.show()"
      ]
    },
    {
      "cell_type": "markdown",
      "metadata": {
        "id": "5HQvMmXgJSy0"
      },
      "source": [
        "#### Thus, we can see that the percentage of null values per variable has gone considerably down after cleaning. Some variables like 'PARKS_NM', 'HADEVELOPT' and such can have null values as established above. "
      ]
    },
    {
      "cell_type": "markdown",
      "metadata": {
        "id": "wK3UbFUwUxbP"
      },
      "source": [
        "JURISDICTION wise count"
      ]
    },
    {
      "cell_type": "code",
      "execution_count": null,
      "metadata": {
        "colab": {
          "base_uri": "https://localhost:8080/"
        },
        "id": "GzpVkycNq66f",
        "outputId": "f1000f70-57f7-4109-d41e-76080d887366"
      },
      "outputs": [
        {
          "name": "stdout",
          "output_type": "stream",
          "text": [
            "+--------------------+-------+\n",
            "|          JURIS_DESC|  count|\n",
            "+--------------------+-------+\n",
            "|    N.Y. POLICE DEPT|6546928|\n",
            "|      PORT AUTHORITY|  34227|\n",
            "| N.Y. TRANSIT POLICE| 163584|\n",
            "|  HEALTH & HOSP CORP|   3690|\n",
            "|    U.S. PARK POLICE|    282|\n",
            "|   N.Y. STATE POLICE|   1883|\n",
            "| N.Y. HOUSING POLICE| 561186|\n",
            "| TRI-BORO BRDG TUNNL|   5670|\n",
            "|         METRO NORTH|    822|\n",
            "|    N.Y. STATE PARKS|    455|\n",
            "|NEW YORK CITY SHE...|    279|\n",
            "| DEPT OF CORRECTIONS|   9638|\n",
            "|NYS DEPT TAX AND ...|    105|\n",
            "|               OTHER|  24123|\n",
            "|FIRE DEPT (FIRE M...|    477|\n",
            "|  LONG ISLAND RAILRD|    546|\n",
            "|     POLICE DEPT NYC|   8948|\n",
            "|             AMTRACK|    188|\n",
            "|             CONRAIL|     16|\n",
            "|STATN IS RAPID TRANS|    439|\n",
            "+--------------------+-------+\n",
            "only showing top 20 rows\n",
            "\n"
          ]
        }
      ],
      "source": [
        "df.groupBy('JURIS_DESC').count().show()"
      ]
    },
    {
      "cell_type": "markdown",
      "metadata": {
        "id": "FI1pGd8s16sd"
      },
      "source": [
        "### Number of columns in Clean Data"
      ]
    },
    {
      "cell_type": "code",
      "execution_count": null,
      "metadata": {
        "colab": {
          "base_uri": "https://localhost:8080/"
        },
        "id": "rcI9kIjcrRSh",
        "outputId": "3a9d24f4-3501-4756-ebfb-fec21a663a0e"
      },
      "outputs": [
        {
          "data": {
            "text/plain": [
              "30"
            ]
          },
          "execution_count": 72,
          "metadata": {},
          "output_type": "execute_result"
        }
      ],
      "source": [
        "len(df.columns)"
      ]
    },
    {
      "cell_type": "markdown",
      "metadata": {
        "id": "9htIvQ_X10Op"
      },
      "source": [
        "### Number of rows in Clean Data"
      ]
    },
    {
      "cell_type": "code",
      "execution_count": null,
      "metadata": {
        "colab": {
          "base_uri": "https://localhost:8080/"
        },
        "id": "g-P3OKE21ubz",
        "outputId": "25e97c23-01da-40bf-c840-1da9c12bc368"
      },
      "outputs": [
        {
          "data": {
            "text/plain": [
              "7364657"
            ]
          },
          "execution_count": 73,
          "metadata": {},
          "output_type": "execute_result"
        }
      ],
      "source": [
        "df.count()"
      ]
    },
    {
      "cell_type": "code",
      "execution_count": null,
      "metadata": {
        "colab": {
          "base_uri": "https://localhost:8080/"
        },
        "id": "W2RVtvNr38c_",
        "outputId": "c40e55ba-cc58-4b59-eafe-f95ec7dab34e"
      },
      "outputs": [
        {
          "name": "stdout",
          "output_type": "stream",
          "text": [
            "root\n",
            " |-- CMPLNT_NUM: integer (nullable = true)\n",
            " |-- CMPLNT_FR_DT: string (nullable = true)\n",
            " |-- CMPLNT_FR_TM: string (nullable = true)\n",
            " |-- CMPLNT_TO_DT: string (nullable = true)\n",
            " |-- CMPLNT_TO_TM: string (nullable = true)\n",
            " |-- ADDR_PCT_CD: integer (nullable = true)\n",
            " |-- RPT_DT: string (nullable = true)\n",
            " |-- KY_CD: integer (nullable = true)\n",
            " |-- OFNS_DESC: string (nullable = true)\n",
            " |-- PD_CD: integer (nullable = true)\n",
            " |-- PD_DESC: string (nullable = true)\n",
            " |-- CRM_ATPT_CPTD_CD: string (nullable = true)\n",
            " |-- LAW_CAT_CD: string (nullable = true)\n",
            " |-- BORO_NM: string (nullable = true)\n",
            " |-- LOC_OF_OCCUR_DESC: string (nullable = true)\n",
            " |-- PREM_TYP_DESC: string (nullable = true)\n",
            " |-- JURIS_DESC: string (nullable = true)\n",
            " |-- JURISDICTION_CODE: integer (nullable = true)\n",
            " |-- PARKS_NM: string (nullable = true)\n",
            " |-- HADEVELOPT: string (nullable = true)\n",
            " |-- HOUSING_PSA: string (nullable = true)\n",
            " |-- SUSP_AGE_GROUP: string (nullable = true)\n",
            " |-- SUSP_RACE: string (nullable = true)\n",
            " |-- SUSP_SEX: string (nullable = true)\n",
            " |-- TRANSIT_DISTRICT: integer (nullable = true)\n",
            " |-- PATROL_BORO: string (nullable = true)\n",
            " |-- STATION_NAME: string (nullable = true)\n",
            " |-- VIC_AGE_GROUP: string (nullable = true)\n",
            " |-- VIC_RACE: string (nullable = true)\n",
            " |-- VIC_SEX: string (nullable = true)\n",
            "\n"
          ]
        }
      ],
      "source": [
        "df.printSchema()"
      ]
    },
    {
      "cell_type": "markdown",
      "metadata": {
        "id": "JLIpnxgHVAfM"
      },
      "source": [
        "### **Exporting Clean Data in CSV**\n",
        "\n",
        "The Cleaned Data Set will be saved as `NYPD_Complaint_Data_Historic_Cleaned.csv`"
      ]
    },
    {
      "cell_type": "code",
      "execution_count": null,
      "metadata": {
        "id": "pNEBquVPrUtx"
      },
      "outputs": [],
      "source": [
        "pd_df = df.toPandas()\n",
        "pd_df.to_csv(\"NYPD_Complaint_Data_Historic_Cleaned_Spark.csv\")"
      ]
    }
  ],
  "metadata": {
    "accelerator": "TPU",
    "colab": {
      "collapsed_sections": [],
      "name": "Spark - Big Data Project",
      "provenance": []
    },
    "kernelspec": {
      "display_name": "Python 3",
      "name": "python3"
    },
    "language_info": {
      "codemirror_mode": {
        "name": "ipython",
        "version": 3
      },
      "file_extension": ".py",
      "mimetype": "text/x-python",
      "name": "python",
      "nbconvert_exporter": "python",
      "pygments_lexer": "ipython3",
      "version": "3.9.7"
    }
  },
  "nbformat": 4,
  "nbformat_minor": 0
}
