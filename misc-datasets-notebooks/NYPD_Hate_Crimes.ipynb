{
  "cells": [
    {
      "cell_type": "markdown",
      "metadata": {
        "id": "view-in-github",
        "colab_type": "text"
      },
      "source": [
        "<a href=\"https://colab.research.google.com/github/shubhamgundawarNYU/Big-Data-Project-Group-16/blob/main/misc-datasets-notebooks/NYPD_Hate_Crimes.ipynb\" target=\"_parent\"><img src=\"https://colab.research.google.com/assets/colab-badge.svg\" alt=\"Open In Colab\"/></a>"
      ]
    },
    {
      "cell_type": "markdown",
      "metadata": {
        "id": "7-dJg3ZWVPHJ"
      },
      "source": [
        "##**BIG DATA PROJECT**\n",
        "\n",
        "### NYPD Hate Crimes\n",
        "Link to Dataset (https://data.cityofnewyork.us/Public-Safety/NYPD-Hate-Crimes/bqiq-cu78)\n",
        "\n",
        "### DATA CLEANING AT SCALE"
      ]
    },
    {
      "cell_type": "markdown",
      "metadata": {
        "id": "dZWscsxWG6BD"
      },
      "source": [
        "#### Mounting Google Drive to Google Collab Notebook to Load the Data Set\n",
        "\n",
        "Make sure you have the dataset in your Google Drive and you mount your drive to the Colab.\n",
        "\n",
        "The file should be at the following path: `gdrive/My Drive/NYPD_Complaint_Data_Historic.csv`\n"
      ]
    },
    {
      "cell_type": "code",
      "execution_count": null,
      "metadata": {
        "colab": {
          "base_uri": "https://localhost:8080/"
        },
        "id": "wSt7ZZI_zSt2",
        "outputId": "3067dd5e-f4bf-417b-9cb9-59d6269d2d91"
      },
      "outputs": [
        {
          "output_type": "stream",
          "name": "stdout",
          "text": [
            "Mounted at /content/gdrive\n"
          ]
        }
      ],
      "source": [
        "from google.colab import drive \n",
        "drive.mount('/content/gdrive')"
      ]
    },
    {
      "cell_type": "markdown",
      "metadata": {
        "id": "5XTa8wVQHjVm"
      },
      "source": [
        "#### Importing required and Necessary Libraries for cleaning the data present in the data set"
      ]
    },
    {
      "cell_type": "code",
      "execution_count": null,
      "metadata": {
        "id": "IglUIuU9ntFm"
      },
      "outputs": [],
      "source": [
        "import numpy as np\n",
        "import pandas as pd\n",
        "import io"
      ]
    },
    {
      "cell_type": "code",
      "execution_count": null,
      "metadata": {
        "colab": {
          "base_uri": "https://localhost:8080/"
        },
        "id": "a6CbM0l_UnFq",
        "outputId": "6c659597-0060-4543-aa36-73c92ee3b824"
      },
      "outputs": [
        {
          "output_type": "stream",
          "name": "stdout",
          "text": [
            "Collecting pyspark\n",
            "  Downloading pyspark-3.2.0.tar.gz (281.3 MB)\n",
            "\u001b[K     |████████████████████████████████| 281.3 MB 38 kB/s \n",
            "\u001b[?25hCollecting py4j==0.10.9.2\n",
            "  Downloading py4j-0.10.9.2-py2.py3-none-any.whl (198 kB)\n",
            "\u001b[K     |████████████████████████████████| 198 kB 53.0 MB/s \n",
            "\u001b[?25hBuilding wheels for collected packages: pyspark\n",
            "  Building wheel for pyspark (setup.py) ... \u001b[?25l\u001b[?25hdone\n",
            "  Created wheel for pyspark: filename=pyspark-3.2.0-py2.py3-none-any.whl size=281805912 sha256=1ee2480096e8b6a105944fc42195db2c6f42117dbfcc40d67cae3a5f5cf8bb75\n",
            "  Stored in directory: /root/.cache/pip/wheels/0b/de/d2/9be5d59d7331c6c2a7c1b6d1a4f463ce107332b1ecd4e80718\n",
            "Successfully built pyspark\n",
            "Installing collected packages: py4j, pyspark\n",
            "Successfully installed py4j-0.10.9.2 pyspark-3.2.0\n"
          ]
        }
      ],
      "source": [
        "!pip install pyspark"
      ]
    },
    {
      "cell_type": "markdown",
      "metadata": {
        "id": "sq8U3BtmhtRx"
      },
      "source": [
        "\n",
        "# **Running Pyspark in Colab**\n",
        "\n",
        "To run spark in Colab, we need to first install all the dependencies in Colab environment i.e. Apache Spark 2.3.2 with hadoop 2.7, Java 8 and Findspark to locate the spark in the system. The tools installation can be carried out inside the Jupyter Notebook of the Colab. One important note is that if you are new in Spark, it is better to avoid Spark 2.4.0 version since some people have already complained about its compatibility issue with python. \n",
        "Follow the steps to install the dependencies:"
      ]
    },
    {
      "cell_type": "code",
      "execution_count": null,
      "metadata": {
        "id": "lh5NCoc8fsSO"
      },
      "outputs": [],
      "source": [
        "!apt-get install openjdk-8-jdk-headless -qq > /dev/null\n",
        "!wget -q https://dlcdn.apache.org/spark/spark-3.2.0/spark-3.2.0-bin-hadoop3.2.tgz\n",
        "!tar xf spark-3.2.0-bin-hadoop3.2.tgz\n",
        "!pip install -q findspark"
      ]
    },
    {
      "cell_type": "markdown",
      "metadata": {
        "id": "ILheUROOhprv"
      },
      "source": [
        "Now that you installed Spark and Java in Colab, it is time to set the environment path which enables you to run Pyspark in your Colab environment. Set the location of Java and Spark by running the following code:"
      ]
    },
    {
      "cell_type": "code",
      "execution_count": null,
      "metadata": {
        "id": "v1b8k_OVf2QF"
      },
      "outputs": [],
      "source": [
        "import os\n",
        "os.environ[\"JAVA_HOME\"] = \"/usr/lib/jvm/java-8-openjdk-amd64\"\n",
        "os.environ[\"SPARK_HOME\"] = \"/content/spark-3.2.0-bin-hadoop3.2\""
      ]
    },
    {
      "cell_type": "markdown",
      "metadata": {
        "id": "KwrqMk3HiMiE"
      },
      "source": [
        "Run a local spark session to test your installation:"
      ]
    },
    {
      "cell_type": "code",
      "execution_count": null,
      "metadata": {
        "id": "9_Uz1NL4gHFx"
      },
      "outputs": [],
      "source": [
        "import findspark\n",
        "findspark.init()\n",
        "from pyspark.sql import SparkSession\n",
        "from pyspark.sql.functions import *\n",
        "from pyspark.sql.types import *\n",
        "spark = SparkSession.builder.getOrCreate()"
      ]
    },
    {
      "cell_type": "markdown",
      "metadata": {
        "id": "Z1n1HPiEIOXF"
      },
      "source": [
        "#### Reading the Data Set CSV File using `spark.read.csv()` Function"
      ]
    },
    {
      "cell_type": "code",
      "execution_count": null,
      "metadata": {
        "id": "NNL-wR74W52g"
      },
      "outputs": [],
      "source": [
        "df = spark.read.csv(\"/content/gdrive/MyDrive/Big Data/NYPD_Hate_Crimes.csv\", inferSchema=True, header =True)"
      ]
    },
    {
      "cell_type": "code",
      "execution_count": null,
      "metadata": {
        "colab": {
          "base_uri": "https://localhost:8080/"
        },
        "id": "IMecwoTS6upe",
        "outputId": "cbe4347d-a23b-485f-de5a-6cfb290aa822"
      },
      "outputs": [
        {
          "output_type": "execute_result",
          "data": {
            "text/plain": [
              "1181"
            ]
          },
          "metadata": {},
          "execution_count": 8
        }
      ],
      "source": [
        "df.count()"
      ]
    },
    {
      "cell_type": "markdown",
      "metadata": {
        "id": "ZLKtS1rNIjRD"
      },
      "source": [
        "#### Get Data Type for each column present in the Data Set\n",
        "\n",
        "\n"
      ]
    },
    {
      "cell_type": "code",
      "execution_count": null,
      "metadata": {
        "colab": {
          "base_uri": "https://localhost:8080/"
        },
        "id": "tYDkaV6r75y6",
        "outputId": "9c7dd3d1-1b80-4998-e1cc-6b1167c9dad1"
      },
      "outputs": [
        {
          "output_type": "stream",
          "name": "stdout",
          "text": [
            "root\n",
            " |-- Full Complaint ID: long (nullable = true)\n",
            " |-- Complaint Year Number: integer (nullable = true)\n",
            " |-- Month Number: integer (nullable = true)\n",
            " |-- Record Create Date: string (nullable = true)\n",
            " |-- Complaint Precinct Code: integer (nullable = true)\n",
            " |-- Patrol Borough Name: string (nullable = true)\n",
            " |-- County: string (nullable = true)\n",
            " |-- Law Code Category Description: string (nullable = true)\n",
            " |-- Offense Description: string (nullable = true)\n",
            " |-- PD Code Description: string (nullable = true)\n",
            " |-- Bias Motive Description: string (nullable = true)\n",
            " |-- Offense Category: string (nullable = true)\n",
            " |-- Arrest Date: string (nullable = true)\n",
            " |-- Arrest Id: string (nullable = true)\n",
            "\n"
          ]
        }
      ],
      "source": [
        "df.printSchema()"
      ]
    },
    {
      "cell_type": "markdown",
      "metadata": {
        "id": "hNCSlJEuJIBS"
      },
      "source": [
        "#### Outputing the List of Columns in the Data Set"
      ]
    },
    {
      "cell_type": "code",
      "execution_count": null,
      "metadata": {
        "colab": {
          "base_uri": "https://localhost:8080/"
        },
        "id": "hApjoVvG9v9Y",
        "outputId": "3b62c246-d5a5-4280-d41d-9e55d882c812"
      },
      "outputs": [
        {
          "output_type": "execute_result",
          "data": {
            "text/plain": [
              "['Full Complaint ID',\n",
              " 'Complaint Year Number',\n",
              " 'Month Number',\n",
              " 'Record Create Date',\n",
              " 'Complaint Precinct Code',\n",
              " 'Patrol Borough Name',\n",
              " 'County',\n",
              " 'Law Code Category Description',\n",
              " 'Offense Description',\n",
              " 'PD Code Description',\n",
              " 'Bias Motive Description',\n",
              " 'Offense Category',\n",
              " 'Arrest Date',\n",
              " 'Arrest Id']"
            ]
          },
          "metadata": {},
          "execution_count": 10
        }
      ],
      "source": [
        "df.columns"
      ]
    },
    {
      "cell_type": "markdown",
      "metadata": {
        "id": "LDnW9Gi7Idy4"
      },
      "source": [
        "#### Get top 10 rows of the complaints dataframe"
      ]
    },
    {
      "cell_type": "code",
      "execution_count": null,
      "metadata": {
        "colab": {
          "base_uri": "https://localhost:8080/"
        },
        "id": "AOUrvQEG-UcM",
        "outputId": "ae2ddc77-4fd3-42cb-90e1-606c1dc31766"
      },
      "outputs": [
        {
          "output_type": "stream",
          "name": "stdout",
          "text": [
            "+-----------------+---------------------+------------+------------------+-----------------------+-------------------+------+-----------------------------+--------------------+--------------------+-----------------------+--------------------+-----------+---------+\n",
            "|Full Complaint ID|Complaint Year Number|Month Number|Record Create Date|Complaint Precinct Code|Patrol Borough Name|County|Law Code Category Description| Offense Description| PD Code Description|Bias Motive Description|    Offense Category|Arrest Date|Arrest Id|\n",
            "+-----------------+---------------------+------------+------------------+-----------------------+-------------------+------+-----------------------------+--------------------+--------------------+-----------------------+--------------------+-----------+---------+\n",
            "|  201904612204817|                 2019|           2|        02/08/2019|                     46|  PATROL BORO BRONX| BRONX|                       FELONY|      FELONY ASSAULT|ASSAULT 2,1,UNCLA...|   ANTI-MALE HOMOSEX...|  Sexual Orientation| 02/08/2019|B31678218|\n",
            "|  201904812229517|                 2019|           3|        03/09/2019|                     48|  PATROL BORO BRONX| BRONX|                  MISDEMEANOR|ASSAULT 3 & RELAT...|           ASSAULT 3|             ANTI-WHITE|          Race/Color| 03/09/2019|B31682790|\n",
            "|  201904812226617|                 2019|           3|        03/08/2019|                     48|  PATROL BORO BRONX| BRONX|                  MISDEMEANOR|ASSAULT 3 & RELAT...|           ASSAULT 3|             ANTI-WHITE|          Race/Color| 03/09/2019|B31682806|\n",
            "|  201904812231317|                 2019|           3|        03/10/2019|                     48|  PATROL BORO BRONX| BRONX|                  MISDEMEANOR|ASSAULT 3 & RELAT...|           ASSAULT 3|             ANTI-WHITE|          Race/Color| 03/09/2019|B31682806|\n",
            "|  201904212405517|                 2019|           5|        05/11/2019|                     42|  PATROL BORO BRONX| BRONX|                       FELONY|             ROBBERY|ROBBERY,POCKETBOO...|            ANTI-MUSLIM|Religion/Religiou...| 05/10/2019|B31692174|\n",
            "|  201904212405517|                 2019|           5|        05/11/2019|                     42|  PATROL BORO BRONX| BRONX|                       FELONY|             ROBBERY|ROBBERY,POCKETBOO...|            ANTI-MUSLIM|Religion/Religiou...| 05/10/2019|B31692175|\n",
            "|  201904212405517|                 2019|           5|        05/11/2019|                     42|  PATROL BORO BRONX| BRONX|                       FELONY|             ROBBERY|ROBBERY,POCKETBOO...|            ANTI-MUSLIM|Religion/Religiou...| 05/10/2019|B31692176|\n",
            "|  201904012711317|                 2019|           6|        06/01/2019|                     40|  PATROL BORO BRONX| BRONX|                       FELONY|                RAPE|              RAPE 1|             ANTI-WHITE|          Race/Color| 06/14/2019|B31697030|\n",
            "|  201904912495217|                 2019|           7|        07/09/2019|                     49|  PATROL BORO BRONX| BRONX|                       FELONY|      FELONY ASSAULT|ASSAULT 2,1,UNCLA...|          ANTI-HISPANIC|Ethnicity/Nationa...| 07/21/2019|B31702150|\n",
            "|  201904712851617|                 2019|           8|        08/05/2019|                     47|  PATROL BORO BRONX| BRONX|                  MISDEMEANOR|ASSAULT 3 & RELAT...|MENACING,UNCLASSI...|       ANTI-TRANSGENDER|              Gender| 08/05/2019|B31704341|\n",
            "+-----------------+---------------------+------------+------------------+-----------------------+-------------------+------+-----------------------------+--------------------+--------------------+-----------------------+--------------------+-----------+---------+\n",
            "only showing top 10 rows\n",
            "\n"
          ]
        }
      ],
      "source": [
        "df.show(n=10)"
      ]
    },
    {
      "cell_type": "code",
      "source": [
        "df.columns"
      ],
      "metadata": {
        "colab": {
          "base_uri": "https://localhost:8080/"
        },
        "id": "ibmWwRymueVO",
        "outputId": "61356ac7-1c31-4571-eb07-149e01a71380"
      },
      "execution_count": null,
      "outputs": [
        {
          "output_type": "execute_result",
          "data": {
            "text/plain": [
              "['Full Complaint ID',\n",
              " 'Complaint Year Number',\n",
              " 'Month Number',\n",
              " 'Record Create Date',\n",
              " 'Complaint Precinct Code',\n",
              " 'Patrol Borough Name',\n",
              " 'County',\n",
              " 'Law Code Category Description',\n",
              " 'Offense Description',\n",
              " 'PD Code Description',\n",
              " 'Bias Motive Description',\n",
              " 'Offense Category',\n",
              " 'Arrest Date',\n",
              " 'Arrest Id']"
            ]
          },
          "metadata": {},
          "execution_count": 13
        }
      ]
    },
    {
      "cell_type": "markdown",
      "metadata": {
        "id": "xdJS_wPiJaUN"
      },
      "source": [
        "#### Removing all the **duplicate** entries"
      ]
    },
    {
      "cell_type": "code",
      "execution_count": null,
      "metadata": {
        "id": "S2iLHt_GAVJh"
      },
      "outputs": [],
      "source": [
        "df = df.drop_duplicates()"
      ]
    },
    {
      "cell_type": "code",
      "execution_count": null,
      "metadata": {
        "colab": {
          "base_uri": "https://localhost:8080/"
        },
        "id": "o6ec7GPSA5Ol",
        "outputId": "f1af991e-fbb6-4d38-8091-c1bb9b2c8b0e"
      },
      "outputs": [
        {
          "output_type": "execute_result",
          "data": {
            "text/plain": [
              "1181"
            ]
          },
          "metadata": {},
          "execution_count": 15
        }
      ],
      "source": [
        "df.count()"
      ]
    },
    {
      "cell_type": "code",
      "execution_count": null,
      "metadata": {
        "colab": {
          "base_uri": "https://localhost:8080/"
        },
        "id": "5BO82obd0N6u",
        "outputId": "0857c465-2591-4d30-d98a-2d6f52402a7b"
      },
      "outputs": [
        {
          "output_type": "execute_result",
          "data": {
            "text/plain": [
              "1181"
            ]
          },
          "metadata": {},
          "execution_count": 16
        }
      ],
      "source": [
        "df.distinct().count()"
      ]
    },
    {
      "cell_type": "markdown",
      "metadata": {
        "id": "O4zgb1QPJ02z"
      },
      "source": [
        "[link text](https://)#### **Checking** if the Full Complaint ID is unique or not"
      ]
    },
    {
      "cell_type": "code",
      "execution_count": null,
      "metadata": {
        "colab": {
          "base_uri": "https://localhost:8080/"
        },
        "id": "R0o2wLm1h4Bo",
        "outputId": "ae667731-02ec-4b78-8165-a3b2a453d3ba"
      },
      "outputs": [
        {
          "output_type": "execute_result",
          "data": {
            "text/plain": [
              "1102"
            ]
          },
          "metadata": {},
          "execution_count": 17
        }
      ],
      "source": [
        "df.select('Full Complaint ID').distinct().count()"
      ]
    },
    {
      "cell_type": "markdown",
      "metadata": {
        "id": "M-_iiUuEJ_5c"
      },
      "source": [
        "#### As we can see `CMPLNT_NUM` should have been unique, but it is not.\n",
        "#### Let's see what are the duplicate values."
      ]
    },
    {
      "cell_type": "code",
      "execution_count": null,
      "metadata": {
        "colab": {
          "base_uri": "https://localhost:8080/"
        },
        "id": "869tZgVki68U",
        "outputId": "38064a75-6593-4f64-acf7-4e3a4d86eb09"
      },
      "outputs": [
        {
          "output_type": "execute_result",
          "data": {
            "text/plain": [
              "58"
            ]
          },
          "metadata": {},
          "execution_count": 18
        }
      ],
      "source": [
        "df1 = df.groupBy('Full Complaint ID').count().filter(\"count > 1\")\n",
        "df1.drop('count').count()"
      ]
    },
    {
      "cell_type": "code",
      "execution_count": null,
      "metadata": {
        "colab": {
          "base_uri": "https://localhost:8080/"
        },
        "id": "WgA4Q88SoGaW",
        "outputId": "2a48fe03-19f7-4afd-d64f-2c71db4ae350"
      },
      "outputs": [
        {
          "output_type": "stream",
          "name": "stdout",
          "text": [
            "+-----------------+-----+\n",
            "|Full Complaint ID|count|\n",
            "+-----------------+-----+\n",
            "|  201900912215017|    2|\n",
            "|  201901812178017|    2|\n",
            "|  201902012074117|    2|\n",
            "|  201902512693417|    3|\n",
            "|  201904212405517|    3|\n",
            "|  201904313084517|    2|\n",
            "|  201906612592617|    4|\n",
            "|  201907112129217|    3|\n",
            "|  201907612245617|    3|\n",
            "|  201907912598517|    2|\n",
            "+-----------------+-----+\n",
            "only showing top 10 rows\n",
            "\n"
          ]
        }
      ],
      "source": [
        "df1.sort('Full Complaint ID').show(n = 10)"
      ]
    },
    {
      "cell_type": "markdown",
      "metadata": {
        "id": "XG8tNFuBT2YJ"
      },
      "source": [
        "#### We understand, that complaint number is not specifically unique. The dataset has rows with duplicated complaint numbers having unique information for all other columns. Thus, we cannot drop the entries with duplicated complaint numbers."
      ]
    },
    {
      "cell_type": "markdown",
      "metadata": {
        "id": "n96nZ6Pjq9k1"
      },
      "source": [
        "## Find Count of Null, None, NaN of All DataFrame Columns"
      ]
    },
    {
      "cell_type": "code",
      "execution_count": null,
      "metadata": {
        "colab": {
          "base_uri": "https://localhost:8080/"
        },
        "id": "mxelZ1tgqB74",
        "outputId": "8a8a5f24-72a0-4beb-9019-3a3614e35cf1"
      },
      "outputs": [
        {
          "output_type": "stream",
          "name": "stdout",
          "text": [
            "+-----------------+---------------------+------------+------------------+-----------------------+-------------------+------+-----------------------------+-------------------+-------------------+-----------------------+----------------+-----------+---------+\n",
            "|Full Complaint ID|Complaint Year Number|Month Number|Record Create Date|Complaint Precinct Code|Patrol Borough Name|County|Law Code Category Description|Offense Description|PD Code Description|Bias Motive Description|Offense Category|Arrest Date|Arrest Id|\n",
            "+-----------------+---------------------+------------+------------------+-----------------------+-------------------+------+-----------------------------+-------------------+-------------------+-----------------------+----------------+-----------+---------+\n",
            "|                0|                    0|           0|                 0|                      0|                  0|     0|                            0|                  0|                  0|                      0|               0|        784|      784|\n",
            "+-----------------+---------------------+------------+------------------+-----------------------+-------------------+------+-----------------------------+-------------------+-------------------+-----------------------+----------------+-----------+---------+\n",
            "\n"
          ]
        }
      ],
      "source": [
        "df.select([count(when(isnan(c) | col(c).isNull(), c)).alias(c) for c in df.columns]\n",
        "   ).show()"
      ]
    },
    {
      "cell_type": "markdown",
      "metadata": {
        "id": "Wt7SOaqwSIfw"
      },
      "source": [
        "#### Get top 5 rows where complaint from Date is NaN"
      ]
    },
    {
      "cell_type": "code",
      "execution_count": null,
      "metadata": {
        "colab": {
          "base_uri": "https://localhost:8080/"
        },
        "id": "OSBt5ZBcpfv2",
        "outputId": "9b7cee74-92c1-485b-8a81-8e6798d73fe6"
      },
      "outputs": [
        {
          "output_type": "stream",
          "name": "stdout",
          "text": [
            "+-----------------+---------------------+------------+------------------+-----------------------+-------------------+------+-----------------------------+-------------------+-------------------+-----------------------+----------------+-----------+---------+\n",
            "|Full Complaint ID|Complaint Year Number|Month Number|Record Create Date|Complaint Precinct Code|Patrol Borough Name|County|Law Code Category Description|Offense Description|PD Code Description|Bias Motive Description|Offense Category|Arrest Date|Arrest Id|\n",
            "+-----------------+---------------------+------------+------------------+-----------------------+-------------------+------+-----------------------------+-------------------+-------------------+-----------------------+----------------+-----------+---------+\n",
            "+-----------------+---------------------+------------+------------------+-----------------------+-------------------+------+-----------------------------+-------------------+-------------------+-----------------------+----------------+-----------+---------+\n",
            "\n"
          ]
        }
      ],
      "source": [
        "df.where(col('Record Create Date').isNull()).show(n=5)"
      ]
    },
    {
      "cell_type": "code",
      "execution_count": null,
      "metadata": {
        "colab": {
          "base_uri": "https://localhost:8080/"
        },
        "id": "VSK0NwkS7gTu",
        "outputId": "0e1b2bbb-7e15-44d2-d8e0-ad48dfa0b949"
      },
      "outputs": [
        {
          "output_type": "stream",
          "name": "stdout",
          "text": [
            "+-----------------+---------------------+------------+------------------+-----------------------+--------------------+--------+-----------------------------+--------------------+--------------------+-----------------------+--------------------+-----------+---------+\n",
            "|Full Complaint ID|Complaint Year Number|Month Number|Record Create Date|Complaint Precinct Code| Patrol Borough Name|  County|Law Code Category Description| Offense Description| PD Code Description|Bias Motive Description|    Offense Category|Arrest Date|Arrest Id|\n",
            "+-----------------+---------------------+------------+------------------+-----------------------+--------------------+--------+-----------------------------+--------------------+--------------------+-----------------------+--------------------+-----------+---------+\n",
            "|  201906112243017|                 2019|           3|        03/31/2019|                     61|PATROL BORO BKLYN...|   KINGS|                  MISDEMEANOR|CRIMINAL MISCHIEF...|CRIMINAL MISCHIEF...|            ANTI-JEWISH|Religion/Religiou...|       null|     null|\n",
            "|  201909412162917|                 2019|           3|        03/16/2019|                     94|PATROL BORO BKLYN...|   KINGS|                       FELONY|MISCELLANEOUS PEN...|AGGRAVATED HARASS...|            ANTI-JEWISH|Religion/Religiou...|       null|     null|\n",
            "|  202002012110917|                 2020|           1|        01/30/2020|                     20|PATROL BORO MAN N...|NEW YORK|                       FELONY|MISCELLANEOUS PEN...|AGGRAVATED HARASS...|            ANTI-JEWISH|Religion/Religiou...|       null|     null|\n",
            "|  201901012103817|                 2019|           1|        01/24/2019|                     10|PATROL BORO MAN S...|NEW YORK|                  MISDEMEANOR|CRIMINAL MISCHIEF...|CRIMINAL MISCHIEF...|            ANTI-JEWISH|Religion/Religiou...|       null|     null|\n",
            "|  201909012691217|                 2019|           9|        09/22/2019|                     90|PATROL BORO BKLYN...|   KINGS|                       FELONY|MISCELLANEOUS PEN...|AGGRAVATED HARASS...|            ANTI-JEWISH|Religion/Religiou...|       null|     null|\n",
            "|  202100912232417|                 2021|           4|        04/28/2021|                      9|PATROL BORO MAN S...|NEW YORK|                  MISDEMEANOR|ASSAULT 3 & RELAT...|           ASSAULT 3|             ANTI-ASIAN|          Race/Color|       null|     null|\n",
            "|  202101812541717|                 2021|           8|        08/15/2021|                     18|PATROL BORO MAN S...|NEW YORK|                  MISDEMEANOR|ASSAULT 3 & RELAT...|           ASSAULT 3|             ANTI-ASIAN|          Race/Color|       null|     null|\n",
            "|  202106312459817|                 2021|           8|        08/30/2021|                     63|PATROL BORO BKLYN...|   KINGS|                  MISDEMEANOR|CRIMINAL MISCHIEF...|CRIMINAL MISCHIEF...|   ANTI-MALE HOMOSEX...|  Sexual Orientation|       null|     null|\n",
            "|  202108412176817|                 2021|           2|        03/09/2021|                     84|PATROL BORO BKLYN...|   KINGS|                       FELONY|MISCELLANEOUS PEN...|AGGRAVATED HARASS...|            ANTI-JEWISH|Religion/Religiou...|       null|     null|\n",
            "|  202112012380017|                 2021|           5|        05/22/2021|                    120|PATROL BORO STATE...|RICHMOND|                  MISDEMEANOR|CRIMINAL MISCHIEF...|CRIMINAL MISCHIEF...|             ANTI-BLACK|          Race/Color|       null|     null|\n",
            "|  202007012888517|                 2020|          12|        12/27/2020|                     70|PATROL BORO BKLYN...|   KINGS|                       FELONY|            BURGLARY|BURGLARY,UNCLASSI...|            ANTI-JEWISH|Religion/Religiou...| 12/31/2020|K32713374|\n",
            "|  202108312080517|                 2021|           1|        01/04/2021|                     83|PATROL BORO BKLYN...|   KINGS|                       FELONY|             ROBBERY|ROBBERY,COMMERCIA...|            ANTI-FEMALE|              Gender| 01/05/2021|K33672671|\n",
            "|  202106612295017|                 2021|           6|        06/15/2021|                     66|PATROL BORO BKLYN...|   KINGS|                       FELONY|MISCELLANEOUS PEN...|AGGRAVATED HARASS...|            ANTI-JEWISH|Religion/Religiou...| 06/14/2021|K33692226|\n",
            "|  201901413044417|                 2019|          10|        10/03/2019|                     14|PATROL BORO MAN S...|NEW YORK|                       FELONY|MISCELLANEOUS PEN...|AGGRAVATED HARASS...|            ANTI-JEWISH|Religion/Religiou...|       null|     null|\n",
            "|  202011112375117|                 2020|          11|        11/21/2020|                    111|PATROL BORO QUEEN...|  QUEENS|                  MISDEMEANOR|CRIMINAL MISCHIEF...|CRIMINAL MISCHIEF...|            ANTI-JEWISH|Religion/Religiou...|       null|     null|\n",
            "|  201909412188717|                 2019|           4|        04/06/2019|                     94|PATROL BORO BKLYN...|   KINGS|                       FELONY|MISCELLANEOUS PEN...|AGGRAVATED HARASS...|            ANTI-JEWISH|Religion/Religiou...| 04/05/2019|K31690190|\n",
            "|  201908812580917|                 2019|          12|        12/28/2019|                     88|PATROL BORO BKLYN...|   KINGS|                       FELONY|             ROBBERY|ROBBERY,OPEN AREA...|          ANTI-HISPANIC|Ethnicity/Nationa...|       null|     null|\n",
            "|  201909012833017|                 2019|          11|        11/21/2019|                     90|PATROL BORO BKLYN...|   KINGS|                  MISDEMEANOR|ASSAULT 3 & RELAT...|           ASSAULT 3|            ANTI-JEWISH|Religion/Religiou...|       null|     null|\n",
            "|  202109412200717|                 2021|           4|        04/24/2021|                     94|PATROL BORO BKLYN...|   KINGS|                       FELONY|MISCELLANEOUS PEN...|AGGRAVATED HARASS...|            ANTI-JEWISH|Religion/Religiou...|       null|     null|\n",
            "|  202007112111117|                 2020|           1|        01/21/2020|                     71|PATROL BORO BKLYN...|   KINGS|                  MISDEMEANOR|ASSAULT 3 & RELAT...|MENACING,UNCLASSI...|            ANTI-JEWISH|Religion/Religiou...| 01/21/2020|K32675055|\n",
            "|  202011112104117|                 2020|           2|        02/04/2020|                    111|PATROL BORO QUEEN...|  QUEENS|                  MISDEMEANOR|ASSAULT 3 & RELAT...|           ASSAULT 3|       ANTI-TRANSGENDER|              Gender| 02/10/2020|Q32676547|\n",
            "|  201902512797017|                 2019|          10|        10/17/2019|                     25|PATROL BORO MAN N...|NEW YORK|                  MISDEMEANOR|CRIMINAL MISCHIEF...|CRIMINAL MISCHIEF...|            ANTI-JEWISH|Religion/Religiou...|       null|     null|\n",
            "|  201910412607917|                 2019|           8|        08/21/2019|                    104|PATROL BORO QUEEN...|  QUEENS|                       FELONY|MISCELLANEOUS PEN...|AGGRAVATED HARASS...|            ANTI-JEWISH|Religion/Religiou...|       null|     null|\n",
            "|  202000612439017|                 2020|           9|        09/12/2020|                      6|PATROL BORO MAN S...|NEW YORK|                       FELONY|MISCELLANEOUS PEN...|AGGRAVATED HARASS...|   ANTI-MULTI-RACIAL...|          Race/Color|       null|     null|\n",
            "|  202010012198517|                 2020|           5|        05/08/2020|                    100|PATROL BORO QUEEN...|  QUEENS|                  MISDEMEANOR|CRIMINAL MISCHIEF...|CRIMINAL MISCHIEF...|             ANTI-BLACK|          Race/Color|       null|     null|\n",
            "|  202103012093517|                 2021|           1|        01/20/2021|                     30|PATROL BORO MAN N...|NEW YORK|                  MISDEMEANOR|CRIMINAL MISCHIEF...|CRIMINAL MISCHIEF...|            ANTI-JEWISH|Religion/Religiou...|       null|     null|\n",
            "|  202002312217217|                 2020|           3|        03/10/2020|                     23|PATROL BORO MAN N...|NEW YORK|                       FELONY|MISCELLANEOUS PEN...|AGGRAVATED HARASS...|             ANTI-ASIAN|          Race/Color| 03/13/2020|M32682532|\n",
            "|  202100712486817|                 2021|           9|        09/23/2021|                      7|PATROL BORO MAN S...|NEW YORK|                  MISDEMEANOR|ASSAULT 3 & RELAT...|MENACING,UNCLASSI...|             ANTI-ASIAN|          Race/Color| 09/23/2021|M33701825|\n",
            "|  201903312091417|                 2019|           1|        01/13/2019|                     33|PATROL BORO MAN N...|NEW YORK|                       FELONY|MISCELLANEOUS PEN...|AGGRAVATED HARASS...|            ANTI-JEWISH|Religion/Religiou...|       null|     null|\n",
            "|  202001012348217|                 2020|           8|        08/24/2020|                     10|PATROL BORO MAN S...|NEW YORK|                  MISDEMEANOR|CRIMINAL MISCHIEF...|CRIMINAL MISCHIEF...|             ANTI-BLACK|          Race/Color|       null|     null|\n",
            "|  202007012786117|                 2020|          11|        11/11/2020|                     70|PATROL BORO BKLYN...|   KINGS|                  MISDEMEANOR|OFF. AGNST PUB OR...|AGGRAVATED HARASS...|            ANTI-JEWISH|Religion/Religiou...|       null|     null|\n",
            "|  202002312217317|                 2020|           3|        03/10/2020|                     23|PATROL BORO MAN N...|NEW YORK|                  MISDEMEANOR|ASSAULT 3 & RELAT...|           ASSAULT 3|             ANTI-ASIAN|          Race/Color| 03/13/2020|M32682527|\n",
            "|  201911512784617|                 2019|           9|        09/12/2019|                    115|PATROL BORO QUEEN...|  QUEENS|                  MISDEMEANOR|ASSAULT 3 & RELAT...|           ASSAULT 3|   ANTI-MALE HOMOSEX...|  Sexual Orientation| 01/22/2020|Q32674331|\n",
            "|  201910412384417|                 2019|           5|        05/23/2019|                    104|PATROL BORO QUEEN...|  QUEENS|                  MISDEMEANOR|ASSAULT 3 & RELAT...|MENACING,UNCLASSI...|   ANTI-MALE HOMOSEX...|  Sexual Orientation|       null|     null|\n",
            "|  202102812275417|                 2021|           4|        05/11/2021|                     28|PATROL BORO MAN N...|NEW YORK|                  MISDEMEANOR|OFF. AGNST PUB OR...|AGGRAVATED HARASS...|             ANTI-ASIAN|          Race/Color|       null|     null|\n",
            "|  202111412471017|                 2021|           5|        05/01/2021|                    114|PATROL BORO QUEEN...|  QUEENS|                  MISDEMEANOR|OFF. AGNST PUB OR...|AGGRAVATED HARASS...|             ANTI-ASIAN|          Race/Color|       null|     null|\n",
            "|  202004012846517|                 2020|           7|        07/31/2020|                     40|   PATROL BORO BRONX|   BRONX|                       FELONY|MISCELLANEOUS PEN...|AGGRAVATED HARASS...|             ANTI-ASIAN|          Race/Color| 08/06/2020|B32692369|\n",
            "|  202102412118317|                 2021|           2|        02/10/2021|                     24|PATROL BORO MAN N...|NEW YORK|                       FELONY|       GRAND LARCENY|LARCENY,GRAND BY ...|            ANTI-JEWISH|Religion/Religiou...| 02/23/2021|M33677739|\n",
            "|  202110112170417|                 2021|           2|        03/11/2021|                    101|PATROL BORO QUEEN...|  QUEENS|                  MISDEMEANOR|ASSAULT 3 & RELAT...|           ASSAULT 3|   ANTI-MALE HOMOSEX...|  Sexual Orientation| 09/23/2021|Q33697244|\n",
            "|  201906612480617|                 2019|           9|        09/14/2019|                     66|PATROL BORO BKLYN...|   KINGS|                       FELONY|CRIMINAL MISCHIEF...|  CRIMINAL MIS 2 & 3|            ANTI-JEWISH|Religion/Religiou...|       null|     null|\n",
            "|  201910812641817|                 2019|          10|        10/22/2019|                    108|PATROL BORO QUEEN...|  QUEENS|                  MISDEMEANOR|CRIMINAL MISCHIEF...|CRIMINAL MISCHIEF...|            ANTI-JEWISH|Religion/Religiou...|       null|     null|\n",
            "|  202011212295017|                 2020|           7|        07/28/2020|                    112|PATROL BORO QUEEN...|  QUEENS|                  MISDEMEANOR|OFF. AGNST PUB OR...|AGGRAVATED HARASS...|             ANTI-BLACK|          Race/Color|       null|     null|\n",
            "|  202100112377017|                 2021|           6|        06/21/2021|                      1|PATROL BORO MAN S...|NEW YORK|                  MISDEMEANOR|          SEX CRIMES|CHILD, ENDANGERIN...|             ANTI-ASIAN|          Race/Color|       null|     null|\n",
            "|  202102512556417|                 2021|           8|        08/24/2021|                     25|PATROL BORO MAN N...|NEW YORK|                       FELONY|MISCELLANEOUS PEN...|AGGRAVATED HARASS...|            ANTI-JEWISH|Religion/Religiou...|       null|     null|\n",
            "|  202111212073717|                 2021|           1|        01/02/2021|                    112|PATROL BORO QUEEN...|  QUEENS|                  MISDEMEANOR|CRIMINAL MISCHIEF...|CRIMINAL MISCHIEF...|            ANTI-JEWISH|Religion/Religiou...|       null|     null|\n",
            "|  202010012361717|                 2020|          10|        10/02/2020|                    100|PATROL BORO QUEEN...|  QUEENS|                  MISDEMEANOR|OFF. AGNST PUB OR...|AGGRAVATED HARASS...|   ANTI-MALE HOMOSEX...|  Sexual Orientation| 10/14/2020|Q32696681|\n",
            "|  201901912835917|                 2019|          10|        10/13/2019|                     19|PATROL BORO MAN N...|NEW YORK|                  MISDEMEANOR|CRIMINAL MISCHIEF...|CRIMINAL MISCHIEF...|            ANTI-JEWISH|Religion/Religiou...|       null|     null|\n",
            "|  201909412156917|                 2019|           3|        03/12/2019|                     94|PATROL BORO BKLYN...|   KINGS|                  MISDEMEANOR|OFF. AGNST PUB OR...|AGGRAVATED HARASS...|            ANTI-JEWISH|Religion/Religiou...|       null|     null|\n",
            "|  202001712128017|                 2020|           2|        02/11/2020|                     17|PATROL BORO MAN S...|NEW YORK|                       FELONY|MISCELLANEOUS PEN...|MAKING TERRORISTI...|            ANTI-JEWISH|Religion/Religiou...|       null|     null|\n",
            "|  202010612226217|                 2020|           3|        03/05/2020|                    106|PATROL BORO QUEEN...|  QUEENS|                  MISDEMEANOR|CRIMINAL MISCHIEF...|MISCHIEF, CRIMINA...|             ANTI-HINDU|Religion/Religiou...|       null|     null|\n",
            "|  202110212342517|                 2021|           5|        05/25/2021|                    102|PATROL BORO QUEEN...|  QUEENS|                       FELONY|MISCELLANEOUS PEN...|AGGRAVATED HARASS...|            ANTI-JEWISH|Religion/Religiou...|       null|     null|\n",
            "|  202110412264717|                 2021|           3|        03/29/2021|                    104|PATROL BORO QUEEN...|  QUEENS|                  MISDEMEANOR|ASSAULT 3 & RELAT...|MENACING,UNCLASSI...|             ANTI-ASIAN|          Race/Color|       null|     null|\n",
            "|  202111112346017|                 2021|           9|        09/17/2021|                    111|PATROL BORO QUEEN...|  QUEENS|                  MISDEMEANOR|CRIMINAL MISCHIEF...|CRIMINAL MISCHIEF...|            ANTI-JEWISH|Religion/Religiou...|       null|     null|\n",
            "|  202112012648217|                 2021|           9|        09/05/2021|                    120|PATROL BORO STATE...|RICHMOND|                  MISDEMEANOR|CRIMINAL MISCHIEF...|CRIMINAL MISCHIEF...|            ANTI-JEWISH|Religion/Religiou...|       null|     null|\n",
            "|  202100512174517|                 2021|           4|        04/06/2021|                      5|PATROL BORO MAN S...|NEW YORK|                  MISDEMEANOR|OFF. AGNST PUB OR...|AGGRAVATED HARASS...|             ANTI-ASIAN|          Race/Color| 04/06/2021|M33682684|\n",
            "|  201911312390117|                 2019|           4|        04/26/2019|                    113|PATROL BORO QUEEN...|  QUEENS|                  MISDEMEANOR|ASSAULT 3 & RELAT...| OBSTR BREATH/CIRCUL|             ANTI-BLACK|          Race/Color| 04/25/2019|Q31687940|\n",
            "|  201903212751117|                 2019|          11|        11/14/2019|                     32|PATROL BORO MAN N...|NEW YORK|                  MISDEMEANOR|ASSAULT 3 & RELAT...|           ASSAULT 3|             ANTI-WHITE|          Race/Color|       null|     null|\n",
            "|  202000712108917|                 2020|           1|        01/27/2020|                      7|PATROL BORO MAN S...|NEW YORK|                  MISDEMEANOR|CRIMINAL MISCHIEF...|CRIMINAL MISCHIEF...|            ANTI-JEWISH|Religion/Religiou...|       null|     null|\n",
            "|  202001312317417|                 2020|           4|        04/08/2020|                     13|PATROL BORO MAN S...|NEW YORK|                  MISDEMEANOR|CRIMINAL MISCHIEF...|CRIMINAL MISCHIEF...|             ANTI-ASIAN|          Race/Color|       null|     null|\n",
            "|  202007012887617|                 2020|          12|        12/26/2020|                     70|PATROL BORO BKLYN...|   KINGS|                       FELONY|MISCELLANEOUS PEN...|AGGRAVATED HARASS...|            ANTI-JEWISH|Religion/Religiou...| 12/31/2020|K32713379|\n",
            "|  202100512155717|                 2021|           3|        03/22/2021|                      5|PATROL BORO MAN S...|NEW YORK|                       FELONY|      FELONY ASSAULT|ASSAULT 2,1,UNCLA...|             ANTI-ASIAN|          Race/Color| 03/22/2021|M33681149|\n",
            "|  201900712174717|                 2019|           3|        03/15/2019|                      7|PATROL BORO MAN S...|NEW YORK|                       FELONY|MISCELLANEOUS PEN...|AGGRAVATED HARASS...|            ANTI-JEWISH|Religion/Religiou...|       null|     null|\n",
            "|  201910812204617|                 2019|           3|        03/13/2019|                    108|PATROL BORO QUEEN...|  QUEENS|                       FELONY|CRIMINAL MISCHIEF...|  CRIMINAL MIS 2 & 3|            ANTI-JEWISH|Religion/Religiou...|       null|     null|\n",
            "|  202102412443317|                 2021|           9|        09/22/2021|                     24|PATROL BORO MAN N...|NEW YORK|                       FELONY|MISCELLANEOUS PEN...|AGGRAVATED HARASS...|            ANTI-JEWISH|Religion/Religiou...|       null|     null|\n",
            "|  202106212496117|                 2021|           7|        07/25/2021|                     62|PATROL BORO BKLYN...|   KINGS|                       FELONY|MISCELLANEOUS PEN...|AGGRAVATED HARASS...|             ANTI-ASIAN|          Race/Color|       null|     null|\n",
            "|  202110812352617|                 2021|           5|        05/31/2021|                    108|PATROL BORO QUEEN...|  QUEENS|                       FELONY|MISCELLANEOUS PEN...|AGGRAVATED HARASS...|            ANTI-JEWISH|Religion/Religiou...|       null|     null|\n",
            "|  202112212207917|                 2021|           3|        03/30/2021|                    122|PATROL BORO STATE...|RICHMOND|                       FELONY|MISCELLANEOUS PEN...|AGGRAVATED HARASS...|            ANTI-JEWISH|Religion/Religiou...|       null|     null|\n",
            "|  201903212380917|                 2019|           5|        05/31/2019|                     32|PATROL BORO MAN N...|NEW YORK|                  MISDEMEANOR|CRIMINAL MISCHIEF...|MISCHIEF, CRIMINA...|   ANTI-LGBT (MIXED ...|  Sexual Orientation| 07/09/2019|M31702799|\n",
            "|  201905212482417|                 2019|           5|        05/05/2019|                     52|   PATROL BORO BRONX|   BRONX|                       FELONY|MISCELLANEOUS PEN...|AGGRAVATED HARASS...|            ANTI-JEWISH|Religion/Religiou...|       null|     null|\n",
            "|  201911512483517|                 2019|           6|        06/02/2019|                    115|PATROL BORO QUEEN...|  QUEENS|                       FELONY|CRIMINAL MISCHIEF...|MISCHIEF, CRIMINA...|             ANTI-BLACK|          Race/Color|       null|     null|\n",
            "|  201900512214617|                 2019|           3|        03/25/2019|                      5|PATROL BORO MAN S...|NEW YORK|                       FELONY|      FELONY ASSAULT|ASSAULT 2,1,UNCLA...|          ANTI-HISPANIC|Ethnicity/Nationa...| 05/28/2019|M31696193|\n",
            "|  202100712251717|                 2021|           4|        05/14/2021|                      7|PATROL BORO MAN S...|NEW YORK|                       FELONY|      FELONY ASSAULT|ASSAULT 2,1,UNCLA...|            ANTI-JEWISH|Religion/Religiou...| 06/09/2021|M33689227|\n",
            "|  201910212301317|                 2019|           4|        04/30/2019|                    102|PATROL BORO QUEEN...|  QUEENS|                       FELONY|CRIMINAL MISCHIEF...|MISCHIEF,CRIMINAL...|            ANTI-MUSLIM|Religion/Religiou...| 04/29/2019|Q31688353|\n",
            "|  202110812497217|                 2021|           7|        08/08/2021|                    108|PATROL BORO QUEEN...|  QUEENS|                  MISDEMEANOR|ASSAULT 3 & RELAT...|           ASSAULT 3|   ANTI-MALE HOMOSEX...|  Sexual Orientation| 09/07/2021|Q33695575|\n",
            "|  201900112502817|                 2019|           6|        06/30/2019|                      1|PATROL BORO MAN S...|NEW YORK|                  MISDEMEANOR|OFF. AGNST PUB OR...|AGGRAVATED HARASS...|   ANTI-FEMALE HOMOS...|  Sexual Orientation|       null|     null|\n",
            "|  201903412667517|                 2019|          10|        10/30/2019|                     34|PATROL BORO MAN N...|NEW YORK|                       FELONY|      FELONY ASSAULT|ASSAULT 2,1,UNCLA...|             ANTI-WHITE|          Race/Color|       null|     null|\n",
            "|  201910312891417|                 2019|          10|        10/28/2019|                    103|PATROL BORO QUEEN...|  QUEENS|                  MISDEMEANOR|OFF. AGNST PUB OR...|AGGRAVATED HARASS...|            ANTI-JEWISH|Religion/Religiou...|       null|     null|\n",
            "|  201911512784517|                 2019|           9|        09/12/2019|                    115|PATROL BORO QUEEN...|  QUEENS|                       FELONY|      FELONY ASSAULT|ASSAULT 2,1,UNCLA...|   ANTI-MALE HOMOSEX...|  Sexual Orientation| 01/22/2020|Q32674328|\n",
            "|  202110712308117|                 2021|           5|        05/23/2021|                    107|PATROL BORO QUEEN...|  QUEENS|                       FELONY|             ROBBERY|ROBBERY,OPEN AREA...|             ANTI-ASIAN|          Race/Color| 07/22/2021|Q33691020|\n",
            "|  202004413034117|                 2020|          10|        10/03/2020|                     44|   PATROL BORO BRONX|   BRONX|                  MISDEMEANOR|CRIMINAL MISCHIEF...|CRIMINAL MISCHIEF...|            ANTI-JEWISH|Religion/Religiou...|       null|     null|\n",
            "|  202009412370417|                 2020|           9|        09/16/2020|                     94|PATROL BORO BKLYN...|   KINGS|                  MISDEMEANOR|OFF. AGNST PUB OR...|AGGRAVATED HARASS...|            ANTI-JEWISH|Religion/Religiou...|       null|     null|\n",
            "|  202101312667117|                 2021|           9|        09/25/2021|                     13|PATROL BORO MAN S...|NEW YORK|                  MISDEMEANOR|OFF. AGNST PUB OR...|AGGRAVATED HARASS...|            ANTI-JEWISH|Religion/Religiou...|       null|     null|\n",
            "|  202004812794517|                 2020|          10|        10/08/2020|                     48|   PATROL BORO BRONX|   BRONX|                  MISDEMEANOR|ASSAULT 3 & RELAT...|MENACING,UNCLASSI...|   ANTI-MALE HOMOSEX...|  Sexual Orientation| 10/08/2020|B32698112|\n",
            "|  202101912141617|                 2021|           2|        02/02/2021|                     19|PATROL BORO MAN N...|NEW YORK|                  MISDEMEANOR|OFF. AGNST PUB OR...|AGGRAVATED HARASS...|            ANTI-JEWISH|Religion/Religiou...| 03/18/2021|M33680683|\n",
            "|  201900712572817|                 2019|          12|        12/07/2019|                      7|PATROL BORO MAN S...|NEW YORK|                  MISDEMEANOR|CRIMINAL MISCHIEF...|CRIMINAL MISCHIEF...|            ANTI-JEWISH|Religion/Religiou...|       null|     null|\n",
            "|  202100612111017|                 2021|           2|        02/06/2021|                      6|PATROL BORO MAN S...|NEW YORK|                       FELONY|MISCELLANEOUS PEN...|AGGRAVATED HARASS...|            ANTI-JEWISH|Religion/Religiou...|       null|     null|\n",
            "|  201909412267917|                 2019|           6|        06/10/2019|                     94|PATROL BORO BKLYN...|   KINGS|                  MISDEMEANOR|ASSAULT 3 & RELAT...|           ASSAULT 3|   ANTI-MALE HOMOSEX...|  Sexual Orientation| 06/11/2019|K31702285|\n",
            "|  202100512123817|                 2021|           2|        02/25/2021|                      5|PATROL BORO MAN S...|NEW YORK|                       FELONY|      FELONY ASSAULT|ASSAULT 2,1,UNCLA...|             ANTI-ASIAN|          Race/Color| 02/25/2021|M33678144|\n",
            "|  202007912116417|                 2020|           1|        01/17/2020|                     79|PATROL BORO BKLYN...|   KINGS|                  MISDEMEANOR|OFF. AGNST PUB OR...|AGGRAVATED HARASS...|            ANTI-JEWISH|Religion/Religiou...|       null|     null|\n",
            "|  202008812133017|                 2020|           2|        02/07/2020|                     88|PATROL BORO BKLYN...|   KINGS|                       FELONY|      FELONY ASSAULT|ASSAULT 2,1,UNCLA...|             ANTI-WHITE|          Race/Color|       null|     null|\n",
            "|  202011512997717|                 2020|          12|        12/21/2020|                    115|PATROL BORO QUEEN...|  QUEENS|                  MISDEMEANOR|CRIMINAL MISCHIEF...|CRIMINAL MISCHIEF...|          ANTI-HISPANIC|Ethnicity/Nationa...|       null|     null|\n",
            "|  202104713000317|                 2021|           9|        09/06/2021|                     47|   PATROL BORO BRONX|   BRONX|                       FELONY|MISCELLANEOUS PEN...|AGGRAVATED HARASS...|            ANTI-JEWISH|Religion/Religiou...| 09/06/2021|B33695947|\n",
            "|  201909412183117|                 2019|           3|        04/01/2019|                     94|PATROL BORO BKLYN...|   KINGS|                       FELONY|MISCELLANEOUS PEN...|AGGRAVATED HARASS...|            ANTI-JEWISH|Religion/Religiou...| 04/06/2019|K31690178|\n",
            "|  202000112210017|                 2020|           2|        02/24/2020|                      1|PATROL BORO MAN S...|NEW YORK|                  MISDEMEANOR|OFF. AGNST PUB OR...|AGGRAVATED HARASS...|             ANTI-WHITE|          Race/Color| 03/10/2020|M32681914|\n",
            "|  201904112639917|                 2019|          10|        10/07/2019|                     41|   PATROL BORO BRONX|   BRONX|                       FELONY|MISCELLANEOUS PEN...|AGGRAVATED HARASS...|            ANTI-JEWISH|Religion/Religiou...|       null|     null|\n",
            "|  201906612592617|                 2019|          11|        11/24/2019|                     66|PATROL BORO BKLYN...|   KINGS|                       FELONY|       GRAND LARCENY|LARCENY,GRAND FRO...|            ANTI-JEWISH|Religion/Religiou...|       null|     null|\n",
            "|  202006612478217|                 2020|          10|        10/22/2020|                     66|PATROL BORO BKLYN...|   KINGS|                  MISDEMEANOR|CRIMINAL MISCHIEF...|CRIMINAL MISCHIEF...|            ANTI-JEWISH|Religion/Religiou...|       null|     null|\n",
            "|  202102212075817|                 2021|           3|        03/18/2021|                     22|PATROL BORO MAN N...|NEW YORK|                  MISDEMEANOR|CRIMINAL MISCHIEF...|CRIMINAL MISCHIEF...|            ANTI-JEWISH|Religion/Religiou...|       null|     null|\n",
            "|  201901812178017|                 2019|           2|        02/09/2019|                     18|PATROL BORO MAN S...|NEW YORK|                       FELONY|      FELONY ASSAULT|ASSAULT 2,1,UNCLA...|             ANTI-BLACK|          Race/Color| 02/09/2019|M31678640|\n",
            "|  202100512312917|                 2021|           7|        07/25/2021|                      5|PATROL BORO MAN S...|NEW YORK|                       FELONY|      FELONY ASSAULT|ASSAULT 2,1,UNCLA...|             ANTI-ASIAN|          Race/Color| 07/27/2021|M33694630|\n",
            "+-----------------+---------------------+------------+------------------+-----------------------+--------------------+--------+-----------------------------+--------------------+--------------------+-----------------------+--------------------+-----------+---------+\n",
            "only showing top 100 rows\n",
            "\n"
          ]
        }
      ],
      "source": [
        "df.show(100)"
      ]
    },
    {
      "cell_type": "markdown",
      "metadata": {
        "id": "xQB6VENfU63C"
      },
      "source": [
        "Check if minimum and maximum values of date and time are valid or not. The value of time cannot be 24:00:00. "
      ]
    },
    {
      "cell_type": "code",
      "execution_count": null,
      "metadata": {
        "colab": {
          "base_uri": "https://localhost:8080/"
        },
        "id": "vVavFmZSuUoz",
        "outputId": "e91cebae-d006-4c99-e6ba-08e7318d6c92"
      },
      "outputs": [
        {
          "output_type": "stream",
          "name": "stdout",
          "text": [
            "+-----------------------+\n",
            "|min(Record Create Date)|\n",
            "+-----------------------+\n",
            "|             01/01/2019|\n",
            "+-----------------------+\n",
            "\n"
          ]
        }
      ],
      "source": [
        "## Minimum value of the column in pyspark\n",
        "df.agg({'Record Create Date': 'min'}).show()"
      ]
    },
    {
      "cell_type": "code",
      "execution_count": null,
      "metadata": {
        "colab": {
          "base_uri": "https://localhost:8080/"
        },
        "id": "Tono32lCucBj",
        "outputId": "27a33396-6808-420e-f6b5-a91bd05bf907"
      },
      "outputs": [
        {
          "output_type": "stream",
          "name": "stdout",
          "text": [
            "+-----------------------+\n",
            "|max(Record Create Date)|\n",
            "+-----------------------+\n",
            "|             12/31/2019|\n",
            "+-----------------------+\n",
            "\n"
          ]
        }
      ],
      "source": [
        "## Maximum value of the column in pyspark\n",
        "df.agg({'Record Create Date': 'max'}).show()"
      ]
    },
    {
      "cell_type": "markdown",
      "metadata": {
        "id": "StfFUDBsc_8R"
      },
      "source": [
        "**Some basic data quality checks are as below:**\n",
        "1. Check if there are no garbage values in the location of occurence description column. The valid values that this column should ideally contain are: 'FRONT OF', 'REAR OF', 'OUTSIDE', 'INSIDE', 'OPPOSITE OF'\n",
        "2. Check if there are no garbage values in law category column. The valid values are: 'FELONY', 'VIOLATION', 'MISDEMEANOR'\n",
        "3. Check if there are no misspellings in Borough Name. There should be 5 distinct boroughs: Manhattan, Bronx, Queens, Brooklyn, Staten Island. We implement unique method, in case of misspellings multiple values of the same borough would be returned.\n",
        "4. Check if 'CRM_ATPT_CPTD_CD' column has no garbage value. The only acceptable values are Completed or Attempted.\n",
        "5. Ideally, key code should contain only 3 digits. Implementing a check below to see if there are any invalid values for the key code. "
      ]
    },
    {
      "cell_type": "code",
      "source": [
        "df.columns"
      ],
      "metadata": {
        "colab": {
          "base_uri": "https://localhost:8080/"
        },
        "id": "r6kcsUnUvcCF",
        "outputId": "92f3056d-0b6b-4c03-f425-42923877aa81"
      },
      "execution_count": null,
      "outputs": [
        {
          "output_type": "execute_result",
          "data": {
            "text/plain": [
              "['Full Complaint ID',\n",
              " 'Complaint Year Number',\n",
              " 'Month Number',\n",
              " 'Record Create Date',\n",
              " 'Complaint Precinct Code',\n",
              " 'Patrol Borough Name',\n",
              " 'County',\n",
              " 'Law Code Category Description',\n",
              " 'Offense Description',\n",
              " 'PD Code Description',\n",
              " 'Bias Motive Description',\n",
              " 'Offense Category',\n",
              " 'Arrest Date',\n",
              " 'Arrest Id']"
            ]
          },
          "metadata": {},
          "execution_count": 28
        }
      ]
    },
    {
      "cell_type": "code",
      "execution_count": null,
      "metadata": {
        "colab": {
          "base_uri": "https://localhost:8080/"
        },
        "id": "thhWypodbGdS",
        "outputId": "baef6481-cd01-43a6-89c4-8211da0a37c1"
      },
      "outputs": [
        {
          "output_type": "stream",
          "name": "stdout",
          "text": [
            "+--------------------+\n",
            "| PD Code Description|\n",
            "+--------------------+\n",
            "|BURGLARY,UNCLASSI...|\n",
            "|MISCHIEF, CRIMINA...|\n",
            "|LARCENY,PETIT FRO...|\n",
            "|MISCHIEF,CRIMINAL...|\n",
            "|           ASSAULT 3|\n",
            "|LARCENY,PETIT FRO...|\n",
            "|LARCENY,GRAND FRO...|\n",
            "|ASSAULT 2,1,UNCLA...|\n",
            "|LARCENY,GRAND FRO...|\n",
            "|ROBBERY,PUBLIC PL...|\n",
            "|ROBBERY,COMMERCIA...|\n",
            "|              RAPE 1|\n",
            "|ROBBERY,PERSONAL ...|\n",
            "|    ROBBERY,CLOTHING|\n",
            "|MISCHIEF, CRIMINA...|\n",
            "|ROBBERY,OPEN AREA...|\n",
            "|MAKING TERRORISTI...|\n",
            "|LARCENY,GRAND FRO...|\n",
            "|ROBBERY,BEGIN AS ...|\n",
            "| MURDER,UNCLASSIFIED|\n",
            "+--------------------+\n",
            "only showing top 20 rows\n",
            "\n"
          ]
        }
      ],
      "source": [
        "df.select('PD Code Description').distinct().show()"
      ]
    },
    {
      "cell_type": "markdown",
      "metadata": {
        "id": "GZowh0na-VjI"
      },
      "source": [
        "### Checks for Borough Name"
      ]
    },
    {
      "cell_type": "code",
      "execution_count": null,
      "metadata": {
        "colab": {
          "base_uri": "https://localhost:8080/"
        },
        "id": "8EkBxmg_bOue",
        "outputId": "3bd06c90-f07b-472a-c9fa-f5ca267868f7"
      },
      "outputs": [
        {
          "output_type": "stream",
          "name": "stdout",
          "text": [
            "+--------------------+\n",
            "| Patrol Borough Name|\n",
            "+--------------------+\n",
            "|   PATROL BORO BRONX|\n",
            "|PATROL BORO STATE...|\n",
            "|PATROL BORO BKLYN...|\n",
            "|PATROL BORO QUEEN...|\n",
            "|PATROL BORO BKLYN...|\n",
            "|PATROL BORO QUEEN...|\n",
            "|PATROL BORO MAN N...|\n",
            "|PATROL BORO MAN S...|\n",
            "+--------------------+\n",
            "\n"
          ]
        }
      ],
      "source": [
        "df.select('Patrol Borough Name').distinct().show()"
      ]
    },
    {
      "cell_type": "markdown",
      "metadata": {
        "id": "CLGPDp3OAdxF"
      },
      "source": [
        "We can see there are no misspellings for the Borough names and thus no need for additional data correction for the same."
      ]
    },
    {
      "cell_type": "code",
      "execution_count": null,
      "metadata": {
        "colab": {
          "base_uri": "https://localhost:8080/"
        },
        "id": "TGS80nUK-O1f",
        "outputId": "ffea5cb6-eef6-4494-c675-82bac688fedf"
      },
      "outputs": [
        {
          "output_type": "stream",
          "name": "stdout",
          "text": [
            "+-----------------+---------------------+------------+------------------+-----------------------+-------------------+------+-----------------------------+-------------------+-------------------+-----------------------+----------------+-----------+---------+\n",
            "|Full Complaint ID|Complaint Year Number|Month Number|Record Create Date|Complaint Precinct Code|Patrol Borough Name|County|Law Code Category Description|Offense Description|PD Code Description|Bias Motive Description|Offense Category|Arrest Date|Arrest Id|\n",
            "+-----------------+---------------------+------------+------------------+-----------------------+-------------------+------+-----------------------------+-------------------+-------------------+-----------------------+----------------+-----------+---------+\n",
            "+-----------------+---------------------+------------+------------------+-----------------------+-------------------+------+-----------------------------+-------------------+-------------------+-----------------------+----------------+-----------+---------+\n",
            "\n"
          ]
        }
      ],
      "source": [
        "df.where(col('Patrol Borough Name').isNull()).show()"
      ]
    },
    {
      "cell_type": "markdown",
      "metadata": {
        "id": "8PBAVylwS6md"
      },
      "source": [
        "#### Dropping Rows where Borough Name is NULL"
      ]
    },
    {
      "cell_type": "code",
      "execution_count": null,
      "metadata": {
        "colab": {
          "base_uri": "https://localhost:8080/"
        },
        "id": "BdsO97LX6bSs",
        "outputId": "5db51bcc-376a-4452-ab17-d4ed8f4a1ede"
      },
      "outputs": [
        {
          "output_type": "execute_result",
          "data": {
            "text/plain": [
              "1181"
            ]
          },
          "metadata": {},
          "execution_count": 34
        }
      ],
      "source": [
        "df.count()"
      ]
    },
    {
      "cell_type": "code",
      "execution_count": null,
      "metadata": {
        "colab": {
          "base_uri": "https://localhost:8080/"
        },
        "id": "5TxYWPFN-mP5",
        "outputId": "de08466c-7412-43ee-cb3a-718dcdcf191e"
      },
      "outputs": [
        {
          "output_type": "stream",
          "name": "stdout",
          "text": [
            "+----------+------------+------------+------------+------------+-----------+------+-----+---------+-----+-------+----------------+----------+-------+-----------------+-------------+----------+-----------------+--------+----------+-----------+--------------+---------+--------+----------------+-----------+------------+-------------+--------+-------+\n",
            "|CMPLNT_NUM|CMPLNT_FR_DT|CMPLNT_FR_TM|CMPLNT_TO_DT|CMPLNT_TO_TM|ADDR_PCT_CD|RPT_DT|KY_CD|OFNS_DESC|PD_CD|PD_DESC|CRM_ATPT_CPTD_CD|LAW_CAT_CD|BORO_NM|LOC_OF_OCCUR_DESC|PREM_TYP_DESC|JURIS_DESC|JURISDICTION_CODE|PARKS_NM|HADEVELOPT|HOUSING_PSA|SUSP_AGE_GROUP|SUSP_RACE|SUSP_SEX|TRANSIT_DISTRICT|PATROL_BORO|STATION_NAME|VIC_AGE_GROUP|VIC_RACE|VIC_SEX|\n",
            "+----------+------------+------------+------------+------------+-----------+------+-----+---------+-----+-------+----------------+----------+-------+-----------------+-------------+----------+-----------------+--------+----------+-----------+--------------+---------+--------+----------------+-----------+------------+-------------+--------+-------+\n",
            "+----------+------------+------------+------------+------------+-----------+------+-----+---------+-----+-------+----------------+----------+-------+-----------------+-------------+----------+-----------------+--------+----------+-----------+--------------+---------+--------+----------------+-----------+------------+-------------+--------+-------+\n",
            "\n"
          ]
        }
      ],
      "source": [
        "df.filter(df.BORO_NM.isNull()).show()"
      ]
    },
    {
      "cell_type": "markdown",
      "metadata": {
        "id": "2yoI3xH_tbtM"
      },
      "source": [
        "## Defining checks for outliers in age group"
      ]
    },
    {
      "cell_type": "code",
      "execution_count": null,
      "metadata": {
        "id": "JkZU28TmbL-X",
        "colab": {
          "base_uri": "https://localhost:8080/"
        },
        "outputId": "eb68fb56-9340-40e0-cf84-d112a72f184c"
      },
      "outputs": [
        {
          "output_type": "stream",
          "name": "stdout",
          "text": [
            "+-----------------+---------------------+------------+------------------+-----------------------+--------------------+--------+-----------------------------+--------------------+--------------------+-----------------------+--------------------+-----------+---------+\n",
            "|Full Complaint ID|Complaint Year Number|Month Number|Record Create Date|Complaint Precinct Code| Patrol Borough Name|  County|Law Code Category Description| Offense Description| PD Code Description|Bias Motive Description|    Offense Category|Arrest Date|Arrest Id|\n",
            "+-----------------+---------------------+------------+------------------+-----------------------+--------------------+--------+-----------------------------+--------------------+--------------------+-----------------------+--------------------+-----------+---------+\n",
            "|  201906112243017|                 2019|           3|        03/31/2019|                     61|PATROL BORO BKLYN...|   KINGS|                  MISDEMEANOR|CRIMINAL MISCHIEF...|CRIMINAL MISCHIEF...|            ANTI-JEWISH|Religion/Religiou...|       null|     null|\n",
            "|  201909412162917|                 2019|           3|        03/16/2019|                     94|PATROL BORO BKLYN...|   KINGS|                       FELONY|MISCELLANEOUS PEN...|AGGRAVATED HARASS...|            ANTI-JEWISH|Religion/Religiou...|       null|     null|\n",
            "|  202002012110917|                 2020|           1|        01/30/2020|                     20|PATROL BORO MAN N...|NEW YORK|                       FELONY|MISCELLANEOUS PEN...|AGGRAVATED HARASS...|            ANTI-JEWISH|Religion/Religiou...|       null|     null|\n",
            "|  201901012103817|                 2019|           1|        01/24/2019|                     10|PATROL BORO MAN S...|NEW YORK|                  MISDEMEANOR|CRIMINAL MISCHIEF...|CRIMINAL MISCHIEF...|            ANTI-JEWISH|Religion/Religiou...|       null|     null|\n",
            "|  201909012691217|                 2019|           9|        09/22/2019|                     90|PATROL BORO BKLYN...|   KINGS|                       FELONY|MISCELLANEOUS PEN...|AGGRAVATED HARASS...|            ANTI-JEWISH|Religion/Religiou...|       null|     null|\n",
            "+-----------------+---------------------+------------+------------------+-----------------------+--------------------+--------+-----------------------------+--------------------+--------------------+-----------------------+--------------------+-----------+---------+\n",
            "only showing top 5 rows\n",
            "\n"
          ]
        }
      ],
      "source": [
        "df.show(n=5)"
      ]
    },
    {
      "cell_type": "markdown",
      "metadata": {
        "id": "u50lhakET780"
      },
      "source": [
        "#### Get unique values of offense description in sorted order"
      ]
    },
    {
      "cell_type": "code",
      "execution_count": null,
      "metadata": {
        "id": "P22KLvXgf5qs",
        "colab": {
          "base_uri": "https://localhost:8080/"
        },
        "outputId": "cc0c5015-d171-4ff0-e1ed-6434ada2a0e5"
      },
      "outputs": [
        {
          "output_type": "stream",
          "name": "stdout",
          "text": [
            "+--------------------+\n",
            "| Offense Description|\n",
            "+--------------------+\n",
            "|ASSAULT 3 & RELAT...|\n",
            "|            BURGLARY|\n",
            "|CRIMINAL MISCHIEF...|\n",
            "|   CRIMINAL TRESPASS|\n",
            "|   DANGEROUS WEAPONS|\n",
            "|      FELONY ASSAULT|\n",
            "|              FRAUDS|\n",
            "|       GRAND LARCENY|\n",
            "|       HARRASSMENT 2|\n",
            "|INVESTIGATIONS/CO...|\n",
            "|MISCELLANEOUS PEN...|\n",
            "|MURDER & NON-NEGL...|\n",
            "|OFF. AGNST PUB OR...|\n",
            "|       PETIT LARCENY|\n",
            "|                RAPE|\n",
            "|             ROBBERY|\n",
            "|          SEX CRIMES|\n",
            "+--------------------+\n",
            "\n"
          ]
        }
      ],
      "source": [
        "df.select('Offense Description').distinct().orderBy('Offense Description', ascending=True).show()"
      ]
    },
    {
      "cell_type": "markdown",
      "metadata": {
        "id": "oXST8FTeUGgZ"
      },
      "source": [
        "#### Getting Total Count of Offense Description"
      ]
    },
    {
      "cell_type": "code",
      "execution_count": null,
      "metadata": {
        "id": "S7qj-jmIMCWL",
        "colab": {
          "base_uri": "https://localhost:8080/"
        },
        "outputId": "240f5b33-f0d6-49e2-e52d-f5969c3bdba4"
      },
      "outputs": [
        {
          "output_type": "execute_result",
          "data": {
            "text/plain": [
              "17"
            ]
          },
          "metadata": {},
          "execution_count": 41
        }
      ],
      "source": [
        "df.select('Offense Description').distinct().count()"
      ]
    },
    {
      "cell_type": "code",
      "execution_count": null,
      "metadata": {
        "id": "feQGTHyyqflL",
        "colab": {
          "base_uri": "https://localhost:8080/"
        },
        "outputId": "6ff1a78c-6861-4816-a0d1-32ac008ca42a"
      },
      "outputs": [
        {
          "output_type": "stream",
          "name": "stdout",
          "text": [
            "+--------------------+-----+\n",
            "| Offense Description|count|\n",
            "+--------------------+-----+\n",
            "|OFF. AGNST PUB OR...|  152|\n",
            "|      FELONY ASSAULT|  136|\n",
            "|CRIMINAL MISCHIEF...|  310|\n",
            "|MURDER & NON-NEGL...|    2|\n",
            "|MISCELLANEOUS PEN...|  292|\n",
            "|          SEX CRIMES|    3|\n",
            "|       HARRASSMENT 2|   15|\n",
            "|   CRIMINAL TRESPASS|    1|\n",
            "|ASSAULT 3 & RELAT...|  204|\n",
            "|              FRAUDS|    1|\n",
            "|             ROBBERY|   37|\n",
            "|   DANGEROUS WEAPONS|    1|\n",
            "|       PETIT LARCENY|    2|\n",
            "|                RAPE|    1|\n",
            "|       GRAND LARCENY|   17|\n",
            "|INVESTIGATIONS/CO...|    1|\n",
            "|            BURGLARY|    6|\n",
            "+--------------------+-----+\n",
            "\n"
          ]
        }
      ],
      "source": [
        "df.groupBy('Offense Description').count().show()"
      ]
    },
    {
      "cell_type": "markdown",
      "metadata": {
        "id": "o7CvGBj3D0z4"
      },
      "source": [
        "#### Each key code represents a particular offense description. There is a one to one mapping. So we would use key code for future analysis instead of offense description."
      ]
    },
    {
      "cell_type": "markdown",
      "metadata": {
        "id": "fZ74ExfCRC4g"
      },
      "source": [
        "#### Calculating the null values present in the data columnwise (with respect to the features)"
      ]
    },
    {
      "cell_type": "code",
      "execution_count": null,
      "metadata": {
        "id": "eNTgn7bW-X-t",
        "colab": {
          "base_uri": "https://localhost:8080/"
        },
        "outputId": "3aa80465-4a93-4e36-c86d-2e9e4413ff2f"
      },
      "outputs": [
        {
          "output_type": "stream",
          "name": "stdout",
          "text": [
            "+-----------------+---------------------+------------+------------------+-----------------------+-------------------+------+-----------------------------+-------------------+-------------------+-----------------------+----------------+-----------+---------+\n",
            "|Full Complaint ID|Complaint Year Number|Month Number|Record Create Date|Complaint Precinct Code|Patrol Borough Name|County|Law Code Category Description|Offense Description|PD Code Description|Bias Motive Description|Offense Category|Arrest Date|Arrest Id|\n",
            "+-----------------+---------------------+------------+------------------+-----------------------+-------------------+------+-----------------------------+-------------------+-------------------+-----------------------+----------------+-----------+---------+\n",
            "|                0|                    0|           0|                 0|                      0|                  0|     0|                            0|                  0|                  0|                      0|               0|        784|      784|\n",
            "+-----------------+---------------------+------------+------------------+-----------------------+-------------------+------+-----------------------------+-------------------+-------------------+-----------------------+----------------+-----------+---------+\n",
            "\n"
          ]
        }
      ],
      "source": [
        "df.select([count(when(isnan(c) | col(c).isNull(), c)).alias(c) for c in df.columns]).show()"
      ]
    },
    {
      "cell_type": "code",
      "execution_count": null,
      "metadata": {
        "id": "MgV4_9FW-a1j",
        "colab": {
          "base_uri": "https://localhost:8080/"
        },
        "outputId": "beac6eb8-67f7-4e7b-d427-30525e9275d0"
      },
      "outputs": [
        {
          "output_type": "stream",
          "name": "stdout",
          "text": [
            "+-----------------+---------------------+------------+------------------+-----------------------+-------------------+------+-----------------------------+-------------------+-------------------+-----------------------+----------------+-----------------+-----------------+\n",
            "|Full Complaint ID|Complaint Year Number|Month Number|Record Create Date|Complaint Precinct Code|Patrol Borough Name|County|Law Code Category Description|Offense Description|PD Code Description|Bias Motive Description|Offense Category|      Arrest Date|        Arrest Id|\n",
            "+-----------------+---------------------+------------+------------------+-----------------------+-------------------+------+-----------------------------+-------------------+-------------------+-----------------------+----------------+-----------------+-----------------+\n",
            "|              0.0|                  0.0|         0.0|               0.0|                    0.0|                0.0|   0.0|                          0.0|                0.0|                0.0|                    0.0|             0.0|0.663844199830652|0.663844199830652|\n",
            "+-----------------+---------------------+------------+------------------+-----------------------+-------------------+------+-----------------------------+-------------------+-------------------+-----------------------+----------------+-----------------+-----------------+\n",
            "\n"
          ]
        }
      ],
      "source": [
        "amount_missing_df = df.select([(count(when(isnan(c) | col(c).isNull(), c))/count(lit(1))).alias(c) for c in df.columns])\n",
        "amount_missing_df.show()"
      ]
    },
    {
      "cell_type": "markdown",
      "metadata": {
        "id": "wK3UbFUwUxbP"
      },
      "source": [
        "COUNTY wise count"
      ]
    },
    {
      "cell_type": "code",
      "execution_count": null,
      "metadata": {
        "id": "GzpVkycNq66f",
        "colab": {
          "base_uri": "https://localhost:8080/"
        },
        "outputId": "c9728995-86cf-4475-e85f-1b8f88f7bdc3"
      },
      "outputs": [
        {
          "output_type": "stream",
          "name": "stdout",
          "text": [
            "+--------+-----+\n",
            "|  County|count|\n",
            "+--------+-----+\n",
            "|   KINGS|  403|\n",
            "|  QUEENS|  215|\n",
            "|   BRONX|   95|\n",
            "|RICHMOND|   47|\n",
            "|NEW YORK|  421|\n",
            "+--------+-----+\n",
            "\n"
          ]
        }
      ],
      "source": [
        "df.groupBy('County').count().show()"
      ]
    },
    {
      "cell_type": "markdown",
      "metadata": {
        "id": "FI1pGd8s16sd"
      },
      "source": [
        "### Number of columns in Clean Data"
      ]
    },
    {
      "cell_type": "code",
      "execution_count": null,
      "metadata": {
        "id": "rcI9kIjcrRSh",
        "colab": {
          "base_uri": "https://localhost:8080/"
        },
        "outputId": "96e40a11-4522-40e4-ec27-25b6bad9dfa5"
      },
      "outputs": [
        {
          "output_type": "execute_result",
          "data": {
            "text/plain": [
              "14"
            ]
          },
          "metadata": {},
          "execution_count": 46
        }
      ],
      "source": [
        "len(df.columns)"
      ]
    },
    {
      "cell_type": "markdown",
      "metadata": {
        "id": "9htIvQ_X10Op"
      },
      "source": [
        "### Number of rows in Clean Data"
      ]
    },
    {
      "cell_type": "code",
      "execution_count": null,
      "metadata": {
        "id": "g-P3OKE21ubz",
        "colab": {
          "base_uri": "https://localhost:8080/"
        },
        "outputId": "1a34d0d9-35df-4e4e-ce70-43e5d24267d3"
      },
      "outputs": [
        {
          "output_type": "execute_result",
          "data": {
            "text/plain": [
              "1181"
            ]
          },
          "metadata": {},
          "execution_count": 47
        }
      ],
      "source": [
        "df.count()"
      ]
    },
    {
      "cell_type": "code",
      "execution_count": null,
      "metadata": {
        "id": "W2RVtvNr38c_",
        "colab": {
          "base_uri": "https://localhost:8080/"
        },
        "outputId": "43d181ae-a9a5-437e-eb74-569b32219682"
      },
      "outputs": [
        {
          "output_type": "stream",
          "name": "stdout",
          "text": [
            "root\n",
            " |-- Full Complaint ID: long (nullable = true)\n",
            " |-- Complaint Year Number: integer (nullable = true)\n",
            " |-- Month Number: integer (nullable = true)\n",
            " |-- Record Create Date: string (nullable = true)\n",
            " |-- Complaint Precinct Code: integer (nullable = true)\n",
            " |-- Patrol Borough Name: string (nullable = true)\n",
            " |-- County: string (nullable = true)\n",
            " |-- Law Code Category Description: string (nullable = true)\n",
            " |-- Offense Description: string (nullable = true)\n",
            " |-- PD Code Description: string (nullable = true)\n",
            " |-- Bias Motive Description: string (nullable = true)\n",
            " |-- Offense Category: string (nullable = true)\n",
            " |-- Arrest Date: string (nullable = true)\n",
            " |-- Arrest Id: string (nullable = true)\n",
            "\n"
          ]
        }
      ],
      "source": [
        "df.printSchema()"
      ]
    },
    {
      "cell_type": "markdown",
      "metadata": {
        "id": "JLIpnxgHVAfM"
      },
      "source": [
        "### **Exporting Clean Data in CSV**\n",
        "\n",
        "The Cleaned Data Set will be saved as `NYPD_Complaint_Data_Historic_Cleaned.csv`"
      ]
    },
    {
      "cell_type": "code",
      "execution_count": null,
      "metadata": {
        "id": "pNEBquVPrUtx"
      },
      "outputs": [],
      "source": [
        "pd_df = df.toPandas()\n",
        "pd_df.to_csv(\"NYPD_Complaint_Data_Historic_Cleaned_Spark.csv\")"
      ]
    }
  ],
  "metadata": {
    "colab": {
      "collapsed_sections": [],
      "name": "NYPD Hate Crimes",
      "provenance": [],
      "include_colab_link": true
    },
    "kernelspec": {
      "display_name": "Python 3",
      "name": "python3"
    },
    "language_info": {
      "name": "python"
    }
  },
  "nbformat": 4,
  "nbformat_minor": 0
}