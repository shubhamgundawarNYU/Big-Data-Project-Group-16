{
  "cells": [
    {
      "cell_type": "markdown",
      "metadata": {
        "id": "view-in-github",
        "colab_type": "text"
      },
      "source": [
        "<a href=\"https://colab.research.google.com/github/shubhamgundawarNYU/Big-Data-Project-Group-16/blob/main/misc-datasets-notebooks/NYPD_Complaint_Data_Current_(Year_To_Date).ipynb\" target=\"_parent\"><img src=\"https://colab.research.google.com/assets/colab-badge.svg\" alt=\"Open In Colab\"/></a>"
      ]
    },
    {
      "cell_type": "markdown",
      "metadata": {
        "id": "7-dJg3ZWVPHJ"
      },
      "source": [
        "##**BIG DATA PROJECT**\n",
        "\n",
        "### NYPD Complaint Data Current (Year To Date)\n",
        "Link to Dataset (https://data.cityofnewyork.us/Public-Safety/NYPD-Complaint-Data-Current-Year-To-Date-/5uac-w243)\n",
        "\n",
        "### DATA CLEANING AT SCALE"
      ]
    },
    {
      "cell_type": "markdown",
      "metadata": {
        "id": "dZWscsxWG6BD"
      },
      "source": [
        "#### Mounting Google Drive to Google Colab Notebook to Load the Data Set\n",
        "\n",
        "Make sure you have the dataset in your Google Drive and you mount your drive to the Colab.\n",
        "\n",
        "The file should be at the following path: `gdrive/My Drive/NYPD_Complaint_Data_Current_Year_To_Date.csv`\n"
      ]
    },
    {
      "cell_type": "code",
      "execution_count": null,
      "metadata": {
        "colab": {
          "base_uri": "https://localhost:8080/"
        },
        "id": "wSt7ZZI_zSt2",
        "outputId": "14643cae-f9c2-4638-c72c-1725932c6b19"
      },
      "outputs": [
        {
          "output_type": "stream",
          "name": "stdout",
          "text": [
            "Mounted at /content/gdrive\n"
          ]
        }
      ],
      "source": [
        "from google.colab import drive \n",
        "drive.mount('/content/gdrive')"
      ]
    },
    {
      "cell_type": "markdown",
      "metadata": {
        "id": "5XTa8wVQHjVm"
      },
      "source": [
        "#### Importing required and Necessary Libraries for cleaning the data present in the data set"
      ]
    },
    {
      "cell_type": "code",
      "execution_count": null,
      "metadata": {
        "id": "IglUIuU9ntFm"
      },
      "outputs": [],
      "source": [
        "import numpy as np\n",
        "import pandas as pd\n",
        "import io"
      ]
    },
    {
      "cell_type": "code",
      "execution_count": null,
      "metadata": {
        "colab": {
          "base_uri": "https://localhost:8080/"
        },
        "id": "a6CbM0l_UnFq",
        "outputId": "137baf15-4f99-4a07-a673-9bb54bf9719f"
      },
      "outputs": [
        {
          "output_type": "stream",
          "name": "stdout",
          "text": [
            "Collecting pyspark\n",
            "  Downloading pyspark-3.2.0.tar.gz (281.3 MB)\n",
            "\u001b[K     |████████████████████████████████| 281.3 MB 38 kB/s \n",
            "\u001b[?25hCollecting py4j==0.10.9.2\n",
            "  Downloading py4j-0.10.9.2-py2.py3-none-any.whl (198 kB)\n",
            "\u001b[K     |████████████████████████████████| 198 kB 50.8 MB/s \n",
            "\u001b[?25hBuilding wheels for collected packages: pyspark\n",
            "  Building wheel for pyspark (setup.py) ... \u001b[?25l\u001b[?25hdone\n",
            "  Created wheel for pyspark: filename=pyspark-3.2.0-py2.py3-none-any.whl size=281805912 sha256=f8c4a49109dd1c28932f75cf435999f4e5a167acde54645954488746ba506b4e\n",
            "  Stored in directory: /root/.cache/pip/wheels/0b/de/d2/9be5d59d7331c6c2a7c1b6d1a4f463ce107332b1ecd4e80718\n",
            "Successfully built pyspark\n",
            "Installing collected packages: py4j, pyspark\n",
            "Successfully installed py4j-0.10.9.2 pyspark-3.2.0\n"
          ]
        }
      ],
      "source": [
        "!pip install pyspark"
      ]
    },
    {
      "cell_type": "markdown",
      "metadata": {
        "id": "J94HTiO28t4l"
      },
      "source": [
        "#### Installing and importing openclean python library for data profiling and statistical inference"
      ]
    },
    {
      "cell_type": "code",
      "execution_count": null,
      "metadata": {
        "colab": {
          "base_uri": "https://localhost:8080/"
        },
        "id": "QdTSm9Vb8XAl",
        "outputId": "a6a8ea49-2517-48e6-e0e6-4c3490882493"
      },
      "outputs": [
        {
          "output_type": "stream",
          "name": "stdout",
          "text": [
            "Collecting openclean\n",
            "  Downloading openclean-0.2.1-py3-none-any.whl (5.2 kB)\n",
            "Collecting humanfriendly\n",
            "  Downloading humanfriendly-10.0-py2.py3-none-any.whl (86 kB)\n",
            "\u001b[K     |████████████████████████████████| 86 kB 3.3 MB/s \n",
            "\u001b[?25hCollecting openclean-core==0.4.1\n",
            "  Downloading openclean_core-0.4.1-py3-none-any.whl (267 kB)\n",
            "\u001b[K     |████████████████████████████████| 267 kB 18.2 MB/s \n",
            "\u001b[?25hRequirement already satisfied: future in /usr/local/lib/python3.7/dist-packages (from openclean-core==0.4.1->openclean) (0.16.0)\n",
            "Requirement already satisfied: python-dateutil in /usr/local/lib/python3.7/dist-packages (from openclean-core==0.4.1->openclean) (2.8.2)\n",
            "Collecting refdata>=0.2.0\n",
            "  Downloading refdata-0.2.0-py3-none-any.whl (37 kB)\n",
            "Requirement already satisfied: appdirs>=1.4.4 in /usr/local/lib/python3.7/dist-packages (from openclean-core==0.4.1->openclean) (1.4.4)\n",
            "Collecting histore>=0.4.0\n",
            "  Downloading histore-0.4.1-py3-none-any.whl (109 kB)\n",
            "\u001b[K     |████████████████████████████████| 109 kB 72.0 MB/s \n",
            "\u001b[?25hCollecting flowserv-core>=0.8.0\n",
            "  Downloading flowserv_core-0.9.2-py3-none-any.whl (260 kB)\n",
            "\u001b[K     |████████████████████████████████| 260 kB 34.5 MB/s \n",
            "\u001b[?25hRequirement already satisfied: pandas>=1.0.0 in /usr/local/lib/python3.7/dist-packages (from openclean-core==0.4.1->openclean) (1.1.5)\n",
            "Requirement already satisfied: scikit-learn in /usr/local/lib/python3.7/dist-packages (from openclean-core==0.4.1->openclean) (1.0.1)\n",
            "Collecting jsonschema>=3.2.0\n",
            "  Downloading jsonschema-4.2.1-py3-none-any.whl (69 kB)\n",
            "\u001b[K     |████████████████████████████████| 69 kB 8.2 MB/s \n",
            "\u001b[?25hRequirement already satisfied: dill in /usr/local/lib/python3.7/dist-packages (from openclean-core==0.4.1->openclean) (0.3.4)\n",
            "Requirement already satisfied: requests in /usr/local/lib/python3.7/dist-packages (from openclean-core==0.4.1->openclean) (2.23.0)\n",
            "Collecting jellyfish\n",
            "  Downloading jellyfish-0.8.9.tar.gz (137 kB)\n",
            "\u001b[K     |████████████████████████████████| 137 kB 43.7 MB/s \n",
            "\u001b[?25hRequirement already satisfied: scipy in /usr/local/lib/python3.7/dist-packages (from openclean-core==0.4.1->openclean) (1.4.1)\n",
            "Collecting paramiko\n",
            "  Downloading paramiko-2.8.1-py2.py3-none-any.whl (206 kB)\n",
            "\u001b[K     |████████████████████████████████| 206 kB 59.2 MB/s \n",
            "\u001b[?25hCollecting pyyaml>=5.1\n",
            "  Downloading PyYAML-6.0-cp37-cp37m-manylinux_2_5_x86_64.manylinux1_x86_64.manylinux_2_12_x86_64.manylinux2010_x86_64.whl (596 kB)\n",
            "\u001b[K     |████████████████████████████████| 596 kB 46.4 MB/s \n",
            "\u001b[?25hRequirement already satisfied: Click in /usr/local/lib/python3.7/dist-packages (from flowserv-core>=0.8.0->openclean-core==0.4.1->openclean) (7.1.2)\n",
            "Collecting gitpython\n",
            "  Downloading GitPython-3.1.24-py3-none-any.whl (180 kB)\n",
            "\u001b[K     |████████████████████████████████| 180 kB 60.7 MB/s \n",
            "\u001b[?25hCollecting passlib\n",
            "  Downloading passlib-1.7.4-py2.py3-none-any.whl (525 kB)\n",
            "\u001b[K     |████████████████████████████████| 525 kB 37.7 MB/s \n",
            "\u001b[?25hRequirement already satisfied: SQLAlchemy>=1.3.18 in /usr/local/lib/python3.7/dist-packages (from flowserv-core>=0.8.0->openclean-core==0.4.1->openclean) (1.4.27)\n",
            "Collecting pyyaml-include\n",
            "  Downloading pyyaml_include-1.2.post2-py3-none-any.whl (20 kB)\n",
            "Requirement already satisfied: psutil in /usr/local/lib/python3.7/dist-packages (from histore>=0.4.0->openclean-core==0.4.1->openclean) (5.4.8)\n",
            "Requirement already satisfied: importlib-metadata in /usr/local/lib/python3.7/dist-packages (from jsonschema>=3.2.0->openclean-core==0.4.1->openclean) (4.8.2)\n",
            "Requirement already satisfied: attrs>=17.4.0 in /usr/local/lib/python3.7/dist-packages (from jsonschema>=3.2.0->openclean-core==0.4.1->openclean) (21.2.0)\n",
            "Requirement already satisfied: importlib-resources>=1.4.0 in /usr/local/lib/python3.7/dist-packages (from jsonschema>=3.2.0->openclean-core==0.4.1->openclean) (5.4.0)\n",
            "Requirement already satisfied: pyrsistent!=0.17.0,!=0.17.1,!=0.17.2,>=0.14.0 in /usr/local/lib/python3.7/dist-packages (from jsonschema>=3.2.0->openclean-core==0.4.1->openclean) (0.18.0)\n",
            "Requirement already satisfied: zipp>=3.1.0 in /usr/local/lib/python3.7/dist-packages (from importlib-resources>=1.4.0->jsonschema>=3.2.0->openclean-core==0.4.1->openclean) (3.6.0)\n",
            "Requirement already satisfied: pytz>=2017.2 in /usr/local/lib/python3.7/dist-packages (from pandas>=1.0.0->openclean-core==0.4.1->openclean) (2018.9)\n",
            "Requirement already satisfied: numpy>=1.15.4 in /usr/local/lib/python3.7/dist-packages (from pandas>=1.0.0->openclean-core==0.4.1->openclean) (1.19.5)\n",
            "Requirement already satisfied: six>=1.5 in /usr/local/lib/python3.7/dist-packages (from python-dateutil->openclean-core==0.4.1->openclean) (1.15.0)\n",
            "Collecting tableprint\n",
            "  Downloading tableprint-0.9.1-py3-none-any.whl (6.8 kB)\n",
            "Collecting datasize>=1.0.0\n",
            "  Downloading datasize-1.0.0.tar.gz (149 kB)\n",
            "\u001b[K     |████████████████████████████████| 149 kB 77.8 MB/s \n",
            "\u001b[?25hRequirement already satisfied: pooch>=1.3.0 in /usr/local/lib/python3.7/dist-packages (from refdata>=0.2.0->openclean-core==0.4.1->openclean) (1.5.2)\n",
            "Requirement already satisfied: packaging in /usr/local/lib/python3.7/dist-packages (from pooch>=1.3.0->refdata>=0.2.0->openclean-core==0.4.1->openclean) (21.3)\n",
            "Requirement already satisfied: greenlet!=0.4.17 in /usr/local/lib/python3.7/dist-packages (from SQLAlchemy>=1.3.18->flowserv-core>=0.8.0->openclean-core==0.4.1->openclean) (1.1.2)\n",
            "Requirement already satisfied: typing-extensions>=3.7.4.3 in /usr/local/lib/python3.7/dist-packages (from gitpython->flowserv-core>=0.8.0->openclean-core==0.4.1->openclean) (3.10.0.2)\n",
            "Collecting gitdb<5,>=4.0.1\n",
            "  Downloading gitdb-4.0.9-py3-none-any.whl (63 kB)\n",
            "\u001b[K     |████████████████████████████████| 63 kB 1.7 MB/s \n",
            "\u001b[?25hCollecting smmap<6,>=3.0.1\n",
            "  Downloading smmap-5.0.0-py3-none-any.whl (24 kB)\n",
            "Requirement already satisfied: pyparsing!=3.0.5,>=2.0.2 in /usr/local/lib/python3.7/dist-packages (from packaging->pooch>=1.3.0->refdata>=0.2.0->openclean-core==0.4.1->openclean) (3.0.6)\n",
            "Collecting cryptography>=2.5\n",
            "  Downloading cryptography-36.0.0-cp36-abi3-manylinux_2_24_x86_64.whl (3.6 MB)\n",
            "\u001b[K     |████████████████████████████████| 3.6 MB 43.8 MB/s \n",
            "\u001b[?25hCollecting pynacl>=1.0.1\n",
            "  Downloading PyNaCl-1.4.0-cp35-abi3-manylinux1_x86_64.whl (961 kB)\n",
            "\u001b[K     |████████████████████████████████| 961 kB 49.1 MB/s \n",
            "\u001b[?25hCollecting bcrypt>=3.1.3\n",
            "  Downloading bcrypt-3.2.0-cp36-abi3-manylinux2010_x86_64.whl (63 kB)\n",
            "\u001b[K     |████████████████████████████████| 63 kB 2.8 MB/s \n",
            "\u001b[?25hRequirement already satisfied: cffi>=1.1 in /usr/local/lib/python3.7/dist-packages (from bcrypt>=3.1.3->paramiko->flowserv-core>=0.8.0->openclean-core==0.4.1->openclean) (1.15.0)\n",
            "Requirement already satisfied: pycparser in /usr/local/lib/python3.7/dist-packages (from cffi>=1.1->bcrypt>=3.1.3->paramiko->flowserv-core>=0.8.0->openclean-core==0.4.1->openclean) (2.21)\n",
            "Collecting pyyaml>=5.1\n",
            "  Downloading PyYAML-5.4.1-cp37-cp37m-manylinux1_x86_64.whl (636 kB)\n",
            "\u001b[K     |████████████████████████████████| 636 kB 63.5 MB/s \n",
            "\u001b[?25hRequirement already satisfied: idna<3,>=2.5 in /usr/local/lib/python3.7/dist-packages (from requests->openclean-core==0.4.1->openclean) (2.10)\n",
            "Requirement already satisfied: chardet<4,>=3.0.2 in /usr/local/lib/python3.7/dist-packages (from requests->openclean-core==0.4.1->openclean) (3.0.4)\n",
            "Requirement already satisfied: urllib3!=1.25.0,!=1.25.1,<1.26,>=1.21.1 in /usr/local/lib/python3.7/dist-packages (from requests->openclean-core==0.4.1->openclean) (1.24.3)\n",
            "Requirement already satisfied: certifi>=2017.4.17 in /usr/local/lib/python3.7/dist-packages (from requests->openclean-core==0.4.1->openclean) (2021.10.8)\n",
            "Requirement already satisfied: joblib>=0.11 in /usr/local/lib/python3.7/dist-packages (from scikit-learn->openclean-core==0.4.1->openclean) (1.1.0)\n",
            "Requirement already satisfied: threadpoolctl>=2.0.0 in /usr/local/lib/python3.7/dist-packages (from scikit-learn->openclean-core==0.4.1->openclean) (3.0.0)\n",
            "Requirement already satisfied: wcwidth in /usr/local/lib/python3.7/dist-packages (from tableprint->refdata>=0.2.0->openclean-core==0.4.1->openclean) (0.2.5)\n",
            "Building wheels for collected packages: datasize, jellyfish\n",
            "  Building wheel for datasize (setup.py) ... \u001b[?25l\u001b[?25hdone\n",
            "  Created wheel for datasize: filename=datasize-1.0.0-py2.py3-none-any.whl size=155047 sha256=7c2fa972f624c9b83816924afb1a9377711c622b5618ea85608e1438b40e38e6\n",
            "  Stored in directory: /root/.cache/pip/wheels/f7/b5/32/d8836896da6aca7f9c5748670ea6110d1385c262bf3abcca30\n",
            "  Building wheel for jellyfish (setup.py) ... \u001b[?25l\u001b[?25hdone\n",
            "  Created wheel for jellyfish: filename=jellyfish-0.8.9-cp37-cp37m-linux_x86_64.whl size=73210 sha256=469fb45e8296ddfb84f8674dbbf266c8ffcdd52273250e80453d538b656676d5\n",
            "  Stored in directory: /root/.cache/pip/wheels/32/a9/ef/5d8742e72deaf0d1de327a180d008c2c0299367581800ea73f\n",
            "Successfully built datasize jellyfish\n",
            "Installing collected packages: smmap, pyyaml, pynacl, gitdb, cryptography, bcrypt, tableprint, pyyaml-include, passlib, paramiko, jsonschema, gitpython, datasize, refdata, jellyfish, histore, flowserv-core, openclean-core, openclean, humanfriendly\n",
            "  Attempting uninstall: pyyaml\n",
            "    Found existing installation: PyYAML 3.13\n",
            "    Uninstalling PyYAML-3.13:\n",
            "      Successfully uninstalled PyYAML-3.13\n",
            "  Attempting uninstall: jsonschema\n",
            "    Found existing installation: jsonschema 2.6.0\n",
            "    Uninstalling jsonschema-2.6.0:\n",
            "      Successfully uninstalled jsonschema-2.6.0\n",
            "\u001b[31mERROR: pip's dependency resolver does not currently take into account all the packages that are installed. This behaviour is the source of the following dependency conflicts.\n",
            "nbclient 0.5.9 requires jupyter-client>=6.1.5, but you have jupyter-client 5.3.5 which is incompatible.\u001b[0m\n",
            "Successfully installed bcrypt-3.2.0 cryptography-36.0.0 datasize-1.0.0 flowserv-core-0.9.2 gitdb-4.0.9 gitpython-3.1.24 histore-0.4.1 humanfriendly-10.0 jellyfish-0.8.9 jsonschema-4.2.1 openclean-0.2.1 openclean-core-0.4.1 paramiko-2.8.1 passlib-1.7.4 pynacl-1.4.0 pyyaml-5.4.1 pyyaml-include-1.2.post2 refdata-0.2.0 smmap-5.0.0 tableprint-0.9.1\n"
          ]
        }
      ],
      "source": [
        "pip install openclean humanfriendly"
      ]
    },
    {
      "cell_type": "markdown",
      "metadata": {
        "id": "sq8U3BtmhtRx"
      },
      "source": [
        "\n",
        "# **Running Pyspark in Colab**\n",
        "\n",
        "To run spark in Colab, we need to first install all the dependencies in Colab environment i.e. Apache Spark 2.3.2 with hadoop 2.7, Java 8 and Findspark to locate the spark in the system. The tools installation can be carried out inside the Jupyter Notebook of the Colab. One important note is that if you are new in Spark, it is better to avoid Spark 2.4.0 version since some people have already complained about its compatibility issue with python. \n",
        "Follow the steps to install the dependencies:"
      ]
    },
    {
      "cell_type": "code",
      "execution_count": null,
      "metadata": {
        "id": "lh5NCoc8fsSO"
      },
      "outputs": [],
      "source": [
        "!apt-get install openjdk-8-jdk-headless -qq > /dev/null\n",
        "!wget -q https://dlcdn.apache.org/spark/spark-3.2.0/spark-3.2.0-bin-hadoop3.2.tgz\n",
        "!tar xf spark-3.2.0-bin-hadoop3.2.tgz\n",
        "!pip install -q findspark"
      ]
    },
    {
      "cell_type": "markdown",
      "metadata": {
        "id": "ILheUROOhprv"
      },
      "source": [
        "Now that you installed Spark and Java in Colab, it is time to set the environment path which enables you to run Pyspark in your Colab environment. Set the location of Java and Spark by running the following code:"
      ]
    },
    {
      "cell_type": "code",
      "execution_count": null,
      "metadata": {
        "id": "v1b8k_OVf2QF"
      },
      "outputs": [],
      "source": [
        "import os\n",
        "os.environ[\"JAVA_HOME\"] = \"/usr/lib/jvm/java-8-openjdk-amd64\"\n",
        "os.environ[\"SPARK_HOME\"] = \"/content/spark-3.2.0-bin-hadoop3.2\""
      ]
    },
    {
      "cell_type": "markdown",
      "metadata": {
        "id": "KwrqMk3HiMiE"
      },
      "source": [
        "Run a local spark session to test your installation:"
      ]
    },
    {
      "cell_type": "code",
      "execution_count": null,
      "metadata": {
        "id": "9_Uz1NL4gHFx"
      },
      "outputs": [],
      "source": [
        "import findspark\n",
        "findspark.init()\n",
        "from pyspark.sql import SparkSession\n",
        "from pyspark.sql.functions import *\n",
        "from pyspark.sql.types import *\n",
        "spark = SparkSession.builder.getOrCreate()"
      ]
    },
    {
      "cell_type": "markdown",
      "metadata": {
        "id": "Z1n1HPiEIOXF"
      },
      "source": [
        "#### Reading the Data Set CSV File using `spark.read.csv()` Function"
      ]
    },
    {
      "cell_type": "code",
      "execution_count": null,
      "metadata": {
        "id": "NNL-wR74W52g"
      },
      "outputs": [],
      "source": [
        "df = spark.read.csv(\"/content/gdrive/MyDrive/NYPD_Complaint_Data_Current_Year_To_Date.csv\", inferSchema=True, header =True)"
      ]
    },
    {
      "cell_type": "markdown",
      "metadata": {
        "id": "rUHvjAzy-fSF"
      },
      "source": [
        "### In order to find similar datasets to 'NYPD Complaint Data Historic', we use openclean python library's easy integration with Socrata NYC Open Data engine and find out all the datasets that have similar column structure as our original dataset."
      ]
    },
    {
      "cell_type": "code",
      "execution_count": null,
      "metadata": {
        "colab": {
          "base_uri": "https://localhost:8080/"
        },
        "id": "fgmnBEKd-ekS",
        "outputId": "0cd07f74-3e56-4c24-af2d-643e07ba3532"
      },
      "outputs": [
        {
          "output_type": "stream",
          "name": "stdout",
          "text": [
            "qgea-i56i\tdata.cityofnewyork.us\tNYPD Complaint Data Historic\n",
            "uip8-fykc\tdata.cityofnewyork.us\tNYPD Arrest Data (Year to Date)\n",
            "eabe-havv\tdata.cityofnewyork.us\tDOB Complaints Received\n",
            "5uac-w243\tdata.cityofnewyork.us\tNYPD Complaint Data Current (Year To Date)\n",
            "8h9b-rp9u\tdata.cityofnewyork.us\tNYPD Arrests Data (Historic)\n",
            "833y-fsy8\tdata.cityofnewyork.us\tNYPD Shooting Incident Data (Historic)\n",
            "5ucz-vwe8\tdata.cityofnewyork.us\tNYPD Shooting Incident Data (Year To Date)\n",
            "uwyv-629c\tdata.cityofnewyork.us\tHousing Maintenance Code Complaints\n",
            "a2nx-4u46\tdata.cityofnewyork.us\tComplaint Problems\n",
            "bqiq-cu78\tdata.cityofnewyork.us\tNYPD Hate Crimes\n",
            "sv2w-rv3k\tdata.cityofnewyork.us\tNYPD Criminal Court Summons (Historic)\n",
            "nre2-6m2s\tdata.cityofnewyork.us\tConsumer Services Mediated Complaints\n",
            "mv4k-y93f\tdata.cityofnewyork.us\tNYPD Criminal Court Summons Incident Level Data (Year To Date)\n",
            "6v9u-ndjg\tdata.cityofnewyork.us\tBuilding Complaint Disposition Codes\n",
            "9jgj-bmct\tdata.cityofnewyork.us\tDOHMH Indoor Environmental Complaints\n",
            "n2zq-pubd\tdata.cityofnewyork.us\tNYPD Calls for Service (Year to Date)\n",
            "kwvk-z7i9\tdata.cityofnewyork.us\t2017 - 2018 Schools NYPD Crime Data Report\n",
            "63nx-cpi9\tdata.cityofnewyork.us\tCivilian Complaint Review Board (CCRB) - Complaints Received\n",
            "ck4n-5h6x\tdata.cityofnewyork.us\tLandmarks Complaints\n",
            "f4tj-796d\tdata.cityofnewyork.us\tNYPD Use of Force Incidents\n",
            "fx4z-5xg2\tdata.cityofnewyork.us\tCivilian Complaint Review Board (CCRB) - Complaints Closed\n",
            "pq5i-thsu\tdata.cityofnewyork.us\tDerelict Vehicles Dispositions - Complaints\n",
            "xyq2-jjkn\tdata.cityofnewyork.us\tCivilian Complaint Review Board (CCRB) - Allegations Closed\n",
            "5vr7-5fki\tdata.cityofnewyork.us\tNYPD Personnel Demographics\n",
            "d6zx-ckhd\tdata.cityofnewyork.us\tNYPD Calls for Service (Historic)\n",
            "cwy2-px8b\tdata.cityofnewyork.us\tLocal Law 8 of 2020 – Complaints of Illegal Parking of Vehicles Operated on Behalf of the City\n",
            "p2d7-vcsb\tdata.cityofnewyork.us\tBIC Complaints Inquiries\n",
            "57p3-pdcj\tdata.cityofnewyork.us\tNYPD B Summons (Year to Date)\n",
            "9y7k-h295\tdata.cityofnewyork.us\tLocal Law 8 of 2020 Report – Monthly Complaints of Illegal Parking of Vehicles Operated on Behalf of the City\n",
            "arhf-esqb\tdata.cityofnewyork.us\tDOP Adult Probationers Rearrested As A Percentage Of NYPD Arrest Report (Monthly Average)\n",
            "7m8q-jgtg\tdata.cityofnewyork.us\tDOP Juvenile Probationers Rearrested As A Percentage Of NYPD Arrest Report (Monthly Average)\n",
            "dfwh-7sqg\tdata.cityofnewyork.us\t2015-2016 Suspension Report NYPD Contacts - SWD\n",
            "bme5-7ty4\tdata.cityofnewyork.us\tNYPD B Summons (Historic)\n",
            "tre2-h8i2\tdata.cityofnewyork.us\t2015-2016 Suspension Report NYPD Contacts - Race\n",
            "8ufi-zgz6\tdata.cityofnewyork.us\t2015-2016 Suspension Report NYPD Contacts - STH\n",
            "fsmu-8tsy\tdata.cityofnewyork.us\t2015-2016 Suspension Report NYPD Contacts - Grade Level\n",
            "hafw-ruje\tdata.cityofnewyork.us\t2015-2016 Suspension Report NYPD Contacts - Date Of Birth\n",
            "fjb8-yxzv\tdata.cityofnewyork.us\t2015-2016 Suspension Report NYPD Contacts - Gender\n",
            "vacq-ce69\tdata.cityofnewyork.us\t2015-2016 Suspension Report NYPD Contacts - ELL\n",
            "dufe-vxb7\tdata.cityofnewyork.us\tNYPD Use of Force: Subjects\n",
            "v5jd-6wqn\tdata.cityofnewyork.us\tNYPD Use of Force: Members of Service\n",
            "2qb3-8eu4\tdata.cityofnewyork.us\t2017-2018 Suspension Report NYPD Contacts - RACE\n",
            "6ayi-8khd\tdata.cityofnewyork.us\tPre-Complaint Resolutions\n",
            "byvd-5eau\tdata.cityofnewyork.us\t2017-2018 Suspension Report NYPD Contacts - GENDER\n",
            "c5d8-ajrd\tdata.cityofnewyork.us\t2017-2018 Suspension Report NYPD Contacts - DOB\n",
            "wq7m-7i29\tdata.cityofnewyork.us\t2017-2018 Suspension Report NYPD Contacts - GRADE\n",
            "dsif-42wj\tdata.cityofnewyork.us\t2017-2018 Suspension Report NYPD Contacts - ELL\n",
            "eevf-vb98\tdata.cityofnewyork.us\t2017-2018 Suspension Report NYPD Contacts - STH\n",
            "gmhi-8qzt\tdata.cityofnewyork.us\t2017-2018 Suspension Report NYPD Contacts - SWD\n",
            "2eq2-nywg\tdata.cityofnewyork.us\t2020-2021 Suspension Report NYPD Contacts - All\n"
          ]
        }
      ],
      "source": [
        "import openclean\n",
        "from openclean.data.source.socrata import Socrata\n",
        "\n",
        "for dataset in Socrata().catalog(domain='data.cityofnewyork.us'):\n",
        "    if 'complaint' in dataset.name.lower() or 'NYPD' in dataset.name or 'Crime' in dataset.name.lower():\n",
        "        print(f'{dataset.identifier}\\t{dataset.domain}\\t{dataset.name}')"
      ]
    },
    {
      "cell_type": "markdown",
      "metadata": {
        "id": "0-Gke24P_jyo"
      },
      "source": [
        "#### From the above list we select 10 datasets that have maximum overlapping columns with 'NYPD Complaint Data Historic'"
      ]
    },
    {
      "cell_type": "code",
      "execution_count": null,
      "metadata": {
        "colab": {
          "base_uri": "https://localhost:8080/"
        },
        "id": "IMecwoTS6upe",
        "outputId": "f015eb74-012c-4c73-e26d-c8196945a3cf"
      },
      "outputs": [
        {
          "output_type": "execute_result",
          "data": {
            "text/plain": [
              "323817"
            ]
          },
          "metadata": {},
          "execution_count": 83
        }
      ],
      "source": [
        "df.count()"
      ]
    },
    {
      "cell_type": "markdown",
      "metadata": {
        "id": "ZLKtS1rNIjRD"
      },
      "source": [
        "#### Get Data Type for each column present in the Data Set\n",
        "\n",
        "\n"
      ]
    },
    {
      "cell_type": "code",
      "execution_count": null,
      "metadata": {
        "colab": {
          "base_uri": "https://localhost:8080/"
        },
        "id": "tYDkaV6r75y6",
        "outputId": "12d5942f-e51f-498c-a8d5-51e45f2e03f6"
      },
      "outputs": [
        {
          "output_type": "stream",
          "name": "stdout",
          "text": [
            "root\n",
            " |-- CMPLNT_NUM: integer (nullable = true)\n",
            " |-- ADDR_PCT_CD: integer (nullable = true)\n",
            " |-- BORO_NM: string (nullable = true)\n",
            " |-- CMPLNT_FR_DT: string (nullable = true)\n",
            " |-- CMPLNT_FR_TM: string (nullable = true)\n",
            " |-- CMPLNT_TO_DT: string (nullable = true)\n",
            " |-- CMPLNT_TO_TM: string (nullable = true)\n",
            " |-- CRM_ATPT_CPTD_CD: string (nullable = true)\n",
            " |-- HADEVELOPT: string (nullable = true)\n",
            " |-- HOUSING_PSA: integer (nullable = true)\n",
            " |-- JURISDICTION_CODE: integer (nullable = true)\n",
            " |-- JURIS_DESC: string (nullable = true)\n",
            " |-- KY_CD: integer (nullable = true)\n",
            " |-- LAW_CAT_CD: string (nullable = true)\n",
            " |-- LOC_OF_OCCUR_DESC: string (nullable = true)\n",
            " |-- OFNS_DESC: string (nullable = true)\n",
            " |-- PARKS_NM: string (nullable = true)\n",
            " |-- PATROL_BORO: string (nullable = true)\n",
            " |-- PD_CD: integer (nullable = true)\n",
            " |-- PD_DESC: string (nullable = true)\n",
            " |-- PREM_TYP_DESC: string (nullable = true)\n",
            " |-- RPT_DT: string (nullable = true)\n",
            " |-- STATION_NAME: string (nullable = true)\n",
            " |-- SUSP_AGE_GROUP: string (nullable = true)\n",
            " |-- SUSP_RACE: string (nullable = true)\n",
            " |-- SUSP_SEX: string (nullable = true)\n",
            " |-- TRANSIT_DISTRICT: integer (nullable = true)\n",
            " |-- VIC_AGE_GROUP: string (nullable = true)\n",
            " |-- VIC_RACE: string (nullable = true)\n",
            " |-- VIC_SEX: string (nullable = true)\n",
            " |-- X_COORD_CD: integer (nullable = true)\n",
            " |-- Y_COORD_CD: integer (nullable = true)\n",
            " |-- Latitude: double (nullable = true)\n",
            " |-- Longitude: double (nullable = true)\n",
            " |-- Lat_Lon: string (nullable = true)\n",
            " |-- New Georeferenced Column: string (nullable = true)\n",
            "\n"
          ]
        }
      ],
      "source": [
        "df.printSchema()"
      ]
    },
    {
      "cell_type": "markdown",
      "metadata": {
        "id": "hNCSlJEuJIBS"
      },
      "source": [
        "#### Outputing the List of Columns in the Data Set"
      ]
    },
    {
      "cell_type": "code",
      "execution_count": null,
      "metadata": {
        "colab": {
          "base_uri": "https://localhost:8080/"
        },
        "id": "hApjoVvG9v9Y",
        "outputId": "336b8d93-c75c-4fd9-f7a0-680c34fc7c90"
      },
      "outputs": [
        {
          "output_type": "execute_result",
          "data": {
            "text/plain": [
              "['CMPLNT_NUM',\n",
              " 'ADDR_PCT_CD',\n",
              " 'BORO_NM',\n",
              " 'CMPLNT_FR_DT',\n",
              " 'CMPLNT_FR_TM',\n",
              " 'CMPLNT_TO_DT',\n",
              " 'CMPLNT_TO_TM',\n",
              " 'CRM_ATPT_CPTD_CD',\n",
              " 'HADEVELOPT',\n",
              " 'HOUSING_PSA',\n",
              " 'JURISDICTION_CODE',\n",
              " 'JURIS_DESC',\n",
              " 'KY_CD',\n",
              " 'LAW_CAT_CD',\n",
              " 'LOC_OF_OCCUR_DESC',\n",
              " 'OFNS_DESC',\n",
              " 'PARKS_NM',\n",
              " 'PATROL_BORO',\n",
              " 'PD_CD',\n",
              " 'PD_DESC',\n",
              " 'PREM_TYP_DESC',\n",
              " 'RPT_DT',\n",
              " 'STATION_NAME',\n",
              " 'SUSP_AGE_GROUP',\n",
              " 'SUSP_RACE',\n",
              " 'SUSP_SEX',\n",
              " 'TRANSIT_DISTRICT',\n",
              " 'VIC_AGE_GROUP',\n",
              " 'VIC_RACE',\n",
              " 'VIC_SEX',\n",
              " 'X_COORD_CD',\n",
              " 'Y_COORD_CD',\n",
              " 'Latitude',\n",
              " 'Longitude',\n",
              " 'Lat_Lon',\n",
              " 'New Georeferenced Column']"
            ]
          },
          "metadata": {},
          "execution_count": 85
        }
      ],
      "source": [
        "df.columns"
      ]
    },
    {
      "cell_type": "markdown",
      "metadata": {
        "id": "LDnW9Gi7Idy4"
      },
      "source": [
        "#### Get top 10 rows of the complaints dataframe"
      ]
    },
    {
      "cell_type": "code",
      "execution_count": null,
      "metadata": {
        "colab": {
          "base_uri": "https://localhost:8080/"
        },
        "id": "AOUrvQEG-UcM",
        "outputId": "0262870e-a53b-48b8-fcb4-223d536a2e1a"
      },
      "outputs": [
        {
          "output_type": "stream",
          "name": "stdout",
          "text": [
            "+----------+-----------+-------+------------+------------+------------+------------+----------------+----------+-----------+-----------------+-------------------+-----+----------+-----------------+--------------------+--------+-----------+-----+-------+-------------+----------+------------+--------------+--------------+--------+----------------+-------------+--------------+-------+----------+----------+------------------+------------------+--------------------+------------------------+\n",
            "|CMPLNT_NUM|ADDR_PCT_CD|BORO_NM|CMPLNT_FR_DT|CMPLNT_FR_TM|CMPLNT_TO_DT|CMPLNT_TO_TM|CRM_ATPT_CPTD_CD|HADEVELOPT|HOUSING_PSA|JURISDICTION_CODE|         JURIS_DESC|KY_CD|LAW_CAT_CD|LOC_OF_OCCUR_DESC|           OFNS_DESC|PARKS_NM|PATROL_BORO|PD_CD|PD_DESC|PREM_TYP_DESC|    RPT_DT|STATION_NAME|SUSP_AGE_GROUP|     SUSP_RACE|SUSP_SEX|TRANSIT_DISTRICT|VIC_AGE_GROUP|      VIC_RACE|VIC_SEX|X_COORD_CD|Y_COORD_CD|          Latitude|         Longitude|             Lat_Lon|New Georeferenced Column|\n",
            "+----------+-----------+-------+------------+------------+------------+------------+----------------+----------+-----------+-----------------+-------------------+-----+----------+-----------------+--------------------+--------+-----------+-----+-------+-------------+----------+------------+--------------+--------------+--------+----------------+-------------+--------------+-------+----------+----------+------------------+------------------+--------------------+------------------------+\n",
            "| 854455675|         48|   null|  09/29/2021|    12:50:00|        null|        null|       COMPLETED|      null|       null|             null|   N.Y. POLICE DEPT|  101|    FELONY|          OUTSIDE|MURDER & NON-NEGL...|    null|       null| null|   null|         null|09/29/2021|        null|          null|          null|    null|            null|          <18|BLACK HISPANIC|      M|   1016838|    250252| 40.85350696200004|-73.88220309599996|(40.8535069620000...|    POINT (-73.882203...|\n",
            "| 474078722|         79|   null|  09/16/2021|    05:15:00|        null|        null|       COMPLETED|      null|       null|             null|   N.Y. POLICE DEPT|  101|    FELONY|          OUTSIDE|MURDER & NON-NEGL...|    null|       null| null|   null|         null|09/16/2021|        null|         25-44|         BLACK|       M|            null|        25-44|         BLACK|      M|   1001523|    192971|40.696328949000076|-73.93771061299998|(40.6963289490000...|    POINT (-73.937710...|\n",
            "| 843162354|         25|   null|  09/15/2021|    01:13:00|        null|        null|       COMPLETED|      null|       null|             null|   N.Y. POLICE DEPT|  101|    FELONY|          OUTSIDE|MURDER & NON-NEGL...|    null|       null| null|   null|         null|09/15/2021|        null|          null|          null|    null|            null|        25-44|         BLACK|      M|   1001508|    232696| 40.80536404400005|-73.93766276299993|(40.8053640440000...|    POINT (-73.937662...|\n",
            "| 275119984|         47|   null|  09/07/2021|    19:35:00|        null|        null|       COMPLETED|      null|       null|             null|   N.Y. POLICE DEPT|  101|    FELONY|           INSIDE|MURDER & NON-NEGL...|    null|       null| null|   null|         null|09/07/2021|        null|         25-44|         BLACK|       M|            null|        25-44|         BLACK|      M|   1023942|    264415| 40.89235092600006|-73.85643985999997|(40.8923509260000...|    POINT (-73.856439...|\n",
            "| 446379952|         47|   null|  09/03/2021|    20:35:00|        null|        null|       COMPLETED|      null|       null|             null|   N.Y. POLICE DEPT|  101|    FELONY|          OUTSIDE|MURDER & NON-NEGL...|    null|       null| null|   null|         null|09/03/2021|        null|          null|          null|    null|            null|        25-44|         BLACK|      M|   1027062|    262581| 40.88730259600004|      -73.84516691|(40.8873025960000...|    POINT (-73.845166...|\n",
            "| 239451099|         69|   null|  09/01/2021|    17:31:00|        null|        null|       COMPLETED|      null|       null|             null|   N.Y. POLICE DEPT|  101|    FELONY|          OUTSIDE|MURDER & NON-NEGL...|    null|       null| null|   null|         null|09/01/2021|        null|          null|          null|    null|            null|        25-44|         BLACK|      M|   1009166|    174606| 40.64590293600002|-73.91021590599996|(40.6459029360000...|    POINT (-73.910215...|\n",
            "| 796172342|         40|   null|  08/27/2021|    09:23:00|        null|        null|       COMPLETED|      null|       null|             null|   N.Y. POLICE DEPT|  101|    FELONY|          OUTSIDE|MURDER & NON-NEGL...|    null|       null| null|   null|         null|08/27/2021|        null|           <18|BLACK HISPANIC|       M|            null|        25-44|BLACK HISPANIC|      M|   1006964|    232980|40.806131205000035|-73.91795385699999|(40.8061312050000...|    POINT (-73.917953...|\n",
            "| 715480292|        113|   null|  08/26/2021|    01:34:00|        null|        null|       COMPLETED|      null|       null|             null|   N.Y. POLICE DEPT|  101|    FELONY|          OUTSIDE|MURDER & NON-NEGL...|    null|       null| null|   null|         null|08/26/2021|        null|          null|          null|    null|            null|        18-24|         BLACK|      M|   1042598|    190986|40.690705110000074|-73.78960127299997|(40.6907051100000...|    POINT (-73.789601...|\n",
            "| 239745961|        108|   null|  08/19/2021|    23:17:00|        null|        null|       COMPLETED|      null|       null|             null|   N.Y. POLICE DEPT|  101|    FELONY|          OUTSIDE|MURDER & NON-NEGL...|    null|       null| null|   null|         null|08/19/2021|        null|          null|          null|    null|            null|        45-64|         BLACK|      M|   1001262|    211748| 40.74786777800006|-73.93860438599995|(40.7478677780000...|    POINT (-73.938604...|\n",
            "| 861465678|         40|   null|  08/10/2021|    08:06:00|        null|        null|       COMPLETED|      null|       null|             null|N.Y. HOUSING POLICE|  101|    FELONY|           INSIDE|MURDER & NON-NEGL...|    null|       null| null|   null|         null|08/10/2021|        null|          null|          null|    null|            null|          <18|         BLACK|      F|   1004647|    233823| 40.80845065900007|-73.92632076799998|(40.8084506590000...|    POINT (-73.926320...|\n",
            "+----------+-----------+-------+------------+------------+------------+------------+----------------+----------+-----------+-----------------+-------------------+-----+----------+-----------------+--------------------+--------+-----------+-----+-------+-------------+----------+------------+--------------+--------------+--------+----------------+-------------+--------------+-------+----------+----------+------------------+------------------+--------------------+------------------------+\n",
            "only showing top 10 rows\n",
            "\n"
          ]
        }
      ],
      "source": [
        "df.show(n=10)"
      ]
    },
    {
      "cell_type": "markdown",
      "metadata": {
        "id": "ygOCZQiaG97V"
      },
      "source": [
        "## We see that the columns `X_COORD_CD`,`Y_COORD_CD`,`Latitude`, `Longitude` and `Lat_Lon` conveys the same data as `New Georeferenced Column`.\n",
        "\n",
        "#### Hence, we drop those columns and keep only `New Georeferenced Column` column in our cleaned dataset."
      ]
    },
    {
      "cell_type": "code",
      "execution_count": null,
      "metadata": {
        "id": "r51qg2Ji_Ajv"
      },
      "outputs": [],
      "source": [
        "df = df.drop('X_COORD_CD','Y_COORD_CD','Latitude','Longitude','Lat_Lon')"
      ]
    },
    {
      "cell_type": "code",
      "execution_count": null,
      "metadata": {
        "colab": {
          "base_uri": "https://localhost:8080/"
        },
        "id": "I52xg3GV_jh0",
        "outputId": "349a0eec-0557-4d90-f772-7a3e06886730"
      },
      "outputs": [
        {
          "output_type": "execute_result",
          "data": {
            "text/plain": [
              "['CMPLNT_NUM',\n",
              " 'ADDR_PCT_CD',\n",
              " 'BORO_NM',\n",
              " 'CMPLNT_FR_DT',\n",
              " 'CMPLNT_FR_TM',\n",
              " 'CMPLNT_TO_DT',\n",
              " 'CMPLNT_TO_TM',\n",
              " 'CRM_ATPT_CPTD_CD',\n",
              " 'HADEVELOPT',\n",
              " 'HOUSING_PSA',\n",
              " 'JURISDICTION_CODE',\n",
              " 'JURIS_DESC',\n",
              " 'KY_CD',\n",
              " 'LAW_CAT_CD',\n",
              " 'LOC_OF_OCCUR_DESC',\n",
              " 'OFNS_DESC',\n",
              " 'PARKS_NM',\n",
              " 'PATROL_BORO',\n",
              " 'PD_CD',\n",
              " 'PD_DESC',\n",
              " 'PREM_TYP_DESC',\n",
              " 'RPT_DT',\n",
              " 'STATION_NAME',\n",
              " 'SUSP_AGE_GROUP',\n",
              " 'SUSP_RACE',\n",
              " 'SUSP_SEX',\n",
              " 'TRANSIT_DISTRICT',\n",
              " 'VIC_AGE_GROUP',\n",
              " 'VIC_RACE',\n",
              " 'VIC_SEX',\n",
              " 'New Georeferenced Column']"
            ]
          },
          "metadata": {},
          "execution_count": 88
        }
      ],
      "source": [
        "df.columns"
      ]
    },
    {
      "cell_type": "markdown",
      "metadata": {
        "id": "xdJS_wPiJaUN"
      },
      "source": [
        "#### Removing all the **duplicate** entries"
      ]
    },
    {
      "cell_type": "code",
      "execution_count": null,
      "metadata": {
        "id": "S2iLHt_GAVJh"
      },
      "outputs": [],
      "source": [
        "df = df.drop_duplicates()"
      ]
    },
    {
      "cell_type": "code",
      "execution_count": null,
      "metadata": {
        "colab": {
          "base_uri": "https://localhost:8080/"
        },
        "id": "o6ec7GPSA5Ol",
        "outputId": "9fc75dc4-c0b0-4210-9194-67a4d8c53e6d"
      },
      "outputs": [
        {
          "output_type": "execute_result",
          "data": {
            "text/plain": [
              "323817"
            ]
          },
          "metadata": {},
          "execution_count": 90
        }
      ],
      "source": [
        "df.count()"
      ]
    },
    {
      "cell_type": "code",
      "execution_count": null,
      "metadata": {
        "colab": {
          "base_uri": "https://localhost:8080/"
        },
        "id": "5BO82obd0N6u",
        "outputId": "2769de13-e1d2-4957-cd27-dd6a30154c46"
      },
      "outputs": [
        {
          "output_type": "execute_result",
          "data": {
            "text/plain": [
              "323817"
            ]
          },
          "metadata": {},
          "execution_count": 91
        }
      ],
      "source": [
        "df.distinct().count()"
      ]
    },
    {
      "cell_type": "code",
      "execution_count": null,
      "metadata": {
        "colab": {
          "base_uri": "https://localhost:8080/"
        },
        "id": "fcpfFUg4F6_Q",
        "outputId": "a79804f4-f4a3-4d19-fe43-b2dd267804e1"
      },
      "outputs": [
        {
          "output_type": "stream",
          "name": "stdout",
          "text": [
            "Downloading ...\n",
            "\n",
            "Using 'NYPD Complaint Data Current (Year To Date)' in file ./5uac-w243.tsv.gz of size 24.41 MB\n"
          ]
        }
      ],
      "source": [
        "# Download the full 'NYPD Complaint Data Current Year To Date' dataset.\n",
        "# Note that the downloaded full dataset file is about 380 MB in size! Use the\n",
        "# alternative data file with 10,000 rows that is included in the repository if\n",
        "# you do not want to download the full data file.\n",
        "\n",
        "import gzip\n",
        "import humanfriendly\n",
        "import os\n",
        "\n",
        "dataset = Socrata().dataset('5uac-w243')\n",
        "\n",
        "# By default, this example uses a small sample of the full dataset that\n",
        "# is included in the 'data' subfolder within this repository.\n",
        "#datafile = './data/5uac-w243.tsv.gz'\n",
        "\n",
        "# Remove the comment for this line if you want to use the full dataset.\n",
        "datafile = './5uac-w243.tsv.gz'\n",
        "\n",
        "\n",
        "# Download file only if it does not exist already.\n",
        "if not os.path.isfile(datafile):\n",
        "    with gzip.open(datafile, 'wb') as f:\n",
        "        print('Downloading ...\\n')\n",
        "        dataset.write(f)\n",
        "\n",
        "\n",
        "fsize = humanfriendly.format_size(os.stat(datafile).st_size)\n",
        "print(\"Using '{}' in file {} of size {}\".format(dataset.name, datafile, fsize))"
      ]
    },
    {
      "cell_type": "code",
      "execution_count": null,
      "metadata": {
        "id": "MPyn2XQRHBxq"
      },
      "outputs": [],
      "source": [
        "# Due to the size of the full dataset file, we make use of openclean's\n",
        "# stream operator to avoid having to load the dataset into main-memory.\n",
        "\n",
        "from openclean.pipeline import stream\n",
        "\n",
        "ds = stream(datafile)"
      ]
    },
    {
      "cell_type": "code",
      "execution_count": null,
      "metadata": {
        "id": "WNA-Uy5LHDqz"
      },
      "outputs": [],
      "source": [
        "# Profile the resulting dataset view using the default data profiler.\n",
        "\n",
        "from openclean.profiling.column import DefaultColumnProfiler\n",
        "\n",
        "profiles = ds.profile(default_profiler=DefaultColumnProfiler)"
      ]
    },
    {
      "cell_type": "code",
      "execution_count": null,
      "metadata": {
        "colab": {
          "base_uri": "https://localhost:8080/",
          "height": 1000
        },
        "id": "csBM29OTHD1q",
        "outputId": "8012186f-ceeb-4d7c-b008-83bc117518b7"
      },
      "outputs": [
        {
          "output_type": "execute_result",
          "data": {
            "text/html": [
              "<div>\n",
              "<style scoped>\n",
              "    .dataframe tbody tr th:only-of-type {\n",
              "        vertical-align: middle;\n",
              "    }\n",
              "\n",
              "    .dataframe tbody tr th {\n",
              "        vertical-align: top;\n",
              "    }\n",
              "\n",
              "    .dataframe thead th {\n",
              "        text-align: right;\n",
              "    }\n",
              "</style>\n",
              "<table border=\"1\" class=\"dataframe\">\n",
              "  <thead>\n",
              "    <tr style=\"text-align: right;\">\n",
              "      <th></th>\n",
              "      <th>total</th>\n",
              "      <th>empty</th>\n",
              "      <th>distinct</th>\n",
              "      <th>uniqueness</th>\n",
              "      <th>entropy</th>\n",
              "    </tr>\n",
              "  </thead>\n",
              "  <tbody>\n",
              "    <tr>\n",
              "      <th>CMPLNT_NUM</th>\n",
              "      <td>323817</td>\n",
              "      <td>0</td>\n",
              "      <td>323817</td>\n",
              "      <td>1.000000</td>\n",
              "      <td>18.304819</td>\n",
              "    </tr>\n",
              "    <tr>\n",
              "      <th>ADDR_PCT_CD</th>\n",
              "      <td>323817</td>\n",
              "      <td>0</td>\n",
              "      <td>77</td>\n",
              "      <td>0.000238</td>\n",
              "      <td>6.156808</td>\n",
              "    </tr>\n",
              "    <tr>\n",
              "      <th>BORO_NM</th>\n",
              "      <td>323817</td>\n",
              "      <td>771</td>\n",
              "      <td>5</td>\n",
              "      <td>0.000015</td>\n",
              "      <td>2.159873</td>\n",
              "    </tr>\n",
              "    <tr>\n",
              "      <th>CMPLNT_FR_DT</th>\n",
              "      <td>323817</td>\n",
              "      <td>0</td>\n",
              "      <td>1686</td>\n",
              "      <td>0.005207</td>\n",
              "      <td>8.282486</td>\n",
              "    </tr>\n",
              "    <tr>\n",
              "      <th>CMPLNT_FR_TM</th>\n",
              "      <td>323817</td>\n",
              "      <td>0</td>\n",
              "      <td>1440</td>\n",
              "      <td>0.004447</td>\n",
              "      <td>8.590110</td>\n",
              "    </tr>\n",
              "    <tr>\n",
              "      <th>CMPLNT_TO_DT</th>\n",
              "      <td>323817</td>\n",
              "      <td>29197</td>\n",
              "      <td>1238</td>\n",
              "      <td>0.004202</td>\n",
              "      <td>8.198287</td>\n",
              "    </tr>\n",
              "    <tr>\n",
              "      <th>CMPLNT_TO_TM</th>\n",
              "      <td>323817</td>\n",
              "      <td>29084</td>\n",
              "      <td>1440</td>\n",
              "      <td>0.004886</td>\n",
              "      <td>9.234543</td>\n",
              "    </tr>\n",
              "    <tr>\n",
              "      <th>CRM_ATPT_CPTD_CD</th>\n",
              "      <td>323817</td>\n",
              "      <td>161</td>\n",
              "      <td>2</td>\n",
              "      <td>0.000006</td>\n",
              "      <td>0.109424</td>\n",
              "    </tr>\n",
              "    <tr>\n",
              "      <th>HADEVELOPT</th>\n",
              "      <td>323817</td>\n",
              "      <td>322640</td>\n",
              "      <td>24</td>\n",
              "      <td>0.020391</td>\n",
              "      <td>4.005595</td>\n",
              "    </tr>\n",
              "    <tr>\n",
              "      <th>HOUSING_PSA</th>\n",
              "      <td>323817</td>\n",
              "      <td>299580</td>\n",
              "      <td>353</td>\n",
              "      <td>0.014565</td>\n",
              "      <td>7.570633</td>\n",
              "    </tr>\n",
              "    <tr>\n",
              "      <th>JURISDICTION_CODE</th>\n",
              "      <td>323817</td>\n",
              "      <td>357</td>\n",
              "      <td>18</td>\n",
              "      <td>0.000056</td>\n",
              "      <td>0.596267</td>\n",
              "    </tr>\n",
              "    <tr>\n",
              "      <th>JURIS_DESC</th>\n",
              "      <td>323817</td>\n",
              "      <td>0</td>\n",
              "      <td>18</td>\n",
              "      <td>0.000056</td>\n",
              "      <td>0.596565</td>\n",
              "    </tr>\n",
              "    <tr>\n",
              "      <th>KY_CD</th>\n",
              "      <td>323817</td>\n",
              "      <td>0</td>\n",
              "      <td>63</td>\n",
              "      <td>0.000195</td>\n",
              "      <td>3.969026</td>\n",
              "    </tr>\n",
              "    <tr>\n",
              "      <th>LAW_CAT_CD</th>\n",
              "      <td>323817</td>\n",
              "      <td>0</td>\n",
              "      <td>3</td>\n",
              "      <td>0.000009</td>\n",
              "      <td>1.457616</td>\n",
              "    </tr>\n",
              "    <tr>\n",
              "      <th>LOC_OF_OCCUR_DESC</th>\n",
              "      <td>323817</td>\n",
              "      <td>54254</td>\n",
              "      <td>5</td>\n",
              "      <td>0.000019</td>\n",
              "      <td>1.202406</td>\n",
              "    </tr>\n",
              "    <tr>\n",
              "      <th>OFNS_DESC</th>\n",
              "      <td>323817</td>\n",
              "      <td>7</td>\n",
              "      <td>61</td>\n",
              "      <td>0.000188</td>\n",
              "      <td>3.834148</td>\n",
              "    </tr>\n",
              "    <tr>\n",
              "      <th>PARKS_NM</th>\n",
              "      <td>323817</td>\n",
              "      <td>321408</td>\n",
              "      <td>475</td>\n",
              "      <td>0.197177</td>\n",
              "      <td>7.085643</td>\n",
              "    </tr>\n",
              "    <tr>\n",
              "      <th>PATROL_BORO</th>\n",
              "      <td>323817</td>\n",
              "      <td>357</td>\n",
              "      <td>8</td>\n",
              "      <td>0.000025</td>\n",
              "      <td>2.905904</td>\n",
              "    </tr>\n",
              "    <tr>\n",
              "      <th>PD_CD</th>\n",
              "      <td>323817</td>\n",
              "      <td>357</td>\n",
              "      <td>336</td>\n",
              "      <td>0.001039</td>\n",
              "      <td>5.778549</td>\n",
              "    </tr>\n",
              "    <tr>\n",
              "      <th>PD_DESC</th>\n",
              "      <td>323817</td>\n",
              "      <td>357</td>\n",
              "      <td>326</td>\n",
              "      <td>0.001008</td>\n",
              "      <td>5.774314</td>\n",
              "    </tr>\n",
              "    <tr>\n",
              "      <th>PREM_TYP_DESC</th>\n",
              "      <td>323817</td>\n",
              "      <td>859</td>\n",
              "      <td>74</td>\n",
              "      <td>0.000229</td>\n",
              "      <td>3.525645</td>\n",
              "    </tr>\n",
              "    <tr>\n",
              "      <th>RPT_DT</th>\n",
              "      <td>323817</td>\n",
              "      <td>0</td>\n",
              "      <td>273</td>\n",
              "      <td>0.000843</td>\n",
              "      <td>8.080863</td>\n",
              "    </tr>\n",
              "    <tr>\n",
              "      <th>STATION_NAME</th>\n",
              "      <td>323817</td>\n",
              "      <td>317492</td>\n",
              "      <td>355</td>\n",
              "      <td>0.056126</td>\n",
              "      <td>7.590564</td>\n",
              "    </tr>\n",
              "    <tr>\n",
              "      <th>SUSP_AGE_GROUP</th>\n",
              "      <td>323817</td>\n",
              "      <td>62752</td>\n",
              "      <td>22</td>\n",
              "      <td>0.000084</td>\n",
              "      <td>1.871729</td>\n",
              "    </tr>\n",
              "    <tr>\n",
              "      <th>SUSP_RACE</th>\n",
              "      <td>323817</td>\n",
              "      <td>62752</td>\n",
              "      <td>7</td>\n",
              "      <td>0.000027</td>\n",
              "      <td>2.197736</td>\n",
              "    </tr>\n",
              "    <tr>\n",
              "      <th>SUSP_SEX</th>\n",
              "      <td>323817</td>\n",
              "      <td>62752</td>\n",
              "      <td>3</td>\n",
              "      <td>0.000011</td>\n",
              "      <td>1.377146</td>\n",
              "    </tr>\n",
              "    <tr>\n",
              "      <th>TRANSIT_DISTRICT</th>\n",
              "      <td>323817</td>\n",
              "      <td>317492</td>\n",
              "      <td>12</td>\n",
              "      <td>0.001897</td>\n",
              "      <td>3.444305</td>\n",
              "    </tr>\n",
              "    <tr>\n",
              "      <th>VIC_AGE_GROUP</th>\n",
              "      <td>323817</td>\n",
              "      <td>0</td>\n",
              "      <td>19</td>\n",
              "      <td>0.000059</td>\n",
              "      <td>2.170601</td>\n",
              "    </tr>\n",
              "    <tr>\n",
              "      <th>VIC_RACE</th>\n",
              "      <td>323817</td>\n",
              "      <td>55</td>\n",
              "      <td>7</td>\n",
              "      <td>0.000022</td>\n",
              "      <td>2.390554</td>\n",
              "    </tr>\n",
              "    <tr>\n",
              "      <th>VIC_SEX</th>\n",
              "      <td>323817</td>\n",
              "      <td>0</td>\n",
              "      <td>5</td>\n",
              "      <td>0.000015</td>\n",
              "      <td>1.791092</td>\n",
              "    </tr>\n",
              "    <tr>\n",
              "      <th>X_COORD_CD</th>\n",
              "      <td>323817</td>\n",
              "      <td>0</td>\n",
              "      <td>45322</td>\n",
              "      <td>0.139962</td>\n",
              "      <td>14.342061</td>\n",
              "    </tr>\n",
              "    <tr>\n",
              "      <th>Y_COORD_CD</th>\n",
              "      <td>323817</td>\n",
              "      <td>0</td>\n",
              "      <td>48360</td>\n",
              "      <td>0.149344</td>\n",
              "      <td>14.472912</td>\n",
              "    </tr>\n",
              "    <tr>\n",
              "      <th>Latitude</th>\n",
              "      <td>323817</td>\n",
              "      <td>0</td>\n",
              "      <td>63889</td>\n",
              "      <td>0.197300</td>\n",
              "      <td>14.809638</td>\n",
              "    </tr>\n",
              "    <tr>\n",
              "      <th>Longitude</th>\n",
              "      <td>323817</td>\n",
              "      <td>0</td>\n",
              "      <td>63900</td>\n",
              "      <td>0.197334</td>\n",
              "      <td>14.809899</td>\n",
              "    </tr>\n",
              "    <tr>\n",
              "      <th>Lat_Lon</th>\n",
              "      <td>323817</td>\n",
              "      <td>0</td>\n",
              "      <td>63909</td>\n",
              "      <td>0.197361</td>\n",
              "      <td>14.809992</td>\n",
              "    </tr>\n",
              "    <tr>\n",
              "      <th>New Georeferenced Column</th>\n",
              "      <td>323817</td>\n",
              "      <td>0</td>\n",
              "      <td>63909</td>\n",
              "      <td>0.197361</td>\n",
              "      <td>14.809992</td>\n",
              "    </tr>\n",
              "  </tbody>\n",
              "</table>\n",
              "</div>"
            ],
            "text/plain": [
              "                           total   empty  distinct  uniqueness    entropy\n",
              "CMPLNT_NUM                323817       0    323817    1.000000  18.304819\n",
              "ADDR_PCT_CD               323817       0        77    0.000238   6.156808\n",
              "BORO_NM                   323817     771         5    0.000015   2.159873\n",
              "CMPLNT_FR_DT              323817       0      1686    0.005207   8.282486\n",
              "CMPLNT_FR_TM              323817       0      1440    0.004447   8.590110\n",
              "CMPLNT_TO_DT              323817   29197      1238    0.004202   8.198287\n",
              "CMPLNT_TO_TM              323817   29084      1440    0.004886   9.234543\n",
              "CRM_ATPT_CPTD_CD          323817     161         2    0.000006   0.109424\n",
              "HADEVELOPT                323817  322640        24    0.020391   4.005595\n",
              "HOUSING_PSA               323817  299580       353    0.014565   7.570633\n",
              "JURISDICTION_CODE         323817     357        18    0.000056   0.596267\n",
              "JURIS_DESC                323817       0        18    0.000056   0.596565\n",
              "KY_CD                     323817       0        63    0.000195   3.969026\n",
              "LAW_CAT_CD                323817       0         3    0.000009   1.457616\n",
              "LOC_OF_OCCUR_DESC         323817   54254         5    0.000019   1.202406\n",
              "OFNS_DESC                 323817       7        61    0.000188   3.834148\n",
              "PARKS_NM                  323817  321408       475    0.197177   7.085643\n",
              "PATROL_BORO               323817     357         8    0.000025   2.905904\n",
              "PD_CD                     323817     357       336    0.001039   5.778549\n",
              "PD_DESC                   323817     357       326    0.001008   5.774314\n",
              "PREM_TYP_DESC             323817     859        74    0.000229   3.525645\n",
              "RPT_DT                    323817       0       273    0.000843   8.080863\n",
              "STATION_NAME              323817  317492       355    0.056126   7.590564\n",
              "SUSP_AGE_GROUP            323817   62752        22    0.000084   1.871729\n",
              "SUSP_RACE                 323817   62752         7    0.000027   2.197736\n",
              "SUSP_SEX                  323817   62752         3    0.000011   1.377146\n",
              "TRANSIT_DISTRICT          323817  317492        12    0.001897   3.444305\n",
              "VIC_AGE_GROUP             323817       0        19    0.000059   2.170601\n",
              "VIC_RACE                  323817      55         7    0.000022   2.390554\n",
              "VIC_SEX                   323817       0         5    0.000015   1.791092\n",
              "X_COORD_CD                323817       0     45322    0.139962  14.342061\n",
              "Y_COORD_CD                323817       0     48360    0.149344  14.472912\n",
              "Latitude                  323817       0     63889    0.197300  14.809638\n",
              "Longitude                 323817       0     63900    0.197334  14.809899\n",
              "Lat_Lon                   323817       0     63909    0.197361  14.809992\n",
              "New Georeferenced Column  323817       0     63909    0.197361  14.809992"
            ]
          },
          "metadata": {},
          "execution_count": 9
        }
      ],
      "source": [
        "# Print overview of profiling results.\n",
        "\n",
        "profiles.stats()"
      ]
    },
    {
      "cell_type": "markdown",
      "metadata": {
        "id": "O4zgb1QPJ02z"
      },
      "source": [
        "#### **Checking** if the complaint number is unique or not"
      ]
    },
    {
      "cell_type": "code",
      "execution_count": null,
      "metadata": {
        "colab": {
          "base_uri": "https://localhost:8080/"
        },
        "id": "R0o2wLm1h4Bo",
        "outputId": "81a9f479-427c-43fc-fd75-01e28fe7feb9"
      },
      "outputs": [
        {
          "output_type": "execute_result",
          "data": {
            "text/plain": [
              "323817"
            ]
          },
          "metadata": {},
          "execution_count": 92
        }
      ],
      "source": [
        "df.select('CMPLNT_NUM').distinct().count()"
      ]
    },
    {
      "cell_type": "markdown",
      "metadata": {
        "id": "M-_iiUuEJ_5c"
      },
      "source": [
        "#### As we can see `CMPLNT_NUM` should have been unique, but it is not.\n",
        "#### Let's see what are the duplicate values."
      ]
    },
    {
      "cell_type": "code",
      "execution_count": null,
      "metadata": {
        "colab": {
          "base_uri": "https://localhost:8080/"
        },
        "id": "869tZgVki68U",
        "outputId": "87c43330-0b35-4ade-fa69-254ee262365c"
      },
      "outputs": [
        {
          "output_type": "execute_result",
          "data": {
            "text/plain": [
              "0"
            ]
          },
          "metadata": {},
          "execution_count": 93
        }
      ],
      "source": [
        "df1 = df.groupBy('CMPLNT_NUM').count().filter(\"count > 1\")\n",
        "df1.drop('count').count()"
      ]
    },
    {
      "cell_type": "code",
      "execution_count": null,
      "metadata": {
        "colab": {
          "base_uri": "https://localhost:8080/"
        },
        "id": "WgA4Q88SoGaW",
        "outputId": "d2d1e45b-0a23-4586-8128-a8ccb5b2e2ad"
      },
      "outputs": [
        {
          "output_type": "stream",
          "name": "stdout",
          "text": [
            "+----------+-----+\n",
            "|CMPLNT_NUM|count|\n",
            "+----------+-----+\n",
            "+----------+-----+\n",
            "\n"
          ]
        }
      ],
      "source": [
        "df1.sort('CMPLNT_NUM').show(n = 10)"
      ]
    },
    {
      "cell_type": "markdown",
      "metadata": {
        "id": "xIXIyTg_LSGf"
      },
      "source": [
        "#### Check for complaint number `854455675`"
      ]
    },
    {
      "cell_type": "code",
      "execution_count": null,
      "metadata": {
        "colab": {
          "base_uri": "https://localhost:8080/"
        },
        "id": "SuNyl3VjmbXH",
        "outputId": "6f8044eb-b3a2-4e1a-8c96-b4041b347638"
      },
      "outputs": [
        {
          "output_type": "stream",
          "name": "stdout",
          "text": [
            "+----------+-----------+-------+------------+------------+------------+------------+----------------+----------+-----------+-----------------+----------------+-----+----------+-----------------+--------------------+--------+-----------+-----+-------+-------------+----------+------------+--------------+---------+--------+----------------+-------------+--------------+-------+------------------------+\n",
            "|CMPLNT_NUM|ADDR_PCT_CD|BORO_NM|CMPLNT_FR_DT|CMPLNT_FR_TM|CMPLNT_TO_DT|CMPLNT_TO_TM|CRM_ATPT_CPTD_CD|HADEVELOPT|HOUSING_PSA|JURISDICTION_CODE|      JURIS_DESC|KY_CD|LAW_CAT_CD|LOC_OF_OCCUR_DESC|           OFNS_DESC|PARKS_NM|PATROL_BORO|PD_CD|PD_DESC|PREM_TYP_DESC|    RPT_DT|STATION_NAME|SUSP_AGE_GROUP|SUSP_RACE|SUSP_SEX|TRANSIT_DISTRICT|VIC_AGE_GROUP|      VIC_RACE|VIC_SEX|New Georeferenced Column|\n",
            "+----------+-----------+-------+------------+------------+------------+------------+----------------+----------+-----------+-----------------+----------------+-----+----------+-----------------+--------------------+--------+-----------+-----+-------+-------------+----------+------------+--------------+---------+--------+----------------+-------------+--------------+-------+------------------------+\n",
            "| 854455675|         48|   null|  09/29/2021|    12:50:00|        null|        null|       COMPLETED|      null|       null|             null|N.Y. POLICE DEPT|  101|    FELONY|          OUTSIDE|MURDER & NON-NEGL...|    null|       null| null|   null|         null|09/29/2021|        null|          null|     null|    null|            null|          <18|BLACK HISPANIC|      M|    POINT (-73.882203...|\n",
            "+----------+-----------+-------+------------+------------+------------+------------+----------------+----------+-----------+-----------------+----------------+-----+----------+-----------------+--------------------+--------+-----------+-----+-------+-------------+----------+------------+--------------+---------+--------+----------------+-------------+--------------+-------+------------------------+\n",
            "\n"
          ]
        }
      ],
      "source": [
        "df.filter('CMPLNT_NUM = 854455675').show()"
      ]
    },
    {
      "cell_type": "markdown",
      "metadata": {
        "id": "XG8tNFuBT2YJ"
      },
      "source": [
        "#### We understand, that complaint number is unique. \n",
        "\n",
        "#### Thus, the `CMPLNT_NUM` column can be used to uniquely identify a record in the complaints dataset."
      ]
    },
    {
      "cell_type": "markdown",
      "metadata": {
        "id": "n96nZ6Pjq9k1"
      },
      "source": [
        "## Find Count of Null, None, NaN of All DataFrame Columns"
      ]
    },
    {
      "cell_type": "code",
      "execution_count": null,
      "metadata": {
        "colab": {
          "base_uri": "https://localhost:8080/"
        },
        "id": "mxelZ1tgqB74",
        "outputId": "db88b5bf-76e5-4858-88bf-c733b383ff89"
      },
      "outputs": [
        {
          "output_type": "stream",
          "name": "stdout",
          "text": [
            "+----------+-----------+-------+------------+------------+------------+------------+----------------+----------+-----------+-----------------+----------+-----+----------+-----------------+---------+--------+-----------+-----+-------+-------------+------+------------+--------------+---------+--------+----------------+-------------+--------+-------+------------------------+\n",
            "|CMPLNT_NUM|ADDR_PCT_CD|BORO_NM|CMPLNT_FR_DT|CMPLNT_FR_TM|CMPLNT_TO_DT|CMPLNT_TO_TM|CRM_ATPT_CPTD_CD|HADEVELOPT|HOUSING_PSA|JURISDICTION_CODE|JURIS_DESC|KY_CD|LAW_CAT_CD|LOC_OF_OCCUR_DESC|OFNS_DESC|PARKS_NM|PATROL_BORO|PD_CD|PD_DESC|PREM_TYP_DESC|RPT_DT|STATION_NAME|SUSP_AGE_GROUP|SUSP_RACE|SUSP_SEX|TRANSIT_DISTRICT|VIC_AGE_GROUP|VIC_RACE|VIC_SEX|New Georeferenced Column|\n",
            "+----------+-----------+-------+------------+------------+------------+------------+----------------+----------+-----------+-----------------+----------+-----+----------+-----------------+---------+--------+-----------+-----+-------+-------------+------+------------+--------------+---------+--------+----------------+-------------+--------+-------+------------------------+\n",
            "|         0|          0|    771|           0|           0|       29197|       29084|             161|    322640|     299580|              357|         0|    0|         0|            54254|        7|  321408|        357|  357|    357|          859|     0|      317492|         62752|    62752|   62752|          317492|            0|      55|      0|                       0|\n",
            "+----------+-----------+-------+------------+------------+------------+------------+----------------+----------+-----------+-----------------+----------+-----+----------+-----------------+---------+--------+-----------+-----+-------+-------------+------+------------+--------------+---------+--------+----------------+-------------+--------+-------+------------------------+\n",
            "\n"
          ]
        }
      ],
      "source": [
        "df.select([count(when(isnan(c) | col(c).isNull(), c)).alias(c) for c in df.columns]\n",
        "   ).show()"
      ]
    },
    {
      "cell_type": "markdown",
      "metadata": {
        "id": "Wt7SOaqwSIfw"
      },
      "source": [
        "#### Get top 5 rows where complaint from Date is NaN"
      ]
    },
    {
      "cell_type": "code",
      "execution_count": null,
      "metadata": {
        "colab": {
          "base_uri": "https://localhost:8080/"
        },
        "id": "OSBt5ZBcpfv2",
        "outputId": "983a14ab-0ffc-4c5b-a582-834512691516"
      },
      "outputs": [
        {
          "output_type": "stream",
          "name": "stdout",
          "text": [
            "+----------+-----------+-------+------------+------------+------------+------------+----------------+----------+-----------+-----------------+----------+-----+----------+-----------------+---------+--------+-----------+-----+-------+-------------+------+------------+--------------+---------+--------+----------------+-------------+--------+-------+------------------------+\n",
            "|CMPLNT_NUM|ADDR_PCT_CD|BORO_NM|CMPLNT_FR_DT|CMPLNT_FR_TM|CMPLNT_TO_DT|CMPLNT_TO_TM|CRM_ATPT_CPTD_CD|HADEVELOPT|HOUSING_PSA|JURISDICTION_CODE|JURIS_DESC|KY_CD|LAW_CAT_CD|LOC_OF_OCCUR_DESC|OFNS_DESC|PARKS_NM|PATROL_BORO|PD_CD|PD_DESC|PREM_TYP_DESC|RPT_DT|STATION_NAME|SUSP_AGE_GROUP|SUSP_RACE|SUSP_SEX|TRANSIT_DISTRICT|VIC_AGE_GROUP|VIC_RACE|VIC_SEX|New Georeferenced Column|\n",
            "+----------+-----------+-------+------------+------------+------------+------------+----------------+----------+-----------+-----------------+----------+-----+----------+-----------------+---------+--------+-----------+-----+-------+-------------+------+------------+--------------+---------+--------+----------------+-------------+--------+-------+------------------------+\n",
            "+----------+-----------+-------+------------+------------+------------+------------+----------------+----------+-----------+-----------------+----------+-----+----------+-----------------+---------+--------+-----------+-----+-------+-------------+------+------------+--------------+---------+--------+----------------+-------------+--------+-------+------------------------+\n",
            "\n"
          ]
        }
      ],
      "source": [
        "df.where(col('CMPLNT_FR_DT').isNull()).show(n=5)"
      ]
    },
    {
      "cell_type": "markdown",
      "metadata": {
        "id": "0THJK1JWSgtT"
      },
      "source": [
        "### Get rows where either complaint from date or complaint from time is null"
      ]
    },
    {
      "cell_type": "code",
      "execution_count": null,
      "metadata": {
        "colab": {
          "base_uri": "https://localhost:8080/"
        },
        "id": "hu_HmwGjTPF9",
        "outputId": "e831b2ef-8f9c-4c41-bbc7-70f0279e9830"
      },
      "outputs": [
        {
          "output_type": "stream",
          "name": "stdout",
          "text": [
            "+----------+-----------+-------+------------+------------+------------+------------+----------------+----------+-----------+-----------------+----------+-----+----------+-----------------+---------+--------+-----------+-----+-------+-------------+------+------------+--------------+---------+--------+----------------+-------------+--------+-------+------------------------+\n",
            "|CMPLNT_NUM|ADDR_PCT_CD|BORO_NM|CMPLNT_FR_DT|CMPLNT_FR_TM|CMPLNT_TO_DT|CMPLNT_TO_TM|CRM_ATPT_CPTD_CD|HADEVELOPT|HOUSING_PSA|JURISDICTION_CODE|JURIS_DESC|KY_CD|LAW_CAT_CD|LOC_OF_OCCUR_DESC|OFNS_DESC|PARKS_NM|PATROL_BORO|PD_CD|PD_DESC|PREM_TYP_DESC|RPT_DT|STATION_NAME|SUSP_AGE_GROUP|SUSP_RACE|SUSP_SEX|TRANSIT_DISTRICT|VIC_AGE_GROUP|VIC_RACE|VIC_SEX|New Georeferenced Column|\n",
            "+----------+-----------+-------+------------+------------+------------+------------+----------------+----------+-----------+-----------------+----------+-----+----------+-----------------+---------+--------+-----------+-----+-------+-------------+------+------------+--------------+---------+--------+----------------+-------------+--------+-------+------------------------+\n",
            "+----------+-----------+-------+------------+------------+------------+------------+----------------+----------+-----------+-----------------+----------+-----+----------+-----------------+---------+--------+-----------+-----+-------+-------------+------+------------+--------------+---------+--------+----------------+-------------+--------+-------+------------------------+\n",
            "\n"
          ]
        }
      ],
      "source": [
        "df.filter(df.CMPLNT_FR_DT.isNull() | df.CMPLNT_FR_TM.isNull()).show(5)"
      ]
    },
    {
      "cell_type": "markdown",
      "metadata": {
        "id": "6xl4xqaKSoly"
      },
      "source": [
        "1. There maybe null values in the CMPLNT_TO_DT, CMPLNT_TO_TM, LOC_OF_OCCUR_DESC, PREM_TYP_DESC, PARKS_NM and HADEVELOPT columns. \n",
        "\n",
        "2. LOC_OF_OCCUR_DESC, PREM_TYP_DESC, PARKS_NM and HADEVELOPT need not be present for all the fields so cannot be used to eliminate records.\n",
        "\n",
        "3. However, complaint from date and complaint from time columns cannot have null values. We drop the rows where either complaint from date or complaint from time is null."
      ]
    },
    {
      "cell_type": "code",
      "execution_count": null,
      "metadata": {
        "colab": {
          "base_uri": "https://localhost:8080/"
        },
        "id": "hcjIsxY6S6mt",
        "outputId": "a8896dde-5a86-4e21-c4e5-e976069ecdcd"
      },
      "outputs": [
        {
          "output_type": "execute_result",
          "data": {
            "text/plain": [
              "DataFrame[CMPLNT_NUM: int, ADDR_PCT_CD: int, BORO_NM: string, CMPLNT_FR_DT: string, CMPLNT_FR_TM: string, CMPLNT_TO_DT: string, CMPLNT_TO_TM: string, CRM_ATPT_CPTD_CD: string, HADEVELOPT: string, HOUSING_PSA: int, JURISDICTION_CODE: int, JURIS_DESC: string, KY_CD: int, LAW_CAT_CD: string, LOC_OF_OCCUR_DESC: string, OFNS_DESC: string, PARKS_NM: string, PATROL_BORO: string, PD_CD: int, PD_DESC: string, PREM_TYP_DESC: string, RPT_DT: string, STATION_NAME: string, SUSP_AGE_GROUP: string, SUSP_RACE: string, SUSP_SEX: string, TRANSIT_DISTRICT: int, VIC_AGE_GROUP: string, VIC_RACE: string, VIC_SEX: string, New Georeferenced Column: string]"
            ]
          },
          "metadata": {},
          "execution_count": 99
        }
      ],
      "source": [
        "df.drop(df.CMPLNT_FR_DT.isNull() | df.CMPLNT_FR_TM.isNull())"
      ]
    },
    {
      "cell_type": "code",
      "execution_count": null,
      "metadata": {
        "id": "v7i-_-ckTEQ0"
      },
      "outputs": [],
      "source": [
        "df = df.filter(df.CMPLNT_FR_DT.isNotNull() | df.CMPLNT_FR_TM.isNotNull())"
      ]
    },
    {
      "cell_type": "code",
      "execution_count": null,
      "metadata": {
        "colab": {
          "base_uri": "https://localhost:8080/"
        },
        "id": "VSK0NwkS7gTu",
        "outputId": "a4ed4653-c192-4fc1-cbe5-eada37bea925"
      },
      "outputs": [
        {
          "output_type": "stream",
          "name": "stdout",
          "text": [
            "+----------+-----------+-------------+------------+------------+------------+------------+----------------+-------------+-----------+-----------------+-------------------+-----+-----------+-----------------+--------------------+----------------+--------------------+-----+--------------------+--------------------+----------+------------+--------------+--------------------+--------+----------------+-------------+--------------------+-------+------------------------+\n",
            "|CMPLNT_NUM|ADDR_PCT_CD|      BORO_NM|CMPLNT_FR_DT|CMPLNT_FR_TM|CMPLNT_TO_DT|CMPLNT_TO_TM|CRM_ATPT_CPTD_CD|   HADEVELOPT|HOUSING_PSA|JURISDICTION_CODE|         JURIS_DESC|KY_CD| LAW_CAT_CD|LOC_OF_OCCUR_DESC|           OFNS_DESC|        PARKS_NM|         PATROL_BORO|PD_CD|             PD_DESC|       PREM_TYP_DESC|    RPT_DT|STATION_NAME|SUSP_AGE_GROUP|           SUSP_RACE|SUSP_SEX|TRANSIT_DISTRICT|VIC_AGE_GROUP|            VIC_RACE|VIC_SEX|New Georeferenced Column|\n",
            "+----------+-----------+-------------+------------+------------+------------+------------+----------------+-------------+-----------+-----------------+-------------------+-----+-----------+-----------------+--------------------+----------------+--------------------+-----+--------------------+--------------------+----------+------------+--------------+--------------------+--------+----------------+-------------+--------------------+-------+------------------------+\n",
            "| 972721133|         46|         null|  02/22/2021|    22:58:00|        null|        null|       COMPLETED|         null|       null|             null|   N.Y. POLICE DEPT|  101|     FELONY|          OUTSIDE|MURDER & NON-NEGL...|            null|                null| null|                null|                null|02/22/2021|        null|          null|                null|    null|            null|        25-44|               BLACK|      M|    POINT (-73.904783...|\n",
            "| 273094339|         48|        BRONX|  09/28/2021|    22:50:00|  09/28/2021|    22:55:00|       COMPLETED|         null|       null|                0|   N.Y. POLICE DEPT|  358|MISDEMEANOR|             null|OFFENSES INVOLVIN...|            null|   PATROL BORO BRONX|  705|  FORGERY,ETC.-MISD.|              STREET|09/28/2021|        null|         18-24|               BLACK|       M|            null|      UNKNOWN|             UNKNOWN|      E|    POINT (-73.899501...|\n",
            "| 380472497|         10|    MANHATTAN|  09/29/2021|    02:00:00|  09/29/2021|    03:00:00|       COMPLETED|         null|       null|                0|   N.Y. POLICE DEPT|  341|MISDEMEANOR|             null|       PETIT LARCENY|            null|PATROL BORO MAN S...|  339|LARCENY,PETIT FRO...|              STREET|09/30/2021|        null|       UNKNOWN|             UNKNOWN|       U|            null|        25-44|      WHITE HISPANIC|      M|    POINT (-73.999185...|\n",
            "| 196902441|         18|    MANHATTAN|  09/27/2021|    08:15:00|  09/28/2021|    11:30:00|       COMPLETED|         null|       null|                0|   N.Y. POLICE DEPT|  341|MISDEMEANOR|           INSIDE|       PETIT LARCENY|            null|PATROL BORO MAN S...|  305|LARCENY,PETIT BY ...|RESIDENCE - APT. ...|09/29/2021|        null|       UNKNOWN|             UNKNOWN|       U|            null|          65+|               WHITE|      F|    POINT (-73.985243...|\n",
            "| 629672413|         43|        BRONX|  09/29/2021|    18:00:00|        null|        null|       COMPLETED|         null|       null|                0|   N.Y. POLICE DEPT|  351|MISDEMEANOR|         FRONT OF|CRIMINAL MISCHIEF...|            null|   PATROL BORO BRONX|  259|CRIMINAL MISCHIEF...|              STREET|09/30/2021|        null|          null|                null|    null|            null|        25-44|               BLACK|      F|    POINT (-73.879620...|\n",
            "| 748176739|         33|    MANHATTAN|  09/23/2021|    09:20:00|  09/23/2021|    09:23:00|       COMPLETED|         null|       null|                0|   N.Y. POLICE DEPT|  341|MISDEMEANOR|           INSIDE|       PETIT LARCENY|            null|PATROL BORO MAN N...|  333|LARCENY,PETIT FRO...|    DEPARTMENT STORE|09/23/2021|        null|       UNKNOWN|             UNKNOWN|       U|            null|      UNKNOWN|             UNKNOWN|      D|    POINT (-73.945008...|\n",
            "| 722070159|         61|     BROOKLYN|  08/26/2021|    11:43:00|  08/26/2021|    11:44:00|       COMPLETED|         null|       null|                0|   N.Y. POLICE DEPT|  109|     FELONY|           INSIDE|       GRAND LARCENY|            null|PATROL BORO BKLYN...|  402|LARCENY,GRAND BY ...| COMMERCIAL BUILDING|09/30/2021|        null|       UNKNOWN|             UNKNOWN|       U|            null|      UNKNOWN|             UNKNOWN|      D|    POINT (-73.949998...|\n",
            "| 543059262|          1|    MANHATTAN|  09/29/2021|    09:03:00|  09/29/2021|    09:08:00|       COMPLETED|         null|       null|                0|   N.Y. POLICE DEPT|  341|MISDEMEANOR|           INSIDE|       PETIT LARCENY|            null|PATROL BORO MAN S...|  333|LARCENY,PETIT FRO...|         CHAIN STORE|09/29/2021|        null|         25-44|               WHITE|       M|            null|      UNKNOWN|             UNKNOWN|      D|    POINT (-74.011443...|\n",
            "| 783029647|        104|       QUEENS|  09/25/2021|    19:30:00|  09/25/2021|    19:35:00|       COMPLETED|         null|       null|                0|   N.Y. POLICE DEPT|  344|MISDEMEANOR|             null|ASSAULT 3 & RELAT...|            null|PATROL BORO QUEEN...|  101|           ASSAULT 3|              STREET|09/25/2021|        null|         25-44|               BLACK|       M|            null|        18-24|      WHITE HISPANIC|      F|    POINT (-73.892717...|\n",
            "| 532097462|        102|       QUEENS|  09/26/2021|    20:40:00|  09/26/2021|    20:46:00|       COMPLETED|         null|       null|                0|   N.Y. POLICE DEPT|  344|MISDEMEANOR|           INSIDE|ASSAULT 3 & RELAT...|            null|PATROL BORO QUEEN...|  101|           ASSAULT 3|     RESIDENCE-HOUSE|09/26/2021|        null|         45-64|ASIAN / PACIFIC I...|       M|            null|        25-44|ASIAN / PACIFIC I...|      M|    POINT (-73.832478...|\n",
            "| 780553702|         44|        BRONX|  07/24/2021|    19:00:00|        null|        null|       COMPLETED|         null|       null|                0|   N.Y. POLICE DEPT|  109|     FELONY|           INSIDE|       GRAND LARCENY|            null|   PATROL BORO BRONX|  434|LARCENY,GRAND BY ...|RESIDENCE - APT. ...|09/29/2021|        null|          null|                null|    null|            null|        25-44|               BLACK|      F|    POINT (-73.913178...|\n",
            "| 199644527|         66|     BROOKLYN|  09/28/2021|    19:00:00|  09/28/2021|    19:20:00|       COMPLETED|         null|       null|                0|   N.Y. POLICE DEPT|  578|  VIOLATION|           INSIDE|       HARRASSMENT 2|            null|PATROL BORO BKLYN...|  637|HARASSMENT,SUBD 1...|     RESIDENCE-HOUSE|09/28/2021|        null|         25-44|ASIAN / PACIFIC I...|       M|            null|        25-44|ASIAN / PACIFIC I...|      F|    POINT (-73.971419...|\n",
            "| 868022815|        106|       QUEENS|  09/11/2021|    17:00:00|  09/22/2021|    09:00:00|       COMPLETED|         null|       null|                0|   N.Y. POLICE DEPT|  109|     FELONY|           INSIDE|       GRAND LARCENY|            null|PATROL BORO QUEEN...|  418|LARCENY,GRAND BY ...|     RESIDENCE-HOUSE|09/24/2021|        null|       UNKNOWN|             UNKNOWN|       U|            null|        25-44|               WHITE|      M|    POINT (-73.847353...|\n",
            "| 413150264|         62|     BROOKLYN|  09/24/2021|    09:15:00|  09/24/2021|    09:30:00|       COMPLETED|         null|       null|                0|   N.Y. POLICE DEPT|  361|MISDEMEANOR|           INSIDE|OFF. AGNST PUB OR...|            null|PATROL BORO BKLYN...|  639|AGGRAVATED HARASS...|RESIDENCE - APT. ...|09/24/2021|        null|         18-24|             UNKNOWN|       M|            null|        18-24|               BLACK|      F|    POINT (-74.011597...|\n",
            "| 822231972|         46|        BRONX|  09/26/2021|    23:40:00|  09/26/2021|    23:55:00|       COMPLETED|         null|       null|                0|   N.Y. POLICE DEPT|  341|MISDEMEANOR|           INSIDE|       PETIT LARCENY|            null|   PATROL BORO BRONX|  333|LARCENY,PETIT FRO...|         CHAIN STORE|09/27/2021|        null|         25-44|             UNKNOWN|       M|            null|      UNKNOWN|             UNKNOWN|      D|    POINT (-73.906024...|\n",
            "| 629987923|         41|        BRONX|  09/28/2021|    10:12:00|  09/28/2021|    10:20:00|       COMPLETED|         null|       null|                0|   N.Y. POLICE DEPT|  578|  VIOLATION|           INSIDE|       HARRASSMENT 2|            null|   PATROL BORO BRONX|  638|HARASSMENT,SUBD 3...|RESIDENCE - APT. ...|09/28/2021|        null|         45-64|      WHITE HISPANIC|       F|            null|        45-64|      WHITE HISPANIC|      M|    POINT (-73.887660...|\n",
            "| 741622034|         76|     BROOKLYN|  09/26/2021|    19:00:00|  09/26/2021|    19:05:00|       COMPLETED|RED HOOK EAST|        265|                2|N.Y. HOUSING POLICE|  361|MISDEMEANOR|           INSIDE|OFF. AGNST PUB OR...|            null|PATROL BORO BKLYN...|  639|AGGRAVATED HARASS...|RESIDENCE - PUBLI...|09/29/2021|        null|         25-44|               BLACK|       M|            null|        25-44|               BLACK|      F|    POINT (-74.002925...|\n",
            "| 775907500|         68|     BROOKLYN|  09/30/2021|    10:20:00|  09/30/2021|    10:22:00|       COMPLETED|         null|       null|                0|   N.Y. POLICE DEPT|  341|MISDEMEANOR|           INSIDE|       PETIT LARCENY|            null|PATROL BORO BKLYN...|  333|LARCENY,PETIT FRO...|          DRUG STORE|09/30/2021|        null|         25-44|               WHITE|       M|            null|      UNKNOWN|             UNKNOWN|      D|    POINT (-74.026817...|\n",
            "| 281927551|         90|     BROOKLYN|  09/02/2021|    07:20:00|  09/02/2021|    07:27:00|       COMPLETED|         null|       3494|                2|N.Y. HOUSING POLICE|  361|MISDEMEANOR|           INSIDE|OFF. AGNST PUB OR...|            null|PATROL BORO BKLYN...|  639|AGGRAVATED HARASS...|RESIDENCE - PUBLI...|09/28/2021|        null|         18-24|               BLACK|       M|            null|          <18|               BLACK|      F|    POINT (-73.965999...|\n",
            "| 472915130|          6|    MANHATTAN|  09/27/2021|    19:15:00|  09/27/2021|    19:25:00|       COMPLETED|         null|       null|                1|N.Y. TRANSIT POLICE|  109|     FELONY|             null|       GRAND LARCENY|            null|PATROL BORO MAN S...|  418|LARCENY,GRAND BY ...|TRANSIT - NYC SUBWAY|09/27/2021|   14 STREET|       UNKNOWN|             UNKNOWN|       U|               2|        25-44|               WHITE|      M|    POINT (-73.996840...|\n",
            "| 519984864|         32|    MANHATTAN|  09/26/2021|    22:05:00|  09/26/2021|    22:08:00|       COMPLETED|         null|       null|                0|   N.Y. POLICE DEPT|  358|MISDEMEANOR|         FRONT OF|OFFENSES INVOLVIN...|            null|PATROL BORO MAN N...|  705|  FORGERY,ETC.-MISD.|              STREET|09/26/2021|        null|         25-44|               BLACK|       M|            null|      UNKNOWN|             UNKNOWN|      E|    POINT (-73.939230...|\n",
            "| 425017236|         32|    MANHATTAN|  09/24/2021|    07:00:00|  09/24/2021|    17:30:00|       COMPLETED|         null|       null|                0|   N.Y. POLICE DEPT|  341|MISDEMEANOR|         FRONT OF|       PETIT LARCENY|            null|PATROL BORO MAN N...|  343|LARCENY,PETIT OF ...|RESIDENCE - APT. ...|09/24/2021|        null|       UNKNOWN|             UNKNOWN|       U|            null|        25-44|               BLACK|      M|    POINT (-73.945167...|\n",
            "| 316525036|         84|     BROOKLYN|  09/30/2021|    14:30:00|  09/30/2021|    14:57:00|       COMPLETED|         null|       null|                0|   N.Y. POLICE DEPT|  578|  VIOLATION|             null|       HARRASSMENT 2|            null|PATROL BORO BKLYN...|  638|HARASSMENT,SUBD 3...|              STREET|09/30/2021|        null|           <18|             UNKNOWN|       F|            null|          <18|               BLACK|      F|    POINT (-73.983225...|\n",
            "| 138380729|         72|     BROOKLYN|  09/26/2021|    19:39:00|  09/27/2021|    01:52:00|       COMPLETED|         null|       null|                0|   N.Y. POLICE DEPT|  109|     FELONY|             null|       GRAND LARCENY|            null|PATROL BORO BKLYN...|  457|LARCENY,GRAND OF ...|              STREET|09/27/2021|        null|          null|                null|    null|            null|      UNKNOWN|             UNKNOWN|      D|    POINT (-73.988319...|\n",
            "| 263567736|        109|       QUEENS|  09/24/2021|    16:09:00|  09/24/2021|    16:42:00|       COMPLETED|         null|       null|                0|   N.Y. POLICE DEPT|  121|     FELONY|           INSIDE|CRIMINAL MISCHIEF...|            null|PATROL BORO QUEEN...|  269|MISCHIEF,CRIMINAL...|RESIDENCE - APT. ...|09/24/2021|        null|         25-44|ASIAN / PACIFIC I...|       M|            null|        45-64|ASIAN / PACIFIC I...|      F|    POINT (-73.832376...|\n",
            "| 407866187|         17|    MANHATTAN|  09/30/2021|    07:55:00|  09/30/2021|    08:10:00|       COMPLETED|         null|       null|                0|   N.Y. POLICE DEPT|  126|     FELONY|         FRONT OF|MISCELLANEOUS PEN...|            null|PATROL BORO MAN S...|  640|AGGRAVATED HARASS...|               OTHER|09/30/2021|        null|       UNKNOWN|               WHITE|       M|            null|      UNKNOWN|             UNKNOWN|      E|    POINT (-73.976066...|\n",
            "| 397684420|        122|STATEN ISLAND|  09/25/2021|    00:01:00|  09/25/2021|    03:00:00|       COMPLETED|         null|       null|                0|   N.Y. POLICE DEPT|  578|  VIOLATION|           INSIDE|       HARRASSMENT 2|            null|PATROL BORO STATE...|  638|HARASSMENT,SUBD 3...|RESIDENCE - APT. ...|09/25/2021|        null|         45-64|               WHITE|       M|            null|        25-44|               WHITE|      F|    POINT (-74.110817...|\n",
            "| 263033827|         52|        BRONX|  09/06/2021|    12:00:00|  09/26/2021|    01:30:00|       COMPLETED|         null|       null|                0|   N.Y. POLICE DEPT|  365|MISDEMEANOR|           INSIDE| ADMINISTRATIVE CODE|            null|   PATROL BORO BRONX|  878|ADM.CODE,UNCLASSI...|RESIDENCE - APT. ...|09/29/2021|        null|       UNKNOWN|      WHITE HISPANIC|       F|            null|        45-64|      WHITE HISPANIC|      F|    POINT (-73.888622...|\n",
            "| 851545392|        110|       QUEENS|  09/23/2021|    18:59:00|  09/25/2021|    19:00:00|       COMPLETED|         null|       null|                0|   N.Y. POLICE DEPT|  341|MISDEMEANOR|             null|       PETIT LARCENY|            null|PATROL BORO QUEEN...|  301|LARCENY,PETIT BY ...|OPEN AREAS (OPEN ...|09/28/2021|        null|          null|                null|    null|            null|        45-64|      WHITE HISPANIC|      F|    POINT (-73.843246...|\n",
            "| 836266800|         42|        BRONX|  09/25/2021|    02:47:00|  09/25/2021|    02:49:00|       COMPLETED|         null|       null|                0|   N.Y. POLICE DEPT|  118|     FELONY|         FRONT OF|   DANGEROUS WEAPONS|            null|   PATROL BORO BRONX|  793|WEAPONS POSSESSION 3|              STREET|09/25/2021|        null|          null|                null|    null|            null|      UNKNOWN|             UNKNOWN|      E|    POINT (-73.907281...|\n",
            "| 508966781|         63|     BROOKLYN|  09/26/2021|    16:00:00|  09/26/2021|    16:05:00|       COMPLETED|         null|       null|                0|   N.Y. POLICE DEPT|  348|MISDEMEANOR|             null|VEHICLE AND TRAFF...|            null|PATROL BORO BKLYN...|  916|LEAVING SCENE-ACC...|     HIGHWAY/PARKWAY|09/26/2021|        null|       UNKNOWN|             UNKNOWN|       U|            null|        45-64|               BLACK|      M|    POINT (-73.907876...|\n",
            "| 391029037|         18|    MANHATTAN|  09/23/2021|    15:28:00|  09/23/2021|    16:46:00|       COMPLETED|         null|       null|                0|   N.Y. POLICE DEPT|  109|     FELONY|           INSIDE|       GRAND LARCENY|            null|PATROL BORO MAN S...|  433|LARCENY,GRAND FRO...|    DEPARTMENT STORE|09/23/2021|        null|         18-24|               BLACK|       F|            null|      UNKNOWN|             UNKNOWN|      D|    POINT (-73.977430...|\n",
            "| 914205004|         48|        BRONX|  09/23/2021|    04:50:00|  09/23/2021|    07:30:00|       COMPLETED|         null|       null|                0|   N.Y. POLICE DEPT|  341|MISDEMEANOR|           INSIDE|       PETIT LARCENY|            null|   PATROL BORO BRONX|  352|LARCENY,PETIT FRO...|RESIDENCE - APT. ...|09/23/2021|        null|          null|                null|    null|            null|          65+|      WHITE HISPANIC|      M|    POINT (-73.882656...|\n",
            "| 246111720|         46|        BRONX|  09/23/2021|    10:09:00|  09/23/2021|    10:15:00|       COMPLETED|         null|       null|                0|   N.Y. POLICE DEPT|  109|     FELONY|           INSIDE|       GRAND LARCENY|            null|   PATROL BORO BRONX|  433|LARCENY,GRAND FRO...|    DEPARTMENT STORE|09/23/2021|        null|       UNKNOWN|      WHITE HISPANIC|       M|            null|      UNKNOWN|             UNKNOWN|      D|    POINT (-73.892459...|\n",
            "| 141199205|        107|       QUEENS|  09/23/2021|    00:20:00|  09/23/2021|    01:30:00|       COMPLETED|         null|       null|                0|   N.Y. POLICE DEPT|  107|     FELONY|           INSIDE|            BURGLARY|            null|PATROL BORO QUEEN...|  213|BURGLARY,COMMERCI...|         GAS STATION|09/23/2021|        null|       UNKNOWN|             UNKNOWN|       U|            null|      UNKNOWN|             UNKNOWN|      D|    POINT (-73.817268...|\n",
            "| 109137549|        110|       QUEENS|  09/25/2021|    22:35:00|  09/25/2021|    22:39:00|       COMPLETED|         null|       null|                0|   N.Y. POLICE DEPT|  235|MISDEMEANOR|             null|     DANGEROUS DRUGS|            null|PATROL BORO QUEEN...|  511|CONTROLLED SUBSTA...|              STREET|09/25/2021|        null|         18-24|      BLACK HISPANIC|       M|            null|      UNKNOWN|             UNKNOWN|      E|    POINT (-73.852875...|\n",
            "| 242123142|         68|     BROOKLYN|  09/25/2021|    17:00:00|  09/26/2021|    09:00:00|       COMPLETED|         null|       null|                0|   N.Y. POLICE DEPT|  107|     FELONY|           INSIDE|            BURGLARY|            null|PATROL BORO BKLYN...|  223|BURGLARY,RESIDENC...|     RESIDENCE-HOUSE|09/27/2021|        null|       UNKNOWN|             UNKNOWN|       U|            null|        25-44|ASIAN / PACIFIC I...|      M|    POINT (-74.010675...|\n",
            "| 135482466|         75|     BROOKLYN|  09/23/2021|    21:34:00|  09/23/2021|    21:39:00|       COMPLETED|         null|       null|                0|   N.Y. POLICE DEPT|  351|MISDEMEANOR|         FRONT OF|CRIMINAL MISCHIEF...|            null|PATROL BORO BKLYN...|  259|CRIMINAL MISCHIEF...|RESIDENCE - APT. ...|09/23/2021|        null|          null|                null|    null|            null|        25-44|               BLACK|      F|    POINT (-73.874792...|\n",
            "| 264189415|         40|        BRONX|  09/23/2021|    02:40:00|  09/23/2021|    02:44:00|       COMPLETED|         null|       null|                0|   N.Y. POLICE DEPT|  351|MISDEMEANOR|             null|CRIMINAL MISCHIEF...|            null|   PATROL BORO BRONX|  254|MISCHIEF, CRIMINA...|              STREET|09/23/2021|        null|         18-24|               BLACK|       M|            null|      UNKNOWN|             UNKNOWN|      E|    POINT (-73.918434...|\n",
            "| 265688371|         48|        BRONX|  09/25/2021|    06:15:00|        null|        null|       COMPLETED|         null|       null|                0|   N.Y. POLICE DEPT|  359|MISDEMEANOR|           INSIDE|OFFENSES AGAINST ...|            null|   PATROL BORO BRONX|  749|VIOLATION OF ORDE...|RESIDENCE - APT. ...|09/25/2021|        null|         25-44|               BLACK|       M|            null|        25-44|             UNKNOWN|      F|    POINT (-73.882634...|\n",
            "| 968924428|          5|    MANHATTAN|  09/23/2021|    09:05:00|  09/23/2021|    10:00:00|       COMPLETED|         null|       null|                0|   N.Y. POLICE DEPT|  578|  VIOLATION|           INSIDE|       HARRASSMENT 2|            null|PATROL BORO MAN S...|  638|HARASSMENT,SUBD 3...|                null|09/24/2021|        null|           <18|               BLACK|       F|            null|          <18|      WHITE HISPANIC|      F|    POINT (-73.996632...|\n",
            "| 169796366|         77|     BROOKLYN|  09/28/2021|    18:45:00|  09/28/2021|    19:00:00|       COMPLETED|         null|       null|                0|   N.Y. POLICE DEPT|  353|MISDEMEANOR|         FRONT OF|UNAUTHORIZED USE ...|            null|PATROL BORO BKLYN...|  462|UNAUTHORIZED USE ...|              STREET|09/28/2021|        null|           <18|               BLACK|       F|            null|          65+|               BLACK|      F|    POINT (-73.945845...|\n",
            "| 174405673|         78|     BROOKLYN|  09/23/2021|    13:00:00|  09/23/2021|    18:00:00|       COMPLETED|         null|       null|                0|   N.Y. POLICE DEPT|  233|MISDEMEANOR|           INSIDE|          SEX CRIMES|            null|PATROL BORO BKLYN...|  175|    SEXUAL ABUSE 3,2|     RESIDENCE-HOUSE|09/24/2021|        null|          null|                null|    null|            null|        25-44|               BLACK|      F|    POINT (-73.974316...|\n",
            "| 235934856|        110|       QUEENS|  09/23/2021|    12:00:00|  09/24/2021|    07:00:00|       COMPLETED|         null|       null|                0|   N.Y. POLICE DEPT|  121|     FELONY|         FRONT OF|CRIMINAL MISCHIEF...|            null|PATROL BORO QUEEN...|  269|MISCHIEF,CRIMINAL...|OPEN AREAS (OPEN ...|09/24/2021|        null|       UNKNOWN|             UNKNOWN|       U|            null|      UNKNOWN|             UNKNOWN|      D|    POINT (-73.844510...|\n",
            "| 742847726|        104|       QUEENS|  09/30/2021|    13:50:00|  09/30/2021|    13:55:00|       COMPLETED|         null|       null|                0|   N.Y. POLICE DEPT|  578|  VIOLATION|           INSIDE|       HARRASSMENT 2|            null|PATROL BORO QUEEN...|  637|HARASSMENT,SUBD 1...|RESIDENCE - APT. ...|09/30/2021|        null|       UNKNOWN|             UNKNOWN|       M|            null|        25-44|               BLACK|      M|    POINT (-73.890488...|\n",
            "| 396967818|        112|       QUEENS|  09/25/2021|    13:14:00|  09/25/2021|    13:22:00|       COMPLETED|         null|       null|                0|   N.Y. POLICE DEPT|  341|MISDEMEANOR|           INSIDE|       PETIT LARCENY|            null|PATROL BORO QUEEN...|  333|LARCENY,PETIT FRO...|         CHAIN STORE|09/25/2021|        null|       UNKNOWN|ASIAN / PACIFIC I...|       U|            null|      UNKNOWN|             UNKNOWN|      D|    POINT (-73.862642...|\n",
            "| 811758183|        105|       QUEENS|  09/26/2021|    00:20:00|  09/26/2021|    00:25:00|       COMPLETED|         null|       null|                0|   N.Y. POLICE DEPT|  341|MISDEMEANOR|           INSIDE|       PETIT LARCENY|            null|PATROL BORO QUEEN...|  333|LARCENY,PETIT FRO...|         CHAIN STORE|09/27/2021|        null|       UNKNOWN|               WHITE|       M|            null|      UNKNOWN|             UNKNOWN|      D|    POINT (-73.734782...|\n",
            "| 724217445|         71|     BROOKLYN|  09/30/2021|    01:40:00|  09/30/2021|    01:45:00|       COMPLETED|         null|       null|                0|   N.Y. POLICE DEPT|  126|     FELONY|             null|MISCELLANEOUS PEN...|            null|PATROL BORO BKLYN...|  198| CRIMINAL CONTEMPT 1|              STREET|09/30/2021|        null|         45-64|               BLACK|       M|            null|        45-64|               BLACK|      F|    POINT (-73.942198...|\n",
            "| 109187548|         46|        BRONX|  09/23/2021|    12:13:00|  09/23/2021|    12:16:00|       COMPLETED|         null|       null|                0|   N.Y. POLICE DEPT|  105|     FELONY|           INSIDE|             ROBBERY|            null|   PATROL BORO BRONX|  396|ROBBERY,BEGIN AS ...|    DEPARTMENT STORE|09/23/2021|        null|       UNKNOWN|               BLACK|       F|            null|      UNKNOWN|             UNKNOWN|      D|    POINT (-73.895354...|\n",
            "| 371774827|         47|        BRONX|  09/25/2021|    17:25:00|  09/25/2021|    17:30:00|       COMPLETED|         null|       null|                0|   N.Y. POLICE DEPT|  578|  VIOLATION|           INSIDE|       HARRASSMENT 2|            null|   PATROL BORO BRONX|  638|HARASSMENT,SUBD 3...|     RESIDENCE-HOUSE|09/25/2021|        null|         45-64|               BLACK|       M|            null|        25-44|               BLACK|      F|    POINT (-73.848071...|\n",
            "| 442894436|         44|        BRONX|  09/26/2021|    12:00:00|        null|        null|       COMPLETED|         null|       null|                0|   N.Y. POLICE DEPT|  578|  VIOLATION|         FRONT OF|       HARRASSMENT 2|            null|   PATROL BORO BRONX|  638|HARASSMENT,SUBD 3...|              STREET|09/27/2021|        null|       UNKNOWN|             UNKNOWN|       M|            null|        25-44|      WHITE HISPANIC|      F|    POINT (-73.928648...|\n",
            "| 935793820|         94|     BROOKLYN|  09/27/2021|    10:39:00|  09/27/2021|    10:40:00|       COMPLETED|         null|       null|                0|   N.Y. POLICE DEPT|  361|MISDEMEANOR|         FRONT OF|OFF. AGNST PUB OR...|            null|PATROL BORO BKLYN...|  639|AGGRAVATED HARASS...|     RESIDENCE-HOUSE|09/27/2021|        null|         45-64|               WHITE|       M|            null|        45-64|               WHITE|      M|    POINT (-73.939603...|\n",
            "| 230825636|         24|    MANHATTAN|  09/26/2021|    14:20:00|  09/26/2021|    14:25:00|       COMPLETED|         null|       null|                0|   N.Y. POLICE DEPT|  341|MISDEMEANOR|           INSIDE|       PETIT LARCENY|            null|PATROL BORO MAN N...|  333|LARCENY,PETIT FRO...|         CHAIN STORE|09/26/2021|        null|         45-64|      BLACK HISPANIC|       F|            null|      UNKNOWN|             UNKNOWN|      D|    POINT (-73.965401...|\n",
            "| 375545248|         60|     BROOKLYN|  09/24/2021|    08:00:00|  09/25/2021|    14:00:00|       COMPLETED|         null|       null|                0|   N.Y. POLICE DEPT|  341|MISDEMEANOR|           INSIDE|       PETIT LARCENY|            null|PATROL BORO BKLYN...|  338|LARCENY,PETIT FRO...|    STORAGE FACILITY|09/25/2021|        null|          null|                null|    null|            null|        25-44|               BLACK|      M|    POINT (-73.988175...|\n",
            "| 583071188|          1|    MANHATTAN|  09/15/2021|    11:00:00|  09/15/2021|    11:08:00|       COMPLETED|         null|       null|                0|   N.Y. POLICE DEPT|  341|MISDEMEANOR|           INSIDE|       PETIT LARCENY|            null|PATROL BORO MAN S...|  333|LARCENY,PETIT FRO...|         CHAIN STORE|09/15/2021|        null|         45-64|               WHITE|       M|            null|      UNKNOWN|             UNKNOWN|      D|    POINT (-74.011443...|\n",
            "| 945877179|        105|       QUEENS|  09/16/2021|    11:30:00|  09/16/2021|    11:35:00|       COMPLETED|         null|       null|                0|   N.Y. POLICE DEPT|  341|MISDEMEANOR|           INSIDE|       PETIT LARCENY|            null|PATROL BORO QUEEN...|  333|LARCENY,PETIT FRO...|         CHAIN STORE|09/16/2021|        null|       UNKNOWN|               BLACK|       U|            null|      UNKNOWN|             UNKNOWN|      D|    POINT (-73.749838...|\n",
            "| 906677979|         50|        BRONX|  09/18/2021|    11:45:00|  09/18/2021|    11:50:00|       COMPLETED|         null|       null|                0|   N.Y. POLICE DEPT|  109|     FELONY|           INSIDE|       GRAND LARCENY|            null|   PATROL BORO BRONX|  433|LARCENY,GRAND FRO...|    DEPARTMENT STORE|09/18/2021|        null|         25-44|               BLACK|       F|            null|      UNKNOWN|             UNKNOWN|      D|    POINT (-73.905436...|\n",
            "| 252204035|         43|        BRONX|  09/14/2021|    21:50:00|  09/14/2021|    22:00:00|       COMPLETED|         null|       null|                0|   N.Y. POLICE DEPT|  578|  VIOLATION|         FRONT OF|       HARRASSMENT 2|            null|   PATROL BORO BRONX|  638|HARASSMENT,SUBD 3...|              STREET|09/14/2021|        null|       UNKNOWN|               BLACK|       F|            null|        45-64|               BLACK|      F|    POINT (-73.870041...|\n",
            "| 612330101|         43|        BRONX|  09/21/2021|    17:15:00|  09/21/2021|    17:30:00|       COMPLETED|         null|        887|                2|N.Y. HOUSING POLICE|  578|  VIOLATION|          REAR OF|       HARRASSMENT 2|            null|   PATROL BORO BRONX|  638|HARASSMENT,SUBD 3...|RESIDENCE - PUBLI...|09/21/2021|        null|       UNKNOWN|             UNKNOWN|       U|            null|        18-24|      WHITE HISPANIC|      M|    POINT (-73.849642...|\n",
            "| 853813782|         46|        BRONX|  09/20/2021|    10:00:00|  09/20/2021|    10:20:00|       COMPLETED|         null|       null|                0|   N.Y. POLICE DEPT|  351|MISDEMEANOR|           INSIDE|CRIMINAL MISCHIEF...|            null|   PATROL BORO BRONX|  259|CRIMINAL MISCHIEF...|RESIDENCE - APT. ...|09/20/2021|        null|       UNKNOWN|               BLACK|       M|            null|          65+|      WHITE HISPANIC|      F|    POINT (-73.897695...|\n",
            "| 416417316|        102|       QUEENS|  09/16/2021|    11:20:00|  09/16/2021|    11:23:00|       COMPLETED|         null|       null|                0|   N.Y. POLICE DEPT|  341|MISDEMEANOR|           INSIDE|       PETIT LARCENY|            null|PATROL BORO QUEEN...|  333|LARCENY,PETIT FRO...|          DRUG STORE|09/16/2021|        null|       UNKNOWN|               BLACK|       M|            null|      UNKNOWN|             UNKNOWN|      D|    POINT (-73.855127...|\n",
            "| 726863810|         63|     BROOKLYN|  09/17/2021|    22:39:00|  09/17/2021|    22:45:00|       COMPLETED|         null|       null|                0|   N.Y. POLICE DEPT|  578|  VIOLATION|         FRONT OF|       HARRASSMENT 2|            null|PATROL BORO BKLYN...|  638|HARASSMENT,SUBD 3...|     RESIDENCE-HOUSE|09/17/2021|        null|          null|                null|    null|            null|          65+|               WHITE|      M|    POINT (-73.923400...|\n",
            "| 953685289|         48|        BRONX|  09/18/2021|    16:35:00|  09/18/2021|    16:45:00|       COMPLETED|         null|       null|                0|   N.Y. POLICE DEPT|  344|MISDEMEANOR|         FRONT OF|ASSAULT 3 & RELAT...|            null|   PATROL BORO BRONX|  113|MENACING,UNCLASSI...|               OTHER|09/18/2021|        null|       UNKNOWN|             UNKNOWN|       M|            null|        25-44|               BLACK|      F|    POINT (-73.882331...|\n",
            "| 216638622|        121|STATEN ISLAND|  09/16/2021|    16:30:00|  09/16/2021|    16:45:00|       COMPLETED|         null|       null|                0|   N.Y. POLICE DEPT|  361|MISDEMEANOR|         FRONT OF|OFF. AGNST PUB OR...|            null|PATROL BORO STATE...|  639|AGGRAVATED HARASS...|              STREET|09/16/2021|        null|       UNKNOWN|             UNKNOWN|       M|            null|        18-24|               WHITE|      M|    POINT (-74.143878...|\n",
            "| 424184878|        110|       QUEENS|  09/14/2021|    20:30:00|  09/14/2021|    20:40:00|       COMPLETED|         null|       null|                0|   N.Y. POLICE DEPT|  341|MISDEMEANOR|           INSIDE|       PETIT LARCENY|            null|PATROL BORO QUEEN...|  333|LARCENY,PETIT FRO...|    DEPARTMENT STORE|09/20/2021|        null|       UNKNOWN|      WHITE HISPANIC|       F|            null|      UNKNOWN|             UNKNOWN|      D|    POINT (-73.875451...|\n",
            "| 616479759|         68|     BROOKLYN|  09/14/2021|    10:30:00|        null|        null|       COMPLETED|         null|       null|                0|   N.Y. POLICE DEPT|  351|MISDEMEANOR|             null|CRIMINAL MISCHIEF...|            null|PATROL BORO BKLYN...|  258|CRIMINAL MISCHIEF...|              STREET|09/17/2021|        null|          null|                null|    null|            null|      UNKNOWN|             UNKNOWN|      E|    POINT (-74.021090...|\n",
            "| 899004684|        121|STATEN ISLAND|  09/14/2021|    13:00:00|  09/14/2021|    14:00:00|       COMPLETED|         null|       null|                0|   N.Y. POLICE DEPT|  348|MISDEMEANOR|             null|VEHICLE AND TRAFF...|            null|PATROL BORO STATE...|  916|LEAVING SCENE-ACC...|              STREET|09/17/2021|        null|       UNKNOWN|      BLACK HISPANIC|       M|            null|        45-64|               WHITE|      M|    POINT (-74.169483...|\n",
            "| 958308205|         94|     BROOKLYN|  09/19/2021|    23:00:00|  09/19/2021|    23:05:00|       COMPLETED|         null|       null|                0|   N.Y. POLICE DEPT|  107|     FELONY|           INSIDE|            BURGLARY|            null|PATROL BORO BKLYN...|  223|BURGLARY,RESIDENC...|RESIDENCE - APT. ...|09/21/2021|        null|       UNKNOWN|             UNKNOWN|       U|            null|        25-44|               WHITE|      M|    POINT (-73.958271...|\n",
            "| 622952824|         52|        BRONX|  09/17/2021|    04:55:00|  09/17/2021|    05:05:00|       COMPLETED|         null|       null|                0|   N.Y. POLICE DEPT|  109|     FELONY|           INSIDE|       GRAND LARCENY|            null|   PATROL BORO BRONX|  443|LARCENY,GRAND OF ...|                BANK|09/17/2021|        null|       UNKNOWN|               BLACK|       M|            null|        25-44|      BLACK HISPANIC|      M|    POINT (-73.879510...|\n",
            "| 419497879|        107|       QUEENS|  09/14/2021|    19:15:00|  09/15/2021|    05:00:00|       COMPLETED|         null|       null|                0|   N.Y. POLICE DEPT|  351|MISDEMEANOR|         FRONT OF|CRIMINAL MISCHIEF...|            null|PATROL BORO QUEEN...|  254|MISCHIEF, CRIMINA...|              STREET|09/15/2021|        null|       UNKNOWN|             UNKNOWN|       U|            null|        25-44|ASIAN / PACIFIC I...|      M|    POINT (-73.780913...|\n",
            "| 393134894|         45|        BRONX|  09/18/2021|    17:40:00|  09/18/2021|    18:00:00|       COMPLETED|         null|       null|                0|   N.Y. POLICE DEPT|  106|     FELONY|           INSIDE|      FELONY ASSAULT|            null|   PATROL BORO BRONX|  105|   STRANGULATION 1ST|     RESIDENCE-HOUSE|09/18/2021|        null|         25-44|      WHITE HISPANIC|       M|            null|        25-44|      WHITE HISPANIC|      F|    POINT (-73.822773...|\n",
            "| 374863834|         33|    MANHATTAN|  09/21/2021|    18:57:00|  09/21/2021|    19:03:00|       COMPLETED|         null|       null|                0|   N.Y. POLICE DEPT|  341|MISDEMEANOR|           INSIDE|       PETIT LARCENY|            null|PATROL BORO MAN N...|  333|LARCENY,PETIT FRO...|         CHAIN STORE|09/21/2021|        null|       UNKNOWN|      BLACK HISPANIC|       M|            null|      UNKNOWN|             UNKNOWN|      D|    POINT (-73.937825...|\n",
            "| 642479711|        102|       QUEENS|  09/21/2021|    13:30:00|  09/21/2021|    13:34:00|       COMPLETED|         null|       null|                0|   N.Y. POLICE DEPT|  578|  VIOLATION|         FRONT OF|       HARRASSMENT 2|            null|PATROL BORO QUEEN...|  637|HARASSMENT,SUBD 1...|              STREET|09/21/2021|        null|         25-44|               BLACK|       M|            null|        25-44|      BLACK HISPANIC|      M|    POINT (-73.867540...|\n",
            "| 575465458|         79|     BROOKLYN|  09/20/2021|    09:47:00|  09/20/2021|    09:50:00|       COMPLETED|         null|       null|                0|   N.Y. POLICE DEPT|  341|MISDEMEANOR|           INSIDE|       PETIT LARCENY|            null|PATROL BORO BKLYN...|  333|LARCENY,PETIT FRO...|         CHAIN STORE|09/20/2021|        null|       UNKNOWN|               BLACK|       M|            null|      UNKNOWN|             UNKNOWN|      D|    POINT (-73.952558...|\n",
            "| 968724195|          1|    MANHATTAN|  09/20/2021|    12:00:00|  09/21/2021|    06:15:00|       COMPLETED|         null|       null|                0|   N.Y. POLICE DEPT|  351|MISDEMEANOR|           INSIDE|CRIMINAL MISCHIEF...|            null|PATROL BORO MAN S...|  258|CRIMINAL MISCHIEF...|            HOSPITAL|09/21/2021|        null|          null|                null|    null|            null|      UNKNOWN|             UNKNOWN|      D|    POINT (-74.004542...|\n",
            "| 806792159|         48|        BRONX|  09/18/2021|    20:25:00|  09/18/2021|    20:30:00|       COMPLETED|         null|       null|                0|   N.Y. POLICE DEPT|  105|     FELONY|           INSIDE|             ROBBERY|            null|   PATROL BORO BRONX|  388|ROBBERY,RESIDENTI...|RESIDENCE - APT. ...|09/18/2021|        null|       UNKNOWN|               BLACK|       M|            null|          65+|               BLACK|      M|    POINT (-73.893779...|\n",
            "| 397165496|         90|     BROOKLYN|  09/22/2021|    18:50:00|  09/22/2021|    18:55:00|       COMPLETED|         null|       null|                0|   N.Y. POLICE DEPT|  578|  VIOLATION|         FRONT OF|       HARRASSMENT 2|            null|PATROL BORO BKLYN...|  638|HARASSMENT,SUBD 3...|RESIDENCE - APT. ...|09/22/2021|        null|       UNKNOWN|             UNKNOWN|       U|            null|          65+|ASIAN / PACIFIC I...|      M|    POINT (-73.960283...|\n",
            "| 873834900|         19|    MANHATTAN|  09/20/2021|    00:42:00|  09/20/2021|    00:44:00|       COMPLETED|         null|       null|                0|   N.Y. POLICE DEPT|  341|MISDEMEANOR|           INSIDE|       PETIT LARCENY|            null|PATROL BORO MAN N...|  333|LARCENY,PETIT FRO...|         CHAIN STORE|09/20/2021|        null|         25-44|               BLACK|       M|            null|      UNKNOWN|             UNKNOWN|      D|    POINT (-73.958115...|\n",
            "| 869579786|         61|     BROOKLYN|  08/09/2021|    20:00:00|  09/08/2021|    06:30:00|       COMPLETED|         null|       null|                0|   N.Y. POLICE DEPT|  106|     FELONY|           INSIDE|      FELONY ASSAULT|            null|PATROL BORO BKLYN...|  109|ASSAULT 2,1,UNCLA...|RESIDENCE - APT. ...|09/22/2021|        null|         25-44|               WHITE|       M|            null|        18-24|ASIAN / PACIFIC I...|      F|    POINT (-73.950354...|\n",
            "| 243218762|         13|    MANHATTAN|  09/22/2021|    11:14:00|  09/22/2021|    11:25:00|       COMPLETED|         null|       null|                0|   N.Y. POLICE DEPT|  113|     FELONY|             null|             FORGERY|            null|PATROL BORO MAN S...|  729|FORGERY,ETC.,UNCL...|              STREET|09/22/2021|        null|         18-24|               BLACK|       F|            null|      UNKNOWN|             UNKNOWN|      E|    POINT (-73.990069...|\n",
            "| 320047228|         44|        BRONX|  09/22/2021|    04:21:00|  09/22/2021|    04:27:00|       COMPLETED|         null|       null|                0|   N.Y. POLICE DEPT|  106|     FELONY|             null|      FELONY ASSAULT|MACOMBS DAM PARK|   PATROL BORO BRONX|  105|   STRANGULATION 1ST|     PARK/PLAYGROUND|09/22/2021|        null|         25-44|      WHITE HISPANIC|       M|            null|        25-44|      WHITE HISPANIC|      M|    POINT (-73.925930...|\n",
            "| 618101592|         73|     BROOKLYN|  09/20/2021|    20:30:00|  09/21/2021|    05:20:00|       COMPLETED|         null|        356|                2|N.Y. HOUSING POLICE|  578|  VIOLATION|         FRONT OF|       HARRASSMENT 2|            null|PATROL BORO BKLYN...|  638|HARASSMENT,SUBD 3...|RESIDENCE - PUBLI...|09/21/2021|        null|         25-44|               BLACK|       M|            null|        25-44|               BLACK|      F|    POINT (-73.909848...|\n",
            "| 292134749|        108|       QUEENS|  09/19/2021|    20:30:00|  09/19/2021|    20:50:00|       COMPLETED|         null|       null|                0|   N.Y. POLICE DEPT|  578|  VIOLATION|           INSIDE|       HARRASSMENT 2|            null|PATROL BORO QUEEN...|  638|HARASSMENT,SUBD 3...|RESIDENCE - APT. ...|09/19/2021|        null|         25-44|             UNKNOWN|       M|            null|        45-64|               WHITE|      F|    POINT (-73.919110...|\n",
            "| 202529130|        122|STATEN ISLAND|  06/23/2021|    17:00:00|  09/22/2021|    18:50:00|       COMPLETED|         null|       null|                0|   N.Y. POLICE DEPT|  112|     FELONY|           INSIDE|         THEFT-FRAUD|            null|PATROL BORO STATE...|  739|FRAUD,UNCLASSIFIE...|     RESIDENCE-HOUSE|09/22/2021|        null|          null|                null|    null|            null|        45-64|               WHITE|      F|    POINT (-74.116193...|\n",
            "| 620733823|         73|     BROOKLYN|  09/21/2021|    19:00:00|  09/21/2021|    20:00:00|       COMPLETED|         null|       null|                0|   N.Y. POLICE DEPT|  578|  VIOLATION|           INSIDE|       HARRASSMENT 2|            null|PATROL BORO BKLYN...|  638|HARASSMENT,SUBD 3...|RESIDENCE - APT. ...|09/22/2021|        null|       UNKNOWN|             UNKNOWN|       F|            null|        25-44|               BLACK|      F|    POINT (-73.915161...|\n",
            "| 297791888|        104|       QUEENS|  09/20/2021|    09:00:00|  09/21/2021|    12:00:00|       COMPLETED|         null|       null|                0|   N.Y. POLICE DEPT|  109|     FELONY|           INSIDE|       GRAND LARCENY|            null|PATROL BORO QUEEN...|  402|LARCENY,GRAND BY ...|  STORE UNCLASSIFIED|09/22/2021|        null|       UNKNOWN|             UNKNOWN|       U|            null|      UNKNOWN|             UNKNOWN|      D|    POINT (-73.894528...|\n",
            "| 337744522|         14|    MANHATTAN|  09/16/2021|    23:23:00|  09/16/2021|    23:30:00|       COMPLETED|         null|       null|                0|   N.Y. POLICE DEPT|  341|MISDEMEANOR|           INSIDE|       PETIT LARCENY|            null|PATROL BORO MAN S...|  339|LARCENY,PETIT FRO...|           FAST FOOD|09/17/2021|        null|          null|                null|    null|            null|      UNKNOWN|             UNKNOWN|      D|    POINT (-73.986625...|\n",
            "| 622718293|         43|        BRONX|  09/14/2021|    23:30:00|  09/14/2021|    23:37:00|       COMPLETED|         null|        887|                2|N.Y. HOUSING POLICE|  347|MISDEMEANOR|         FRONT OF|INTOXICATED & IMP...|            null|   PATROL BORO BRONX|  905|INTOXICATED DRIVI...|RESIDENCE - PUBLI...|09/15/2021|        null|         25-44|      WHITE HISPANIC|       M|            null|      UNKNOWN|             UNKNOWN|      E|    POINT (-73.846989...|\n",
            "| 967950073|         49|        BRONX|  08/31/2021|    07:00:00|  09/18/2021|    16:45:00|       COMPLETED|         null|       null|                0|   N.Y. POLICE DEPT|  110|     FELONY|         FRONT OF|GRAND LARCENY OF ...|            null|   PATROL BORO BRONX|  441|LARCENY,GRAND OF ...|              STREET|09/18/2021|        null|       UNKNOWN|             UNKNOWN|       U|            null|        25-44|               BLACK|      M|    POINT (-73.853523...|\n",
            "| 679746277|         23|    MANHATTAN|  09/16/2021|    13:52:00|        null|        null|       COMPLETED|         null|       null|                0|   N.Y. POLICE DEPT|  341|MISDEMEANOR|           INSIDE|       PETIT LARCENY|            null|PATROL BORO MAN N...|  333|LARCENY,PETIT FRO...|         CHAIN STORE|09/16/2021|        null|       UNKNOWN|             UNKNOWN|       U|            null|      UNKNOWN|             UNKNOWN|      D|    POINT (-73.950684...|\n",
            "| 435887913|        114|       QUEENS|  09/05/2021|    18:04:00|  09/13/2021|    18:24:00|       COMPLETED|         null|      21821|                2|N.Y. HOUSING POLICE|  361|MISDEMEANOR|           INSIDE|OFF. AGNST PUB OR...|            null|PATROL BORO QUEEN...|  639|AGGRAVATED HARASS...|RESIDENCE - PUBLI...|09/15/2021|        null|         25-44|      WHITE HISPANIC|       M|            null|        45-64|      WHITE HISPANIC|      F|    POINT (-73.946190...|\n",
            "| 126669041|         30|    MANHATTAN|  09/17/2021|    10:53:00|  09/17/2021|    10:55:00|       COMPLETED|         null|       null|                0|   N.Y. POLICE DEPT|  578|  VIOLATION|         FRONT OF|       HARRASSMENT 2|            null|PATROL BORO MAN N...|  638|HARASSMENT,SUBD 3...|              STREET|09/17/2021|        null|         45-64|      WHITE HISPANIC|       M|            null|      UNKNOWN|             UNKNOWN|      M|    POINT (-73.954085...|\n",
            "| 117739752|        113|       QUEENS|  09/01/2021|    08:00:00|  09/15/2021|    20:00:00|       COMPLETED|         null|       null|                0|   N.Y. POLICE DEPT|  351|MISDEMEANOR|         FRONT OF|CRIMINAL MISCHIEF...|            null|PATROL BORO QUEEN...|  258|CRIMINAL MISCHIEF...|              CHURCH|09/22/2021|        null|       UNKNOWN|             UNKNOWN|       U|            null|      UNKNOWN|             UNKNOWN|      D|    POINT (-73.775940...|\n",
            "| 920867842|        121|STATEN ISLAND|  09/15/2021|    14:50:00|  09/15/2021|    15:12:00|       COMPLETED|         null|       null|                0|   N.Y. POLICE DEPT|  341|MISDEMEANOR|           INSIDE|       PETIT LARCENY|            null|PATROL BORO STATE...|  333|LARCENY,PETIT FRO...|          DRUG STORE|09/15/2021|        null|         25-44|      WHITE HISPANIC|       M|            null|      UNKNOWN|             UNKNOWN|      D|    POINT (-74.157252...|\n",
            "| 954829997|         70|     BROOKLYN|  09/20/2021|    21:00:00|  09/20/2021|    21:15:00|       COMPLETED|         null|       null|                0|   N.Y. POLICE DEPT|  578|  VIOLATION|           INSIDE|       HARRASSMENT 2|            null|PATROL BORO BKLYN...|  637|HARASSMENT,SUBD 1...|RESIDENCE - APT. ...|09/20/2021|        null|       UNKNOWN|               BLACK|       F|            null|          <18|      WHITE HISPANIC|      F|    POINT (-73.951246...|\n",
            "| 462466366|         20|    MANHATTAN|  09/04/2021|    13:00:00|  09/14/2021|    20:00:00|       COMPLETED|         null|       null|                0|   N.Y. POLICE DEPT|  341|MISDEMEANOR|           INSIDE|       PETIT LARCENY|            null|PATROL BORO MAN N...|  343|LARCENY,PETIT OF ...|RESIDENCE - APT. ...|09/15/2021|        null|          null|                null|    null|            null|        25-44|               WHITE|      M|    POINT (-73.979254...|\n",
            "| 732284792|         90|     BROOKLYN|  09/15/2021|    11:15:00|  09/15/2021|    12:18:00|       COMPLETED|         null|       null|                0|   N.Y. POLICE DEPT|  348|MISDEMEANOR|             null|VEHICLE AND TRAFF...|            null|PATROL BORO BKLYN...|  916|LEAVING SCENE-ACC...|              STREET|09/18/2021|        null|       UNKNOWN|ASIAN / PACIFIC I...|       M|            null|        45-64|               WHITE|      M|    POINT (-73.950400...|\n",
            "| 775479823|        109|       QUEENS|  09/16/2021|    19:00:00|  09/16/2021|    20:00:00|       COMPLETED|         null|       null|                0|   N.Y. POLICE DEPT|  109|     FELONY|           INSIDE|       GRAND LARCENY|            null|PATROL BORO QUEEN...|  415|LARCENY,GRAND FRO...|     PUBLIC BUILDING|09/16/2021|        null|       UNKNOWN|             UNKNOWN|       M|            null|        25-44|      WHITE HISPANIC|      F|    POINT (-73.833883...|\n",
            "| 422496947|        105|       QUEENS|  09/19/2021|    19:40:00|  09/19/2021|    19:45:00|       ATTEMPTED|         null|       null|                0|   N.Y. POLICE DEPT|  105|     FELONY|           INSIDE|             ROBBERY|            null|PATROL BORO QUEEN...|  389|    ROBBERY,DWELLING|     RESIDENCE-HOUSE|09/19/2021|        null|         25-44|               BLACK|       M|            null|        18-24|               BLACK|      M|    POINT (-73.725869...|\n",
            "| 915139395|         83|     BROOKLYN|  09/16/2021|    00:38:00|  09/16/2021|    00:39:00|       COMPLETED|         null|       null|                0|   N.Y. POLICE DEPT|  351|MISDEMEANOR|         FRONT OF|CRIMINAL MISCHIEF...|            null|PATROL BORO BKLYN...|  254|MISCHIEF, CRIMINA...|              STREET|09/16/2021|        null|       UNKNOWN|               BLACK|       M|            null|        25-44|               WHITE|      M|    POINT (-73.926244...|\n",
            "+----------+-----------+-------------+------------+------------+------------+------------+----------------+-------------+-----------+-----------------+-------------------+-----+-----------+-----------------+--------------------+----------------+--------------------+-----+--------------------+--------------------+----------+------------+--------------+--------------------+--------+----------------+-------------+--------------------+-------+------------------------+\n",
            "only showing top 100 rows\n",
            "\n"
          ]
        }
      ],
      "source": [
        "df.show(100)"
      ]
    },
    {
      "cell_type": "markdown",
      "metadata": {
        "id": "xQB6VENfU63C"
      },
      "source": [
        "Check if minimum and maximum values of date and time are valid or not. The value of time cannot be 24:00:00. "
      ]
    },
    {
      "cell_type": "code",
      "execution_count": null,
      "metadata": {
        "colab": {
          "base_uri": "https://localhost:8080/"
        },
        "id": "vVavFmZSuUoz",
        "outputId": "c50cc69d-96e7-4933-d6ed-d5a95563ac5f"
      },
      "outputs": [
        {
          "output_type": "stream",
          "name": "stdout",
          "text": [
            "+-----------------+\n",
            "|min(CMPLNT_FR_TM)|\n",
            "+-----------------+\n",
            "|         00:00:00|\n",
            "+-----------------+\n",
            "\n"
          ]
        }
      ],
      "source": [
        "## Minimum value of the column in pyspark\n",
        "df.agg({'CMPLNT_FR_TM': 'min'}).show()"
      ]
    },
    {
      "cell_type": "code",
      "execution_count": null,
      "metadata": {
        "colab": {
          "base_uri": "https://localhost:8080/"
        },
        "id": "Tono32lCucBj",
        "outputId": "4adde044-40de-49c9-e056-1dbb7a3ffcac"
      },
      "outputs": [
        {
          "output_type": "stream",
          "name": "stdout",
          "text": [
            "+-----------------+\n",
            "|max(CMPLNT_FR_TM)|\n",
            "+-----------------+\n",
            "|         23:59:00|\n",
            "+-----------------+\n",
            "\n"
          ]
        }
      ],
      "source": [
        "## Maximum value of the column in pyspark\n",
        "df.agg({'CMPLNT_FR_TM': 'max'}).show()"
      ]
    },
    {
      "cell_type": "code",
      "execution_count": null,
      "metadata": {
        "colab": {
          "base_uri": "https://localhost:8080/"
        },
        "id": "8papMV3_W4Bj",
        "outputId": "e18992e2-9cac-4224-b168-0670de2f92be"
      },
      "outputs": [
        {
          "output_type": "stream",
          "name": "stdout",
          "text": [
            "+-----------------+\n",
            "|min(CMPLNT_FR_DT)|\n",
            "+-----------------+\n",
            "|       01/01/1955|\n",
            "+-----------------+\n",
            "\n"
          ]
        }
      ],
      "source": [
        "df.agg({'CMPLNT_FR_DT': 'min'}).show()"
      ]
    },
    {
      "cell_type": "code",
      "execution_count": null,
      "metadata": {
        "colab": {
          "base_uri": "https://localhost:8080/"
        },
        "id": "tPxH9P8RW4OM",
        "outputId": "e7180e5a-d10c-4256-bc3c-81356260e0ba"
      },
      "outputs": [
        {
          "output_type": "stream",
          "name": "stdout",
          "text": [
            "+-----------------+\n",
            "|max(CMPLNT_FR_DT)|\n",
            "+-----------------+\n",
            "|       12/31/2020|\n",
            "+-----------------+\n",
            "\n"
          ]
        }
      ],
      "source": [
        "df.agg({'CMPLNT_FR_DT': 'max'}).show()"
      ]
    },
    {
      "cell_type": "markdown",
      "metadata": {
        "id": "StfFUDBsc_8R"
      },
      "source": [
        "**Some basic data quality checks are as below:**\n",
        "1. Check if there are no garbage values in the location of occurence description column. The valid values that this column should ideally contain are: 'FRONT OF', 'REAR OF', 'OUTSIDE', 'INSIDE', 'OPPOSITE OF'\n",
        "2. Check if there are no garbage values in law category column. The valid values are: 'FELONY', 'VIOLATION', 'MISDEMEANOR'\n",
        "3. Check if there are no misspellings in Borough Name. There should be 5 distinct boroughs: Manhattan, Bronx, Queens, Brooklyn, Staten Island. We implement unique method, in case of misspellings multiple values of the same borough would be returned.\n",
        "4. Check if 'CRM_ATPT_CPTD_CD' column has no garbage value. The only acceptable values are Completed or Attempted.\n",
        "5. Ideally, key code should contain only 3 digits. Implementing a check below to see if there are any invalid values for the key code. "
      ]
    },
    {
      "cell_type": "code",
      "execution_count": null,
      "metadata": {
        "colab": {
          "base_uri": "https://localhost:8080/"
        },
        "id": "bMCP753walMv",
        "outputId": "0c7240ba-6af8-43e1-977c-878e73e810bb"
      },
      "outputs": [
        {
          "output_type": "stream",
          "name": "stdout",
          "text": [
            "+-----------------+\n",
            "|LOC_OF_OCCUR_DESC|\n",
            "+-----------------+\n",
            "|      OPPOSITE OF|\n",
            "|          REAR OF|\n",
            "|             null|\n",
            "|           INSIDE|\n",
            "|          OUTSIDE|\n",
            "|         FRONT OF|\n",
            "+-----------------+\n",
            "\n"
          ]
        }
      ],
      "source": [
        "df.select('LOC_OF_OCCUR_DESC').distinct().show()"
      ]
    },
    {
      "cell_type": "code",
      "execution_count": null,
      "metadata": {
        "colab": {
          "base_uri": "https://localhost:8080/"
        },
        "id": "thhWypodbGdS",
        "outputId": "d56c39f0-5e91-4a78-ab21-a5e0665d24f6"
      },
      "outputs": [
        {
          "output_type": "stream",
          "name": "stdout",
          "text": [
            "+-----------+\n",
            "| LAW_CAT_CD|\n",
            "+-----------+\n",
            "|     FELONY|\n",
            "|MISDEMEANOR|\n",
            "|  VIOLATION|\n",
            "+-----------+\n",
            "\n"
          ]
        }
      ],
      "source": [
        "df.select('LAW_CAT_CD').distinct().show()"
      ]
    },
    {
      "cell_type": "markdown",
      "metadata": {
        "id": "GZowh0na-VjI"
      },
      "source": [
        "### Checks for Borough Name"
      ]
    },
    {
      "cell_type": "code",
      "execution_count": null,
      "metadata": {
        "colab": {
          "base_uri": "https://localhost:8080/"
        },
        "id": "8EkBxmg_bOue",
        "outputId": "41cceff9-9157-4af0-926d-804a90b35d3d"
      },
      "outputs": [
        {
          "output_type": "stream",
          "name": "stdout",
          "text": [
            "+-------------+\n",
            "|      BORO_NM|\n",
            "+-------------+\n",
            "|         null|\n",
            "|       QUEENS|\n",
            "|     BROOKLYN|\n",
            "|        BRONX|\n",
            "|    MANHATTAN|\n",
            "|STATEN ISLAND|\n",
            "+-------------+\n",
            "\n"
          ]
        }
      ],
      "source": [
        "df.select('BORO_NM').distinct().show()"
      ]
    },
    {
      "cell_type": "markdown",
      "metadata": {
        "id": "CLGPDp3OAdxF"
      },
      "source": [
        "We can see there are no misspellings for the Borough names and thus no need for additional data correction for the same."
      ]
    },
    {
      "cell_type": "code",
      "execution_count": null,
      "metadata": {
        "colab": {
          "base_uri": "https://localhost:8080/"
        },
        "id": "TGS80nUK-O1f",
        "outputId": "d3c53633-0704-46e3-a2b3-a166f7972a29"
      },
      "outputs": [
        {
          "output_type": "stream",
          "name": "stdout",
          "text": [
            "+----------+-----------+-------+------------+------------+------------+------------+----------------+----------+-----------+-----------------+-------------------+-----+-----------+-----------------+--------------------+--------+--------------------+-----+--------------------+--------------------+----------+------------+--------------+---------+--------+----------------+-------------+--------------------+-------+------------------------+\n",
            "|CMPLNT_NUM|ADDR_PCT_CD|BORO_NM|CMPLNT_FR_DT|CMPLNT_FR_TM|CMPLNT_TO_DT|CMPLNT_TO_TM|CRM_ATPT_CPTD_CD|HADEVELOPT|HOUSING_PSA|JURISDICTION_CODE|         JURIS_DESC|KY_CD| LAW_CAT_CD|LOC_OF_OCCUR_DESC|           OFNS_DESC|PARKS_NM|         PATROL_BORO|PD_CD|             PD_DESC|       PREM_TYP_DESC|    RPT_DT|STATION_NAME|SUSP_AGE_GROUP|SUSP_RACE|SUSP_SEX|TRANSIT_DISTRICT|VIC_AGE_GROUP|            VIC_RACE|VIC_SEX|New Georeferenced Column|\n",
            "+----------+-----------+-------+------------+------------+------------+------------+----------------+----------+-----------+-----------------+-------------------+-----+-----------+-----------------+--------------------+--------+--------------------+-----+--------------------+--------------------+----------+------------+--------------+---------+--------+----------------+-------------+--------------------+-------+------------------------+\n",
            "| 972721133|         46|   null|  02/22/2021|    22:58:00|        null|        null|       COMPLETED|      null|       null|             null|   N.Y. POLICE DEPT|  101|     FELONY|          OUTSIDE|MURDER & NON-NEGL...|    null|                null| null|                null|                null|02/22/2021|        null|          null|     null|    null|            null|        25-44|               BLACK|      M|    POINT (-73.904783...|\n",
            "| 494595614|          6|   null|  08/18/2021|    09:25:00|        null|        null|       COMPLETED|      null|       null|                0|   N.Y. POLICE DEPT|  341|MISDEMEANOR|             null|       PETIT LARCENY|    null|PATROL BORO MAN S...|  352|LARCENY,PETIT FRO...|RESIDENCE - APT. ...|08/19/2021|        null|          null|     null|    null|            null|        25-44|               WHITE|      M|    POINT (-74.006243...|\n",
            "| 732541852|         20|   null|  07/05/2021|    14:05:00|        null|        null|       COMPLETED|      null|       null|                0|   N.Y. POLICE DEPT|  341|MISDEMEANOR|             null|       PETIT LARCENY|    null|PATROL BORO MAN N...|  333|LARCENY,PETIT FRO...|   CLOTHING/BOUTIQUE|07/09/2021|        null|          null|     null|    null|            null|        45-64|      WHITE HISPANIC|      D|    POINT (-73.979977...|\n",
            "| 284525633|         20|   null|  06/25/2021|    18:42:00|        null|        null|       COMPLETED|      null|       null|                0|   N.Y. POLICE DEPT|  341|MISDEMEANOR|             null|       PETIT LARCENY|    null|PATROL BORO MAN N...|  333|LARCENY,PETIT FRO...|   CLOTHING/BOUTIQUE|06/26/2021|        null|          null|     null|    null|            null|        45-64|               BLACK|      D|    POINT (-73.982068...|\n",
            "| 688102203|          9|   null|  05/24/2021|    15:23:00|  05/30/2021|    15:23:00|       COMPLETED|      null|       null|                0|   N.Y. POLICE DEPT|  109|     FELONY|             null|       GRAND LARCENY|    null|PATROL BORO MAN S...|  458|LARCENY,GRAND FRO...|RESIDENCE - APT. ...|06/14/2021|        null|          null|     null|    null|            null|        18-24|      WHITE HISPANIC|      M|    POINT (-73.987796...|\n",
            "| 854455675|         48|   null|  09/29/2021|    12:50:00|        null|        null|       COMPLETED|      null|       null|             null|   N.Y. POLICE DEPT|  101|     FELONY|          OUTSIDE|MURDER & NON-NEGL...|    null|                null| null|                null|                null|09/29/2021|        null|          null|     null|    null|            null|          <18|      BLACK HISPANIC|      M|    POINT (-73.882203...|\n",
            "| 212598641|         44|   null|  08/24/2021|    16:45:00|        null|        null|       COMPLETED|      null|       null|             null|   N.Y. POLICE DEPT|  101|     FELONY|           INSIDE|MURDER & NON-NEGL...|    null|                null| null|                null|                null|08/24/2021|        null|         25-44|    BLACK|       M|            null|        45-64|               BLACK|      M|    POINT (-73.920765...|\n",
            "| 287839752|         42|   null|  09/23/2021|    02:01:00|        null|        null|       COMPLETED|      null|       null|             null|N.Y. HOUSING POLICE|  101|     FELONY|          OUTSIDE|MURDER & NON-NEGL...|    null|                null| null|                null|                null|09/23/2021|        null|          null|     null|    null|            null|        18-24|               BLACK|      M|    POINT (-73.903177...|\n",
            "| 184397249|         14|   null|  09/03/2021|    00:58:00|        null|        null|       COMPLETED|      null|       null|                0|   N.Y. POLICE DEPT|  341|MISDEMEANOR|             null|       PETIT LARCENY|    null|PATROL BORO MAN S...|  352|LARCENY,PETIT FRO...|RESIDENCE - APT. ...|09/09/2021|        null|          null|     null|    null|            null|        18-24|ASIAN / PACIFIC I...|      F|    POINT (-73.985594...|\n",
            "| 741028831|         88|   null|  05/21/2021|    00:15:00|        null|        null|       COMPLETED| INGERSOLL|       null|             null|N.Y. HOUSING POLICE|  101|     FELONY|          OUTSIDE|MURDER & NON-NEGL...|    null|                null| null|                null|                null|05/21/2021|        null|          null|     null|    null|            null|        25-44|               BLACK|      M|    POINT (-73.981736...|\n",
            "| 955061123|         30|   null|  06/01/2021|    13:00:00|        null|        null|       COMPLETED|      null|       null|                0|   N.Y. POLICE DEPT|  341|MISDEMEANOR|             null|       PETIT LARCENY|    null|PATROL BORO MAN N...|  352|LARCENY,PETIT FRO...|RESIDENCE - APT. ...|06/06/2021|        null|       UNKNOWN|  UNKNOWN|       U|            null|        25-44|      WHITE HISPANIC|      F|    POINT (-73.943989...|\n",
            "| 181147377|          9|   null|  08/30/2021|    07:00:00|  09/02/2021|    07:00:00|       COMPLETED|      null|       null|                0|   N.Y. POLICE DEPT|  341|MISDEMEANOR|             null|       PETIT LARCENY|    null|PATROL BORO MAN S...|  343|LARCENY,PETIT OF ...|RESIDENCE - APT. ...|09/02/2021|        null|          null|     null|    null|            null|        18-24|               WHITE|      M|    POINT (-73.987030...|\n",
            "| 335960794|         13|   null|  07/30/2021|    14:23:00|        null|        null|       COMPLETED|      null|       null|                0|   N.Y. POLICE DEPT|  341|MISDEMEANOR|             null|       PETIT LARCENY|    null|PATROL BORO MAN S...|  352|LARCENY,PETIT FRO...|RESIDENCE - APT. ...|08/02/2021|        null|          null|     null|    null|            null|        25-44|               WHITE|      M|    POINT (-73.981784...|\n",
            "| 678802236|         48|   null|  05/09/2021|    03:48:00|        null|        null|       COMPLETED|      null|       null|             null|   N.Y. POLICE DEPT|  101|     FELONY|           INSIDE|MURDER & NON-NEGL...|    null|                null| null|                null|                null|05/09/2021|        null|         25-44|    BLACK|       M|            null|        25-44|               BLACK|      M|    POINT (-73.890417...|\n",
            "| 472037215|         75|   null|  08/13/2021|    04:40:00|        null|        null|       COMPLETED|      null|       null|             null|N.Y. HOUSING POLICE|  101|     FELONY|           INSIDE|MURDER & NON-NEGL...|    null|                null| null|                null|                null|08/13/2021|        null|          null|     null|    null|            null|        45-64|               BLACK|      M|    POINT (-73.881415...|\n",
            "| 596732969|         19|   null|  07/04/2021|    12:20:00|  07/04/2021|    12:22:00|       COMPLETED|      null|       null|                0|   N.Y. POLICE DEPT|  341|MISDEMEANOR|             null|       PETIT LARCENY|    null|PATROL BORO MAN N...|  333|LARCENY,PETIT FRO...|   CLOTHING/BOUTIQUE|07/05/2021|        null|          null|     null|    null|            null|        18-24|      WHITE HISPANIC|      D|    POINT (-73.954235...|\n",
            "| 412951486|         13|   null|  06/23/2021|    09:30:00|  06/23/2021|    18:30:00|       COMPLETED|      null|       null|                0|   N.Y. POLICE DEPT|  341|MISDEMEANOR|             null|       PETIT LARCENY|    null|PATROL BORO MAN S...|  343|LARCENY,PETIT OF ...|            BUS STOP|06/23/2021|        null|          null|     null|    null|            null|        25-44|               WHITE|      F|    POINT (-73.982962...|\n",
            "| 517266360|         40|   null|  08/30/2021|    01:45:00|  08/30/2021|    01:50:00|       COMPLETED|      null|       null|                1|N.Y. TRANSIT POLICE|  351|MISDEMEANOR|             null|CRIMINAL MISCHIEF...|    null|   PATROL BORO BRONX|  259|CRIMINAL MISCHIEF...|TRANSIT - NYC SUBWAY|08/30/2021|BROOK AVENUE|         25-44|    BLACK|       U|              12|      UNKNOWN|             UNKNOWN|      D|    POINT (-73.924942...|\n",
            "| 127508929|         10|   null|  07/25/2021|    22:00:00|  07/26/2021|    00:00:00|       COMPLETED|      null|       null|                0|   N.Y. POLICE DEPT|  341|MISDEMEANOR|             null|       PETIT LARCENY|    null|PATROL BORO MAN S...|  321|LARCENY,PETIT FRO...|              STREET|07/27/2021|        null|          null|     null|    null|            null|        25-44|               WHITE|      M|    POINT (-73.998428...|\n",
            "| 211043230|         33|   null|  06/21/2021|    11:45:00|        null|        null|       COMPLETED|      null|       null|                0|   N.Y. POLICE DEPT|  341|MISDEMEANOR|             null|       PETIT LARCENY|    null|PATROL BORO MAN N...|  352|LARCENY,PETIT FRO...|RESIDENCE - APT. ...|07/07/2021|        null|          null|     null|    null|            null|        25-44|ASIAN / PACIFIC I...|      F|    POINT (-73.941863...|\n",
            "+----------+-----------+-------+------------+------------+------------+------------+----------------+----------+-----------+-----------------+-------------------+-----+-----------+-----------------+--------------------+--------+--------------------+-----+--------------------+--------------------+----------+------------+--------------+---------+--------+----------------+-------------+--------------------+-------+------------------------+\n",
            "only showing top 20 rows\n",
            "\n"
          ]
        }
      ],
      "source": [
        "df.where(col('BORO_NM').isNull()).show()"
      ]
    },
    {
      "cell_type": "markdown",
      "metadata": {
        "id": "8PBAVylwS6md"
      },
      "source": [
        "#### Dropping Rows where Borough Name is NULL"
      ]
    },
    {
      "cell_type": "code",
      "execution_count": null,
      "metadata": {
        "id": "3lxbjLgg37V8"
      },
      "outputs": [],
      "source": [
        "df = df.filter(df.BORO_NM.isNotNull())"
      ]
    },
    {
      "cell_type": "code",
      "execution_count": null,
      "metadata": {
        "colab": {
          "base_uri": "https://localhost:8080/"
        },
        "id": "BdsO97LX6bSs",
        "outputId": "81cbf170-2b26-4bee-c934-d6cacade19ae"
      },
      "outputs": [
        {
          "output_type": "execute_result",
          "data": {
            "text/plain": [
              "323046"
            ]
          },
          "metadata": {},
          "execution_count": 111
        }
      ],
      "source": [
        "df.count()"
      ]
    },
    {
      "cell_type": "code",
      "execution_count": null,
      "metadata": {
        "colab": {
          "base_uri": "https://localhost:8080/"
        },
        "id": "5TxYWPFN-mP5",
        "outputId": "6573c496-2620-4985-95c2-71d6c4554d6e"
      },
      "outputs": [
        {
          "output_type": "stream",
          "name": "stdout",
          "text": [
            "+----------+-----------+-------+------------+------------+------------+------------+----------------+----------+-----------+-----------------+----------+-----+----------+-----------------+---------+--------+-----------+-----+-------+-------------+------+------------+--------------+---------+--------+----------------+-------------+--------+-------+------------------------+\n",
            "|CMPLNT_NUM|ADDR_PCT_CD|BORO_NM|CMPLNT_FR_DT|CMPLNT_FR_TM|CMPLNT_TO_DT|CMPLNT_TO_TM|CRM_ATPT_CPTD_CD|HADEVELOPT|HOUSING_PSA|JURISDICTION_CODE|JURIS_DESC|KY_CD|LAW_CAT_CD|LOC_OF_OCCUR_DESC|OFNS_DESC|PARKS_NM|PATROL_BORO|PD_CD|PD_DESC|PREM_TYP_DESC|RPT_DT|STATION_NAME|SUSP_AGE_GROUP|SUSP_RACE|SUSP_SEX|TRANSIT_DISTRICT|VIC_AGE_GROUP|VIC_RACE|VIC_SEX|New Georeferenced Column|\n",
            "+----------+-----------+-------+------------+------------+------------+------------+----------------+----------+-----------+-----------------+----------+-----+----------+-----------------+---------+--------+-----------+-----+-------+-------------+------+------------+--------------+---------+--------+----------------+-------------+--------+-------+------------------------+\n",
            "+----------+-----------+-------+------------+------------+------------+------------+----------------+----------+-----------+-----------------+----------+-----+----------+-----------------+---------+--------+-----------+-----+-------+-------------+------+------------+--------------+---------+--------+----------------+-------------+--------+-------+------------------------+\n",
            "\n"
          ]
        }
      ],
      "source": [
        "df.filter(df.BORO_NM.isNull()).show()"
      ]
    },
    {
      "cell_type": "markdown",
      "metadata": {
        "id": "zAqM8qC-TG9A"
      },
      "source": [
        "#### Check if all Rows of the column 'CRM_ATPT_CPTD_CD' have the expected values. Either Completed or Atempted. From the statistics above, there are only 7 rows that have null value for this column. Since it constitutes of very less percentage of the entire dataset, we decided to drop the rows that have null values for this column."
      ]
    },
    {
      "cell_type": "code",
      "execution_count": null,
      "metadata": {
        "colab": {
          "base_uri": "https://localhost:8080/"
        },
        "id": "wpbd5kWucpl7",
        "outputId": "9e7756ee-5916-4cc2-9cd8-0d80a87cdb64"
      },
      "outputs": [
        {
          "output_type": "stream",
          "name": "stdout",
          "text": [
            "+----------------+\n",
            "|CRM_ATPT_CPTD_CD|\n",
            "+----------------+\n",
            "|       ATTEMPTED|\n",
            "|       COMPLETED|\n",
            "|            null|\n",
            "+----------------+\n",
            "\n"
          ]
        }
      ],
      "source": [
        "df.select('CRM_ATPT_CPTD_CD').distinct().show()"
      ]
    },
    {
      "cell_type": "code",
      "execution_count": null,
      "metadata": {
        "colab": {
          "base_uri": "https://localhost:8080/"
        },
        "id": "_K_7XHFjD1ZI",
        "outputId": "7d366987-ec27-4ef3-944d-bd63de2269dd"
      },
      "outputs": [
        {
          "output_type": "stream",
          "name": "stdout",
          "text": [
            "+----------------+------+\n",
            "|CRM_ATPT_CPTD_CD| count|\n",
            "+----------------+------+\n",
            "|       COMPLETED|318245|\n",
            "|       ATTEMPTED|  4698|\n",
            "|            null|   103|\n",
            "+----------------+------+\n",
            "\n"
          ]
        }
      ],
      "source": [
        "# similar to pandas' value_counts\n",
        "df.groupBy('CRM_ATPT_CPTD_CD').count().orderBy('count', ascending=False).show()"
      ]
    },
    {
      "cell_type": "code",
      "execution_count": null,
      "metadata": {
        "colab": {
          "base_uri": "https://localhost:8080/"
        },
        "id": "Y3TdQMPuGJup",
        "outputId": "30423213-2091-4627-c49d-cc63c0d19997"
      },
      "outputs": [
        {
          "output_type": "stream",
          "name": "stdout",
          "text": [
            "+----------+-----------+---------+------------+------------+------------+------------+----------------+----------+-----------+-----------------+----------------+-----+-----------+-----------------+-------------+--------+--------------------+-----+--------------------+--------------------+----------+------------+--------------+---------+--------+----------------+-------------+--------------------+-------+------------------------+\n",
            "|CMPLNT_NUM|ADDR_PCT_CD|  BORO_NM|CMPLNT_FR_DT|CMPLNT_FR_TM|CMPLNT_TO_DT|CMPLNT_TO_TM|CRM_ATPT_CPTD_CD|HADEVELOPT|HOUSING_PSA|JURISDICTION_CODE|      JURIS_DESC|KY_CD| LAW_CAT_CD|LOC_OF_OCCUR_DESC|    OFNS_DESC|PARKS_NM|         PATROL_BORO|PD_CD|             PD_DESC|       PREM_TYP_DESC|    RPT_DT|STATION_NAME|SUSP_AGE_GROUP|SUSP_RACE|SUSP_SEX|TRANSIT_DISTRICT|VIC_AGE_GROUP|            VIC_RACE|VIC_SEX|New Georeferenced Column|\n",
            "+----------+-----------+---------+------------+------------+------------+------------+----------------+----------+-----------+-----------------+----------------+-----+-----------+-----------------+-------------+--------+--------------------+-----+--------------------+--------------------+----------+------------+--------------+---------+--------+----------------+-------------+--------------------+-------+------------------------+\n",
            "| 333081822|         75| BROOKLYN|  03/13/2021|    13:12:00|        null|        null|            null|      null|       null|                0|N.Y. POLICE DEPT|  341|MISDEMEANOR|             null|PETIT LARCENY|    null|PATROL BORO BKLYN...|  353|LARCENY,PETIT FRO...|                null|03/25/2021|        null|          null|     null|    null|            null|        25-44|               BLACK|      F|    POINT (-73.881511...|\n",
            "| 434895901|         61| BROOKLYN|  04/12/2021|    10:04:00|        null|        null|            null|      null|       null|                0|N.Y. POLICE DEPT|  341|MISDEMEANOR|             null|PETIT LARCENY|    null|PATROL BORO BKLYN...|  333|LARCENY,PETIT FRO...|               OTHER|04/13/2021|        null|          null|     null|    null|            null|        25-44|               BLACK|      D|    POINT (-73.959809...|\n",
            "| 799739217|         20|MANHATTAN|  04/17/2021|    11:39:00|  04/17/2021|    11:45:00|            null|      null|       null|                0|N.Y. POLICE DEPT|  341|MISDEMEANOR|             null|PETIT LARCENY|    null|PATROL BORO MAN N...|  333|LARCENY,PETIT FRO...|         CHAIN STORE|04/19/2021|        null|          null|     null|    null|            null|        18-24|      WHITE HISPANIC|      D|    POINT (-73.982242...|\n",
            "| 413616645|         61| BROOKLYN|  04/12/2021|    12:05:00|        null|        null|            null|      null|       null|                0|N.Y. POLICE DEPT|  341|MISDEMEANOR|             null|PETIT LARCENY|    null|PATROL BORO BKLYN...|  333|LARCENY,PETIT FRO...|               OTHER|04/13/2021|        null|          null|     null|    null|            null|        25-44|               BLACK|      D|    POINT (-73.959809...|\n",
            "| 334253674|         70| BROOKLYN|  04/09/2021|    19:05:00|        null|        null|            null|      null|       null|                0|N.Y. POLICE DEPT|  341|MISDEMEANOR|             null|PETIT LARCENY|    null|PATROL BORO BKLYN...|  352|LARCENY,PETIT FRO...|RESIDENCE - APT. ...|04/10/2021|        null|          null|     null|    null|            null|        25-44|               BLACK|      M|    POINT (-73.961299...|\n",
            "| 798337847|         70| BROOKLYN|  04/16/2021|    20:34:00|        null|        null|            null|      null|       null|                0|N.Y. POLICE DEPT|  341|MISDEMEANOR|             null|PETIT LARCENY|    null|PATROL BORO BKLYN...|  333|LARCENY,PETIT FRO...|    DEPARTMENT STORE|04/19/2021|        null|          null|     null|    null|            null|        18-24|               BLACK|      D|    POINT (-73.945996...|\n",
            "| 903882866|         75| BROOKLYN|  02/20/2021|    17:15:00|        null|        null|            null|      null|       null|                0|N.Y. POLICE DEPT|  341|MISDEMEANOR|             null|PETIT LARCENY|    null|PATROL BORO BKLYN...|  352|LARCENY,PETIT FRO...|                null|03/26/2021|        null|          null|     null|    null|            null|        25-44|               BLACK|      F|    POINT (-73.883754...|\n",
            "| 298110213|        112|   QUEENS|  03/23/2021|    10:30:00|        null|        null|            null|      null|       null|                0|N.Y. POLICE DEPT|  341|MISDEMEANOR|             null|PETIT LARCENY|    null|PATROL BORO QUEEN...|  353|LARCENY,PETIT FRO...|                null|03/26/2021|        null|          null|     null|    null|            null|        45-64|ASIAN / PACIFIC I...|      M|    POINT (-73.848843...|\n",
            "| 575598792|         72| BROOKLYN|  10/31/2020|    00:00:00|        null|        null|            null|      null|       null|                0|N.Y. POLICE DEPT|  341|MISDEMEANOR|             null|PETIT LARCENY|    null|PATROL BORO BKLYN...|  352|LARCENY,PETIT FRO...|RESIDENCE - APT. ...|04/01/2021|        null|          null|     null|    null|            null|        25-44|               WHITE|      M|    POINT (-74.000441...|\n",
            "| 171982078|         75| BROOKLYN|  04/05/2021|    19:20:00|  04/05/2021|    19:37:00|            null|      null|       null|                0|N.Y. POLICE DEPT|  341|MISDEMEANOR|             null|PETIT LARCENY|    null|PATROL BORO BKLYN...|  333|LARCENY,PETIT FRO...|         CHAIN STORE|04/14/2021|        null|          null|     null|    null|            null|        18-24|      WHITE HISPANIC|      D|    POINT (-73.868446...|\n",
            "| 168294145|         83| BROOKLYN|  03/20/2021|    05:54:00|  03/22/2021|    05:54:00|            null|      null|       null|                0|N.Y. POLICE DEPT|  341|MISDEMEANOR|             null|PETIT LARCENY|    null|PATROL BORO BKLYN...|  353|LARCENY,PETIT FRO...|RESIDENCE - APT. ...|03/26/2021|        null|          null|     null|    null|            null|        25-44|                null|      M|    POINT (-73.913099...|\n",
            "| 567705532|         75| BROOKLYN|  03/25/2021|    15:25:00|  03/25/2021|    15:25:00|            null|      null|       null|                0|N.Y. POLICE DEPT|  341|MISDEMEANOR|             null|PETIT LARCENY|    null|PATROL BORO BKLYN...|  353|LARCENY,PETIT FRO...|                null|03/29/2021|        null|          null|     null|    null|            null|        25-44|      WHITE HISPANIC|      F|    POINT (-73.882424...|\n",
            "| 684932982|         75| BROOKLYN|  04/11/2021|    19:03:00|  04/11/2021|    19:25:00|            null|      null|       null|                0|N.Y. POLICE DEPT|  341|MISDEMEANOR|             null|PETIT LARCENY|    null|PATROL BORO BKLYN...|  333|LARCENY,PETIT FRO...|         CHAIN STORE|04/13/2021|        null|          null|     null|    null|            null|        18-24|      WHITE HISPANIC|      D|    POINT (-73.868446...|\n",
            "| 909326143|         75| BROOKLYN|  04/14/2021|    09:42:00|  04/14/2021|    10:09:00|            null|      null|       null|                0|N.Y. POLICE DEPT|  341|MISDEMEANOR|             null|PETIT LARCENY|    null|PATROL BORO BKLYN...|  333|LARCENY,PETIT FRO...|         CHAIN STORE|04/14/2021|        null|          null|     null|    null|            null|        18-24|      WHITE HISPANIC|      D|    POINT (-73.868446...|\n",
            "| 998785543|         63| BROOKLYN|  04/03/2021|    12:15:00|  04/05/2021|    12:15:00|            null|      null|       null|                0|N.Y. POLICE DEPT|  341|MISDEMEANOR|             null|PETIT LARCENY|    null|PATROL BORO BKLYN...|  353|LARCENY,PETIT FRO...|     RESIDENCE-HOUSE|04/08/2021|        null|          null|     null|    null|            null|        25-44|               WHITE|      M|    POINT (-73.903997...|\n",
            "| 940112841|         75| BROOKLYN|  04/16/2021|    19:00:00|        null|        null|            null|      null|       null|                0|N.Y. POLICE DEPT|  341|MISDEMEANOR|             null|PETIT LARCENY|    null|PATROL BORO BKLYN...|  352|LARCENY,PETIT FRO...|RESIDENCE - APT. ...|04/18/2021|        null|          null|     null|    null|            null|        25-44|               BLACK|      F|    POINT (-73.891937...|\n",
            "| 750773770|        110|   QUEENS|  04/03/2021|    15:00:00|        null|        null|            null|      null|       null|                0|N.Y. POLICE DEPT|  341|MISDEMEANOR|             null|PETIT LARCENY|    null|PATROL BORO QUEEN...|  353|LARCENY,PETIT FRO...|     RESIDENCE-HOUSE|04/08/2021|        null|          null|     null|    null|            null|        25-44|                null|      F|    POINT (-73.871070...|\n",
            "| 509538449|         73| BROOKLYN|  03/21/2021|    07:59:00|        null|        null|            null|      null|       null|                0|N.Y. POLICE DEPT|  341|MISDEMEANOR|             null|PETIT LARCENY|    null|PATROL BORO BKLYN...|  353|LARCENY,PETIT FRO...|RESIDENCE - PUBLI...|04/08/2021|        null|          null|     null|    null|            null|        45-64|               BLACK|      F|    POINT (-73.910707...|\n",
            "| 178294329|         75| BROOKLYN|  03/26/2021|    21:23:00|  03/26/2021|    21:57:00|            null|      null|       null|                0|N.Y. POLICE DEPT|  341|MISDEMEANOR|             null|PETIT LARCENY|    null|PATROL BORO BKLYN...|  333|LARCENY,PETIT FRO...|                null|03/27/2021|        null|          null|     null|    null|            null|        18-24|      WHITE HISPANIC|      D|    POINT (-73.868446...|\n",
            "| 281947402|         75| BROOKLYN|  03/28/2021|    18:09:00|  03/28/2021|    18:13:00|            null|      null|       null|                0|N.Y. POLICE DEPT|  341|MISDEMEANOR|             null|PETIT LARCENY|    null|PATROL BORO BKLYN...|  333|LARCENY,PETIT FRO...|                null|03/28/2021|        null|          null|     null|    null|            null|        18-24|      WHITE HISPANIC|      D|    POINT (-73.868446...|\n",
            "+----------+-----------+---------+------------+------------+------------+------------+----------------+----------+-----------+-----------------+----------------+-----+-----------+-----------------+-------------+--------+--------------------+-----+--------------------+--------------------+----------+------------+--------------+---------+--------+----------------+-------------+--------------------+-------+------------------------+\n",
            "only showing top 20 rows\n",
            "\n"
          ]
        }
      ],
      "source": [
        "df.filter(df.CRM_ATPT_CPTD_CD.isNull()).show()"
      ]
    },
    {
      "cell_type": "code",
      "execution_count": null,
      "metadata": {
        "id": "4tSswxvLFhqd"
      },
      "outputs": [],
      "source": [
        "df = df.filter(df.CRM_ATPT_CPTD_CD.isNotNull())"
      ]
    },
    {
      "cell_type": "code",
      "execution_count": null,
      "metadata": {
        "colab": {
          "base_uri": "https://localhost:8080/"
        },
        "id": "lkZeVnh4-ta4",
        "outputId": "904faa54-0dbe-4048-9a14-353e9d09963b"
      },
      "outputs": [
        {
          "output_type": "execute_result",
          "data": {
            "text/plain": [
              "322943"
            ]
          },
          "metadata": {},
          "execution_count": 117
        }
      ],
      "source": [
        "df.count()"
      ]
    },
    {
      "cell_type": "markdown",
      "metadata": {
        "id": "yrZc_yocN8wq"
      },
      "source": [
        "#### We can see that all the key codes are valid 3-digit numbers"
      ]
    },
    {
      "cell_type": "code",
      "execution_count": null,
      "metadata": {
        "colab": {
          "base_uri": "https://localhost:8080/"
        },
        "id": "LpMZbUBasZQa",
        "outputId": "ac521a7b-0e10-4366-f6f3-13601cc8bb80"
      },
      "outputs": [
        {
          "output_type": "execute_result",
          "data": {
            "text/plain": [
              "0"
            ]
          },
          "metadata": {},
          "execution_count": 118
        }
      ],
      "source": [
        "df.filter((df.KY_CD < 100) | (df.KY_CD > 999)).count()"
      ]
    },
    {
      "cell_type": "markdown",
      "metadata": {
        "id": "2yoI3xH_tbtM"
      },
      "source": [
        "## Defining checks for outliers in age group"
      ]
    },
    {
      "cell_type": "code",
      "execution_count": null,
      "metadata": {
        "colab": {
          "base_uri": "https://localhost:8080/"
        },
        "id": "DPf0c3XRtMth",
        "outputId": "1ce630b0-230d-415b-f752-3c11566e2660"
      },
      "outputs": [
        {
          "output_type": "stream",
          "name": "stdout",
          "text": [
            "+--------------+\n",
            "|SUSP_AGE_GROUP|\n",
            "+--------------+\n",
            "|           940|\n",
            "|           938|\n",
            "|          1032|\n",
            "|           <18|\n",
            "|         25-44|\n",
            "|          null|\n",
            "|          -946|\n",
            "|          -971|\n",
            "|       UNKNOWN|\n",
            "|           -69|\n",
            "|           65+|\n",
            "|         18-24|\n",
            "|          2021|\n",
            "|          -955|\n",
            "|         45-64|\n",
            "|          -941|\n",
            "|          -966|\n",
            "|          -969|\n",
            "|          1017|\n",
            "|          -973|\n",
            "+--------------+\n",
            "only showing top 20 rows\n",
            "\n"
          ]
        }
      ],
      "source": [
        "df.select('SUSP_AGE_GROUP').distinct().show()"
      ]
    },
    {
      "cell_type": "markdown",
      "metadata": {
        "id": "PupPgsepOcUV"
      },
      "source": [
        "#### There are many invalid age groups like negative values, unrealistically high age groups, etc.\n",
        "\n",
        "#### Lets find all the invalid age groups and replace them with `NaN`"
      ]
    },
    {
      "cell_type": "code",
      "execution_count": null,
      "metadata": {
        "id": "4PZeQuUBtmaT",
        "colab": {
          "base_uri": "https://localhost:8080/"
        },
        "outputId": "671a18af-3c8e-4fdc-b369-7f15406a5576"
      },
      "outputs": [
        {
          "output_type": "stream",
          "name": "stdout",
          "text": [
            "+----------+-----------+---------+------------+------------+------------+------------+----------------+-------------+-----------+-----------------+-------------------+-----+-----------+-----------------+--------------------+--------+--------------------+-----+--------------------+--------------------+----------+------------+--------------+--------------------+--------+----------------+-------------+--------------------+-------+------------------------+\n",
            "|CMPLNT_NUM|ADDR_PCT_CD|  BORO_NM|CMPLNT_FR_DT|CMPLNT_FR_TM|CMPLNT_TO_DT|CMPLNT_TO_TM|CRM_ATPT_CPTD_CD|   HADEVELOPT|HOUSING_PSA|JURISDICTION_CODE|         JURIS_DESC|KY_CD| LAW_CAT_CD|LOC_OF_OCCUR_DESC|           OFNS_DESC|PARKS_NM|         PATROL_BORO|PD_CD|             PD_DESC|       PREM_TYP_DESC|    RPT_DT|STATION_NAME|SUSP_AGE_GROUP|           SUSP_RACE|SUSP_SEX|TRANSIT_DISTRICT|VIC_AGE_GROUP|            VIC_RACE|VIC_SEX|New Georeferenced Column|\n",
            "+----------+-----------+---------+------------+------------+------------+------------+----------------+-------------+-----------+-----------------+-------------------+-----+-----------+-----------------+--------------------+--------+--------------------+-----+--------------------+--------------------+----------+------------+--------------+--------------------+--------+----------------+-------------+--------------------+-------+------------------------+\n",
            "| 273094339|         48|    BRONX|  09/28/2021|    22:50:00|  09/28/2021|    22:55:00|       COMPLETED|         null|       null|                0|   N.Y. POLICE DEPT|  358|MISDEMEANOR|             null|OFFENSES INVOLVIN...|    null|   PATROL BORO BRONX|  705|  FORGERY,ETC.-MISD.|              STREET|09/28/2021|        null|         18-24|               BLACK|       M|            null|      UNKNOWN|             UNKNOWN|      E|    POINT (-73.899501...|\n",
            "| 380472497|         10|MANHATTAN|  09/29/2021|    02:00:00|  09/29/2021|    03:00:00|       COMPLETED|         null|       null|                0|   N.Y. POLICE DEPT|  341|MISDEMEANOR|             null|       PETIT LARCENY|    null|PATROL BORO MAN S...|  339|LARCENY,PETIT FRO...|              STREET|09/30/2021|        null|           NaN|             UNKNOWN|       U|            null|        25-44|      WHITE HISPANIC|      M|    POINT (-73.999185...|\n",
            "| 196902441|         18|MANHATTAN|  09/27/2021|    08:15:00|  09/28/2021|    11:30:00|       COMPLETED|         null|       null|                0|   N.Y. POLICE DEPT|  341|MISDEMEANOR|           INSIDE|       PETIT LARCENY|    null|PATROL BORO MAN S...|  305|LARCENY,PETIT BY ...|RESIDENCE - APT. ...|09/29/2021|        null|           NaN|             UNKNOWN|       U|            null|          65+|               WHITE|      F|    POINT (-73.985243...|\n",
            "| 629672413|         43|    BRONX|  09/29/2021|    18:00:00|        null|        null|       COMPLETED|         null|       null|                0|   N.Y. POLICE DEPT|  351|MISDEMEANOR|         FRONT OF|CRIMINAL MISCHIEF...|    null|   PATROL BORO BRONX|  259|CRIMINAL MISCHIEF...|              STREET|09/30/2021|        null|           NaN|                null|    null|            null|        25-44|               BLACK|      F|    POINT (-73.879620...|\n",
            "| 748176739|         33|MANHATTAN|  09/23/2021|    09:20:00|  09/23/2021|    09:23:00|       COMPLETED|         null|       null|                0|   N.Y. POLICE DEPT|  341|MISDEMEANOR|           INSIDE|       PETIT LARCENY|    null|PATROL BORO MAN N...|  333|LARCENY,PETIT FRO...|    DEPARTMENT STORE|09/23/2021|        null|           NaN|             UNKNOWN|       U|            null|      UNKNOWN|             UNKNOWN|      D|    POINT (-73.945008...|\n",
            "| 722070159|         61| BROOKLYN|  08/26/2021|    11:43:00|  08/26/2021|    11:44:00|       COMPLETED|         null|       null|                0|   N.Y. POLICE DEPT|  109|     FELONY|           INSIDE|       GRAND LARCENY|    null|PATROL BORO BKLYN...|  402|LARCENY,GRAND BY ...| COMMERCIAL BUILDING|09/30/2021|        null|           NaN|             UNKNOWN|       U|            null|      UNKNOWN|             UNKNOWN|      D|    POINT (-73.949998...|\n",
            "| 543059262|          1|MANHATTAN|  09/29/2021|    09:03:00|  09/29/2021|    09:08:00|       COMPLETED|         null|       null|                0|   N.Y. POLICE DEPT|  341|MISDEMEANOR|           INSIDE|       PETIT LARCENY|    null|PATROL BORO MAN S...|  333|LARCENY,PETIT FRO...|         CHAIN STORE|09/29/2021|        null|         25-44|               WHITE|       M|            null|      UNKNOWN|             UNKNOWN|      D|    POINT (-74.011443...|\n",
            "| 783029647|        104|   QUEENS|  09/25/2021|    19:30:00|  09/25/2021|    19:35:00|       COMPLETED|         null|       null|                0|   N.Y. POLICE DEPT|  344|MISDEMEANOR|             null|ASSAULT 3 & RELAT...|    null|PATROL BORO QUEEN...|  101|           ASSAULT 3|              STREET|09/25/2021|        null|         25-44|               BLACK|       M|            null|        18-24|      WHITE HISPANIC|      F|    POINT (-73.892717...|\n",
            "| 532097462|        102|   QUEENS|  09/26/2021|    20:40:00|  09/26/2021|    20:46:00|       COMPLETED|         null|       null|                0|   N.Y. POLICE DEPT|  344|MISDEMEANOR|           INSIDE|ASSAULT 3 & RELAT...|    null|PATROL BORO QUEEN...|  101|           ASSAULT 3|     RESIDENCE-HOUSE|09/26/2021|        null|         45-64|ASIAN / PACIFIC I...|       M|            null|        25-44|ASIAN / PACIFIC I...|      M|    POINT (-73.832478...|\n",
            "| 780553702|         44|    BRONX|  07/24/2021|    19:00:00|        null|        null|       COMPLETED|         null|       null|                0|   N.Y. POLICE DEPT|  109|     FELONY|           INSIDE|       GRAND LARCENY|    null|   PATROL BORO BRONX|  434|LARCENY,GRAND BY ...|RESIDENCE - APT. ...|09/29/2021|        null|           NaN|                null|    null|            null|        25-44|               BLACK|      F|    POINT (-73.913178...|\n",
            "| 199644527|         66| BROOKLYN|  09/28/2021|    19:00:00|  09/28/2021|    19:20:00|       COMPLETED|         null|       null|                0|   N.Y. POLICE DEPT|  578|  VIOLATION|           INSIDE|       HARRASSMENT 2|    null|PATROL BORO BKLYN...|  637|HARASSMENT,SUBD 1...|     RESIDENCE-HOUSE|09/28/2021|        null|         25-44|ASIAN / PACIFIC I...|       M|            null|        25-44|ASIAN / PACIFIC I...|      F|    POINT (-73.971419...|\n",
            "| 868022815|        106|   QUEENS|  09/11/2021|    17:00:00|  09/22/2021|    09:00:00|       COMPLETED|         null|       null|                0|   N.Y. POLICE DEPT|  109|     FELONY|           INSIDE|       GRAND LARCENY|    null|PATROL BORO QUEEN...|  418|LARCENY,GRAND BY ...|     RESIDENCE-HOUSE|09/24/2021|        null|           NaN|             UNKNOWN|       U|            null|        25-44|               WHITE|      M|    POINT (-73.847353...|\n",
            "| 413150264|         62| BROOKLYN|  09/24/2021|    09:15:00|  09/24/2021|    09:30:00|       COMPLETED|         null|       null|                0|   N.Y. POLICE DEPT|  361|MISDEMEANOR|           INSIDE|OFF. AGNST PUB OR...|    null|PATROL BORO BKLYN...|  639|AGGRAVATED HARASS...|RESIDENCE - APT. ...|09/24/2021|        null|         18-24|             UNKNOWN|       M|            null|        18-24|               BLACK|      F|    POINT (-74.011597...|\n",
            "| 822231972|         46|    BRONX|  09/26/2021|    23:40:00|  09/26/2021|    23:55:00|       COMPLETED|         null|       null|                0|   N.Y. POLICE DEPT|  341|MISDEMEANOR|           INSIDE|       PETIT LARCENY|    null|   PATROL BORO BRONX|  333|LARCENY,PETIT FRO...|         CHAIN STORE|09/27/2021|        null|         25-44|             UNKNOWN|       M|            null|      UNKNOWN|             UNKNOWN|      D|    POINT (-73.906024...|\n",
            "| 629987923|         41|    BRONX|  09/28/2021|    10:12:00|  09/28/2021|    10:20:00|       COMPLETED|         null|       null|                0|   N.Y. POLICE DEPT|  578|  VIOLATION|           INSIDE|       HARRASSMENT 2|    null|   PATROL BORO BRONX|  638|HARASSMENT,SUBD 3...|RESIDENCE - APT. ...|09/28/2021|        null|         45-64|      WHITE HISPANIC|       F|            null|        45-64|      WHITE HISPANIC|      M|    POINT (-73.887660...|\n",
            "| 741622034|         76| BROOKLYN|  09/26/2021|    19:00:00|  09/26/2021|    19:05:00|       COMPLETED|RED HOOK EAST|        265|                2|N.Y. HOUSING POLICE|  361|MISDEMEANOR|           INSIDE|OFF. AGNST PUB OR...|    null|PATROL BORO BKLYN...|  639|AGGRAVATED HARASS...|RESIDENCE - PUBLI...|09/29/2021|        null|         25-44|               BLACK|       M|            null|        25-44|               BLACK|      F|    POINT (-74.002925...|\n",
            "| 775907500|         68| BROOKLYN|  09/30/2021|    10:20:00|  09/30/2021|    10:22:00|       COMPLETED|         null|       null|                0|   N.Y. POLICE DEPT|  341|MISDEMEANOR|           INSIDE|       PETIT LARCENY|    null|PATROL BORO BKLYN...|  333|LARCENY,PETIT FRO...|          DRUG STORE|09/30/2021|        null|         25-44|               WHITE|       M|            null|      UNKNOWN|             UNKNOWN|      D|    POINT (-74.026817...|\n",
            "| 281927551|         90| BROOKLYN|  09/02/2021|    07:20:00|  09/02/2021|    07:27:00|       COMPLETED|         null|       3494|                2|N.Y. HOUSING POLICE|  361|MISDEMEANOR|           INSIDE|OFF. AGNST PUB OR...|    null|PATROL BORO BKLYN...|  639|AGGRAVATED HARASS...|RESIDENCE - PUBLI...|09/28/2021|        null|         18-24|               BLACK|       M|            null|          <18|               BLACK|      F|    POINT (-73.965999...|\n",
            "| 472915130|          6|MANHATTAN|  09/27/2021|    19:15:00|  09/27/2021|    19:25:00|       COMPLETED|         null|       null|                1|N.Y. TRANSIT POLICE|  109|     FELONY|             null|       GRAND LARCENY|    null|PATROL BORO MAN S...|  418|LARCENY,GRAND BY ...|TRANSIT - NYC SUBWAY|09/27/2021|   14 STREET|           NaN|             UNKNOWN|       U|               2|        25-44|               WHITE|      M|    POINT (-73.996840...|\n",
            "| 519984864|         32|MANHATTAN|  09/26/2021|    22:05:00|  09/26/2021|    22:08:00|       COMPLETED|         null|       null|                0|   N.Y. POLICE DEPT|  358|MISDEMEANOR|         FRONT OF|OFFENSES INVOLVIN...|    null|PATROL BORO MAN N...|  705|  FORGERY,ETC.-MISD.|              STREET|09/26/2021|        null|         25-44|               BLACK|       M|            null|      UNKNOWN|             UNKNOWN|      E|    POINT (-73.939230...|\n",
            "+----------+-----------+---------+------------+------------+------------+------------+----------------+-------------+-----------+-----------------+-------------------+-----+-----------+-----------------+--------------------+--------+--------------------+-----+--------------------+--------------------+----------+------------+--------------+--------------------+--------+----------------+-------------+--------------------+-------+------------------------+\n",
            "only showing top 20 rows\n",
            "\n"
          ]
        }
      ],
      "source": [
        "valid_age_groups = ['<18','18-24','25-44','45-64','65+',np.NaN]\n",
        "df = df.withColumn('SUSP_AGE_GROUP', when(df.SUSP_AGE_GROUP.isin(valid_age_groups), df.SUSP_AGE_GROUP).otherwise(np.NaN))\n",
        "df.show()"
      ]
    },
    {
      "cell_type": "code",
      "execution_count": null,
      "metadata": {
        "id": "Y4_Sm8jySwhZ",
        "colab": {
          "base_uri": "https://localhost:8080/"
        },
        "outputId": "aba0372e-33eb-4d03-c508-6a3ce0e37a40"
      },
      "outputs": [
        {
          "output_type": "stream",
          "name": "stdout",
          "text": [
            "+--------------+\n",
            "|SUSP_AGE_GROUP|\n",
            "+--------------+\n",
            "|           <18|\n",
            "|         25-44|\n",
            "|           65+|\n",
            "|           NaN|\n",
            "|         18-24|\n",
            "|         45-64|\n",
            "+--------------+\n",
            "\n"
          ]
        }
      ],
      "source": [
        "df.select('SUSP_AGE_GROUP').distinct().show()"
      ]
    },
    {
      "cell_type": "code",
      "execution_count": null,
      "metadata": {
        "id": "JkZU28TmbL-X",
        "colab": {
          "base_uri": "https://localhost:8080/"
        },
        "outputId": "13a2353b-fc49-4ea0-93e8-f9ac3a3b5de3"
      },
      "outputs": [
        {
          "output_type": "stream",
          "name": "stdout",
          "text": [
            "+----------+-----------+---------+------------+------------+------------+------------+----------------+----------+-----------+-----------------+----------------+-----+-----------+-----------------+--------------------+--------+--------------------+-----+--------------------+--------------------+----------+------------+--------------+---------+--------+----------------+-------------+--------------+-------+------------------------+\n",
            "|CMPLNT_NUM|ADDR_PCT_CD|  BORO_NM|CMPLNT_FR_DT|CMPLNT_FR_TM|CMPLNT_TO_DT|CMPLNT_TO_TM|CRM_ATPT_CPTD_CD|HADEVELOPT|HOUSING_PSA|JURISDICTION_CODE|      JURIS_DESC|KY_CD| LAW_CAT_CD|LOC_OF_OCCUR_DESC|           OFNS_DESC|PARKS_NM|         PATROL_BORO|PD_CD|             PD_DESC|       PREM_TYP_DESC|    RPT_DT|STATION_NAME|SUSP_AGE_GROUP|SUSP_RACE|SUSP_SEX|TRANSIT_DISTRICT|VIC_AGE_GROUP|      VIC_RACE|VIC_SEX|New Georeferenced Column|\n",
            "+----------+-----------+---------+------------+------------+------------+------------+----------------+----------+-----------+-----------------+----------------+-----+-----------+-----------------+--------------------+--------+--------------------+-----+--------------------+--------------------+----------+------------+--------------+---------+--------+----------------+-------------+--------------+-------+------------------------+\n",
            "| 273094339|         48|    BRONX|  09/28/2021|    22:50:00|  09/28/2021|    22:55:00|       COMPLETED|      null|       null|                0|N.Y. POLICE DEPT|  358|MISDEMEANOR|             null|OFFENSES INVOLVIN...|    null|   PATROL BORO BRONX|  705|  FORGERY,ETC.-MISD.|              STREET|09/28/2021|        null|         18-24|    BLACK|       M|            null|      UNKNOWN|       UNKNOWN|      E|    POINT (-73.899501...|\n",
            "| 380472497|         10|MANHATTAN|  09/29/2021|    02:00:00|  09/29/2021|    03:00:00|       COMPLETED|      null|       null|                0|N.Y. POLICE DEPT|  341|MISDEMEANOR|             null|       PETIT LARCENY|    null|PATROL BORO MAN S...|  339|LARCENY,PETIT FRO...|              STREET|09/30/2021|        null|           NaN|  UNKNOWN|       U|            null|        25-44|WHITE HISPANIC|      M|    POINT (-73.999185...|\n",
            "| 196902441|         18|MANHATTAN|  09/27/2021|    08:15:00|  09/28/2021|    11:30:00|       COMPLETED|      null|       null|                0|N.Y. POLICE DEPT|  341|MISDEMEANOR|           INSIDE|       PETIT LARCENY|    null|PATROL BORO MAN S...|  305|LARCENY,PETIT BY ...|RESIDENCE - APT. ...|09/29/2021|        null|           NaN|  UNKNOWN|       U|            null|          65+|         WHITE|      F|    POINT (-73.985243...|\n",
            "| 629672413|         43|    BRONX|  09/29/2021|    18:00:00|        null|        null|       COMPLETED|      null|       null|                0|N.Y. POLICE DEPT|  351|MISDEMEANOR|         FRONT OF|CRIMINAL MISCHIEF...|    null|   PATROL BORO BRONX|  259|CRIMINAL MISCHIEF...|              STREET|09/30/2021|        null|           NaN|     null|    null|            null|        25-44|         BLACK|      F|    POINT (-73.879620...|\n",
            "| 748176739|         33|MANHATTAN|  09/23/2021|    09:20:00|  09/23/2021|    09:23:00|       COMPLETED|      null|       null|                0|N.Y. POLICE DEPT|  341|MISDEMEANOR|           INSIDE|       PETIT LARCENY|    null|PATROL BORO MAN N...|  333|LARCENY,PETIT FRO...|    DEPARTMENT STORE|09/23/2021|        null|           NaN|  UNKNOWN|       U|            null|      UNKNOWN|       UNKNOWN|      D|    POINT (-73.945008...|\n",
            "+----------+-----------+---------+------------+------------+------------+------------+----------------+----------+-----------+-----------------+----------------+-----+-----------+-----------------+--------------------+--------+--------------------+-----+--------------------+--------------------+----------+------------+--------------+---------+--------+----------------+-------------+--------------+-------+------------------------+\n",
            "only showing top 5 rows\n",
            "\n"
          ]
        }
      ],
      "source": [
        "df.show(n=5)"
      ]
    },
    {
      "cell_type": "code",
      "execution_count": null,
      "metadata": {
        "id": "0jWTxrnVdZ4Q",
        "colab": {
          "base_uri": "https://localhost:8080/"
        },
        "outputId": "72810249-dc48-4a12-f1de-c2452d0eab58"
      },
      "outputs": [
        {
          "output_type": "stream",
          "name": "stdout",
          "text": [
            "+-------------+\n",
            "|VIC_AGE_GROUP|\n",
            "+-------------+\n",
            "|           -1|\n",
            "|         -960|\n",
            "|         -921|\n",
            "|          <18|\n",
            "|        25-44|\n",
            "|          -61|\n",
            "|          936|\n",
            "|      UNKNOWN|\n",
            "|          -48|\n",
            "|          65+|\n",
            "|         -945|\n",
            "|        18-24|\n",
            "|           -3|\n",
            "|        45-64|\n",
            "|          970|\n",
            "|         -935|\n",
            "|          -51|\n",
            "|          963|\n",
            "|          945|\n",
            "+-------------+\n",
            "\n"
          ]
        }
      ],
      "source": [
        "df.select('VIC_AGE_GROUP').distinct().show()"
      ]
    },
    {
      "cell_type": "markdown",
      "metadata": {
        "id": "oZa1lwP7divX"
      },
      "source": [
        "#### There are many invalid age groups like negative values, unrealistically high age groups, etc.\n",
        "\n",
        "#### Lets find all the invalid age groups and replace them with `NaN`"
      ]
    },
    {
      "cell_type": "code",
      "execution_count": null,
      "metadata": {
        "id": "EEIrpMI0djtP",
        "colab": {
          "base_uri": "https://localhost:8080/"
        },
        "outputId": "83522bef-f135-4caa-c6cd-0c7a5aede885"
      },
      "outputs": [
        {
          "output_type": "stream",
          "name": "stdout",
          "text": [
            "+----------+-----------+---------+------------+------------+------------+------------+----------------+-------------+-----------+-----------------+-------------------+-----+-----------+-----------------+--------------------+--------+--------------------+-----+--------------------+--------------------+----------+------------+--------------+--------------------+--------+----------------+-------------+--------------------+-------+------------------------+\n",
            "|CMPLNT_NUM|ADDR_PCT_CD|  BORO_NM|CMPLNT_FR_DT|CMPLNT_FR_TM|CMPLNT_TO_DT|CMPLNT_TO_TM|CRM_ATPT_CPTD_CD|   HADEVELOPT|HOUSING_PSA|JURISDICTION_CODE|         JURIS_DESC|KY_CD| LAW_CAT_CD|LOC_OF_OCCUR_DESC|           OFNS_DESC|PARKS_NM|         PATROL_BORO|PD_CD|             PD_DESC|       PREM_TYP_DESC|    RPT_DT|STATION_NAME|SUSP_AGE_GROUP|           SUSP_RACE|SUSP_SEX|TRANSIT_DISTRICT|VIC_AGE_GROUP|            VIC_RACE|VIC_SEX|New Georeferenced Column|\n",
            "+----------+-----------+---------+------------+------------+------------+------------+----------------+-------------+-----------+-----------------+-------------------+-----+-----------+-----------------+--------------------+--------+--------------------+-----+--------------------+--------------------+----------+------------+--------------+--------------------+--------+----------------+-------------+--------------------+-------+------------------------+\n",
            "| 273094339|         48|    BRONX|  09/28/2021|    22:50:00|  09/28/2021|    22:55:00|       COMPLETED|         null|       null|                0|   N.Y. POLICE DEPT|  358|MISDEMEANOR|             null|OFFENSES INVOLVIN...|    null|   PATROL BORO BRONX|  705|  FORGERY,ETC.-MISD.|              STREET|09/28/2021|        null|         18-24|               BLACK|       M|            null|          NaN|             UNKNOWN|      E|    POINT (-73.899501...|\n",
            "| 380472497|         10|MANHATTAN|  09/29/2021|    02:00:00|  09/29/2021|    03:00:00|       COMPLETED|         null|       null|                0|   N.Y. POLICE DEPT|  341|MISDEMEANOR|             null|       PETIT LARCENY|    null|PATROL BORO MAN S...|  339|LARCENY,PETIT FRO...|              STREET|09/30/2021|        null|           NaN|             UNKNOWN|       U|            null|        25-44|      WHITE HISPANIC|      M|    POINT (-73.999185...|\n",
            "| 196902441|         18|MANHATTAN|  09/27/2021|    08:15:00|  09/28/2021|    11:30:00|       COMPLETED|         null|       null|                0|   N.Y. POLICE DEPT|  341|MISDEMEANOR|           INSIDE|       PETIT LARCENY|    null|PATROL BORO MAN S...|  305|LARCENY,PETIT BY ...|RESIDENCE - APT. ...|09/29/2021|        null|           NaN|             UNKNOWN|       U|            null|          65+|               WHITE|      F|    POINT (-73.985243...|\n",
            "| 629672413|         43|    BRONX|  09/29/2021|    18:00:00|        null|        null|       COMPLETED|         null|       null|                0|   N.Y. POLICE DEPT|  351|MISDEMEANOR|         FRONT OF|CRIMINAL MISCHIEF...|    null|   PATROL BORO BRONX|  259|CRIMINAL MISCHIEF...|              STREET|09/30/2021|        null|           NaN|                null|    null|            null|        25-44|               BLACK|      F|    POINT (-73.879620...|\n",
            "| 748176739|         33|MANHATTAN|  09/23/2021|    09:20:00|  09/23/2021|    09:23:00|       COMPLETED|         null|       null|                0|   N.Y. POLICE DEPT|  341|MISDEMEANOR|           INSIDE|       PETIT LARCENY|    null|PATROL BORO MAN N...|  333|LARCENY,PETIT FRO...|    DEPARTMENT STORE|09/23/2021|        null|           NaN|             UNKNOWN|       U|            null|          NaN|             UNKNOWN|      D|    POINT (-73.945008...|\n",
            "| 722070159|         61| BROOKLYN|  08/26/2021|    11:43:00|  08/26/2021|    11:44:00|       COMPLETED|         null|       null|                0|   N.Y. POLICE DEPT|  109|     FELONY|           INSIDE|       GRAND LARCENY|    null|PATROL BORO BKLYN...|  402|LARCENY,GRAND BY ...| COMMERCIAL BUILDING|09/30/2021|        null|           NaN|             UNKNOWN|       U|            null|          NaN|             UNKNOWN|      D|    POINT (-73.949998...|\n",
            "| 543059262|          1|MANHATTAN|  09/29/2021|    09:03:00|  09/29/2021|    09:08:00|       COMPLETED|         null|       null|                0|   N.Y. POLICE DEPT|  341|MISDEMEANOR|           INSIDE|       PETIT LARCENY|    null|PATROL BORO MAN S...|  333|LARCENY,PETIT FRO...|         CHAIN STORE|09/29/2021|        null|         25-44|               WHITE|       M|            null|          NaN|             UNKNOWN|      D|    POINT (-74.011443...|\n",
            "| 783029647|        104|   QUEENS|  09/25/2021|    19:30:00|  09/25/2021|    19:35:00|       COMPLETED|         null|       null|                0|   N.Y. POLICE DEPT|  344|MISDEMEANOR|             null|ASSAULT 3 & RELAT...|    null|PATROL BORO QUEEN...|  101|           ASSAULT 3|              STREET|09/25/2021|        null|         25-44|               BLACK|       M|            null|        18-24|      WHITE HISPANIC|      F|    POINT (-73.892717...|\n",
            "| 532097462|        102|   QUEENS|  09/26/2021|    20:40:00|  09/26/2021|    20:46:00|       COMPLETED|         null|       null|                0|   N.Y. POLICE DEPT|  344|MISDEMEANOR|           INSIDE|ASSAULT 3 & RELAT...|    null|PATROL BORO QUEEN...|  101|           ASSAULT 3|     RESIDENCE-HOUSE|09/26/2021|        null|         45-64|ASIAN / PACIFIC I...|       M|            null|        25-44|ASIAN / PACIFIC I...|      M|    POINT (-73.832478...|\n",
            "| 780553702|         44|    BRONX|  07/24/2021|    19:00:00|        null|        null|       COMPLETED|         null|       null|                0|   N.Y. POLICE DEPT|  109|     FELONY|           INSIDE|       GRAND LARCENY|    null|   PATROL BORO BRONX|  434|LARCENY,GRAND BY ...|RESIDENCE - APT. ...|09/29/2021|        null|           NaN|                null|    null|            null|        25-44|               BLACK|      F|    POINT (-73.913178...|\n",
            "| 199644527|         66| BROOKLYN|  09/28/2021|    19:00:00|  09/28/2021|    19:20:00|       COMPLETED|         null|       null|                0|   N.Y. POLICE DEPT|  578|  VIOLATION|           INSIDE|       HARRASSMENT 2|    null|PATROL BORO BKLYN...|  637|HARASSMENT,SUBD 1...|     RESIDENCE-HOUSE|09/28/2021|        null|         25-44|ASIAN / PACIFIC I...|       M|            null|        25-44|ASIAN / PACIFIC I...|      F|    POINT (-73.971419...|\n",
            "| 868022815|        106|   QUEENS|  09/11/2021|    17:00:00|  09/22/2021|    09:00:00|       COMPLETED|         null|       null|                0|   N.Y. POLICE DEPT|  109|     FELONY|           INSIDE|       GRAND LARCENY|    null|PATROL BORO QUEEN...|  418|LARCENY,GRAND BY ...|     RESIDENCE-HOUSE|09/24/2021|        null|           NaN|             UNKNOWN|       U|            null|        25-44|               WHITE|      M|    POINT (-73.847353...|\n",
            "| 413150264|         62| BROOKLYN|  09/24/2021|    09:15:00|  09/24/2021|    09:30:00|       COMPLETED|         null|       null|                0|   N.Y. POLICE DEPT|  361|MISDEMEANOR|           INSIDE|OFF. AGNST PUB OR...|    null|PATROL BORO BKLYN...|  639|AGGRAVATED HARASS...|RESIDENCE - APT. ...|09/24/2021|        null|         18-24|             UNKNOWN|       M|            null|        18-24|               BLACK|      F|    POINT (-74.011597...|\n",
            "| 822231972|         46|    BRONX|  09/26/2021|    23:40:00|  09/26/2021|    23:55:00|       COMPLETED|         null|       null|                0|   N.Y. POLICE DEPT|  341|MISDEMEANOR|           INSIDE|       PETIT LARCENY|    null|   PATROL BORO BRONX|  333|LARCENY,PETIT FRO...|         CHAIN STORE|09/27/2021|        null|         25-44|             UNKNOWN|       M|            null|          NaN|             UNKNOWN|      D|    POINT (-73.906024...|\n",
            "| 629987923|         41|    BRONX|  09/28/2021|    10:12:00|  09/28/2021|    10:20:00|       COMPLETED|         null|       null|                0|   N.Y. POLICE DEPT|  578|  VIOLATION|           INSIDE|       HARRASSMENT 2|    null|   PATROL BORO BRONX|  638|HARASSMENT,SUBD 3...|RESIDENCE - APT. ...|09/28/2021|        null|         45-64|      WHITE HISPANIC|       F|            null|        45-64|      WHITE HISPANIC|      M|    POINT (-73.887660...|\n",
            "| 741622034|         76| BROOKLYN|  09/26/2021|    19:00:00|  09/26/2021|    19:05:00|       COMPLETED|RED HOOK EAST|        265|                2|N.Y. HOUSING POLICE|  361|MISDEMEANOR|           INSIDE|OFF. AGNST PUB OR...|    null|PATROL BORO BKLYN...|  639|AGGRAVATED HARASS...|RESIDENCE - PUBLI...|09/29/2021|        null|         25-44|               BLACK|       M|            null|        25-44|               BLACK|      F|    POINT (-74.002925...|\n",
            "| 775907500|         68| BROOKLYN|  09/30/2021|    10:20:00|  09/30/2021|    10:22:00|       COMPLETED|         null|       null|                0|   N.Y. POLICE DEPT|  341|MISDEMEANOR|           INSIDE|       PETIT LARCENY|    null|PATROL BORO BKLYN...|  333|LARCENY,PETIT FRO...|          DRUG STORE|09/30/2021|        null|         25-44|               WHITE|       M|            null|          NaN|             UNKNOWN|      D|    POINT (-74.026817...|\n",
            "| 281927551|         90| BROOKLYN|  09/02/2021|    07:20:00|  09/02/2021|    07:27:00|       COMPLETED|         null|       3494|                2|N.Y. HOUSING POLICE|  361|MISDEMEANOR|           INSIDE|OFF. AGNST PUB OR...|    null|PATROL BORO BKLYN...|  639|AGGRAVATED HARASS...|RESIDENCE - PUBLI...|09/28/2021|        null|         18-24|               BLACK|       M|            null|          <18|               BLACK|      F|    POINT (-73.965999...|\n",
            "| 472915130|          6|MANHATTAN|  09/27/2021|    19:15:00|  09/27/2021|    19:25:00|       COMPLETED|         null|       null|                1|N.Y. TRANSIT POLICE|  109|     FELONY|             null|       GRAND LARCENY|    null|PATROL BORO MAN S...|  418|LARCENY,GRAND BY ...|TRANSIT - NYC SUBWAY|09/27/2021|   14 STREET|           NaN|             UNKNOWN|       U|               2|        25-44|               WHITE|      M|    POINT (-73.996840...|\n",
            "| 519984864|         32|MANHATTAN|  09/26/2021|    22:05:00|  09/26/2021|    22:08:00|       COMPLETED|         null|       null|                0|   N.Y. POLICE DEPT|  358|MISDEMEANOR|         FRONT OF|OFFENSES INVOLVIN...|    null|PATROL BORO MAN N...|  705|  FORGERY,ETC.-MISD.|              STREET|09/26/2021|        null|         25-44|               BLACK|       M|            null|          NaN|             UNKNOWN|      E|    POINT (-73.939230...|\n",
            "+----------+-----------+---------+------------+------------+------------+------------+----------------+-------------+-----------+-----------------+-------------------+-----+-----------+-----------------+--------------------+--------+--------------------+-----+--------------------+--------------------+----------+------------+--------------+--------------------+--------+----------------+-------------+--------------------+-------+------------------------+\n",
            "only showing top 20 rows\n",
            "\n"
          ]
        }
      ],
      "source": [
        "valid_age_groups = ['<18','18-24','25-44','45-64','65+',np.NaN]\n",
        "df = df.withColumn('VIC_AGE_GROUP', when(df.VIC_AGE_GROUP.isin(valid_age_groups), df.VIC_AGE_GROUP).otherwise(np.NaN))\n",
        "df.show()"
      ]
    },
    {
      "cell_type": "code",
      "execution_count": null,
      "metadata": {
        "id": "rY0e7MKMdpBb",
        "colab": {
          "base_uri": "https://localhost:8080/"
        },
        "outputId": "90e23cf6-f87c-40a1-9dcb-3cd2fccb793e"
      },
      "outputs": [
        {
          "output_type": "stream",
          "name": "stdout",
          "text": [
            "+-------------+\n",
            "|VIC_AGE_GROUP|\n",
            "+-------------+\n",
            "|          <18|\n",
            "|        25-44|\n",
            "|          65+|\n",
            "|          NaN|\n",
            "|        18-24|\n",
            "|        45-64|\n",
            "+-------------+\n",
            "\n"
          ]
        }
      ],
      "source": [
        "df.select('VIC_AGE_GROUP').distinct().show()"
      ]
    },
    {
      "cell_type": "code",
      "execution_count": null,
      "metadata": {
        "id": "525Nar0QeH1e",
        "colab": {
          "base_uri": "https://localhost:8080/"
        },
        "outputId": "4d2e4806-fdb6-45c2-fb54-4f8f83ca59a3"
      },
      "outputs": [
        {
          "output_type": "stream",
          "name": "stdout",
          "text": [
            "+----------+-----------+---------+------------+------------+------------+------------+----------------+----------+-----------+-----------------+----------------+-----+-----------+-----------------+--------------------+--------+--------------------+-----+--------------------+--------------------+----------+------------+--------------+---------+--------+----------------+-------------+--------------+-------+------------------------+\n",
            "|CMPLNT_NUM|ADDR_PCT_CD|  BORO_NM|CMPLNT_FR_DT|CMPLNT_FR_TM|CMPLNT_TO_DT|CMPLNT_TO_TM|CRM_ATPT_CPTD_CD|HADEVELOPT|HOUSING_PSA|JURISDICTION_CODE|      JURIS_DESC|KY_CD| LAW_CAT_CD|LOC_OF_OCCUR_DESC|           OFNS_DESC|PARKS_NM|         PATROL_BORO|PD_CD|             PD_DESC|       PREM_TYP_DESC|    RPT_DT|STATION_NAME|SUSP_AGE_GROUP|SUSP_RACE|SUSP_SEX|TRANSIT_DISTRICT|VIC_AGE_GROUP|      VIC_RACE|VIC_SEX|New Georeferenced Column|\n",
            "+----------+-----------+---------+------------+------------+------------+------------+----------------+----------+-----------+-----------------+----------------+-----+-----------+-----------------+--------------------+--------+--------------------+-----+--------------------+--------------------+----------+------------+--------------+---------+--------+----------------+-------------+--------------+-------+------------------------+\n",
            "| 273094339|         48|    BRONX|  09/28/2021|    22:50:00|  09/28/2021|    22:55:00|       COMPLETED|      null|       null|                0|N.Y. POLICE DEPT|  358|MISDEMEANOR|             null|OFFENSES INVOLVIN...|    null|   PATROL BORO BRONX|  705|  FORGERY,ETC.-MISD.|              STREET|09/28/2021|        null|         18-24|    BLACK|       M|            null|          NaN|       UNKNOWN|      E|    POINT (-73.899501...|\n",
            "| 380472497|         10|MANHATTAN|  09/29/2021|    02:00:00|  09/29/2021|    03:00:00|       COMPLETED|      null|       null|                0|N.Y. POLICE DEPT|  341|MISDEMEANOR|             null|       PETIT LARCENY|    null|PATROL BORO MAN S...|  339|LARCENY,PETIT FRO...|              STREET|09/30/2021|        null|           NaN|  UNKNOWN|       U|            null|        25-44|WHITE HISPANIC|      M|    POINT (-73.999185...|\n",
            "| 196902441|         18|MANHATTAN|  09/27/2021|    08:15:00|  09/28/2021|    11:30:00|       COMPLETED|      null|       null|                0|N.Y. POLICE DEPT|  341|MISDEMEANOR|           INSIDE|       PETIT LARCENY|    null|PATROL BORO MAN S...|  305|LARCENY,PETIT BY ...|RESIDENCE - APT. ...|09/29/2021|        null|           NaN|  UNKNOWN|       U|            null|          65+|         WHITE|      F|    POINT (-73.985243...|\n",
            "| 629672413|         43|    BRONX|  09/29/2021|    18:00:00|        null|        null|       COMPLETED|      null|       null|                0|N.Y. POLICE DEPT|  351|MISDEMEANOR|         FRONT OF|CRIMINAL MISCHIEF...|    null|   PATROL BORO BRONX|  259|CRIMINAL MISCHIEF...|              STREET|09/30/2021|        null|           NaN|     null|    null|            null|        25-44|         BLACK|      F|    POINT (-73.879620...|\n",
            "| 748176739|         33|MANHATTAN|  09/23/2021|    09:20:00|  09/23/2021|    09:23:00|       COMPLETED|      null|       null|                0|N.Y. POLICE DEPT|  341|MISDEMEANOR|           INSIDE|       PETIT LARCENY|    null|PATROL BORO MAN N...|  333|LARCENY,PETIT FRO...|    DEPARTMENT STORE|09/23/2021|        null|           NaN|  UNKNOWN|       U|            null|          NaN|       UNKNOWN|      D|    POINT (-73.945008...|\n",
            "+----------+-----------+---------+------------+------------+------------+------------+----------------+----------+-----------+-----------------+----------------+-----+-----------+-----------------+--------------------+--------+--------------------+-----+--------------------+--------------------+----------+------------+--------------+---------+--------+----------------+-------------+--------------+-------+------------------------+\n",
            "only showing top 5 rows\n",
            "\n"
          ]
        }
      ],
      "source": [
        "df.show(n=5)"
      ]
    },
    {
      "cell_type": "markdown",
      "metadata": {
        "id": "9C5Wbu2Hrb4m"
      },
      "source": [
        "### Check for Race Values "
      ]
    },
    {
      "cell_type": "code",
      "execution_count": null,
      "metadata": {
        "id": "mGZ6lAHAoC7m",
        "colab": {
          "base_uri": "https://localhost:8080/"
        },
        "outputId": "31e6e262-0389-4ae7-d3d6-99ea44eff113"
      },
      "outputs": [
        {
          "output_type": "stream",
          "name": "stdout",
          "text": [
            "+--------------------+\n",
            "|           SUSP_RACE|\n",
            "+--------------------+\n",
            "|               WHITE|\n",
            "|               BLACK|\n",
            "|AMERICAN INDIAN/A...|\n",
            "|                null|\n",
            "|      BLACK HISPANIC|\n",
            "|      WHITE HISPANIC|\n",
            "|             UNKNOWN|\n",
            "|ASIAN / PACIFIC I...|\n",
            "+--------------------+\n",
            "\n"
          ]
        }
      ],
      "source": [
        "df.select('SUSP_RACE').distinct().show()"
      ]
    },
    {
      "cell_type": "markdown",
      "metadata": {
        "id": "zL4B-B4f2fp2"
      },
      "source": [
        "#### Replace all `UNKNOWN` values with `NaN`"
      ]
    },
    {
      "cell_type": "code",
      "execution_count": null,
      "metadata": {
        "id": "lC0bTJYj2W2Q"
      },
      "outputs": [],
      "source": [
        "from pyspark.sql.functions import regexp_replace\n",
        "\n",
        "df = df.withColumn(\"SUSP_RACE\",\n",
        "  regexp_replace(\"SUSP_RACE\", \"UNKNOWN\", \"NaN\"))"
      ]
    },
    {
      "cell_type": "code",
      "execution_count": null,
      "metadata": {
        "id": "Lz15zl4N8e5l",
        "colab": {
          "base_uri": "https://localhost:8080/"
        },
        "outputId": "95a17e54-89c8-4bd9-d764-ad34bf81e45e"
      },
      "outputs": [
        {
          "output_type": "stream",
          "name": "stdout",
          "text": [
            "+----------+-----------+-------------+------------+------------+------------+------------+----------------+-------------+-----------+-----------------+-------------------+-----+-----------+-----------------+--------------------+----------------+--------------------+-----+--------------------+--------------------+----------+------------+--------------+--------------------+--------+----------------+-------------+--------------------+-------+------------------------+\n",
            "|CMPLNT_NUM|ADDR_PCT_CD|      BORO_NM|CMPLNT_FR_DT|CMPLNT_FR_TM|CMPLNT_TO_DT|CMPLNT_TO_TM|CRM_ATPT_CPTD_CD|   HADEVELOPT|HOUSING_PSA|JURISDICTION_CODE|         JURIS_DESC|KY_CD| LAW_CAT_CD|LOC_OF_OCCUR_DESC|           OFNS_DESC|        PARKS_NM|         PATROL_BORO|PD_CD|             PD_DESC|       PREM_TYP_DESC|    RPT_DT|STATION_NAME|SUSP_AGE_GROUP|           SUSP_RACE|SUSP_SEX|TRANSIT_DISTRICT|VIC_AGE_GROUP|            VIC_RACE|VIC_SEX|New Georeferenced Column|\n",
            "+----------+-----------+-------------+------------+------------+------------+------------+----------------+-------------+-----------+-----------------+-------------------+-----+-----------+-----------------+--------------------+----------------+--------------------+-----+--------------------+--------------------+----------+------------+--------------+--------------------+--------+----------------+-------------+--------------------+-------+------------------------+\n",
            "| 273094339|         48|        BRONX|  09/28/2021|    22:50:00|  09/28/2021|    22:55:00|       COMPLETED|         null|       null|                0|   N.Y. POLICE DEPT|  358|MISDEMEANOR|             null|OFFENSES INVOLVIN...|            null|   PATROL BORO BRONX|  705|  FORGERY,ETC.-MISD.|              STREET|09/28/2021|        null|         18-24|               BLACK|       M|            null|          NaN|             UNKNOWN|      E|    POINT (-73.899501...|\n",
            "| 380472497|         10|    MANHATTAN|  09/29/2021|    02:00:00|  09/29/2021|    03:00:00|       COMPLETED|         null|       null|                0|   N.Y. POLICE DEPT|  341|MISDEMEANOR|             null|       PETIT LARCENY|            null|PATROL BORO MAN S...|  339|LARCENY,PETIT FRO...|              STREET|09/30/2021|        null|           NaN|                 NaN|       U|            null|        25-44|      WHITE HISPANIC|      M|    POINT (-73.999185...|\n",
            "| 196902441|         18|    MANHATTAN|  09/27/2021|    08:15:00|  09/28/2021|    11:30:00|       COMPLETED|         null|       null|                0|   N.Y. POLICE DEPT|  341|MISDEMEANOR|           INSIDE|       PETIT LARCENY|            null|PATROL BORO MAN S...|  305|LARCENY,PETIT BY ...|RESIDENCE - APT. ...|09/29/2021|        null|           NaN|                 NaN|       U|            null|          65+|               WHITE|      F|    POINT (-73.985243...|\n",
            "| 629672413|         43|        BRONX|  09/29/2021|    18:00:00|        null|        null|       COMPLETED|         null|       null|                0|   N.Y. POLICE DEPT|  351|MISDEMEANOR|         FRONT OF|CRIMINAL MISCHIEF...|            null|   PATROL BORO BRONX|  259|CRIMINAL MISCHIEF...|              STREET|09/30/2021|        null|           NaN|                null|    null|            null|        25-44|               BLACK|      F|    POINT (-73.879620...|\n",
            "| 748176739|         33|    MANHATTAN|  09/23/2021|    09:20:00|  09/23/2021|    09:23:00|       COMPLETED|         null|       null|                0|   N.Y. POLICE DEPT|  341|MISDEMEANOR|           INSIDE|       PETIT LARCENY|            null|PATROL BORO MAN N...|  333|LARCENY,PETIT FRO...|    DEPARTMENT STORE|09/23/2021|        null|           NaN|                 NaN|       U|            null|          NaN|             UNKNOWN|      D|    POINT (-73.945008...|\n",
            "| 722070159|         61|     BROOKLYN|  08/26/2021|    11:43:00|  08/26/2021|    11:44:00|       COMPLETED|         null|       null|                0|   N.Y. POLICE DEPT|  109|     FELONY|           INSIDE|       GRAND LARCENY|            null|PATROL BORO BKLYN...|  402|LARCENY,GRAND BY ...| COMMERCIAL BUILDING|09/30/2021|        null|           NaN|                 NaN|       U|            null|          NaN|             UNKNOWN|      D|    POINT (-73.949998...|\n",
            "| 543059262|          1|    MANHATTAN|  09/29/2021|    09:03:00|  09/29/2021|    09:08:00|       COMPLETED|         null|       null|                0|   N.Y. POLICE DEPT|  341|MISDEMEANOR|           INSIDE|       PETIT LARCENY|            null|PATROL BORO MAN S...|  333|LARCENY,PETIT FRO...|         CHAIN STORE|09/29/2021|        null|         25-44|               WHITE|       M|            null|          NaN|             UNKNOWN|      D|    POINT (-74.011443...|\n",
            "| 783029647|        104|       QUEENS|  09/25/2021|    19:30:00|  09/25/2021|    19:35:00|       COMPLETED|         null|       null|                0|   N.Y. POLICE DEPT|  344|MISDEMEANOR|             null|ASSAULT 3 & RELAT...|            null|PATROL BORO QUEEN...|  101|           ASSAULT 3|              STREET|09/25/2021|        null|         25-44|               BLACK|       M|            null|        18-24|      WHITE HISPANIC|      F|    POINT (-73.892717...|\n",
            "| 532097462|        102|       QUEENS|  09/26/2021|    20:40:00|  09/26/2021|    20:46:00|       COMPLETED|         null|       null|                0|   N.Y. POLICE DEPT|  344|MISDEMEANOR|           INSIDE|ASSAULT 3 & RELAT...|            null|PATROL BORO QUEEN...|  101|           ASSAULT 3|     RESIDENCE-HOUSE|09/26/2021|        null|         45-64|ASIAN / PACIFIC I...|       M|            null|        25-44|ASIAN / PACIFIC I...|      M|    POINT (-73.832478...|\n",
            "| 780553702|         44|        BRONX|  07/24/2021|    19:00:00|        null|        null|       COMPLETED|         null|       null|                0|   N.Y. POLICE DEPT|  109|     FELONY|           INSIDE|       GRAND LARCENY|            null|   PATROL BORO BRONX|  434|LARCENY,GRAND BY ...|RESIDENCE - APT. ...|09/29/2021|        null|           NaN|                null|    null|            null|        25-44|               BLACK|      F|    POINT (-73.913178...|\n",
            "| 199644527|         66|     BROOKLYN|  09/28/2021|    19:00:00|  09/28/2021|    19:20:00|       COMPLETED|         null|       null|                0|   N.Y. POLICE DEPT|  578|  VIOLATION|           INSIDE|       HARRASSMENT 2|            null|PATROL BORO BKLYN...|  637|HARASSMENT,SUBD 1...|     RESIDENCE-HOUSE|09/28/2021|        null|         25-44|ASIAN / PACIFIC I...|       M|            null|        25-44|ASIAN / PACIFIC I...|      F|    POINT (-73.971419...|\n",
            "| 868022815|        106|       QUEENS|  09/11/2021|    17:00:00|  09/22/2021|    09:00:00|       COMPLETED|         null|       null|                0|   N.Y. POLICE DEPT|  109|     FELONY|           INSIDE|       GRAND LARCENY|            null|PATROL BORO QUEEN...|  418|LARCENY,GRAND BY ...|     RESIDENCE-HOUSE|09/24/2021|        null|           NaN|                 NaN|       U|            null|        25-44|               WHITE|      M|    POINT (-73.847353...|\n",
            "| 413150264|         62|     BROOKLYN|  09/24/2021|    09:15:00|  09/24/2021|    09:30:00|       COMPLETED|         null|       null|                0|   N.Y. POLICE DEPT|  361|MISDEMEANOR|           INSIDE|OFF. AGNST PUB OR...|            null|PATROL BORO BKLYN...|  639|AGGRAVATED HARASS...|RESIDENCE - APT. ...|09/24/2021|        null|         18-24|                 NaN|       M|            null|        18-24|               BLACK|      F|    POINT (-74.011597...|\n",
            "| 822231972|         46|        BRONX|  09/26/2021|    23:40:00|  09/26/2021|    23:55:00|       COMPLETED|         null|       null|                0|   N.Y. POLICE DEPT|  341|MISDEMEANOR|           INSIDE|       PETIT LARCENY|            null|   PATROL BORO BRONX|  333|LARCENY,PETIT FRO...|         CHAIN STORE|09/27/2021|        null|         25-44|                 NaN|       M|            null|          NaN|             UNKNOWN|      D|    POINT (-73.906024...|\n",
            "| 629987923|         41|        BRONX|  09/28/2021|    10:12:00|  09/28/2021|    10:20:00|       COMPLETED|         null|       null|                0|   N.Y. POLICE DEPT|  578|  VIOLATION|           INSIDE|       HARRASSMENT 2|            null|   PATROL BORO BRONX|  638|HARASSMENT,SUBD 3...|RESIDENCE - APT. ...|09/28/2021|        null|         45-64|      WHITE HISPANIC|       F|            null|        45-64|      WHITE HISPANIC|      M|    POINT (-73.887660...|\n",
            "| 741622034|         76|     BROOKLYN|  09/26/2021|    19:00:00|  09/26/2021|    19:05:00|       COMPLETED|RED HOOK EAST|        265|                2|N.Y. HOUSING POLICE|  361|MISDEMEANOR|           INSIDE|OFF. AGNST PUB OR...|            null|PATROL BORO BKLYN...|  639|AGGRAVATED HARASS...|RESIDENCE - PUBLI...|09/29/2021|        null|         25-44|               BLACK|       M|            null|        25-44|               BLACK|      F|    POINT (-74.002925...|\n",
            "| 775907500|         68|     BROOKLYN|  09/30/2021|    10:20:00|  09/30/2021|    10:22:00|       COMPLETED|         null|       null|                0|   N.Y. POLICE DEPT|  341|MISDEMEANOR|           INSIDE|       PETIT LARCENY|            null|PATROL BORO BKLYN...|  333|LARCENY,PETIT FRO...|          DRUG STORE|09/30/2021|        null|         25-44|               WHITE|       M|            null|          NaN|             UNKNOWN|      D|    POINT (-74.026817...|\n",
            "| 281927551|         90|     BROOKLYN|  09/02/2021|    07:20:00|  09/02/2021|    07:27:00|       COMPLETED|         null|       3494|                2|N.Y. HOUSING POLICE|  361|MISDEMEANOR|           INSIDE|OFF. AGNST PUB OR...|            null|PATROL BORO BKLYN...|  639|AGGRAVATED HARASS...|RESIDENCE - PUBLI...|09/28/2021|        null|         18-24|               BLACK|       M|            null|          <18|               BLACK|      F|    POINT (-73.965999...|\n",
            "| 472915130|          6|    MANHATTAN|  09/27/2021|    19:15:00|  09/27/2021|    19:25:00|       COMPLETED|         null|       null|                1|N.Y. TRANSIT POLICE|  109|     FELONY|             null|       GRAND LARCENY|            null|PATROL BORO MAN S...|  418|LARCENY,GRAND BY ...|TRANSIT - NYC SUBWAY|09/27/2021|   14 STREET|           NaN|                 NaN|       U|               2|        25-44|               WHITE|      M|    POINT (-73.996840...|\n",
            "| 519984864|         32|    MANHATTAN|  09/26/2021|    22:05:00|  09/26/2021|    22:08:00|       COMPLETED|         null|       null|                0|   N.Y. POLICE DEPT|  358|MISDEMEANOR|         FRONT OF|OFFENSES INVOLVIN...|            null|PATROL BORO MAN N...|  705|  FORGERY,ETC.-MISD.|              STREET|09/26/2021|        null|         25-44|               BLACK|       M|            null|          NaN|             UNKNOWN|      E|    POINT (-73.939230...|\n",
            "| 425017236|         32|    MANHATTAN|  09/24/2021|    07:00:00|  09/24/2021|    17:30:00|       COMPLETED|         null|       null|                0|   N.Y. POLICE DEPT|  341|MISDEMEANOR|         FRONT OF|       PETIT LARCENY|            null|PATROL BORO MAN N...|  343|LARCENY,PETIT OF ...|RESIDENCE - APT. ...|09/24/2021|        null|           NaN|                 NaN|       U|            null|        25-44|               BLACK|      M|    POINT (-73.945167...|\n",
            "| 316525036|         84|     BROOKLYN|  09/30/2021|    14:30:00|  09/30/2021|    14:57:00|       COMPLETED|         null|       null|                0|   N.Y. POLICE DEPT|  578|  VIOLATION|             null|       HARRASSMENT 2|            null|PATROL BORO BKLYN...|  638|HARASSMENT,SUBD 3...|              STREET|09/30/2021|        null|           <18|                 NaN|       F|            null|          <18|               BLACK|      F|    POINT (-73.983225...|\n",
            "| 138380729|         72|     BROOKLYN|  09/26/2021|    19:39:00|  09/27/2021|    01:52:00|       COMPLETED|         null|       null|                0|   N.Y. POLICE DEPT|  109|     FELONY|             null|       GRAND LARCENY|            null|PATROL BORO BKLYN...|  457|LARCENY,GRAND OF ...|              STREET|09/27/2021|        null|           NaN|                null|    null|            null|          NaN|             UNKNOWN|      D|    POINT (-73.988319...|\n",
            "| 263567736|        109|       QUEENS|  09/24/2021|    16:09:00|  09/24/2021|    16:42:00|       COMPLETED|         null|       null|                0|   N.Y. POLICE DEPT|  121|     FELONY|           INSIDE|CRIMINAL MISCHIEF...|            null|PATROL BORO QUEEN...|  269|MISCHIEF,CRIMINAL...|RESIDENCE - APT. ...|09/24/2021|        null|         25-44|ASIAN / PACIFIC I...|       M|            null|        45-64|ASIAN / PACIFIC I...|      F|    POINT (-73.832376...|\n",
            "| 407866187|         17|    MANHATTAN|  09/30/2021|    07:55:00|  09/30/2021|    08:10:00|       COMPLETED|         null|       null|                0|   N.Y. POLICE DEPT|  126|     FELONY|         FRONT OF|MISCELLANEOUS PEN...|            null|PATROL BORO MAN S...|  640|AGGRAVATED HARASS...|               OTHER|09/30/2021|        null|           NaN|               WHITE|       M|            null|          NaN|             UNKNOWN|      E|    POINT (-73.976066...|\n",
            "| 397684420|        122|STATEN ISLAND|  09/25/2021|    00:01:00|  09/25/2021|    03:00:00|       COMPLETED|         null|       null|                0|   N.Y. POLICE DEPT|  578|  VIOLATION|           INSIDE|       HARRASSMENT 2|            null|PATROL BORO STATE...|  638|HARASSMENT,SUBD 3...|RESIDENCE - APT. ...|09/25/2021|        null|         45-64|               WHITE|       M|            null|        25-44|               WHITE|      F|    POINT (-74.110817...|\n",
            "| 263033827|         52|        BRONX|  09/06/2021|    12:00:00|  09/26/2021|    01:30:00|       COMPLETED|         null|       null|                0|   N.Y. POLICE DEPT|  365|MISDEMEANOR|           INSIDE| ADMINISTRATIVE CODE|            null|   PATROL BORO BRONX|  878|ADM.CODE,UNCLASSI...|RESIDENCE - APT. ...|09/29/2021|        null|           NaN|      WHITE HISPANIC|       F|            null|        45-64|      WHITE HISPANIC|      F|    POINT (-73.888622...|\n",
            "| 851545392|        110|       QUEENS|  09/23/2021|    18:59:00|  09/25/2021|    19:00:00|       COMPLETED|         null|       null|                0|   N.Y. POLICE DEPT|  341|MISDEMEANOR|             null|       PETIT LARCENY|            null|PATROL BORO QUEEN...|  301|LARCENY,PETIT BY ...|OPEN AREAS (OPEN ...|09/28/2021|        null|           NaN|                null|    null|            null|        45-64|      WHITE HISPANIC|      F|    POINT (-73.843246...|\n",
            "| 836266800|         42|        BRONX|  09/25/2021|    02:47:00|  09/25/2021|    02:49:00|       COMPLETED|         null|       null|                0|   N.Y. POLICE DEPT|  118|     FELONY|         FRONT OF|   DANGEROUS WEAPONS|            null|   PATROL BORO BRONX|  793|WEAPONS POSSESSION 3|              STREET|09/25/2021|        null|           NaN|                null|    null|            null|          NaN|             UNKNOWN|      E|    POINT (-73.907281...|\n",
            "| 508966781|         63|     BROOKLYN|  09/26/2021|    16:00:00|  09/26/2021|    16:05:00|       COMPLETED|         null|       null|                0|   N.Y. POLICE DEPT|  348|MISDEMEANOR|             null|VEHICLE AND TRAFF...|            null|PATROL BORO BKLYN...|  916|LEAVING SCENE-ACC...|     HIGHWAY/PARKWAY|09/26/2021|        null|           NaN|                 NaN|       U|            null|        45-64|               BLACK|      M|    POINT (-73.907876...|\n",
            "| 391029037|         18|    MANHATTAN|  09/23/2021|    15:28:00|  09/23/2021|    16:46:00|       COMPLETED|         null|       null|                0|   N.Y. POLICE DEPT|  109|     FELONY|           INSIDE|       GRAND LARCENY|            null|PATROL BORO MAN S...|  433|LARCENY,GRAND FRO...|    DEPARTMENT STORE|09/23/2021|        null|         18-24|               BLACK|       F|            null|          NaN|             UNKNOWN|      D|    POINT (-73.977430...|\n",
            "| 914205004|         48|        BRONX|  09/23/2021|    04:50:00|  09/23/2021|    07:30:00|       COMPLETED|         null|       null|                0|   N.Y. POLICE DEPT|  341|MISDEMEANOR|           INSIDE|       PETIT LARCENY|            null|   PATROL BORO BRONX|  352|LARCENY,PETIT FRO...|RESIDENCE - APT. ...|09/23/2021|        null|           NaN|                null|    null|            null|          65+|      WHITE HISPANIC|      M|    POINT (-73.882656...|\n",
            "| 246111720|         46|        BRONX|  09/23/2021|    10:09:00|  09/23/2021|    10:15:00|       COMPLETED|         null|       null|                0|   N.Y. POLICE DEPT|  109|     FELONY|           INSIDE|       GRAND LARCENY|            null|   PATROL BORO BRONX|  433|LARCENY,GRAND FRO...|    DEPARTMENT STORE|09/23/2021|        null|           NaN|      WHITE HISPANIC|       M|            null|          NaN|             UNKNOWN|      D|    POINT (-73.892459...|\n",
            "| 141199205|        107|       QUEENS|  09/23/2021|    00:20:00|  09/23/2021|    01:30:00|       COMPLETED|         null|       null|                0|   N.Y. POLICE DEPT|  107|     FELONY|           INSIDE|            BURGLARY|            null|PATROL BORO QUEEN...|  213|BURGLARY,COMMERCI...|         GAS STATION|09/23/2021|        null|           NaN|                 NaN|       U|            null|          NaN|             UNKNOWN|      D|    POINT (-73.817268...|\n",
            "| 109137549|        110|       QUEENS|  09/25/2021|    22:35:00|  09/25/2021|    22:39:00|       COMPLETED|         null|       null|                0|   N.Y. POLICE DEPT|  235|MISDEMEANOR|             null|     DANGEROUS DRUGS|            null|PATROL BORO QUEEN...|  511|CONTROLLED SUBSTA...|              STREET|09/25/2021|        null|         18-24|      BLACK HISPANIC|       M|            null|          NaN|             UNKNOWN|      E|    POINT (-73.852875...|\n",
            "| 242123142|         68|     BROOKLYN|  09/25/2021|    17:00:00|  09/26/2021|    09:00:00|       COMPLETED|         null|       null|                0|   N.Y. POLICE DEPT|  107|     FELONY|           INSIDE|            BURGLARY|            null|PATROL BORO BKLYN...|  223|BURGLARY,RESIDENC...|     RESIDENCE-HOUSE|09/27/2021|        null|           NaN|                 NaN|       U|            null|        25-44|ASIAN / PACIFIC I...|      M|    POINT (-74.010675...|\n",
            "| 135482466|         75|     BROOKLYN|  09/23/2021|    21:34:00|  09/23/2021|    21:39:00|       COMPLETED|         null|       null|                0|   N.Y. POLICE DEPT|  351|MISDEMEANOR|         FRONT OF|CRIMINAL MISCHIEF...|            null|PATROL BORO BKLYN...|  259|CRIMINAL MISCHIEF...|RESIDENCE - APT. ...|09/23/2021|        null|           NaN|                null|    null|            null|        25-44|               BLACK|      F|    POINT (-73.874792...|\n",
            "| 264189415|         40|        BRONX|  09/23/2021|    02:40:00|  09/23/2021|    02:44:00|       COMPLETED|         null|       null|                0|   N.Y. POLICE DEPT|  351|MISDEMEANOR|             null|CRIMINAL MISCHIEF...|            null|   PATROL BORO BRONX|  254|MISCHIEF, CRIMINA...|              STREET|09/23/2021|        null|         18-24|               BLACK|       M|            null|          NaN|             UNKNOWN|      E|    POINT (-73.918434...|\n",
            "| 265688371|         48|        BRONX|  09/25/2021|    06:15:00|        null|        null|       COMPLETED|         null|       null|                0|   N.Y. POLICE DEPT|  359|MISDEMEANOR|           INSIDE|OFFENSES AGAINST ...|            null|   PATROL BORO BRONX|  749|VIOLATION OF ORDE...|RESIDENCE - APT. ...|09/25/2021|        null|         25-44|               BLACK|       M|            null|        25-44|             UNKNOWN|      F|    POINT (-73.882634...|\n",
            "| 968924428|          5|    MANHATTAN|  09/23/2021|    09:05:00|  09/23/2021|    10:00:00|       COMPLETED|         null|       null|                0|   N.Y. POLICE DEPT|  578|  VIOLATION|           INSIDE|       HARRASSMENT 2|            null|PATROL BORO MAN S...|  638|HARASSMENT,SUBD 3...|                null|09/24/2021|        null|           <18|               BLACK|       F|            null|          <18|      WHITE HISPANIC|      F|    POINT (-73.996632...|\n",
            "| 169796366|         77|     BROOKLYN|  09/28/2021|    18:45:00|  09/28/2021|    19:00:00|       COMPLETED|         null|       null|                0|   N.Y. POLICE DEPT|  353|MISDEMEANOR|         FRONT OF|UNAUTHORIZED USE ...|            null|PATROL BORO BKLYN...|  462|UNAUTHORIZED USE ...|              STREET|09/28/2021|        null|           <18|               BLACK|       F|            null|          65+|               BLACK|      F|    POINT (-73.945845...|\n",
            "| 174405673|         78|     BROOKLYN|  09/23/2021|    13:00:00|  09/23/2021|    18:00:00|       COMPLETED|         null|       null|                0|   N.Y. POLICE DEPT|  233|MISDEMEANOR|           INSIDE|          SEX CRIMES|            null|PATROL BORO BKLYN...|  175|    SEXUAL ABUSE 3,2|     RESIDENCE-HOUSE|09/24/2021|        null|           NaN|                null|    null|            null|        25-44|               BLACK|      F|    POINT (-73.974316...|\n",
            "| 235934856|        110|       QUEENS|  09/23/2021|    12:00:00|  09/24/2021|    07:00:00|       COMPLETED|         null|       null|                0|   N.Y. POLICE DEPT|  121|     FELONY|         FRONT OF|CRIMINAL MISCHIEF...|            null|PATROL BORO QUEEN...|  269|MISCHIEF,CRIMINAL...|OPEN AREAS (OPEN ...|09/24/2021|        null|           NaN|                 NaN|       U|            null|          NaN|             UNKNOWN|      D|    POINT (-73.844510...|\n",
            "| 742847726|        104|       QUEENS|  09/30/2021|    13:50:00|  09/30/2021|    13:55:00|       COMPLETED|         null|       null|                0|   N.Y. POLICE DEPT|  578|  VIOLATION|           INSIDE|       HARRASSMENT 2|            null|PATROL BORO QUEEN...|  637|HARASSMENT,SUBD 1...|RESIDENCE - APT. ...|09/30/2021|        null|           NaN|                 NaN|       M|            null|        25-44|               BLACK|      M|    POINT (-73.890488...|\n",
            "| 396967818|        112|       QUEENS|  09/25/2021|    13:14:00|  09/25/2021|    13:22:00|       COMPLETED|         null|       null|                0|   N.Y. POLICE DEPT|  341|MISDEMEANOR|           INSIDE|       PETIT LARCENY|            null|PATROL BORO QUEEN...|  333|LARCENY,PETIT FRO...|         CHAIN STORE|09/25/2021|        null|           NaN|ASIAN / PACIFIC I...|       U|            null|          NaN|             UNKNOWN|      D|    POINT (-73.862642...|\n",
            "| 811758183|        105|       QUEENS|  09/26/2021|    00:20:00|  09/26/2021|    00:25:00|       COMPLETED|         null|       null|                0|   N.Y. POLICE DEPT|  341|MISDEMEANOR|           INSIDE|       PETIT LARCENY|            null|PATROL BORO QUEEN...|  333|LARCENY,PETIT FRO...|         CHAIN STORE|09/27/2021|        null|           NaN|               WHITE|       M|            null|          NaN|             UNKNOWN|      D|    POINT (-73.734782...|\n",
            "| 724217445|         71|     BROOKLYN|  09/30/2021|    01:40:00|  09/30/2021|    01:45:00|       COMPLETED|         null|       null|                0|   N.Y. POLICE DEPT|  126|     FELONY|             null|MISCELLANEOUS PEN...|            null|PATROL BORO BKLYN...|  198| CRIMINAL CONTEMPT 1|              STREET|09/30/2021|        null|         45-64|               BLACK|       M|            null|        45-64|               BLACK|      F|    POINT (-73.942198...|\n",
            "| 109187548|         46|        BRONX|  09/23/2021|    12:13:00|  09/23/2021|    12:16:00|       COMPLETED|         null|       null|                0|   N.Y. POLICE DEPT|  105|     FELONY|           INSIDE|             ROBBERY|            null|   PATROL BORO BRONX|  396|ROBBERY,BEGIN AS ...|    DEPARTMENT STORE|09/23/2021|        null|           NaN|               BLACK|       F|            null|          NaN|             UNKNOWN|      D|    POINT (-73.895354...|\n",
            "| 371774827|         47|        BRONX|  09/25/2021|    17:25:00|  09/25/2021|    17:30:00|       COMPLETED|         null|       null|                0|   N.Y. POLICE DEPT|  578|  VIOLATION|           INSIDE|       HARRASSMENT 2|            null|   PATROL BORO BRONX|  638|HARASSMENT,SUBD 3...|     RESIDENCE-HOUSE|09/25/2021|        null|         45-64|               BLACK|       M|            null|        25-44|               BLACK|      F|    POINT (-73.848071...|\n",
            "| 442894436|         44|        BRONX|  09/26/2021|    12:00:00|        null|        null|       COMPLETED|         null|       null|                0|   N.Y. POLICE DEPT|  578|  VIOLATION|         FRONT OF|       HARRASSMENT 2|            null|   PATROL BORO BRONX|  638|HARASSMENT,SUBD 3...|              STREET|09/27/2021|        null|           NaN|                 NaN|       M|            null|        25-44|      WHITE HISPANIC|      F|    POINT (-73.928648...|\n",
            "| 935793820|         94|     BROOKLYN|  09/27/2021|    10:39:00|  09/27/2021|    10:40:00|       COMPLETED|         null|       null|                0|   N.Y. POLICE DEPT|  361|MISDEMEANOR|         FRONT OF|OFF. AGNST PUB OR...|            null|PATROL BORO BKLYN...|  639|AGGRAVATED HARASS...|     RESIDENCE-HOUSE|09/27/2021|        null|         45-64|               WHITE|       M|            null|        45-64|               WHITE|      M|    POINT (-73.939603...|\n",
            "| 230825636|         24|    MANHATTAN|  09/26/2021|    14:20:00|  09/26/2021|    14:25:00|       COMPLETED|         null|       null|                0|   N.Y. POLICE DEPT|  341|MISDEMEANOR|           INSIDE|       PETIT LARCENY|            null|PATROL BORO MAN N...|  333|LARCENY,PETIT FRO...|         CHAIN STORE|09/26/2021|        null|         45-64|      BLACK HISPANIC|       F|            null|          NaN|             UNKNOWN|      D|    POINT (-73.965401...|\n",
            "| 375545248|         60|     BROOKLYN|  09/24/2021|    08:00:00|  09/25/2021|    14:00:00|       COMPLETED|         null|       null|                0|   N.Y. POLICE DEPT|  341|MISDEMEANOR|           INSIDE|       PETIT LARCENY|            null|PATROL BORO BKLYN...|  338|LARCENY,PETIT FRO...|    STORAGE FACILITY|09/25/2021|        null|           NaN|                null|    null|            null|        25-44|               BLACK|      M|    POINT (-73.988175...|\n",
            "| 583071188|          1|    MANHATTAN|  09/15/2021|    11:00:00|  09/15/2021|    11:08:00|       COMPLETED|         null|       null|                0|   N.Y. POLICE DEPT|  341|MISDEMEANOR|           INSIDE|       PETIT LARCENY|            null|PATROL BORO MAN S...|  333|LARCENY,PETIT FRO...|         CHAIN STORE|09/15/2021|        null|         45-64|               WHITE|       M|            null|          NaN|             UNKNOWN|      D|    POINT (-74.011443...|\n",
            "| 945877179|        105|       QUEENS|  09/16/2021|    11:30:00|  09/16/2021|    11:35:00|       COMPLETED|         null|       null|                0|   N.Y. POLICE DEPT|  341|MISDEMEANOR|           INSIDE|       PETIT LARCENY|            null|PATROL BORO QUEEN...|  333|LARCENY,PETIT FRO...|         CHAIN STORE|09/16/2021|        null|           NaN|               BLACK|       U|            null|          NaN|             UNKNOWN|      D|    POINT (-73.749838...|\n",
            "| 906677979|         50|        BRONX|  09/18/2021|    11:45:00|  09/18/2021|    11:50:00|       COMPLETED|         null|       null|                0|   N.Y. POLICE DEPT|  109|     FELONY|           INSIDE|       GRAND LARCENY|            null|   PATROL BORO BRONX|  433|LARCENY,GRAND FRO...|    DEPARTMENT STORE|09/18/2021|        null|         25-44|               BLACK|       F|            null|          NaN|             UNKNOWN|      D|    POINT (-73.905436...|\n",
            "| 252204035|         43|        BRONX|  09/14/2021|    21:50:00|  09/14/2021|    22:00:00|       COMPLETED|         null|       null|                0|   N.Y. POLICE DEPT|  578|  VIOLATION|         FRONT OF|       HARRASSMENT 2|            null|   PATROL BORO BRONX|  638|HARASSMENT,SUBD 3...|              STREET|09/14/2021|        null|           NaN|               BLACK|       F|            null|        45-64|               BLACK|      F|    POINT (-73.870041...|\n",
            "| 612330101|         43|        BRONX|  09/21/2021|    17:15:00|  09/21/2021|    17:30:00|       COMPLETED|         null|        887|                2|N.Y. HOUSING POLICE|  578|  VIOLATION|          REAR OF|       HARRASSMENT 2|            null|   PATROL BORO BRONX|  638|HARASSMENT,SUBD 3...|RESIDENCE - PUBLI...|09/21/2021|        null|           NaN|                 NaN|       U|            null|        18-24|      WHITE HISPANIC|      M|    POINT (-73.849642...|\n",
            "| 853813782|         46|        BRONX|  09/20/2021|    10:00:00|  09/20/2021|    10:20:00|       COMPLETED|         null|       null|                0|   N.Y. POLICE DEPT|  351|MISDEMEANOR|           INSIDE|CRIMINAL MISCHIEF...|            null|   PATROL BORO BRONX|  259|CRIMINAL MISCHIEF...|RESIDENCE - APT. ...|09/20/2021|        null|           NaN|               BLACK|       M|            null|          65+|      WHITE HISPANIC|      F|    POINT (-73.897695...|\n",
            "| 416417316|        102|       QUEENS|  09/16/2021|    11:20:00|  09/16/2021|    11:23:00|       COMPLETED|         null|       null|                0|   N.Y. POLICE DEPT|  341|MISDEMEANOR|           INSIDE|       PETIT LARCENY|            null|PATROL BORO QUEEN...|  333|LARCENY,PETIT FRO...|          DRUG STORE|09/16/2021|        null|           NaN|               BLACK|       M|            null|          NaN|             UNKNOWN|      D|    POINT (-73.855127...|\n",
            "| 726863810|         63|     BROOKLYN|  09/17/2021|    22:39:00|  09/17/2021|    22:45:00|       COMPLETED|         null|       null|                0|   N.Y. POLICE DEPT|  578|  VIOLATION|         FRONT OF|       HARRASSMENT 2|            null|PATROL BORO BKLYN...|  638|HARASSMENT,SUBD 3...|     RESIDENCE-HOUSE|09/17/2021|        null|           NaN|                null|    null|            null|          65+|               WHITE|      M|    POINT (-73.923400...|\n",
            "| 953685289|         48|        BRONX|  09/18/2021|    16:35:00|  09/18/2021|    16:45:00|       COMPLETED|         null|       null|                0|   N.Y. POLICE DEPT|  344|MISDEMEANOR|         FRONT OF|ASSAULT 3 & RELAT...|            null|   PATROL BORO BRONX|  113|MENACING,UNCLASSI...|               OTHER|09/18/2021|        null|           NaN|                 NaN|       M|            null|        25-44|               BLACK|      F|    POINT (-73.882331...|\n",
            "| 216638622|        121|STATEN ISLAND|  09/16/2021|    16:30:00|  09/16/2021|    16:45:00|       COMPLETED|         null|       null|                0|   N.Y. POLICE DEPT|  361|MISDEMEANOR|         FRONT OF|OFF. AGNST PUB OR...|            null|PATROL BORO STATE...|  639|AGGRAVATED HARASS...|              STREET|09/16/2021|        null|           NaN|                 NaN|       M|            null|        18-24|               WHITE|      M|    POINT (-74.143878...|\n",
            "| 424184878|        110|       QUEENS|  09/14/2021|    20:30:00|  09/14/2021|    20:40:00|       COMPLETED|         null|       null|                0|   N.Y. POLICE DEPT|  341|MISDEMEANOR|           INSIDE|       PETIT LARCENY|            null|PATROL BORO QUEEN...|  333|LARCENY,PETIT FRO...|    DEPARTMENT STORE|09/20/2021|        null|           NaN|      WHITE HISPANIC|       F|            null|          NaN|             UNKNOWN|      D|    POINT (-73.875451...|\n",
            "| 616479759|         68|     BROOKLYN|  09/14/2021|    10:30:00|        null|        null|       COMPLETED|         null|       null|                0|   N.Y. POLICE DEPT|  351|MISDEMEANOR|             null|CRIMINAL MISCHIEF...|            null|PATROL BORO BKLYN...|  258|CRIMINAL MISCHIEF...|              STREET|09/17/2021|        null|           NaN|                null|    null|            null|          NaN|             UNKNOWN|      E|    POINT (-74.021090...|\n",
            "| 899004684|        121|STATEN ISLAND|  09/14/2021|    13:00:00|  09/14/2021|    14:00:00|       COMPLETED|         null|       null|                0|   N.Y. POLICE DEPT|  348|MISDEMEANOR|             null|VEHICLE AND TRAFF...|            null|PATROL BORO STATE...|  916|LEAVING SCENE-ACC...|              STREET|09/17/2021|        null|           NaN|      BLACK HISPANIC|       M|            null|        45-64|               WHITE|      M|    POINT (-74.169483...|\n",
            "| 958308205|         94|     BROOKLYN|  09/19/2021|    23:00:00|  09/19/2021|    23:05:00|       COMPLETED|         null|       null|                0|   N.Y. POLICE DEPT|  107|     FELONY|           INSIDE|            BURGLARY|            null|PATROL BORO BKLYN...|  223|BURGLARY,RESIDENC...|RESIDENCE - APT. ...|09/21/2021|        null|           NaN|                 NaN|       U|            null|        25-44|               WHITE|      M|    POINT (-73.958271...|\n",
            "| 622952824|         52|        BRONX|  09/17/2021|    04:55:00|  09/17/2021|    05:05:00|       COMPLETED|         null|       null|                0|   N.Y. POLICE DEPT|  109|     FELONY|           INSIDE|       GRAND LARCENY|            null|   PATROL BORO BRONX|  443|LARCENY,GRAND OF ...|                BANK|09/17/2021|        null|           NaN|               BLACK|       M|            null|        25-44|      BLACK HISPANIC|      M|    POINT (-73.879510...|\n",
            "| 419497879|        107|       QUEENS|  09/14/2021|    19:15:00|  09/15/2021|    05:00:00|       COMPLETED|         null|       null|                0|   N.Y. POLICE DEPT|  351|MISDEMEANOR|         FRONT OF|CRIMINAL MISCHIEF...|            null|PATROL BORO QUEEN...|  254|MISCHIEF, CRIMINA...|              STREET|09/15/2021|        null|           NaN|                 NaN|       U|            null|        25-44|ASIAN / PACIFIC I...|      M|    POINT (-73.780913...|\n",
            "| 393134894|         45|        BRONX|  09/18/2021|    17:40:00|  09/18/2021|    18:00:00|       COMPLETED|         null|       null|                0|   N.Y. POLICE DEPT|  106|     FELONY|           INSIDE|      FELONY ASSAULT|            null|   PATROL BORO BRONX|  105|   STRANGULATION 1ST|     RESIDENCE-HOUSE|09/18/2021|        null|         25-44|      WHITE HISPANIC|       M|            null|        25-44|      WHITE HISPANIC|      F|    POINT (-73.822773...|\n",
            "| 374863834|         33|    MANHATTAN|  09/21/2021|    18:57:00|  09/21/2021|    19:03:00|       COMPLETED|         null|       null|                0|   N.Y. POLICE DEPT|  341|MISDEMEANOR|           INSIDE|       PETIT LARCENY|            null|PATROL BORO MAN N...|  333|LARCENY,PETIT FRO...|         CHAIN STORE|09/21/2021|        null|           NaN|      BLACK HISPANIC|       M|            null|          NaN|             UNKNOWN|      D|    POINT (-73.937825...|\n",
            "| 642479711|        102|       QUEENS|  09/21/2021|    13:30:00|  09/21/2021|    13:34:00|       COMPLETED|         null|       null|                0|   N.Y. POLICE DEPT|  578|  VIOLATION|         FRONT OF|       HARRASSMENT 2|            null|PATROL BORO QUEEN...|  637|HARASSMENT,SUBD 1...|              STREET|09/21/2021|        null|         25-44|               BLACK|       M|            null|        25-44|      BLACK HISPANIC|      M|    POINT (-73.867540...|\n",
            "| 575465458|         79|     BROOKLYN|  09/20/2021|    09:47:00|  09/20/2021|    09:50:00|       COMPLETED|         null|       null|                0|   N.Y. POLICE DEPT|  341|MISDEMEANOR|           INSIDE|       PETIT LARCENY|            null|PATROL BORO BKLYN...|  333|LARCENY,PETIT FRO...|         CHAIN STORE|09/20/2021|        null|           NaN|               BLACK|       M|            null|          NaN|             UNKNOWN|      D|    POINT (-73.952558...|\n",
            "| 968724195|          1|    MANHATTAN|  09/20/2021|    12:00:00|  09/21/2021|    06:15:00|       COMPLETED|         null|       null|                0|   N.Y. POLICE DEPT|  351|MISDEMEANOR|           INSIDE|CRIMINAL MISCHIEF...|            null|PATROL BORO MAN S...|  258|CRIMINAL MISCHIEF...|            HOSPITAL|09/21/2021|        null|           NaN|                null|    null|            null|          NaN|             UNKNOWN|      D|    POINT (-74.004542...|\n",
            "| 806792159|         48|        BRONX|  09/18/2021|    20:25:00|  09/18/2021|    20:30:00|       COMPLETED|         null|       null|                0|   N.Y. POLICE DEPT|  105|     FELONY|           INSIDE|             ROBBERY|            null|   PATROL BORO BRONX|  388|ROBBERY,RESIDENTI...|RESIDENCE - APT. ...|09/18/2021|        null|           NaN|               BLACK|       M|            null|          65+|               BLACK|      M|    POINT (-73.893779...|\n",
            "| 397165496|         90|     BROOKLYN|  09/22/2021|    18:50:00|  09/22/2021|    18:55:00|       COMPLETED|         null|       null|                0|   N.Y. POLICE DEPT|  578|  VIOLATION|         FRONT OF|       HARRASSMENT 2|            null|PATROL BORO BKLYN...|  638|HARASSMENT,SUBD 3...|RESIDENCE - APT. ...|09/22/2021|        null|           NaN|                 NaN|       U|            null|          65+|ASIAN / PACIFIC I...|      M|    POINT (-73.960283...|\n",
            "| 873834900|         19|    MANHATTAN|  09/20/2021|    00:42:00|  09/20/2021|    00:44:00|       COMPLETED|         null|       null|                0|   N.Y. POLICE DEPT|  341|MISDEMEANOR|           INSIDE|       PETIT LARCENY|            null|PATROL BORO MAN N...|  333|LARCENY,PETIT FRO...|         CHAIN STORE|09/20/2021|        null|         25-44|               BLACK|       M|            null|          NaN|             UNKNOWN|      D|    POINT (-73.958115...|\n",
            "| 869579786|         61|     BROOKLYN|  08/09/2021|    20:00:00|  09/08/2021|    06:30:00|       COMPLETED|         null|       null|                0|   N.Y. POLICE DEPT|  106|     FELONY|           INSIDE|      FELONY ASSAULT|            null|PATROL BORO BKLYN...|  109|ASSAULT 2,1,UNCLA...|RESIDENCE - APT. ...|09/22/2021|        null|         25-44|               WHITE|       M|            null|        18-24|ASIAN / PACIFIC I...|      F|    POINT (-73.950354...|\n",
            "| 243218762|         13|    MANHATTAN|  09/22/2021|    11:14:00|  09/22/2021|    11:25:00|       COMPLETED|         null|       null|                0|   N.Y. POLICE DEPT|  113|     FELONY|             null|             FORGERY|            null|PATROL BORO MAN S...|  729|FORGERY,ETC.,UNCL...|              STREET|09/22/2021|        null|         18-24|               BLACK|       F|            null|          NaN|             UNKNOWN|      E|    POINT (-73.990069...|\n",
            "| 320047228|         44|        BRONX|  09/22/2021|    04:21:00|  09/22/2021|    04:27:00|       COMPLETED|         null|       null|                0|   N.Y. POLICE DEPT|  106|     FELONY|             null|      FELONY ASSAULT|MACOMBS DAM PARK|   PATROL BORO BRONX|  105|   STRANGULATION 1ST|     PARK/PLAYGROUND|09/22/2021|        null|         25-44|      WHITE HISPANIC|       M|            null|        25-44|      WHITE HISPANIC|      M|    POINT (-73.925930...|\n",
            "| 618101592|         73|     BROOKLYN|  09/20/2021|    20:30:00|  09/21/2021|    05:20:00|       COMPLETED|         null|        356|                2|N.Y. HOUSING POLICE|  578|  VIOLATION|         FRONT OF|       HARRASSMENT 2|            null|PATROL BORO BKLYN...|  638|HARASSMENT,SUBD 3...|RESIDENCE - PUBLI...|09/21/2021|        null|         25-44|               BLACK|       M|            null|        25-44|               BLACK|      F|    POINT (-73.909848...|\n",
            "| 292134749|        108|       QUEENS|  09/19/2021|    20:30:00|  09/19/2021|    20:50:00|       COMPLETED|         null|       null|                0|   N.Y. POLICE DEPT|  578|  VIOLATION|           INSIDE|       HARRASSMENT 2|            null|PATROL BORO QUEEN...|  638|HARASSMENT,SUBD 3...|RESIDENCE - APT. ...|09/19/2021|        null|         25-44|                 NaN|       M|            null|        45-64|               WHITE|      F|    POINT (-73.919110...|\n",
            "| 202529130|        122|STATEN ISLAND|  06/23/2021|    17:00:00|  09/22/2021|    18:50:00|       COMPLETED|         null|       null|                0|   N.Y. POLICE DEPT|  112|     FELONY|           INSIDE|         THEFT-FRAUD|            null|PATROL BORO STATE...|  739|FRAUD,UNCLASSIFIE...|     RESIDENCE-HOUSE|09/22/2021|        null|           NaN|                null|    null|            null|        45-64|               WHITE|      F|    POINT (-74.116193...|\n",
            "| 620733823|         73|     BROOKLYN|  09/21/2021|    19:00:00|  09/21/2021|    20:00:00|       COMPLETED|         null|       null|                0|   N.Y. POLICE DEPT|  578|  VIOLATION|           INSIDE|       HARRASSMENT 2|            null|PATROL BORO BKLYN...|  638|HARASSMENT,SUBD 3...|RESIDENCE - APT. ...|09/22/2021|        null|           NaN|                 NaN|       F|            null|        25-44|               BLACK|      F|    POINT (-73.915161...|\n",
            "| 297791888|        104|       QUEENS|  09/20/2021|    09:00:00|  09/21/2021|    12:00:00|       COMPLETED|         null|       null|                0|   N.Y. POLICE DEPT|  109|     FELONY|           INSIDE|       GRAND LARCENY|            null|PATROL BORO QUEEN...|  402|LARCENY,GRAND BY ...|  STORE UNCLASSIFIED|09/22/2021|        null|           NaN|                 NaN|       U|            null|          NaN|             UNKNOWN|      D|    POINT (-73.894528...|\n",
            "| 337744522|         14|    MANHATTAN|  09/16/2021|    23:23:00|  09/16/2021|    23:30:00|       COMPLETED|         null|       null|                0|   N.Y. POLICE DEPT|  341|MISDEMEANOR|           INSIDE|       PETIT LARCENY|            null|PATROL BORO MAN S...|  339|LARCENY,PETIT FRO...|           FAST FOOD|09/17/2021|        null|           NaN|                null|    null|            null|          NaN|             UNKNOWN|      D|    POINT (-73.986625...|\n",
            "| 622718293|         43|        BRONX|  09/14/2021|    23:30:00|  09/14/2021|    23:37:00|       COMPLETED|         null|        887|                2|N.Y. HOUSING POLICE|  347|MISDEMEANOR|         FRONT OF|INTOXICATED & IMP...|            null|   PATROL BORO BRONX|  905|INTOXICATED DRIVI...|RESIDENCE - PUBLI...|09/15/2021|        null|         25-44|      WHITE HISPANIC|       M|            null|          NaN|             UNKNOWN|      E|    POINT (-73.846989...|\n",
            "| 967950073|         49|        BRONX|  08/31/2021|    07:00:00|  09/18/2021|    16:45:00|       COMPLETED|         null|       null|                0|   N.Y. POLICE DEPT|  110|     FELONY|         FRONT OF|GRAND LARCENY OF ...|            null|   PATROL BORO BRONX|  441|LARCENY,GRAND OF ...|              STREET|09/18/2021|        null|           NaN|                 NaN|       U|            null|        25-44|               BLACK|      M|    POINT (-73.853523...|\n",
            "| 679746277|         23|    MANHATTAN|  09/16/2021|    13:52:00|        null|        null|       COMPLETED|         null|       null|                0|   N.Y. POLICE DEPT|  341|MISDEMEANOR|           INSIDE|       PETIT LARCENY|            null|PATROL BORO MAN N...|  333|LARCENY,PETIT FRO...|         CHAIN STORE|09/16/2021|        null|           NaN|                 NaN|       U|            null|          NaN|             UNKNOWN|      D|    POINT (-73.950684...|\n",
            "| 435887913|        114|       QUEENS|  09/05/2021|    18:04:00|  09/13/2021|    18:24:00|       COMPLETED|         null|      21821|                2|N.Y. HOUSING POLICE|  361|MISDEMEANOR|           INSIDE|OFF. AGNST PUB OR...|            null|PATROL BORO QUEEN...|  639|AGGRAVATED HARASS...|RESIDENCE - PUBLI...|09/15/2021|        null|         25-44|      WHITE HISPANIC|       M|            null|        45-64|      WHITE HISPANIC|      F|    POINT (-73.946190...|\n",
            "| 126669041|         30|    MANHATTAN|  09/17/2021|    10:53:00|  09/17/2021|    10:55:00|       COMPLETED|         null|       null|                0|   N.Y. POLICE DEPT|  578|  VIOLATION|         FRONT OF|       HARRASSMENT 2|            null|PATROL BORO MAN N...|  638|HARASSMENT,SUBD 3...|              STREET|09/17/2021|        null|         45-64|      WHITE HISPANIC|       M|            null|          NaN|             UNKNOWN|      M|    POINT (-73.954085...|\n",
            "| 117739752|        113|       QUEENS|  09/01/2021|    08:00:00|  09/15/2021|    20:00:00|       COMPLETED|         null|       null|                0|   N.Y. POLICE DEPT|  351|MISDEMEANOR|         FRONT OF|CRIMINAL MISCHIEF...|            null|PATROL BORO QUEEN...|  258|CRIMINAL MISCHIEF...|              CHURCH|09/22/2021|        null|           NaN|                 NaN|       U|            null|          NaN|             UNKNOWN|      D|    POINT (-73.775940...|\n",
            "| 920867842|        121|STATEN ISLAND|  09/15/2021|    14:50:00|  09/15/2021|    15:12:00|       COMPLETED|         null|       null|                0|   N.Y. POLICE DEPT|  341|MISDEMEANOR|           INSIDE|       PETIT LARCENY|            null|PATROL BORO STATE...|  333|LARCENY,PETIT FRO...|          DRUG STORE|09/15/2021|        null|         25-44|      WHITE HISPANIC|       M|            null|          NaN|             UNKNOWN|      D|    POINT (-74.157252...|\n",
            "| 954829997|         70|     BROOKLYN|  09/20/2021|    21:00:00|  09/20/2021|    21:15:00|       COMPLETED|         null|       null|                0|   N.Y. POLICE DEPT|  578|  VIOLATION|           INSIDE|       HARRASSMENT 2|            null|PATROL BORO BKLYN...|  637|HARASSMENT,SUBD 1...|RESIDENCE - APT. ...|09/20/2021|        null|           NaN|               BLACK|       F|            null|          <18|      WHITE HISPANIC|      F|    POINT (-73.951246...|\n",
            "| 462466366|         20|    MANHATTAN|  09/04/2021|    13:00:00|  09/14/2021|    20:00:00|       COMPLETED|         null|       null|                0|   N.Y. POLICE DEPT|  341|MISDEMEANOR|           INSIDE|       PETIT LARCENY|            null|PATROL BORO MAN N...|  343|LARCENY,PETIT OF ...|RESIDENCE - APT. ...|09/15/2021|        null|           NaN|                null|    null|            null|        25-44|               WHITE|      M|    POINT (-73.979254...|\n",
            "| 732284792|         90|     BROOKLYN|  09/15/2021|    11:15:00|  09/15/2021|    12:18:00|       COMPLETED|         null|       null|                0|   N.Y. POLICE DEPT|  348|MISDEMEANOR|             null|VEHICLE AND TRAFF...|            null|PATROL BORO BKLYN...|  916|LEAVING SCENE-ACC...|              STREET|09/18/2021|        null|           NaN|ASIAN / PACIFIC I...|       M|            null|        45-64|               WHITE|      M|    POINT (-73.950400...|\n",
            "| 775479823|        109|       QUEENS|  09/16/2021|    19:00:00|  09/16/2021|    20:00:00|       COMPLETED|         null|       null|                0|   N.Y. POLICE DEPT|  109|     FELONY|           INSIDE|       GRAND LARCENY|            null|PATROL BORO QUEEN...|  415|LARCENY,GRAND FRO...|     PUBLIC BUILDING|09/16/2021|        null|           NaN|                 NaN|       M|            null|        25-44|      WHITE HISPANIC|      F|    POINT (-73.833883...|\n",
            "| 422496947|        105|       QUEENS|  09/19/2021|    19:40:00|  09/19/2021|    19:45:00|       ATTEMPTED|         null|       null|                0|   N.Y. POLICE DEPT|  105|     FELONY|           INSIDE|             ROBBERY|            null|PATROL BORO QUEEN...|  389|    ROBBERY,DWELLING|     RESIDENCE-HOUSE|09/19/2021|        null|         25-44|               BLACK|       M|            null|        18-24|               BLACK|      M|    POINT (-73.725869...|\n",
            "| 915139395|         83|     BROOKLYN|  09/16/2021|    00:38:00|  09/16/2021|    00:39:00|       COMPLETED|         null|       null|                0|   N.Y. POLICE DEPT|  351|MISDEMEANOR|         FRONT OF|CRIMINAL MISCHIEF...|            null|PATROL BORO BKLYN...|  254|MISCHIEF, CRIMINA...|              STREET|09/16/2021|        null|           NaN|               BLACK|       M|            null|        25-44|               WHITE|      M|    POINT (-73.926244...|\n",
            "| 805944455|        102|       QUEENS|  09/01/2021|    10:00:00|  09/01/2021|    10:05:00|       COMPLETED|         null|       null|                0|   N.Y. POLICE DEPT|  361|MISDEMEANOR|           INSIDE|OFF. AGNST PUB OR...|            null|PATROL BORO QUEEN...|  639|AGGRAVATED HARASS...|RESIDENCE - APT. ...|09/15/2021|        null|           65+|      WHITE HISPANIC|       F|            null|          65+|      WHITE HISPANIC|      F|    POINT (-73.822959...|\n",
            "+----------+-----------+-------------+------------+------------+------------+------------+----------------+-------------+-----------+-----------------+-------------------+-----+-----------+-----------------+--------------------+----------------+--------------------+-----+--------------------+--------------------+----------+------------+--------------+--------------------+--------+----------------+-------------+--------------------+-------+------------------------+\n",
            "only showing top 100 rows\n",
            "\n"
          ]
        }
      ],
      "source": [
        "df.show(100)"
      ]
    },
    {
      "cell_type": "code",
      "execution_count": null,
      "metadata": {
        "id": "r-IkJsOz2b5V",
        "colab": {
          "base_uri": "https://localhost:8080/"
        },
        "outputId": "d436d8e8-659f-4c4c-fb2f-be875615c9eb"
      },
      "outputs": [
        {
          "output_type": "stream",
          "name": "stdout",
          "text": [
            "+--------------------+\n",
            "|           SUSP_RACE|\n",
            "+--------------------+\n",
            "|               WHITE|\n",
            "|               BLACK|\n",
            "|AMERICAN INDIAN/A...|\n",
            "|                null|\n",
            "|      BLACK HISPANIC|\n",
            "|      WHITE HISPANIC|\n",
            "|                 NaN|\n",
            "|ASIAN / PACIFIC I...|\n",
            "+--------------------+\n",
            "\n"
          ]
        }
      ],
      "source": [
        "df.select('SUSP_RACE').distinct().show()"
      ]
    },
    {
      "cell_type": "code",
      "execution_count": null,
      "metadata": {
        "id": "onrUAeaeosWl",
        "colab": {
          "base_uri": "https://localhost:8080/"
        },
        "outputId": "f6406d13-4eae-4b69-df19-dc21752d519a"
      },
      "outputs": [
        {
          "output_type": "stream",
          "name": "stdout",
          "text": [
            "+--------------------+\n",
            "|            VIC_RACE|\n",
            "+--------------------+\n",
            "|               WHITE|\n",
            "|               BLACK|\n",
            "|AMERICAN INDIAN/A...|\n",
            "|                null|\n",
            "|      BLACK HISPANIC|\n",
            "|      WHITE HISPANIC|\n",
            "|             UNKNOWN|\n",
            "|ASIAN / PACIFIC I...|\n",
            "+--------------------+\n",
            "\n"
          ]
        }
      ],
      "source": [
        "df.select('VIC_RACE').distinct().show()"
      ]
    },
    {
      "cell_type": "code",
      "execution_count": null,
      "metadata": {
        "id": "rFoikiAB1x3V"
      },
      "outputs": [],
      "source": [
        "from pyspark.sql.functions import regexp_replace\n",
        "\n",
        "df = df.withColumn(\"VIC_RACE\",\n",
        "  regexp_replace(\"VIC_RACE\", \"UNKNOWN\", \"NaN\"))"
      ]
    },
    {
      "cell_type": "code",
      "execution_count": null,
      "metadata": {
        "id": "0RaNG8Wk2vQE",
        "colab": {
          "base_uri": "https://localhost:8080/"
        },
        "outputId": "33e8a9d1-9317-44ee-95a4-375c5307303d"
      },
      "outputs": [
        {
          "output_type": "stream",
          "name": "stdout",
          "text": [
            "+--------------------+\n",
            "|            VIC_RACE|\n",
            "+--------------------+\n",
            "|               WHITE|\n",
            "|               BLACK|\n",
            "|AMERICAN INDIAN/A...|\n",
            "|                null|\n",
            "|      BLACK HISPANIC|\n",
            "|      WHITE HISPANIC|\n",
            "|                 NaN|\n",
            "|ASIAN / PACIFIC I...|\n",
            "+--------------------+\n",
            "\n"
          ]
        }
      ],
      "source": [
        "df.select('VIC_RACE').distinct().show()"
      ]
    },
    {
      "cell_type": "markdown",
      "metadata": {
        "id": "9BlHN7RN20P1"
      },
      "source": [
        "### Checks for Suspect & Victim Sex"
      ]
    },
    {
      "cell_type": "code",
      "execution_count": null,
      "metadata": {
        "id": "zsjPnhTAGxNj",
        "colab": {
          "base_uri": "https://localhost:8080/"
        },
        "outputId": "e3f89c24-2c8c-40fc-e5b7-08b166d6e7ad"
      },
      "outputs": [
        {
          "output_type": "stream",
          "name": "stdout",
          "text": [
            "+--------+\n",
            "|SUSP_SEX|\n",
            "+--------+\n",
            "|       F|\n",
            "|    null|\n",
            "|       M|\n",
            "|       U|\n",
            "+--------+\n",
            "\n"
          ]
        }
      ],
      "source": [
        "df.select('SUSP_SEX').distinct().show()"
      ]
    },
    {
      "cell_type": "markdown",
      "metadata": {
        "id": "GZBTi4BWTtiO"
      },
      "source": [
        "#### Checking values in suspect sex"
      ]
    },
    {
      "cell_type": "code",
      "execution_count": null,
      "metadata": {
        "id": "kTb_dCZlDlHN",
        "colab": {
          "base_uri": "https://localhost:8080/"
        },
        "outputId": "9806b51f-b105-4a88-b1e2-0c57793b0ca0"
      },
      "outputs": [
        {
          "output_type": "stream",
          "name": "stdout",
          "text": [
            "+--------+------+\n",
            "|SUSP_SEX| count|\n",
            "+--------+------+\n",
            "|       M|152451|\n",
            "|       U| 67077|\n",
            "|    null| 62146|\n",
            "|       F| 41269|\n",
            "+--------+------+\n",
            "\n"
          ]
        }
      ],
      "source": [
        "df.groupBy('SUSP_SEX').count().orderBy('count', ascending=False).show()"
      ]
    },
    {
      "cell_type": "code",
      "execution_count": null,
      "metadata": {
        "id": "8qyhrbbuGqaW",
        "colab": {
          "base_uri": "https://localhost:8080/"
        },
        "outputId": "666e5d9b-074a-4bd8-f059-b348c530b8c7"
      },
      "outputs": [
        {
          "output_type": "stream",
          "name": "stdout",
          "text": [
            "+-------+\n",
            "|VIC_SEX|\n",
            "+-------+\n",
            "|      F|\n",
            "|      E|\n",
            "|      M|\n",
            "|      D|\n",
            "+-------+\n",
            "\n"
          ]
        }
      ],
      "source": [
        "df.select('VIC_SEX').distinct().show()"
      ]
    },
    {
      "cell_type": "code",
      "execution_count": null,
      "metadata": {
        "id": "wqIIB5niHER9",
        "colab": {
          "base_uri": "https://localhost:8080/"
        },
        "outputId": "751f76d3-37fb-420e-ff5b-f593c3a92227"
      },
      "outputs": [
        {
          "output_type": "stream",
          "name": "stdout",
          "text": [
            "+-------+------+\n",
            "|VIC_SEX| count|\n",
            "+-------+------+\n",
            "|      F|129594|\n",
            "|      M|113275|\n",
            "|      D| 51207|\n",
            "|      E| 28867|\n",
            "+-------+------+\n",
            "\n"
          ]
        }
      ],
      "source": [
        "df.groupBy('VIC_SEX').count().orderBy('count', ascending=False).show()"
      ]
    },
    {
      "cell_type": "markdown",
      "metadata": {
        "id": "u50lhakET780"
      },
      "source": [
        "#### Get unique values of offense description in sorted order"
      ]
    },
    {
      "cell_type": "code",
      "execution_count": null,
      "metadata": {
        "id": "P22KLvXgf5qs",
        "colab": {
          "base_uri": "https://localhost:8080/"
        },
        "outputId": "05b55b2f-1616-43a1-ecbb-308475ab5f50"
      },
      "outputs": [
        {
          "output_type": "stream",
          "name": "stdout",
          "text": [
            "+--------------------+\n",
            "|           OFNS_DESC|\n",
            "+--------------------+\n",
            "|                null|\n",
            "| ADMINISTRATIVE CODE|\n",
            "|AGRICULTURE & MRK...|\n",
            "|ALCOHOLIC BEVERAG...|\n",
            "|ANTICIPATORY OFFE...|\n",
            "|               ARSON|\n",
            "|ASSAULT 3 & RELAT...|\n",
            "|     BURGLAR'S TOOLS|\n",
            "|            BURGLARY|\n",
            "|CHILD ABANDONMENT...|\n",
            "|CRIMINAL MISCHIEF...|\n",
            "|   CRIMINAL TRESPASS|\n",
            "|     DANGEROUS DRUGS|\n",
            "|   DANGEROUS WEAPONS|\n",
            "|  DISORDERLY CONDUCT|\n",
            "|DISRUPTION OF A R...|\n",
            "|ENDAN WELFARE INCOMP|\n",
            "|            ESCAPE 3|\n",
            "|      FELONY ASSAULT|\n",
            "|   FELONY SEX CRIMES|\n",
            "+--------------------+\n",
            "only showing top 20 rows\n",
            "\n"
          ]
        }
      ],
      "source": [
        "df.select('OFNS_DESC').distinct().orderBy('OFNS_DESC', ascending=True).show()"
      ]
    },
    {
      "cell_type": "markdown",
      "metadata": {
        "id": "oXST8FTeUGgZ"
      },
      "source": [
        "#### Getting Total Count of Offense Description"
      ]
    },
    {
      "cell_type": "code",
      "execution_count": null,
      "metadata": {
        "id": "S7qj-jmIMCWL",
        "colab": {
          "base_uri": "https://localhost:8080/"
        },
        "outputId": "c2ed79e3-9081-4b2b-b712-fccd085a6263"
      },
      "outputs": [
        {
          "output_type": "execute_result",
          "data": {
            "text/plain": [
              "61"
            ]
          },
          "metadata": {},
          "execution_count": 139
        }
      ],
      "source": [
        "df.select('OFNS_DESC').distinct().count()"
      ]
    },
    {
      "cell_type": "code",
      "execution_count": null,
      "metadata": {
        "id": "feQGTHyyqflL",
        "colab": {
          "base_uri": "https://localhost:8080/"
        },
        "outputId": "b5f85477-c777-4648-efbe-c5fe94d0ad3b"
      },
      "outputs": [
        {
          "output_type": "stream",
          "name": "stdout",
          "text": [
            "+--------------------+-----+\n",
            "|           OFNS_DESC|count|\n",
            "+--------------------+-----+\n",
            "|ANTICIPATORY OFFE...|   13|\n",
            "|   FELONY SEX CRIMES|   14|\n",
            "|NEW YORK CITY HEA...|    3|\n",
            "|OTHER OFFENSES RE...|  466|\n",
            "|VEHICLE AND TRAFF...| 6060|\n",
            "|KIDNAPPING & RELA...|  100|\n",
            "|HOMICIDE-NEGLIGEN...|    2|\n",
            "|OFF. AGNST PUB OR...|12985|\n",
            "|PETIT LARCENY OF ...|  105|\n",
            "|OFFENSES AGAINST ...|    1|\n",
            "|      FELONY ASSAULT|16743|\n",
            "|ALCOHOLIC BEVERAG...|   52|\n",
            "|OFFENSES RELATED ...|    4|\n",
            "|CRIMINAL MISCHIEF...|33575|\n",
            "|         THEFT-FRAUD| 3003|\n",
            "|   THEFT OF SERVICES|   99|\n",
            "|            JOSTLING|    4|\n",
            "|MISCELLANEOUS PEN...|10748|\n",
            "|LOITERING/GAMBLIN...|    1|\n",
            "|               ARSON|  472|\n",
            "+--------------------+-----+\n",
            "only showing top 20 rows\n",
            "\n"
          ]
        }
      ],
      "source": [
        "df.groupBy('OFNS_DESC').count().show()"
      ]
    },
    {
      "cell_type": "markdown",
      "metadata": {
        "id": "a_22p8gNUWwK"
      },
      "source": [
        "**Map Key Codes with Offense Description**"
      ]
    },
    {
      "cell_type": "code",
      "execution_count": null,
      "metadata": {
        "id": "F43lcNe1jCIP",
        "colab": {
          "base_uri": "https://localhost:8080/"
        },
        "outputId": "c74d5926-cf60-4ad7-f3a8-78fe5afde370"
      },
      "outputs": [
        {
          "output_type": "stream",
          "name": "stdout",
          "text": [
            "+-----+--------------------+\n",
            "|KY_CD|          OFNS_DESCS|\n",
            "+-----+--------------------+\n",
            "|  102|[HOMICIDE-NEGLIGE...|\n",
            "|  103|[HOMICIDE-NEGLIGE...|\n",
            "|  104|              [RAPE]|\n",
            "|  105|           [ROBBERY]|\n",
            "|  106|    [FELONY ASSAULT]|\n",
            "|  107|          [BURGLARY]|\n",
            "|  109|     [GRAND LARCENY]|\n",
            "|  110|[GRAND LARCENY OF...|\n",
            "|  111|[POSSESSION OF ST...|\n",
            "|  112|       [THEFT-FRAUD]|\n",
            "|  113|           [FORGERY]|\n",
            "|  114|             [ARSON]|\n",
            "|  115|[PROSTITUTION & R...|\n",
            "|  116|[SEX CRIMES, FELO...|\n",
            "|  117|   [DANGEROUS DRUGS]|\n",
            "|  118| [DANGEROUS WEAPONS]|\n",
            "|  119|[INTOXICATED/IMPA...|\n",
            "|  120|[ENDAN WELFARE IN...|\n",
            "|  121|[CRIMINAL MISCHIE...|\n",
            "|  122|          [GAMBLING]|\n",
            "+-----+--------------------+\n",
            "only showing top 20 rows\n",
            "\n"
          ]
        }
      ],
      "source": [
        "key_off_mapping = df.groupBy('KY_CD').agg(collect_set('OFNS_DESC').alias('OFNS_DESCS')).orderBy('KY_CD')\n",
        "key_off_mapping.show()"
      ]
    },
    {
      "cell_type": "code",
      "execution_count": null,
      "metadata": {
        "id": "T-uGRES6yApb",
        "colab": {
          "base_uri": "https://localhost:8080/"
        },
        "outputId": "6f5b7b84-e2d8-4380-b0a4-59eb26545934"
      },
      "outputs": [
        {
          "output_type": "execute_result",
          "data": {
            "text/plain": [
              "62"
            ]
          },
          "metadata": {},
          "execution_count": 142
        }
      ],
      "source": [
        "key_off_mapping.count()"
      ]
    },
    {
      "cell_type": "code",
      "execution_count": null,
      "metadata": {
        "id": "_iGrOfh5C-bd",
        "colab": {
          "base_uri": "https://localhost:8080/"
        },
        "outputId": "ed7954ab-e4c3-4245-8645-ccca154b2823"
      },
      "outputs": [
        {
          "output_type": "execute_result",
          "data": {
            "text/plain": [
              "62"
            ]
          },
          "metadata": {},
          "execution_count": 143
        }
      ],
      "source": [
        "df.select('KY_CD').distinct().count()"
      ]
    },
    {
      "cell_type": "markdown",
      "source": [
        "### Functional Dependency Violation for OFNS_DESC & KY_CD"
      ],
      "metadata": {
        "id": "XcrKWfruKlJI"
      }
    },
    {
      "cell_type": "code",
      "source": [
        "ofns_key = ds.to_df()"
      ],
      "metadata": {
        "id": "KJeV3g5u9c9W"
      },
      "execution_count": null,
      "outputs": []
    },
    {
      "cell_type": "code",
      "source": [
        "from openclean.operator.map.violations import fd_violations\n",
        "from openclean.operator.collector.count import distinct\n",
        "\n",
        "fd2_violations = fd_violations(ofns_key, ['KY_CD'], ['OFNS_DESC'])\n",
        "\n",
        "print('# of violations for FD(KY_CD -> OFNS_DESC) is {}\\n'.format(len(fd2_violations)))\n",
        "for key, gr in fd2_violations.items():\n",
        "    print(gr[['KY_CD', 'OFNS_DESC']])"
      ],
      "metadata": {
        "colab": {
          "base_uri": "https://localhost:8080/"
        },
        "id": "XpVgZu-X-jSs",
        "outputId": "6c9cf8c9-d61c-4300-8d9d-b72c9a332c5e"
      },
      "execution_count": null,
      "outputs": [
        {
          "output_type": "stream",
          "name": "stdout",
          "text": [
            "# of violations for FD(KY_CD -> OFNS_DESC) is 9\n",
            "\n",
            "       KY_CD                OFNS_DESC\n",
            "104      126  MISCELLANEOUS PENAL LAW\n",
            "161      126  MISCELLANEOUS PENAL LAW\n",
            "195      126  MISCELLANEOUS PENAL LAW\n",
            "243      126  MISCELLANEOUS PENAL LAW\n",
            "244      126  MISCELLANEOUS PENAL LAW\n",
            "...      ...                      ...\n",
            "323640   126  MISCELLANEOUS PENAL LAW\n",
            "323643   126  MISCELLANEOUS PENAL LAW\n",
            "323665   126  MISCELLANEOUS PENAL LAW\n",
            "323723   126  MISCELLANEOUS PENAL LAW\n",
            "323762   126  MISCELLANEOUS PENAL LAW\n",
            "\n",
            "[10450 rows x 2 columns]\n",
            "       KY_CD                       OFNS_DESC\n",
            "119      343  OTHER OFFENSES RELATED TO THEF\n",
            "629      343  OTHER OFFENSES RELATED TO THEF\n",
            "1167     343  OTHER OFFENSES RELATED TO THEF\n",
            "1877     343               THEFT OF SERVICES\n",
            "2605     343  OTHER OFFENSES RELATED TO THEF\n",
            "...      ...                             ...\n",
            "320888   343  OTHER OFFENSES RELATED TO THEF\n",
            "322746   343  OTHER OFFENSES RELATED TO THEF\n",
            "323015   343  OTHER OFFENSES RELATED TO THEF\n",
            "323021   343  OTHER OFFENSES RELATED TO THEF\n",
            "323165   343  OTHER OFFENSES RELATED TO THEF\n",
            "\n",
            "[565 rows x 2 columns]\n",
            "       KY_CD   OFNS_DESC\n",
            "185      116  SEX CRIMES\n",
            "594      116  SEX CRIMES\n",
            "675      116  SEX CRIMES\n",
            "879      116  SEX CRIMES\n",
            "1166     116  SEX CRIMES\n",
            "...      ...         ...\n",
            "320453   116  SEX CRIMES\n",
            "321228   116  SEX CRIMES\n",
            "322492   116  SEX CRIMES\n",
            "322937   116  SEX CRIMES\n",
            "323530   116  SEX CRIMES\n",
            "\n",
            "[1117 rows x 2 columns]\n",
            "       KY_CD                             OFNS_DESC\n",
            "716      364        OTHER STATE LAWS (NON PENAL LA\n",
            "1266     364        OTHER STATE LAWS (NON PENAL LA\n",
            "2620     364  AGRICULTURE & MRKTS LAW-UNCLASSIFIED\n",
            "3357     364        OTHER STATE LAWS (NON PENAL LA\n",
            "4975     364        OTHER STATE LAWS (NON PENAL LA\n",
            "...      ...                                   ...\n",
            "319325   364        OTHER STATE LAWS (NON PENAL LA\n",
            "319875   364        OTHER STATE LAWS (NON PENAL LA\n",
            "322414   364        OTHER STATE LAWS (NON PENAL LA\n",
            "323604   364        OTHER STATE LAWS (NON PENAL LA\n",
            "323632   364  AGRICULTURE & MRKTS LAW-UNCLASSIFIED\n",
            "\n",
            "[295 rows x 2 columns]\n",
            "       KY_CD                      OFNS_DESC\n",
            "1299     124  KIDNAPPING & RELATED OFFENSES\n",
            "1696     124  KIDNAPPING & RELATED OFFENSES\n",
            "2318     124  KIDNAPPING & RELATED OFFENSES\n",
            "4179     124  KIDNAPPING & RELATED OFFENSES\n",
            "6057     124  KIDNAPPING & RELATED OFFENSES\n",
            "...      ...                            ...\n",
            "313231   124  KIDNAPPING & RELATED OFFENSES\n",
            "320182   124  KIDNAPPING & RELATED OFFENSES\n",
            "320235   124  KIDNAPPING & RELATED OFFENSES\n",
            "320330   124  KIDNAPPING & RELATED OFFENSES\n",
            "322566   124  KIDNAPPING & RELATED OFFENSES\n",
            "\n",
            "[106 rows x 2 columns]\n",
            "       KY_CD                       OFNS_DESC\n",
            "1307     125    NYS LAWS-UNCLASSIFIED FELONY\n",
            "2550     125  OTHER STATE LAWS (NON PENAL LA\n",
            "3208     125    NYS LAWS-UNCLASSIFIED FELONY\n",
            "3579     125    NYS LAWS-UNCLASSIFIED FELONY\n",
            "5803     125    NYS LAWS-UNCLASSIFIED FELONY\n",
            "...      ...                             ...\n",
            "317623   125    NYS LAWS-UNCLASSIFIED FELONY\n",
            "319353   125    NYS LAWS-UNCLASSIFIED FELONY\n",
            "320550   125    NYS LAWS-UNCLASSIFIED FELONY\n",
            "320592   125    NYS LAWS-UNCLASSIFIED FELONY\n",
            "322429   125    NYS LAWS-UNCLASSIFIED FELONY\n",
            "\n",
            "[307 rows x 2 columns]\n",
            "       KY_CD                        OFNS_DESC\n",
            "10781    677  NYS LAWS-UNCLASSIFIED VIOLATION\n",
            "96607    677  NYS LAWS-UNCLASSIFIED VIOLATION\n",
            "122909   677  NYS LAWS-UNCLASSIFIED VIOLATION\n",
            "132798   677                 OTHER STATE LAWS\n",
            "139489   677  NYS LAWS-UNCLASSIFIED VIOLATION\n",
            "153653   677  NYS LAWS-UNCLASSIFIED VIOLATION\n",
            "160610   677  NYS LAWS-UNCLASSIFIED VIOLATION\n",
            "180969   677  NYS LAWS-UNCLASSIFIED VIOLATION\n",
            "191367   677                 OTHER STATE LAWS\n",
            "200049   677                 OTHER STATE LAWS\n",
            "230152   677  NYS LAWS-UNCLASSIFIED VIOLATION\n",
            "250500   677                 OTHER STATE LAWS\n",
            "287504   677                 OTHER STATE LAWS\n",
            "       KY_CD                      OFNS_DESC\n",
            "16895    120  CHILD ABANDONMENT/NON SUPPORT\n",
            "71337    120           ENDAN WELFARE INCOMP\n",
            "78176    120  CHILD ABANDONMENT/NON SUPPORT\n",
            "78193    120  CHILD ABANDONMENT/NON SUPPORT\n",
            "78687    120           ENDAN WELFARE INCOMP\n",
            "79432    120           ENDAN WELFARE INCOMP\n",
            "93226    120           ENDAN WELFARE INCOMP\n",
            "155305   120  CHILD ABANDONMENT/NON SUPPORT\n",
            "263703   120           ENDAN WELFARE INCOMP\n",
            "264980   120  CHILD ABANDONMENT/NON SUPPORT\n",
            "278800   120           ENDAN WELFARE INCOMP\n",
            "291808   120  CHILD ABANDONMENT/NON SUPPORT\n",
            "294693   120           ENDAN WELFARE INCOMP\n",
            "297915   120  CHILD ABANDONMENT/NON SUPPORT\n",
            "298542   120           ENDAN WELFARE INCOMP\n",
            "305624   120  CHILD ABANDONMENT/NON SUPPORT\n",
            "322275   120           ENDAN WELFARE INCOMP\n",
            "       KY_CD                     OFNS_DESC\n",
            "18993    345          ENDAN WELFARE INCOMP\n",
            "53140    345          ENDAN WELFARE INCOMP\n",
            "67025    345  OFFENSES RELATED TO CHILDREN\n",
            "73451    345          ENDAN WELFARE INCOMP\n",
            "201743   345  OFFENSES RELATED TO CHILDREN\n",
            "250859   345  OFFENSES RELATED TO CHILDREN\n",
            "254903   345  OFFENSES RELATED TO CHILDREN\n",
            "260157   345          ENDAN WELFARE INCOMP\n"
          ]
        }
      ]
    },
    {
      "cell_type": "code",
      "source": [
        "from openclean.operator.collector.repair import Shortest, Vote, conflict_repair\n",
        "\n",
        "# Define the conflict resolution strategy. We use a majority vote for RHS attributes.\n",
        "strategy = {'KY_CD': Vote()}\n",
        "\n",
        "# resolve the conflicts\n",
        "resolved = conflict_repair(conflicts=fd1_violations, strategy=strategy, in_order=False)"
      ],
      "metadata": {
        "id": "Op2hMjZkAX7f"
      },
      "execution_count": null,
      "outputs": []
    },
    {
      "cell_type": "code",
      "source": [
        "#resolving for key code -> offense description\n",
        "\n",
        "from openclean.operator.collector.repair import Shortest, Vote, conflict_repair\n",
        "\n",
        "# Define the conflict resolution strategy. We use a majority vote for RHS attributes.\n",
        "strategy = {'OFNS_DESC': Vote(tiebreaker=Shortest())}\n",
        "\n",
        "# resolve the conflicts\n",
        "resolved = conflict_repair(conflicts=fd2_violations, strategy=strategy, in_order=False)"
      ],
      "metadata": {
        "id": "e0P_A4NEMdBK"
      },
      "execution_count": null,
      "outputs": []
    },
    {
      "cell_type": "code",
      "source": [
        "trial = fd_violations(resolved, ['KY_CD'], ['OFNS_DESC'])\n",
        "\n",
        "print('# of violations for FD(KY_CD -> OFNS_DESC)) is {}\\n'.format(len(trial)))\n",
        "print(violation_group)"
      ],
      "metadata": {
        "colab": {
          "base_uri": "https://localhost:8080/"
        },
        "id": "83xTag8wMu9g",
        "outputId": "1ad12e72-093d-423a-877a-131e3daf532f"
      },
      "execution_count": null,
      "outputs": [
        {
          "output_type": "stream",
          "name": "stdout",
          "text": [
            "# of violations for FD(KY_CD -> OFNS_DESC)) is 0\n",
            "\n",
            "       CMPLNT_NUM  ...                       New Georeferenced Column\n",
            "13      276278658  ...  POINT (-73.94569741099998 40.786182447000044)\n",
            "166     890663602  ...   POINT (-73.91843446099993 40.80893116500005)\n",
            "180     728758084  ...  POINT (-73.91212195899993 40.747301667000045)\n",
            "181     985806516  ...  POINT (-73.98411999099994 40.754849215000036)\n",
            "268     842358698  ...   POINT (-73.85902567999993 40.88735603500004)\n",
            "...           ...  ...                                            ...\n",
            "323571  172047038  ...   POINT (-73.90410359499998 40.66646466200007)\n",
            "323678  217581853  ...   POINT (-73.89515414499994 40.66132136900006)\n",
            "323733  793541563  ...  POINT (-73.80633674899997 40.701804167000034)\n",
            "323738  306924169  ...   POINT (-73.89690223799995 40.66833311800008)\n",
            "323806  476968757  ...   POINT (-73.87565666399996 40.75686097700003)\n",
            "\n",
            "[4058 rows x 36 columns]\n"
          ]
        }
      ]
    },
    {
      "cell_type": "code",
      "source": [
        "violation_group = resolved[(resolved['KY_CD']=='125')]\n",
        "\n",
        "fd3_violations = fd_violations(resolved, ['KY_CD'], ['OFNS_DESC'])\n",
        "\n",
        "print('# of violations for FD(KY_CD -> OFNS_DESC) is {}\\n'.format(len(fd3_violations)))\n",
        "print(violation_group)"
      ],
      "metadata": {
        "colab": {
          "base_uri": "https://localhost:8080/"
        },
        "id": "satoP4vbBJHz",
        "outputId": "7bb52221-dbb2-4fb7-c7f9-8e943fd58f7c"
      },
      "execution_count": null,
      "outputs": [
        {
          "output_type": "stream",
          "name": "stdout",
          "text": [
            "# of violations for FD(KY_CD -> OFNS_DESC) is 0\n",
            "\n",
            "       CMPLNT_NUM  ...                       New Georeferenced Column\n",
            "1307    243028990  ...   POINT (-74.00125319299997 40.71634415200003)\n",
            "2550    726416926  ...   POINT (-73.77623390699993 40.67998073800004)\n",
            "3208    533129014  ...   POINT (-73.89776780399995 40.86326000900005)\n",
            "3579    657165465  ...  POINT (-73.99398802999998 40.716193040000064)\n",
            "5803    822041811  ...   POINT (-73.92894705999998 40.61544337400005)\n",
            "...           ...  ...                                            ...\n",
            "317623  926822345  ...   POINT (-74.00125319299997 40.71634415200003)\n",
            "319353  486010364  ...   POINT (-73.91354311599997 40.75347568500007)\n",
            "320550  398377413  ...   POINT (-74.13004566699995 40.63852488600002)\n",
            "320592  777788721  ...   POINT (-74.00125319299997 40.71634415200003)\n",
            "322429  999058929  ...   POINT (-73.94184447299993 40.75709455700007)\n",
            "\n",
            "[307 rows x 36 columns]\n"
          ]
        }
      ]
    },
    {
      "cell_type": "code",
      "source": [
        "resolved.groupby(['OFNS_DESC', 'KY_CD']).size()"
      ],
      "metadata": {
        "colab": {
          "base_uri": "https://localhost:8080/"
        },
        "id": "IYf9GhkXB3ya",
        "outputId": "f67fdc8f-ce82-48db-abdf-27d727b0423f"
      },
      "execution_count": null,
      "outputs": [
        {
          "output_type": "execute_result",
          "data": {
            "text/plain": [
              "OFNS_DESC                       KY_CD\n",
              "ADMINISTRATIVE CODE             365       528\n",
              "                                675        34\n",
              "ALCOHOLIC BEVERAGE CONTROL LAW  346        52\n",
              "ANTICIPATORY OFFENSES           354        13\n",
              "ARSON                           114       472\n",
              "                                         ... \n",
              "SEX CRIMES                      116      1117\n",
              "                                233      4046\n",
              "THEFT-FRAUD                     112      3003\n",
              "UNAUTHORIZED USE OF A VEHICLE   353       936\n",
              "VEHICLE AND TRAFFIC LAWS        348      6060\n",
              "Length: 63, dtype: int64"
            ]
          },
          "metadata": {},
          "execution_count": 34
        }
      ]
    },
    {
      "cell_type": "code",
      "source": [
        "keymapping = resolved.groupby('KY_CD').apply(lambda x: x['OFNS_DESC'].unique())\n",
        "print(keymapping)"
      ],
      "metadata": {
        "colab": {
          "base_uri": "https://localhost:8080/"
        },
        "id": "DDx9CLIWEXng",
        "outputId": "1c3bc25d-aefb-42db-f78c-c46ab2ad141a"
      },
      "execution_count": null,
      "outputs": [
        {
          "output_type": "stream",
          "name": "stdout",
          "text": [
            "KY_CD\n",
            "101    [MURDER & NON-NEGL. MANSLAUGHTER]\n",
            "102         [HOMICIDE-NEGLIGENT-VEHICLE]\n",
            "103     [HOMICIDE-NEGLIGENT,UNCLASSIFIE]\n",
            "104                               [RAPE]\n",
            "105                            [ROBBERY]\n",
            "                     ...                \n",
            "572                 [DISORDERLY CONDUCT]\n",
            "578                      [HARRASSMENT 2]\n",
            "675                [ADMINISTRATIVE CODE]\n",
            "677    [NYS LAWS-UNCLASSIFIED VIOLATION]\n",
            "678            [MISCELLANEOUS PENAL LAW]\n",
            "Length: 63, dtype: object\n"
          ]
        }
      ]
    },
    {
      "cell_type": "markdown",
      "metadata": {
        "id": "o7CvGBj3D0z4"
      },
      "source": [
        "#### Each key code represents a particular offense description. There is a one to one mapping. So we would use key code for future analysis instead of offense description."
      ]
    },
    {
      "cell_type": "markdown",
      "metadata": {
        "id": "fZ74ExfCRC4g"
      },
      "source": [
        "#### Calculating the null values present in the data columnwise (with respect to the features)"
      ]
    },
    {
      "cell_type": "code",
      "execution_count": null,
      "metadata": {
        "id": "eNTgn7bW-X-t",
        "colab": {
          "base_uri": "https://localhost:8080/"
        },
        "outputId": "a89db42b-85a0-4635-9ff6-c21ef7832dc2"
      },
      "outputs": [
        {
          "output_type": "stream",
          "name": "stdout",
          "text": [
            "+----------+-----------+-------+------------+------------+------------+------------+----------------+----------+-----------+-----------------+----------+-----+----------+-----------------+---------+--------+-----------+-----+-------+-------------+------+------------+--------------+---------+--------+----------------+-------------+--------+-------+------------------------+\n",
            "|CMPLNT_NUM|ADDR_PCT_CD|BORO_NM|CMPLNT_FR_DT|CMPLNT_FR_TM|CMPLNT_TO_DT|CMPLNT_TO_TM|CRM_ATPT_CPTD_CD|HADEVELOPT|HOUSING_PSA|JURISDICTION_CODE|JURIS_DESC|KY_CD|LAW_CAT_CD|LOC_OF_OCCUR_DESC|OFNS_DESC|PARKS_NM|PATROL_BORO|PD_CD|PD_DESC|PREM_TYP_DESC|RPT_DT|STATION_NAME|SUSP_AGE_GROUP|SUSP_RACE|SUSP_SEX|TRANSIT_DISTRICT|VIC_AGE_GROUP|VIC_RACE|VIC_SEX|New Georeferenced Column|\n",
            "+----------+-----------+-------+------------+------------+------------+------------+----------------+----------+-----------+-----------------+----------+-----+----------+-----------------+---------+--------+-----------+-----+-------+-------------+------+------------+--------------+---------+--------+----------------+-------------+--------+-------+------------------------+\n",
            "|         0|          0|      0|           0|           0|       28507|       28394|               0|    321770|     298712|                0|         0|    0|         0|            53740|        7|  320538|          0|    0|      0|          465|     0|      316640|        180844|   140892|   62146|          316640|        84340|   90764|      0|                       0|\n",
            "+----------+-----------+-------+------------+------------+------------+------------+----------------+----------+-----------+-----------------+----------+-----+----------+-----------------+---------+--------+-----------+-----+-------+-------------+------+------------+--------------+---------+--------+----------------+-------------+--------+-------+------------------------+\n",
            "\n"
          ]
        }
      ],
      "source": [
        "df.select([count(when(isnan(c) | col(c).isNull(), c)).alias(c) for c in df.columns]).show()"
      ]
    },
    {
      "cell_type": "code",
      "execution_count": null,
      "metadata": {
        "id": "MgV4_9FW-a1j",
        "colab": {
          "base_uri": "https://localhost:8080/"
        },
        "outputId": "8d8d5852-4c74-4856-894b-7b8880339be0"
      },
      "outputs": [
        {
          "output_type": "stream",
          "name": "stdout",
          "text": [
            "+----------+-----------+-------+------------+------------+-------------------+-------------------+----------------+------------------+------------------+-----------------+----------+-----+----------+-------------------+--------------------+-----------------+-----------+-----+-------+--------------------+------+------------------+-----------------+-------------------+------------------+------------------+------------------+------------------+-------+------------------------+\n",
            "|CMPLNT_NUM|ADDR_PCT_CD|BORO_NM|CMPLNT_FR_DT|CMPLNT_FR_TM|       CMPLNT_TO_DT|       CMPLNT_TO_TM|CRM_ATPT_CPTD_CD|        HADEVELOPT|       HOUSING_PSA|JURISDICTION_CODE|JURIS_DESC|KY_CD|LAW_CAT_CD|  LOC_OF_OCCUR_DESC|           OFNS_DESC|         PARKS_NM|PATROL_BORO|PD_CD|PD_DESC|       PREM_TYP_DESC|RPT_DT|      STATION_NAME|   SUSP_AGE_GROUP|          SUSP_RACE|          SUSP_SEX|  TRANSIT_DISTRICT|     VIC_AGE_GROUP|          VIC_RACE|VIC_SEX|New Georeferenced Column|\n",
            "+----------+-----------+-------+------------+------------+-------------------+-------------------+----------------+------------------+------------------+-----------------+----------+-----+----------+-------------------+--------------------+-----------------+-----------+-----+-------+--------------------+------+------------------+-----------------+-------------------+------------------+------------------+------------------+------------------+-------+------------------------+\n",
            "|       0.0|        0.0|    0.0|         0.0|         0.0|0.08827254345194044|0.08792263650241683|             0.0|0.9963677800726444|0.9249681832397668|              0.0|       0.0|  0.0|       0.0|0.16640707493272808|2.167565174040001E-5|0.992552865366334|        0.0|  0.0|    0.0|0.001439882579898...|   0.0|0.9804826238686084|0.559987366191557|0.43627513214406255|0.1924364361512713|0.9804826238686084|0.2611606382550481|0.2810526935093809|    0.0|                     0.0|\n",
            "+----------+-----------+-------+------------+------------+-------------------+-------------------+----------------+------------------+------------------+-----------------+----------+-----+----------+-------------------+--------------------+-----------------+-----------+-----+-------+--------------------+------+------------------+-----------------+-------------------+------------------+------------------+------------------+------------------+-------+------------------------+\n",
            "\n"
          ]
        }
      ],
      "source": [
        "amount_missing_df = df.select([(count(when(isnan(c) | col(c).isNull(), c))/count(lit(1))).alias(c) for c in df.columns])\n",
        "amount_missing_df.show()"
      ]
    },
    {
      "cell_type": "markdown",
      "metadata": {
        "id": "5HQvMmXgJSy0"
      },
      "source": [
        "#### Thus, we can see that the percentage of null values per variable has gone considerably down after cleaning. Some variables like 'PARKS_NM', 'HADEVELOPT' and such can have null values as established above. "
      ]
    },
    {
      "cell_type": "markdown",
      "metadata": {
        "id": "wK3UbFUwUxbP"
      },
      "source": [
        "JURISDICTION wise count"
      ]
    },
    {
      "cell_type": "code",
      "execution_count": null,
      "metadata": {
        "id": "GzpVkycNq66f",
        "colab": {
          "base_uri": "https://localhost:8080/"
        },
        "outputId": "d4ae1afa-783a-4605-d9bb-2f2082f981fd"
      },
      "outputs": [
        {
          "output_type": "stream",
          "name": "stdout",
          "text": [
            "+--------------------+------+\n",
            "|          JURIS_DESC| count|\n",
            "+--------------------+------+\n",
            "|    N.Y. POLICE DEPT|290317|\n",
            "|      PORT AUTHORITY|  1089|\n",
            "| N.Y. TRANSIT POLICE|  6295|\n",
            "|  HEALTH & HOSP CORP|   148|\n",
            "|    U.S. PARK POLICE|     8|\n",
            "|   N.Y. STATE POLICE|    35|\n",
            "| N.Y. HOUSING POLICE| 23926|\n",
            "| TRI-BORO BRDG TUNNL|    72|\n",
            "|         METRO NORTH|    13|\n",
            "|    N.Y. STATE PARKS|     6|\n",
            "|NEW YORK CITY SHE...|    11|\n",
            "| DEPT OF CORRECTIONS|   205|\n",
            "|NYS DEPT TAX AND ...|     2|\n",
            "|               OTHER|   653|\n",
            "|  LONG ISLAND RAILRD|     9|\n",
            "|             AMTRACK|     5|\n",
            "|STATN IS RAPID TRANS|     5|\n",
            "|           NYC PARKS|   144|\n",
            "+--------------------+------+\n",
            "\n"
          ]
        }
      ],
      "source": [
        "df.groupBy('JURIS_DESC').count().show()"
      ]
    },
    {
      "cell_type": "markdown",
      "metadata": {
        "id": "FI1pGd8s16sd"
      },
      "source": [
        "### Number of columns in Clean Data"
      ]
    },
    {
      "cell_type": "code",
      "execution_count": null,
      "metadata": {
        "id": "rcI9kIjcrRSh",
        "colab": {
          "base_uri": "https://localhost:8080/"
        },
        "outputId": "f141ff07-8376-46a9-971b-6131abb6bc34"
      },
      "outputs": [
        {
          "output_type": "execute_result",
          "data": {
            "text/plain": [
              "31"
            ]
          },
          "metadata": {},
          "execution_count": 147
        }
      ],
      "source": [
        "len(df.columns)"
      ]
    },
    {
      "cell_type": "markdown",
      "metadata": {
        "id": "9htIvQ_X10Op"
      },
      "source": [
        "### Number of rows in Clean Data"
      ]
    },
    {
      "cell_type": "code",
      "execution_count": null,
      "metadata": {
        "id": "g-P3OKE21ubz",
        "colab": {
          "base_uri": "https://localhost:8080/"
        },
        "outputId": "804abee0-756d-4170-ccee-38557798c0c4"
      },
      "outputs": [
        {
          "output_type": "execute_result",
          "data": {
            "text/plain": [
              "322943"
            ]
          },
          "metadata": {},
          "execution_count": 148
        }
      ],
      "source": [
        "df.count()"
      ]
    },
    {
      "cell_type": "code",
      "execution_count": null,
      "metadata": {
        "id": "W2RVtvNr38c_",
        "colab": {
          "base_uri": "https://localhost:8080/"
        },
        "outputId": "4c3ffdab-d3eb-4f53-8083-9fbbd114fcaf"
      },
      "outputs": [
        {
          "output_type": "stream",
          "name": "stdout",
          "text": [
            "root\n",
            " |-- CMPLNT_NUM: integer (nullable = true)\n",
            " |-- ADDR_PCT_CD: integer (nullable = true)\n",
            " |-- BORO_NM: string (nullable = true)\n",
            " |-- CMPLNT_FR_DT: string (nullable = true)\n",
            " |-- CMPLNT_FR_TM: string (nullable = true)\n",
            " |-- CMPLNT_TO_DT: string (nullable = true)\n",
            " |-- CMPLNT_TO_TM: string (nullable = true)\n",
            " |-- CRM_ATPT_CPTD_CD: string (nullable = true)\n",
            " |-- HADEVELOPT: string (nullable = true)\n",
            " |-- HOUSING_PSA: integer (nullable = true)\n",
            " |-- JURISDICTION_CODE: integer (nullable = true)\n",
            " |-- JURIS_DESC: string (nullable = true)\n",
            " |-- KY_CD: integer (nullable = true)\n",
            " |-- LAW_CAT_CD: string (nullable = true)\n",
            " |-- LOC_OF_OCCUR_DESC: string (nullable = true)\n",
            " |-- OFNS_DESC: string (nullable = true)\n",
            " |-- PARKS_NM: string (nullable = true)\n",
            " |-- PATROL_BORO: string (nullable = true)\n",
            " |-- PD_CD: integer (nullable = true)\n",
            " |-- PD_DESC: string (nullable = true)\n",
            " |-- PREM_TYP_DESC: string (nullable = true)\n",
            " |-- RPT_DT: string (nullable = true)\n",
            " |-- STATION_NAME: string (nullable = true)\n",
            " |-- SUSP_AGE_GROUP: string (nullable = true)\n",
            " |-- SUSP_RACE: string (nullable = true)\n",
            " |-- SUSP_SEX: string (nullable = true)\n",
            " |-- TRANSIT_DISTRICT: integer (nullable = true)\n",
            " |-- VIC_AGE_GROUP: string (nullable = true)\n",
            " |-- VIC_RACE: string (nullable = true)\n",
            " |-- VIC_SEX: string (nullable = true)\n",
            " |-- New Georeferenced Column: string (nullable = true)\n",
            "\n"
          ]
        }
      ],
      "source": [
        "df.printSchema()"
      ]
    },
    {
      "cell_type": "markdown",
      "metadata": {
        "id": "JLIpnxgHVAfM"
      },
      "source": [
        "### **Exporting Clean Data in CSV**\n",
        "\n",
        "The Cleaned Data Set will be saved as `NYPD_Complaint_Data_Historic_Cleaned.csv`"
      ]
    },
    {
      "cell_type": "code",
      "execution_count": null,
      "metadata": {
        "id": "pNEBquVPrUtx"
      },
      "outputs": [],
      "source": [
        "pd_df = df.toPandas()\n",
        "pd_df.to_csv(\"NYPD_Complaint_Data_Current_Year_To_Date_Cleaned_Spark.csv\")"
      ]
    }
  ],
  "metadata": {
    "colab": {
      "collapsed_sections": [],
      "name": "Spark - NYPD Complaint Data Current (Year To Date).ipynb",
      "provenance": [],
      "include_colab_link": true
    },
    "kernelspec": {
      "display_name": "Python 3",
      "name": "python3"
    },
    "language_info": {
      "name": "python"
    }
  },
  "nbformat": 4,
  "nbformat_minor": 0
}