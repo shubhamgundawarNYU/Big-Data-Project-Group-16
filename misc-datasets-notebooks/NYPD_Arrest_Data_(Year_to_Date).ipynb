{
  "cells": [
    {
      "cell_type": "markdown",
      "metadata": {
        "id": "view-in-github",
        "colab_type": "text"
      },
      "source": [
        "<a href=\"https://colab.research.google.com/github/shubhamgundawarNYU/Big-Data-Project-Group-16/blob/main/misc-datasets-notebooks/NYPD_Arrest_Data_(Year_to_Date).ipynb\" target=\"_parent\"><img src=\"https://colab.research.google.com/assets/colab-badge.svg\" alt=\"Open In Colab\"/></a>"
      ]
    },
    {
      "cell_type": "markdown",
      "metadata": {
        "id": "7-dJg3ZWVPHJ"
      },
      "source": [
        "##**BIG DATA PROJECT**\n",
        "\n",
        "### NYPD Arrest Data (Year to Date)\n",
        "Link to Dataset (https://data.cityofnewyork.us/Public-Safety/NYPD-Arrest-Data-Year-to-Date-/uip8-fykc)\n",
        "\n",
        "### DATA CLEANING AT SCALE"
      ]
    },
    {
      "cell_type": "markdown",
      "metadata": {
        "id": "dZWscsxWG6BD"
      },
      "source": [
        "#### Mounting Google Drive to Google Collab Notebook to Load the Data Set\n",
        "\n",
        "Make sure you have the dataset in your Google Drive and you mount your drive to the Colab.\n",
        "\n",
        "The file should be at the following path: `gdrive/My Drive/NYPD_Arrest_Data_Year_to_Date.csv`\n"
      ]
    },
    {
      "cell_type": "code",
      "execution_count": null,
      "metadata": {
        "colab": {
          "base_uri": "https://localhost:8080/"
        },
        "id": "wSt7ZZI_zSt2",
        "outputId": "5d56634a-94ea-4636-bc80-125d2bcfd4f6"
      },
      "outputs": [
        {
          "output_type": "stream",
          "name": "stdout",
          "text": [
            "Mounted at /content/gdrive\n"
          ]
        }
      ],
      "source": [
        "from google.colab import drive \n",
        "drive.mount('/content/gdrive')"
      ]
    },
    {
      "cell_type": "markdown",
      "metadata": {
        "id": "5XTa8wVQHjVm"
      },
      "source": [
        "#### Importing required and Necessary Libraries for cleaning the data present in the data set"
      ]
    },
    {
      "cell_type": "code",
      "execution_count": null,
      "metadata": {
        "id": "IglUIuU9ntFm"
      },
      "outputs": [],
      "source": [
        "import numpy as np\n",
        "import pandas as pd\n",
        "import io"
      ]
    },
    {
      "cell_type": "code",
      "execution_count": null,
      "metadata": {
        "colab": {
          "base_uri": "https://localhost:8080/"
        },
        "id": "a6CbM0l_UnFq",
        "outputId": "e73543ae-3bad-404f-9fd6-718abbc398c1"
      },
      "outputs": [
        {
          "output_type": "stream",
          "name": "stdout",
          "text": [
            "Collecting pyspark\n",
            "  Downloading pyspark-3.2.0.tar.gz (281.3 MB)\n",
            "\u001b[K     |████████████████████████████████| 281.3 MB 37 kB/s \n",
            "\u001b[?25hCollecting py4j==0.10.9.2\n",
            "  Downloading py4j-0.10.9.2-py2.py3-none-any.whl (198 kB)\n",
            "\u001b[K     |████████████████████████████████| 198 kB 55.0 MB/s \n",
            "\u001b[?25hBuilding wheels for collected packages: pyspark\n",
            "  Building wheel for pyspark (setup.py) ... \u001b[?25l\u001b[?25hdone\n",
            "  Created wheel for pyspark: filename=pyspark-3.2.0-py2.py3-none-any.whl size=281805912 sha256=fae99da61016c019c56379c6dbfc6b3588fece128028e60d59ae814994b4c7d7\n",
            "  Stored in directory: /root/.cache/pip/wheels/0b/de/d2/9be5d59d7331c6c2a7c1b6d1a4f463ce107332b1ecd4e80718\n",
            "Successfully built pyspark\n",
            "Installing collected packages: py4j, pyspark\n",
            "Successfully installed py4j-0.10.9.2 pyspark-3.2.0\n"
          ]
        }
      ],
      "source": [
        "!pip install pyspark"
      ]
    },
    {
      "cell_type": "markdown",
      "metadata": {
        "id": "sq8U3BtmhtRx"
      },
      "source": [
        "\n",
        "# **Running Pyspark in Colab**\n",
        "\n",
        "To run spark in Colab, we need to first install all the dependencies in Colab environment i.e. Apache Spark 2.3.2 with hadoop 2.7, Java 8 and Findspark to locate the spark in the system. The tools installation can be carried out inside the Jupyter Notebook of the Colab. One important note is that if you are new in Spark, it is better to avoid Spark 2.4.0 version since some people have already complained about its compatibility issue with python. \n",
        "Follow the steps to install the dependencies:"
      ]
    },
    {
      "cell_type": "code",
      "execution_count": null,
      "metadata": {
        "id": "lh5NCoc8fsSO"
      },
      "outputs": [],
      "source": [
        "!apt-get install openjdk-8-jdk-headless -qq > /dev/null\n",
        "!wget -q https://dlcdn.apache.org/spark/spark-3.2.0/spark-3.2.0-bin-hadoop3.2.tgz\n",
        "!tar xf spark-3.2.0-bin-hadoop3.2.tgz\n",
        "!pip install -q findspark"
      ]
    },
    {
      "cell_type": "markdown",
      "metadata": {
        "id": "ILheUROOhprv"
      },
      "source": [
        "Now that you installed Spark and Java in Colab, it is time to set the environment path which enables you to run Pyspark in your Colab environment. Set the location of Java and Spark by running the following code:"
      ]
    },
    {
      "cell_type": "code",
      "execution_count": null,
      "metadata": {
        "id": "v1b8k_OVf2QF"
      },
      "outputs": [],
      "source": [
        "import os\n",
        "os.environ[\"JAVA_HOME\"] = \"/usr/lib/jvm/java-8-openjdk-amd64\"\n",
        "os.environ[\"SPARK_HOME\"] = \"/content/spark-3.2.0-bin-hadoop3.2\""
      ]
    },
    {
      "cell_type": "markdown",
      "metadata": {
        "id": "KwrqMk3HiMiE"
      },
      "source": [
        "Run a local spark session to test your installation:"
      ]
    },
    {
      "cell_type": "code",
      "execution_count": null,
      "metadata": {
        "id": "9_Uz1NL4gHFx"
      },
      "outputs": [],
      "source": [
        "import findspark\n",
        "findspark.init()\n",
        "from pyspark.sql import SparkSession\n",
        "from pyspark.sql.functions import *\n",
        "from pyspark.sql.types import *\n",
        "spark = SparkSession.builder.getOrCreate()"
      ]
    },
    {
      "cell_type": "markdown",
      "metadata": {
        "id": "Z1n1HPiEIOXF"
      },
      "source": [
        "#### Reading the Data Set CSV File using `spark.read.csv()` Function"
      ]
    },
    {
      "cell_type": "code",
      "execution_count": null,
      "metadata": {
        "id": "NNL-wR74W52g"
      },
      "outputs": [],
      "source": [
        "df = spark.read.csv(\"/content/gdrive/MyDrive/NYPD_Arrest_Data_Year_to_Date.csv\", inferSchema=True, header =True)"
      ]
    },
    {
      "cell_type": "code",
      "execution_count": null,
      "metadata": {
        "colab": {
          "base_uri": "https://localhost:8080/"
        },
        "id": "IMecwoTS6upe",
        "outputId": "fa14d736-dd1f-4b96-a661-a9051f5c9a9c"
      },
      "outputs": [
        {
          "output_type": "execute_result",
          "data": {
            "text/plain": [
              "115299"
            ]
          },
          "metadata": {},
          "execution_count": 8
        }
      ],
      "source": [
        "df.count()"
      ]
    },
    {
      "cell_type": "markdown",
      "metadata": {
        "id": "ZLKtS1rNIjRD"
      },
      "source": [
        "#### Get Data Type for each column present in the Data Set\n",
        "\n",
        "\n"
      ]
    },
    {
      "cell_type": "code",
      "execution_count": null,
      "metadata": {
        "colab": {
          "base_uri": "https://localhost:8080/"
        },
        "id": "tYDkaV6r75y6",
        "outputId": "fe7ac186-ef28-42e6-e944-be49cb4ce53a"
      },
      "outputs": [
        {
          "output_type": "stream",
          "name": "stdout",
          "text": [
            "root\n",
            " |-- ARREST_KEY: integer (nullable = true)\n",
            " |-- ARREST_DATE: string (nullable = true)\n",
            " |-- PD_CD: integer (nullable = true)\n",
            " |-- PD_DESC: string (nullable = true)\n",
            " |-- KY_CD: integer (nullable = true)\n",
            " |-- OFNS_DESC: string (nullable = true)\n",
            " |-- LAW_CODE: string (nullable = true)\n",
            " |-- LAW_CAT_CD: string (nullable = true)\n",
            " |-- ARREST_BORO: string (nullable = true)\n",
            " |-- ARREST_PRECINCT: integer (nullable = true)\n",
            " |-- JURISDICTION_CODE: integer (nullable = true)\n",
            " |-- AGE_GROUP: string (nullable = true)\n",
            " |-- PERP_SEX: string (nullable = true)\n",
            " |-- PERP_RACE: string (nullable = true)\n",
            " |-- X_COORD_CD: integer (nullable = true)\n",
            " |-- Y_COORD_CD: integer (nullable = true)\n",
            " |-- Latitude: double (nullable = true)\n",
            " |-- Longitude: double (nullable = true)\n",
            " |-- New Georeferenced Column: string (nullable = true)\n",
            "\n"
          ]
        }
      ],
      "source": [
        "df.printSchema()"
      ]
    },
    {
      "cell_type": "markdown",
      "metadata": {
        "id": "hNCSlJEuJIBS"
      },
      "source": [
        "#### Outputing the List of Columns in the Data Set"
      ]
    },
    {
      "cell_type": "code",
      "execution_count": null,
      "metadata": {
        "colab": {
          "base_uri": "https://localhost:8080/"
        },
        "id": "hApjoVvG9v9Y",
        "outputId": "0a58e254-e83f-4462-f4bc-50de8084d448"
      },
      "outputs": [
        {
          "output_type": "execute_result",
          "data": {
            "text/plain": [
              "['ARREST_KEY',\n",
              " 'ARREST_DATE',\n",
              " 'PD_CD',\n",
              " 'PD_DESC',\n",
              " 'KY_CD',\n",
              " 'OFNS_DESC',\n",
              " 'LAW_CODE',\n",
              " 'LAW_CAT_CD',\n",
              " 'ARREST_BORO',\n",
              " 'ARREST_PRECINCT',\n",
              " 'JURISDICTION_CODE',\n",
              " 'AGE_GROUP',\n",
              " 'PERP_SEX',\n",
              " 'PERP_RACE',\n",
              " 'X_COORD_CD',\n",
              " 'Y_COORD_CD',\n",
              " 'Latitude',\n",
              " 'Longitude',\n",
              " 'New Georeferenced Column']"
            ]
          },
          "metadata": {},
          "execution_count": 10
        }
      ],
      "source": [
        "df.columns"
      ]
    },
    {
      "cell_type": "markdown",
      "metadata": {
        "id": "LDnW9Gi7Idy4"
      },
      "source": [
        "#### Get top 10 rows of the arrests dataframe"
      ]
    },
    {
      "cell_type": "code",
      "execution_count": null,
      "metadata": {
        "colab": {
          "base_uri": "https://localhost:8080/"
        },
        "id": "AOUrvQEG-UcM",
        "outputId": "c5952806-6457-414d-f724-b79fbe9eac3f"
      },
      "outputs": [
        {
          "output_type": "stream",
          "name": "stdout",
          "text": [
            "+----------+-----------+-----+--------------------+-----+--------------------+----------+----------+-----------+---------------+-----------------+---------+--------+---------+----------+----------+-----------------+------------------+------------------------+\n",
            "|ARREST_KEY|ARREST_DATE|PD_CD|             PD_DESC|KY_CD|           OFNS_DESC|  LAW_CODE|LAW_CAT_CD|ARREST_BORO|ARREST_PRECINCT|JURISDICTION_CODE|AGE_GROUP|PERP_SEX|PERP_RACE|X_COORD_CD|Y_COORD_CD|         Latitude|         Longitude|New Georeferenced Column|\n",
            "+----------+-----------+-----+--------------------+-----+--------------------+----------+----------+-----------+---------------+-----------------+---------+--------+---------+----------+----------+-----------------+------------------+------------------------+\n",
            "| 234233843| 09/29/2021|  105|   STRANGULATION 1ST|  106|      FELONY ASSAULT|PL 1211200|         F|          B|             42|                0|    25-44|       M|    BLACK|   1009231|    240290|40.82618898100003|-73.90973778899996|    POINT (-73.909737...|\n",
            "| 234129823| 09/27/2021|  157|              RAPE 1|  104|                RAPE|PL 1303501|         F|          K|             77|                0|    25-44|       M|    BLACK|   1003606|    185050|40.67458330800008|-73.93022154099998|    POINT (-73.930221...|\n",
            "| 234040747| 09/25/2021|  109|ASSAULT 2,1,UNCLA...|  106|      FELONY ASSAULT|PL 1200501|         F|          Q|            101|                0|    25-44|       M|    BLACK|   1049232|    159210|40.60344094100003|-73.76598558899997|    POINT (-73.765985...|\n",
            "| 234047720| 09/25/2021|  101|           ASSAULT 3|  344|ASSAULT 3 & RELAT...|PL 1200001|         M|          B|             44|                0|    25-44|       M|    BLACK|   1006537|    244511|40.83778161800007|-73.91945797099999|    POINT (-73.919457...|\n",
            "| 234042526| 09/25/2021|  101|           ASSAULT 3|  344|ASSAULT 3 & RELAT...|PL 1200001|         M|          B|             44|                0|    25-44|       M|    BLACK|   1007418|    243859|40.83598980000005|-73.91627635999998|    POINT (-73.916276...|\n",
            "| 234006839| 09/24/2021|  582|                null| null|                null|PL 2225501|         F|          M|             23|                0|    25-44|       M|    BLACK|    998659|    228177|40.79296572700008|-73.94796350499998|    POINT (-73.947963...|\n",
            "| 233952333| 09/23/2021|  397|ROBBERY,OPEN AREA...|  105|             ROBBERY|PL 1600500|         F|          K|             75|                0|    18-24|       M|    BLACK|   1017119|    183909|40.67141166300007|-73.88151172399995|    POINT (-73.881511...|\n",
            "| 233878488| 09/21/2021|  105|   STRANGULATION 1ST|  106|      FELONY ASSAULT|PL 1211300|         F|          B|             40|                0|    25-44|       M|    WHITE|   1010679|    234533|40.81038342800008|-73.90452841699994|    POINT (-73.904528...|\n",
            "| 233784866| 09/19/2021|  101|           ASSAULT 3|  344|ASSAULT 3 & RELAT...|PL 1200001|         M|          B|             44|                0|    25-44|       F|    BLACK|   1004489|    237844|40.81948754300004|     -73.926879392|    POINT (-73.926879...|\n",
            "| 233647454| 09/16/2021|  397|ROBBERY,OPEN AREA...|  105|             ROBBERY|PL 1601503|         F|          K|             61|                0|    18-24|       M|    BLACK|    995834|    161062|40.60875497300003|-73.95828138999997|    POINT (-73.958281...|\n",
            "+----------+-----------+-----+--------------------+-----+--------------------+----------+----------+-----------+---------------+-----------------+---------+--------+---------+----------+----------+-----------------+------------------+------------------------+\n",
            "only showing top 10 rows\n",
            "\n"
          ]
        }
      ],
      "source": [
        "df.show(n=10)"
      ]
    },
    {
      "cell_type": "markdown",
      "metadata": {
        "id": "ygOCZQiaG97V"
      },
      "source": [
        "## We see that the columns `X_COORD_CD`,`Y_COORD_CD`,`Latitude` and `Longitude` conveys the same data as `New Georeferenced Column`.\n",
        "\n",
        "#### Hence, we drop those columns and keep only `New Georeferenced Column` column in our cleaned dataset."
      ]
    },
    {
      "cell_type": "code",
      "execution_count": null,
      "metadata": {
        "id": "r51qg2Ji_Ajv"
      },
      "outputs": [],
      "source": [
        "df = df.drop('X_COORD_CD','Y_COORD_CD', 'Latitude', 'Longitude')"
      ]
    },
    {
      "cell_type": "code",
      "execution_count": null,
      "metadata": {
        "colab": {
          "base_uri": "https://localhost:8080/"
        },
        "id": "I52xg3GV_jh0",
        "outputId": "c7fd231f-9587-46fb-d724-91305e8dd0c7"
      },
      "outputs": [
        {
          "output_type": "execute_result",
          "data": {
            "text/plain": [
              "['ARREST_KEY',\n",
              " 'ARREST_DATE',\n",
              " 'PD_CD',\n",
              " 'PD_DESC',\n",
              " 'KY_CD',\n",
              " 'OFNS_DESC',\n",
              " 'LAW_CODE',\n",
              " 'LAW_CAT_CD',\n",
              " 'ARREST_BORO',\n",
              " 'ARREST_PRECINCT',\n",
              " 'JURISDICTION_CODE',\n",
              " 'AGE_GROUP',\n",
              " 'PERP_SEX',\n",
              " 'PERP_RACE',\n",
              " 'New Georeferenced Column']"
            ]
          },
          "metadata": {},
          "execution_count": 13
        }
      ],
      "source": [
        "df.columns"
      ]
    },
    {
      "cell_type": "markdown",
      "metadata": {
        "id": "xdJS_wPiJaUN"
      },
      "source": [
        "#### Removing all the **duplicate** entries"
      ]
    },
    {
      "cell_type": "code",
      "execution_count": null,
      "metadata": {
        "id": "S2iLHt_GAVJh"
      },
      "outputs": [],
      "source": [
        "df = df.drop_duplicates()"
      ]
    },
    {
      "cell_type": "code",
      "execution_count": null,
      "metadata": {
        "colab": {
          "base_uri": "https://localhost:8080/"
        },
        "id": "o6ec7GPSA5Ol",
        "outputId": "515d2fc6-62bb-4f9c-e911-f632c7d491d8"
      },
      "outputs": [
        {
          "output_type": "execute_result",
          "data": {
            "text/plain": [
              "115299"
            ]
          },
          "metadata": {},
          "execution_count": 15
        }
      ],
      "source": [
        "df.count()"
      ]
    },
    {
      "cell_type": "code",
      "execution_count": null,
      "metadata": {
        "colab": {
          "base_uri": "https://localhost:8080/"
        },
        "id": "5BO82obd0N6u",
        "outputId": "9736c768-b4a5-46cd-c89b-d540a603bf1c"
      },
      "outputs": [
        {
          "output_type": "execute_result",
          "data": {
            "text/plain": [
              "115299"
            ]
          },
          "metadata": {},
          "execution_count": 16
        }
      ],
      "source": [
        "df.distinct().count()"
      ]
    },
    {
      "cell_type": "markdown",
      "metadata": {
        "id": "O4zgb1QPJ02z"
      },
      "source": [
        "#### **Checking** if the arrest key is unique or not"
      ]
    },
    {
      "cell_type": "code",
      "execution_count": null,
      "metadata": {
        "colab": {
          "base_uri": "https://localhost:8080/"
        },
        "id": "R0o2wLm1h4Bo",
        "outputId": "55f7a96a-3eff-4c2f-970d-84be56abdb9a"
      },
      "outputs": [
        {
          "output_type": "execute_result",
          "data": {
            "text/plain": [
              "115299"
            ]
          },
          "metadata": {},
          "execution_count": 17
        }
      ],
      "source": [
        "df.select('ARREST_KEY').distinct().count()"
      ]
    },
    {
      "cell_type": "markdown",
      "metadata": {
        "id": "M-_iiUuEJ_5c"
      },
      "source": [
        "#### As we can see `ARREST_KEY` is unique."
      ]
    },
    {
      "cell_type": "code",
      "execution_count": null,
      "metadata": {
        "colab": {
          "base_uri": "https://localhost:8080/"
        },
        "id": "869tZgVki68U",
        "outputId": "6c2ac10f-cb33-47bb-de85-86c04e0a9ac2"
      },
      "outputs": [
        {
          "output_type": "execute_result",
          "data": {
            "text/plain": [
              "0"
            ]
          },
          "metadata": {},
          "execution_count": 18
        }
      ],
      "source": [
        "df1 = df.groupBy('ARREST_KEY').count().filter(\"count > 1\")\n",
        "df1.drop('count').count()"
      ]
    },
    {
      "cell_type": "code",
      "execution_count": null,
      "metadata": {
        "colab": {
          "base_uri": "https://localhost:8080/"
        },
        "id": "WgA4Q88SoGaW",
        "outputId": "092052a8-b109-4de2-9e90-350caf5255cd"
      },
      "outputs": [
        {
          "output_type": "stream",
          "name": "stdout",
          "text": [
            "+----------+-----+\n",
            "|ARREST_KEY|count|\n",
            "+----------+-----+\n",
            "+----------+-----+\n",
            "\n"
          ]
        }
      ],
      "source": [
        "df1.sort('ARREST_KEY').show(n = 10)"
      ]
    },
    {
      "cell_type": "markdown",
      "metadata": {
        "id": "xIXIyTg_LSGf"
      },
      "source": [
        "#### Check for a particular arrest key `234233843`"
      ]
    },
    {
      "cell_type": "code",
      "execution_count": null,
      "metadata": {
        "colab": {
          "base_uri": "https://localhost:8080/"
        },
        "id": "SuNyl3VjmbXH",
        "outputId": "09726932-842e-4ef6-d07d-5e98b3db16d4"
      },
      "outputs": [
        {
          "output_type": "stream",
          "name": "stdout",
          "text": [
            "+----------+-----------+-----+-----------------+-----+--------------+----------+----------+-----------+---------------+-----------------+---------+--------+---------+------------------------+\n",
            "|ARREST_KEY|ARREST_DATE|PD_CD|          PD_DESC|KY_CD|     OFNS_DESC|  LAW_CODE|LAW_CAT_CD|ARREST_BORO|ARREST_PRECINCT|JURISDICTION_CODE|AGE_GROUP|PERP_SEX|PERP_RACE|New Georeferenced Column|\n",
            "+----------+-----------+-----+-----------------+-----+--------------+----------+----------+-----------+---------------+-----------------+---------+--------+---------+------------------------+\n",
            "| 234233843| 09/29/2021|  105|STRANGULATION 1ST|  106|FELONY ASSAULT|PL 1211200|         F|          B|             42|                0|    25-44|       M|    BLACK|    POINT (-73.909737...|\n",
            "+----------+-----------+-----+-----------------+-----+--------------+----------+----------+-----------+---------------+-----------------+---------+--------+---------+------------------------+\n",
            "\n"
          ]
        }
      ],
      "source": [
        "df.filter('ARREST_KEY = 234233843').show()"
      ]
    },
    {
      "cell_type": "markdown",
      "metadata": {
        "id": "XG8tNFuBT2YJ"
      },
      "source": [
        "#### We understand, that arrest key is unique. Thus, the ARREST_KEY column can be used to uniquely identify a record in the arrests dataset."
      ]
    },
    {
      "cell_type": "markdown",
      "metadata": {
        "id": "n96nZ6Pjq9k1"
      },
      "source": [
        "## Find Count of Null, None, NaN of All DataFrame Columns"
      ]
    },
    {
      "cell_type": "code",
      "execution_count": null,
      "metadata": {
        "colab": {
          "base_uri": "https://localhost:8080/"
        },
        "id": "mxelZ1tgqB74",
        "outputId": "8f0dfec4-fd15-4a96-f822-d044c2f33059"
      },
      "outputs": [
        {
          "output_type": "stream",
          "name": "stdout",
          "text": [
            "+----------+-----------+-----+-------+-----+---------+--------+----------+-----------+---------------+-----------------+---------+--------+---------+------------------------+\n",
            "|ARREST_KEY|ARREST_DATE|PD_CD|PD_DESC|KY_CD|OFNS_DESC|LAW_CODE|LAW_CAT_CD|ARREST_BORO|ARREST_PRECINCT|JURISDICTION_CODE|AGE_GROUP|PERP_SEX|PERP_RACE|New Georeferenced Column|\n",
            "+----------+-----------+-----+-------+-----+---------+--------+----------+-----------+---------------+-----------------+---------+--------+---------+------------------------+\n",
            "|         0|          0|   21|     61|   61|       61|       0|      1078|          0|              0|                0|        0|       0|        0|                       0|\n",
            "+----------+-----------+-----+-------+-----+---------+--------+----------+-----------+---------------+-----------------+---------+--------+---------+------------------------+\n",
            "\n"
          ]
        }
      ],
      "source": [
        "df.select([count(when(isnan(c) | col(c).isNull(), c)).alias(c) for c in df.columns]\n",
        "   ).show()"
      ]
    },
    {
      "cell_type": "markdown",
      "metadata": {
        "id": "Wt7SOaqwSIfw"
      },
      "source": [
        "#### Get top 5 rows where Arrest Date is NaN"
      ]
    },
    {
      "cell_type": "code",
      "execution_count": null,
      "metadata": {
        "colab": {
          "base_uri": "https://localhost:8080/"
        },
        "id": "OSBt5ZBcpfv2",
        "outputId": "c2c2470e-93b0-4c6c-b67f-6b7fe182050a"
      },
      "outputs": [
        {
          "output_type": "stream",
          "name": "stdout",
          "text": [
            "+----------+-----------+-----+-------+-----+---------+--------+----------+-----------+---------------+-----------------+---------+--------+---------+------------------------+\n",
            "|ARREST_KEY|ARREST_DATE|PD_CD|PD_DESC|KY_CD|OFNS_DESC|LAW_CODE|LAW_CAT_CD|ARREST_BORO|ARREST_PRECINCT|JURISDICTION_CODE|AGE_GROUP|PERP_SEX|PERP_RACE|New Georeferenced Column|\n",
            "+----------+-----------+-----+-------+-----+---------+--------+----------+-----------+---------------+-----------------+---------+--------+---------+------------------------+\n",
            "+----------+-----------+-----+-------+-----+---------+--------+----------+-----------+---------------+-----------------+---------+--------+---------+------------------------+\n",
            "\n"
          ]
        }
      ],
      "source": [
        "df.where(col('ARREST_DATE').isNull()).show(n=5)"
      ]
    },
    {
      "cell_type": "markdown",
      "source": [
        "There are no rows where Arrest Date is not present which is the expected scenario since the arrest would have happened on a particular day."
      ],
      "metadata": {
        "id": "aq-FkT9_JkBu"
      }
    },
    {
      "cell_type": "code",
      "execution_count": null,
      "metadata": {
        "id": "v7i-_-ckTEQ0"
      },
      "outputs": [],
      "source": [
        "df = df.filter(df.ARREST_DATE.isNotNull())"
      ]
    },
    {
      "cell_type": "code",
      "execution_count": null,
      "metadata": {
        "colab": {
          "base_uri": "https://localhost:8080/"
        },
        "id": "VSK0NwkS7gTu",
        "outputId": "802e2b23-2559-4c5c-e7d4-e590572c277c"
      },
      "outputs": [
        {
          "output_type": "stream",
          "name": "stdout",
          "text": [
            "+----------+-----------+-----+--------------------+-----+--------------------+----------+----------+-----------+---------------+-----------------+---------+--------+--------------------+------------------------+\n",
            "|ARREST_KEY|ARREST_DATE|PD_CD|             PD_DESC|KY_CD|           OFNS_DESC|  LAW_CODE|LAW_CAT_CD|ARREST_BORO|ARREST_PRECINCT|JURISDICTION_CODE|AGE_GROUP|PERP_SEX|           PERP_RACE|New Georeferenced Column|\n",
            "+----------+-----------+-----+--------------------+-----+--------------------+----------+----------+-----------+---------------+-----------------+---------+--------+--------------------+------------------------+\n",
            "| 232587932| 08/22/2021|  101|           ASSAULT 3|  344|ASSAULT 3 & RELAT...|PL 1200001|         M|          Q|            102|                0|    25-44|       M|ASIAN / PACIFIC I...|    POINT (-73.859897...|\n",
            "| 233677450| 09/17/2021|  511|CONTROLLED SUBSTA...|  235|     DANGEROUS DRUGS|PL 2200300|         M|          M|             10|                0|    45-64|       M|               WHITE|    POINT (-73.994193...|\n",
            "| 232871469| 08/29/2021|  905|INTOXICATED DRIVI...|  347|INTOXICATED & IMP...|VTL11920U2|         M|          K|             62|                0|    25-44|       M|      WHITE HISPANIC|    POINT (-74.008781...|\n",
            "| 232937874| 08/31/2021|  168|            SODOMY 1|  116|          SEX CRIMES|PL 1305002|         F|          K|             77|                0|    25-44|       M|      WHITE HISPANIC|    POINT (-73.930221...|\n",
            "| 232143283| 08/12/2021|  397|ROBBERY,OPEN AREA...|  105|             ROBBERY|PL 1600500|         F|          K|             75|                0|    45-64|       M|               BLACK|    POINT (-73.875184...|\n",
            "| 232340560| 08/17/2021|  244|BURGLARY,UNCLASSI...|  107|            BURGLARY|PL 1402000|         F|          M|              5|                0|    25-44|       M|               BLACK|    POINT (-74.000549...|\n",
            "| 233786856| 09/19/2021|  905|INTOXICATED DRIVI...|  347|INTOXICATED & IMP...|VTL11920U3|         M|          B|             47|                0|    25-44|       M|               BLACK|    POINT (-73.856033...|\n",
            "| 232582513| 08/22/2021|  268|  CRIMINAL MIS 2 & 3|  121|CRIMINAL MISCHIEF...|PL 1451000|         F|          Q|            114|                2|    25-44|       M|               BLACK|    POINT (-73.946354...|\n",
            "| 232803969| 08/27/2021|  817|TORTURE/INJURE AN...|  364|AGRICULTURE & MRK...|AM 0353000|         M|          B|             42|                0|    25-44|       M|      BLACK HISPANIC|    POINT (-73.886465...|\n",
            "| 233168870| 09/06/2021|  922|TRAFFIC,UNCLASSIF...|  348|VEHICLE AND TRAFF...|VTL05110E2|         F|          M|             19|                0|    18-24|       M|      WHITE HISPANIC|    POINT (-73.957904...|\n",
            "| 233844977| 09/21/2021|  494|STOLEN PROPERTY 2...|  111|POSSESSION OF STO...|PL 1655200|         F|          B|             50|                0|    25-44|       M|      WHITE HISPANIC|    POINT (-73.902088...|\n",
            "| 234010264| 09/24/2021|  139| MURDER,UNCLASSIFIED|  101|MURDER & NON-NEGL...|PL 1252501|         F|          K|             84|                0|    25-44|       M|               BLACK|    POINT (-73.983243...|\n",
            "| 232924789| 08/31/2021|  922|TRAFFIC,UNCLASSIF...|  348|VEHICLE AND TRAFF...|VTL0511001|         M|          K|             63|                0|    25-44|       M|               BLACK|    POINT (-73.926298...|\n",
            "| 233235415| 09/07/2021|  339|LARCENY,PETIT FRO...|  341|       PETIT LARCENY|PL 1552500|         M|          K|             63|                0|    45-64|       M|               BLACK|    POINT (-73.920985...|\n",
            "| 233165578| 09/05/2021|  339|LARCENY,PETIT FRO...|  341|       PETIT LARCENY|PL 1552500|         M|          B|             47|                0|    25-44|       M|               BLACK|    POINT (-73.857929...|\n",
            "| 232355572| 08/17/2021|  101|           ASSAULT 3|  344|ASSAULT 3 & RELAT...|PL 1200001|         M|          B|             45|                0|    18-24|       M|      WHITE HISPANIC|    POINT (-73.842837...|\n",
            "| 233608348| 09/15/2021|  175|    SEXUAL ABUSE 3,2|  233|          SEX CRIMES|PL 13052A1|         M|          Q|            112|                0|    25-44|       M|               WHITE|    POINT (-73.851473...|\n",
            "| 233842297| 09/21/2021|  268|  CRIMINAL MIS 2 & 3|  121|CRIMINAL MISCHIEF...|PL 1450502|         F|          S|            122|                0|    25-44|       M|               BLACK|    POINT (-74.106007...|\n",
            "| 232808103| 08/27/2021|  177|        SEXUAL ABUSE|  116|          SEX CRIMES|PL 1306503|         F|          K|             77|                0|    45-64|       M|      WHITE HISPANIC|    POINT (-73.930221...|\n",
            "| 234188814| 09/28/2021|  339|LARCENY,PETIT FRO...|  341|       PETIT LARCENY|PL 1552500|         M|          M|             14|                0|    45-64|       M|               BLACK|    POINT (-73.989544...|\n",
            "| 232398263| 08/18/2021|  268|  CRIMINAL MIS 2 & 3|  121|CRIMINAL MISCHIEF...|PL 1450502|         F|          S|            120|                0|    25-44|       M|               BLACK|    POINT (-74.077321...|\n",
            "| 233601147| 09/14/2021|   49|U.S. CODE UNCLASS...|  995|FOR OTHER AUTHORI...|FOA9000049|      null|          K|             75|                0|    25-44|       M|      BLACK HISPANIC|    POINT (-73.879988...|\n",
            "| 233523671| 09/14/2021|  729|FORGERY,ETC.,UNCL...|  113|             FORGERY|PL 1702500|         F|          Q|            103|                0|    25-44|       M|               BLACK|    POINT (-73.798974...|\n",
            "| 233779146| 09/19/2021|  339|LARCENY,PETIT FRO...|  341|       PETIT LARCENY|PL 1552500|         M|          M|             14|                0|    45-64|       M|      WHITE HISPANIC|    POINT (-73.989282...|\n",
            "| 233580709| 09/15/2021|  105|   STRANGULATION 1ST|  106|      FELONY ASSAULT|PL 1211300|         F|          K|             75|                2|    25-44|       M|      BLACK HISPANIC|    POINT (-73.885091...|\n",
            "| 233288096| 09/08/2021|  503|CONTROLLED SUBSTA...|  117|     DANGEROUS DRUGS|PL 2201601|         F|          K|             62|                0|    25-44|       M|               WHITE|    POINT (-73.996020...|\n",
            "| 232285812| 08/15/2021|  848|NY STATE LAWS,UNC...|  364|OTHER STATE LAWS ...|CPL5700600|         M|          Q|            113|                3|    45-64|       M|               BLACK|    POINT (-73.776233...|\n",
            "| 233108195| 09/03/2021|  848|NY STATE LAWS,UNC...|  364|OTHER STATE LAWS ...|CPL5700600|         M|          Q|            113|                3|    45-64|       M|AMERICAN INDIAN/A...|    POINT (-73.776233...|\n",
            "| 233720122| 09/17/2021|  244|BURGLARY,UNCLASSI...|  107|            BURGLARY|PL 1402000|         F|          M|             10|                0|    25-44|       M|      WHITE HISPANIC|    POINT (-73.998428...|\n",
            "| 232841251| 08/28/2021|  101|           ASSAULT 3|  344|ASSAULT 3 & RELAT...|PL 1200001|         M|          Q|            115|                0|    25-44|       F|      WHITE HISPANIC|    POINT (-73.870844...|\n",
            "| 232838509| 08/28/2021|  748|   CONTEMPT,CRIMINAL|  359|OFFENSES AGAINST ...|PL 2155003|         M|          Q|            104|                0|    45-64|       F|               BLACK|    POINT (-73.893470...|\n",
            "| 233099359| 09/03/2021|  782|WEAPONS, POSSESSI...|  236|   DANGEROUS WEAPONS|PL 2650101|         M|          Q|            113|                3|    45-64|       M|      WHITE HISPANIC|    POINT (-73.776233...|\n",
            "| 233194813| 09/06/2021|  109|ASSAULT 2,1,UNCLA...|  106|      FELONY ASSAULT|PL 1200502|         F|          M|             14|                0|    18-24|       M|             UNKNOWN|    POINT (-73.986404...|\n",
            "| 233553416| 09/14/2021|  175|    SEXUAL ABUSE 3,2|  233|          SEX CRIMES|PL 13052A1|         M|          M|             14|                0|    45-64|       M|      WHITE HISPANIC|    POINT (-73.994843...|\n",
            "| 232981224| 09/01/2021|  779|PUBLIC ADMINISTRA...|  126|MISCELLANEOUS PEN...|PL 215510B|         F|          B|             44|                0|    25-44|       M|               BLACK|    POINT (-73.919457...|\n",
            "| 233017316| 09/01/2021|  439|LARCENY,GRAND FRO...|  109|       GRAND LARCENY|PL 1553004|         F|          Q|            113|                3|    45-64|       M|               BLACK|    POINT (-73.776233...|\n",
            "| 234027150| 09/24/2021|  779|PUBLIC ADMINISTRA...|  126|MISCELLANEOUS PEN...|PL 215510B|         F|          K|             79|                0|    25-44|       M|               BLACK|    POINT (-73.944987...|\n",
            "| 234199793| 09/29/2021|  259|CRIMINAL MISCHIEF...|  351|CRIMINAL MISCHIEF...|PL 1450001|         M|          S|            122|                0|    25-44|       M|               BLACK|    POINT (-74.106289...|\n",
            "| 233823067| 09/21/2021|  101|           ASSAULT 3|  344|ASSAULT 3 & RELAT...|PL 1200001|         M|          B|             46|                0|    25-44|       F|               BLACK|    POINT (-73.909899...|\n",
            "| 232324359| 08/16/2021|  101|           ASSAULT 3|  344|ASSAULT 3 & RELAT...|PL 1200001|         M|          K|             72|                0|    25-44|       M|      BLACK HISPANIC|    POINT (-74.017016...|\n",
            "| 233699184| 09/17/2021|  661|     LEWDNESS,PUBLIC|  361|OFF. AGNST PUB OR...|PL 2450301|         M|          K|             70|                0|      65+|       M|               WHITE|    POINT (-73.962516...|\n",
            "| 232124228| 08/12/2021|  759|PUBLIC ADMINISTAT...|  359|OFFENSES AGAINST ...|PL 1950500|         M|          B|             52|                0|    18-24|       M|               BLACK|    POINT (-73.912740...|\n",
            "| 233069831| 09/02/2021|  792|WEAPONS POSSESSIO...|  118|   DANGEROUS WEAPONS|PL 265031B|         F|          M|             32|                0|    25-44|       M|               BLACK|    POINT (-73.937529...|\n",
            "| 233847707| 09/21/2021|  969|TRAFFIC,UNCLASSIF...|  881|OTHER TRAFFIC INF...|VTL051101A|         M|          K|             88|                0|      65+|       M|               BLACK|    POINT (-73.960149...|\n",
            "| 232523517| 08/20/2021|  503|CONTROLLED SUBSTA...|  117|     DANGEROUS DRUGS|PL 2201603|         F|          M|             14|                0|    25-44|       M|               BLACK|    POINT (-73.989071...|\n",
            "| 232605749| 08/23/2021|  397|ROBBERY,OPEN AREA...|  105|             ROBBERY|PL 1601504|         F|          K|             67|                0|      <18|       M|      WHITE HISPANIC|    POINT (-73.950821...|\n",
            "| 232534103| 08/20/2021|  101|           ASSAULT 3|  344|ASSAULT 3 & RELAT...|PL 1200001|         M|          Q|            102|                0|    25-44|       M|      WHITE HISPANIC|    POINT (-73.858981...|\n",
            "| 233851051| 09/21/2021|  105|   STRANGULATION 1ST|  106|      FELONY ASSAULT|PL 1211300|         F|          K|             69|                0|    25-44|       M|               BLACK|    POINT (-73.906276...|\n",
            "| 233755499| 09/18/2021|  511|CONTROLLED SUBSTA...|  235|     DANGEROUS DRUGS|PL 2200300|         M|          M|              9|                0|    45-64|       M|               BLACK|    POINT (-73.980390...|\n",
            "| 233006202| 09/01/2021|  113|MENACING,UNCLASSI...|  344|ASSAULT 3 & RELAT...|PL 1201500|         M|          M|             33|                0|    25-44|       M|      BLACK HISPANIC|    POINT (-73.936239...|\n",
            "| 233424623| 09/12/2021|  639|AGGRAVATED HARASS...|  361|OFF. AGNST PUB OR...|PL 2403004|         M|          Q|            100|                0|    25-44|       M|      WHITE HISPANIC|    POINT (-73.799887...|\n",
            "| 233486076| 09/13/2021|  139| MURDER,UNCLASSIFIED|  101|MURDER & NON-NEGL...|PL 1252501|         F|          Q|            101|                0|      <18|       M|      BLACK HISPANIC|    POINT (-73.750083...|\n",
            "| 233235407| 09/07/2021|  511|CONTROLLED SUBSTA...|  235|     DANGEROUS DRUGS|PL 2200300|         M|          B|             52|                0|    45-64|       M|      WHITE HISPANIC|    POINT (-73.874448...|\n",
            "| 232733578| 08/25/2021|  922|TRAFFIC,UNCLASSIF...|  348|VEHICLE AND TRAFF...|VTL0511001|         M|          S|            123|                0|    18-24|       M|ASIAN / PACIFIC I...|    POINT (-74.247023...|\n",
            "| 232296862| 08/16/2021|  439|LARCENY,GRAND FRO...|  109|       GRAND LARCENY|PL 1553001|         F|          M|             14|                0|    25-44|       M|AMERICAN INDIAN/A...|    POINT (-73.994399...|\n",
            "| 232879759| 08/29/2021|  268|  CRIMINAL MIS 2 & 3|  121|CRIMINAL MISCHIEF...|PL 1450502|         F|          B|             49|                0|    25-44|       M|ASIAN / PACIFIC I...|    POINT (-73.843909...|\n",
            "| 232970494| 08/31/2021|  681|CHILD, ENDANGERIN...|  233|          SEX CRIMES|PL 2601001|         M|          K|             75|                0|    25-44|       M|      WHITE HISPANIC|    POINT (-73.881432...|\n",
            "| 234248849| 09/29/2021|  101|           ASSAULT 3|  344|ASSAULT 3 & RELAT...|PL 1200001|         M|          B|             40|                0|    45-64|       M|               BLACK|    POINT (-73.923973...|\n",
            "| 233584483| 09/15/2021|  508|DRUG PARAPHERNALI...|  235|     DANGEROUS DRUGS|PL 2205002|         M|          K|             94|                0|    18-24|       M|      WHITE HISPANIC|    POINT (-73.953116...|\n",
            "| 234245432| 09/29/2021|  439|LARCENY,GRAND FRO...|  109|       GRAND LARCENY|PL 1553001|         F|          M|             20|                0|    25-44|       F|               BLACK|    POINT (-73.977759...|\n",
            "| 233099358| 09/03/2021|  268|  CRIMINAL MIS 2 & 3|  121|CRIMINAL MISCHIEF...|PL 1450502|         F|          M|              1|                0|    25-44|       M|      WHITE HISPANIC|    POINT (-74.004542...|\n",
            "| 233512691| 09/14/2021|  113|MENACING,UNCLASSI...|  344|ASSAULT 3 & RELAT...|PL 1201401|         M|          Q|            111|                0|    25-44|       M|      WHITE HISPANIC|    POINT (-73.767423...|\n",
            "| 232196535| 08/13/2021|  779|PUBLIC ADMINISTRA...|  126|MISCELLANEOUS PEN...|PL 215510B|         F|          M|             19|                0|    25-44|       M|      WHITE HISPANIC|    POINT (-73.963731...|\n",
            "| 234315804| 09/30/2021|  258|CRIMINAL MISCHIEF...|  351|CRIMINAL MISCHIEF...|PL 1456002|         M|          M|              6|                0|    18-24|       M|               BLACK|    POINT (-74.000845...|\n",
            "| 233145441| 09/05/2021|  101|           ASSAULT 3|  344|ASSAULT 3 & RELAT...|PL 1200001|         M|          M|              5|                0|    25-44|       M|      WHITE HISPANIC|    POINT (-73.991985...|\n",
            "| 232272179| 08/15/2021|  339|LARCENY,PETIT FRO...|  341|       PETIT LARCENY|PL 1552500|         M|          M|             25|                0|    45-64|       M|               BLACK|    POINT (-73.939286...|\n",
            "| 232946541| 08/31/2021|  639|AGGRAVATED HARASS...|  361|OFF. AGNST PUB OR...|PL 2403002|         M|          M|             30|                0|    18-24|       M|      WHITE HISPANIC|    POINT (-73.943989...|\n",
            "| 232529240| 08/20/2021|  793|WEAPONS POSSESSION 3|  118|   DANGEROUS WEAPONS|PL 2650201|         F|          K|             68|                0|    18-24|       M|      BLACK HISPANIC|    POINT (-74.007779...|\n",
            "| 233510222| 09/14/2021|  779|PUBLIC ADMINISTRA...|  126|MISCELLANEOUS PEN...|PL 215510B|         F|          Q|            112|                0|    25-44|       F|               WHITE|    POINT (-73.851116...|\n",
            "| 232592125| 08/23/2021|  681|CHILD, ENDANGERIN...|  233|          SEX CRIMES|PL 2601001|         M|          M|             26|                0|    25-44|       M|               BLACK|    POINT (-73.956681...|\n",
            "| 233362188| 09/10/2021|  291|     CONSPIRACY 4, 3|  126|MISCELLANEOUS PEN...|PL 1051000|         F|          M|             30|                0|    18-24|       M|      BLACK HISPANIC|    POINT (-73.956360...|\n",
            "| 233968236| 09/23/2021|  339|LARCENY,PETIT FRO...|  341|       PETIT LARCENY|PL 1552500|         M|          M|             14|                0|    45-64|       M|               BLACK|    POINT (-73.989282...|\n",
            "| 232746525| 08/26/2021|  105|   STRANGULATION 1ST|  106|      FELONY ASSAULT|PL 1211200|         F|          K|             77|                0|    25-44|       M|      WHITE HISPANIC|    POINT (-73.958285...|\n",
            "| 232419234| 08/18/2021|  117|RECKLESS ENDANGER...|  126|MISCELLANEOUS PEN...|PL 1202500|         F|          K|             83|                2|    25-44|       M|      WHITE HISPANIC|    POINT (-73.932417...|\n",
            "| 233410662| 09/11/2021|  515|CONTROLLED SUBSTA...|  117|     DANGEROUS DRUGS|PL 2203901|         F|          M|             14|                0|    25-44|       M|               BLACK|    POINT (-73.989071...|\n",
            "| 233685623| 09/17/2021|  105|   STRANGULATION 1ST|  106|      FELONY ASSAULT|PL 1211200|         F|          M|             23|                2|    25-44|       M|      WHITE HISPANIC|    POINT (-73.949751...|\n",
            "| 233695026| 09/17/2021|  848|NY STATE LAWS,UNC...|  364|OTHER STATE LAWS ...|CPL5700600|         M|          B|             44|                0|    18-24|       M|      WHITE HISPANIC|    POINT (-73.920707...|\n",
            "| 232496771| 08/20/2021|  258|CRIMINAL MISCHIEF...|  351|CRIMINAL MISCHIEF...|PL 1456002|         M|          K|             83|                1|    25-44|       M|      WHITE HISPANIC|    POINT (-73.935225...|\n",
            "| 232488192| 08/19/2021|   49|U.S. CODE UNCLASS...|  995|FOR OTHER AUTHORI...|FOA9000049|      null|          Q|            113|                0|    25-44|       M|               BLACK|    POINT (-73.801837...|\n",
            "| 234127388| 09/27/2021|  101|           ASSAULT 3|  344|ASSAULT 3 & RELAT...|PL 1200001|         M|          M|             14|                0|      65+|       M|               WHITE|    POINT (-73.991040...|\n",
            "| 232299619| 08/16/2021|  639|AGGRAVATED HARASS...|  361|OFF. AGNST PUB OR...|PL 2403005|         M|          B|             40|                2|    45-64|       F|      BLACK HISPANIC|    POINT (-73.915757...|\n",
            "| 232950206| 08/31/2021|  109|ASSAULT 2,1,UNCLA...|  106|      FELONY ASSAULT|PL 1200600|         F|          B|             52|                0|    18-24|       M|      WHITE HISPANIC|    POINT (-73.879998...|\n",
            "| 234117051| 09/27/2021|  105|   STRANGULATION 1ST|  106|      FELONY ASSAULT|PL 1211200|         F|          K|             88|                0|    25-44|       M|               BLACK|    POINT (-73.960149...|\n",
            "| 233771779| 09/19/2021|  105|   STRANGULATION 1ST|  106|      FELONY ASSAULT|PL 1211200|         F|          Q|            114|                0|    18-24|       M|      WHITE HISPANIC|    POINT (-73.915651...|\n",
            "| 233191260| 09/06/2021|  779|PUBLIC ADMINISTRA...|  126|MISCELLANEOUS PEN...|PL 215510B|         F|          B|             44|                0|    25-44|       M|      BLACK HISPANIC|    POINT (-73.920707...|\n",
            "| 233553790| 09/14/2021|  114| OBSTR BREATH/CIRCUL|  344|ASSAULT 3 & RELAT...|PL 1211100|         M|          B|             48|                0|    18-24|       M|      WHITE HISPANIC|    POINT (-73.888912...|\n",
            "| 232676332| 08/24/2021|  113|MENACING,UNCLASSI...|  344|ASSAULT 3 & RELAT...|PL 1201401|         M|          M|             10|                0|    25-44|       M|ASIAN / PACIFIC I...|    POINT (-73.998428...|\n",
            "| 233145036| 09/04/2021|  792|WEAPONS POSSESSIO...|  118|   DANGEROUS WEAPONS|PL 2650303|         F|          Q|            102|                0|    18-24|       M|      WHITE HISPANIC|    POINT (-73.831854...|\n",
            "| 232763915| 08/26/2021|  511|CONTROLLED SUBSTA...|  235|     DANGEROUS DRUGS|PL 2200300|         M|          Q|            114|                0|    45-64|       F|               BLACK|    POINT (-73.942823...|\n",
            "| 232215832| 08/13/2021|  510|CONTROLLED SUBSTA...|  117|     DANGEROUS DRUGS|PL 2200601|         F|          M|             26|                2|    25-44|       M|      WHITE HISPANIC|    POINT (-73.960512...|\n",
            "| 233439767| 09/12/2021|  101|           ASSAULT 3|  344|ASSAULT 3 & RELAT...|PL 1200001|         M|          K|             60|                0|    25-44|       M|               BLACK|    POINT (-73.993702...|\n",
            "| 232776121| 08/26/2021|  339|LARCENY,PETIT FRO...|  341|       PETIT LARCENY|PL 1552500|         M|          Q|            112|                0|    25-44|       F|               BLACK|    POINT (-73.855257...|\n",
            "| 233185263| 09/06/2021|  113|MENACING,UNCLASSI...|  344|ASSAULT 3 & RELAT...|PL 1201401|         M|          Q|            101|                0|    25-44|       F|               BLACK|    POINT (-73.773241...|\n",
            "| 233975202| 09/23/2021|  705|  FORGERY,ETC.-MISD.|  358|OFFENSES INVOLVIN...|PL 1702000|         M|          Q|            103|                0|    18-24|       F|               BLACK|    POINT (-73.784850...|\n",
            "| 232722852| 08/25/2021|  466|ACCOSTING,FRAUDULENT|  238|FRAUDULENT ACCOSTING|PL 1653001|         M|          B|             40|                0|    25-44|       M|      WHITE HISPANIC|    POINT (-73.927738...|\n",
            "| 233183438| 09/06/2021|  905|INTOXICATED DRIVI...|  347|INTOXICATED & IMP...|VTL11920U2|         M|          Q|            113|                0|    45-64|       M|               BLACK|    POINT (-73.773566...|\n",
            "| 233650745| 09/16/2021|  511|CONTROLLED SUBSTA...|  235|     DANGEROUS DRUGS|PL 2200300|         M|          B|             40|                0|    25-44|       M|      BLACK HISPANIC|    POINT (-73.910241...|\n",
            "| 233451738| 09/12/2021|  109|ASSAULT 2,1,UNCLA...|  106|      FELONY ASSAULT|PL 120054A|         F|          B|             47|                0|    25-44|       F|               BLACK|    POINT (-73.850401...|\n",
            "| 232719679| 08/25/2021|  109|ASSAULT 2,1,UNCLA...|  106|      FELONY ASSAULT|PL 1200502|         F|          K|             79|                2|    18-24|       F|      WHITE HISPANIC|    POINT (-73.940772...|\n",
            "| 233925762| 09/22/2021|  397|ROBBERY,OPEN AREA...|  105|             ROBBERY|PL 1601001|         F|          Q|            103|                0|      <18|       M|      WHITE HISPANIC|    POINT (-73.782556...|\n",
            "+----------+-----------+-----+--------------------+-----+--------------------+----------+----------+-----------+---------------+-----------------+---------+--------+--------------------+------------------------+\n",
            "only showing top 100 rows\n",
            "\n"
          ]
        }
      ],
      "source": [
        "df.show(100)"
      ]
    },
    {
      "cell_type": "markdown",
      "metadata": {
        "id": "xQB6VENfU63C"
      },
      "source": [
        "Check if minimum and maximum values of date and time are valid or not.\n",
        "\n",
        "1. The minimum value should not be less than January 1, 2021.\n",
        "\n",
        "2. And the maximum value should not be greater than the current date."
      ]
    },
    {
      "cell_type": "code",
      "execution_count": null,
      "metadata": {
        "colab": {
          "base_uri": "https://localhost:8080/"
        },
        "id": "vVavFmZSuUoz",
        "outputId": "45333b8a-4df9-4515-f827-a399e063c55d"
      },
      "outputs": [
        {
          "output_type": "stream",
          "name": "stdout",
          "text": [
            "+----------------+\n",
            "|min(ARREST_DATE)|\n",
            "+----------------+\n",
            "|      01/01/2021|\n",
            "+----------------+\n",
            "\n"
          ]
        }
      ],
      "source": [
        "## Minimum value of the column in pyspark\n",
        "df.agg({'ARREST_DATE': 'min'}).show()"
      ]
    },
    {
      "cell_type": "code",
      "execution_count": null,
      "metadata": {
        "colab": {
          "base_uri": "https://localhost:8080/"
        },
        "id": "Tono32lCucBj",
        "outputId": "33a1ee66-7eb2-400f-98a0-90ffa3c86120"
      },
      "outputs": [
        {
          "output_type": "stream",
          "name": "stdout",
          "text": [
            "+----------------+\n",
            "|max(ARREST_DATE)|\n",
            "+----------------+\n",
            "|      09/30/2021|\n",
            "+----------------+\n",
            "\n"
          ]
        }
      ],
      "source": [
        "## Maximum value of the column in pyspark\n",
        "df.agg({'ARREST_DATE': 'max'}).show()"
      ]
    },
    {
      "cell_type": "markdown",
      "metadata": {
        "id": "StfFUDBsc_8R"
      },
      "source": [
        "## TODO: Revisit\n",
        "**Some basic data quality checks are as below:**\n",
        "1. Check if there are no garbage values in law category column. The valid values are: 'FELONY', 'VIOLATION', 'MISDEMEANOR'.\n",
        "Check for the value `I`.\n",
        "2. Check if there are no misspellings in Borough Name. There should be 5 distinct boroughs: Manhattan, Bronx, Queens, Brooklyn, Staten Island. We implement unique method, in case of misspellings multiple values of the same borough would be returned.\n",
        "3. Ideally, key code should contain only 3 digits. Implementing a check below to see if there are any invalid values for the key code. "
      ]
    },
    {
      "cell_type": "code",
      "execution_count": null,
      "metadata": {
        "colab": {
          "base_uri": "https://localhost:8080/"
        },
        "id": "thhWypodbGdS",
        "outputId": "8bf14eba-1b1e-41c1-de21-1ee13aedefc8"
      },
      "outputs": [
        {
          "output_type": "stream",
          "name": "stdout",
          "text": [
            "+----------+\n",
            "|LAW_CAT_CD|\n",
            "+----------+\n",
            "|         F|\n",
            "|      null|\n",
            "|         M|\n",
            "|         V|\n",
            "|         I|\n",
            "+----------+\n",
            "\n"
          ]
        }
      ],
      "source": [
        "df.select('LAW_CAT_CD').distinct().show()"
      ]
    },
    {
      "cell_type": "code",
      "source": [
        "df.groupBy('LAW_CAT_CD').count().show()"
      ],
      "metadata": {
        "colab": {
          "base_uri": "https://localhost:8080/"
        },
        "id": "Laz_PeO9LSWD",
        "outputId": "0bc8a6be-e8bc-4a8a-f017-ae58ac4778e1"
      },
      "execution_count": null,
      "outputs": [
        {
          "output_type": "stream",
          "name": "stdout",
          "text": [
            "+----------+-----+\n",
            "|LAW_CAT_CD|count|\n",
            "+----------+-----+\n",
            "|         F|52578|\n",
            "|         M|61204|\n",
            "|         V|  270|\n",
            "|         I|  169|\n",
            "|      null| 1078|\n",
            "+----------+-----+\n",
            "\n"
          ]
        }
      ]
    },
    {
      "cell_type": "markdown",
      "metadata": {
        "id": "GZowh0na-VjI"
      },
      "source": [
        "### Checks for Borough Name"
      ]
    },
    {
      "cell_type": "code",
      "execution_count": null,
      "metadata": {
        "colab": {
          "base_uri": "https://localhost:8080/"
        },
        "id": "8EkBxmg_bOue",
        "outputId": "afc46f75-4a6a-4f0d-ec02-263056ba89e3"
      },
      "outputs": [
        {
          "output_type": "stream",
          "name": "stdout",
          "text": [
            "+-----------+\n",
            "|ARREST_BORO|\n",
            "+-----------+\n",
            "|          K|\n",
            "|          Q|\n",
            "|          B|\n",
            "|          M|\n",
            "|          S|\n",
            "+-----------+\n",
            "\n"
          ]
        }
      ],
      "source": [
        "df.select('ARREST_BORO').distinct().show()"
      ]
    },
    {
      "cell_type": "markdown",
      "metadata": {
        "id": "CLGPDp3OAdxF"
      },
      "source": [
        "We can see there are no invalid values for the Borough names and thus no need for additional data correction for the same."
      ]
    },
    {
      "cell_type": "code",
      "execution_count": null,
      "metadata": {
        "colab": {
          "base_uri": "https://localhost:8080/"
        },
        "id": "TGS80nUK-O1f",
        "outputId": "df1d4b4b-06f2-41b5-d74f-d3862d122126"
      },
      "outputs": [
        {
          "output_type": "stream",
          "name": "stdout",
          "text": [
            "+----------+-----------+-----+-------+-----+---------+--------+----------+-----------+---------------+-----------------+---------+--------+---------+------------------------+\n",
            "|ARREST_KEY|ARREST_DATE|PD_CD|PD_DESC|KY_CD|OFNS_DESC|LAW_CODE|LAW_CAT_CD|ARREST_BORO|ARREST_PRECINCT|JURISDICTION_CODE|AGE_GROUP|PERP_SEX|PERP_RACE|New Georeferenced Column|\n",
            "+----------+-----------+-----+-------+-----+---------+--------+----------+-----------+---------------+-----------------+---------+--------+---------+------------------------+\n",
            "+----------+-----------+-----+-------+-----+---------+--------+----------+-----------+---------------+-----------------+---------+--------+---------+------------------------+\n",
            "\n"
          ]
        }
      ],
      "source": [
        "df.where(col('ARREST_BORO').isNull()).show()"
      ]
    },
    {
      "cell_type": "markdown",
      "metadata": {
        "id": "8PBAVylwS6md"
      },
      "source": [
        "#### Dropping Rows where Borough Name is NULL"
      ]
    },
    {
      "cell_type": "code",
      "execution_count": null,
      "metadata": {
        "id": "3lxbjLgg37V8"
      },
      "outputs": [],
      "source": [
        "df = df.filter(df.ARREST_BORO.isNotNull())"
      ]
    },
    {
      "cell_type": "code",
      "execution_count": null,
      "metadata": {
        "colab": {
          "base_uri": "https://localhost:8080/"
        },
        "id": "BdsO97LX6bSs",
        "outputId": "8d7c77ac-66f0-4a9f-d4c4-4dfd8345640e"
      },
      "outputs": [
        {
          "output_type": "execute_result",
          "data": {
            "text/plain": [
              "115299"
            ]
          },
          "metadata": {},
          "execution_count": 32
        }
      ],
      "source": [
        "df.count()"
      ]
    },
    {
      "cell_type": "code",
      "execution_count": null,
      "metadata": {
        "colab": {
          "base_uri": "https://localhost:8080/"
        },
        "id": "5TxYWPFN-mP5",
        "outputId": "67387940-dbdd-4c45-fa7f-88b0ce24ad65"
      },
      "outputs": [
        {
          "output_type": "stream",
          "name": "stdout",
          "text": [
            "+----------+-----------+-----+-------+-----+---------+--------+----------+-----------+---------------+-----------------+---------+--------+---------+------------------------+\n",
            "|ARREST_KEY|ARREST_DATE|PD_CD|PD_DESC|KY_CD|OFNS_DESC|LAW_CODE|LAW_CAT_CD|ARREST_BORO|ARREST_PRECINCT|JURISDICTION_CODE|AGE_GROUP|PERP_SEX|PERP_RACE|New Georeferenced Column|\n",
            "+----------+-----------+-----+-------+-----+---------+--------+----------+-----------+---------------+-----------------+---------+--------+---------+------------------------+\n",
            "+----------+-----------+-----+-------+-----+---------+--------+----------+-----------+---------------+-----------------+---------+--------+---------+------------------------+\n",
            "\n"
          ]
        }
      ],
      "source": [
        "df.filter(df.ARREST_BORO.isNull()).show()"
      ]
    },
    {
      "cell_type": "markdown",
      "metadata": {
        "id": "yrZc_yocN8wq"
      },
      "source": [
        "#### We can see that all the key codes are valid 3-digit numbers"
      ]
    },
    {
      "cell_type": "code",
      "execution_count": null,
      "metadata": {
        "colab": {
          "base_uri": "https://localhost:8080/"
        },
        "id": "LpMZbUBasZQa",
        "outputId": "d8afb38d-af3a-40ee-b28b-02e7fa955ae9"
      },
      "outputs": [
        {
          "output_type": "execute_result",
          "data": {
            "text/plain": [
              "0"
            ]
          },
          "metadata": {},
          "execution_count": 34
        }
      ],
      "source": [
        "df.filter((df.KY_CD < 100) | (df.KY_CD > 999)).count()"
      ]
    },
    {
      "cell_type": "markdown",
      "metadata": {
        "id": "2yoI3xH_tbtM"
      },
      "source": [
        "## Defining checks for outliers in age group"
      ]
    },
    {
      "cell_type": "code",
      "execution_count": null,
      "metadata": {
        "colab": {
          "base_uri": "https://localhost:8080/"
        },
        "id": "DPf0c3XRtMth",
        "outputId": "5c6cc10b-265a-430e-ac13-7f46b3be4e0c"
      },
      "outputs": [
        {
          "output_type": "stream",
          "name": "stdout",
          "text": [
            "+---------+\n",
            "|AGE_GROUP|\n",
            "+---------+\n",
            "|      <18|\n",
            "|    25-44|\n",
            "|      65+|\n",
            "|    18-24|\n",
            "|    45-64|\n",
            "+---------+\n",
            "\n"
          ]
        }
      ],
      "source": [
        "df.select('AGE_GROUP').distinct().show()"
      ]
    },
    {
      "cell_type": "markdown",
      "metadata": {
        "id": "PupPgsepOcUV"
      },
      "source": [
        "#### There are no invalid age groups like negative values, unrealistically high age groups, etc.\n",
        "\n",
        "#### Lets find all the invalid age groups and replace them with `NaN`"
      ]
    },
    {
      "cell_type": "code",
      "execution_count": null,
      "metadata": {
        "id": "4PZeQuUBtmaT",
        "colab": {
          "base_uri": "https://localhost:8080/"
        },
        "outputId": "019232d1-5414-40fb-9500-31c7db5db262"
      },
      "outputs": [
        {
          "output_type": "stream",
          "name": "stdout",
          "text": [
            "+----------+-----------+-----+--------------------+-----+--------------------+----------+----------+-----------+---------------+-----------------+---------+--------+--------------------+------------------------+\n",
            "|ARREST_KEY|ARREST_DATE|PD_CD|             PD_DESC|KY_CD|           OFNS_DESC|  LAW_CODE|LAW_CAT_CD|ARREST_BORO|ARREST_PRECINCT|JURISDICTION_CODE|AGE_GROUP|PERP_SEX|           PERP_RACE|New Georeferenced Column|\n",
            "+----------+-----------+-----+--------------------+-----+--------------------+----------+----------+-----------+---------------+-----------------+---------+--------+--------------------+------------------------+\n",
            "| 232587932| 08/22/2021|  101|           ASSAULT 3|  344|ASSAULT 3 & RELAT...|PL 1200001|         M|          Q|            102|                0|    25-44|       M|ASIAN / PACIFIC I...|    POINT (-73.859897...|\n",
            "| 233677450| 09/17/2021|  511|CONTROLLED SUBSTA...|  235|     DANGEROUS DRUGS|PL 2200300|         M|          M|             10|                0|    45-64|       M|               WHITE|    POINT (-73.994193...|\n",
            "| 232871469| 08/29/2021|  905|INTOXICATED DRIVI...|  347|INTOXICATED & IMP...|VTL11920U2|         M|          K|             62|                0|    25-44|       M|      WHITE HISPANIC|    POINT (-74.008781...|\n",
            "| 232937874| 08/31/2021|  168|            SODOMY 1|  116|          SEX CRIMES|PL 1305002|         F|          K|             77|                0|    25-44|       M|      WHITE HISPANIC|    POINT (-73.930221...|\n",
            "| 232143283| 08/12/2021|  397|ROBBERY,OPEN AREA...|  105|             ROBBERY|PL 1600500|         F|          K|             75|                0|    45-64|       M|               BLACK|    POINT (-73.875184...|\n",
            "| 232340560| 08/17/2021|  244|BURGLARY,UNCLASSI...|  107|            BURGLARY|PL 1402000|         F|          M|              5|                0|    25-44|       M|               BLACK|    POINT (-74.000549...|\n",
            "| 233786856| 09/19/2021|  905|INTOXICATED DRIVI...|  347|INTOXICATED & IMP...|VTL11920U3|         M|          B|             47|                0|    25-44|       M|               BLACK|    POINT (-73.856033...|\n",
            "| 232582513| 08/22/2021|  268|  CRIMINAL MIS 2 & 3|  121|CRIMINAL MISCHIEF...|PL 1451000|         F|          Q|            114|                2|    25-44|       M|               BLACK|    POINT (-73.946354...|\n",
            "| 232803969| 08/27/2021|  817|TORTURE/INJURE AN...|  364|AGRICULTURE & MRK...|AM 0353000|         M|          B|             42|                0|    25-44|       M|      BLACK HISPANIC|    POINT (-73.886465...|\n",
            "| 233168870| 09/06/2021|  922|TRAFFIC,UNCLASSIF...|  348|VEHICLE AND TRAFF...|VTL05110E2|         F|          M|             19|                0|    18-24|       M|      WHITE HISPANIC|    POINT (-73.957904...|\n",
            "| 233844977| 09/21/2021|  494|STOLEN PROPERTY 2...|  111|POSSESSION OF STO...|PL 1655200|         F|          B|             50|                0|    25-44|       M|      WHITE HISPANIC|    POINT (-73.902088...|\n",
            "| 234010264| 09/24/2021|  139| MURDER,UNCLASSIFIED|  101|MURDER & NON-NEGL...|PL 1252501|         F|          K|             84|                0|    25-44|       M|               BLACK|    POINT (-73.983243...|\n",
            "| 232924789| 08/31/2021|  922|TRAFFIC,UNCLASSIF...|  348|VEHICLE AND TRAFF...|VTL0511001|         M|          K|             63|                0|    25-44|       M|               BLACK|    POINT (-73.926298...|\n",
            "| 233235415| 09/07/2021|  339|LARCENY,PETIT FRO...|  341|       PETIT LARCENY|PL 1552500|         M|          K|             63|                0|    45-64|       M|               BLACK|    POINT (-73.920985...|\n",
            "| 233165578| 09/05/2021|  339|LARCENY,PETIT FRO...|  341|       PETIT LARCENY|PL 1552500|         M|          B|             47|                0|    25-44|       M|               BLACK|    POINT (-73.857929...|\n",
            "| 232355572| 08/17/2021|  101|           ASSAULT 3|  344|ASSAULT 3 & RELAT...|PL 1200001|         M|          B|             45|                0|    18-24|       M|      WHITE HISPANIC|    POINT (-73.842837...|\n",
            "| 233608348| 09/15/2021|  175|    SEXUAL ABUSE 3,2|  233|          SEX CRIMES|PL 13052A1|         M|          Q|            112|                0|    25-44|       M|               WHITE|    POINT (-73.851473...|\n",
            "| 233842297| 09/21/2021|  268|  CRIMINAL MIS 2 & 3|  121|CRIMINAL MISCHIEF...|PL 1450502|         F|          S|            122|                0|    25-44|       M|               BLACK|    POINT (-74.106007...|\n",
            "| 232808103| 08/27/2021|  177|        SEXUAL ABUSE|  116|          SEX CRIMES|PL 1306503|         F|          K|             77|                0|    45-64|       M|      WHITE HISPANIC|    POINT (-73.930221...|\n",
            "| 234188814| 09/28/2021|  339|LARCENY,PETIT FRO...|  341|       PETIT LARCENY|PL 1552500|         M|          M|             14|                0|    45-64|       M|               BLACK|    POINT (-73.989544...|\n",
            "+----------+-----------+-----+--------------------+-----+--------------------+----------+----------+-----------+---------------+-----------------+---------+--------+--------------------+------------------------+\n",
            "only showing top 20 rows\n",
            "\n"
          ]
        }
      ],
      "source": [
        "valid_age_groups = ['<18','18-24','25-44','45-64','65+',np.NaN]\n",
        "df = df.withColumn('AGE_GROUP', when(df.AGE_GROUP.isin(valid_age_groups), df.AGE_GROUP).otherwise(np.NaN))\n",
        "df.show()"
      ]
    },
    {
      "cell_type": "code",
      "execution_count": null,
      "metadata": {
        "id": "Y4_Sm8jySwhZ",
        "colab": {
          "base_uri": "https://localhost:8080/"
        },
        "outputId": "28de81db-12f7-4c02-f893-dacef312842c"
      },
      "outputs": [
        {
          "output_type": "stream",
          "name": "stdout",
          "text": [
            "+---------+\n",
            "|AGE_GROUP|\n",
            "+---------+\n",
            "|      <18|\n",
            "|    25-44|\n",
            "|      65+|\n",
            "|    18-24|\n",
            "|    45-64|\n",
            "+---------+\n",
            "\n"
          ]
        }
      ],
      "source": [
        "df.select('AGE_GROUP').distinct().show()"
      ]
    },
    {
      "cell_type": "markdown",
      "metadata": {
        "id": "9C5Wbu2Hrb4m"
      },
      "source": [
        "### Check for Race Values "
      ]
    },
    {
      "cell_type": "code",
      "execution_count": null,
      "metadata": {
        "id": "mGZ6lAHAoC7m",
        "colab": {
          "base_uri": "https://localhost:8080/"
        },
        "outputId": "0eb6f4c2-cde9-4427-94ed-f5a2e34de8c3"
      },
      "outputs": [
        {
          "output_type": "stream",
          "name": "stdout",
          "text": [
            "+--------------------+\n",
            "|           PERP_RACE|\n",
            "+--------------------+\n",
            "|               WHITE|\n",
            "|               BLACK|\n",
            "|AMERICAN INDIAN/A...|\n",
            "|      BLACK HISPANIC|\n",
            "|      WHITE HISPANIC|\n",
            "|             UNKNOWN|\n",
            "|ASIAN / PACIFIC I...|\n",
            "+--------------------+\n",
            "\n"
          ]
        }
      ],
      "source": [
        "df.select('PERP_RACE').distinct().show()"
      ]
    },
    {
      "cell_type": "markdown",
      "metadata": {
        "id": "zL4B-B4f2fp2"
      },
      "source": [
        "#### Replace all `UNKNOWN` values with `NaN`"
      ]
    },
    {
      "cell_type": "code",
      "execution_count": null,
      "metadata": {
        "id": "lC0bTJYj2W2Q"
      },
      "outputs": [],
      "source": [
        "from pyspark.sql.functions import regexp_replace\n",
        "\n",
        "df = df.withColumn(\"PERP_RACE\",\n",
        "  regexp_replace(\"PERP_RACE\", \"UNKNOWN\", \"NaN\"))"
      ]
    },
    {
      "cell_type": "code",
      "execution_count": null,
      "metadata": {
        "id": "Lz15zl4N8e5l",
        "colab": {
          "base_uri": "https://localhost:8080/"
        },
        "outputId": "7c229099-338f-4971-e3c2-a9ed5e54e8a3"
      },
      "outputs": [
        {
          "output_type": "stream",
          "name": "stdout",
          "text": [
            "+----------+-----------+-----+--------------------+-----+--------------------+----------+----------+-----------+---------------+-----------------+---------+--------+--------------------+------------------------+\n",
            "|ARREST_KEY|ARREST_DATE|PD_CD|             PD_DESC|KY_CD|           OFNS_DESC|  LAW_CODE|LAW_CAT_CD|ARREST_BORO|ARREST_PRECINCT|JURISDICTION_CODE|AGE_GROUP|PERP_SEX|           PERP_RACE|New Georeferenced Column|\n",
            "+----------+-----------+-----+--------------------+-----+--------------------+----------+----------+-----------+---------------+-----------------+---------+--------+--------------------+------------------------+\n",
            "| 232587932| 08/22/2021|  101|           ASSAULT 3|  344|ASSAULT 3 & RELAT...|PL 1200001|         M|          Q|            102|                0|    25-44|       M|ASIAN / PACIFIC I...|    POINT (-73.859897...|\n",
            "| 233677450| 09/17/2021|  511|CONTROLLED SUBSTA...|  235|     DANGEROUS DRUGS|PL 2200300|         M|          M|             10|                0|    45-64|       M|               WHITE|    POINT (-73.994193...|\n",
            "| 232871469| 08/29/2021|  905|INTOXICATED DRIVI...|  347|INTOXICATED & IMP...|VTL11920U2|         M|          K|             62|                0|    25-44|       M|      WHITE HISPANIC|    POINT (-74.008781...|\n",
            "| 232937874| 08/31/2021|  168|            SODOMY 1|  116|          SEX CRIMES|PL 1305002|         F|          K|             77|                0|    25-44|       M|      WHITE HISPANIC|    POINT (-73.930221...|\n",
            "| 232143283| 08/12/2021|  397|ROBBERY,OPEN AREA...|  105|             ROBBERY|PL 1600500|         F|          K|             75|                0|    45-64|       M|               BLACK|    POINT (-73.875184...|\n",
            "| 232340560| 08/17/2021|  244|BURGLARY,UNCLASSI...|  107|            BURGLARY|PL 1402000|         F|          M|              5|                0|    25-44|       M|               BLACK|    POINT (-74.000549...|\n",
            "| 233786856| 09/19/2021|  905|INTOXICATED DRIVI...|  347|INTOXICATED & IMP...|VTL11920U3|         M|          B|             47|                0|    25-44|       M|               BLACK|    POINT (-73.856033...|\n",
            "| 232582513| 08/22/2021|  268|  CRIMINAL MIS 2 & 3|  121|CRIMINAL MISCHIEF...|PL 1451000|         F|          Q|            114|                2|    25-44|       M|               BLACK|    POINT (-73.946354...|\n",
            "| 232803969| 08/27/2021|  817|TORTURE/INJURE AN...|  364|AGRICULTURE & MRK...|AM 0353000|         M|          B|             42|                0|    25-44|       M|      BLACK HISPANIC|    POINT (-73.886465...|\n",
            "| 233168870| 09/06/2021|  922|TRAFFIC,UNCLASSIF...|  348|VEHICLE AND TRAFF...|VTL05110E2|         F|          M|             19|                0|    18-24|       M|      WHITE HISPANIC|    POINT (-73.957904...|\n",
            "| 233844977| 09/21/2021|  494|STOLEN PROPERTY 2...|  111|POSSESSION OF STO...|PL 1655200|         F|          B|             50|                0|    25-44|       M|      WHITE HISPANIC|    POINT (-73.902088...|\n",
            "| 234010264| 09/24/2021|  139| MURDER,UNCLASSIFIED|  101|MURDER & NON-NEGL...|PL 1252501|         F|          K|             84|                0|    25-44|       M|               BLACK|    POINT (-73.983243...|\n",
            "| 232924789| 08/31/2021|  922|TRAFFIC,UNCLASSIF...|  348|VEHICLE AND TRAFF...|VTL0511001|         M|          K|             63|                0|    25-44|       M|               BLACK|    POINT (-73.926298...|\n",
            "| 233235415| 09/07/2021|  339|LARCENY,PETIT FRO...|  341|       PETIT LARCENY|PL 1552500|         M|          K|             63|                0|    45-64|       M|               BLACK|    POINT (-73.920985...|\n",
            "| 233165578| 09/05/2021|  339|LARCENY,PETIT FRO...|  341|       PETIT LARCENY|PL 1552500|         M|          B|             47|                0|    25-44|       M|               BLACK|    POINT (-73.857929...|\n",
            "| 232355572| 08/17/2021|  101|           ASSAULT 3|  344|ASSAULT 3 & RELAT...|PL 1200001|         M|          B|             45|                0|    18-24|       M|      WHITE HISPANIC|    POINT (-73.842837...|\n",
            "| 233608348| 09/15/2021|  175|    SEXUAL ABUSE 3,2|  233|          SEX CRIMES|PL 13052A1|         M|          Q|            112|                0|    25-44|       M|               WHITE|    POINT (-73.851473...|\n",
            "| 233842297| 09/21/2021|  268|  CRIMINAL MIS 2 & 3|  121|CRIMINAL MISCHIEF...|PL 1450502|         F|          S|            122|                0|    25-44|       M|               BLACK|    POINT (-74.106007...|\n",
            "| 232808103| 08/27/2021|  177|        SEXUAL ABUSE|  116|          SEX CRIMES|PL 1306503|         F|          K|             77|                0|    45-64|       M|      WHITE HISPANIC|    POINT (-73.930221...|\n",
            "| 234188814| 09/28/2021|  339|LARCENY,PETIT FRO...|  341|       PETIT LARCENY|PL 1552500|         M|          M|             14|                0|    45-64|       M|               BLACK|    POINT (-73.989544...|\n",
            "| 232398263| 08/18/2021|  268|  CRIMINAL MIS 2 & 3|  121|CRIMINAL MISCHIEF...|PL 1450502|         F|          S|            120|                0|    25-44|       M|               BLACK|    POINT (-74.077321...|\n",
            "| 233601147| 09/14/2021|   49|U.S. CODE UNCLASS...|  995|FOR OTHER AUTHORI...|FOA9000049|      null|          K|             75|                0|    25-44|       M|      BLACK HISPANIC|    POINT (-73.879988...|\n",
            "| 233523671| 09/14/2021|  729|FORGERY,ETC.,UNCL...|  113|             FORGERY|PL 1702500|         F|          Q|            103|                0|    25-44|       M|               BLACK|    POINT (-73.798974...|\n",
            "| 233779146| 09/19/2021|  339|LARCENY,PETIT FRO...|  341|       PETIT LARCENY|PL 1552500|         M|          M|             14|                0|    45-64|       M|      WHITE HISPANIC|    POINT (-73.989282...|\n",
            "| 233580709| 09/15/2021|  105|   STRANGULATION 1ST|  106|      FELONY ASSAULT|PL 1211300|         F|          K|             75|                2|    25-44|       M|      BLACK HISPANIC|    POINT (-73.885091...|\n",
            "| 233288096| 09/08/2021|  503|CONTROLLED SUBSTA...|  117|     DANGEROUS DRUGS|PL 2201601|         F|          K|             62|                0|    25-44|       M|               WHITE|    POINT (-73.996020...|\n",
            "| 232285812| 08/15/2021|  848|NY STATE LAWS,UNC...|  364|OTHER STATE LAWS ...|CPL5700600|         M|          Q|            113|                3|    45-64|       M|               BLACK|    POINT (-73.776233...|\n",
            "| 233108195| 09/03/2021|  848|NY STATE LAWS,UNC...|  364|OTHER STATE LAWS ...|CPL5700600|         M|          Q|            113|                3|    45-64|       M|AMERICAN INDIAN/A...|    POINT (-73.776233...|\n",
            "| 233720122| 09/17/2021|  244|BURGLARY,UNCLASSI...|  107|            BURGLARY|PL 1402000|         F|          M|             10|                0|    25-44|       M|      WHITE HISPANIC|    POINT (-73.998428...|\n",
            "| 232841251| 08/28/2021|  101|           ASSAULT 3|  344|ASSAULT 3 & RELAT...|PL 1200001|         M|          Q|            115|                0|    25-44|       F|      WHITE HISPANIC|    POINT (-73.870844...|\n",
            "| 232838509| 08/28/2021|  748|   CONTEMPT,CRIMINAL|  359|OFFENSES AGAINST ...|PL 2155003|         M|          Q|            104|                0|    45-64|       F|               BLACK|    POINT (-73.893470...|\n",
            "| 233099359| 09/03/2021|  782|WEAPONS, POSSESSI...|  236|   DANGEROUS WEAPONS|PL 2650101|         M|          Q|            113|                3|    45-64|       M|      WHITE HISPANIC|    POINT (-73.776233...|\n",
            "| 233194813| 09/06/2021|  109|ASSAULT 2,1,UNCLA...|  106|      FELONY ASSAULT|PL 1200502|         F|          M|             14|                0|    18-24|       M|                 NaN|    POINT (-73.986404...|\n",
            "| 233553416| 09/14/2021|  175|    SEXUAL ABUSE 3,2|  233|          SEX CRIMES|PL 13052A1|         M|          M|             14|                0|    45-64|       M|      WHITE HISPANIC|    POINT (-73.994843...|\n",
            "| 232981224| 09/01/2021|  779|PUBLIC ADMINISTRA...|  126|MISCELLANEOUS PEN...|PL 215510B|         F|          B|             44|                0|    25-44|       M|               BLACK|    POINT (-73.919457...|\n",
            "| 233017316| 09/01/2021|  439|LARCENY,GRAND FRO...|  109|       GRAND LARCENY|PL 1553004|         F|          Q|            113|                3|    45-64|       M|               BLACK|    POINT (-73.776233...|\n",
            "| 234027150| 09/24/2021|  779|PUBLIC ADMINISTRA...|  126|MISCELLANEOUS PEN...|PL 215510B|         F|          K|             79|                0|    25-44|       M|               BLACK|    POINT (-73.944987...|\n",
            "| 234199793| 09/29/2021|  259|CRIMINAL MISCHIEF...|  351|CRIMINAL MISCHIEF...|PL 1450001|         M|          S|            122|                0|    25-44|       M|               BLACK|    POINT (-74.106289...|\n",
            "| 233823067| 09/21/2021|  101|           ASSAULT 3|  344|ASSAULT 3 & RELAT...|PL 1200001|         M|          B|             46|                0|    25-44|       F|               BLACK|    POINT (-73.909899...|\n",
            "| 232324359| 08/16/2021|  101|           ASSAULT 3|  344|ASSAULT 3 & RELAT...|PL 1200001|         M|          K|             72|                0|    25-44|       M|      BLACK HISPANIC|    POINT (-74.017016...|\n",
            "| 233699184| 09/17/2021|  661|     LEWDNESS,PUBLIC|  361|OFF. AGNST PUB OR...|PL 2450301|         M|          K|             70|                0|      65+|       M|               WHITE|    POINT (-73.962516...|\n",
            "| 232124228| 08/12/2021|  759|PUBLIC ADMINISTAT...|  359|OFFENSES AGAINST ...|PL 1950500|         M|          B|             52|                0|    18-24|       M|               BLACK|    POINT (-73.912740...|\n",
            "| 233069831| 09/02/2021|  792|WEAPONS POSSESSIO...|  118|   DANGEROUS WEAPONS|PL 265031B|         F|          M|             32|                0|    25-44|       M|               BLACK|    POINT (-73.937529...|\n",
            "| 233847707| 09/21/2021|  969|TRAFFIC,UNCLASSIF...|  881|OTHER TRAFFIC INF...|VTL051101A|         M|          K|             88|                0|      65+|       M|               BLACK|    POINT (-73.960149...|\n",
            "| 232523517| 08/20/2021|  503|CONTROLLED SUBSTA...|  117|     DANGEROUS DRUGS|PL 2201603|         F|          M|             14|                0|    25-44|       M|               BLACK|    POINT (-73.989071...|\n",
            "| 232605749| 08/23/2021|  397|ROBBERY,OPEN AREA...|  105|             ROBBERY|PL 1601504|         F|          K|             67|                0|      <18|       M|      WHITE HISPANIC|    POINT (-73.950821...|\n",
            "| 232534103| 08/20/2021|  101|           ASSAULT 3|  344|ASSAULT 3 & RELAT...|PL 1200001|         M|          Q|            102|                0|    25-44|       M|      WHITE HISPANIC|    POINT (-73.858981...|\n",
            "| 233851051| 09/21/2021|  105|   STRANGULATION 1ST|  106|      FELONY ASSAULT|PL 1211300|         F|          K|             69|                0|    25-44|       M|               BLACK|    POINT (-73.906276...|\n",
            "| 233755499| 09/18/2021|  511|CONTROLLED SUBSTA...|  235|     DANGEROUS DRUGS|PL 2200300|         M|          M|              9|                0|    45-64|       M|               BLACK|    POINT (-73.980390...|\n",
            "| 233006202| 09/01/2021|  113|MENACING,UNCLASSI...|  344|ASSAULT 3 & RELAT...|PL 1201500|         M|          M|             33|                0|    25-44|       M|      BLACK HISPANIC|    POINT (-73.936239...|\n",
            "| 233424623| 09/12/2021|  639|AGGRAVATED HARASS...|  361|OFF. AGNST PUB OR...|PL 2403004|         M|          Q|            100|                0|    25-44|       M|      WHITE HISPANIC|    POINT (-73.799887...|\n",
            "| 233486076| 09/13/2021|  139| MURDER,UNCLASSIFIED|  101|MURDER & NON-NEGL...|PL 1252501|         F|          Q|            101|                0|      <18|       M|      BLACK HISPANIC|    POINT (-73.750083...|\n",
            "| 233235407| 09/07/2021|  511|CONTROLLED SUBSTA...|  235|     DANGEROUS DRUGS|PL 2200300|         M|          B|             52|                0|    45-64|       M|      WHITE HISPANIC|    POINT (-73.874448...|\n",
            "| 232733578| 08/25/2021|  922|TRAFFIC,UNCLASSIF...|  348|VEHICLE AND TRAFF...|VTL0511001|         M|          S|            123|                0|    18-24|       M|ASIAN / PACIFIC I...|    POINT (-74.247023...|\n",
            "| 232296862| 08/16/2021|  439|LARCENY,GRAND FRO...|  109|       GRAND LARCENY|PL 1553001|         F|          M|             14|                0|    25-44|       M|AMERICAN INDIAN/A...|    POINT (-73.994399...|\n",
            "| 232879759| 08/29/2021|  268|  CRIMINAL MIS 2 & 3|  121|CRIMINAL MISCHIEF...|PL 1450502|         F|          B|             49|                0|    25-44|       M|ASIAN / PACIFIC I...|    POINT (-73.843909...|\n",
            "| 232970494| 08/31/2021|  681|CHILD, ENDANGERIN...|  233|          SEX CRIMES|PL 2601001|         M|          K|             75|                0|    25-44|       M|      WHITE HISPANIC|    POINT (-73.881432...|\n",
            "| 234248849| 09/29/2021|  101|           ASSAULT 3|  344|ASSAULT 3 & RELAT...|PL 1200001|         M|          B|             40|                0|    45-64|       M|               BLACK|    POINT (-73.923973...|\n",
            "| 233584483| 09/15/2021|  508|DRUG PARAPHERNALI...|  235|     DANGEROUS DRUGS|PL 2205002|         M|          K|             94|                0|    18-24|       M|      WHITE HISPANIC|    POINT (-73.953116...|\n",
            "| 234245432| 09/29/2021|  439|LARCENY,GRAND FRO...|  109|       GRAND LARCENY|PL 1553001|         F|          M|             20|                0|    25-44|       F|               BLACK|    POINT (-73.977759...|\n",
            "| 233099358| 09/03/2021|  268|  CRIMINAL MIS 2 & 3|  121|CRIMINAL MISCHIEF...|PL 1450502|         F|          M|              1|                0|    25-44|       M|      WHITE HISPANIC|    POINT (-74.004542...|\n",
            "| 233512691| 09/14/2021|  113|MENACING,UNCLASSI...|  344|ASSAULT 3 & RELAT...|PL 1201401|         M|          Q|            111|                0|    25-44|       M|      WHITE HISPANIC|    POINT (-73.767423...|\n",
            "| 232196535| 08/13/2021|  779|PUBLIC ADMINISTRA...|  126|MISCELLANEOUS PEN...|PL 215510B|         F|          M|             19|                0|    25-44|       M|      WHITE HISPANIC|    POINT (-73.963731...|\n",
            "| 234315804| 09/30/2021|  258|CRIMINAL MISCHIEF...|  351|CRIMINAL MISCHIEF...|PL 1456002|         M|          M|              6|                0|    18-24|       M|               BLACK|    POINT (-74.000845...|\n",
            "| 233145441| 09/05/2021|  101|           ASSAULT 3|  344|ASSAULT 3 & RELAT...|PL 1200001|         M|          M|              5|                0|    25-44|       M|      WHITE HISPANIC|    POINT (-73.991985...|\n",
            "| 232272179| 08/15/2021|  339|LARCENY,PETIT FRO...|  341|       PETIT LARCENY|PL 1552500|         M|          M|             25|                0|    45-64|       M|               BLACK|    POINT (-73.939286...|\n",
            "| 232946541| 08/31/2021|  639|AGGRAVATED HARASS...|  361|OFF. AGNST PUB OR...|PL 2403002|         M|          M|             30|                0|    18-24|       M|      WHITE HISPANIC|    POINT (-73.943989...|\n",
            "| 232529240| 08/20/2021|  793|WEAPONS POSSESSION 3|  118|   DANGEROUS WEAPONS|PL 2650201|         F|          K|             68|                0|    18-24|       M|      BLACK HISPANIC|    POINT (-74.007779...|\n",
            "| 233510222| 09/14/2021|  779|PUBLIC ADMINISTRA...|  126|MISCELLANEOUS PEN...|PL 215510B|         F|          Q|            112|                0|    25-44|       F|               WHITE|    POINT (-73.851116...|\n",
            "| 232592125| 08/23/2021|  681|CHILD, ENDANGERIN...|  233|          SEX CRIMES|PL 2601001|         M|          M|             26|                0|    25-44|       M|               BLACK|    POINT (-73.956681...|\n",
            "| 233362188| 09/10/2021|  291|     CONSPIRACY 4, 3|  126|MISCELLANEOUS PEN...|PL 1051000|         F|          M|             30|                0|    18-24|       M|      BLACK HISPANIC|    POINT (-73.956360...|\n",
            "| 233968236| 09/23/2021|  339|LARCENY,PETIT FRO...|  341|       PETIT LARCENY|PL 1552500|         M|          M|             14|                0|    45-64|       M|               BLACK|    POINT (-73.989282...|\n",
            "| 232746525| 08/26/2021|  105|   STRANGULATION 1ST|  106|      FELONY ASSAULT|PL 1211200|         F|          K|             77|                0|    25-44|       M|      WHITE HISPANIC|    POINT (-73.958285...|\n",
            "| 232419234| 08/18/2021|  117|RECKLESS ENDANGER...|  126|MISCELLANEOUS PEN...|PL 1202500|         F|          K|             83|                2|    25-44|       M|      WHITE HISPANIC|    POINT (-73.932417...|\n",
            "| 233410662| 09/11/2021|  515|CONTROLLED SUBSTA...|  117|     DANGEROUS DRUGS|PL 2203901|         F|          M|             14|                0|    25-44|       M|               BLACK|    POINT (-73.989071...|\n",
            "| 233685623| 09/17/2021|  105|   STRANGULATION 1ST|  106|      FELONY ASSAULT|PL 1211200|         F|          M|             23|                2|    25-44|       M|      WHITE HISPANIC|    POINT (-73.949751...|\n",
            "| 233695026| 09/17/2021|  848|NY STATE LAWS,UNC...|  364|OTHER STATE LAWS ...|CPL5700600|         M|          B|             44|                0|    18-24|       M|      WHITE HISPANIC|    POINT (-73.920707...|\n",
            "| 232496771| 08/20/2021|  258|CRIMINAL MISCHIEF...|  351|CRIMINAL MISCHIEF...|PL 1456002|         M|          K|             83|                1|    25-44|       M|      WHITE HISPANIC|    POINT (-73.935225...|\n",
            "| 232488192| 08/19/2021|   49|U.S. CODE UNCLASS...|  995|FOR OTHER AUTHORI...|FOA9000049|      null|          Q|            113|                0|    25-44|       M|               BLACK|    POINT (-73.801837...|\n",
            "| 234127388| 09/27/2021|  101|           ASSAULT 3|  344|ASSAULT 3 & RELAT...|PL 1200001|         M|          M|             14|                0|      65+|       M|               WHITE|    POINT (-73.991040...|\n",
            "| 232299619| 08/16/2021|  639|AGGRAVATED HARASS...|  361|OFF. AGNST PUB OR...|PL 2403005|         M|          B|             40|                2|    45-64|       F|      BLACK HISPANIC|    POINT (-73.915757...|\n",
            "| 232950206| 08/31/2021|  109|ASSAULT 2,1,UNCLA...|  106|      FELONY ASSAULT|PL 1200600|         F|          B|             52|                0|    18-24|       M|      WHITE HISPANIC|    POINT (-73.879998...|\n",
            "| 234117051| 09/27/2021|  105|   STRANGULATION 1ST|  106|      FELONY ASSAULT|PL 1211200|         F|          K|             88|                0|    25-44|       M|               BLACK|    POINT (-73.960149...|\n",
            "| 233771779| 09/19/2021|  105|   STRANGULATION 1ST|  106|      FELONY ASSAULT|PL 1211200|         F|          Q|            114|                0|    18-24|       M|      WHITE HISPANIC|    POINT (-73.915651...|\n",
            "| 233191260| 09/06/2021|  779|PUBLIC ADMINISTRA...|  126|MISCELLANEOUS PEN...|PL 215510B|         F|          B|             44|                0|    25-44|       M|      BLACK HISPANIC|    POINT (-73.920707...|\n",
            "| 233553790| 09/14/2021|  114| OBSTR BREATH/CIRCUL|  344|ASSAULT 3 & RELAT...|PL 1211100|         M|          B|             48|                0|    18-24|       M|      WHITE HISPANIC|    POINT (-73.888912...|\n",
            "| 232676332| 08/24/2021|  113|MENACING,UNCLASSI...|  344|ASSAULT 3 & RELAT...|PL 1201401|         M|          M|             10|                0|    25-44|       M|ASIAN / PACIFIC I...|    POINT (-73.998428...|\n",
            "| 233145036| 09/04/2021|  792|WEAPONS POSSESSIO...|  118|   DANGEROUS WEAPONS|PL 2650303|         F|          Q|            102|                0|    18-24|       M|      WHITE HISPANIC|    POINT (-73.831854...|\n",
            "| 232763915| 08/26/2021|  511|CONTROLLED SUBSTA...|  235|     DANGEROUS DRUGS|PL 2200300|         M|          Q|            114|                0|    45-64|       F|               BLACK|    POINT (-73.942823...|\n",
            "| 232215832| 08/13/2021|  510|CONTROLLED SUBSTA...|  117|     DANGEROUS DRUGS|PL 2200601|         F|          M|             26|                2|    25-44|       M|      WHITE HISPANIC|    POINT (-73.960512...|\n",
            "| 233439767| 09/12/2021|  101|           ASSAULT 3|  344|ASSAULT 3 & RELAT...|PL 1200001|         M|          K|             60|                0|    25-44|       M|               BLACK|    POINT (-73.993702...|\n",
            "| 232776121| 08/26/2021|  339|LARCENY,PETIT FRO...|  341|       PETIT LARCENY|PL 1552500|         M|          Q|            112|                0|    25-44|       F|               BLACK|    POINT (-73.855257...|\n",
            "| 233185263| 09/06/2021|  113|MENACING,UNCLASSI...|  344|ASSAULT 3 & RELAT...|PL 1201401|         M|          Q|            101|                0|    25-44|       F|               BLACK|    POINT (-73.773241...|\n",
            "| 233975202| 09/23/2021|  705|  FORGERY,ETC.-MISD.|  358|OFFENSES INVOLVIN...|PL 1702000|         M|          Q|            103|                0|    18-24|       F|               BLACK|    POINT (-73.784850...|\n",
            "| 232722852| 08/25/2021|  466|ACCOSTING,FRAUDULENT|  238|FRAUDULENT ACCOSTING|PL 1653001|         M|          B|             40|                0|    25-44|       M|      WHITE HISPANIC|    POINT (-73.927738...|\n",
            "| 233183438| 09/06/2021|  905|INTOXICATED DRIVI...|  347|INTOXICATED & IMP...|VTL11920U2|         M|          Q|            113|                0|    45-64|       M|               BLACK|    POINT (-73.773566...|\n",
            "| 233650745| 09/16/2021|  511|CONTROLLED SUBSTA...|  235|     DANGEROUS DRUGS|PL 2200300|         M|          B|             40|                0|    25-44|       M|      BLACK HISPANIC|    POINT (-73.910241...|\n",
            "| 233451738| 09/12/2021|  109|ASSAULT 2,1,UNCLA...|  106|      FELONY ASSAULT|PL 120054A|         F|          B|             47|                0|    25-44|       F|               BLACK|    POINT (-73.850401...|\n",
            "| 232719679| 08/25/2021|  109|ASSAULT 2,1,UNCLA...|  106|      FELONY ASSAULT|PL 1200502|         F|          K|             79|                2|    18-24|       F|      WHITE HISPANIC|    POINT (-73.940772...|\n",
            "| 233925762| 09/22/2021|  397|ROBBERY,OPEN AREA...|  105|             ROBBERY|PL 1601001|         F|          Q|            103|                0|      <18|       M|      WHITE HISPANIC|    POINT (-73.782556...|\n",
            "+----------+-----------+-----+--------------------+-----+--------------------+----------+----------+-----------+---------------+-----------------+---------+--------+--------------------+------------------------+\n",
            "only showing top 100 rows\n",
            "\n"
          ]
        }
      ],
      "source": [
        "df.show(100)"
      ]
    },
    {
      "cell_type": "code",
      "execution_count": null,
      "metadata": {
        "id": "r-IkJsOz2b5V",
        "colab": {
          "base_uri": "https://localhost:8080/"
        },
        "outputId": "8158b342-7cb1-411a-c2d1-13913d7e875f"
      },
      "outputs": [
        {
          "output_type": "stream",
          "name": "stdout",
          "text": [
            "+--------------------+\n",
            "|           PERP_RACE|\n",
            "+--------------------+\n",
            "|               WHITE|\n",
            "|               BLACK|\n",
            "|AMERICAN INDIAN/A...|\n",
            "|      BLACK HISPANIC|\n",
            "|      WHITE HISPANIC|\n",
            "|                 NaN|\n",
            "|ASIAN / PACIFIC I...|\n",
            "+--------------------+\n",
            "\n"
          ]
        }
      ],
      "source": [
        "df.select('PERP_RACE').distinct().show()"
      ]
    },
    {
      "cell_type": "markdown",
      "metadata": {
        "id": "9BlHN7RN20P1"
      },
      "source": [
        "### Checks for Perpretrator Sex"
      ]
    },
    {
      "cell_type": "code",
      "execution_count": null,
      "metadata": {
        "id": "zsjPnhTAGxNj",
        "colab": {
          "base_uri": "https://localhost:8080/"
        },
        "outputId": "1eaa3c58-d51b-4fec-f72a-bcffdceebdea"
      },
      "outputs": [
        {
          "output_type": "stream",
          "name": "stdout",
          "text": [
            "+--------+\n",
            "|PERP_SEX|\n",
            "+--------+\n",
            "|       F|\n",
            "|       M|\n",
            "+--------+\n",
            "\n"
          ]
        }
      ],
      "source": [
        "df.select('PERP_SEX').distinct().show()"
      ]
    },
    {
      "cell_type": "markdown",
      "metadata": {
        "id": "GZBTi4BWTtiO"
      },
      "source": [
        "#### Checking values in suspect sex"
      ]
    },
    {
      "cell_type": "code",
      "execution_count": null,
      "metadata": {
        "id": "kTb_dCZlDlHN",
        "colab": {
          "base_uri": "https://localhost:8080/"
        },
        "outputId": "d9ecd69c-194c-46da-9e4f-a8fb8a5e3026"
      },
      "outputs": [
        {
          "output_type": "stream",
          "name": "stdout",
          "text": [
            "+--------+-----+\n",
            "|PERP_SEX|count|\n",
            "+--------+-----+\n",
            "|       M|95849|\n",
            "|       F|19450|\n",
            "+--------+-----+\n",
            "\n"
          ]
        }
      ],
      "source": [
        "df.groupBy('PERP_SEX').count().orderBy('count', ascending=False).show()"
      ]
    },
    {
      "cell_type": "markdown",
      "metadata": {
        "id": "u50lhakET780"
      },
      "source": [
        "#### Get unique values of offense description in sorted order"
      ]
    },
    {
      "cell_type": "code",
      "execution_count": null,
      "metadata": {
        "id": "P22KLvXgf5qs",
        "colab": {
          "base_uri": "https://localhost:8080/"
        },
        "outputId": "37983ecf-35c5-41b1-be42-739ee4c8bf4b"
      },
      "outputs": [
        {
          "output_type": "stream",
          "name": "stdout",
          "text": [
            "+--------------------+\n",
            "|           OFNS_DESC|\n",
            "+--------------------+\n",
            "|                null|\n",
            "| ADMINISTRATIVE CODE|\n",
            "|ADMINISTRATIVE CODES|\n",
            "|AGRICULTURE & MRK...|\n",
            "|ALCOHOLIC BEVERAG...|\n",
            "|ANTICIPATORY OFFE...|\n",
            "|               ARSON|\n",
            "|ASSAULT 3 & RELAT...|\n",
            "|     BURGLAR'S TOOLS|\n",
            "|            BURGLARY|\n",
            "|CHILD ABANDONMENT...|\n",
            "|CRIMINAL MISCHIEF...|\n",
            "|   CRIMINAL TRESPASS|\n",
            "|     DANGEROUS DRUGS|\n",
            "|   DANGEROUS WEAPONS|\n",
            "|  DISORDERLY CONDUCT|\n",
            "|ENDAN WELFARE INCOMP|\n",
            "|            ESCAPE 3|\n",
            "|      FELONY ASSAULT|\n",
            "|   FELONY SEX CRIMES|\n",
            "+--------------------+\n",
            "only showing top 20 rows\n",
            "\n"
          ]
        }
      ],
      "source": [
        "df.select('OFNS_DESC').distinct().orderBy('OFNS_DESC', ascending=True).show()"
      ]
    },
    {
      "cell_type": "markdown",
      "metadata": {
        "id": "oXST8FTeUGgZ"
      },
      "source": [
        "#### Getting Total Count of Offense Description"
      ]
    },
    {
      "cell_type": "code",
      "execution_count": null,
      "metadata": {
        "id": "S7qj-jmIMCWL",
        "colab": {
          "base_uri": "https://localhost:8080/"
        },
        "outputId": "6810a7bd-8683-4480-ff64-cc0e9036206c"
      },
      "outputs": [
        {
          "output_type": "execute_result",
          "data": {
            "text/plain": [
              "64"
            ]
          },
          "metadata": {},
          "execution_count": 45
        }
      ],
      "source": [
        "df.select('OFNS_DESC').distinct().count()"
      ]
    },
    {
      "cell_type": "code",
      "execution_count": null,
      "metadata": {
        "id": "feQGTHyyqflL",
        "colab": {
          "base_uri": "https://localhost:8080/"
        },
        "outputId": "62ae1cdb-249b-47d7-8789-1c96b953c2e4"
      },
      "outputs": [
        {
          "output_type": "stream",
          "name": "stdout",
          "text": [
            "+--------------------+-----+\n",
            "|           OFNS_DESC|count|\n",
            "+--------------------+-----+\n",
            "|OTHER TRAFFIC INF...| 1209|\n",
            "|ANTICIPATORY OFFE...|   56|\n",
            "|   FELONY SEX CRIMES|    2|\n",
            "|OTHER OFFENSES RE...|  971|\n",
            "|VEHICLE AND TRAFF...| 3995|\n",
            "|KIDNAPPING & RELA...|   62|\n",
            "|HOMICIDE-NEGLIGEN...|    6|\n",
            "|OFF. AGNST PUB OR...| 2548|\n",
            "|      FELONY ASSAULT|11472|\n",
            "|ALCOHOLIC BEVERAG...|  279|\n",
            "|OFFENSES RELATED ...|    7|\n",
            "|CRIMINAL MISCHIEF...| 7007|\n",
            "|         THEFT-FRAUD|  149|\n",
            "|   THEFT OF SERVICES|  137|\n",
            "|MURDER & NON-NEGL...| 1157|\n",
            "|            JOSTLING|    4|\n",
            "|MISCELLANEOUS PEN...| 7629|\n",
            "|LOITERING/GAMBLIN...|    4|\n",
            "|               ARSON|   86|\n",
            "|OFFENSES AGAINST ...|  737|\n",
            "+--------------------+-----+\n",
            "only showing top 20 rows\n",
            "\n"
          ]
        }
      ],
      "source": [
        "df.groupBy('OFNS_DESC').count().show()"
      ]
    },
    {
      "cell_type": "markdown",
      "metadata": {
        "id": "a_22p8gNUWwK"
      },
      "source": [
        "**Map Key Codes with Offense Description**"
      ]
    },
    {
      "cell_type": "code",
      "execution_count": null,
      "metadata": {
        "id": "F43lcNe1jCIP",
        "colab": {
          "base_uri": "https://localhost:8080/"
        },
        "outputId": "9453a3a6-13ad-48c0-fe3a-ec08cd2e3274"
      },
      "outputs": [
        {
          "output_type": "stream",
          "name": "stdout",
          "text": [
            "+-----+--------------------+\n",
            "|KY_CD|          OFNS_DESCS|\n",
            "+-----+--------------------+\n",
            "| null|                  []|\n",
            "|  101|[MURDER & NON-NEG...|\n",
            "|  102|[HOMICIDE-NEGLIGE...|\n",
            "|  103|[HOMICIDE-NEGLIGE...|\n",
            "|  104|              [RAPE]|\n",
            "|  105|           [ROBBERY]|\n",
            "|  106|    [FELONY ASSAULT]|\n",
            "|  107|          [BURGLARY]|\n",
            "|  109|     [GRAND LARCENY]|\n",
            "|  110|[GRAND LARCENY OF...|\n",
            "|  111|[POSSESSION OF ST...|\n",
            "|  112|       [THEFT-FRAUD]|\n",
            "|  113|           [FORGERY]|\n",
            "|  114|             [ARSON]|\n",
            "|  115|[PROSTITUTION & R...|\n",
            "|  116|[SEX CRIMES, FELO...|\n",
            "|  117|   [DANGEROUS DRUGS]|\n",
            "|  118| [DANGEROUS WEAPONS]|\n",
            "|  119|[INTOXICATED/IMPA...|\n",
            "|  120|[ENDAN WELFARE IN...|\n",
            "+-----+--------------------+\n",
            "only showing top 20 rows\n",
            "\n"
          ]
        }
      ],
      "source": [
        "key_off_mapping = df.groupBy('KY_CD').agg(collect_set('OFNS_DESC').alias('OFNS_DESCS')).orderBy('KY_CD')\n",
        "key_off_mapping.show()"
      ]
    },
    {
      "cell_type": "code",
      "execution_count": null,
      "metadata": {
        "id": "T-uGRES6yApb",
        "colab": {
          "base_uri": "https://localhost:8080/"
        },
        "outputId": "799d3c15-0833-4014-c46e-af84b94a5f36"
      },
      "outputs": [
        {
          "output_type": "execute_result",
          "data": {
            "text/plain": [
              "67"
            ]
          },
          "metadata": {},
          "execution_count": 48
        }
      ],
      "source": [
        "key_off_mapping.count()"
      ]
    },
    {
      "cell_type": "code",
      "execution_count": null,
      "metadata": {
        "id": "_iGrOfh5C-bd",
        "colab": {
          "base_uri": "https://localhost:8080/"
        },
        "outputId": "7d8cd5d6-6908-4ed2-b127-b4305a2585fb"
      },
      "outputs": [
        {
          "output_type": "execute_result",
          "data": {
            "text/plain": [
              "67"
            ]
          },
          "metadata": {},
          "execution_count": 49
        }
      ],
      "source": [
        "df.select('KY_CD').distinct().count()"
      ]
    },
    {
      "cell_type": "markdown",
      "metadata": {
        "id": "o7CvGBj3D0z4"
      },
      "source": [
        "#### Each key code represents a particular offense description. There is a one to one mapping. So we would use key code for future analysis instead of offense description."
      ]
    },
    {
      "cell_type": "markdown",
      "metadata": {
        "id": "fZ74ExfCRC4g"
      },
      "source": [
        "#### Calculating the null values present in the data columnwise (with respect to the features)"
      ]
    },
    {
      "cell_type": "code",
      "execution_count": null,
      "metadata": {
        "id": "eNTgn7bW-X-t",
        "colab": {
          "base_uri": "https://localhost:8080/"
        },
        "outputId": "ecc26c4c-37cb-43f1-d84f-decfa3fe610f"
      },
      "outputs": [
        {
          "output_type": "stream",
          "name": "stdout",
          "text": [
            "+----------+-----------+-----+-------+-----+---------+--------+----------+-----------+---------------+-----------------+---------+--------+---------+------------------------+\n",
            "|ARREST_KEY|ARREST_DATE|PD_CD|PD_DESC|KY_CD|OFNS_DESC|LAW_CODE|LAW_CAT_CD|ARREST_BORO|ARREST_PRECINCT|JURISDICTION_CODE|AGE_GROUP|PERP_SEX|PERP_RACE|New Georeferenced Column|\n",
            "+----------+-----------+-----+-------+-----+---------+--------+----------+-----------+---------------+-----------------+---------+--------+---------+------------------------+\n",
            "|         0|          0|   21|     61|   61|       61|       0|      1078|          0|              0|                0|        0|       0|      431|                       0|\n",
            "+----------+-----------+-----+-------+-----+---------+--------+----------+-----------+---------------+-----------------+---------+--------+---------+------------------------+\n",
            "\n"
          ]
        }
      ],
      "source": [
        "df.select([count(when(isnan(c) | col(c).isNull(), c)).alias(c) for c in df.columns]).show()"
      ]
    },
    {
      "cell_type": "code",
      "execution_count": null,
      "metadata": {
        "id": "MgV4_9FW-a1j",
        "colab": {
          "base_uri": "https://localhost:8080/"
        },
        "outputId": "f9e78ff7-4780-4dcf-dfb4-d46267c2f1af"
      },
      "outputs": [
        {
          "output_type": "stream",
          "name": "stdout",
          "text": [
            "+----------+-----------+--------------------+--------------------+--------------------+--------------------+--------+-------------------+-----------+---------------+-----------------+---------+--------+--------------------+------------------------+\n",
            "|ARREST_KEY|ARREST_DATE|               PD_CD|             PD_DESC|               KY_CD|           OFNS_DESC|LAW_CODE|         LAW_CAT_CD|ARREST_BORO|ARREST_PRECINCT|JURISDICTION_CODE|AGE_GROUP|PERP_SEX|           PERP_RACE|New Georeferenced Column|\n",
            "+----------+-----------+--------------------+--------------------+--------------------+--------------------+--------+-------------------+-----------+---------------+-----------------+---------+--------+--------------------+------------------------+\n",
            "|       0.0|        0.0|1.821351442770535...|5.290592286142985E-4|5.290592286142985E-4|5.290592286142985E-4|     0.0|0.00934960407288875|        0.0|            0.0|              0.0|      0.0|     0.0|0.003738107008733...|                     0.0|\n",
            "+----------+-----------+--------------------+--------------------+--------------------+--------------------+--------+-------------------+-----------+---------------+-----------------+---------+--------+--------------------+------------------------+\n",
            "\n"
          ]
        }
      ],
      "source": [
        "amount_missing_df = df.select([(count(when(isnan(c) | col(c).isNull(), c))/count(lit(1))).alias(c) for c in df.columns])\n",
        "amount_missing_df.show()"
      ]
    },
    {
      "cell_type": "markdown",
      "metadata": {
        "id": "5HQvMmXgJSy0"
      },
      "source": [
        "#### Thus, we can see that the percentage of null values per variable has gone considerably down after cleaning. Some variables like 'PARKS_NM', 'HADEVELOPT' and such can have null values as established above. "
      ]
    },
    {
      "cell_type": "markdown",
      "metadata": {
        "id": "FI1pGd8s16sd"
      },
      "source": [
        "### Number of columns in Clean Data"
      ]
    },
    {
      "cell_type": "code",
      "execution_count": null,
      "metadata": {
        "id": "rcI9kIjcrRSh",
        "colab": {
          "base_uri": "https://localhost:8080/"
        },
        "outputId": "7de5c9ee-32d2-4344-c2eb-1ca6d4f7ae8c"
      },
      "outputs": [
        {
          "output_type": "execute_result",
          "data": {
            "text/plain": [
              "15"
            ]
          },
          "metadata": {},
          "execution_count": 52
        }
      ],
      "source": [
        "len(df.columns)"
      ]
    },
    {
      "cell_type": "markdown",
      "metadata": {
        "id": "9htIvQ_X10Op"
      },
      "source": [
        "### Number of rows in Clean Data"
      ]
    },
    {
      "cell_type": "code",
      "execution_count": null,
      "metadata": {
        "id": "g-P3OKE21ubz",
        "colab": {
          "base_uri": "https://localhost:8080/"
        },
        "outputId": "a8def0a2-6fef-4b31-bffe-9c97c5c6b61f"
      },
      "outputs": [
        {
          "output_type": "execute_result",
          "data": {
            "text/plain": [
              "115299"
            ]
          },
          "metadata": {},
          "execution_count": 53
        }
      ],
      "source": [
        "df.count()"
      ]
    },
    {
      "cell_type": "code",
      "execution_count": null,
      "metadata": {
        "id": "W2RVtvNr38c_",
        "colab": {
          "base_uri": "https://localhost:8080/"
        },
        "outputId": "f870a7d5-4e7f-492c-bd44-eb362ddf1922"
      },
      "outputs": [
        {
          "output_type": "stream",
          "name": "stdout",
          "text": [
            "root\n",
            " |-- ARREST_KEY: integer (nullable = true)\n",
            " |-- ARREST_DATE: string (nullable = true)\n",
            " |-- PD_CD: integer (nullable = true)\n",
            " |-- PD_DESC: string (nullable = true)\n",
            " |-- KY_CD: integer (nullable = true)\n",
            " |-- OFNS_DESC: string (nullable = true)\n",
            " |-- LAW_CODE: string (nullable = true)\n",
            " |-- LAW_CAT_CD: string (nullable = true)\n",
            " |-- ARREST_BORO: string (nullable = true)\n",
            " |-- ARREST_PRECINCT: integer (nullable = true)\n",
            " |-- JURISDICTION_CODE: integer (nullable = true)\n",
            " |-- AGE_GROUP: string (nullable = true)\n",
            " |-- PERP_SEX: string (nullable = true)\n",
            " |-- PERP_RACE: string (nullable = true)\n",
            " |-- New Georeferenced Column: string (nullable = true)\n",
            "\n"
          ]
        }
      ],
      "source": [
        "df.printSchema()"
      ]
    },
    {
      "cell_type": "markdown",
      "metadata": {
        "id": "JLIpnxgHVAfM"
      },
      "source": [
        "### **Exporting Clean Data in CSV**\n",
        "\n",
        "The Cleaned Data Set will be saved as `NYPD_Complaint_Data_Historic_Cleaned.csv`"
      ]
    },
    {
      "cell_type": "code",
      "execution_count": null,
      "metadata": {
        "id": "pNEBquVPrUtx"
      },
      "outputs": [],
      "source": [
        "pd_df = df.toPandas()\n",
        "pd_df.to_csv(\"NYPD_Arrest_Data_Year_to_Date_Cleaned_Spark.csv\")"
      ]
    }
  ],
  "metadata": {
    "colab": {
      "collapsed_sections": [],
      "name": "Spark - NYPD Arrest Data (Year to Date).ipynb",
      "provenance": [],
      "include_colab_link": true
    },
    "kernelspec": {
      "display_name": "Python 3",
      "name": "python3"
    },
    "language_info": {
      "name": "python"
    }
  },
  "nbformat": 4,
  "nbformat_minor": 0
}