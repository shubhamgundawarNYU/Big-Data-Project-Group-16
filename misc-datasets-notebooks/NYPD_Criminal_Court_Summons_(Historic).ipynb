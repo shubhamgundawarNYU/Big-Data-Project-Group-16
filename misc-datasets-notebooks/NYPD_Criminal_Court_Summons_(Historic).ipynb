{
  "cells": [
    {
      "cell_type": "markdown",
      "metadata": {
        "id": "view-in-github",
        "colab_type": "text"
      },
      "source": [
        "<a href=\"https://colab.research.google.com/github/shubhamgundawarNYU/Big-Data-Project-Group-16/blob/main/misc-datasets-notebooks/NYPD_Criminal_Court_Summons_(Historic).ipynb\" target=\"_parent\"><img src=\"https://colab.research.google.com/assets/colab-badge.svg\" alt=\"Open In Colab\"/></a>"
      ]
    },
    {
      "cell_type": "markdown",
      "metadata": {
        "id": "7-dJg3ZWVPHJ"
      },
      "source": [
        "##**BIG DATA PROJECT**\n",
        "\n",
        "### NYPD Criminal Court Summons (Historic) \n",
        "Link to Dataset (https://data.cityofnewyork.us/Public-Safety/NYPD-Criminal-Court-Summons-Historic-/sv2w-rv3k)\n",
        "\n",
        "### DATA CLEANING AT SCALE"
      ]
    },
    {
      "cell_type": "markdown",
      "metadata": {
        "id": "dZWscsxWG6BD"
      },
      "source": [
        "#### Mounting Google Drive to Google Collab Notebook to Load the Data Set\n",
        "\n",
        "Make sure you have the dataset in your Google Drive and you mount your drive to the Colab.\n",
        "\n",
        "The file should be at the following path: `gdrive/My Drive/NYPD_Complaint_Data_Historic.csv`\n"
      ]
    },
    {
      "cell_type": "code",
      "execution_count": null,
      "metadata": {
        "colab": {
          "base_uri": "https://localhost:8080/"
        },
        "id": "wSt7ZZI_zSt2",
        "outputId": "5168bad7-371c-40cb-d048-80a2ae6a36ea"
      },
      "outputs": [
        {
          "output_type": "stream",
          "name": "stdout",
          "text": [
            "Mounted at /content/gdrive\n"
          ]
        }
      ],
      "source": [
        "from google.colab import drive \n",
        "drive.mount('/content/gdrive')"
      ]
    },
    {
      "cell_type": "markdown",
      "metadata": {
        "id": "5XTa8wVQHjVm"
      },
      "source": [
        "#### Importing required and Necessary Libraries for cleaning the data present in the data set"
      ]
    },
    {
      "cell_type": "code",
      "execution_count": null,
      "metadata": {
        "id": "IglUIuU9ntFm"
      },
      "outputs": [],
      "source": [
        "import numpy as np\n",
        "import pandas as pd\n",
        "import io"
      ]
    },
    {
      "cell_type": "code",
      "execution_count": null,
      "metadata": {
        "colab": {
          "base_uri": "https://localhost:8080/"
        },
        "id": "a6CbM0l_UnFq",
        "outputId": "cf70b266-69f7-45b7-8f1f-4360229fbd4f"
      },
      "outputs": [
        {
          "output_type": "stream",
          "name": "stdout",
          "text": [
            "Collecting pyspark\n",
            "  Downloading pyspark-3.2.0.tar.gz (281.3 MB)\n",
            "\u001b[K     |████████████████████████████████| 281.3 MB 32 kB/s \n",
            "\u001b[?25hCollecting py4j==0.10.9.2\n",
            "  Downloading py4j-0.10.9.2-py2.py3-none-any.whl (198 kB)\n",
            "\u001b[K     |████████████████████████████████| 198 kB 49.9 MB/s \n",
            "\u001b[?25hBuilding wheels for collected packages: pyspark\n",
            "  Building wheel for pyspark (setup.py) ... \u001b[?25l\u001b[?25hdone\n",
            "  Created wheel for pyspark: filename=pyspark-3.2.0-py2.py3-none-any.whl size=281805912 sha256=8cd5e0bd0694e717d2ac34e8cfdee16fcab44dcc7c1d17152d323ad6e550505d\n",
            "  Stored in directory: /root/.cache/pip/wheels/0b/de/d2/9be5d59d7331c6c2a7c1b6d1a4f463ce107332b1ecd4e80718\n",
            "Successfully built pyspark\n",
            "Installing collected packages: py4j, pyspark\n",
            "Successfully installed py4j-0.10.9.2 pyspark-3.2.0\n"
          ]
        }
      ],
      "source": [
        "!pip install pyspark"
      ]
    },
    {
      "cell_type": "markdown",
      "metadata": {
        "id": "sq8U3BtmhtRx"
      },
      "source": [
        "\n",
        "# **Running Pyspark in Colab**\n",
        "\n",
        "To run spark in Colab, we need to first install all the dependencies in Colab environment i.e. Apache Spark 2.3.2 with hadoop 2.7, Java 8 and Findspark to locate the spark in the system. The tools installation can be carried out inside the Jupyter Notebook of the Colab. One important note is that if you are new in Spark, it is better to avoid Spark 2.4.0 version since some people have already complained about its compatibility issue with python. \n",
        "Follow the steps to install the dependencies:"
      ]
    },
    {
      "cell_type": "code",
      "execution_count": null,
      "metadata": {
        "id": "lh5NCoc8fsSO"
      },
      "outputs": [],
      "source": [
        "!apt-get install openjdk-8-jdk-headless -qq > /dev/null\n",
        "!wget -q https://dlcdn.apache.org/spark/spark-3.2.0/spark-3.2.0-bin-hadoop3.2.tgz\n",
        "!tar xf spark-3.2.0-bin-hadoop3.2.tgz\n",
        "!pip install -q findspark"
      ]
    },
    {
      "cell_type": "markdown",
      "metadata": {
        "id": "ILheUROOhprv"
      },
      "source": [
        "Now that you installed Spark and Java in Colab, it is time to set the environment path which enables you to run Pyspark in your Colab environment. Set the location of Java and Spark by running the following code:"
      ]
    },
    {
      "cell_type": "code",
      "execution_count": null,
      "metadata": {
        "id": "v1b8k_OVf2QF"
      },
      "outputs": [],
      "source": [
        "import os\n",
        "os.environ[\"JAVA_HOME\"] = \"/usr/lib/jvm/java-8-openjdk-amd64\"\n",
        "os.environ[\"SPARK_HOME\"] = \"/content/spark-3.2.0-bin-hadoop3.2\""
      ]
    },
    {
      "cell_type": "markdown",
      "metadata": {
        "id": "KwrqMk3HiMiE"
      },
      "source": [
        "Run a local spark session to test your installation:"
      ]
    },
    {
      "cell_type": "code",
      "execution_count": null,
      "metadata": {
        "id": "9_Uz1NL4gHFx"
      },
      "outputs": [],
      "source": [
        "import findspark\n",
        "findspark.init()\n",
        "from pyspark.sql import SparkSession\n",
        "from pyspark.sql.functions import *\n",
        "from pyspark.sql.types import *\n",
        "spark = SparkSession.builder.getOrCreate()"
      ]
    },
    {
      "cell_type": "markdown",
      "metadata": {
        "id": "Z1n1HPiEIOXF"
      },
      "source": [
        "#### Reading the Data Set CSV File using `spark.read.csv()` Function"
      ]
    },
    {
      "cell_type": "code",
      "execution_count": null,
      "metadata": {
        "id": "NNL-wR74W52g"
      },
      "outputs": [],
      "source": [
        "df = spark.read.csv(\"/content/gdrive/MyDrive/Big Data/NYPD_Criminal_Court_Summons__Historic_.csv\", inferSchema=True, header =True)"
      ]
    },
    {
      "cell_type": "code",
      "execution_count": null,
      "metadata": {
        "colab": {
          "base_uri": "https://localhost:8080/"
        },
        "id": "IMecwoTS6upe",
        "outputId": "985bf3db-efbb-496a-db4e-65c8e61f0a47"
      },
      "outputs": [
        {
          "output_type": "execute_result",
          "data": {
            "text/plain": [
              "5336264"
            ]
          },
          "metadata": {},
          "execution_count": 8
        }
      ],
      "source": [
        "df.count()"
      ]
    },
    {
      "cell_type": "markdown",
      "metadata": {
        "id": "ZLKtS1rNIjRD"
      },
      "source": [
        "#### Get Data Type for each column present in the Data Set\n",
        "\n",
        "\n"
      ]
    },
    {
      "cell_type": "code",
      "execution_count": null,
      "metadata": {
        "colab": {
          "base_uri": "https://localhost:8080/"
        },
        "id": "tYDkaV6r75y6",
        "outputId": "31ad9e09-e2a4-4d72-8e76-77637479a6e5"
      },
      "outputs": [
        {
          "output_type": "stream",
          "name": "stdout",
          "text": [
            "root\n",
            " |-- SUMMONS_KEY: integer (nullable = true)\n",
            " |-- SUMMONS_DATE: string (nullable = true)\n",
            " |-- OFFENSE_DESCRIPTION: string (nullable = true)\n",
            " |-- LAW_SECTION_NUMBER: string (nullable = true)\n",
            " |-- LAW_DESCRIPTION: string (nullable = true)\n",
            " |-- SUMMONS_CATEGORY_TYPE: string (nullable = true)\n",
            " |-- AGE_GROUP: string (nullable = true)\n",
            " |-- SEX: string (nullable = true)\n",
            " |-- RACE: string (nullable = true)\n",
            " |-- JURISDICTION_CODE: string (nullable = true)\n",
            " |-- BORO: string (nullable = true)\n",
            " |-- PRECINCT_OF_OCCUR: string (nullable = true)\n",
            " |-- X_COORDINATE_CD: string (nullable = true)\n",
            " |-- Y_COORDINATE_CD: integer (nullable = true)\n",
            " |-- Latitude: double (nullable = true)\n",
            " |-- Longitude: double (nullable = true)\n",
            " |-- Lon_Lat: string (nullable = true)\n",
            "\n"
          ]
        }
      ],
      "source": [
        "df.printSchema()"
      ]
    },
    {
      "cell_type": "markdown",
      "metadata": {
        "id": "hNCSlJEuJIBS"
      },
      "source": [
        "#### Outputing the List of Columns in the Data Set"
      ]
    },
    {
      "cell_type": "code",
      "execution_count": null,
      "metadata": {
        "colab": {
          "base_uri": "https://localhost:8080/"
        },
        "id": "hApjoVvG9v9Y",
        "outputId": "46f61b70-4373-4bfe-d433-d4747c1684a6"
      },
      "outputs": [
        {
          "output_type": "execute_result",
          "data": {
            "text/plain": [
              "['SUMMONS_KEY',\n",
              " 'SUMMONS_DATE',\n",
              " 'OFFENSE_DESCRIPTION',\n",
              " 'LAW_SECTION_NUMBER',\n",
              " 'LAW_DESCRIPTION',\n",
              " 'SUMMONS_CATEGORY_TYPE',\n",
              " 'AGE_GROUP',\n",
              " 'SEX',\n",
              " 'RACE',\n",
              " 'JURISDICTION_CODE',\n",
              " 'BORO',\n",
              " 'PRECINCT_OF_OCCUR',\n",
              " 'X_COORDINATE_CD',\n",
              " 'Y_COORDINATE_CD',\n",
              " 'Latitude',\n",
              " 'Longitude',\n",
              " 'Lon_Lat']"
            ]
          },
          "metadata": {},
          "execution_count": 9
        }
      ],
      "source": [
        "df.columns"
      ]
    },
    {
      "cell_type": "markdown",
      "metadata": {
        "id": "LDnW9Gi7Idy4"
      },
      "source": [
        "#### Get top 10 rows of the complaints dataframe"
      ]
    },
    {
      "cell_type": "code",
      "execution_count": null,
      "metadata": {
        "colab": {
          "base_uri": "https://localhost:8080/"
        },
        "id": "AOUrvQEG-UcM",
        "outputId": "4843a873-bc4b-480a-d5d1-0e6043202b02"
      },
      "outputs": [
        {
          "output_type": "stream",
          "name": "stdout",
          "text": [
            "+-----------+------------+--------------------+------------------+---------------+---------------------+---------+----+--------------+-----------------+--------+-----------------+---------------+---------------+------------------+------------------+--------------------+\n",
            "|SUMMONS_KEY|SUMMONS_DATE| OFFENSE_DESCRIPTION|LAW_SECTION_NUMBER|LAW_DESCRIPTION|SUMMONS_CATEGORY_TYPE|AGE_GROUP| SEX|          RACE|JURISDICTION_CODE|    BORO|PRECINCT_OF_OCCUR|X_COORDINATE_CD|Y_COORDINATE_CD|          Latitude|         Longitude|             Lon_Lat|\n",
            "+-----------+------------+--------------------+------------------+---------------+---------------------+---------+----+--------------+-----------------+--------+-----------------+---------------+---------------+------------------+------------------+--------------------+\n",
            "|  192724412|  01/24/2019|   UNINSURED VEHICLE|               319|            VTL|                  VTL|  UNKNOWN|null|          null|                0|NEW YORK|               18|         990060|         217404| 40.76340651400005|-73.97902801199996|POINT (-73.979028...|\n",
            "|  193633599|  02/15/2019|           OTHER VTL|              9999|            VTL|                  VTL|  UNKNOWN|null|          null|                0|BROOKLYN|               78|         991048|         187513| 40.68136223600004|-73.97549163099995|POINT (-73.975491...|\n",
            "|  194790153|  03/17/2019|MAKES UNREASONABL...|         240.20(2)|           null|                 null|    25-44|   M|WHITE HISPANIC|                0|BROOKLYN|               72|         984058|         178998|40.657993066000074|-74.00069344599996|POINT (-74.000693...|\n",
            "|  198874018|  06/24/2019| OTHER SANITARY CODE|              9999|            ABC|            OTHER ABC|  UNKNOWN|null|          null|                0|  QUEENS|              109|        1031014|         217293| 40.76298008300006|-73.83118971499994|POINT (-73.831189...|\n",
            "|  191809027|  01/02/2019|MARIJUANA, POSSES...|            221.05|      Penal Law|            MARIJUANA|    25-44|   M|         BLACK|                0|   BRONX|               44|        1003989|         244111|40.836689797000076|-73.92866741799997|POINT (-73.928667...|\n",
            "|  189573397|  10/29/2018|   RATES OF PEDICABS|            20-260|           null|                 null|    25-44|   M|         WHITE|                0|NEW YORK|               14|         986072|         212412|       40.74970647|      -73.99342559|POINT (-73.993425...|\n",
            "|  188834473|  10/16/2018|   OTHER TRAFFIC REG|              9999|            ABC|            OTHER ABC|  UNKNOWN|null|          null|                0|BROOKLYN|               63|        1005474|         161744|       40.61060908|      -73.92356057|POINT (-73.923560...|\n",
            "|  192166453|  01/11/2019|           EQUIPMENT|               375|            VTL|                  VTL|  UNKNOWN|null|          null|                0|NEW YORK|                1|         982611|         202413|40.722261709000065|-74.00591439799996|POINT (-74.005914...|\n",
            "|  187391089|  09/09/2018|   PERMIT UNLICENSED|         19-506(B)|           null|                 null|  UNKNOWN|null|          null|                0|  QUEENS|              103|        1040896|         196247|       40.70515635|      -73.79569434|POINT (-73.795694...|\n",
            "|  189477530|  11/01/2018|    RECKLESS DRIVING|              1212|            VTL|                  VTL|    45-64|   M|         BLACK|                2|BROOKLYN|               77|        1003508|         185056|       40.67459999|      -73.93057482|POINT (-73.930574...|\n",
            "+-----------+------------+--------------------+------------------+---------------+---------------------+---------+----+--------------+-----------------+--------+-----------------+---------------+---------------+------------------+------------------+--------------------+\n",
            "only showing top 10 rows\n",
            "\n"
          ]
        }
      ],
      "source": [
        "df.show(n=10)"
      ]
    },
    {
      "cell_type": "markdown",
      "metadata": {
        "id": "ygOCZQiaG97V"
      },
      "source": [
        "## We see that the columns `X_COORD_CD`,`Y_COORD_CD`,`Latitude`, `Longitude` and `Lat_Lon` conveys the same data as `New Georeferenced Column`.\n",
        "\n",
        "#### Hence, we drop those columns and keep only `New Georeferenced Column` column in our cleaned dataset."
      ]
    },
    {
      "cell_type": "code",
      "execution_count": null,
      "metadata": {
        "id": "r51qg2Ji_Ajv"
      },
      "outputs": [],
      "source": [
        "df = df.drop('X_COORDINATE_CD','Y_COORDINATE_CD','Latitude','Longitude','Lon_Lat')"
      ]
    },
    {
      "cell_type": "code",
      "execution_count": null,
      "metadata": {
        "colab": {
          "base_uri": "https://localhost:8080/"
        },
        "id": "I52xg3GV_jh0",
        "outputId": "1aabead7-4d80-40f9-802a-c865bb5b9e5f"
      },
      "outputs": [
        {
          "output_type": "execute_result",
          "data": {
            "text/plain": [
              "['SUMMONS_KEY',\n",
              " 'SUMMONS_DATE',\n",
              " 'OFFENSE_DESCRIPTION',\n",
              " 'LAW_SECTION_NUMBER',\n",
              " 'LAW_DESCRIPTION',\n",
              " 'SUMMONS_CATEGORY_TYPE',\n",
              " 'AGE_GROUP',\n",
              " 'SEX',\n",
              " 'RACE',\n",
              " 'JURISDICTION_CODE',\n",
              " 'BORO',\n",
              " 'PRECINCT_OF_OCCUR']"
            ]
          },
          "metadata": {},
          "execution_count": 12
        }
      ],
      "source": [
        "df.columns"
      ]
    },
    {
      "cell_type": "markdown",
      "metadata": {
        "id": "xdJS_wPiJaUN"
      },
      "source": [
        "#### Removing all the **duplicate** entries"
      ]
    },
    {
      "cell_type": "code",
      "execution_count": null,
      "metadata": {
        "id": "S2iLHt_GAVJh"
      },
      "outputs": [],
      "source": [
        "df = df.drop_duplicates()"
      ]
    },
    {
      "cell_type": "code",
      "execution_count": null,
      "metadata": {
        "colab": {
          "base_uri": "https://localhost:8080/"
        },
        "id": "o6ec7GPSA5Ol",
        "outputId": "61e63157-c5f8-4d1a-9347-45eaed5bba51"
      },
      "outputs": [
        {
          "output_type": "execute_result",
          "data": {
            "text/plain": [
              "5336264"
            ]
          },
          "metadata": {},
          "execution_count": 15
        }
      ],
      "source": [
        "df.count()"
      ]
    },
    {
      "cell_type": "code",
      "execution_count": null,
      "metadata": {
        "colab": {
          "base_uri": "https://localhost:8080/"
        },
        "id": "5BO82obd0N6u",
        "outputId": "8f264233-4c88-4ad4-c068-06ff67a25425"
      },
      "outputs": [
        {
          "output_type": "execute_result",
          "data": {
            "text/plain": [
              "5336264"
            ]
          },
          "metadata": {},
          "execution_count": 16
        }
      ],
      "source": [
        "df.distinct().count()"
      ]
    },
    {
      "cell_type": "markdown",
      "metadata": {
        "id": "O4zgb1QPJ02z"
      },
      "source": [
        "#### **Checking** if the SUMMONS_KEY is unique or not"
      ]
    },
    {
      "cell_type": "code",
      "execution_count": null,
      "metadata": {
        "colab": {
          "base_uri": "https://localhost:8080/"
        },
        "id": "R0o2wLm1h4Bo",
        "outputId": "2604abe3-31b0-4a02-a903-d16b77cd51bb"
      },
      "outputs": [
        {
          "output_type": "execute_result",
          "data": {
            "text/plain": [
              "5336248"
            ]
          },
          "metadata": {},
          "execution_count": 17
        }
      ],
      "source": [
        "df.select('SUMMONS_KEY').distinct().count()"
      ]
    },
    {
      "cell_type": "markdown",
      "metadata": {
        "id": "M-_iiUuEJ_5c"
      },
      "source": [
        "#### As we can see `SUMMONS_KEY` should have been unique, but it is not.\n",
        "#### Let's see what are the duplicate values."
      ]
    },
    {
      "cell_type": "code",
      "execution_count": null,
      "metadata": {
        "colab": {
          "base_uri": "https://localhost:8080/"
        },
        "id": "869tZgVki68U",
        "outputId": "5c2a1200-6b1e-4958-dc76-4d47d7b12128"
      },
      "outputs": [
        {
          "output_type": "execute_result",
          "data": {
            "text/plain": [
              "12"
            ]
          },
          "metadata": {},
          "execution_count": 18
        }
      ],
      "source": [
        "df1 = df.groupBy('SUMMONS_KEY').count().filter(\"count > 1\")\n",
        "df1.drop('count').count()"
      ]
    },
    {
      "cell_type": "code",
      "execution_count": null,
      "metadata": {
        "colab": {
          "base_uri": "https://localhost:8080/"
        },
        "id": "WgA4Q88SoGaW",
        "outputId": "a3c1ee38-83db-4b38-827b-f2dfc8ff2a32"
      },
      "outputs": [
        {
          "output_type": "stream",
          "name": "stdout",
          "text": [
            "+-----------+-----+\n",
            "|SUMMONS_KEY|count|\n",
            "+-----------+-----+\n",
            "|    5542337|    2|\n",
            "|   85674056|    3|\n",
            "|   90228979|    2|\n",
            "|  109595661|    2|\n",
            "|  148527446|    3|\n",
            "|  148918930|    2|\n",
            "|  148968083|    3|\n",
            "|  157849320|    2|\n",
            "|  162208010|    2|\n",
            "|  163839842|    2|\n",
            "+-----------+-----+\n",
            "only showing top 10 rows\n",
            "\n"
          ]
        }
      ],
      "source": [
        "df1.sort('SUMMONS_KEY').show(n = 10)"
      ]
    },
    {
      "cell_type": "markdown",
      "metadata": {
        "id": "xIXIyTg_LSGf"
      },
      "source": [
        "#### Check for complaint number `100509703`"
      ]
    },
    {
      "cell_type": "code",
      "execution_count": null,
      "metadata": {
        "colab": {
          "base_uri": "https://localhost:8080/"
        },
        "id": "SuNyl3VjmbXH",
        "outputId": "a72cb431-bedf-42a2-fd09-750f0470ecfd"
      },
      "outputs": [
        {
          "output_type": "stream",
          "name": "stdout",
          "text": [
            "+-----------+------------+-------------------+------------------+-------------------+---------------------+---------+---+-------+-----------------+--------+-----------------+\n",
            "|SUMMONS_KEY|SUMMONS_DATE|OFFENSE_DESCRIPTION|LAW_SECTION_NUMBER|    LAW_DESCRIPTION|SUMMONS_CATEGORY_TYPE|AGE_GROUP|SEX|   RACE|JURISDICTION_CODE|    BORO|PRECINCT_OF_OCCUR|\n",
            "+-----------+------------+-------------------+------------------+-------------------+---------------------+---------+---+-------+-----------------+--------+-----------------+\n",
            "|  162208010|  08/04/2018|     ACCEPT ON HAIL|            19-507|Administrative Code|                  TLC|    18-24|  F|  BLACK|                0|BROOKLYN|               70|\n",
            "|  162208010|  08/04/2018|     ACCEPT ON HAIL|            19-507|Administrative Code|                  TLC|  UNKNOWN|  F|UNKNOWN|                0|BROOKLYN|               70|\n",
            "+-----------+------------+-------------------+------------------+-------------------+---------------------+---------+---+-------+-----------------+--------+-----------------+\n",
            "\n"
          ]
        }
      ],
      "source": [
        "df.filter('SUMMONS_KEY = 162208010').show()"
      ]
    },
    {
      "cell_type": "markdown",
      "metadata": {
        "id": "XG8tNFuBT2YJ"
      },
      "source": [
        "#### We understand, that complaint number is not specifically unique. The dataset has rows with duplicated complaint numbers having unique information for all other columns. Thus, we cannot drop the entries with duplicated complaint numbers."
      ]
    },
    {
      "cell_type": "markdown",
      "metadata": {
        "id": "n96nZ6Pjq9k1"
      },
      "source": [
        "## Find Count of Null, None, NaN of All DataFrame Columns"
      ]
    },
    {
      "cell_type": "code",
      "execution_count": null,
      "metadata": {
        "id": "mxelZ1tgqB74"
      },
      "outputs": [],
      "source": [
        "df.select([count(when(isnan(c) | col(c).isNull(), c)).alias(c) for c in df.columns]\n",
        "   ).show()"
      ]
    },
    {
      "cell_type": "markdown",
      "metadata": {
        "id": "Wt7SOaqwSIfw"
      },
      "source": [
        "#### Get top 5 rows where complaint from Date is NaN"
      ]
    },
    {
      "cell_type": "code",
      "execution_count": null,
      "metadata": {
        "colab": {
          "base_uri": "https://localhost:8080/"
        },
        "id": "OSBt5ZBcpfv2",
        "outputId": "0f916269-aede-4390-b754-47d87a72bae1"
      },
      "outputs": [
        {
          "output_type": "stream",
          "name": "stdout",
          "text": [
            "+-----------+------------+-------------------+------------------+---------------+---------------------+---------+---+----+-----------------+----+-----------------+\n",
            "|SUMMONS_KEY|SUMMONS_DATE|OFFENSE_DESCRIPTION|LAW_SECTION_NUMBER|LAW_DESCRIPTION|SUMMONS_CATEGORY_TYPE|AGE_GROUP|SEX|RACE|JURISDICTION_CODE|BORO|PRECINCT_OF_OCCUR|\n",
            "+-----------+------------+-------------------+------------------+---------------+---------------------+---------+---+----+-----------------+----+-----------------+\n",
            "+-----------+------------+-------------------+------------------+---------------+---------------------+---------+---+----+-----------------+----+-----------------+\n",
            "\n"
          ]
        }
      ],
      "source": [
        "df.where(col('SUMMONS_DATE').isNull()).show(n=5)"
      ]
    },
    {
      "cell_type": "code",
      "execution_count": null,
      "metadata": {
        "colab": {
          "base_uri": "https://localhost:8080/"
        },
        "id": "VSK0NwkS7gTu",
        "outputId": "b6b88f11-141a-437f-a36c-124916bfbae4"
      },
      "outputs": [
        {
          "output_type": "stream",
          "name": "stdout",
          "text": [
            "+-----------+------------+--------------------+------------------+-------------------+---------------------+---------+----+--------------+-----------------+---------+-----------------+\n",
            "|SUMMONS_KEY|SUMMONS_DATE| OFFENSE_DESCRIPTION|LAW_SECTION_NUMBER|    LAW_DESCRIPTION|SUMMONS_CATEGORY_TYPE|AGE_GROUP| SEX|          RACE|JURISDICTION_CODE|     BORO|PRECINCT_OF_OCCUR|\n",
            "+-----------+------------+--------------------+------------------+-------------------+---------------------+---------+----+--------------+-----------------+---------+-----------------+\n",
            "|  194874515|  03/19/2019|LICENSE/RECORDS/D...|           2-66(B)|               null|                 null|  UNKNOWN|null|          null|                0| NEW YORK|                1|\n",
            "|  202635026|  09/19/2019|   OTHER TRAFFIC REG|              9999|                ABC|            OTHER ABC|  UNKNOWN|null|          null|                0| NEW YORK|                1|\n",
            "|  143517530|  06/04/2015|CONSUMPTION OF AL...|            10-125|Administrative Code|              ALCOHOL|    25-44|   M|          null|                0|MANHATTAN|                1|\n",
            "|  188397141|  10/05/2018|        NO TAX STAMP|            11-809|Administrative Code|                  TLC|  UNKNOWN|null|          null|                0| NEW YORK|                1|\n",
            "|  189597245|  11/05/2018|        NO TAX STAMP|            11-809|Administrative Code|                  TLC|  UNKNOWN|null|          null|                0| NEW YORK|                1|\n",
            "|  185337706|  07/18/2018|FEDERAL MOTOR VEH...|            CFR 49| NYS Transportation|            NYS TRANS|  UNKNOWN|null|          null|                0| NEW YORK|                1|\n",
            "|  185768993|  07/30/2018|FEDERAL MOTOR VEH...|            CFR 49| NYS Transportation|            NYS TRANS|  UNKNOWN|null|          null|                0| NEW YORK|                1|\n",
            "|  186817794|  08/23/2018|FEDERAL MOTOR VEH...|            CFR 49| NYS Transportation|            NYS TRANS|  UNKNOWN|null|          null|                0| NEW YORK|                1|\n",
            "|  186885202|  08/27/2018|FEDERAL MOTOR VEH...|            CFR 49| NYS Transportation|            NYS TRANS|  UNKNOWN|null|          null|                0| NEW YORK|                1|\n",
            "|  187336893|  09/07/2018|FEDERAL MOTOR VEH...|            CFR 49| NYS Transportation|            NYS TRANS|  UNKNOWN|null|          null|                0| NEW YORK|                1|\n",
            "|  188873818|  10/17/2018|FEDERAL MOTOR VEH...|            CFR 49| NYS Transportation|            NYS TRANS|  UNKNOWN|null|          null|                0| NEW YORK|                1|\n",
            "|  190061785|  11/16/2018|FEDERAL MOTOR VEH...|            CFR 49| NYS Transportation|            NYS TRANS|  UNKNOWN|null|          null|                0| NEW YORK|                1|\n",
            "|  190160741|  11/19/2018|FEDERAL MOTOR VEH...|            CFR 49| NYS Transportation|            NYS TRANS|  UNKNOWN|null|          null|                0| NEW YORK|                1|\n",
            "|  191799329|  01/03/2019|FEDERAL MOTOR VEH...|            CFR 49| NYS Transportation|            NYS TRANS|  UNKNOWN|null|          null|                0| NEW YORK|                1|\n",
            "|  192168629|  01/11/2019|FEDERAL MOTOR VEH...|            CFR 49| NYS Transportation|            NYS TRANS|  UNKNOWN|null|          null|                0| NEW YORK|                1|\n",
            "|  192274823|  01/14/2019|FEDERAL MOTOR VEH...|            CFR 49| NYS Transportation|            NYS TRANS|  UNKNOWN|null|          null|                0| NEW YORK|                1|\n",
            "|  200795791|  08/07/2019|FEDERAL MOTOR VEH...|            CFR 49| NYS Transportation|            NYS TRANS|  UNKNOWN|null|          null|                0| NEW YORK|                1|\n",
            "|  204429607|  10/31/2019|FEDERAL MOTOR VEH...|            CFR 49| NYS Transportation|            NYS TRANS|  UNKNOWN|null|          null|                0| NEW YORK|                1|\n",
            "|  206815995|  12/22/2019|FEDERAL MOTOR VEH...|            CFR 49| NYS Transportation|            NYS TRANS|  UNKNOWN|null|          null|                0| NEW YORK|                1|\n",
            "|  206855568|  12/24/2019|FEDERAL MOTOR VEH...|            CFR 49| NYS Transportation|            NYS TRANS|  UNKNOWN|null|          null|                0| NEW YORK|                1|\n",
            "|  144317497|  07/06/2015|   OTHER TRAFFIC REG|              9999|       Traffic Regs|    OTHER TRAFFIC REG|    25-44|   M|          null|                0|MANHATTAN|                1|\n",
            "|  176245507|  03/23/2018| UNINSPECTED VEHICLE|               306|                VTL|                  VTL|  UNKNOWN|null|          null|                0| NEW YORK|                1|\n",
            "|  189778815|  11/09/2018|           EQUIPMENT|               375|                VTL|                  VTL|  UNKNOWN|null|          null|                0| NEW YORK|                1|\n",
            "|  196403619|  04/24/2019|           EQUIPMENT|               375|                VTL|                  VTL|  UNKNOWN|null|          null|                0| NEW YORK|                1|\n",
            "|  193775559|  02/10/2019|NON PAYMENT OF FA...|         1050.4(A)|               null|                 null|    18-24|   M|         BLACK|                1| NEW YORK|                1|\n",
            "|   78957406|  05/23/2011| URINATING IN PUBLIC|           16-1186|Administrative Code|            URINATING|    25-44|   M|       UNKNOWN|                0|MANHATTAN|                1|\n",
            "|   79071674|  05/31/2011| BICYCLE ON SIDEWALK|            19-176|Administrative Code|                 BIKE|    45-64|   M|       UNKNOWN|                0|MANHATTAN|                1|\n",
            "|   79197212|  06/05/2011|        NO TAX STAMP|            11-809|Administrative Code|                  TLC|    45-64|   M|       UNKNOWN|                0|MANHATTAN|                1|\n",
            "|   79396218|  06/18/2011|    OTHER ADMIN CODE|              9999|Administrative Code|     OTHER ADMIN CODE|    45-64|   M|       UNKNOWN|                0|MANHATTAN|                1|\n",
            "|   79517505|  06/18/2011| URINATING IN PUBLIC|           16-1186|Administrative Code|            URINATING|      <18|   M|       UNKNOWN|                0|MANHATTAN|                1|\n",
            "|   81067507|  10/05/2011|NOISE (UNREASONABLE)|            24-218|Administrative Code|                NOISE|    18-24|   M|       UNKNOWN|                0|MANHATTAN|                1|\n",
            "|   81441363|  10/29/2011|CONSUMPTION OF AL...|            10-125|Administrative Code|              ALCOHOL|    18-24|   M|       UNKNOWN|                1|MANHATTAN|                1|\n",
            "|   82332174|  12/23/2011| BICYCLE ON SIDEWALK|            19-176|Administrative Code|                 BIKE|    18-24|   M|       UNKNOWN|                0|MANHATTAN|                1|\n",
            "|   78691712|  05/09/2011| URINATING IN PUBLIC|            153.09|        Health Code|            URINATING|    18-24|   M|       UNKNOWN|                0|MANHATTAN|                1|\n",
            "|   79744112|  07/09/2011| URINATING IN PUBLIC|            153.09|        Health Code|            URINATING|    25-44|   M|       UNKNOWN|                0|MANHATTAN|                1|\n",
            "|   77847837|  03/21/2011|FEDERAL MOTOR VEH...|            CFR 49| NYS Transportation|            NYS TRANS|    45-64|   M|       UNKNOWN|                0|MANHATTAN|                1|\n",
            "|   78144439|  04/08/2011|MARIJUANA, POSSES...|            221.05|          Penal Law|            MARIJUANA|      <18|   M|       UNKNOWN|                0|MANHATTAN|                1|\n",
            "|   80099066|  08/01/2011|  DISORDERLY CONDUCT|            240.20|          Penal Law|   DISORDERLY CONDUCT|    25-44|   M|       UNKNOWN|                0|MANHATTAN|                1|\n",
            "|   81528246|  11/02/2011|MARIJUANA, POSSES...|            221.05|          Penal Law|            MARIJUANA|      <18|   M|       UNKNOWN|                0|MANHATTAN|                1|\n",
            "|   78014252|  03/27/2011|           OTHER VTL|              9999|                VTL|                  VTL|    45-64|   M|       UNKNOWN|                1|MANHATTAN|                1|\n",
            "|   78145153|  04/07/2011|           OTHER VTL|              9999|                VTL|                  VTL|    45-64|   M|       UNKNOWN|                0|MANHATTAN|                1|\n",
            "|   78915713|  05/20/2011|    RECKLESS DRIVING|              1212|                VTL|                  VTL|    25-44|   F|       UNKNOWN|                1|MANHATTAN|                1|\n",
            "|   81221542|  10/13/2011|    RECKLESS DRIVING|              1212|                VTL|                  VTL|    25-44|   M|       UNKNOWN|                0|MANHATTAN|                1|\n",
            "|  204478612|  10/17/2019| UNLICENSED OPERATOR|               509|                VTL|                  VTL|    25-44|   F|         WHITE|                1| NEW YORK|                1|\n",
            "|  184569160|  06/28/2018|   OTHER TRAFFIC REG|              9999|                ABC|            OTHER ABC|  UNKNOWN|null|          null|                0| NEW YORK|               10|\n",
            "|  200223686|  07/25/2019|   OTHER TRAFFIC REG|              9999|                ABC|            OTHER ABC|  UNKNOWN|null|          null|                0| NEW YORK|               10|\n",
            "|  200588474|  08/02/2019|   OTHER TRAFFIC REG|              9999|                ABC|            OTHER ABC|  UNKNOWN|null|          null|                0| NEW YORK|               10|\n",
            "|  203849645|  10/17/2019|   OTHER TRAFFIC REG|              9999|                ABC|            OTHER ABC|  UNKNOWN|null|          null|                0| NEW YORK|               10|\n",
            "|  143637407|  06/09/2015|CONSUMPTION OF AL...|            10-125|Administrative Code|              ALCOHOL|    25-44|   M|          null|                0|MANHATTAN|               10|\n",
            "|  183698542|  06/11/2018|        NO TAX STAMP|            11-809|Administrative Code|                  TLC|  UNKNOWN|null|          null|                0| NEW YORK|               10|\n",
            "|  193743754|  02/19/2019|        NO TAX STAMP|            11-809|Administrative Code|                  TLC|  UNKNOWN|null|          null|                0| NEW YORK|               10|\n",
            "|  200166456|  07/24/2019|        NO TAX STAMP|            11-809|Administrative Code|                  TLC|  UNKNOWN|null|          null|                0| NEW YORK|               10|\n",
            "|  205452335|  11/21/2019|        NO TAX STAMP|            11-809|Administrative Code|                  TLC|  UNKNOWN|null|          null|                0| NEW YORK|               10|\n",
            "|  142450828|  04/23/2015|FEDERAL MOTOR VEH...|            CFR 49| NYS Transportation|            NYS TRANS|     null|   D|          null|                0|MANHATTAN|               10|\n",
            "|  187899043|  09/21/2018|FEDERAL MOTOR VEH...|            CFR 49| NYS Transportation|            NYS TRANS|  UNKNOWN|null|          null|                0| NEW YORK|               10|\n",
            "|  201588978|  08/26/2019|FEDERAL MOTOR VEH...|            CFR 49| NYS Transportation|            NYS TRANS|  UNKNOWN|null|          null|                0| NEW YORK|               10|\n",
            "|  201677303|  08/28/2019|FEDERAL MOTOR VEH...|            CFR 49| NYS Transportation|            NYS TRANS|  UNKNOWN|null|          null|                0| NEW YORK|               10|\n",
            "|  202364239|  09/13/2019|FEDERAL MOTOR VEH...|            CFR 49| NYS Transportation|            NYS TRANS|  UNKNOWN|null|          null|                0| NEW YORK|               10|\n",
            "|  203466608|  10/09/2019|FEDERAL MOTOR VEH...|            CFR 49| NYS Transportation|            NYS TRANS|  UNKNOWN|null|          null|                0| NEW YORK|               10|\n",
            "|  204464020|  11/04/2019|FEDERAL MOTOR VEH...|            CFR 49| NYS Transportation|            NYS TRANS|  UNKNOWN|null|          null|                0| NEW YORK|               10|\n",
            "|  204473364|  11/05/2019|FEDERAL MOTOR VEH...|            CFR 49| NYS Transportation|            NYS TRANS|  UNKNOWN|null|          null|                0| NEW YORK|               10|\n",
            "|  205916169|  12/03/2019|FEDERAL MOTOR VEH...|            CFR 49| NYS Transportation|            NYS TRANS|  UNKNOWN|null|          null|                0| NEW YORK|               10|\n",
            "|  206325395|  12/11/2019|FEDERAL MOTOR VEH...|            CFR 49| NYS Transportation|            NYS TRANS|  UNKNOWN|null|          null|                0| NEW YORK|               10|\n",
            "|  206695364|  12/19/2019|FEDERAL MOTOR VEH...|            CFR 49| NYS Transportation|            NYS TRANS|  UNKNOWN|null|          null|                0| NEW YORK|               10|\n",
            "|  143209379|  05/25/2015|   OTHER TRAFFIC REG|              9999|       Traffic Regs|    OTHER TRAFFIC REG|    25-44|   M|          null|                0|MANHATTAN|               10|\n",
            "|  203793250|  10/16/2019|           EQUIPMENT|               375|                VTL|                  VTL|  UNKNOWN|null|          null|                0| NEW YORK|               10|\n",
            "|  185768953|  07/28/2018|MARIJUANA, POSSES...|            221.05|          Penal Law|            MARIJUANA|    25-44|   M|         BLACK|                2| NEW YORK|               10|\n",
            "|  192626209|  01/22/2019|    RECKLESS DRIVING|              1212|                VTL|                  VTL|    25-44|   M|BLACK HISPANIC|                0| NEW YORK|               10|\n",
            "|  192773220|  01/25/2019|    RECKLESS DRIVING|              1212|                VTL|                  VTL|    18-24|   M|         OTHER|                0| NEW YORK|               10|\n",
            "|   80461219|  08/20/2011|SALE/PURCHASE/USE...|                65|                ABC|                  ABC|     null|   D|       UNKNOWN|                0|MANHATTAN|               10|\n",
            "|   78204139|  04/09/2011|CONSUMPTION OF AL...|            10-125|Administrative Code|              ALCOHOL|    25-44|   M|       UNKNOWN|                0|MANHATTAN|               10|\n",
            "|   78731988|  05/14/2011|CONSUMPTION OF AL...|            10-125|Administrative Code|              ALCOHOL|    25-44|   M|       UNKNOWN|                0|MANHATTAN|               10|\n",
            "|   78978195|  05/25/2011|CONSUMPTION OF AL...|            10-125|Administrative Code|              ALCOHOL|    25-44|   M|       UNKNOWN|                0|MANHATTAN|               10|\n",
            "|   79143881|  06/04/2011|        NO TAX STAMP|            11-809|Administrative Code|                  TLC|     null|   D|       UNKNOWN|                0|MANHATTAN|               10|\n",
            "|   79143887|  06/03/2011|CONSUMPTION OF AL...|            10-125|Administrative Code|              ALCOHOL|    18-24|   M|       UNKNOWN|                0|MANHATTAN|               10|\n",
            "|   79385900|  06/16/2011|CONSUMPTION OF AL...|            10-125|Administrative Code|              ALCOHOL|    25-44|   M|       UNKNOWN|                0|MANHATTAN|               10|\n",
            "|   80631053|  09/04/2011|CONSUMPTION OF AL...|            10-125|Administrative Code|              ALCOHOL|    18-24|   M|       UNKNOWN|                0|MANHATTAN|               10|\n",
            "|   80886903|  09/25/2011|UNAUTHORIZED POSTING|            10-119|Administrative Code| POSTING ADVERTISE...|    25-44|   M|       UNKNOWN|                0|MANHATTAN|               10|\n",
            "|   81221185|  10/12/2011|CONSUMPTION OF AL...|            10-125|Administrative Code|              ALCOHOL|    25-44|   M|       UNKNOWN|                0|MANHATTAN|               10|\n",
            "|   81800911|  11/20/2011|CONSUMPTION OF AL...|            10-125|Administrative Code|              ALCOHOL|    18-24|   M|       UNKNOWN|                0|MANHATTAN|               10|\n",
            "|   81978309|  11/29/2011|VEND:RESTRICTIONS...|      17-315/20465|Administrative Code|              VENDING|    25-44|   M|       UNKNOWN|                0|MANHATTAN|               10|\n",
            "|   82015985|  12/01/2011|CONSUMPTION OF AL...|            10-125|Administrative Code|              ALCOHOL|    45-64|   M|       UNKNOWN|                0|MANHATTAN|               10|\n",
            "|   82202886|  12/14/2011|        NO TAX STAMP|            11-809|Administrative Code|                  TLC|    45-64|   M|       UNKNOWN|                0|MANHATTAN|               10|\n",
            "|   82423995|  12/29/2011|FAIL TO COMPLY WI...|           19-506A|Administrative Code|                  TLC|    25-44|   M|       UNKNOWN|                0|MANHATTAN|               10|\n",
            "|  142318926|  04/17/2015|CONSUMPTION OF AL...|            10-125|Administrative Code|              ALCOHOL|    45-64|   M|       UNKNOWN|                0|     null|               10|\n",
            "|   78731986|  05/15/2011| URINATING IN PUBLIC|            153.09|        Health Code|            URINATING|    25-44|   M|       UNKNOWN|                0|MANHATTAN|               10|\n",
            "|   81355390|  10/23/2011| URINATING IN PUBLIC|            153.09|        Health Code|            URINATING|    25-44|   M|       UNKNOWN|                2|MANHATTAN|               10|\n",
            "|   81441383|  10/27/2011|DOG: FAILURE TO R...|              1310|        Health Code|                  DOG|    25-44|   M|       UNKNOWN|                2|MANHATTAN|               10|\n",
            "|   82166114|  12/07/2011| URINATING IN PUBLIC|            153.09|        Health Code|            URINATING|    18-24|   M|       UNKNOWN|                0|MANHATTAN|               10|\n",
            "|   78087211|  04/04/2011|FEDERAL MOTOR VEH...|            CFR 49| NYS Transportation|            NYS TRANS|    25-44|   M|       UNKNOWN|                0|MANHATTAN|               10|\n",
            "|   81849588|  11/22/2011|FEDERAL MOTOR VEH...|            CFR 49| NYS Transportation|            NYS TRANS|     null|   D|       UNKNOWN|                0|MANHATTAN|               10|\n",
            "|   79104287|  05/28/2011|     OTHER PARK REGS|              9999|          Park Regs|       OTHER PARK REG|    25-44|   F|       UNKNOWN|                0|MANHATTAN|               10|\n",
            "|   80362916|  06/18/2011|    PARK REGULATIONS|              1-04|          Park Regs|            PARK REGS|    25-44|   M|       UNKNOWN|                0|MANHATTAN|               10|\n",
            "|   80395997|  08/20/2011|     OTHER PARK REGS|              9999|          Park Regs|       OTHER PARK REG|    25-44|   F|       UNKNOWN|                0|MANHATTAN|               10|\n",
            "|   78015026|  03/30/2011|            TRESPASS|            140.05|          Penal Law|             TRESPASS|    45-64|   M|       UNKNOWN|                0|MANHATTAN|               10|\n",
            "|   78126480|  04/06/2011|DISCON: OBSTRUCT ...|          240.205B|          Penal Law|   DISORDERLY CONDUCT|    25-44|   M|       UNKNOWN|                0|MANHATTAN|               10|\n",
            "|   78392461|  04/22/2011|DISCON: OBSCENE L...|          240.20-3|          Penal Law|   DISORDERLY CONDUCT|    25-44|   M|       UNKNOWN|                0|MANHATTAN|               10|\n",
            "|   78977839|  05/23/2011|DISCON: OBSTRUCT ...|          240.205B|          Penal Law|   DISORDERLY CONDUCT|    25-44|   M|       UNKNOWN|                0|MANHATTAN|               10|\n",
            "|   82095110|  12/08/2011|            TRESPASS|            140.05|          Penal Law|             TRESPASS|    45-64|   M|       UNKNOWN|                0|MANHATTAN|               10|\n",
            "|   82287653|  12/19/2011|MARIJUANA, POSSES...|            221.05|          Penal Law|            MARIJUANA|    18-24|   M|       UNKNOWN|                0|MANHATTAN|               10|\n",
            "+-----------+------------+--------------------+------------------+-------------------+---------------------+---------+----+--------------+-----------------+---------+-----------------+\n",
            "only showing top 100 rows\n",
            "\n"
          ]
        }
      ],
      "source": [
        "df.show(100)"
      ]
    },
    {
      "cell_type": "code",
      "execution_count": null,
      "metadata": {
        "colab": {
          "base_uri": "https://localhost:8080/"
        },
        "id": "8papMV3_W4Bj",
        "outputId": "1a24150e-88d4-4484-cedc-d14511e6de8f"
      },
      "outputs": [
        {
          "output_type": "stream",
          "name": "stdout",
          "text": [
            "+-----------------+\n",
            "|min(SUMMONS_DATE)|\n",
            "+-----------------+\n",
            "|       01/01/2006|\n",
            "+-----------------+\n",
            "\n"
          ]
        }
      ],
      "source": [
        "df.agg({'SUMMONS_DATE': 'min'}).show()"
      ]
    },
    {
      "cell_type": "code",
      "execution_count": null,
      "metadata": {
        "colab": {
          "base_uri": "https://localhost:8080/"
        },
        "id": "tPxH9P8RW4OM",
        "outputId": "5ec1f471-a907-41f1-cc44-2cbf230ef1a0"
      },
      "outputs": [
        {
          "output_type": "stream",
          "name": "stdout",
          "text": [
            "+-----------------+\n",
            "|max(SUMMONS_DATE)|\n",
            "+-----------------+\n",
            "|       12/31/2020|\n",
            "+-----------------+\n",
            "\n"
          ]
        }
      ],
      "source": [
        "df.agg({'SUMMONS_DATE': 'max'}).show()"
      ]
    },
    {
      "cell_type": "markdown",
      "metadata": {
        "id": "StfFUDBsc_8R"
      },
      "source": [
        "**Some basic data quality checks are as below:**\n",
        "1. Check if there are no garbage values in the location of occurence description column. The valid values that this column should ideally contain are: 'FRONT OF', 'REAR OF', 'OUTSIDE', 'INSIDE', 'OPPOSITE OF'\n",
        "2. Check if there are no garbage values in law category column. The valid values are: 'FELONY', 'VIOLATION', 'MISDEMEANOR'\n",
        "3. Check if there are no misspellings in Borough Name. There should be 5 distinct boroughs: Manhattan, Bronx, Queens, Brooklyn, Staten Island. We implement unique method, in case of misspellings multiple values of the same borough would be returned.\n",
        "4. Check if 'CRM_ATPT_CPTD_CD' column has no garbage value. The only acceptable values are Completed or Attempted.\n",
        "5. Ideally, key code should contain only 3 digits. Implementing a check below to see if there are any invalid values for the key code. "
      ]
    },
    {
      "cell_type": "markdown",
      "metadata": {
        "id": "GZowh0na-VjI"
      },
      "source": [
        "### Checks for Borough Name"
      ]
    },
    {
      "cell_type": "code",
      "execution_count": null,
      "metadata": {
        "colab": {
          "base_uri": "https://localhost:8080/"
        },
        "id": "8EkBxmg_bOue",
        "outputId": "65213c5e-b0b2-4538-e393-43ddbd1e4306"
      },
      "outputs": [
        {
          "output_type": "stream",
          "name": "stdout",
          "text": [
            "+-------------+\n",
            "|         BORO|\n",
            "+-------------+\n",
            "|        BLACK|\n",
            "|            0|\n",
            "|         null|\n",
            "|       QUEENS|\n",
            "|     BROOKLYN|\n",
            "|        BRONX|\n",
            "|     NEW YORK|\n",
            "|    MANHATTAN|\n",
            "|STATEN ISLAND|\n",
            "+-------------+\n",
            "\n"
          ]
        }
      ],
      "source": [
        "df.select('BORO').distinct().show()"
      ]
    },
    {
      "cell_type": "markdown",
      "metadata": {
        "id": "CLGPDp3OAdxF"
      },
      "source": [
        "We can see there are no misspellings for the Borough names and thus no need for additional data correction for the same."
      ]
    },
    {
      "cell_type": "code",
      "execution_count": null,
      "metadata": {
        "colab": {
          "base_uri": "https://localhost:8080/"
        },
        "id": "TGS80nUK-O1f",
        "outputId": "664955c6-21d2-42c4-c818-493707f90648"
      },
      "outputs": [
        {
          "output_type": "stream",
          "name": "stdout",
          "text": [
            "+-----------+------------+--------------------+------------------+-------------------+---------------------+---------+---+-------+-----------------+----+-----------------+\n",
            "|SUMMONS_KEY|SUMMONS_DATE| OFFENSE_DESCRIPTION|LAW_SECTION_NUMBER|    LAW_DESCRIPTION|SUMMONS_CATEGORY_TYPE|AGE_GROUP|SEX|   RACE|JURISDICTION_CODE|BORO|PRECINCT_OF_OCCUR|\n",
            "+-----------+------------+--------------------+------------------+-------------------+---------------------+---------+---+-------+-----------------+----+-----------------+\n",
            "|   16849593|  06/17/2006|                 OCA|              null|               null|                 null|    18-24|  M|UNKNOWN|                2|null|              120|\n",
            "|  143637098|  06/10/2015|UNLICENSED VEHICL...|            19-506|Administrative Code|                  TLC|    25-44|  M|   null|                0|null|              100|\n",
            "|  143344009|  05/31/2015|CONSUMPTION OF AL...|            10-125|Administrative Code|              ALCOHOL|    25-44|  M|   null|                0|null|              106|\n",
            "|  142318926|  04/17/2015|CONSUMPTION OF AL...|            10-125|Administrative Code|              ALCOHOL|    45-64|  M|UNKNOWN|                0|null|               10|\n",
            "|  142408061|  04/22/2015|           OTHER VTL|              9999|                VTL|                  VTL|    25-44|  M|   null|                0|null|               34|\n",
            "|  141964618|  04/03/2015|CONSUMPTION OF AL...|            10-125|Administrative Code|              ALCOHOL|    25-44|  F|UNKNOWN|                0|null|               70|\n",
            "|  141732887|  03/29/2015| URINATING IN PUBLIC|           16-1186|Administrative Code|            URINATING|    25-44|  M|UNKNOWN|                2|null|              103|\n",
            "|  141936469|  04/02/2015|UNLICENSED VEHICL...|            19-506|Administrative Code|                  TLC|      65+|  M|UNKNOWN|                0|null|               70|\n",
            "|   82043778|  12/05/2011|  VENDOR: UNLICENSED|            20-453|Administrative Code|              VENDING|    25-44|  F|UNKNOWN|                0|null|              109|\n",
            "|   83788717|  12/12/2011|  DISORDERLY CONDUCT|            240.20|          Penal Law|   DISORDERLY CONDUCT|      <18|  F|UNKNOWN|                0|null|               45|\n",
            "|   81994173|  11/29/2011| BICYCLE ON SIDEWALK|            19-176|Administrative Code|                 BIKE|    18-24|  M|UNKNOWN|                0|null|              101|\n",
            "|   82085161|  12/05/2011|    OTHER ADMIN CODE|              9999|Administrative Code|     OTHER ADMIN CODE|    25-44|  M|UNKNOWN|                0|null|               18|\n",
            "|   81644295|  11/10/2011|FEDERAL MOTOR VEH...|            CFR 49| NYS Transportation|            NYS TRANS|     null|  D|UNKNOWN|                0|null|              122|\n",
            "|   81792162|  11/17/2011|  DISORDERLY CONDUCT|            240.20|          Penal Law|   DISORDERLY CONDUCT|    25-44|  M|UNKNOWN|                0|null|               68|\n",
            "|   81347392|  10/22/2011|FAILURE TO COMPLY...|              1-03|          Park Regs|            PARK REGS|    25-44|  M|UNKNOWN|                0|null|               45|\n",
            "|   81512419|  11/02/2011| BICYCLE ON SIDEWALK|            19-176|Administrative Code|                 BIKE|    45-64|  M|UNKNOWN|                0|null|               84|\n",
            "|   81546586|  11/03/2011|DISCON: OBSTRUCT ...|          240.205A|          Penal Law|   DISORDERLY CONDUCT|    25-44|  M|UNKNOWN|                0|null|               40|\n",
            "|   81142209|  10/07/2011|CONSUMPTION OF AL...|            10-125|Administrative Code|              ALCOHOL|    45-64|  M|UNKNOWN|                0|null|               44|\n",
            "|   81287279|  10/18/2011|DISCON: UNREASONA...|          240.20-2|          Penal Law|   DISORDERLY CONDUCT|    45-64|  M|UNKNOWN|                0|null|               34|\n",
            "|   80712390|  09/12/2011|CONSUMPTION OF AL...|            10-125|Administrative Code|              ALCOHOL|      <18|  M|UNKNOWN|                0|null|               68|\n",
            "+-----------+------------+--------------------+------------------+-------------------+---------------------+---------+---+-------+-----------------+----+-----------------+\n",
            "only showing top 20 rows\n",
            "\n"
          ]
        }
      ],
      "source": [
        "df.where(col('BORO').isNull()).show()"
      ]
    },
    {
      "cell_type": "markdown",
      "metadata": {
        "id": "8PBAVylwS6md"
      },
      "source": [
        "#### Dropping Rows where Borough Name is NULL"
      ]
    },
    {
      "cell_type": "code",
      "execution_count": null,
      "metadata": {
        "id": "3lxbjLgg37V8"
      },
      "outputs": [],
      "source": [
        "df = df.filter(df.BORO.isNotNull())"
      ]
    },
    {
      "cell_type": "code",
      "execution_count": null,
      "metadata": {
        "colab": {
          "base_uri": "https://localhost:8080/"
        },
        "id": "BdsO97LX6bSs",
        "outputId": "f9ee2b03-b1f6-43ab-e779-4e661f070db5"
      },
      "outputs": [
        {
          "output_type": "execute_result",
          "data": {
            "text/plain": [
              "4771655"
            ]
          },
          "metadata": {},
          "execution_count": 21
        }
      ],
      "source": [
        "df.count()"
      ]
    },
    {
      "cell_type": "code",
      "execution_count": null,
      "metadata": {
        "colab": {
          "base_uri": "https://localhost:8080/"
        },
        "id": "5TxYWPFN-mP5",
        "outputId": "e2d63a57-9387-4a37-e075-388430967c0f"
      },
      "outputs": [
        {
          "output_type": "stream",
          "name": "stdout",
          "text": [
            "+-----------+------------+-------------------+------------------+---------------+---------------------+---------+---+----+-----------------+----+-----------------+\n",
            "|SUMMONS_KEY|SUMMONS_DATE|OFFENSE_DESCRIPTION|LAW_SECTION_NUMBER|LAW_DESCRIPTION|SUMMONS_CATEGORY_TYPE|AGE_GROUP|SEX|RACE|JURISDICTION_CODE|BORO|PRECINCT_OF_OCCUR|\n",
            "+-----------+------------+-------------------+------------------+---------------+---------------------+---------+---+----+-----------------+----+-----------------+\n",
            "+-----------+------------+-------------------+------------------+---------------+---------------------+---------+---+----+-----------------+----+-----------------+\n",
            "\n"
          ]
        }
      ],
      "source": [
        "df.filter(df.BORO.isNull()).show()"
      ]
    },
    {
      "cell_type": "code",
      "execution_count": null,
      "metadata": {
        "colab": {
          "background_save": true
        },
        "id": "lkZeVnh4-ta4",
        "outputId": "01aff0e1-fe7f-41be-9f49-d6540b23746d"
      },
      "outputs": [
        {
          "data": {
            "text/plain": [
              "7364657"
            ]
          },
          "execution_count": null,
          "metadata": {},
          "output_type": "execute_result"
        }
      ],
      "source": [
        "df.count()"
      ]
    },
    {
      "cell_type": "markdown",
      "metadata": {
        "id": "2yoI3xH_tbtM"
      },
      "source": [
        "## Defining checks for outliers in age group"
      ]
    },
    {
      "cell_type": "code",
      "execution_count": null,
      "metadata": {
        "colab": {
          "base_uri": "https://localhost:8080/"
        },
        "id": "DPf0c3XRtMth",
        "outputId": "a4fdb2c8-cf2b-46d7-e58e-134f1ae9fbd3"
      },
      "outputs": [
        {
          "output_type": "stream",
          "name": "stdout",
          "text": [
            "+---------+\n",
            "|AGE_GROUP|\n",
            "+---------+\n",
            "|      919|\n",
            "|      926|\n",
            "|     1008|\n",
            "|      940|\n",
            "|      154|\n",
            "|      317|\n",
            "|      938|\n",
            "|      823|\n",
            "|      351|\n",
            "|      348|\n",
            "|      924|\n",
            "|      951|\n",
            "|      <18|\n",
            "|      813|\n",
            "|      917|\n",
            "|     1013|\n",
            "|      933|\n",
            "|      959|\n",
            "|    25-44|\n",
            "|      928|\n",
            "+---------+\n",
            "only showing top 20 rows\n",
            "\n"
          ]
        }
      ],
      "source": [
        "df.select('AGE_GROUP').distinct().show()"
      ]
    },
    {
      "cell_type": "markdown",
      "metadata": {
        "id": "PupPgsepOcUV"
      },
      "source": [
        "#### There are many invalid age groups like negative values, unrealistically high age groups, etc.\n",
        "\n",
        "#### Lets find all the invalid age groups and replace them with `NaN`"
      ]
    },
    {
      "cell_type": "code",
      "execution_count": null,
      "metadata": {
        "id": "4PZeQuUBtmaT",
        "colab": {
          "base_uri": "https://localhost:8080/"
        },
        "outputId": "502eafd7-868a-45d2-f3a8-a1f7665f33f7"
      },
      "outputs": [
        {
          "output_type": "stream",
          "name": "stdout",
          "text": [
            "+-----------+------------+--------------------+------------------+-------------------+---------------------+---------+----+----+-----------------+---------+-----------------+\n",
            "|SUMMONS_KEY|SUMMONS_DATE| OFFENSE_DESCRIPTION|LAW_SECTION_NUMBER|    LAW_DESCRIPTION|SUMMONS_CATEGORY_TYPE|AGE_GROUP| SEX|RACE|JURISDICTION_CODE|     BORO|PRECINCT_OF_OCCUR|\n",
            "+-----------+------------+--------------------+------------------+-------------------+---------------------+---------+----+----+-----------------+---------+-----------------+\n",
            "|  194874515|  03/19/2019|LICENSE/RECORDS/D...|           2-66(B)|               null|                 null|      NaN|null|null|                0| NEW YORK|                1|\n",
            "|  202635026|  09/19/2019|   OTHER TRAFFIC REG|              9999|                ABC|            OTHER ABC|      NaN|null|null|                0| NEW YORK|                1|\n",
            "|  143517530|  06/04/2015|CONSUMPTION OF AL...|            10-125|Administrative Code|              ALCOHOL|    25-44|   M|null|                0|MANHATTAN|                1|\n",
            "|  188397141|  10/05/2018|        NO TAX STAMP|            11-809|Administrative Code|                  TLC|      NaN|null|null|                0| NEW YORK|                1|\n",
            "|  189597245|  11/05/2018|        NO TAX STAMP|            11-809|Administrative Code|                  TLC|      NaN|null|null|                0| NEW YORK|                1|\n",
            "|  185337706|  07/18/2018|FEDERAL MOTOR VEH...|            CFR 49| NYS Transportation|            NYS TRANS|      NaN|null|null|                0| NEW YORK|                1|\n",
            "|  185768993|  07/30/2018|FEDERAL MOTOR VEH...|            CFR 49| NYS Transportation|            NYS TRANS|      NaN|null|null|                0| NEW YORK|                1|\n",
            "|  186817794|  08/23/2018|FEDERAL MOTOR VEH...|            CFR 49| NYS Transportation|            NYS TRANS|      NaN|null|null|                0| NEW YORK|                1|\n",
            "|  186885202|  08/27/2018|FEDERAL MOTOR VEH...|            CFR 49| NYS Transportation|            NYS TRANS|      NaN|null|null|                0| NEW YORK|                1|\n",
            "|  187336893|  09/07/2018|FEDERAL MOTOR VEH...|            CFR 49| NYS Transportation|            NYS TRANS|      NaN|null|null|                0| NEW YORK|                1|\n",
            "|  188873818|  10/17/2018|FEDERAL MOTOR VEH...|            CFR 49| NYS Transportation|            NYS TRANS|      NaN|null|null|                0| NEW YORK|                1|\n",
            "|  190061785|  11/16/2018|FEDERAL MOTOR VEH...|            CFR 49| NYS Transportation|            NYS TRANS|      NaN|null|null|                0| NEW YORK|                1|\n",
            "|  190160741|  11/19/2018|FEDERAL MOTOR VEH...|            CFR 49| NYS Transportation|            NYS TRANS|      NaN|null|null|                0| NEW YORK|                1|\n",
            "|  191799329|  01/03/2019|FEDERAL MOTOR VEH...|            CFR 49| NYS Transportation|            NYS TRANS|      NaN|null|null|                0| NEW YORK|                1|\n",
            "|  192168629|  01/11/2019|FEDERAL MOTOR VEH...|            CFR 49| NYS Transportation|            NYS TRANS|      NaN|null|null|                0| NEW YORK|                1|\n",
            "|  192274823|  01/14/2019|FEDERAL MOTOR VEH...|            CFR 49| NYS Transportation|            NYS TRANS|      NaN|null|null|                0| NEW YORK|                1|\n",
            "|  200795791|  08/07/2019|FEDERAL MOTOR VEH...|            CFR 49| NYS Transportation|            NYS TRANS|      NaN|null|null|                0| NEW YORK|                1|\n",
            "|  204429607|  10/31/2019|FEDERAL MOTOR VEH...|            CFR 49| NYS Transportation|            NYS TRANS|      NaN|null|null|                0| NEW YORK|                1|\n",
            "|  206815995|  12/22/2019|FEDERAL MOTOR VEH...|            CFR 49| NYS Transportation|            NYS TRANS|      NaN|null|null|                0| NEW YORK|                1|\n",
            "|  206855568|  12/24/2019|FEDERAL MOTOR VEH...|            CFR 49| NYS Transportation|            NYS TRANS|      NaN|null|null|                0| NEW YORK|                1|\n",
            "+-----------+------------+--------------------+------------------+-------------------+---------------------+---------+----+----+-----------------+---------+-----------------+\n",
            "only showing top 20 rows\n",
            "\n"
          ]
        }
      ],
      "source": [
        "valid_age_groups = ['<18','18-24','25-44','45-64','65+',np.NaN]\n",
        "df = df.withColumn('AGE_GROUP', when(df.AGE_GROUP.isin(valid_age_groups), df.AGE_GROUP).otherwise(np.NaN))\n",
        "df.show()"
      ]
    },
    {
      "cell_type": "code",
      "execution_count": null,
      "metadata": {
        "id": "Y4_Sm8jySwhZ",
        "colab": {
          "base_uri": "https://localhost:8080/"
        },
        "outputId": "3d0f8937-2b38-43e2-9aad-db73b3bd3905"
      },
      "outputs": [
        {
          "output_type": "stream",
          "name": "stdout",
          "text": [
            "+---------+\n",
            "|AGE_GROUP|\n",
            "+---------+\n",
            "|      <18|\n",
            "|    25-44|\n",
            "|      65+|\n",
            "|      NaN|\n",
            "|    18-24|\n",
            "|    45-64|\n",
            "+---------+\n",
            "\n"
          ]
        }
      ],
      "source": [
        "df.select('AGE_GROUP').distinct().show()2"
      ]
    },
    {
      "cell_type": "code",
      "execution_count": null,
      "metadata": {
        "id": "JkZU28TmbL-X",
        "colab": {
          "base_uri": "https://localhost:8080/"
        },
        "outputId": "e6480839-60ba-4593-af63-b4ba1ace99f4"
      },
      "outputs": [
        {
          "output_type": "stream",
          "name": "stdout",
          "text": [
            "+-----------+------------+--------------------+------------------+-------------------+---------------------+---------+----+----+-----------------+---------+-----------------+\n",
            "|SUMMONS_KEY|SUMMONS_DATE| OFFENSE_DESCRIPTION|LAW_SECTION_NUMBER|    LAW_DESCRIPTION|SUMMONS_CATEGORY_TYPE|AGE_GROUP| SEX|RACE|JURISDICTION_CODE|     BORO|PRECINCT_OF_OCCUR|\n",
            "+-----------+------------+--------------------+------------------+-------------------+---------------------+---------+----+----+-----------------+---------+-----------------+\n",
            "|  194874515|  03/19/2019|LICENSE/RECORDS/D...|           2-66(B)|               null|                 null|      NaN|null|null|                0| NEW YORK|                1|\n",
            "|  202635026|  09/19/2019|   OTHER TRAFFIC REG|              9999|                ABC|            OTHER ABC|      NaN|null|null|                0| NEW YORK|                1|\n",
            "|  143517530|  06/04/2015|CONSUMPTION OF AL...|            10-125|Administrative Code|              ALCOHOL|    25-44|   M|null|                0|MANHATTAN|                1|\n",
            "|  188397141|  10/05/2018|        NO TAX STAMP|            11-809|Administrative Code|                  TLC|      NaN|null|null|                0| NEW YORK|                1|\n",
            "|  189597245|  11/05/2018|        NO TAX STAMP|            11-809|Administrative Code|                  TLC|      NaN|null|null|                0| NEW YORK|                1|\n",
            "+-----------+------------+--------------------+------------------+-------------------+---------------------+---------+----+----+-----------------+---------+-----------------+\n",
            "only showing top 5 rows\n",
            "\n"
          ]
        }
      ],
      "source": [
        "df.show(n=5)"
      ]
    },
    {
      "cell_type": "code",
      "execution_count": null,
      "metadata": {
        "id": "0jWTxrnVdZ4Q",
        "colab": {
          "base_uri": "https://localhost:8080/"
        },
        "outputId": "cc64d041-d4d5-4438-bd6b-6556e089af1c"
      },
      "outputs": [
        {
          "output_type": "stream",
          "name": "stdout",
          "text": [
            "+---------+\n",
            "|AGE_GROUP|\n",
            "+---------+\n",
            "|      <18|\n",
            "|    25-44|\n",
            "|      65+|\n",
            "|      NaN|\n",
            "|    18-24|\n",
            "|    45-64|\n",
            "+---------+\n",
            "\n"
          ]
        }
      ],
      "source": [
        "df.select('AGE_GROUP').distinct().show()"
      ]
    },
    {
      "cell_type": "code",
      "execution_count": null,
      "metadata": {
        "id": "525Nar0QeH1e",
        "colab": {
          "base_uri": "https://localhost:8080/"
        },
        "outputId": "2fbfe26e-62ff-4a91-c3e4-fd805d207d8d"
      },
      "outputs": [
        {
          "output_type": "stream",
          "name": "stdout",
          "text": [
            "+----------+------------+------------+------------+------------+-----------+----------+-----+--------------------+-----+--------------------+----------------+-----------+---------+-----------------+--------------------+----------------+-----------------+--------+----------+-----------+--------------+---------+--------+----------------+--------------------+--------------------+------------+-------------+--------------------+-------+\n",
            "|CMPLNT_NUM|CMPLNT_FR_DT|CMPLNT_FR_TM|CMPLNT_TO_DT|CMPLNT_TO_TM|ADDR_PCT_CD|    RPT_DT|KY_CD|           OFNS_DESC|PD_CD|             PD_DESC|CRM_ATPT_CPTD_CD| LAW_CAT_CD|  BORO_NM|LOC_OF_OCCUR_DESC|       PREM_TYP_DESC|      JURIS_DESC|JURISDICTION_CODE|PARKS_NM|HADEVELOPT|HOUSING_PSA|SUSP_AGE_GROUP|SUSP_RACE|SUSP_SEX|TRANSIT_DISTRICT|             Lat_Lon|         PATROL_BORO|STATION_NAME|VIC_AGE_GROUP|            VIC_RACE|VIC_SEX|\n",
            "+----------+------------+------------+------------+------------+-----------+----------+-----+--------------------+-----+--------------------+----------------+-----------+---------+-----------------+--------------------+----------------+-----------------+--------+----------+-----------+--------------+---------+--------+----------------+--------------------+--------------------+------------+-------------+--------------------+-------+\n",
            "| 725376861|  04/12/2019|    00:00:00|  06/11/2019|    23:59:00|        110|06/28/2019|  109|       GRAND LARCENY|  424|LARCENY,GRAND BY ...|       COMPLETED|     FELONY|   QUEENS|           INSIDE|     RESIDENCE-HOUSE|N.Y. POLICE DEPT|                0|    null|      null|       null|           NaN|     null|    null|            null|(40.7405001150000...|PATROL BORO QUEEN...|        null|        45-64|ASIAN / PACIFIC I...|      F|\n",
            "| 370244435|  06/28/2019|    00:00:00|  06/29/2019|    21:00:00|          5|07/01/2019|  341|       PETIT LARCENY|  338|LARCENY,PETIT FRO...|       COMPLETED|MISDEMEANOR|MANHATTAN|           INSIDE|         HOTEL/MOTEL|N.Y. POLICE DEPT|                0|    null|      null|       null|           NaN|     null|    null|            null|(40.7178756320000...|PATROL BORO MAN S...|        null|        25-44|ASIAN / PACIFIC I...|      F|\n",
            "| 880330575|  09/30/2019|    00:00:00|  10/01/2019|    23:59:00|         83|10/23/2019|  112|         THEFT-FRAUD|  739|FRAUD,UNCLASSIFIE...|       COMPLETED|     FELONY| BROOKLYN|           INSIDE|RESIDENCE - APT. ...|N.Y. POLICE DEPT|                0|    null|      null|       null|           NaN|     null|    null|            null|(40.6894409620000...|PATROL BORO BKLYN...|        null|        18-24|               BLACK|      F|\n",
            "| 613627146|  10/29/2019|    00:00:00|  10/29/2019|    07:00:00|         67|10/29/2019|  109|       GRAND LARCENY|  421|LARCENY,GRAND FRO...|       COMPLETED|     FELONY| BROOKLYN|           INSIDE|RESIDENCE - APT. ...|N.Y. POLICE DEPT|                0|    null|      null|       null|           NaN|     null|    null|            null|(40.6376247160000...|PATROL BORO BKLYN...|        null|        18-24|               BLACK|      M|\n",
            "| 818330980|  03/01/2019|    00:00:00|  04/27/2019|    06:00:00|         63|04/30/2019|  351|CRIMINAL MISCHIEF...|  258|CRIMINAL MISCHIEF...|       COMPLETED|MISDEMEANOR| BROOKLYN|             null|               OTHER|N.Y. POLICE DEPT|                0|    null|      null|       null|           NaN|     null|    null|            null|(40.6082136860000...|PATROL BORO BKLYN...|        null|          NaN|             UNKNOWN|      E|\n",
            "+----------+------------+------------+------------+------------+-----------+----------+-----+--------------------+-----+--------------------+----------------+-----------+---------+-----------------+--------------------+----------------+-----------------+--------+----------+-----------+--------------+---------+--------+----------------+--------------------+--------------------+------------+-------------+--------------------+-------+\n",
            "only showing top 5 rows\n",
            "\n"
          ]
        }
      ],
      "source": [
        "df.show(n=5)"
      ]
    },
    {
      "cell_type": "markdown",
      "metadata": {
        "id": "9C5Wbu2Hrb4m"
      },
      "source": [
        "### Check for Race Values "
      ]
    },
    {
      "cell_type": "code",
      "execution_count": null,
      "metadata": {
        "id": "mGZ6lAHAoC7m",
        "colab": {
          "base_uri": "https://localhost:8080/"
        },
        "outputId": "d3b558f8-02ab-4d24-f15b-c58be4b84916"
      },
      "outputs": [
        {
          "output_type": "stream",
          "name": "stdout",
          "text": [
            "+--------------------+\n",
            "|                RACE|\n",
            "+--------------------+\n",
            "|               WHITE|\n",
            "|               BLACK|\n",
            "|AMERICAN INDIAN/A...|\n",
            "|                null|\n",
            "|      BLACK HISPANIC|\n",
            "|                   M|\n",
            "|      WHITE HISPANIC|\n",
            "|             UNKNOWN|\n",
            "|               OTHER|\n",
            "|               45-64|\n",
            "|ASIAN / PACIFIC I...|\n",
            "|            HISPANIC|\n",
            "+--------------------+\n",
            "\n"
          ]
        }
      ],
      "source": [
        "df.select('RACE').distinct().show()"
      ]
    },
    {
      "cell_type": "markdown",
      "metadata": {
        "id": "zL4B-B4f2fp2"
      },
      "source": [
        "#### Replace all `UNKNOWN` values with `NaN`"
      ]
    },
    {
      "cell_type": "code",
      "execution_count": null,
      "metadata": {
        "id": "lC0bTJYj2W2Q"
      },
      "outputs": [],
      "source": [
        "from pyspark.sql.functions import regexp_replace\n",
        "\n",
        "df = df.withColumn(\"RACE\",\n",
        "  regexp_replace(\"RACE\", \"UNKNOWN\", \"NaN\"))"
      ]
    },
    {
      "cell_type": "code",
      "execution_count": null,
      "metadata": {
        "id": "Lz15zl4N8e5l",
        "colab": {
          "base_uri": "https://localhost:8080/"
        },
        "outputId": "29003918-93bd-4375-ecb8-d2c35320283b"
      },
      "outputs": [
        {
          "output_type": "stream",
          "name": "stdout",
          "text": [
            "+----------+------------+------------+------------+------------+-----------+----------+-----+--------------------+-----+--------------------+----------------+-----------+-------------+-----------------+--------------------+-------------------+-----------------+--------+----------+-----------+--------------+--------------------+--------+----------------+--------------------+--------------------+------------+-------------+--------------------+-------+\n",
            "|CMPLNT_NUM|CMPLNT_FR_DT|CMPLNT_FR_TM|CMPLNT_TO_DT|CMPLNT_TO_TM|ADDR_PCT_CD|    RPT_DT|KY_CD|           OFNS_DESC|PD_CD|             PD_DESC|CRM_ATPT_CPTD_CD| LAW_CAT_CD|      BORO_NM|LOC_OF_OCCUR_DESC|       PREM_TYP_DESC|         JURIS_DESC|JURISDICTION_CODE|PARKS_NM|HADEVELOPT|HOUSING_PSA|SUSP_AGE_GROUP|           SUSP_RACE|SUSP_SEX|TRANSIT_DISTRICT|             Lat_Lon|         PATROL_BORO|STATION_NAME|VIC_AGE_GROUP|            VIC_RACE|VIC_SEX|\n",
            "+----------+------------+------------+------------+------------+-----------+----------+-----+--------------------+-----+--------------------+----------------+-----------+-------------+-----------------+--------------------+-------------------+-----------------+--------+----------+-----------+--------------+--------------------+--------+----------------+--------------------+--------------------+------------+-------------+--------------------+-------+\n",
            "| 725376861|  04/12/2019|    00:00:00|  06/11/2019|    23:59:00|        110|06/28/2019|  109|       GRAND LARCENY|  424|LARCENY,GRAND BY ...|       COMPLETED|     FELONY|       QUEENS|           INSIDE|     RESIDENCE-HOUSE|   N.Y. POLICE DEPT|                0|    null|      null|       null|           NaN|                null|    null|            null|(40.7405001150000...|PATROL BORO QUEEN...|        null|        45-64|ASIAN / PACIFIC I...|      F|\n",
            "| 370244435|  06/28/2019|    00:00:00|  06/29/2019|    21:00:00|          5|07/01/2019|  341|       PETIT LARCENY|  338|LARCENY,PETIT FRO...|       COMPLETED|MISDEMEANOR|    MANHATTAN|           INSIDE|         HOTEL/MOTEL|   N.Y. POLICE DEPT|                0|    null|      null|       null|           NaN|                null|    null|            null|(40.7178756320000...|PATROL BORO MAN S...|        null|        25-44|ASIAN / PACIFIC I...|      F|\n",
            "| 880330575|  09/30/2019|    00:00:00|  10/01/2019|    23:59:00|         83|10/23/2019|  112|         THEFT-FRAUD|  739|FRAUD,UNCLASSIFIE...|       COMPLETED|     FELONY|     BROOKLYN|           INSIDE|RESIDENCE - APT. ...|   N.Y. POLICE DEPT|                0|    null|      null|       null|           NaN|                null|    null|            null|(40.6894409620000...|PATROL BORO BKLYN...|        null|        18-24|               BLACK|      F|\n",
            "| 613627146|  10/29/2019|    00:00:00|  10/29/2019|    07:00:00|         67|10/29/2019|  109|       GRAND LARCENY|  421|LARCENY,GRAND FRO...|       COMPLETED|     FELONY|     BROOKLYN|           INSIDE|RESIDENCE - APT. ...|   N.Y. POLICE DEPT|                0|    null|      null|       null|           NaN|                null|    null|            null|(40.6376247160000...|PATROL BORO BKLYN...|        null|        18-24|               BLACK|      M|\n",
            "| 818330980|  03/01/2019|    00:00:00|  04/27/2019|    06:00:00|         63|04/30/2019|  351|CRIMINAL MISCHIEF...|  258|CRIMINAL MISCHIEF...|       COMPLETED|MISDEMEANOR|     BROOKLYN|             null|               OTHER|   N.Y. POLICE DEPT|                0|    null|      null|       null|           NaN|                null|    null|            null|(40.6082136860000...|PATROL BORO BKLYN...|        null|          NaN|             UNKNOWN|      E|\n",
            "| 746845448|  05/07/2019|    00:00:00|  05/07/2019|    09:40:00|         13|05/07/2019|  351|CRIMINAL MISCHIEF...|  258|CRIMINAL MISCHIEF...|       COMPLETED|MISDEMEANOR|    MANHATTAN|         FRONT OF| COMMERCIAL BUILDING|   N.Y. POLICE DEPT|                0|    null|      null|       null|           NaN|                null|    null|            null|(40.7419360830000...|PATROL BORO MAN S...|        null|          NaN|             UNKNOWN|      E|\n",
            "| 248773668|  05/18/2019|    00:00:00|  05/18/2019|    16:10:00|        123|05/18/2019|  351|CRIMINAL MISCHIEF...|  258|CRIMINAL MISCHIEF...|       COMPLETED|MISDEMEANOR|STATEN ISLAND|             null|               OTHER|   N.Y. POLICE DEPT|                0|    null|      null|       null|           NaN|                null|    null|            null|(40.5284924000000...|PATROL BORO STATE...|        null|          NaN|             UNKNOWN|      E|\n",
            "| 316734229|  07/10/2019|    00:00:00|  07/10/2019|    16:00:00|         13|07/10/2019|  351|CRIMINAL MISCHIEF...|  258|CRIMINAL MISCHIEF...|       COMPLETED|MISDEMEANOR|    MANHATTAN|         FRONT OF|RESIDENCE - APT. ...|   N.Y. POLICE DEPT|                0|    null|      null|       null|           NaN|                null|    null|            null|(40.7407156540000...|PATROL BORO MAN S...|        null|          NaN|             UNKNOWN|      E|\n",
            "| 420272826|  07/01/2019|    00:00:00|  07/19/2019|    00:00:00|         75|07/19/2019|  351|CRIMINAL MISCHIEF...|  258|CRIMINAL MISCHIEF...|       COMPLETED|MISDEMEANOR|     BROOKLYN|         FRONT OF| COMMERCIAL BUILDING|   N.Y. POLICE DEPT|                0|    null|      null|       null|           NaN|                null|    null|            null|(40.6614876920000...|PATROL BORO BKLYN...|        null|          NaN|             UNKNOWN|      D|\n",
            "| 713844309|  07/19/2019|    00:00:00|        null|        null|         52|07/19/2019|  351|CRIMINAL MISCHIEF...|  258|CRIMINAL MISCHIEF...|       COMPLETED|MISDEMEANOR|        BRONX|         FRONT OF|      GROCERY/BODEGA|   N.Y. POLICE DEPT|                0|    null|      null|       null|           NaN|                null|    null|            null|(40.8668291740000...|   PATROL BORO BRONX|        null|          NaN|             UNKNOWN|      E|\n",
            "| 782404231|  09/21/2019|    00:00:00|  09/21/2019|    16:00:00|         43|09/21/2019|  351|CRIMINAL MISCHIEF...|  258|CRIMINAL MISCHIEF...|       COMPLETED|MISDEMEANOR|        BRONX|           INSIDE|RESIDENCE - APT. ...|   N.Y. POLICE DEPT|                0|    null|      null|       null|           NaN|                null|    null|            null|(40.8312419890000...|   PATROL BORO BRONX|        null|          NaN|             UNKNOWN|      D|\n",
            "| 231920469|  03/20/2019|    00:00:00|  03/20/2019|    01:30:00|         18|03/20/2019|  109|       GRAND LARCENY|  438|LARCENY,GRAND FRO...|       COMPLETED|     FELONY|    MANHATTAN|           INSIDE|         HOTEL/MOTEL|   N.Y. POLICE DEPT|                0|    null|      null|       null|           NaN|      BLACK HISPANIC|       F|            null|(40.7620917460000...|PATROL BORO MAN S...|        null|        45-64|ASIAN / PACIFIC I...|      M|\n",
            "| 154971112|  03/16/2019|    00:00:00|  03/16/2019|    00:10:00|        113|03/16/2019|  106|      FELONY ASSAULT|  109|ASSAULT 2,1,UNCLA...|       COMPLETED|     FELONY|       QUEENS|         FRONT OF|              STREET|   N.Y. POLICE DEPT|                0|    null|      null|       null|         18-24|               BLACK|       F|            null|(40.6835239570000...|PATROL BORO QUEEN...|        null|        18-24|               BLACK|      M|\n",
            "| 857979550|  11/25/2019|    00:00:00|  11/25/2019|    08:00:00|         10|11/25/2019|  344|ASSAULT 3 & RELAT...|  101|           ASSAULT 3|       COMPLETED|MISDEMEANOR|    MANHATTAN|           INSIDE|RESIDENCE - APT. ...|   N.Y. POLICE DEPT|                0|    null|      null|       null|         25-44|ASIAN / PACIFIC I...|       F|            null|(40.7614047600000...|PATROL BORO MAN S...|        null|          NaN|             UNKNOWN|      M|\n",
            "| 537728710|  06/08/2019|    00:00:00|  06/08/2019|    00:03:00|         77|06/08/2019|  578|       HARRASSMENT 2|  637|HARASSMENT,SUBD 1...|       COMPLETED|  VIOLATION|     BROOKLYN|         FRONT OF|RESIDENCE - APT. ...|   N.Y. POLICE DEPT|                0|    null|      null|       null|         25-44|               BLACK|       F|            null|(40.6793273790000...|PATROL BORO BKLYN...|        null|        25-44|      WHITE HISPANIC|      F|\n",
            "| 225393166|  06/23/2019|    00:00:00|  06/23/2019|    00:10:00|         32|06/23/2019|  344|ASSAULT 3 & RELAT...|  101|           ASSAULT 3|       COMPLETED|MISDEMEANOR|    MANHATTAN|             null|              STREET|   N.Y. POLICE DEPT|                0|    null|      null|       null|           NaN|               BLACK|       F|            null|(40.8122090320000...|PATROL BORO MAN N...|        null|        25-44|      WHITE HISPANIC|      F|\n",
            "| 478085458|  03/17/2019|    00:00:00|  03/17/2019|    18:00:00|         63|03/17/2019|  233|          SEX CRIMES|  681|CHILD, ENDANGERIN...|       COMPLETED|MISDEMEANOR|     BROOKLYN|           INSIDE|     RESIDENCE-HOUSE|   N.Y. POLICE DEPT|                0|    null|      null|       null|         25-44|               BLACK|       M|            null|(40.6279777550000...|PATROL BORO BKLYN...|        null|          <18|               BLACK|      M|\n",
            "| 234266084|  03/21/2019|    00:00:00|        null|        null|         28|03/21/2019|  359|OFFENSES AGAINST ...|  748|   CONTEMPT,CRIMINAL|       COMPLETED|MISDEMEANOR|    MANHATTAN|           INSIDE|RESIDENCE - APT. ...|   N.Y. POLICE DEPT|                0|    null|      null|       null|         25-44|               BLACK|       M|            null|(40.8023368530000...|PATROL BORO MAN N...|        null|          65+|               BLACK|      F|\n",
            "| 876889198|  03/30/2019|    00:00:00|  03/30/2019|    09:00:00|         28|03/30/2019|  341|       PETIT LARCENY|  338|LARCENY,PETIT FRO...|       COMPLETED|MISDEMEANOR|    MANHATTAN|           INSIDE|RESIDENCE - APT. ...|   N.Y. POLICE DEPT|                0|    null|      null|       null|         18-24|      BLACK HISPANIC|       M|            null|(40.8077603780000...|PATROL BORO MAN N...|        null|        18-24|               BLACK|      F|\n",
            "| 486137412|  03/30/2019|    00:00:00|  04/01/2019|    00:00:00|         49|04/03/2019|  361|OFF. AGNST PUB OR...|  639|AGGRAVATED HARASS...|       COMPLETED|MISDEMEANOR|        BRONX|           INSIDE|RESIDENCE - PUBLI...|N.Y. HOUSING POLICE|                2|    null|  PARKSIDE|    34805.0|         25-44|               BLACK|       M|            null|(40.8696889320000...|   PATROL BORO BRONX|        null|        25-44|               BLACK|      F|\n",
            "| 143658834|  06/02/2019|    00:00:00|  06/02/2019|    00:10:00|         32|06/02/2019|  109|       GRAND LARCENY|  439|LARCENY,GRAND FRO...|       COMPLETED|     FELONY|    MANHATTAN|           INSIDE|RESIDENCE - APT. ...|   N.Y. POLICE DEPT|                0|    null|      null|       null|         25-44|               BLACK|       M|            null|(40.8160408860000...|PATROL BORO MAN N...|        null|        25-44|               BLACK|      F|\n",
            "| 667045350|  09/15/2019|    00:00:00|        null|        null|         47|09/15/2019|  578|       HARRASSMENT 2|  638|HARASSMENT,SUBD 3...|       COMPLETED|  VIOLATION|        BRONX|           INSIDE|RESIDENCE - PUBLI...|N.Y. HOUSING POLICE|                2|    null|      null|      897.0|         45-64|                 NaN|       M|            null|(40.8861413620000...|   PATROL BORO BRONX|        null|          NaN|             UNKNOWN|      F|\n",
            "| 294231013|  04/04/2019|    00:00:00|  04/04/2019|    00:10:00|         81|04/04/2019|  361|OFF. AGNST PUB OR...|  639|AGGRAVATED HARASS...|       COMPLETED|MISDEMEANOR|     BROOKLYN|           INSIDE|RESIDENCE - APT. ...|   N.Y. POLICE DEPT|                0|    null|      null|       null|         25-44|               WHITE|       M|            null|(40.6876316390000...|PATROL BORO BKLYN...|        null|        45-64|               WHITE|      F|\n",
            "| 279971191|  10/19/2019|    00:00:00|  10/19/2019|    01:00:00|        107|10/19/2019|  578|       HARRASSMENT 2|  638|HARASSMENT,SUBD 3...|       COMPLETED|  VIOLATION|       QUEENS|         FRONT OF|RESIDENCE - APT. ...|   N.Y. POLICE DEPT|                0|    null|      null|       null|         25-44|      WHITE HISPANIC|       M|            null|(40.7127265220000...|PATROL BORO QUEEN...|        null|        25-44|               WHITE|      F|\n",
            "| 239767874|  02/28/2019|    00:00:00|  02/28/2019|    08:15:00|          7|02/28/2019|  578|       HARRASSMENT 2|  638|HARASSMENT,SUBD 3...|       COMPLETED|  VIOLATION|    MANHATTAN|             null|              STREET|   N.Y. POLICE DEPT|                0|    null|      null|       null|         25-44|      WHITE HISPANIC|       M|            null|(40.7150804300000...|PATROL BORO MAN S...|        null|        25-44|      WHITE HISPANIC|      F|\n",
            "| 866892833|  04/15/2019|    00:00:00|  04/15/2019|    00:00:00|        120|04/15/2019|  361|OFF. AGNST PUB OR...|  639|AGGRAVATED HARASS...|       COMPLETED|MISDEMEANOR|STATEN ISLAND|           INSIDE|RESIDENCE - PUBLI...|N.Y. HOUSING POLICE|                2|    null| STAPLETON|     1292.0|         25-44|      WHITE HISPANIC|       M|            null|(40.6217954670000...|PATROL BORO STATE...|        null|        25-44|      WHITE HISPANIC|      F|\n",
            "| 711173437|  03/01/2019|    00:00:00|  03/21/2019|    00:00:00|         52|05/21/2019|  233|          SEX CRIMES|  170|SEXUAL MISCONDUCT...|       COMPLETED|MISDEMEANOR|        BRONX|           INSIDE|RESIDENCE - APT. ...|   N.Y. POLICE DEPT|                0|    null|      null|       null|           NaN|                 NaN|       M|            null|(40.8690585320000...|   PATROL BORO BRONX|        null|          <18|      WHITE HISPANIC|      F|\n",
            "| 374099593|  07/28/2019|    00:00:00|  07/28/2019|    00:27:00|         49|07/28/2019|  116|          SEX CRIMES|  168|            SODOMY 1|       COMPLETED|     FELONY|        BRONX|         FRONT OF|              STREET|   N.Y. POLICE DEPT|                0|    null|      null|       null|         25-44|      WHITE HISPANIC|       M|            null|(40.8561629570000...|   PATROL BORO BRONX|        null|        25-44|      WHITE HISPANIC|      F|\n",
            "| 381729701|  07/09/2019|    00:00:00|  07/09/2019|    01:24:00|         52|07/09/2019|  109|       GRAND LARCENY|  408|LARCENY,GRAND FRO...|       COMPLETED|     FELONY|        BRONX|             null|            BUS STOP|   N.Y. POLICE DEPT|                0|    null|      null|       null|           NaN|                 NaN|       U|            null|(40.8694704770000...|   PATROL BORO BRONX|        null|        45-64|               BLACK|      M|\n",
            "| 599746181|  04/28/2019|    00:00:00|  04/29/2019|    19:00:00|         47|08/17/2019|  341|       PETIT LARCENY|  353|LARCENY,PETIT FRO...|       COMPLETED|MISDEMEANOR|        BRONX|           INSIDE|     RESIDENCE-HOUSE|   N.Y. POLICE DEPT|                0|    null|      null|       null|           NaN|                 NaN|       U|            null|(40.8784851300000...|   PATROL BORO BRONX|        null|        45-64|               BLACK|      M|\n",
            "| 317225772|  03/01/2019|    00:00:00|  03/27/2019|    17:14:00|         24|03/28/2019|  351|CRIMINAL MISCHIEF...|  258|CRIMINAL MISCHIEF...|       COMPLETED|MISDEMEANOR|    MANHATTAN|         FRONT OF|    RESTAURANT/DINER|   N.Y. POLICE DEPT|                0|    null|      null|       null|           NaN|                 NaN|       U|            null|(40.7956087550000...|PATROL BORO MAN N...|        null|          NaN|             UNKNOWN|      D|\n",
            "| 108316202|  06/26/2019|    00:00:00|  06/26/2019|    09:15:00|        112|06/26/2019|  351|CRIMINAL MISCHIEF...|  258|CRIMINAL MISCHIEF...|       COMPLETED|MISDEMEANOR|       QUEENS|             null|              STREET|   N.Y. POLICE DEPT|                0|    null|      null|       null|           NaN|                 NaN|       U|            null|(40.7325205190000...|PATROL BORO QUEEN...|        null|          NaN|             UNKNOWN|      E|\n",
            "| 806673098|  05/26/2019|    00:00:00|  05/26/2019|    05:50:00|         25|05/26/2019|  105|             ROBBERY|  386|ROBBERY,PERSONAL ...|       COMPLETED|     FELONY|    MANHATTAN|         FRONT OF|RESIDENCE - PUBLI...|N.Y. HOUSING POLICE|                2|    null|    WAGNER|      670.0|           NaN|                 NaN|       U|            null|(40.7992718610000...|PATROL BORO MAN N...|        null|        18-24|               WHITE|      M|\n",
            "| 350678862|  12/28/2019|    00:00:00|  12/28/2019|    11:00:00|         81|12/30/2019|  341|       PETIT LARCENY|  339|LARCENY,PETIT FRO...|       COMPLETED|MISDEMEANOR|     BROOKLYN|         FRONT OF|              STREET|   N.Y. POLICE DEPT|                0|    null|      null|       null|           NaN|                 NaN|       U|            null|(40.6937858820000...|PATROL BORO BKLYN...|        null|        18-24|               WHITE|      F|\n",
            "| 262186650|  09/22/2019|    00:00:00|  09/22/2019|    12:20:00|         62|09/22/2019|  341|       PETIT LARCENY|  343|LARCENY,PETIT OF ...|       COMPLETED|MISDEMEANOR|     BROOKLYN|         FRONT OF|RESIDENCE - APT. ...|   N.Y. POLICE DEPT|                0|    null|      null|       null|           NaN|                 NaN|       U|            null|(40.6243612030000...|PATROL BORO BKLYN...|        null|          <18|      WHITE HISPANIC|      M|\n",
            "| 912273330|  09/16/2019|    00:01:00|  09/16/2019|    23:00:00|         84|11/03/2019|  109|       GRAND LARCENY|  422|LARCENY,GRAND BY ...|       COMPLETED|     FELONY|     BROOKLYN|           INSIDE|    RESTAURANT/DINER|   N.Y. POLICE DEPT|                0|    null|      null|       null|           NaN|                null|    null|            null|(40.6910115290000...|PATROL BORO BKLYN...|        null|        25-44|ASIAN / PACIFIC I...|      M|\n",
            "| 465810837|  02/01/2019|    00:01:00|  03/01/2019|    00:00:00|         67|07/17/2019|  341|       PETIT LARCENY|  338|LARCENY,PETIT FRO...|       COMPLETED|MISDEMEANOR|     BROOKLYN|           INSIDE|     RESIDENCE-HOUSE|   N.Y. POLICE DEPT|                0|    null|      null|       null|           NaN|                null|    null|            null|(40.6508455080000...|PATROL BORO BKLYN...|        null|        45-64|               BLACK|      M|\n",
            "| 430838982|  05/10/2019|    00:01:00|  05/10/2019|    00:20:00|         68|05/10/2019|  114|               ARSON|  264|ARSON, MOTOR VEHI...|       COMPLETED|     FELONY|     BROOKLYN|             null|              STREET|   N.Y. POLICE DEPT|                0|    null|      null|       null|           NaN|                null|    null|            null|(40.6184799010000...|PATROL BORO BKLYN...|        null|          NaN|             UNKNOWN|      E|\n",
            "| 176285797|  06/11/2019|    00:01:00|  06/11/2019|    12:06:00|         20|06/11/2019|  351|CRIMINAL MISCHIEF...|  258|CRIMINAL MISCHIEF...|       COMPLETED|MISDEMEANOR|    MANHATTAN|             null|              STREET|   N.Y. POLICE DEPT|                0|    null|      null|       null|           NaN|                null|    null|            null|(40.7824741790000...|PATROL BORO MAN N...|        null|          NaN|             UNKNOWN|      E|\n",
            "| 802612054|  07/31/2019|    00:01:00|  07/31/2019|    23:59:00|         47|08/08/2019|  109|       GRAND LARCENY|  402|LARCENY,GRAND BY ...|       COMPLETED|     FELONY|        BRONX|           INSIDE| COMMERCIAL BUILDING|   N.Y. POLICE DEPT|                0|    null|      null|       null|           NaN|                null|    null|            null|(40.8736362980000...|   PATROL BORO BRONX|        null|          NaN|             UNKNOWN|      D|\n",
            "| 124680052|  12/05/2019|    00:01:00|  12/05/2019|    23:59:00|         19|12/06/2019|  351|CRIMINAL MISCHIEF...|  258|CRIMINAL MISCHIEF...|       COMPLETED|MISDEMEANOR|    MANHATTAN|           INSIDE|RESIDENCE - PUBLI...|N.Y. HOUSING POLICE|                2|    null|      null|    45804.0|           NaN|                null|    null|            null|(40.7822683360000...|PATROL BORO MAN N...|        null|          NaN|             UNKNOWN|      E|\n",
            "| 450449991|  06/28/2019|    00:01:00|  08/12/2019|    00:01:00|         19|08/15/2019|  112|         THEFT-FRAUD|  739|FRAUD,UNCLASSIFIE...|       COMPLETED|     FELONY|    MANHATTAN|           INSIDE|RESIDENCE - APT. ...|   N.Y. POLICE DEPT|                0|    null|      null|       null|           NaN|                null|    null|            null|(40.7689430230000...|PATROL BORO MAN N...|        null|          65+|               WHITE|      M|\n",
            "| 209751983|  04/13/2019|    00:01:00|  04/20/2019|    14:00:00|        115|04/30/2019|  341|       PETIT LARCENY|  349|LARCENY,PETIT OF ...|       COMPLETED|MISDEMEANOR|       QUEENS|           INSIDE|     RESIDENCE-HOUSE|   N.Y. POLICE DEPT|                0|    null|      null|       null|           NaN|                null|    null|            null|(40.7589857310000...|PATROL BORO QUEEN...|        null|        45-64|      WHITE HISPANIC|      M|\n",
            "| 436490279|  03/20/2019|    00:01:00|  03/20/2019|    23:59:00|         90|03/21/2019|  116|          SEX CRIMES|  168|            SODOMY 1|       COMPLETED|     FELONY|     BROOKLYN|           INSIDE|RESIDENCE - APT. ...|   N.Y. POLICE DEPT|                0|    null|      null|       null|           <18|                 NaN|       M|            null|(40.7062220130000...|PATROL BORO BKLYN...|        null|          <18|      BLACK HISPANIC|      M|\n",
            "| 379694587|  01/01/2009|    00:01:00|  12/31/2009|    23:59:00|        109|12/13/2019|  104|                RAPE|  155|              RAPE 2|       ATTEMPTED|     FELONY|       QUEENS|           INSIDE|     RESIDENCE-HOUSE|   N.Y. POLICE DEPT|                0|    null|      null|       null|         18-24|                 NaN|       M|            null|(40.7623342180000...|PATROL BORO QUEEN...|        null|          <18|             UNKNOWN|      F|\n",
            "| 300477037|  07/11/2019|    00:01:00|  07/16/2019|    00:45:00|         52|07/16/2019|  361|OFF. AGNST PUB OR...|  639|AGGRAVATED HARASS...|       COMPLETED|MISDEMEANOR|        BRONX|           INSIDE|RESIDENCE - APT. ...|   N.Y. POLICE DEPT|                0|    null|      null|       null|         18-24|      WHITE HISPANIC|       M|            null|(40.8786809110000...|   PATROL BORO BRONX|        null|        18-24|      WHITE HISPANIC|      F|\n",
            "| 139385364|  06/01/2012|    00:01:00|  06/01/2015|    00:01:00|         46|11/25/2019|  116|          SEX CRIMES|  168|            SODOMY 1|       COMPLETED|     FELONY|        BRONX|           INSIDE|RESIDENCE - APT. ...|   N.Y. POLICE DEPT|                0|    null|      null|       null|         45-64|      WHITE HISPANIC|       M|            null|(40.8539602740000...|   PATROL BORO BRONX|        null|          <18|      WHITE HISPANIC|      F|\n",
            "| 953339413|  05/01/2019|    00:01:00|  12/03/2019|    15:00:00|        108|12/03/2019|  233|          SEX CRIMES|  175|    SEXUAL ABUSE 3,2|       COMPLETED|MISDEMEANOR|       QUEENS|           INSIDE|RESIDENCE - APT. ...|   N.Y. POLICE DEPT|                0|    null|      null|       null|           NaN|      WHITE HISPANIC|       M|            null|(40.7430801680000...|PATROL BORO QUEEN...|        null|        25-44|      WHITE HISPANIC|      F|\n",
            "| 282116113|  05/07/2019|    00:01:00|  05/07/2019|    23:59:00|          9|05/17/2019|  109|       GRAND LARCENY|  432|LARCENY,GRAND BY ...|       COMPLETED|     FELONY|    MANHATTAN|           INSIDE|RESIDENCE - APT. ...|   N.Y. POLICE DEPT|                0|    null|      null|       null|           NaN|                 NaN|       U|            null|(40.7323841010000...|PATROL BORO MAN S...|        null|        25-44|ASIAN / PACIFIC I...|      F|\n",
            "| 488867092|  03/25/2019|    00:01:00|        null|        null|        107|03/26/2019|  351|CRIMINAL MISCHIEF...|  258|CRIMINAL MISCHIEF...|       COMPLETED|MISDEMEANOR|       QUEENS|          REAR OF|     RESIDENCE-HOUSE|   N.Y. POLICE DEPT|                0|    null|      null|       null|           NaN|                 NaN|       U|            null|(40.7212515450000...|PATROL BORO QUEEN...|        null|          NaN|             UNKNOWN|      F|\n",
            "| 960983820|  06/03/2019|    00:01:00|  06/11/2019|    11:03:00|         32|06/13/2019|  109|       GRAND LARCENY|  439|LARCENY,GRAND FRO...|       COMPLETED|     FELONY|    MANHATTAN|         FRONT OF|RESIDENCE - PUBLI...|N.Y. HOUSING POLICE|                2|    null|      null|      741.0|           NaN|                 NaN|       U|            null|(40.8124237910000...|PATROL BORO MAN N...|        null|          NaN|             UNKNOWN|      D|\n",
            "| 386498531|  08/11/2019|    00:01:00|  08/11/2019|    14:20:00|        114|08/11/2019|  121|CRIMINAL MISCHIEF...|  267|MISCHIEF, CRIMINA...|       COMPLETED|     FELONY|       QUEENS|         FRONT OF|              STREET|   N.Y. POLICE DEPT|                0|    null|      null|       null|           NaN|                 NaN|       U|            null|(40.7594736510000...|PATROL BORO QUEEN...|        null|          NaN|             UNKNOWN|      D|\n",
            "| 598460019|  09/19/2019|    00:01:00|  10/31/2019|    23:59:00|         94|11/06/2019|  109|       GRAND LARCENY|  438|LARCENY,GRAND FRO...|       COMPLETED|     FELONY|     BROOKLYN|           INSIDE|              CHURCH|   N.Y. POLICE DEPT|                0|    null|      null|       null|           NaN|                 NaN|       U|            null|(40.7293430570000...|PATROL BORO BKLYN...|        null|          NaN|             UNKNOWN|      D|\n",
            "| 835595451|  05/19/2019|    00:01:00|  05/19/2019|    19:45:00|         18|05/19/2019|  351|CRIMINAL MISCHIEF...|  259|CRIMINAL MISCHIEF...|       COMPLETED|MISDEMEANOR|    MANHATTAN|         FRONT OF|              STREET|   N.Y. POLICE DEPT|                0|    null|      null|       null|           NaN|                 NaN|       U|            null|(40.7615966270000...|PATROL BORO MAN S...|        null|        45-64|               WHITE|      M|\n",
            "| 625259982|  03/30/2019|    00:01:00|  03/30/2019|    06:00:00|         45|03/30/2019|  109|       GRAND LARCENY|  439|LARCENY,GRAND FRO...|       COMPLETED|     FELONY|        BRONX|         FRONT OF|              STREET|   N.Y. POLICE DEPT|                0|    null|      null|       null|           NaN|                 NaN|       U|            null|(40.8427353920000...|   PATROL BORO BRONX|        null|        25-44|      WHITE HISPANIC|      F|\n",
            "| 714709609|  03/30/2019|    00:03:00|  03/30/2019|    01:10:00|         60|03/30/2019|  117|     DANGEROUS DRUGS|  500|CONTROLLED SUBSTA...|       COMPLETED|     FELONY|     BROOKLYN|             null|              STREET|   N.Y. POLICE DEPT|                0|    null|      null|       null|           NaN|                null|    null|            null|(40.5807732420000...|PATROL BORO BKLYN...|        null|          NaN|             UNKNOWN|      E|\n",
            "| 296453904|  07/11/2019|    00:05:00|  07/11/2019|    08:00:00|         49|07/11/2019|  351|CRIMINAL MISCHIEF...|  254|MISCHIEF, CRIMINA...|       COMPLETED|MISDEMEANOR|        BRONX|         FRONT OF|              STREET|   N.Y. POLICE DEPT|                0|    null|      null|       null|           NaN|                null|    null|            null|(40.8567764490000...|   PATROL BORO BRONX|        null|        25-44|ASIAN / PACIFIC I...|      F|\n",
            "| 525823820|  10/24/2019|    00:05:00|  10/24/2019|    06:00:00|         76|10/24/2019|  109|       GRAND LARCENY|  421|LARCENY,GRAND FRO...|       COMPLETED|     FELONY|     BROOKLYN|         FRONT OF|              STREET|   N.Y. POLICE DEPT|                0|    null|      null|       null|           NaN|                null|    null|            null|(40.6853033820000...|PATROL BORO BKLYN...|        null|        25-44|               WHITE|      M|\n",
            "| 770705129|  03/16/2019|    00:05:00|  03/16/2019|    00:10:00|         73|03/16/2019|  106|      FELONY ASSAULT|  109|ASSAULT 2,1,UNCLA...|       COMPLETED|     FELONY|     BROOKLYN|         FRONT OF|      GROCERY/BODEGA|   N.Y. POLICE DEPT|                0|    null|      null|       null|         25-44|ASIAN / PACIFIC I...|       M|            null|(40.6682095030000...|PATROL BORO BKLYN...|        null|        45-64|               BLACK|      M|\n",
            "| 877337973|  08/23/2019|    00:05:00|  10/26/2019|    15:00:00|         83|10/26/2019|  112|         THEFT-FRAUD|  739|FRAUD,UNCLASSIFIE...|       COMPLETED|     FELONY|     BROOKLYN|           INSIDE|     RESIDENCE-HOUSE|   N.Y. POLICE DEPT|                0|    null|      null|       null|           NaN|                 NaN|       U|            null|(40.6954874420000...|PATROL BORO BKLYN...|        null|        25-44|      BLACK HISPANIC|      M|\n",
            "| 742484827|  09/12/2019|    00:10:00|  09/12/2019|    00:20:00|         61|09/12/2019|  344|ASSAULT 3 & RELAT...|  113|MENACING,UNCLASSI...|       COMPLETED|MISDEMEANOR|     BROOKLYN|             null|              STREET|   N.Y. POLICE DEPT|                0|    null|      null|       null|         45-64|ASIAN / PACIFIC I...|       M|            null|(40.5989467610000...|PATROL BORO BKLYN...|        null|        45-64|ASIAN / PACIFIC I...|      M|\n",
            "| 222230960|  03/03/2019|    00:10:00|  03/03/2019|    00:10:00|         18|03/03/2019|  341|       PETIT LARCENY|  321|LARCENY,PETIT FRO...|       COMPLETED|MISDEMEANOR|    MANHATTAN|             null|              STREET|   N.Y. POLICE DEPT|                0|    null|      null|       null|           NaN|                 NaN|       U|            null|(40.7579427340000...|PATROL BORO MAN S...|        null|        18-24|ASIAN / PACIFIC I...|      M|\n",
            "| 314267778|  05/08/2019|    00:10:00|        null|        null|         44|05/08/2019|  344|ASSAULT 3 & RELAT...|  101|           ASSAULT 3|       COMPLETED|MISDEMEANOR|        BRONX|           INSIDE|      GROCERY/BODEGA|   N.Y. POLICE DEPT|                0|    null|      null|       null|           NaN|                 NaN|       U|            null|(40.8347186760000...|   PATROL BORO BRONX|        null|        25-44|      WHITE HISPANIC|      M|\n",
            "| 663441223|  05/02/2019|    00:15:00|  05/02/2019|    00:50:00|         25|05/02/2019|  344|ASSAULT 3 & RELAT...|  101|           ASSAULT 3|       COMPLETED|MISDEMEANOR|    MANHATTAN|           INSIDE|RESIDENCE - APT. ...|   N.Y. POLICE DEPT|                0|    null|      null|       null|         25-44|               WHITE|       M|            null|(40.7965117150000...|PATROL BORO MAN N...|        null|        25-44|      WHITE HISPANIC|      F|\n",
            "| 267203915|  09/08/2019|    00:15:00|  09/08/2019|    00:20:00|         46|09/08/2019|  106|      FELONY ASSAULT|  105|   STRANGULATION 1ST|       COMPLETED|     FELONY|        BRONX|             null|              STREET|   N.Y. POLICE DEPT|                0|    null|      null|       null|         45-64|      BLACK HISPANIC|       M|            null|(40.8451885180000...|   PATROL BORO BRONX|        null|        18-24|      WHITE HISPANIC|      M|\n",
            "| 701248805|  08/02/2019|    00:20:00|  08/02/2019|    08:00:00|        121|08/02/2019|  341|       PETIT LARCENY|  343|LARCENY,PETIT OF ...|       COMPLETED|MISDEMEANOR|STATEN ISLAND|          REAR OF|     RESIDENCE-HOUSE|   N.Y. POLICE DEPT|                0|    null|      null|       null|           NaN|               WHITE|       M|            null|(40.6194914400000...|PATROL BORO STATE...|        null|        25-44|AMERICAN INDIAN/A...|      F|\n",
            "| 956717972|  09/14/2019|    00:20:00|        null|        null|         44|09/14/2019|  351|CRIMINAL MISCHIEF...|  259|CRIMINAL MISCHIEF...|       COMPLETED|MISDEMEANOR|        BRONX|           INSIDE|RESIDENCE - APT. ...|   N.Y. POLICE DEPT|                0|    null|      null|       null|         45-64|               BLACK|       M|            null|(40.8274210470000...|   PATROL BORO BRONX|        null|          NaN|             UNKNOWN|      D|\n",
            "| 593604466|  12/14/2019|    00:20:00|  12/14/2019|    00:23:00|         19|12/14/2019|  341|       PETIT LARCENY|  333|LARCENY,PETIT FRO...|       COMPLETED|MISDEMEANOR|    MANHATTAN|           INSIDE|         CHAIN STORE|   N.Y. POLICE DEPT|                0|    null|      null|       null|           NaN|               BLACK|       U|            null|(40.7707573440000...|PATROL BORO MAN N...|        null|          NaN|             UNKNOWN|      D|\n",
            "| 516384310|  11/23/2019|    00:22:00|  11/23/2019|    00:32:00|          9|11/23/2019|  235|     DANGEROUS DRUGS|  511|CONTROLLED SUBSTA...|       COMPLETED|MISDEMEANOR|    MANHATTAN|         FRONT OF|              STREET|N.Y. HOUSING POLICE|                2|    null|      null|    14762.0|         25-44|               BLACK|       M|            null|(40.7223970990000...|PATROL BORO MAN S...|        null|          NaN|             UNKNOWN|      E|\n",
            "| 186445305|  11/27/2019|    00:25:00|  11/27/2019|    14:20:00|        113|11/29/2019|  361|OFF. AGNST PUB OR...|  639|AGGRAVATED HARASS...|       COMPLETED|MISDEMEANOR|       QUEENS|           INSIDE|RESIDENCE - APT. ...|   N.Y. POLICE DEPT|                0|    null|      null|       null|           NaN|                 NaN|       F|            null|(40.6905817560000...|PATROL BORO QUEEN...|        null|        25-44|      WHITE HISPANIC|      F|\n",
            "| 310037431|  11/12/2019|    00:29:00|  11/12/2019|    00:30:00|        115|11/12/2019|  110|GRAND LARCENY OF ...|  451|LARCENY,GRAND OF ...|       COMPLETED|     FELONY|       QUEENS|         FRONT OF|              STREET|   N.Y. POLICE DEPT|                0|    null|      null|       null|           NaN|                 NaN|       M|            null|(40.7628097670000...|PATROL BORO QUEEN...|        null|        25-44|      WHITE HISPANIC|      M|\n",
            "| 245091668|  05/14/2019|    00:30:00|  05/15/2019|    10:30:00|         45|05/15/2019|  109|       GRAND LARCENY|  421|LARCENY,GRAND FRO...|       COMPLETED|     FELONY|        BRONX|      OPPOSITE OF|              STREET|   N.Y. POLICE DEPT|                0|    null|      null|       null|           NaN|                null|    null|            null|(40.8381366080000...|   PATROL BORO BRONX|        null|        25-44|      BLACK HISPANIC|      M|\n",
            "| 192227310|  03/31/2019|    00:30:00|  03/31/2019|    12:50:00|         50|03/31/2019|  351|CRIMINAL MISCHIEF...|  254|MISCHIEF, CRIMINA...|       COMPLETED|MISDEMEANOR|        BRONX|         FRONT OF|              STREET|   N.Y. POLICE DEPT|                0|    null|      null|       null|           NaN|                null|    null|            null|(40.8862444230000...|   PATROL BORO BRONX|        null|        45-64|      WHITE HISPANIC|      M|\n",
            "| 486986246|  11/14/2019|    00:30:00|  11/14/2019|    12:30:00|         48|11/14/2019|  341|       PETIT LARCENY|  357|LARCENY,PETIT OF ...|       COMPLETED|MISDEMEANOR|        BRONX|             null|              STREET|   N.Y. POLICE DEPT|                0|    null|      null|       null|           NaN|                null|    null|            null|(40.8382488440000...|   PATROL BORO BRONX|        null|        25-44|      WHITE HISPANIC|      M|\n",
            "| 381410102|  12/29/2019|    00:30:00|  12/29/2019|    01:30:00|        103|12/29/2019|  105|             ROBBERY|  397|ROBBERY,OPEN AREA...|       COMPLETED|     FELONY|       QUEENS|             null|              STREET|   N.Y. POLICE DEPT|                0|    null|      null|       null|           NaN|                 NaN|       M|            null|(40.6990218340000...|PATROL BORO QUEEN...|        null|          65+|ASIAN / PACIFIC I...|      F|\n",
            "| 715419188|  03/21/2019|    00:30:00|  03/21/2019|    18:00:00|         69|03/21/2019|  121|CRIMINAL MISCHIEF...|  267|MISCHIEF, CRIMINA...|       COMPLETED|     FELONY|     BROOKLYN|         FRONT OF|              STREET|   N.Y. POLICE DEPT|                0|    null|      null|       null|           NaN|                 NaN|       U|            null|(40.6425967430000...|PATROL BORO BKLYN...|        null|        25-44|               BLACK|      F|\n",
            "| 413269029|  06/02/2019|    00:30:00|  06/02/2019|    00:43:00|         75|06/02/2019|  344|ASSAULT 3 & RELAT...|  101|           ASSAULT 3|       COMPLETED|MISDEMEANOR|     BROOKLYN|           INSIDE|               OTHER|   N.Y. POLICE DEPT|                0|    null|      null|       null|           NaN|                 NaN|       U|            null|(40.6733204480000...|PATROL BORO BKLYN...|        null|        45-64|               BLACK|      M|\n",
            "| 105842235|  10/19/2019|    00:30:00|  10/19/2019|    02:20:00|         48|10/19/2019|  341|       PETIT LARCENY|  321|LARCENY,PETIT FRO...|       COMPLETED|MISDEMEANOR|        BRONX|         FRONT OF|              STREET|   N.Y. POLICE DEPT|                0|    null|      null|       null|           NaN|                 NaN|       U|            null|(40.8424876140000...|   PATROL BORO BRONX|        null|        25-44|      BLACK HISPANIC|      F|\n",
            "| 735762322|  05/31/2019|    00:30:00|  05/31/2019|    00:45:00|          1|05/31/2019|  578|       HARRASSMENT 2|  637|HARASSMENT,SUBD 1...|       COMPLETED|  VIOLATION|    MANHATTAN|         FRONT OF|              STREET|   N.Y. POLICE DEPT|                0|    null|      null|       null|           NaN|                 NaN|       U|            null|(40.7155068890000...|PATROL BORO MAN S...|        null|        45-64|               WHITE|      F|\n",
            "| 981855711|  03/25/2019|    00:34:00|  03/25/2019|    00:36:00|         78|03/25/2019|  341|       PETIT LARCENY|  333|LARCENY,PETIT FRO...|       COMPLETED|MISDEMEANOR|     BROOKLYN|           INSIDE|          DRUG STORE|   N.Y. POLICE DEPT|                0|    null|      null|       null|         25-44|               WHITE|       M|            null|(40.6783260240000...|PATROL BORO BKLYN...|        null|          NaN|             UNKNOWN|      D|\n",
            "| 970868527|  09/10/2019|    00:40:00|  09/10/2019|    00:40:00|          1|09/10/2019|  344|ASSAULT 3 & RELAT...|  101|           ASSAULT 3|       COMPLETED|MISDEMEANOR|    MANHATTAN|           INSIDE|TRANSIT FACILITY ...|     PORT AUTHORITY|                3|    null|      null|       null|         18-24|               BLACK|       F|            null|(40.7204638400000...|PATROL BORO MAN S...|        null|          <18|      WHITE HISPANIC|      F|\n",
            "| 821585701|  12/20/2019|    00:40:00|  12/20/2019|    00:49:00|          6|12/20/2019|  344|ASSAULT 3 & RELAT...|  101|           ASSAULT 3|       COMPLETED|MISDEMEANOR|    MANHATTAN|      OPPOSITE OF|              STREET|   N.Y. POLICE DEPT|                0|    null|      null|       null|           NaN|               WHITE|       M|            null|(40.7327493960000...|PATROL BORO MAN S...|        null|        25-44|               BLACK|      M|\n",
            "| 394246236|  06/29/2019|    00:41:00|  06/29/2019|    00:54:00|         28|06/29/2019|  117|     DANGEROUS DRUGS|  521|CONTROLLED SUBSTA...|       COMPLETED|     FELONY|    MANHATTAN|           INSIDE|      GROCERY/BODEGA|   N.Y. POLICE DEPT|                0|    null|      null|       null|         45-64|      BLACK HISPANIC|       M|            null|(40.8002714030000...|PATROL BORO MAN N...|        null|          NaN|             UNKNOWN|      E|\n",
            "| 155881667|  08/02/2019|    00:45:00|  08/03/2019|    00:00:00|        123|08/03/2019|  347|INTOXICATED & IMP...|  905|INTOXICATED DRIVI...|       COMPLETED|MISDEMEANOR|STATEN ISLAND|             null|              STREET|   N.Y. POLICE DEPT|                0|    null|      null|       null|           NaN|                null|    null|            null|(40.5120382540000...|PATROL BORO STATE...|        null|          NaN|             UNKNOWN|      E|\n",
            "| 320155180|  06/08/2019|    00:45:00|  06/08/2019|    01:00:00|         52|06/08/2019|  109|       GRAND LARCENY|  404|LARCENY,GRAND FRO...|       COMPLETED|     FELONY|        BRONX|         FRONT OF|              STREET|   N.Y. POLICE DEPT|                0|    null|      null|       null|           NaN|                 NaN|       M|            null|(40.8763072910000...|   PATROL BORO BRONX|        null|        25-44|      WHITE HISPANIC|      M|\n",
            "| 658299905|  10/24/2019|    00:45:00|  10/24/2019|    00:50:00|        110|10/24/2019|  344|ASSAULT 3 & RELAT...|  101|           ASSAULT 3|       COMPLETED|MISDEMEANOR|       QUEENS|           INSIDE|RESIDENCE - APT. ...|   N.Y. POLICE DEPT|                0|    null|      null|       null|         18-24|      WHITE HISPANIC|       M|            null|(40.7408441110000...|PATROL BORO QUEEN...|        null|        25-44|      WHITE HISPANIC|      F|\n",
            "| 875759576|  06/04/2019|    00:45:00|  06/04/2019|    00:55:00|        112|06/04/2019|  344|ASSAULT 3 & RELAT...|  101|           ASSAULT 3|       COMPLETED|MISDEMEANOR|       QUEENS|         FRONT OF|              STREET|   N.Y. POLICE DEPT|                0|    null|      null|       null|           NaN|                 NaN|       U|            null|(40.7303889880000...|PATROL BORO QUEEN...|        null|        25-44|      WHITE HISPANIC|      M|\n",
            "| 323048471|  06/23/2019|    00:50:00|  06/23/2019|    01:12:00|        115|06/23/2019|  344|ASSAULT 3 & RELAT...|  113|MENACING,UNCLASSI...|       COMPLETED|MISDEMEANOR|       QUEENS|         FRONT OF|              STREET|   N.Y. POLICE DEPT|                0|    null|      null|       null|           NaN|                null|    null|            null|(40.7568254640000...|PATROL BORO QUEEN...|        null|        18-24|      WHITE HISPANIC|      M|\n",
            "| 593546590|  05/26/2019|    00:50:00|  05/26/2019|    01:03:00|        107|05/26/2019|  347|INTOXICATED & IMP...|  905|INTOXICATED DRIVI...|       COMPLETED|MISDEMEANOR|       QUEENS|      OPPOSITE OF|              STREET|   N.Y. POLICE DEPT|                0|    null|      null|       null|         25-44|               BLACK|       M|            null|(40.7063680010000...|PATROL BORO QUEEN...|        null|          NaN|             UNKNOWN|      E|\n",
            "| 351534686|  06/23/2019|    00:55:00|  06/23/2019|    01:05:00|        109|06/26/2019|  578|       HARRASSMENT 2|  637|HARASSMENT,SUBD 1...|       COMPLETED|  VIOLATION|       QUEENS|         FRONT OF|    RESTAURANT/DINER|   N.Y. POLICE DEPT|                0|    null|      null|       null|         45-64|ASIAN / PACIFIC I...|       F|            null|(40.7622229170000...|PATROL BORO QUEEN...|        null|        45-64|ASIAN / PACIFIC I...|      F|\n",
            "| 287391418|  09/26/2019|    00:55:00|  09/26/2019|    01:00:00|        104|09/26/2019|  344|ASSAULT 3 & RELAT...|  113|MENACING,UNCLASSI...|       COMPLETED|MISDEMEANOR|       QUEENS|         FRONT OF|              STREET|   N.Y. POLICE DEPT|                0|    null|      null|       null|         45-64|               WHITE|       M|            null|(40.7142403190000...|PATROL BORO QUEEN...|        null|        25-44|               WHITE|      M|\n",
            "| 848224259|  03/12/2019|    00:58:00|  03/12/2019|    01:11:00|          1|03/12/2019|  351|CRIMINAL MISCHIEF...|  259|CRIMINAL MISCHIEF...|       COMPLETED|MISDEMEANOR|    MANHATTAN|           INSIDE|    RESTAURANT/DINER|   N.Y. POLICE DEPT|                0|    null|      null|       null|           NaN|                null|    null|            null|(40.7191684250000...|PATROL BORO MAN S...|        null|          NaN|             UNKNOWN|      D|\n",
            "| 942595969|  04/02/2019|    01:00:00|  04/18/2019|    19:00:00|        103|04/18/2019|  121|CRIMINAL MISCHIEF...|  267|MISCHIEF, CRIMINA...|       COMPLETED|     FELONY|       QUEENS|         FRONT OF|              STREET|   N.Y. POLICE DEPT|                0|    null|      null|       null|           NaN|                null|    null|            null|(40.6938235410000...|PATROL BORO QUEEN...|        null|        45-64|               BLACK|      M|\n",
            "| 849665055|  10/15/2019|    01:00:00|  10/15/2019|    01:15:00|        101|10/15/2019|  106|      FELONY ASSAULT|  109|ASSAULT 2,1,UNCLA...|       COMPLETED|     FELONY|       QUEENS|             null|              STREET|   N.Y. POLICE DEPT|                0|    null|      null|       null|           NaN|                null|    null|            null|(40.6026023530000...|PATROL BORO QUEEN...|        null|        25-44|               BLACK|      F|\n",
            "| 505178146|  04/04/2019|    01:00:00|        null|        null|         44|08/27/2019|  341|       PETIT LARCENY|  349|LARCENY,PETIT OF ...|       COMPLETED|MISDEMEANOR|        BRONX|         FRONT OF|              STREET|   N.Y. POLICE DEPT|                0|    null|      null|       null|           NaN|                null|    null|            null|(40.8430010040000...|   PATROL BORO BRONX|        null|        45-64|      BLACK HISPANIC|      M|\n",
            "| 127292591|  07/02/2019|    01:00:00|  07/02/2019|    02:58:00|        115|07/02/2019|  351|CRIMINAL MISCHIEF...|  258|CRIMINAL MISCHIEF...|       COMPLETED|MISDEMEANOR|       QUEENS|          REAR OF|               OTHER|   N.Y. POLICE DEPT|                0|    null|      null|       null|           NaN|                null|    null|            null|(40.7483098630000...|PATROL BORO QUEEN...|        null|          NaN|             UNKNOWN|      E|\n",
            "| 309893416|  09/01/2019|    01:00:00|        null|        null|        106|09/05/2019|  351|CRIMINAL MISCHIEF...|  258|CRIMINAL MISCHIEF...|       COMPLETED|MISDEMEANOR|       QUEENS|          REAR OF|     RESIDENCE-HOUSE|   N.Y. POLICE DEPT|                0|    null|      null|       null|           NaN|                null|    null|            null|(40.6672468330000...|PATROL BORO QUEEN...|        null|          NaN|             UNKNOWN|      E|\n",
            "| 113848024|  05/30/2019|    01:00:00|  05/30/2019|    01:58:00|        122|05/30/2019|  578|       HARRASSMENT 2|  637|HARASSMENT,SUBD 1...|       COMPLETED|  VIOLATION|STATEN ISLAND|           INSIDE|     RESIDENCE-HOUSE|   N.Y. POLICE DEPT|                0|    null|      null|       null|         25-44|               WHITE|       F|            null|(40.5420865680000...|PATROL BORO STATE...|        null|        25-44|               WHITE|      M|\n",
            "| 523626528|  08/29/2019|    01:00:00|  08/29/2019|    06:00:00|         75|09/05/2019|  104|                RAPE|  157|              RAPE 1|       COMPLETED|     FELONY|     BROOKLYN|           INSIDE|         HOTEL/MOTEL|   N.Y. POLICE DEPT|                0|    null|      null|       null|         18-24|               BLACK|       M|            null|(40.6711069110000...|PATROL BORO BKLYN...|        null|        18-24|               BLACK|      F|\n",
            "| 285576618|  10/06/2019|    01:00:00|  10/06/2019|    01:07:00|         67|10/06/2019|  105|             ROBBERY|  397|ROBBERY,OPEN AREA...|       COMPLETED|     FELONY|     BROOKLYN|           INSIDE|   CONSTRUCTION SITE|   N.Y. POLICE DEPT|                0|    null|      null|       null|           NaN|               BLACK|       M|            null|(40.6481310770000...|PATROL BORO BKLYN...|        null|        25-44|               BLACK|      M|\n",
            "+----------+------------+------------+------------+------------+-----------+----------+-----+--------------------+-----+--------------------+----------------+-----------+-------------+-----------------+--------------------+-------------------+-----------------+--------+----------+-----------+--------------+--------------------+--------+----------------+--------------------+--------------------+------------+-------------+--------------------+-------+\n",
            "only showing top 100 rows\n",
            "\n"
          ]
        }
      ],
      "source": [
        "df.show(100)"
      ]
    },
    {
      "cell_type": "code",
      "execution_count": null,
      "metadata": {
        "id": "r-IkJsOz2b5V"
      },
      "outputs": [],
      "source": [
        "df.select('SUSP_RACE').distinct().show()"
      ]
    },
    {
      "cell_type": "markdown",
      "metadata": {
        "id": "9BlHN7RN20P1"
      },
      "source": [
        "### Checks for Suspect & Victim Sex"
      ]
    },
    {
      "cell_type": "code",
      "execution_count": null,
      "metadata": {
        "id": "zsjPnhTAGxNj",
        "colab": {
          "base_uri": "https://localhost:8080/"
        },
        "outputId": "25a956bd-7c9c-4b3e-9568-6e060f93fddf"
      },
      "outputs": [
        {
          "output_type": "stream",
          "name": "stdout",
          "text": [
            "+--------+\n",
            "|SUSP_SEX|\n",
            "+--------+\n",
            "|       F|\n",
            "|    null|\n",
            "|       M|\n",
            "|       U|\n",
            "+--------+\n",
            "\n"
          ]
        }
      ],
      "source": [
        "df.select('SEX').distinct().show()"
      ]
    },
    {
      "cell_type": "markdown",
      "metadata": {
        "id": "GZBTi4BWTtiO"
      },
      "source": [
        "#### Checking values in suspect sex"
      ]
    },
    {
      "cell_type": "code",
      "execution_count": null,
      "metadata": {
        "id": "kTb_dCZlDlHN",
        "colab": {
          "base_uri": "https://localhost:8080/"
        },
        "outputId": "5c5d01b9-ee76-4f61-d272-cb9a17099052"
      },
      "outputs": [
        {
          "output_type": "stream",
          "name": "stdout",
          "text": [
            "+--------+-------+\n",
            "|SUSP_SEX|  count|\n",
            "+--------+-------+\n",
            "|    null|3554679|\n",
            "|       M|2390246|\n",
            "|       F| 755676|\n",
            "|       U| 664056|\n",
            "+--------+-------+\n",
            "\n"
          ]
        }
      ],
      "source": [
        "df.groupBy('SEX').count().orderBy('count', ascending=False).show()"
      ]
    },
    {
      "cell_type": "markdown",
      "metadata": {
        "id": "u50lhakET780"
      },
      "source": [
        "#### Get unique values of offense description in sorted order"
      ]
    },
    {
      "cell_type": "code",
      "execution_count": null,
      "metadata": {
        "id": "P22KLvXgf5qs",
        "colab": {
          "base_uri": "https://localhost:8080/"
        },
        "outputId": "42c054bf-bf15-4bb7-e682-376c00782360"
      },
      "outputs": [
        {
          "output_type": "stream",
          "name": "stdout",
          "text": [
            "+--------------------+\n",
            "|           OFNS_DESC|\n",
            "+--------------------+\n",
            "|                null|\n",
            "|            ABORTION|\n",
            "| ADMINISTRATIVE CODE|\n",
            "|ADMINISTRATIVE CODES|\n",
            "|AGRICULTURE & MRK...|\n",
            "|ALCOHOLIC BEVERAG...|\n",
            "|ANTICIPATORY OFFE...|\n",
            "|               ARSON|\n",
            "|ASSAULT 3 & RELAT...|\n",
            "|     BURGLAR'S TOOLS|\n",
            "|            BURGLARY|\n",
            "|CHILD ABANDONMENT...|\n",
            "|CRIMINAL MISCHIEF...|\n",
            "|   CRIMINAL TRESPASS|\n",
            "|     DANGEROUS DRUGS|\n",
            "|   DANGEROUS WEAPONS|\n",
            "|  DISORDERLY CONDUCT|\n",
            "|DISRUPTION OF A R...|\n",
            "|ENDAN WELFARE INCOMP|\n",
            "|            ESCAPE 3|\n",
            "+--------------------+\n",
            "only showing top 20 rows\n",
            "\n"
          ]
        }
      ],
      "source": [
        "df.select('OFFENSE_DESCRIPTION').distinct().orderBy('OFFENSE_DESCRIPTION', ascending=True).show()"
      ]
    },
    {
      "cell_type": "markdown",
      "metadata": {
        "id": "oXST8FTeUGgZ"
      },
      "source": [
        "#### Getting Total Count of Offense Description"
      ]
    },
    {
      "cell_type": "code",
      "execution_count": null,
      "metadata": {
        "id": "S7qj-jmIMCWL",
        "colab": {
          "base_uri": "https://localhost:8080/"
        },
        "outputId": "222b3a91-8fec-4872-c3c6-794164fc0b36"
      },
      "outputs": [
        {
          "output_type": "execute_result",
          "data": {
            "text/plain": [
              "71"
            ]
          },
          "metadata": {},
          "execution_count": 34
        }
      ],
      "source": [
        "df.select('OFFENSE_DESCRIPTION').distinct().count()"
      ]
    },
    {
      "cell_type": "code",
      "execution_count": null,
      "metadata": {
        "id": "feQGTHyyqflL",
        "colab": {
          "base_uri": "https://localhost:8080/"
        },
        "outputId": "6ab8e4e7-540b-4f76-a324-84ffd4450bf2"
      },
      "outputs": [
        {
          "output_type": "stream",
          "name": "stdout",
          "text": [
            "+--------------------+------+\n",
            "|           OFNS_DESC| count|\n",
            "+--------------------+------+\n",
            "|ANTICIPATORY OFFE...|   128|\n",
            "|   FELONY SEX CRIMES|    18|\n",
            "|NEW YORK CITY HEA...|    93|\n",
            "|OTHER OFFENSES RE...| 16226|\n",
            "|VEHICLE AND TRAFF...| 91734|\n",
            "|KIDNAPPING & RELA...|  2874|\n",
            "|HOMICIDE-NEGLIGEN...|   104|\n",
            "|OFF. AGNST PUB OR...|383063|\n",
            "|PETIT LARCENY OF ...|  1334|\n",
            "|      FELONY ASSAULT|285879|\n",
            "|OFFENSES RELATED ...|  1691|\n",
            "|ALCOHOLIC BEVERAG...|  1277|\n",
            "|CRIMINAL MISCHIEF...|744482|\n",
            "|         THEFT-FRAUD| 76591|\n",
            "|   THEFT OF SERVICES|  4527|\n",
            "|            JOSTLING|   446|\n",
            "|MISCELLANEOUS PEN...|185656|\n",
            "|LOITERING/GAMBLIN...|   245|\n",
            "|               ARSON| 17639|\n",
            "|OFFENSES AGAINST ...| 18157|\n",
            "+--------------------+------+\n",
            "only showing top 20 rows\n",
            "\n"
          ]
        }
      ],
      "source": [
        "df.groupBy('OFFENSE_DESCRIPTION').count().show()"
      ]
    },
    {
      "cell_type": "markdown",
      "metadata": {
        "id": "o7CvGBj3D0z4"
      },
      "source": [
        "#### Each key code represents a particular offense description. There is a one to one mapping. So we would use key code for future analysis instead of offense description."
      ]
    },
    {
      "cell_type": "markdown",
      "metadata": {
        "id": "fZ74ExfCRC4g"
      },
      "source": [
        "#### Calculating the null values present in the data columnwise (with respect to the features)"
      ]
    },
    {
      "cell_type": "code",
      "execution_count": null,
      "metadata": {
        "id": "eNTgn7bW-X-t"
      },
      "outputs": [],
      "source": [
        "df.select([count(when(isnan(c) | col(c).isNull(), c)).alias(c) for c in df.columns]).show()"
      ]
    },
    {
      "cell_type": "markdown",
      "metadata": {
        "id": "5HQvMmXgJSy0"
      },
      "source": [
        "#### Thus, we can see that the percentage of null values per variable has gone considerably down after cleaning. Some variables like 'PARKS_NM', 'HADEVELOPT' and such can have null values as established above. "
      ]
    },
    {
      "cell_type": "code",
      "execution_count": null,
      "metadata": {
        "id": "GzpVkycNq66f"
      },
      "outputs": [],
      "source": [
        "df.groupBy('JURISDICTION_CODE').count().show()"
      ]
    },
    {
      "cell_type": "markdown",
      "metadata": {
        "id": "FI1pGd8s16sd"
      },
      "source": [
        "### Number of columns in Clean Data"
      ]
    },
    {
      "cell_type": "code",
      "execution_count": null,
      "metadata": {
        "id": "rcI9kIjcrRSh"
      },
      "outputs": [],
      "source": [
        "len(df.columns)"
      ]
    },
    {
      "cell_type": "markdown",
      "metadata": {
        "id": "9htIvQ_X10Op"
      },
      "source": [
        "### Number of rows in Clean Data"
      ]
    },
    {
      "cell_type": "code",
      "execution_count": null,
      "metadata": {
        "id": "g-P3OKE21ubz"
      },
      "outputs": [],
      "source": [
        "df.count()"
      ]
    },
    {
      "cell_type": "code",
      "execution_count": null,
      "metadata": {
        "id": "W2RVtvNr38c_"
      },
      "outputs": [],
      "source": [
        "df.printSchema()"
      ]
    },
    {
      "cell_type": "markdown",
      "metadata": {
        "id": "JLIpnxgHVAfM"
      },
      "source": [
        "### **Exporting Clean Data in CSV**\n",
        "\n",
        "The Cleaned Data Set will be saved as `NYPD_Complaint_Data_Historic_Cleaned.csv`"
      ]
    },
    {
      "cell_type": "code",
      "execution_count": null,
      "metadata": {
        "id": "pNEBquVPrUtx"
      },
      "outputs": [],
      "source": [
        "pd_df = df.toPandas()\n",
        "pd_df.to_csv(\"NYPD_Criminal_Court_Summons_Cleaned_Spark.csv\")"
      ]
    }
  ],
  "metadata": {
    "colab": {
      "collapsed_sections": [],
      "name": "NYPD Criminal Court Summons (Historic)",
      "provenance": [],
      "include_colab_link": true
    },
    "kernelspec": {
      "display_name": "Python 3",
      "name": "python3"
    },
    "language_info": {
      "name": "python"
    }
  },
  "nbformat": 4,
  "nbformat_minor": 0
}