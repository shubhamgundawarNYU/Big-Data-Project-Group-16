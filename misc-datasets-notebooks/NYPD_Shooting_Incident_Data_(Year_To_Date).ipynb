{
  "cells": [
    {
      "cell_type": "markdown",
      "metadata": {
        "id": "view-in-github",
        "colab_type": "text"
      },
      "source": [
        "<a href=\"https://colab.research.google.com/github/shubhamgundawarNYU/Big-Data-Project-Group-16/blob/main/misc-datasets-notebooks/NYPD_Shooting_Incident_Data_(Year_To_Date).ipynb\" target=\"_parent\"><img src=\"https://colab.research.google.com/assets/colab-badge.svg\" alt=\"Open In Colab\"/></a>"
      ]
    },
    {
      "cell_type": "markdown",
      "metadata": {
        "id": "7-dJg3ZWVPHJ"
      },
      "source": [
        "##**BIG DATA PROJECT**\n",
        "\n",
        "### NYPD Shooting Incident Data (Year To Date)\n",
        "Link to Dataset (https://data.cityofnewyork.us/Public-Safety/NYPD-Shooting-Incident-Data-Year-To-Date-/5ucz-vwe8)\n",
        "\n",
        "### DATA CLEANING AT SCALE"
      ]
    },
    {
      "cell_type": "markdown",
      "metadata": {
        "id": "dZWscsxWG6BD"
      },
      "source": [
        "#### Mounting Google Drive to Google Collab Notebook to Load the Data Set\n",
        "\n",
        "Make sure you have the dataset in your Google Drive and you mount your drive to the Colab.\n",
        "\n",
        "The file should be at the following path: `gdrive/My Drive/NYPD_Complaint_Data_Historic.csv`\n"
      ]
    },
    {
      "cell_type": "code",
      "execution_count": null,
      "metadata": {
        "colab": {
          "base_uri": "https://localhost:8080/"
        },
        "id": "wSt7ZZI_zSt2",
        "outputId": "f596b07d-936b-4fe6-f168-3e25bdd035d3"
      },
      "outputs": [
        {
          "output_type": "stream",
          "name": "stdout",
          "text": [
            "Mounted at /content/gdrive\n"
          ]
        }
      ],
      "source": [
        "from google.colab import drive \n",
        "drive.mount('/content/gdrive')"
      ]
    },
    {
      "cell_type": "markdown",
      "metadata": {
        "id": "5XTa8wVQHjVm"
      },
      "source": [
        "#### Importing required and Necessary Libraries for cleaning the data present in the data set"
      ]
    },
    {
      "cell_type": "code",
      "execution_count": null,
      "metadata": {
        "id": "IglUIuU9ntFm"
      },
      "outputs": [],
      "source": [
        "import numpy as np\n",
        "import pandas as pd\n",
        "import io"
      ]
    },
    {
      "cell_type": "code",
      "execution_count": null,
      "metadata": {
        "colab": {
          "base_uri": "https://localhost:8080/"
        },
        "id": "a6CbM0l_UnFq",
        "outputId": "36641326-76f8-40cd-b246-8296b418c4ee"
      },
      "outputs": [
        {
          "output_type": "stream",
          "name": "stdout",
          "text": [
            "Collecting pyspark\n",
            "  Downloading pyspark-3.2.0.tar.gz (281.3 MB)\n",
            "\u001b[K     |████████████████████████████████| 281.3 MB 36 kB/s \n",
            "\u001b[?25hCollecting py4j==0.10.9.2\n",
            "  Downloading py4j-0.10.9.2-py2.py3-none-any.whl (198 kB)\n",
            "\u001b[K     |████████████████████████████████| 198 kB 47.3 MB/s \n",
            "\u001b[?25hBuilding wheels for collected packages: pyspark\n",
            "  Building wheel for pyspark (setup.py) ... \u001b[?25l\u001b[?25hdone\n",
            "  Created wheel for pyspark: filename=pyspark-3.2.0-py2.py3-none-any.whl size=281805912 sha256=19f12757fc5024a75592f5909a085d474dc245fb4a302dd5467292b7b82d3725\n",
            "  Stored in directory: /root/.cache/pip/wheels/0b/de/d2/9be5d59d7331c6c2a7c1b6d1a4f463ce107332b1ecd4e80718\n",
            "Successfully built pyspark\n",
            "Installing collected packages: py4j, pyspark\n",
            "Successfully installed py4j-0.10.9.2 pyspark-3.2.0\n"
          ]
        }
      ],
      "source": [
        "!pip install pyspark"
      ]
    },
    {
      "cell_type": "markdown",
      "metadata": {
        "id": "sq8U3BtmhtRx"
      },
      "source": [
        "\n",
        "# **Running Pyspark in Colab**\n",
        "\n",
        "To run spark in Colab, we need to first install all the dependencies in Colab environment i.e. Apache Spark 2.3.2 with hadoop 2.7, Java 8 and Findspark to locate the spark in the system. The tools installation can be carried out inside the Jupyter Notebook of the Colab. One important note is that if you are new in Spark, it is better to avoid Spark 2.4.0 version since some people have already complained about its compatibility issue with python. \n",
        "Follow the steps to install the dependencies:"
      ]
    },
    {
      "cell_type": "code",
      "execution_count": null,
      "metadata": {
        "id": "lh5NCoc8fsSO"
      },
      "outputs": [],
      "source": [
        "!apt-get install openjdk-8-jdk-headless -qq > /dev/null\n",
        "!wget -q https://dlcdn.apache.org/spark/spark-3.2.0/spark-3.2.0-bin-hadoop3.2.tgz\n",
        "!tar xf spark-3.2.0-bin-hadoop3.2.tgz\n",
        "!pip install -q findspark"
      ]
    },
    {
      "cell_type": "markdown",
      "metadata": {
        "id": "ILheUROOhprv"
      },
      "source": [
        "Now that you installed Spark and Java in Colab, it is time to set the environment path which enables you to run Pyspark in your Colab environment. Set the location of Java and Spark by running the following code:"
      ]
    },
    {
      "cell_type": "code",
      "execution_count": null,
      "metadata": {
        "id": "v1b8k_OVf2QF"
      },
      "outputs": [],
      "source": [
        "import os\n",
        "os.environ[\"JAVA_HOME\"] = \"/usr/lib/jvm/java-8-openjdk-amd64\"\n",
        "os.environ[\"SPARK_HOME\"] = \"/content/spark-3.2.0-bin-hadoop3.2\""
      ]
    },
    {
      "cell_type": "markdown",
      "metadata": {
        "id": "KwrqMk3HiMiE"
      },
      "source": [
        "Run a local spark session to test your installation:"
      ]
    },
    {
      "cell_type": "code",
      "execution_count": null,
      "metadata": {
        "id": "9_Uz1NL4gHFx"
      },
      "outputs": [],
      "source": [
        "import findspark\n",
        "findspark.init()\n",
        "from pyspark.sql import SparkSession\n",
        "from pyspark.sql.functions import *\n",
        "from pyspark.sql.types import *\n",
        "spark = SparkSession.builder.getOrCreate()"
      ]
    },
    {
      "cell_type": "markdown",
      "metadata": {
        "id": "Z1n1HPiEIOXF"
      },
      "source": [
        "#### Reading the Data Set CSV File using `spark.read.csv()` Function"
      ]
    },
    {
      "cell_type": "code",
      "execution_count": null,
      "metadata": {
        "id": "NNL-wR74W52g"
      },
      "outputs": [],
      "source": [
        "df = spark.read.csv(\"/content/gdrive/MyDrive/Big Data/NYPD_Shooting_Incident_Data__Year_To_Date_.csv\", inferSchema=True, header =True)"
      ]
    },
    {
      "cell_type": "code",
      "execution_count": null,
      "metadata": {
        "colab": {
          "base_uri": "https://localhost:8080/"
        },
        "id": "IMecwoTS6upe",
        "outputId": "fc2bd461-91ce-4e16-e9ee-ca611929cbef"
      },
      "outputs": [
        {
          "output_type": "execute_result",
          "data": {
            "text/plain": [
              "1531"
            ]
          },
          "metadata": {},
          "execution_count": 8
        }
      ],
      "source": [
        "df.count()"
      ]
    },
    {
      "cell_type": "markdown",
      "metadata": {
        "id": "ZLKtS1rNIjRD"
      },
      "source": [
        "#### Get Data Type for each column present in the Data Set\n",
        "\n",
        "\n"
      ]
    },
    {
      "cell_type": "code",
      "execution_count": null,
      "metadata": {
        "colab": {
          "base_uri": "https://localhost:8080/"
        },
        "id": "tYDkaV6r75y6",
        "outputId": "86c506cb-2533-443a-fb38-7b84292a5f02"
      },
      "outputs": [
        {
          "output_type": "stream",
          "name": "stdout",
          "text": [
            "root\n",
            " |-- INCIDENT_KEY: integer (nullable = true)\n",
            " |-- OCCUR_DATE: string (nullable = true)\n",
            " |-- OCCUR_TIME: string (nullable = true)\n",
            " |-- BORO: string (nullable = true)\n",
            " |-- PRECINCT: integer (nullable = true)\n",
            " |-- JURISDICTION_CODE: integer (nullable = true)\n",
            " |-- LOCATION_DESC: string (nullable = true)\n",
            " |-- STATISTICAL_MURDER_FLAG: boolean (nullable = true)\n",
            " |-- PERP_AGE_GROUP: string (nullable = true)\n",
            " |-- PERP_SEX: string (nullable = true)\n",
            " |-- PERP_RACE: string (nullable = true)\n",
            " |-- VIC_AGE_GROUP: string (nullable = true)\n",
            " |-- VIC_SEX: string (nullable = true)\n",
            " |-- VIC_RACE: string (nullable = true)\n",
            " |-- X_COORD_CD: integer (nullable = true)\n",
            " |-- Y_COORD_CD: integer (nullable = true)\n",
            " |-- Latitude: double (nullable = true)\n",
            " |-- Longitude: double (nullable = true)\n",
            " |-- New Georeferenced Column: string (nullable = true)\n",
            "\n"
          ]
        }
      ],
      "source": [
        "df.printSchema()"
      ]
    },
    {
      "cell_type": "markdown",
      "metadata": {
        "id": "hNCSlJEuJIBS"
      },
      "source": [
        "#### Outputing the List of Columns in the Data Set"
      ]
    },
    {
      "cell_type": "code",
      "execution_count": null,
      "metadata": {
        "colab": {
          "base_uri": "https://localhost:8080/"
        },
        "id": "hApjoVvG9v9Y",
        "outputId": "c403da22-4795-413a-fb15-5c847ae5475b"
      },
      "outputs": [
        {
          "output_type": "execute_result",
          "data": {
            "text/plain": [
              "['INCIDENT_KEY',\n",
              " 'OCCUR_DATE',\n",
              " 'OCCUR_TIME',\n",
              " 'BORO',\n",
              " 'PRECINCT',\n",
              " 'JURISDICTION_CODE',\n",
              " 'LOCATION_DESC',\n",
              " 'STATISTICAL_MURDER_FLAG',\n",
              " 'PERP_AGE_GROUP',\n",
              " 'PERP_SEX',\n",
              " 'PERP_RACE',\n",
              " 'VIC_AGE_GROUP',\n",
              " 'VIC_SEX',\n",
              " 'VIC_RACE',\n",
              " 'X_COORD_CD',\n",
              " 'Y_COORD_CD',\n",
              " 'Latitude',\n",
              " 'Longitude',\n",
              " 'New Georeferenced Column']"
            ]
          },
          "metadata": {},
          "execution_count": 10
        }
      ],
      "source": [
        "df.columns"
      ]
    },
    {
      "cell_type": "markdown",
      "metadata": {
        "id": "LDnW9Gi7Idy4"
      },
      "source": [
        "#### Get top 10 rows of the complaints dataframe"
      ]
    },
    {
      "cell_type": "code",
      "execution_count": null,
      "metadata": {
        "colab": {
          "base_uri": "https://localhost:8080/"
        },
        "id": "AOUrvQEG-UcM",
        "outputId": "74b9a719-5172-44e9-b544-3d57e222a6e1"
      },
      "outputs": [
        {
          "output_type": "stream",
          "name": "stdout",
          "text": [
            "+------------+----------+----------+---------+--------+-----------------+--------------------+-----------------------+--------------+--------+--------------+-------------+-------+--------------+----------+----------+------------------+------------------+------------------------+\n",
            "|INCIDENT_KEY|OCCUR_DATE|OCCUR_TIME|     BORO|PRECINCT|JURISDICTION_CODE|       LOCATION_DESC|STATISTICAL_MURDER_FLAG|PERP_AGE_GROUP|PERP_SEX|     PERP_RACE|VIC_AGE_GROUP|VIC_SEX|      VIC_RACE|X_COORD_CD|Y_COORD_CD|          Latitude|         Longitude|New Georeferenced Column|\n",
            "+------------+----------+----------+---------+--------+-----------------+--------------------+-----------------------+--------------+--------+--------------+-------------+-------+--------------+----------+----------+------------------+------------------+------------------------+\n",
            "|   230162224|06/27/2021|  04:34:00| BROOKLYN|      75|                0|                null|                  false|          null|    null|          null|          <18|      M|         BLACK|   1014210|    182758|40.668262749000064|-73.89200350499993|    POINT (-73.892003...|\n",
            "|   228561932|05/21/2021|  21:06:00| BROOKLYN|      77|                0|                null|                  false|           <18|       M|         BLACK|        25-44|      F|         WHITE|    994341|    185941|40.677044310000035|-73.96362125499998|    POINT (-73.963621...|\n",
            "|   233790860|09/18/2021|  23:17:00|    BRONX|      44|                0|                null|                   true|          null|    null|          null|        18-24|      M|BLACK HISPANIC|   1010270|    246284| 40.84263777600006|-73.90596032999997|    POINT (-73.905960...|\n",
            "|   225295736|03/07/2021|  06:15:00| BROOKLYN|      75|                0|                null|                  false|         25-44|       M|WHITE HISPANIC|        25-44|      F|WHITE HISPANIC|   1020492|    187865| 40.68225681500007|-73.86933111399996|    POINT (-73.869331...|\n",
            "|   227647465|05/01/2021|  00:22:00|    BRONX|      46|                0|                null|                  false|         25-44|       M|         BLACK|        25-44|      M|         BLACK|   1011829|    249524| 40.85152588600005|-73.90031249299993|    POINT (-73.900312...|\n",
            "|   222848394|01/08/2021|  05:50:00|MANHATTAN|      23|                2|MULTI DWELL - PUB...|                  false|         25-44|       M|WHITE HISPANIC|        25-44|      M|WHITE HISPANIC|    998481|    225704| 40.78617829400008|-73.94861158899994|    POINT (-73.948611...|\n",
            "|   229034592|06/02/2021|  14:30:00|    BRONX|      48|                0|                null|                  false|          null|    null|          null|        25-44|      M|WHITE HISPANIC|   1014004|    247798| 40.84678146700002|-73.89245825499995|    POINT (-73.892458...|\n",
            "|   225168411|03/04/2021|  11:40:00|    BRONX|      49|                0|                null|                  false|         25-44|       M|BLACK HISPANIC|        25-44|      M|BLACK HISPANIC|   1021657|    251013| 40.85557657700008|-73.86477926499998|    POINT (-73.864779...|\n",
            "|   224173086|02/09/2021|  19:50:00|   QUEENS|     113|                0|           PVT HOUSE|                  false|          null|    null|          null|        25-44|      M|         BLACK|   1052651|    193294|40.696968027000025|-73.75332736499998|    POINT (-73.753327...|\n",
            "|   230232277|06/29/2021|  15:32:00|MANHATTAN|      34|                0|            HOSPITAL|                  false|          null|    null|          null|        18-24|      M|         BLACK|   1008527|    257284|40.872834434000026|-73.91222001499993|    POINT (-73.912220...|\n",
            "+------------+----------+----------+---------+--------+-----------------+--------------------+-----------------------+--------------+--------+--------------+-------------+-------+--------------+----------+----------+------------------+------------------+------------------------+\n",
            "only showing top 10 rows\n",
            "\n"
          ]
        }
      ],
      "source": [
        "df.show(n=10)"
      ]
    },
    {
      "cell_type": "markdown",
      "metadata": {
        "id": "ygOCZQiaG97V"
      },
      "source": [
        "## We see that the columns `X_COORD_CD`,`Y_COORD_CD`,`Latitude` and `Longitude` conveys the same data as `LatLon`.\n",
        "\n",
        "#### Hence, we drop those columns and keep only `LatLon` column in our cleaned dataset."
      ]
    },
    {
      "cell_type": "code",
      "execution_count": null,
      "metadata": {
        "id": "r51qg2Ji_Ajv"
      },
      "outputs": [],
      "source": [
        "df = df.drop('X_COORD_CD','Y_COORD_CD','Latitude','Longitude')"
      ]
    },
    {
      "cell_type": "code",
      "execution_count": null,
      "metadata": {
        "colab": {
          "base_uri": "https://localhost:8080/"
        },
        "id": "I52xg3GV_jh0",
        "outputId": "ed59aef6-dcb1-442c-83f1-be6553abd99a"
      },
      "outputs": [
        {
          "output_type": "execute_result",
          "data": {
            "text/plain": [
              "['INCIDENT_KEY',\n",
              " 'OCCUR_DATE',\n",
              " 'OCCUR_TIME',\n",
              " 'BORO',\n",
              " 'PRECINCT',\n",
              " 'JURISDICTION_CODE',\n",
              " 'LOCATION_DESC',\n",
              " 'STATISTICAL_MURDER_FLAG',\n",
              " 'PERP_AGE_GROUP',\n",
              " 'PERP_SEX',\n",
              " 'PERP_RACE',\n",
              " 'VIC_AGE_GROUP',\n",
              " 'VIC_SEX',\n",
              " 'VIC_RACE',\n",
              " 'New Georeferenced Column']"
            ]
          },
          "metadata": {},
          "execution_count": 13
        }
      ],
      "source": [
        "df.columns"
      ]
    },
    {
      "cell_type": "markdown",
      "metadata": {
        "id": "xdJS_wPiJaUN"
      },
      "source": [
        "#### Removing all the **duplicate** entries"
      ]
    },
    {
      "cell_type": "code",
      "execution_count": null,
      "metadata": {
        "id": "S2iLHt_GAVJh"
      },
      "outputs": [],
      "source": [
        "df = df.drop_duplicates()"
      ]
    },
    {
      "cell_type": "code",
      "execution_count": null,
      "metadata": {
        "colab": {
          "base_uri": "https://localhost:8080/"
        },
        "id": "o6ec7GPSA5Ol",
        "outputId": "f285bfba-7b38-4772-cc72-c6443b6e5c62"
      },
      "outputs": [
        {
          "output_type": "execute_result",
          "data": {
            "text/plain": [
              "1531"
            ]
          },
          "metadata": {},
          "execution_count": 15
        }
      ],
      "source": [
        "df.count()"
      ]
    },
    {
      "cell_type": "code",
      "execution_count": null,
      "metadata": {
        "colab": {
          "base_uri": "https://localhost:8080/"
        },
        "id": "5BO82obd0N6u",
        "outputId": "f5895f3a-b334-469e-ef24-10ea6ef2ba65"
      },
      "outputs": [
        {
          "output_type": "execute_result",
          "data": {
            "text/plain": [
              "1531"
            ]
          },
          "metadata": {},
          "execution_count": 16
        }
      ],
      "source": [
        "df.distinct().count()"
      ]
    },
    {
      "cell_type": "markdown",
      "metadata": {
        "id": "O4zgb1QPJ02z"
      },
      "source": [
        "#### **Checking** if the complaint number is unique or not"
      ]
    },
    {
      "cell_type": "code",
      "execution_count": null,
      "metadata": {
        "colab": {
          "base_uri": "https://localhost:8080/"
        },
        "id": "R0o2wLm1h4Bo",
        "outputId": "3508d30f-bf26-447c-c552-b9ab91622999"
      },
      "outputs": [
        {
          "output_type": "execute_result",
          "data": {
            "text/plain": [
              "1195"
            ]
          },
          "metadata": {},
          "execution_count": 17
        }
      ],
      "source": [
        "df.select('INCIDENT_KEY').distinct().count()"
      ]
    },
    {
      "cell_type": "markdown",
      "metadata": {
        "id": "M-_iiUuEJ_5c"
      },
      "source": [
        "#### As we can see `CMPLNT_NUM` should have been unique, but it is not.\n",
        "#### Let's see what are the duplicate values."
      ]
    },
    {
      "cell_type": "code",
      "execution_count": null,
      "metadata": {
        "colab": {
          "base_uri": "https://localhost:8080/"
        },
        "id": "869tZgVki68U",
        "outputId": "55025295-c370-4b79-cac7-5769118b5d47"
      },
      "outputs": [
        {
          "output_type": "execute_result",
          "data": {
            "text/plain": [
              "180"
            ]
          },
          "metadata": {},
          "execution_count": 18
        }
      ],
      "source": [
        "df1 = df.groupBy('INCIDENT_KEY').count().filter(\"count > 1\")\n",
        "df1.drop('count').count()"
      ]
    },
    {
      "cell_type": "code",
      "execution_count": null,
      "metadata": {
        "colab": {
          "base_uri": "https://localhost:8080/"
        },
        "id": "WgA4Q88SoGaW",
        "outputId": "f2a471f0-5f3c-4969-b463-1ccdad70f9c7"
      },
      "outputs": [
        {
          "output_type": "stream",
          "name": "stdout",
          "text": [
            "+------------+-----+\n",
            "|INCIDENT_KEY|count|\n",
            "+------------+-----+\n",
            "|   222524733|    2|\n",
            "|   222539215|    2|\n",
            "|   222560300|    2|\n",
            "|   222563766|    4|\n",
            "|   222932692|    8|\n",
            "|   223198985|    4|\n",
            "|   223201958|    2|\n",
            "|   223505522|    2|\n",
            "|   223786434|    2|\n",
            "|   223827862|    2|\n",
            "+------------+-----+\n",
            "only showing top 10 rows\n",
            "\n"
          ]
        }
      ],
      "source": [
        "df1.sort('INCIDENT_KEY').show(n = 10)"
      ]
    },
    {
      "cell_type": "markdown",
      "metadata": {
        "id": "xIXIyTg_LSGf"
      },
      "source": [
        "#### Check for complaint number `100509703`"
      ]
    },
    {
      "cell_type": "code",
      "execution_count": null,
      "metadata": {
        "colab": {
          "base_uri": "https://localhost:8080/"
        },
        "id": "SuNyl3VjmbXH",
        "outputId": "52896271-ffbb-4144-eb8c-a9af31243380"
      },
      "outputs": [
        {
          "output_type": "stream",
          "name": "stdout",
          "text": [
            "+------------+----------+----------+---------+--------+-----------------+-------------+-----------------------+--------------+--------+--------------+-------------+-------+--------------+------------------------+\n",
            "|INCIDENT_KEY|OCCUR_DATE|OCCUR_TIME|     BORO|PRECINCT|JURISDICTION_CODE|LOCATION_DESC|STATISTICAL_MURDER_FLAG|PERP_AGE_GROUP|PERP_SEX|     PERP_RACE|VIC_AGE_GROUP|VIC_SEX|      VIC_RACE|New Georeferenced Column|\n",
            "+------------+----------+----------+---------+--------+-----------------+-------------+-----------------------+--------------+--------+--------------+-------------+-------+--------------+------------------------+\n",
            "|   223786434|01/31/2021|  07:30:00|MANHATTAN|      34|                0|         null|                  false|           <18|       M|BLACK HISPANIC|        25-44|      M|WHITE HISPANIC|    POINT (-73.921487...|\n",
            "|   223786434|01/31/2021|  07:30:00|MANHATTAN|      34|                0|         null|                  false|         18-24|       M|WHITE HISPANIC|        25-44|      M|WHITE HISPANIC|    POINT (-73.921487...|\n",
            "+------------+----------+----------+---------+--------+-----------------+-------------+-----------------------+--------------+--------+--------------+-------------+-------+--------------+------------------------+\n",
            "\n"
          ]
        }
      ],
      "source": [
        "df.filter('INCIDENT_KEY = 223786434').show()"
      ]
    },
    {
      "cell_type": "markdown",
      "metadata": {
        "id": "XG8tNFuBT2YJ"
      },
      "source": [
        "#### We understand, that complaint number is not specifically unique. The dataset has rows with duplicated complaint numbers having unique information for all other columns. Thus, we cannot drop the entries with duplicated complaint numbers."
      ]
    },
    {
      "cell_type": "markdown",
      "metadata": {
        "id": "n96nZ6Pjq9k1"
      },
      "source": [
        "## Find Count of Null, None, NaN of All DataFrame Columns"
      ]
    },
    {
      "cell_type": "code",
      "execution_count": null,
      "metadata": {
        "id": "mxelZ1tgqB74"
      },
      "outputs": [],
      "source": [
        "df.select([count(when(isnan(c) | col(c).isNull(), c)).alias(c) for c in df.columns]\n",
        "   ).show()"
      ]
    },
    {
      "cell_type": "markdown",
      "metadata": {
        "id": "Wt7SOaqwSIfw"
      },
      "source": [
        "#### Get top 5 rows where OCCUR_DATE is NaN"
      ]
    },
    {
      "cell_type": "code",
      "execution_count": null,
      "metadata": {
        "colab": {
          "base_uri": "https://localhost:8080/"
        },
        "id": "OSBt5ZBcpfv2",
        "outputId": "b6d331fa-7276-45eb-d086-273826769475"
      },
      "outputs": [
        {
          "output_type": "stream",
          "name": "stdout",
          "text": [
            "+------------+----------+----------+----+--------+-----------------+-------------+-----------------------+--------------+--------+---------+-------------+-------+--------+------------------------+\n",
            "|INCIDENT_KEY|OCCUR_DATE|OCCUR_TIME|BORO|PRECINCT|JURISDICTION_CODE|LOCATION_DESC|STATISTICAL_MURDER_FLAG|PERP_AGE_GROUP|PERP_SEX|PERP_RACE|VIC_AGE_GROUP|VIC_SEX|VIC_RACE|New Georeferenced Column|\n",
            "+------------+----------+----------+----+--------+-----------------+-------------+-----------------------+--------------+--------+---------+-------------+-------+--------+------------------------+\n",
            "+------------+----------+----------+----+--------+-----------------+-------------+-----------------------+--------------+--------+---------+-------------+-------+--------+------------------------+\n",
            "\n"
          ]
        }
      ],
      "source": [
        "df.where(col('OCCUR_DATE').isNull()).show(n=5)"
      ]
    },
    {
      "cell_type": "markdown",
      "metadata": {
        "id": "0THJK1JWSgtT"
      },
      "source": [
        "### Get rows where either complaint from date or complaint from time is null"
      ]
    },
    {
      "cell_type": "markdown",
      "metadata": {
        "id": "6xl4xqaKSoly"
      },
      "source": [
        "1. There maybe null values in the CMPLNT_TO_DT, CMPLNT_TO_TM, LOC_OF_OCCUR_DESC, PREM_TYP_DESC, PARKS_NM and HADEVELOPT columns. \n",
        "\n",
        "2. LOC_OF_OCCUR_DESC, PREM_TYP_DESC, PARKS_NM and HADEVELOPT need not be present for all the fields so cannot be used to eliminate records.\n",
        "\n",
        "3. However, complaint from date and complaint from time columns cannot have null values. We drop the rows where either complaint from date or complaint from time is null."
      ]
    },
    {
      "cell_type": "code",
      "execution_count": null,
      "metadata": {
        "colab": {
          "base_uri": "https://localhost:8080/"
        },
        "id": "hcjIsxY6S6mt",
        "outputId": "5a8c0191-2cce-46c9-8541-a342ba580634"
      },
      "outputs": [
        {
          "output_type": "execute_result",
          "data": {
            "text/plain": [
              "DataFrame[INCIDENT_KEY: int, OCCUR_DATE: string, OCCUR_TIME: string, BORO: string, PRECINCT: int, JURISDICTION_CODE: int, LOCATION_DESC: string, STATISTICAL_MURDER_FLAG: boolean, PERP_AGE_GROUP: string, PERP_SEX: string, PERP_RACE: string, VIC_AGE_GROUP: string, VIC_SEX: string, VIC_RACE: string, New Georeferenced Column: string]"
            ]
          },
          "metadata": {},
          "execution_count": 24
        }
      ],
      "source": [
        "df.drop(df.OCCUR_DATE.isNull() | df.OCCUR_TIME.isNull())"
      ]
    },
    {
      "cell_type": "code",
      "execution_count": null,
      "metadata": {
        "id": "v7i-_-ckTEQ0"
      },
      "outputs": [],
      "source": [
        "df = df.filter(df.OCCUR_DATE.isNotNull() | df.OCCUR_TIME.isNotNull())"
      ]
    },
    {
      "cell_type": "code",
      "execution_count": null,
      "metadata": {
        "colab": {
          "base_uri": "https://localhost:8080/"
        },
        "id": "VSK0NwkS7gTu",
        "outputId": "9b1396b3-a671-4786-8796-1c451834b0ac"
      },
      "outputs": [
        {
          "output_type": "stream",
          "name": "stdout",
          "text": [
            "+------------+----------+----------+-------------+--------+-----------------+--------------------+-----------------------+--------------+--------+--------------------+-------------+-------+--------------------+------------------------+\n",
            "|INCIDENT_KEY|OCCUR_DATE|OCCUR_TIME|         BORO|PRECINCT|JURISDICTION_CODE|       LOCATION_DESC|STATISTICAL_MURDER_FLAG|PERP_AGE_GROUP|PERP_SEX|           PERP_RACE|VIC_AGE_GROUP|VIC_SEX|            VIC_RACE|New Georeferenced Column|\n",
            "+------------+----------+----------+-------------+--------+-----------------+--------------------+-----------------------+--------------+--------+--------------------+-------------+-------+--------------------+------------------------+\n",
            "|   227221494|04/21/2021|  17:14:00|       QUEENS|     105|                0|                null|                  false|          null|    null|                null|        18-24|      M|               BLACK|    POINT (-73.748024...|\n",
            "|   225285872|03/07/2021|  06:05:00|     BROOKLYN|      73|                0|MULTI DWELL - APT...|                  false|          null|    null|                null|        25-44|      M|      WHITE HISPANIC|    POINT (-73.906190...|\n",
            "|   233172869|09/05/2021|  04:20:00|        BRONX|      47|                0|                null|                  false|          null|    null|                null|        45-64|      M|               BLACK|    POINT (-73.848764...|\n",
            "|   228307361|05/17/2021|  16:47:00|        BRONX|      42|                0|                null|                  false|           <18|       M|               BLACK|          65+|      M|      BLACK HISPANIC|    POINT (-73.886392...|\n",
            "|   223198985|01/16/2021|  12:39:00|    MANHATTAN|      32|                0|MULTI DWELL - APT...|                  false|         18-24|       M|               BLACK|        25-44|      M|               BLACK|    POINT (-73.940100...|\n",
            "|   230162225|06/27/2021|  05:40:00|    MANHATTAN|      32|                0|                null|                  false|          null|    null|                null|        25-44|      M|               BLACK|    POINT (-73.939605...|\n",
            "|   231941628|08/07/2021|  23:16:00|        BRONX|      44|                0|                null|                   true|         25-44|       M|               BLACK|        25-44|      M|               BLACK|    POINT (-73.926716...|\n",
            "|   232291899|08/14/2021|  04:11:00|        BRONX|      46|                0|                null|                  false|          null|    null|                null|        25-44|      M|               BLACK|    POINT (-73.912359...|\n",
            "|   231325837|07/24/2021|  21:57:00|     BROOKLYN|      67|                0|   BEAUTY/NAIL SALON|                  false|         18-24|       F|               BLACK|        45-64|      M|               BLACK|    POINT (-73.942512...|\n",
            "|   223872338|02/02/2021|  11:07:00|     BROOKLYN|      77|                0|MULTI DWELL - APT...|                   true|          null|    null|                null|          65+|      M|               BLACK|    POINT (-73.951386...|\n",
            "|   227127702|04/19/2021|  19:25:00|       QUEENS|     103|                0|      GROCERY/BODEGA|                  false|         18-24|       M|ASIAN / PACIFIC I...|        25-44|      M|      WHITE HISPANIC|    POINT (-73.776655...|\n",
            "|   232887623|08/27/2021|  01:50:00|    MANHATTAN|      34|                0|                null|                  false|          null|    null|                null|        25-44|      M|               BLACK|    POINT (-73.916815...|\n",
            "|   226495968|04/04/2021|  07:13:00|    MANHATTAN|      34|                0|                null|                  false|          null|    null|                null|        25-44|      M|      WHITE HISPANIC|    POINT (-73.918944...|\n",
            "|   222990833|01/12/2021|  22:12:00|     BROOKLYN|      69|                0|                null|                  false|         18-24|       M|               BLACK|        18-24|      M|               BLACK|    POINT (-73.897920...|\n",
            "|   233253334|09/07/2021|  15:00:00|     BROOKLYN|      76|                2|MULTI DWELL - PUB...|                  false|          null|    null|                null|        25-44|      M|               BLACK|    POINT (-74.002622...|\n",
            "|   234070580|09/25/2021|  22:15:00|     BROOKLYN|      76|                2|MULTI DWELL - PUB...|                  false|          null|    null|                null|        18-24|      M|               BLACK|    POINT (-73.986332...|\n",
            "|   227950643|05/06/2021|  10:16:00|     BROOKLYN|      81|                0|      GROCERY/BODEGA|                  false|         25-44|       M|               BLACK|        25-44|      M|      WHITE HISPANIC|    POINT (-73.930543...|\n",
            "|   230508669|07/06/2021|  11:48:00|        BRONX|      40|                0|                null|                  false|          null|    null|                null|          <18|      M|      BLACK HISPANIC|    POINT (-73.918050...|\n",
            "|   224950991|02/26/2021|  22:25:00|     BROOKLYN|      73|                0|MULTI DWELL - APT...|                  false|          null|    null|                null|        18-24|      M|ASIAN / PACIFIC I...|    POINT (-73.918074...|\n",
            "|   232592200|08/21/2021|  06:17:00|        BRONX|      42|                0|                null|                  false|          null|    null|                null|        25-44|      M|               BLACK|    POINT (-73.886248...|\n",
            "|   230815780|07/14/2021|  02:11:00|       QUEENS|     103|                0|                null|                  false|         25-44|       M|               BLACK|        25-44|      M|               BLACK|    POINT (-73.811581...|\n",
            "|   231633081|07/30/2021|  23:02:00|STATEN ISLAND|     121|                0|           PVT HOUSE|                  false|         25-44|       M|               BLACK|          <18|      M|               BLACK|    POINT (-74.160468...|\n",
            "|   225909568|03/20/2021|  00:19:00|    MANHATTAN|      34|                0|                null|                  false|          null|    null|                null|        25-44|      M|      WHITE HISPANIC|    POINT (-73.926571...|\n",
            "|   228307052|05/17/2021|  00:43:00|     BROOKLYN|      67|                0|                null|                   true|         25-44|       M|               BLACK|        25-44|      M|               BLACK|    POINT (-73.917230...|\n",
            "|   231512062|07/28/2021|  13:10:00|       QUEENS|     101|                0|                null|                  false|          null|    null|                null|        25-44|      M|               WHITE|    POINT (-73.751170...|\n",
            "|   225725570|03/16/2021|  03:53:00|        BRONX|      46|                0|                null|                  false|         25-44|       M|      WHITE HISPANIC|        45-64|      M|               BLACK|    POINT (-73.904024...|\n",
            "|   226204063|03/27/2021|  19:30:00|    MANHATTAN|       7|                0|                null|                  false|           <18|       M|               BLACK|          <18|      M|      WHITE HISPANIC|    POINT (-73.978909...|\n",
            "|   232623736|08/23/2021|  17:40:00|    MANHATTAN|      14|                0|                null|                  false|         25-44|       M|               BLACK|        45-64|      M|               WHITE|    POINT (-73.992007...|\n",
            "|   227730192|05/04/2021|  15:00:00|        BRONX|      41|                0|                null|                  false|          null|    null|                null|        18-24|      M|      WHITE HISPANIC|    POINT (-73.895873...|\n",
            "|   223928178|02/03/2021|  21:45:00|        BRONX|      40|                2|MULTI DWELL - PUB...|                   true|         18-24|       M|               BLACK|        25-44|      M|               BLACK|    POINT (-73.916477...|\n",
            "|   229164957|06/06/2021|  01:53:00|        BRONX|      44|                0|                null|                  false|         45-64|       M|      WHITE HISPANIC|        25-44|      M|               BLACK|    POINT (-73.916431...|\n",
            "|   229493100|06/11/2021|  16:29:00|     BROOKLYN|      72|                0|                null|                  false|           <18|       M|      WHITE HISPANIC|        18-24|      M|      WHITE HISPANIC|    POINT (-74.006887...|\n",
            "|   229643172|06/16/2021|  23:22:00|        BRONX|      52|                0|                null|                   true|         18-24|       M|      WHITE HISPANIC|        25-44|      M|               BLACK|    POINT (-73.891313...|\n",
            "|   225601140|03/13/2021|  03:50:00|     BROOKLYN|      90|                0|      BAR/NIGHT CLUB|                  false|         18-24|       M|      BLACK HISPANIC|        18-24|      F|      WHITE HISPANIC|    POINT (-73.936161...|\n",
            "|   228679850|05/25/2021|  20:20:00|        BRONX|      42|                0|                null|                  false|         18-24|       M|      BLACK HISPANIC|        18-24|      M|      WHITE HISPANIC|    POINT (-73.893376...|\n",
            "|   231631686|07/31/2021|  22:40:00|     BROOKLYN|      75|                0|                null|                  false|         25-44|       M|               BLACK|        25-44|      M|      WHITE HISPANIC|    POINT (-73.871603...|\n",
            "|   230805643|07/13/2021|  20:00:00|     BROOKLYN|      75|                0|                null|                  false|          null|    null|                null|        18-24|      M|               BLACK|    POINT (-73.876567...|\n",
            "|   228049709|05/11/2021|  16:54:00|     BROOKLYN|      77|                0|                null|                  false|         18-24|       M|               BLACK|          <18|      M|               BLACK|    POINT (-73.923691...|\n",
            "|   230713945|07/10/2021|  08:54:00|        BRONX|      40|                0|                null|                  false|         18-24|       M|               BLACK|          <18|      M|               BLACK|    POINT (-73.909330...|\n",
            "|   233897874|09/22/2021|  03:30:00|        BRONX|      46|                0|                null|                  false|          null|    null|                null|        18-24|      M|               BLACK|    POINT (-73.900576...|\n",
            "|   232444800|08/18/2021|  20:21:00|     BROOKLYN|      77|                2|MULTI DWELL - PUB...|                   true|          null|    null|                null|          <18|      M|               BLACK|    POINT (-73.926713...|\n",
            "|   224353207|02/13/2021|  02:18:00|        BRONX|      50|                0|                null|                  false|          null|    null|                null|        18-24|      M|      WHITE HISPANIC|    POINT (-73.902889...|\n",
            "|   231965179|08/08/2021|  00:30:00|     BROOKLYN|      75|                0|                null|                   true|          null|    null|                null|        45-64|      M|               BLACK|    POINT (-73.888780...|\n",
            "|   232924796|08/30/2021|  17:37:00|        BRONX|      41|                0|                null|                  false|          null|    null|                null|        18-24|      M|               BLACK|    POINT (-73.889681...|\n",
            "|   226542152|04/05/2021|  22:10:00|        BRONX|      44|                2|MULTI DWELL - PUB...|                  false|          null|    null|                null|        25-44|      F|               BLACK|    POINT (-73.928667...|\n",
            "|   233080845|09/02/2021|  17:42:00|        BRONX|      41|                0|                null|                  false|         18-24|       M|               BLACK|        18-24|      M|               BLACK|    POINT (-73.890330...|\n",
            "|   232946699|08/31/2021|  00:40:00|       QUEENS|     101|                0|                null|                  false|          null|    null|                null|        25-44|      M|               BLACK|    POINT (-73.750117...|\n",
            "|   227730194|05/04/2021|  23:38:00|        BRONX|      44|                0|                null|                  false|          null|    null|                null|          <18|      M|               BLACK|    POINT (-73.918309...|\n",
            "|   228798149|05/27/2021|  15:09:00|    MANHATTAN|      23|                0|                null|                  false|           <18|       M|      BLACK HISPANIC|          <18|      M|      BLACK HISPANIC|    POINT (-73.942210...|\n",
            "|   230412254|07/03/2021|  22:03:00|    MANHATTAN|      23|                0|                null|                  false|          null|    null|                null|        18-24|      M|               BLACK|    POINT (-73.947646...|\n",
            "|   224969506|02/26/2021|  00:46:00|       QUEENS|     102|                0|                null|                   true|          null|    null|                null|        25-44|      M|               BLACK|    POINT (-73.855294...|\n",
            "|   231390983|07/26/2021|  20:15:00|     BROOKLYN|      79|                0|                null|                  false|          null|    null|                null|        25-44|      M|               BLACK|    POINT (-73.948674...|\n",
            "|   229034050|06/02/2021|  04:30:00|       QUEENS|     113|                0|                null|                  false|          null|    null|                null|        25-44|      M|               BLACK|    POINT (-73.758981...|\n",
            "|   230562012|07/07/2021|  16:20:00|       QUEENS|     110|                0|                null|                   true|         18-24|       M|               WHITE|          <18|      M|      WHITE HISPANIC|    POINT (-73.869605...|\n",
            "|   232264784|08/13/2021|  15:50:00|     BROOKLYN|      83|                0|                null|                  false|          null|    null|                null|        25-44|      M|      WHITE HISPANIC|    POINT (-73.907324...|\n",
            "|   224119135|02/08/2021|  14:39:00|     BROOKLYN|      67|                0|MULTI DWELL - APT...|                  false|          null|    null|                null|        25-44|      M|               BLACK|    POINT (-73.943903...|\n",
            "|   230162216|06/25/2021|  14:33:00|        BRONX|      46|                0|                null|                  false|         25-44|       M|      BLACK HISPANIC|        25-44|      M|      WHITE HISPANIC|    POINT (-73.902377...|\n",
            "|   222890075|01/10/2021|  19:46:00|     BROOKLYN|      75|                2|MULTI DWELL - PUB...|                   true|          null|    null|                null|          <18|      M|               BLACK|    POINT (-73.886184...|\n",
            "|   224520344|02/17/2021|  17:15:00|     BROOKLYN|      67|                0|                null|                  false|         18-24|       M|               BLACK|        25-44|      M|               BLACK|    POINT (-73.925952...|\n",
            "|   228559113|05/22/2021|  23:48:00|        BRONX|      42|                0|                null|                  false|          null|    null|                null|        18-24|      M|      BLACK HISPANIC|    POINT (-73.904162...|\n",
            "|   233468972|09/13/2021|  00:35:00|    MANHATTAN|      32|                0|                null|                   true|          null|    null|                null|        18-24|      M|               BLACK|    POINT (-73.938154...|\n",
            "|   225621192|03/14/2021|  19:00:00|        BRONX|      47|                0|MULTI DWELL - APT...|                  false|          null|    null|                null|          <18|      M|               BLACK|    POINT (-73.866141...|\n",
            "|   227730193|05/04/2021|  21:13:00|     BROOKLYN|      73|                0|                null|                  false|          null|    null|                null|        25-44|      M|               BLACK|    POINT (-73.910944...|\n",
            "|   227551204|04/29/2021|  19:30:00|     BROOKLYN|      90|                0|    RESTAURANT/DINER|                  false|         18-24|       M|               BLACK|        25-44|      M|               WHITE|    POINT (-73.961753...|\n",
            "|   230196723|06/28/2021|  22:01:00|        BRONX|      52|                0|                null|                  false|          null|    null|                null|        25-44|      M|               BLACK|    POINT (-73.878781...|\n",
            "|   225934384|03/15/2021|  18:20:00|        BRONX|      46|                0|                null|                  false|           <18|       M|      WHITE HISPANIC|        18-24|      M|               BLACK|    POINT (-73.921411...|\n",
            "|   228062046|05/12/2021|  04:53:00|        BRONX|      46|                0|MULTI DWELL - APT...|                  false|          null|    null|                null|        45-64|      M|               BLACK|    POINT (-73.917195...|\n",
            "|   234143776|09/27/2021|  03:50:00|    MANHATTAN|      34|                0|                null|                  false|         25-44|       M|      BLACK HISPANIC|        25-44|      M|      BLACK HISPANIC|    POINT (-73.916815...|\n",
            "|   231436704|07/26/2021|  20:38:00|    MANHATTAN|      30|                0|                null|                  false|          null|    null|                null|        45-64|      F|      BLACK HISPANIC|    POINT (-73.944838...|\n",
            "|   232632360|08/23/2021|  22:25:00|        BRONX|      40|                0|                null|                   true|         25-44|       M|ASIAN / PACIFIC I...|        25-44|      M|               BLACK|    POINT (-73.915014...|\n",
            "|   232497425|08/19/2021|  13:49:00|     BROOKLYN|      69|                0|                null|                  false|         25-44|       M|               BLACK|        18-24|      M|               BLACK|    POINT (-73.888137...|\n",
            "|   227401020|04/27/2021|  00:40:00|    MANHATTAN|      28|                0|                null|                  false|          null|    null|                null|        45-64|      M|               BLACK|    POINT (-73.951844...|\n",
            "|   233307769|09/08/2021|  23:48:00|        BRONX|      46|                0|                null|                  false|         25-44|       M|      BLACK HISPANIC|        18-24|      M|               BLACK|    POINT (-73.900591...|\n",
            "|   231965060|08/07/2021|  23:18:00|     BROOKLYN|      75|                0|                null|                  false|         18-24|       M|               BLACK|        25-44|      M|               BLACK|    POINT (-73.893465...|\n",
            "|   230448650|07/04/2021|  18:20:00|        BRONX|      41|                0|                null|                  false|          null|    null|                null|        25-44|      M|               BLACK|    POINT (-73.888855...|\n",
            "|   232264785|08/13/2021|  16:10:00|        BRONX|      44|                0|                null|                  false|          null|    null|                null|        25-44|      M|               BLACK|    POINT (-73.919457...|\n",
            "|   231351984|07/24/2021|  02:46:00|       QUEENS|     103|                0|                null|                   true|         18-24|       M|      WHITE HISPANIC|        18-24|      M|      BLACK HISPANIC|    POINT (-73.801603...|\n",
            "|   226654026|04/07/2021|  02:07:00|    MANHATTAN|      14|                0|                null|                  false|         18-24|       M|               BLACK|        25-44|      M|               WHITE|    POINT (-73.991634...|\n",
            "|   227174349|04/20/2021|  22:53:00|    MANHATTAN|      26|                0|                null|                  false|          null|    null|                null|        25-44|      M|               BLACK|    POINT (-73.956284...|\n",
            "|   233429422|09/11/2021|  15:13:00|     BROOKLYN|      73|                0|                null|                  false|          null|    null|                null|        25-44|      M|               BLACK|    POINT (-73.920247...|\n",
            "|   226542152|04/05/2021|  22:10:00|        BRONX|      44|                2|MULTI DWELL - PUB...|                  false|          null|    null|                null|        45-64|      M|               BLACK|    POINT (-73.928667...|\n",
            "|   234143776|09/27/2021|  03:50:00|    MANHATTAN|      34|                0|                null|                  false|         25-44|       M|      BLACK HISPANIC|        25-44|      M|      WHITE HISPANIC|    POINT (-73.916815...|\n",
            "|   229822333|06/19/2021|  23:29:00|     BROOKLYN|      67|                0|                null|                  false|          null|    null|                null|        45-64|      M|               BLACK|    POINT (-73.951016...|\n",
            "|   234268729|09/29/2021|  12:50:00|        BRONX|      48|                0|                null|                  false|          null|    null|                null|        18-24|      M|               BLACK|    POINT (-73.882203...|\n",
            "|   229643172|06/16/2021|  23:22:00|        BRONX|      52|                0|                null|                  false|         25-44|       M|               BLACK|        25-44|      M|               BLACK|    POINT (-73.891313...|\n",
            "|   227550941|04/29/2021|  21:20:00|        BRONX|      42|                0|                null|                   true|         25-44|       M|               BLACK|        25-44|      M|               BLACK|    POINT (-73.902887...|\n",
            "|   230234499|06/29/2021|  19:40:00|    MANHATTAN|      23|                2|MULTI DWELL - PUB...|                  false|          null|    null|                null|          <18|      M|               BLACK|    POINT (-73.941869...|\n",
            "|   223102547|01/14/2021|  18:27:00|     BROOKLYN|      75|                0|MULTI DWELL - APT...|                  false|          null|    null|                null|        18-24|      M|               BLACK|    POINT (-73.895027...|\n",
            "|   229034592|06/02/2021|  14:30:00|        BRONX|      48|                0|                null|                  false|          null|    null|                null|        25-44|      M|      WHITE HISPANIC|    POINT (-73.892458...|\n",
            "|   224817401|02/24/2021|  16:40:00|    MANHATTAN|      25|                0|                null|                  false|         18-24|       M|      WHITE HISPANIC|          <18|      M|               BLACK|    POINT (-73.939258...|\n",
            "|   231965177|08/07/2021|  02:44:00|     BROOKLYN|      73|                2|MULTI DWELL - PUB...|                  false|          null|    null|                null|        25-44|      M|               BLACK|    POINT (-73.921447...|\n",
            "|   232888019|08/27/2021|  00:06:00|    MANHATTAN|      33|                0|                null|                  false|         25-44|       M|      WHITE HISPANIC|        18-24|      M|      BLACK HISPANIC|    POINT (-73.943181...|\n",
            "|   227665924|05/03/2021|  00:18:00|     BROOKLYN|      69|                2|MULTI DWELL - PUB...|                  false|          null|    null|                null|        25-44|      M|               BLACK|    POINT (-73.884045...|\n",
            "|   223827862|02/01/2021|  22:20:00|        BRONX|      48|                0|MULTI DWELL - APT...|                  false|         18-24|       M|      WHITE HISPANIC|        25-44|      F|      BLACK HISPANIC|    POINT (-73.895330...|\n",
            "|   226654024|04/07/2021|  00:24:00|        BRONX|      42|                2|MULTI DWELL - PUB...|                   true|         18-24|       M|               BLACK|        18-24|      M|               BLACK|    POINT (-73.900571...|\n",
            "|   230717903|07/11/2021|  01:09:00|     BROOKLYN|      79|                0|                null|                  false|           <18|       M|               BLACK|        45-64|      M|               BLACK|    POINT (-73.955669...|\n",
            "|   233459106|09/10/2021|  17:35:00|     BROOKLYN|      79|                2|MULTI DWELL - PUB...|                  false|          null|    null|                null|        25-44|      M|               BLACK|    POINT (-73.949681...|\n",
            "|   229188687|06/05/2021|  21:30:00|       QUEENS|     101|                0|           PVT HOUSE|                  false|         25-44|       M|               BLACK|        25-44|      M|               BLACK|    POINT (-73.776482...|\n",
            "|   232931111|08/31/2021|  00:55:00|       QUEENS|     103|                0|                null|                   true|          null|    null|                null|        25-44|      M|               BLACK|    POINT (-73.773195...|\n",
            "|   227950638|05/05/2021|  18:17:00|        BRONX|      48|                0|                null|                  false|          null|    null|                null|        25-44|      M|      BLACK HISPANIC|    POINT (-73.881415...|\n",
            "+------------+----------+----------+-------------+--------+-----------------+--------------------+-----------------------+--------------+--------+--------------------+-------------+-------+--------------------+------------------------+\n",
            "only showing top 100 rows\n",
            "\n"
          ]
        }
      ],
      "source": [
        "df.show(100)"
      ]
    },
    {
      "cell_type": "markdown",
      "metadata": {
        "id": "xQB6VENfU63C"
      },
      "source": [
        "Check if minimum and maximum values of date and time are valid or not. The value of time cannot be 24:00:00. "
      ]
    },
    {
      "cell_type": "code",
      "execution_count": null,
      "metadata": {
        "colab": {
          "base_uri": "https://localhost:8080/"
        },
        "id": "vVavFmZSuUoz",
        "outputId": "48c72a52-abf1-4f3e-8f7f-bbbc679b7e92"
      },
      "outputs": [
        {
          "output_type": "stream",
          "name": "stdout",
          "text": [
            "+---------------+\n",
            "|min(OCCUR_TIME)|\n",
            "+---------------+\n",
            "|       00:00:00|\n",
            "+---------------+\n",
            "\n"
          ]
        }
      ],
      "source": [
        "## Minimum value of the column in pyspark\n",
        "df.agg({'OCCUR_TIME': 'min'}).show()"
      ]
    },
    {
      "cell_type": "code",
      "execution_count": null,
      "metadata": {
        "colab": {
          "base_uri": "https://localhost:8080/"
        },
        "id": "Tono32lCucBj",
        "outputId": "b77d6e52-9c01-4c02-d442-57bcf78cb668"
      },
      "outputs": [
        {
          "output_type": "stream",
          "name": "stdout",
          "text": [
            "+---------------+\n",
            "|max(OCCUR_TIME)|\n",
            "+---------------+\n",
            "|       23:57:00|\n",
            "+---------------+\n",
            "\n"
          ]
        }
      ],
      "source": [
        "## Maximum value of the column in pyspark\n",
        "df.agg({'OCCUR_TIME': 'max'}).show()"
      ]
    },
    {
      "cell_type": "code",
      "execution_count": null,
      "metadata": {
        "colab": {
          "base_uri": "https://localhost:8080/"
        },
        "id": "8papMV3_W4Bj",
        "outputId": "d7973b1c-6211-4ddc-938a-5f2bf350b6be"
      },
      "outputs": [
        {
          "output_type": "stream",
          "name": "stdout",
          "text": [
            "+---------------+\n",
            "|min(OCCUR_DATE)|\n",
            "+---------------+\n",
            "|     01/01/2021|\n",
            "+---------------+\n",
            "\n"
          ]
        }
      ],
      "source": [
        "df.agg({'OCCUR_DATE': 'min'}).show()"
      ]
    },
    {
      "cell_type": "code",
      "execution_count": null,
      "metadata": {
        "colab": {
          "base_uri": "https://localhost:8080/"
        },
        "id": "tPxH9P8RW4OM",
        "outputId": "61928963-8cbb-4422-f505-fee7f8cd1d5c"
      },
      "outputs": [
        {
          "output_type": "stream",
          "name": "stdout",
          "text": [
            "+---------------+\n",
            "|max(OCCUR_DATE)|\n",
            "+---------------+\n",
            "|     09/30/2021|\n",
            "+---------------+\n",
            "\n"
          ]
        }
      ],
      "source": [
        "df.agg({'OCCUR_DATE': 'max'}).show()"
      ]
    },
    {
      "cell_type": "markdown",
      "metadata": {
        "id": "StfFUDBsc_8R"
      },
      "source": [
        "**Some basic data quality checks are as below:**\n",
        "1. Check if there are no garbage values in the location of occurence description column. The valid values that this column should ideally contain are: 'FRONT OF', 'REAR OF', 'OUTSIDE', 'INSIDE', 'OPPOSITE OF'\n",
        "2. Check if there are no garbage values in law category column. The valid values are: 'FELONY', 'VIOLATION', 'MISDEMEANOR'\n",
        "3. Check if there are no misspellings in Borough Name. There should be 5 distinct boroughs: Manhattan, Bronx, Queens, Brooklyn, Staten Island. We implement unique method, in case of misspellings multiple values of the same borough would be returned.\n",
        "4. Check if 'CRM_ATPT_CPTD_CD' column has no garbage value. The only acceptable values are Completed or Attempted.\n",
        "5. Ideally, key code should contain only 3 digits. Implementing a check below to see if there are any invalid values for the key code. "
      ]
    },
    {
      "cell_type": "code",
      "execution_count": null,
      "metadata": {
        "colab": {
          "base_uri": "https://localhost:8080/"
        },
        "id": "bMCP753walMv",
        "outputId": "028142a9-57b8-46d2-ced1-5a900d1d0963"
      },
      "outputs": [
        {
          "output_type": "stream",
          "name": "stdout",
          "text": [
            "+--------------------+\n",
            "|       LOCATION_DESC|\n",
            "+--------------------+\n",
            "|     COMMERCIAL BLDG|\n",
            "|            HOSPITAL|\n",
            "|           FAST FOOD|\n",
            "|                null|\n",
            "|                BANK|\n",
            "|      GROCERY/BODEGA|\n",
            "|         GAS STATION|\n",
            "|MULTI DWELL - PUB...|\n",
            "|          DEPT STORE|\n",
            "|         HOTEL/MOTEL|\n",
            "|    RESTAURANT/DINER|\n",
            "|           PVT HOUSE|\n",
            "|      BAR/NIGHT CLUB|\n",
            "|MULTI DWELL - APT...|\n",
            "|   BEAUTY/NAIL SALON|\n",
            "+--------------------+\n",
            "\n"
          ]
        }
      ],
      "source": [
        "df.select('LOCATION_DESC').distinct().show()"
      ]
    },
    {
      "cell_type": "markdown",
      "metadata": {
        "id": "GZowh0na-VjI"
      },
      "source": [
        "### Checks for Borough Name"
      ]
    },
    {
      "cell_type": "code",
      "execution_count": null,
      "metadata": {
        "colab": {
          "base_uri": "https://localhost:8080/"
        },
        "id": "8EkBxmg_bOue",
        "outputId": "e03b02aa-40ad-4f5c-aef9-0998e6343a26"
      },
      "outputs": [
        {
          "output_type": "stream",
          "name": "stdout",
          "text": [
            "+-------------+\n",
            "|         BORO|\n",
            "+-------------+\n",
            "|       QUEENS|\n",
            "|     BROOKLYN|\n",
            "|        BRONX|\n",
            "|    MANHATTAN|\n",
            "|STATEN ISLAND|\n",
            "+-------------+\n",
            "\n"
          ]
        }
      ],
      "source": [
        "df.select('BORO').distinct().show()"
      ]
    },
    {
      "cell_type": "markdown",
      "metadata": {
        "id": "CLGPDp3OAdxF"
      },
      "source": [
        "We can see there are no misspellings for the Borough names and thus no need for additional data correction for the same."
      ]
    },
    {
      "cell_type": "code",
      "execution_count": null,
      "metadata": {
        "colab": {
          "base_uri": "https://localhost:8080/"
        },
        "id": "TGS80nUK-O1f",
        "outputId": "ed777967-63ae-4d33-f665-fd43a49f3b19"
      },
      "outputs": [
        {
          "output_type": "stream",
          "name": "stdout",
          "text": [
            "+------------+----------+----------+----+--------+-----------------+-------------+-----------------------+--------------+--------+---------+-------------+-------+--------+------------------------+\n",
            "|INCIDENT_KEY|OCCUR_DATE|OCCUR_TIME|BORO|PRECINCT|JURISDICTION_CODE|LOCATION_DESC|STATISTICAL_MURDER_FLAG|PERP_AGE_GROUP|PERP_SEX|PERP_RACE|VIC_AGE_GROUP|VIC_SEX|VIC_RACE|New Georeferenced Column|\n",
            "+------------+----------+----------+----+--------+-----------------+-------------+-----------------------+--------------+--------+---------+-------------+-------+--------+------------------------+\n",
            "+------------+----------+----------+----+--------+-----------------+-------------+-----------------------+--------------+--------+---------+-------------+-------+--------+------------------------+\n",
            "\n"
          ]
        }
      ],
      "source": [
        "df.where(col('BORO').isNull()).show()"
      ]
    },
    {
      "cell_type": "markdown",
      "metadata": {
        "id": "8PBAVylwS6md"
      },
      "source": [
        "#### Dropping Rows where Borough Name is NULL"
      ]
    },
    {
      "cell_type": "code",
      "execution_count": null,
      "metadata": {
        "id": "3lxbjLgg37V8"
      },
      "outputs": [],
      "source": [
        "df = df.filter(df.BORO.isNotNull())"
      ]
    },
    {
      "cell_type": "code",
      "execution_count": null,
      "metadata": {
        "colab": {
          "base_uri": "https://localhost:8080/"
        },
        "id": "BdsO97LX6bSs",
        "outputId": "ea35833c-8bdf-4882-e9dc-1868d9c9d47a"
      },
      "outputs": [
        {
          "output_type": "execute_result",
          "data": {
            "text/plain": [
              "1531"
            ]
          },
          "metadata": {},
          "execution_count": 35
        }
      ],
      "source": [
        "df.count()"
      ]
    },
    {
      "cell_type": "code",
      "execution_count": null,
      "metadata": {
        "colab": {
          "base_uri": "https://localhost:8080/"
        },
        "id": "5TxYWPFN-mP5",
        "outputId": "d9d92d71-2aa4-4111-bae7-0032b263e79a"
      },
      "outputs": [
        {
          "output_type": "stream",
          "name": "stdout",
          "text": [
            "+------------+----------+----------+----+--------+-----------------+-------------+-----------------------+--------------+--------+---------+-------------+-------+--------+------------------------+\n",
            "|INCIDENT_KEY|OCCUR_DATE|OCCUR_TIME|BORO|PRECINCT|JURISDICTION_CODE|LOCATION_DESC|STATISTICAL_MURDER_FLAG|PERP_AGE_GROUP|PERP_SEX|PERP_RACE|VIC_AGE_GROUP|VIC_SEX|VIC_RACE|New Georeferenced Column|\n",
            "+------------+----------+----------+----+--------+-----------------+-------------+-----------------------+--------------+--------+---------+-------------+-------+--------+------------------------+\n",
            "+------------+----------+----------+----+--------+-----------------+-------------+-----------------------+--------------+--------+---------+-------------+-------+--------+------------------------+\n",
            "\n"
          ]
        }
      ],
      "source": [
        "df.filter(df.BORO.isNull()).show()"
      ]
    },
    {
      "cell_type": "markdown",
      "metadata": {
        "id": "2yoI3xH_tbtM"
      },
      "source": [
        "## Defining checks for outliers in age group"
      ]
    },
    {
      "cell_type": "code",
      "execution_count": null,
      "metadata": {
        "colab": {
          "base_uri": "https://localhost:8080/"
        },
        "id": "DPf0c3XRtMth",
        "outputId": "91dfa30c-f086-40ab-d9a5-3b7f6754469e"
      },
      "outputs": [
        {
          "output_type": "stream",
          "name": "stdout",
          "text": [
            "+--------------+\n",
            "|PERP_AGE_GROUP|\n",
            "+--------------+\n",
            "|           <18|\n",
            "|         25-44|\n",
            "|          null|\n",
            "|           65+|\n",
            "|         18-24|\n",
            "|         45-64|\n",
            "+--------------+\n",
            "\n"
          ]
        }
      ],
      "source": [
        "df.select('PERP_AGE_GROUP').distinct().show()"
      ]
    },
    {
      "cell_type": "markdown",
      "metadata": {
        "id": "PupPgsepOcUV"
      },
      "source": [
        "#### There are many invalid age groups like negative values, unrealistically high age groups, etc.\n",
        "\n",
        "#### Lets find all the invalid age groups and replace them with `NaN`"
      ]
    },
    {
      "cell_type": "code",
      "execution_count": null,
      "metadata": {
        "id": "4PZeQuUBtmaT",
        "colab": {
          "base_uri": "https://localhost:8080/"
        },
        "outputId": "321cefe6-1c57-4447-ea6f-4b71e2873441"
      },
      "outputs": [
        {
          "output_type": "stream",
          "name": "stdout",
          "text": [
            "+------------+----------+----------+---------+--------+-----------------+--------------------+-----------------------+--------------+--------+--------------------+-------------+-------+--------------------+------------------------+\n",
            "|INCIDENT_KEY|OCCUR_DATE|OCCUR_TIME|     BORO|PRECINCT|JURISDICTION_CODE|       LOCATION_DESC|STATISTICAL_MURDER_FLAG|PERP_AGE_GROUP|PERP_SEX|           PERP_RACE|VIC_AGE_GROUP|VIC_SEX|            VIC_RACE|New Georeferenced Column|\n",
            "+------------+----------+----------+---------+--------+-----------------+--------------------+-----------------------+--------------+--------+--------------------+-------------+-------+--------------------+------------------------+\n",
            "|   227221494|04/21/2021|  17:14:00|   QUEENS|     105|                0|                null|                  false|           NaN|    null|                null|        18-24|      M|               BLACK|    POINT (-73.748024...|\n",
            "|   225285872|03/07/2021|  06:05:00| BROOKLYN|      73|                0|MULTI DWELL - APT...|                  false|           NaN|    null|                null|        25-44|      M|      WHITE HISPANIC|    POINT (-73.906190...|\n",
            "|   233172869|09/05/2021|  04:20:00|    BRONX|      47|                0|                null|                  false|           NaN|    null|                null|        45-64|      M|               BLACK|    POINT (-73.848764...|\n",
            "|   228307361|05/17/2021|  16:47:00|    BRONX|      42|                0|                null|                  false|           <18|       M|               BLACK|          65+|      M|      BLACK HISPANIC|    POINT (-73.886392...|\n",
            "|   223198985|01/16/2021|  12:39:00|MANHATTAN|      32|                0|MULTI DWELL - APT...|                  false|         18-24|       M|               BLACK|        25-44|      M|               BLACK|    POINT (-73.940100...|\n",
            "|   230162225|06/27/2021|  05:40:00|MANHATTAN|      32|                0|                null|                  false|           NaN|    null|                null|        25-44|      M|               BLACK|    POINT (-73.939605...|\n",
            "|   231941628|08/07/2021|  23:16:00|    BRONX|      44|                0|                null|                   true|         25-44|       M|               BLACK|        25-44|      M|               BLACK|    POINT (-73.926716...|\n",
            "|   232291899|08/14/2021|  04:11:00|    BRONX|      46|                0|                null|                  false|           NaN|    null|                null|        25-44|      M|               BLACK|    POINT (-73.912359...|\n",
            "|   231325837|07/24/2021|  21:57:00| BROOKLYN|      67|                0|   BEAUTY/NAIL SALON|                  false|         18-24|       F|               BLACK|        45-64|      M|               BLACK|    POINT (-73.942512...|\n",
            "|   223872338|02/02/2021|  11:07:00| BROOKLYN|      77|                0|MULTI DWELL - APT...|                   true|           NaN|    null|                null|          65+|      M|               BLACK|    POINT (-73.951386...|\n",
            "|   227127702|04/19/2021|  19:25:00|   QUEENS|     103|                0|      GROCERY/BODEGA|                  false|         18-24|       M|ASIAN / PACIFIC I...|        25-44|      M|      WHITE HISPANIC|    POINT (-73.776655...|\n",
            "|   232887623|08/27/2021|  01:50:00|MANHATTAN|      34|                0|                null|                  false|           NaN|    null|                null|        25-44|      M|               BLACK|    POINT (-73.916815...|\n",
            "|   226495968|04/04/2021|  07:13:00|MANHATTAN|      34|                0|                null|                  false|           NaN|    null|                null|        25-44|      M|      WHITE HISPANIC|    POINT (-73.918944...|\n",
            "|   222990833|01/12/2021|  22:12:00| BROOKLYN|      69|                0|                null|                  false|         18-24|       M|               BLACK|        18-24|      M|               BLACK|    POINT (-73.897920...|\n",
            "|   233253334|09/07/2021|  15:00:00| BROOKLYN|      76|                2|MULTI DWELL - PUB...|                  false|           NaN|    null|                null|        25-44|      M|               BLACK|    POINT (-74.002622...|\n",
            "|   234070580|09/25/2021|  22:15:00| BROOKLYN|      76|                2|MULTI DWELL - PUB...|                  false|           NaN|    null|                null|        18-24|      M|               BLACK|    POINT (-73.986332...|\n",
            "|   227950643|05/06/2021|  10:16:00| BROOKLYN|      81|                0|      GROCERY/BODEGA|                  false|         25-44|       M|               BLACK|        25-44|      M|      WHITE HISPANIC|    POINT (-73.930543...|\n",
            "|   230508669|07/06/2021|  11:48:00|    BRONX|      40|                0|                null|                  false|           NaN|    null|                null|          <18|      M|      BLACK HISPANIC|    POINT (-73.918050...|\n",
            "|   224950991|02/26/2021|  22:25:00| BROOKLYN|      73|                0|MULTI DWELL - APT...|                  false|           NaN|    null|                null|        18-24|      M|ASIAN / PACIFIC I...|    POINT (-73.918074...|\n",
            "|   232592200|08/21/2021|  06:17:00|    BRONX|      42|                0|                null|                  false|           NaN|    null|                null|        25-44|      M|               BLACK|    POINT (-73.886248...|\n",
            "+------------+----------+----------+---------+--------+-----------------+--------------------+-----------------------+--------------+--------+--------------------+-------------+-------+--------------------+------------------------+\n",
            "only showing top 20 rows\n",
            "\n"
          ]
        }
      ],
      "source": [
        "valid_age_groups = ['<18','18-24','25-44','45-64','65+',np.NaN]\n",
        "df = df.withColumn('PERP_AGE_GROUP', when(df.PERP_AGE_GROUP.isin(valid_age_groups), df.PERP_AGE_GROUP).otherwise(np.NaN))\n",
        "df.show()"
      ]
    },
    {
      "cell_type": "code",
      "execution_count": null,
      "metadata": {
        "id": "Y4_Sm8jySwhZ",
        "colab": {
          "base_uri": "https://localhost:8080/"
        },
        "outputId": "46a3a6ae-c1ef-4634-d50f-9fa67de0af34"
      },
      "outputs": [
        {
          "output_type": "stream",
          "name": "stdout",
          "text": [
            "+--------------+\n",
            "|PERP_AGE_GROUP|\n",
            "+--------------+\n",
            "|           <18|\n",
            "|         25-44|\n",
            "|           65+|\n",
            "|           NaN|\n",
            "|         18-24|\n",
            "|         45-64|\n",
            "+--------------+\n",
            "\n"
          ]
        }
      ],
      "source": [
        "df.select('PERP_AGE_GROUP').distinct().show()"
      ]
    },
    {
      "cell_type": "code",
      "execution_count": null,
      "metadata": {
        "id": "JkZU28TmbL-X",
        "colab": {
          "base_uri": "https://localhost:8080/"
        },
        "outputId": "792879c4-8ff9-467f-91b2-30dfef45b7e5"
      },
      "outputs": [
        {
          "output_type": "stream",
          "name": "stdout",
          "text": [
            "+------------+----------+----------+---------+--------+-----------------+--------------------+-----------------------+--------------+--------+---------+-------------+-------+--------------+------------------------+\n",
            "|INCIDENT_KEY|OCCUR_DATE|OCCUR_TIME|     BORO|PRECINCT|JURISDICTION_CODE|       LOCATION_DESC|STATISTICAL_MURDER_FLAG|PERP_AGE_GROUP|PERP_SEX|PERP_RACE|VIC_AGE_GROUP|VIC_SEX|      VIC_RACE|New Georeferenced Column|\n",
            "+------------+----------+----------+---------+--------+-----------------+--------------------+-----------------------+--------------+--------+---------+-------------+-------+--------------+------------------------+\n",
            "|   227221494|04/21/2021|  17:14:00|   QUEENS|     105|                0|                null|                  false|           NaN|    null|     null|        18-24|      M|         BLACK|    POINT (-73.748024...|\n",
            "|   225285872|03/07/2021|  06:05:00| BROOKLYN|      73|                0|MULTI DWELL - APT...|                  false|           NaN|    null|     null|        25-44|      M|WHITE HISPANIC|    POINT (-73.906190...|\n",
            "|   233172869|09/05/2021|  04:20:00|    BRONX|      47|                0|                null|                  false|           NaN|    null|     null|        45-64|      M|         BLACK|    POINT (-73.848764...|\n",
            "|   228307361|05/17/2021|  16:47:00|    BRONX|      42|                0|                null|                  false|           <18|       M|    BLACK|          65+|      M|BLACK HISPANIC|    POINT (-73.886392...|\n",
            "|   223198985|01/16/2021|  12:39:00|MANHATTAN|      32|                0|MULTI DWELL - APT...|                  false|         18-24|       M|    BLACK|        25-44|      M|         BLACK|    POINT (-73.940100...|\n",
            "+------------+----------+----------+---------+--------+-----------------+--------------------+-----------------------+--------------+--------+---------+-------------+-------+--------------+------------------------+\n",
            "only showing top 5 rows\n",
            "\n"
          ]
        }
      ],
      "source": [
        "df.show(n=5)"
      ]
    },
    {
      "cell_type": "code",
      "execution_count": null,
      "metadata": {
        "id": "0jWTxrnVdZ4Q",
        "colab": {
          "base_uri": "https://localhost:8080/"
        },
        "outputId": "bc1cabab-927e-4d14-bc8f-e9aa168c37ae"
      },
      "outputs": [
        {
          "output_type": "stream",
          "name": "stdout",
          "text": [
            "+-------------+\n",
            "|VIC_AGE_GROUP|\n",
            "+-------------+\n",
            "|          <18|\n",
            "|        25-44|\n",
            "|      UNKNOWN|\n",
            "|          65+|\n",
            "|        18-24|\n",
            "|        45-64|\n",
            "+-------------+\n",
            "\n"
          ]
        }
      ],
      "source": [
        "df.select('VIC_AGE_GROUP').distinct().show()"
      ]
    },
    {
      "cell_type": "markdown",
      "metadata": {
        "id": "oZa1lwP7divX"
      },
      "source": [
        "#### There are many invalid age groups like negative values, unrealistically high age groups, etc.\n",
        "\n",
        "#### Lets find all the invalid age groups and replace them with `NaN`"
      ]
    },
    {
      "cell_type": "code",
      "execution_count": null,
      "metadata": {
        "id": "EEIrpMI0djtP",
        "colab": {
          "base_uri": "https://localhost:8080/"
        },
        "outputId": "38c53fe3-9c42-4535-e17f-31e4f8dbda47"
      },
      "outputs": [
        {
          "output_type": "stream",
          "name": "stdout",
          "text": [
            "+------------+----------+----------+---------+--------+-----------------+--------------------+-----------------------+--------------+--------+--------------------+-------------+-------+--------------------+------------------------+\n",
            "|INCIDENT_KEY|OCCUR_DATE|OCCUR_TIME|     BORO|PRECINCT|JURISDICTION_CODE|       LOCATION_DESC|STATISTICAL_MURDER_FLAG|PERP_AGE_GROUP|PERP_SEX|           PERP_RACE|VIC_AGE_GROUP|VIC_SEX|            VIC_RACE|New Georeferenced Column|\n",
            "+------------+----------+----------+---------+--------+-----------------+--------------------+-----------------------+--------------+--------+--------------------+-------------+-------+--------------------+------------------------+\n",
            "|   227221494|04/21/2021|  17:14:00|   QUEENS|     105|                0|                null|                  false|           NaN|    null|                null|        18-24|      M|               BLACK|    POINT (-73.748024...|\n",
            "|   225285872|03/07/2021|  06:05:00| BROOKLYN|      73|                0|MULTI DWELL - APT...|                  false|           NaN|    null|                null|        25-44|      M|      WHITE HISPANIC|    POINT (-73.906190...|\n",
            "|   233172869|09/05/2021|  04:20:00|    BRONX|      47|                0|                null|                  false|           NaN|    null|                null|        45-64|      M|               BLACK|    POINT (-73.848764...|\n",
            "|   228307361|05/17/2021|  16:47:00|    BRONX|      42|                0|                null|                  false|           <18|       M|               BLACK|          65+|      M|      BLACK HISPANIC|    POINT (-73.886392...|\n",
            "|   223198985|01/16/2021|  12:39:00|MANHATTAN|      32|                0|MULTI DWELL - APT...|                  false|         18-24|       M|               BLACK|        25-44|      M|               BLACK|    POINT (-73.940100...|\n",
            "|   230162225|06/27/2021|  05:40:00|MANHATTAN|      32|                0|                null|                  false|           NaN|    null|                null|        25-44|      M|               BLACK|    POINT (-73.939605...|\n",
            "|   231941628|08/07/2021|  23:16:00|    BRONX|      44|                0|                null|                   true|         25-44|       M|               BLACK|        25-44|      M|               BLACK|    POINT (-73.926716...|\n",
            "|   232291899|08/14/2021|  04:11:00|    BRONX|      46|                0|                null|                  false|           NaN|    null|                null|        25-44|      M|               BLACK|    POINT (-73.912359...|\n",
            "|   231325837|07/24/2021|  21:57:00| BROOKLYN|      67|                0|   BEAUTY/NAIL SALON|                  false|         18-24|       F|               BLACK|        45-64|      M|               BLACK|    POINT (-73.942512...|\n",
            "|   223872338|02/02/2021|  11:07:00| BROOKLYN|      77|                0|MULTI DWELL - APT...|                   true|           NaN|    null|                null|          65+|      M|               BLACK|    POINT (-73.951386...|\n",
            "|   227127702|04/19/2021|  19:25:00|   QUEENS|     103|                0|      GROCERY/BODEGA|                  false|         18-24|       M|ASIAN / PACIFIC I...|        25-44|      M|      WHITE HISPANIC|    POINT (-73.776655...|\n",
            "|   232887623|08/27/2021|  01:50:00|MANHATTAN|      34|                0|                null|                  false|           NaN|    null|                null|        25-44|      M|               BLACK|    POINT (-73.916815...|\n",
            "|   226495968|04/04/2021|  07:13:00|MANHATTAN|      34|                0|                null|                  false|           NaN|    null|                null|        25-44|      M|      WHITE HISPANIC|    POINT (-73.918944...|\n",
            "|   222990833|01/12/2021|  22:12:00| BROOKLYN|      69|                0|                null|                  false|         18-24|       M|               BLACK|        18-24|      M|               BLACK|    POINT (-73.897920...|\n",
            "|   233253334|09/07/2021|  15:00:00| BROOKLYN|      76|                2|MULTI DWELL - PUB...|                  false|           NaN|    null|                null|        25-44|      M|               BLACK|    POINT (-74.002622...|\n",
            "|   234070580|09/25/2021|  22:15:00| BROOKLYN|      76|                2|MULTI DWELL - PUB...|                  false|           NaN|    null|                null|        18-24|      M|               BLACK|    POINT (-73.986332...|\n",
            "|   227950643|05/06/2021|  10:16:00| BROOKLYN|      81|                0|      GROCERY/BODEGA|                  false|         25-44|       M|               BLACK|        25-44|      M|      WHITE HISPANIC|    POINT (-73.930543...|\n",
            "|   230508669|07/06/2021|  11:48:00|    BRONX|      40|                0|                null|                  false|           NaN|    null|                null|          <18|      M|      BLACK HISPANIC|    POINT (-73.918050...|\n",
            "|   224950991|02/26/2021|  22:25:00| BROOKLYN|      73|                0|MULTI DWELL - APT...|                  false|           NaN|    null|                null|        18-24|      M|ASIAN / PACIFIC I...|    POINT (-73.918074...|\n",
            "|   232592200|08/21/2021|  06:17:00|    BRONX|      42|                0|                null|                  false|           NaN|    null|                null|        25-44|      M|               BLACK|    POINT (-73.886248...|\n",
            "+------------+----------+----------+---------+--------+-----------------+--------------------+-----------------------+--------------+--------+--------------------+-------------+-------+--------------------+------------------------+\n",
            "only showing top 20 rows\n",
            "\n"
          ]
        }
      ],
      "source": [
        "valid_age_groups = ['<18','18-24','25-44','45-64','65+',np.NaN]\n",
        "df = df.withColumn('VIC_AGE_GROUP', when(df.VIC_AGE_GROUP.isin(valid_age_groups), df.VIC_AGE_GROUP).otherwise(np.NaN))\n",
        "df.show()"
      ]
    },
    {
      "cell_type": "code",
      "execution_count": null,
      "metadata": {
        "id": "rY0e7MKMdpBb",
        "colab": {
          "base_uri": "https://localhost:8080/"
        },
        "outputId": "926afb39-eb8a-4745-e630-00361c7b7c55"
      },
      "outputs": [
        {
          "output_type": "stream",
          "name": "stdout",
          "text": [
            "+-------------+\n",
            "|VIC_AGE_GROUP|\n",
            "+-------------+\n",
            "|          <18|\n",
            "|        25-44|\n",
            "|          65+|\n",
            "|          NaN|\n",
            "|        18-24|\n",
            "|        45-64|\n",
            "+-------------+\n",
            "\n"
          ]
        }
      ],
      "source": [
        "df.select('VIC_AGE_GROUP').distinct().show()"
      ]
    },
    {
      "cell_type": "code",
      "execution_count": null,
      "metadata": {
        "id": "525Nar0QeH1e",
        "colab": {
          "base_uri": "https://localhost:8080/"
        },
        "outputId": "98930e17-b5dc-4796-a572-34230f8a8f78"
      },
      "outputs": [
        {
          "output_type": "stream",
          "name": "stdout",
          "text": [
            "+------------+----------+----------+---------+--------+-----------------+--------------------+-----------------------+--------------+--------+---------+-------------+-------+--------------+------------------------+\n",
            "|INCIDENT_KEY|OCCUR_DATE|OCCUR_TIME|     BORO|PRECINCT|JURISDICTION_CODE|       LOCATION_DESC|STATISTICAL_MURDER_FLAG|PERP_AGE_GROUP|PERP_SEX|PERP_RACE|VIC_AGE_GROUP|VIC_SEX|      VIC_RACE|New Georeferenced Column|\n",
            "+------------+----------+----------+---------+--------+-----------------+--------------------+-----------------------+--------------+--------+---------+-------------+-------+--------------+------------------------+\n",
            "|   227221494|04/21/2021|  17:14:00|   QUEENS|     105|                0|                null|                  false|           NaN|    null|     null|        18-24|      M|         BLACK|    POINT (-73.748024...|\n",
            "|   225285872|03/07/2021|  06:05:00| BROOKLYN|      73|                0|MULTI DWELL - APT...|                  false|           NaN|    null|     null|        25-44|      M|WHITE HISPANIC|    POINT (-73.906190...|\n",
            "|   233172869|09/05/2021|  04:20:00|    BRONX|      47|                0|                null|                  false|           NaN|    null|     null|        45-64|      M|         BLACK|    POINT (-73.848764...|\n",
            "|   228307361|05/17/2021|  16:47:00|    BRONX|      42|                0|                null|                  false|           <18|       M|    BLACK|          65+|      M|BLACK HISPANIC|    POINT (-73.886392...|\n",
            "|   223198985|01/16/2021|  12:39:00|MANHATTAN|      32|                0|MULTI DWELL - APT...|                  false|         18-24|       M|    BLACK|        25-44|      M|         BLACK|    POINT (-73.940100...|\n",
            "+------------+----------+----------+---------+--------+-----------------+--------------------+-----------------------+--------------+--------+---------+-------------+-------+--------------+------------------------+\n",
            "only showing top 5 rows\n",
            "\n"
          ]
        }
      ],
      "source": [
        "df.show(n=5)"
      ]
    },
    {
      "cell_type": "markdown",
      "metadata": {
        "id": "9C5Wbu2Hrb4m"
      },
      "source": [
        "### Check for Race Values "
      ]
    },
    {
      "cell_type": "code",
      "execution_count": null,
      "metadata": {
        "id": "mGZ6lAHAoC7m",
        "colab": {
          "base_uri": "https://localhost:8080/"
        },
        "outputId": "8eb9a8eb-5aa4-44e3-d5c7-4984745d7452"
      },
      "outputs": [
        {
          "output_type": "stream",
          "name": "stdout",
          "text": [
            "+--------------------+\n",
            "|           PERP_RACE|\n",
            "+--------------------+\n",
            "|               WHITE|\n",
            "|               BLACK|\n",
            "|                null|\n",
            "|      BLACK HISPANIC|\n",
            "|      WHITE HISPANIC|\n",
            "|ASIAN / PACIFIC I...|\n",
            "+--------------------+\n",
            "\n"
          ]
        }
      ],
      "source": [
        "df.select('PERP_RACE').distinct().show()"
      ]
    },
    {
      "cell_type": "markdown",
      "metadata": {
        "id": "zL4B-B4f2fp2"
      },
      "source": [
        "#### Replace all `UNKNOWN` values with `NaN`"
      ]
    },
    {
      "cell_type": "code",
      "execution_count": null,
      "metadata": {
        "id": "lC0bTJYj2W2Q"
      },
      "outputs": [],
      "source": [
        "from pyspark.sql.functions import regexp_replace\n",
        "\n",
        "df = df.withColumn(\"PERP_RACE\",\n",
        "  regexp_replace(\"PERP_RACE\", \"UNKNOWN\", \"NaN\"))"
      ]
    },
    {
      "cell_type": "code",
      "execution_count": null,
      "metadata": {
        "id": "Lz15zl4N8e5l",
        "colab": {
          "base_uri": "https://localhost:8080/"
        },
        "outputId": "2f7441a3-ba36-444d-b443-18464a14b48f"
      },
      "outputs": [
        {
          "output_type": "stream",
          "name": "stdout",
          "text": [
            "+------------+----------+----------+-------------+--------+-----------------+--------------------+-----------------------+--------------+--------+--------------------+-------------+-------+--------------------+------------------------+\n",
            "|INCIDENT_KEY|OCCUR_DATE|OCCUR_TIME|         BORO|PRECINCT|JURISDICTION_CODE|       LOCATION_DESC|STATISTICAL_MURDER_FLAG|PERP_AGE_GROUP|PERP_SEX|           PERP_RACE|VIC_AGE_GROUP|VIC_SEX|            VIC_RACE|New Georeferenced Column|\n",
            "+------------+----------+----------+-------------+--------+-----------------+--------------------+-----------------------+--------------+--------+--------------------+-------------+-------+--------------------+------------------------+\n",
            "|   227221494|04/21/2021|  17:14:00|       QUEENS|     105|                0|                null|                  false|           NaN|    null|                null|        18-24|      M|               BLACK|    POINT (-73.748024...|\n",
            "|   225285872|03/07/2021|  06:05:00|     BROOKLYN|      73|                0|MULTI DWELL - APT...|                  false|           NaN|    null|                null|        25-44|      M|      WHITE HISPANIC|    POINT (-73.906190...|\n",
            "|   233172869|09/05/2021|  04:20:00|        BRONX|      47|                0|                null|                  false|           NaN|    null|                null|        45-64|      M|               BLACK|    POINT (-73.848764...|\n",
            "|   228307361|05/17/2021|  16:47:00|        BRONX|      42|                0|                null|                  false|           <18|       M|               BLACK|          65+|      M|      BLACK HISPANIC|    POINT (-73.886392...|\n",
            "|   223198985|01/16/2021|  12:39:00|    MANHATTAN|      32|                0|MULTI DWELL - APT...|                  false|         18-24|       M|               BLACK|        25-44|      M|               BLACK|    POINT (-73.940100...|\n",
            "|   230162225|06/27/2021|  05:40:00|    MANHATTAN|      32|                0|                null|                  false|           NaN|    null|                null|        25-44|      M|               BLACK|    POINT (-73.939605...|\n",
            "|   231941628|08/07/2021|  23:16:00|        BRONX|      44|                0|                null|                   true|         25-44|       M|               BLACK|        25-44|      M|               BLACK|    POINT (-73.926716...|\n",
            "|   232291899|08/14/2021|  04:11:00|        BRONX|      46|                0|                null|                  false|           NaN|    null|                null|        25-44|      M|               BLACK|    POINT (-73.912359...|\n",
            "|   231325837|07/24/2021|  21:57:00|     BROOKLYN|      67|                0|   BEAUTY/NAIL SALON|                  false|         18-24|       F|               BLACK|        45-64|      M|               BLACK|    POINT (-73.942512...|\n",
            "|   223872338|02/02/2021|  11:07:00|     BROOKLYN|      77|                0|MULTI DWELL - APT...|                   true|           NaN|    null|                null|          65+|      M|               BLACK|    POINT (-73.951386...|\n",
            "|   227127702|04/19/2021|  19:25:00|       QUEENS|     103|                0|      GROCERY/BODEGA|                  false|         18-24|       M|ASIAN / PACIFIC I...|        25-44|      M|      WHITE HISPANIC|    POINT (-73.776655...|\n",
            "|   232887623|08/27/2021|  01:50:00|    MANHATTAN|      34|                0|                null|                  false|           NaN|    null|                null|        25-44|      M|               BLACK|    POINT (-73.916815...|\n",
            "|   226495968|04/04/2021|  07:13:00|    MANHATTAN|      34|                0|                null|                  false|           NaN|    null|                null|        25-44|      M|      WHITE HISPANIC|    POINT (-73.918944...|\n",
            "|   222990833|01/12/2021|  22:12:00|     BROOKLYN|      69|                0|                null|                  false|         18-24|       M|               BLACK|        18-24|      M|               BLACK|    POINT (-73.897920...|\n",
            "|   233253334|09/07/2021|  15:00:00|     BROOKLYN|      76|                2|MULTI DWELL - PUB...|                  false|           NaN|    null|                null|        25-44|      M|               BLACK|    POINT (-74.002622...|\n",
            "|   234070580|09/25/2021|  22:15:00|     BROOKLYN|      76|                2|MULTI DWELL - PUB...|                  false|           NaN|    null|                null|        18-24|      M|               BLACK|    POINT (-73.986332...|\n",
            "|   227950643|05/06/2021|  10:16:00|     BROOKLYN|      81|                0|      GROCERY/BODEGA|                  false|         25-44|       M|               BLACK|        25-44|      M|      WHITE HISPANIC|    POINT (-73.930543...|\n",
            "|   230508669|07/06/2021|  11:48:00|        BRONX|      40|                0|                null|                  false|           NaN|    null|                null|          <18|      M|      BLACK HISPANIC|    POINT (-73.918050...|\n",
            "|   224950991|02/26/2021|  22:25:00|     BROOKLYN|      73|                0|MULTI DWELL - APT...|                  false|           NaN|    null|                null|        18-24|      M|ASIAN / PACIFIC I...|    POINT (-73.918074...|\n",
            "|   232592200|08/21/2021|  06:17:00|        BRONX|      42|                0|                null|                  false|           NaN|    null|                null|        25-44|      M|               BLACK|    POINT (-73.886248...|\n",
            "|   230815780|07/14/2021|  02:11:00|       QUEENS|     103|                0|                null|                  false|         25-44|       M|               BLACK|        25-44|      M|               BLACK|    POINT (-73.811581...|\n",
            "|   231633081|07/30/2021|  23:02:00|STATEN ISLAND|     121|                0|           PVT HOUSE|                  false|         25-44|       M|               BLACK|          <18|      M|               BLACK|    POINT (-74.160468...|\n",
            "|   225909568|03/20/2021|  00:19:00|    MANHATTAN|      34|                0|                null|                  false|           NaN|    null|                null|        25-44|      M|      WHITE HISPANIC|    POINT (-73.926571...|\n",
            "|   228307052|05/17/2021|  00:43:00|     BROOKLYN|      67|                0|                null|                   true|         25-44|       M|               BLACK|        25-44|      M|               BLACK|    POINT (-73.917230...|\n",
            "|   231512062|07/28/2021|  13:10:00|       QUEENS|     101|                0|                null|                  false|           NaN|    null|                null|        25-44|      M|               WHITE|    POINT (-73.751170...|\n",
            "|   225725570|03/16/2021|  03:53:00|        BRONX|      46|                0|                null|                  false|         25-44|       M|      WHITE HISPANIC|        45-64|      M|               BLACK|    POINT (-73.904024...|\n",
            "|   226204063|03/27/2021|  19:30:00|    MANHATTAN|       7|                0|                null|                  false|           <18|       M|               BLACK|          <18|      M|      WHITE HISPANIC|    POINT (-73.978909...|\n",
            "|   232623736|08/23/2021|  17:40:00|    MANHATTAN|      14|                0|                null|                  false|         25-44|       M|               BLACK|        45-64|      M|               WHITE|    POINT (-73.992007...|\n",
            "|   227730192|05/04/2021|  15:00:00|        BRONX|      41|                0|                null|                  false|           NaN|    null|                null|        18-24|      M|      WHITE HISPANIC|    POINT (-73.895873...|\n",
            "|   223928178|02/03/2021|  21:45:00|        BRONX|      40|                2|MULTI DWELL - PUB...|                   true|         18-24|       M|               BLACK|        25-44|      M|               BLACK|    POINT (-73.916477...|\n",
            "|   229164957|06/06/2021|  01:53:00|        BRONX|      44|                0|                null|                  false|         45-64|       M|      WHITE HISPANIC|        25-44|      M|               BLACK|    POINT (-73.916431...|\n",
            "|   229493100|06/11/2021|  16:29:00|     BROOKLYN|      72|                0|                null|                  false|           <18|       M|      WHITE HISPANIC|        18-24|      M|      WHITE HISPANIC|    POINT (-74.006887...|\n",
            "|   229643172|06/16/2021|  23:22:00|        BRONX|      52|                0|                null|                   true|         18-24|       M|      WHITE HISPANIC|        25-44|      M|               BLACK|    POINT (-73.891313...|\n",
            "|   225601140|03/13/2021|  03:50:00|     BROOKLYN|      90|                0|      BAR/NIGHT CLUB|                  false|         18-24|       M|      BLACK HISPANIC|        18-24|      F|      WHITE HISPANIC|    POINT (-73.936161...|\n",
            "|   228679850|05/25/2021|  20:20:00|        BRONX|      42|                0|                null|                  false|         18-24|       M|      BLACK HISPANIC|        18-24|      M|      WHITE HISPANIC|    POINT (-73.893376...|\n",
            "|   231631686|07/31/2021|  22:40:00|     BROOKLYN|      75|                0|                null|                  false|         25-44|       M|               BLACK|        25-44|      M|      WHITE HISPANIC|    POINT (-73.871603...|\n",
            "|   230805643|07/13/2021|  20:00:00|     BROOKLYN|      75|                0|                null|                  false|           NaN|    null|                null|        18-24|      M|               BLACK|    POINT (-73.876567...|\n",
            "|   228049709|05/11/2021|  16:54:00|     BROOKLYN|      77|                0|                null|                  false|         18-24|       M|               BLACK|          <18|      M|               BLACK|    POINT (-73.923691...|\n",
            "|   230713945|07/10/2021|  08:54:00|        BRONX|      40|                0|                null|                  false|         18-24|       M|               BLACK|          <18|      M|               BLACK|    POINT (-73.909330...|\n",
            "|   233897874|09/22/2021|  03:30:00|        BRONX|      46|                0|                null|                  false|           NaN|    null|                null|        18-24|      M|               BLACK|    POINT (-73.900576...|\n",
            "|   232444800|08/18/2021|  20:21:00|     BROOKLYN|      77|                2|MULTI DWELL - PUB...|                   true|           NaN|    null|                null|          <18|      M|               BLACK|    POINT (-73.926713...|\n",
            "|   224353207|02/13/2021|  02:18:00|        BRONX|      50|                0|                null|                  false|           NaN|    null|                null|        18-24|      M|      WHITE HISPANIC|    POINT (-73.902889...|\n",
            "|   231965179|08/08/2021|  00:30:00|     BROOKLYN|      75|                0|                null|                   true|           NaN|    null|                null|        45-64|      M|               BLACK|    POINT (-73.888780...|\n",
            "|   232924796|08/30/2021|  17:37:00|        BRONX|      41|                0|                null|                  false|           NaN|    null|                null|        18-24|      M|               BLACK|    POINT (-73.889681...|\n",
            "|   226542152|04/05/2021|  22:10:00|        BRONX|      44|                2|MULTI DWELL - PUB...|                  false|           NaN|    null|                null|        25-44|      F|               BLACK|    POINT (-73.928667...|\n",
            "|   233080845|09/02/2021|  17:42:00|        BRONX|      41|                0|                null|                  false|         18-24|       M|               BLACK|        18-24|      M|               BLACK|    POINT (-73.890330...|\n",
            "|   232946699|08/31/2021|  00:40:00|       QUEENS|     101|                0|                null|                  false|           NaN|    null|                null|        25-44|      M|               BLACK|    POINT (-73.750117...|\n",
            "|   227730194|05/04/2021|  23:38:00|        BRONX|      44|                0|                null|                  false|           NaN|    null|                null|          <18|      M|               BLACK|    POINT (-73.918309...|\n",
            "|   228798149|05/27/2021|  15:09:00|    MANHATTAN|      23|                0|                null|                  false|           <18|       M|      BLACK HISPANIC|          <18|      M|      BLACK HISPANIC|    POINT (-73.942210...|\n",
            "|   230412254|07/03/2021|  22:03:00|    MANHATTAN|      23|                0|                null|                  false|           NaN|    null|                null|        18-24|      M|               BLACK|    POINT (-73.947646...|\n",
            "|   224969506|02/26/2021|  00:46:00|       QUEENS|     102|                0|                null|                   true|           NaN|    null|                null|        25-44|      M|               BLACK|    POINT (-73.855294...|\n",
            "|   231390983|07/26/2021|  20:15:00|     BROOKLYN|      79|                0|                null|                  false|           NaN|    null|                null|        25-44|      M|               BLACK|    POINT (-73.948674...|\n",
            "|   229034050|06/02/2021|  04:30:00|       QUEENS|     113|                0|                null|                  false|           NaN|    null|                null|        25-44|      M|               BLACK|    POINT (-73.758981...|\n",
            "|   230562012|07/07/2021|  16:20:00|       QUEENS|     110|                0|                null|                   true|         18-24|       M|               WHITE|          <18|      M|      WHITE HISPANIC|    POINT (-73.869605...|\n",
            "|   232264784|08/13/2021|  15:50:00|     BROOKLYN|      83|                0|                null|                  false|           NaN|    null|                null|        25-44|      M|      WHITE HISPANIC|    POINT (-73.907324...|\n",
            "|   224119135|02/08/2021|  14:39:00|     BROOKLYN|      67|                0|MULTI DWELL - APT...|                  false|           NaN|    null|                null|        25-44|      M|               BLACK|    POINT (-73.943903...|\n",
            "|   230162216|06/25/2021|  14:33:00|        BRONX|      46|                0|                null|                  false|         25-44|       M|      BLACK HISPANIC|        25-44|      M|      WHITE HISPANIC|    POINT (-73.902377...|\n",
            "|   222890075|01/10/2021|  19:46:00|     BROOKLYN|      75|                2|MULTI DWELL - PUB...|                   true|           NaN|    null|                null|          <18|      M|               BLACK|    POINT (-73.886184...|\n",
            "|   224520344|02/17/2021|  17:15:00|     BROOKLYN|      67|                0|                null|                  false|         18-24|       M|               BLACK|        25-44|      M|               BLACK|    POINT (-73.925952...|\n",
            "|   228559113|05/22/2021|  23:48:00|        BRONX|      42|                0|                null|                  false|           NaN|    null|                null|        18-24|      M|      BLACK HISPANIC|    POINT (-73.904162...|\n",
            "|   233468972|09/13/2021|  00:35:00|    MANHATTAN|      32|                0|                null|                   true|           NaN|    null|                null|        18-24|      M|               BLACK|    POINT (-73.938154...|\n",
            "|   225621192|03/14/2021|  19:00:00|        BRONX|      47|                0|MULTI DWELL - APT...|                  false|           NaN|    null|                null|          <18|      M|               BLACK|    POINT (-73.866141...|\n",
            "|   227730193|05/04/2021|  21:13:00|     BROOKLYN|      73|                0|                null|                  false|           NaN|    null|                null|        25-44|      M|               BLACK|    POINT (-73.910944...|\n",
            "|   227551204|04/29/2021|  19:30:00|     BROOKLYN|      90|                0|    RESTAURANT/DINER|                  false|         18-24|       M|               BLACK|        25-44|      M|               WHITE|    POINT (-73.961753...|\n",
            "|   230196723|06/28/2021|  22:01:00|        BRONX|      52|                0|                null|                  false|           NaN|    null|                null|        25-44|      M|               BLACK|    POINT (-73.878781...|\n",
            "|   225934384|03/15/2021|  18:20:00|        BRONX|      46|                0|                null|                  false|           <18|       M|      WHITE HISPANIC|        18-24|      M|               BLACK|    POINT (-73.921411...|\n",
            "|   228062046|05/12/2021|  04:53:00|        BRONX|      46|                0|MULTI DWELL - APT...|                  false|           NaN|    null|                null|        45-64|      M|               BLACK|    POINT (-73.917195...|\n",
            "|   234143776|09/27/2021|  03:50:00|    MANHATTAN|      34|                0|                null|                  false|         25-44|       M|      BLACK HISPANIC|        25-44|      M|      BLACK HISPANIC|    POINT (-73.916815...|\n",
            "|   231436704|07/26/2021|  20:38:00|    MANHATTAN|      30|                0|                null|                  false|           NaN|    null|                null|        45-64|      F|      BLACK HISPANIC|    POINT (-73.944838...|\n",
            "|   232632360|08/23/2021|  22:25:00|        BRONX|      40|                0|                null|                   true|         25-44|       M|ASIAN / PACIFIC I...|        25-44|      M|               BLACK|    POINT (-73.915014...|\n",
            "|   232497425|08/19/2021|  13:49:00|     BROOKLYN|      69|                0|                null|                  false|         25-44|       M|               BLACK|        18-24|      M|               BLACK|    POINT (-73.888137...|\n",
            "|   227401020|04/27/2021|  00:40:00|    MANHATTAN|      28|                0|                null|                  false|           NaN|    null|                null|        45-64|      M|               BLACK|    POINT (-73.951844...|\n",
            "|   233307769|09/08/2021|  23:48:00|        BRONX|      46|                0|                null|                  false|         25-44|       M|      BLACK HISPANIC|        18-24|      M|               BLACK|    POINT (-73.900591...|\n",
            "|   231965060|08/07/2021|  23:18:00|     BROOKLYN|      75|                0|                null|                  false|         18-24|       M|               BLACK|        25-44|      M|               BLACK|    POINT (-73.893465...|\n",
            "|   230448650|07/04/2021|  18:20:00|        BRONX|      41|                0|                null|                  false|           NaN|    null|                null|        25-44|      M|               BLACK|    POINT (-73.888855...|\n",
            "|   232264785|08/13/2021|  16:10:00|        BRONX|      44|                0|                null|                  false|           NaN|    null|                null|        25-44|      M|               BLACK|    POINT (-73.919457...|\n",
            "|   231351984|07/24/2021|  02:46:00|       QUEENS|     103|                0|                null|                   true|         18-24|       M|      WHITE HISPANIC|        18-24|      M|      BLACK HISPANIC|    POINT (-73.801603...|\n",
            "|   226654026|04/07/2021|  02:07:00|    MANHATTAN|      14|                0|                null|                  false|         18-24|       M|               BLACK|        25-44|      M|               WHITE|    POINT (-73.991634...|\n",
            "|   227174349|04/20/2021|  22:53:00|    MANHATTAN|      26|                0|                null|                  false|           NaN|    null|                null|        25-44|      M|               BLACK|    POINT (-73.956284...|\n",
            "|   233429422|09/11/2021|  15:13:00|     BROOKLYN|      73|                0|                null|                  false|           NaN|    null|                null|        25-44|      M|               BLACK|    POINT (-73.920247...|\n",
            "|   226542152|04/05/2021|  22:10:00|        BRONX|      44|                2|MULTI DWELL - PUB...|                  false|           NaN|    null|                null|        45-64|      M|               BLACK|    POINT (-73.928667...|\n",
            "|   234143776|09/27/2021|  03:50:00|    MANHATTAN|      34|                0|                null|                  false|         25-44|       M|      BLACK HISPANIC|        25-44|      M|      WHITE HISPANIC|    POINT (-73.916815...|\n",
            "|   229822333|06/19/2021|  23:29:00|     BROOKLYN|      67|                0|                null|                  false|           NaN|    null|                null|        45-64|      M|               BLACK|    POINT (-73.951016...|\n",
            "|   234268729|09/29/2021|  12:50:00|        BRONX|      48|                0|                null|                  false|           NaN|    null|                null|        18-24|      M|               BLACK|    POINT (-73.882203...|\n",
            "|   229643172|06/16/2021|  23:22:00|        BRONX|      52|                0|                null|                  false|         25-44|       M|               BLACK|        25-44|      M|               BLACK|    POINT (-73.891313...|\n",
            "|   227550941|04/29/2021|  21:20:00|        BRONX|      42|                0|                null|                   true|         25-44|       M|               BLACK|        25-44|      M|               BLACK|    POINT (-73.902887...|\n",
            "|   230234499|06/29/2021|  19:40:00|    MANHATTAN|      23|                2|MULTI DWELL - PUB...|                  false|           NaN|    null|                null|          <18|      M|               BLACK|    POINT (-73.941869...|\n",
            "|   223102547|01/14/2021|  18:27:00|     BROOKLYN|      75|                0|MULTI DWELL - APT...|                  false|           NaN|    null|                null|        18-24|      M|               BLACK|    POINT (-73.895027...|\n",
            "|   229034592|06/02/2021|  14:30:00|        BRONX|      48|                0|                null|                  false|           NaN|    null|                null|        25-44|      M|      WHITE HISPANIC|    POINT (-73.892458...|\n",
            "|   224817401|02/24/2021|  16:40:00|    MANHATTAN|      25|                0|                null|                  false|         18-24|       M|      WHITE HISPANIC|          <18|      M|               BLACK|    POINT (-73.939258...|\n",
            "|   231965177|08/07/2021|  02:44:00|     BROOKLYN|      73|                2|MULTI DWELL - PUB...|                  false|           NaN|    null|                null|        25-44|      M|               BLACK|    POINT (-73.921447...|\n",
            "|   232888019|08/27/2021|  00:06:00|    MANHATTAN|      33|                0|                null|                  false|         25-44|       M|      WHITE HISPANIC|        18-24|      M|      BLACK HISPANIC|    POINT (-73.943181...|\n",
            "|   227665924|05/03/2021|  00:18:00|     BROOKLYN|      69|                2|MULTI DWELL - PUB...|                  false|           NaN|    null|                null|        25-44|      M|               BLACK|    POINT (-73.884045...|\n",
            "|   223827862|02/01/2021|  22:20:00|        BRONX|      48|                0|MULTI DWELL - APT...|                  false|         18-24|       M|      WHITE HISPANIC|        25-44|      F|      BLACK HISPANIC|    POINT (-73.895330...|\n",
            "|   226654024|04/07/2021|  00:24:00|        BRONX|      42|                2|MULTI DWELL - PUB...|                   true|         18-24|       M|               BLACK|        18-24|      M|               BLACK|    POINT (-73.900571...|\n",
            "|   230717903|07/11/2021|  01:09:00|     BROOKLYN|      79|                0|                null|                  false|           <18|       M|               BLACK|        45-64|      M|               BLACK|    POINT (-73.955669...|\n",
            "|   233459106|09/10/2021|  17:35:00|     BROOKLYN|      79|                2|MULTI DWELL - PUB...|                  false|           NaN|    null|                null|        25-44|      M|               BLACK|    POINT (-73.949681...|\n",
            "|   229188687|06/05/2021|  21:30:00|       QUEENS|     101|                0|           PVT HOUSE|                  false|         25-44|       M|               BLACK|        25-44|      M|               BLACK|    POINT (-73.776482...|\n",
            "|   232931111|08/31/2021|  00:55:00|       QUEENS|     103|                0|                null|                   true|           NaN|    null|                null|        25-44|      M|               BLACK|    POINT (-73.773195...|\n",
            "|   227950638|05/05/2021|  18:17:00|        BRONX|      48|                0|                null|                  false|           NaN|    null|                null|        25-44|      M|      BLACK HISPANIC|    POINT (-73.881415...|\n",
            "+------------+----------+----------+-------------+--------+-----------------+--------------------+-----------------------+--------------+--------+--------------------+-------------+-------+--------------------+------------------------+\n",
            "only showing top 100 rows\n",
            "\n"
          ]
        }
      ],
      "source": [
        "df.show(100)"
      ]
    },
    {
      "cell_type": "code",
      "execution_count": null,
      "metadata": {
        "id": "r-IkJsOz2b5V",
        "colab": {
          "base_uri": "https://localhost:8080/"
        },
        "outputId": "7cb33601-3296-4c98-c64f-e5e918d04620"
      },
      "outputs": [
        {
          "output_type": "stream",
          "name": "stdout",
          "text": [
            "+--------------------+\n",
            "|           PERP_RACE|\n",
            "+--------------------+\n",
            "|               WHITE|\n",
            "|               BLACK|\n",
            "|                null|\n",
            "|      BLACK HISPANIC|\n",
            "|      WHITE HISPANIC|\n",
            "|ASIAN / PACIFIC I...|\n",
            "+--------------------+\n",
            "\n"
          ]
        }
      ],
      "source": [
        "df.select('PERP_RACE').distinct().show()"
      ]
    },
    {
      "cell_type": "code",
      "execution_count": null,
      "metadata": {
        "id": "onrUAeaeosWl",
        "colab": {
          "base_uri": "https://localhost:8080/"
        },
        "outputId": "cc75b12e-d33e-498a-c734-532373bf0258"
      },
      "outputs": [
        {
          "output_type": "stream",
          "name": "stdout",
          "text": [
            "+--------------------+\n",
            "|            VIC_RACE|\n",
            "+--------------------+\n",
            "|               WHITE|\n",
            "|               BLACK|\n",
            "|      BLACK HISPANIC|\n",
            "|      WHITE HISPANIC|\n",
            "|             UNKNOWN|\n",
            "|ASIAN / PACIFIC I...|\n",
            "+--------------------+\n",
            "\n"
          ]
        }
      ],
      "source": [
        "df.select('VIC_RACE').distinct().show()"
      ]
    },
    {
      "cell_type": "code",
      "execution_count": null,
      "metadata": {
        "id": "rFoikiAB1x3V"
      },
      "outputs": [],
      "source": [
        "from pyspark.sql.functions import regexp_replace\n",
        "\n",
        "df = df.withColumn(\"VIC_RACE\",\n",
        "  regexp_replace(\"VIC_RACE\", \"UNKNOWN\", \"NaN\"))"
      ]
    },
    {
      "cell_type": "code",
      "execution_count": null,
      "metadata": {
        "id": "0RaNG8Wk2vQE",
        "colab": {
          "base_uri": "https://localhost:8080/"
        },
        "outputId": "a375531d-7447-463c-8da8-7e534d248fee"
      },
      "outputs": [
        {
          "output_type": "stream",
          "name": "stdout",
          "text": [
            "+--------------------+\n",
            "|            VIC_RACE|\n",
            "+--------------------+\n",
            "|               WHITE|\n",
            "|               BLACK|\n",
            "|      BLACK HISPANIC|\n",
            "|      WHITE HISPANIC|\n",
            "|                 NaN|\n",
            "|ASIAN / PACIFIC I...|\n",
            "+--------------------+\n",
            "\n"
          ]
        }
      ],
      "source": [
        "df.select('VIC_RACE').distinct().show()"
      ]
    },
    {
      "cell_type": "markdown",
      "metadata": {
        "id": "9BlHN7RN20P1"
      },
      "source": [
        "### Checks for Suspect & Victim Sex"
      ]
    },
    {
      "cell_type": "code",
      "execution_count": null,
      "metadata": {
        "id": "zsjPnhTAGxNj",
        "colab": {
          "base_uri": "https://localhost:8080/"
        },
        "outputId": "6734b1aa-b678-48d0-eac1-d0d6a8a50392"
      },
      "outputs": [
        {
          "output_type": "stream",
          "name": "stdout",
          "text": [
            "+--------+\n",
            "|PERP_SEX|\n",
            "+--------+\n",
            "|       F|\n",
            "|    null|\n",
            "|       M|\n",
            "+--------+\n",
            "\n"
          ]
        }
      ],
      "source": [
        "df.select('PERP_SEX').distinct().show()"
      ]
    },
    {
      "cell_type": "markdown",
      "metadata": {
        "id": "GZBTi4BWTtiO"
      },
      "source": [
        "#### Checking values in suspect sex"
      ]
    },
    {
      "cell_type": "code",
      "execution_count": null,
      "metadata": {
        "id": "kTb_dCZlDlHN",
        "colab": {
          "base_uri": "https://localhost:8080/"
        },
        "outputId": "0af66f4b-1211-4997-a5aa-b4ddd5b46db6"
      },
      "outputs": [
        {
          "output_type": "stream",
          "name": "stdout",
          "text": [
            "+--------+-----+\n",
            "|PERP_SEX|count|\n",
            "+--------+-----+\n",
            "|    null|  811|\n",
            "|       M|  696|\n",
            "|       F|   24|\n",
            "+--------+-----+\n",
            "\n"
          ]
        }
      ],
      "source": [
        "df.groupBy('PERP_SEX').count().orderBy('count', ascending=False).show()"
      ]
    },
    {
      "cell_type": "code",
      "execution_count": null,
      "metadata": {
        "id": "8qyhrbbuGqaW",
        "colab": {
          "base_uri": "https://localhost:8080/"
        },
        "outputId": "117a8973-cc14-4df4-8753-0fb76aae9bc6"
      },
      "outputs": [
        {
          "output_type": "stream",
          "name": "stdout",
          "text": [
            "+-------+\n",
            "|VIC_SEX|\n",
            "+-------+\n",
            "|      F|\n",
            "|      M|\n",
            "|      U|\n",
            "+-------+\n",
            "\n"
          ]
        }
      ],
      "source": [
        "df.select('VIC_SEX').distinct().show()"
      ]
    },
    {
      "cell_type": "code",
      "execution_count": null,
      "metadata": {
        "id": "wqIIB5niHER9",
        "colab": {
          "base_uri": "https://localhost:8080/"
        },
        "outputId": "4e3807b1-0024-49bc-f58a-52eaef89475a"
      },
      "outputs": [
        {
          "output_type": "stream",
          "name": "stdout",
          "text": [
            "+-------+-----+\n",
            "|VIC_SEX|count|\n",
            "+-------+-----+\n",
            "|      M| 1369|\n",
            "|      F|  161|\n",
            "|      U|    1|\n",
            "+-------+-----+\n",
            "\n"
          ]
        }
      ],
      "source": [
        "df.groupBy('VIC_SEX').count().orderBy('count', ascending=False).show()"
      ]
    },
    {
      "cell_type": "code",
      "execution_count": null,
      "metadata": {
        "id": "MgV4_9FW-a1j"
      },
      "outputs": [],
      "source": [
        "amount_missing_df = df.select([(count(when(isnan(c) | col(c).isNull(), c))/count(lit(1))).alias(c) for c in df.columns])\n",
        "amount_missing_df.show()"
      ]
    },
    {
      "cell_type": "markdown",
      "metadata": {
        "id": "5HQvMmXgJSy0"
      },
      "source": [
        "#### Thus, we can see that the percentage of null values per variable has gone considerably down after cleaning. Some variables like 'PARKS_NM', 'HADEVELOPT' and such can have null values as established above. "
      ]
    },
    {
      "cell_type": "markdown",
      "metadata": {
        "id": "wK3UbFUwUxbP"
      },
      "source": [
        "JURISDICTION wise count"
      ]
    },
    {
      "cell_type": "code",
      "execution_count": null,
      "metadata": {
        "id": "GzpVkycNq66f",
        "colab": {
          "base_uri": "https://localhost:8080/"
        },
        "outputId": "0dd968f1-69a4-4f3b-ada4-b7fbd6fc518f"
      },
      "outputs": [
        {
          "output_type": "stream",
          "name": "stdout",
          "text": [
            "+--------------------+-----+\n",
            "|       LOCATION_DESC|count|\n",
            "+--------------------+-----+\n",
            "|     COMMERCIAL BLDG|   28|\n",
            "|            HOSPITAL|    7|\n",
            "|           FAST FOOD|    1|\n",
            "|                BANK|    2|\n",
            "|      GROCERY/BODEGA|   38|\n",
            "|         GAS STATION|    8|\n",
            "|MULTI DWELL - PUB...|  250|\n",
            "|          DEPT STORE|    4|\n",
            "|    RESTAURANT/DINER|    6|\n",
            "|         HOTEL/MOTEL|    7|\n",
            "|           PVT HOUSE|   16|\n",
            "|      BAR/NIGHT CLUB|   15|\n",
            "|MULTI DWELL - APT...|   99|\n",
            "|   BEAUTY/NAIL SALON|    5|\n",
            "|                null| 1045|\n",
            "+--------------------+-----+\n",
            "\n"
          ]
        }
      ],
      "source": [
        "df.groupBy('LOCATION_DESC').count().show()"
      ]
    },
    {
      "cell_type": "markdown",
      "metadata": {
        "id": "FI1pGd8s16sd"
      },
      "source": [
        "### Number of columns in Clean Data"
      ]
    },
    {
      "cell_type": "code",
      "execution_count": null,
      "metadata": {
        "id": "rcI9kIjcrRSh",
        "colab": {
          "base_uri": "https://localhost:8080/"
        },
        "outputId": "e1f8dfdd-c626-4103-df58-ccd11670d9f6"
      },
      "outputs": [
        {
          "output_type": "execute_result",
          "data": {
            "text/plain": [
              "15"
            ]
          },
          "metadata": {},
          "execution_count": 58
        }
      ],
      "source": [
        "len(df.columns)"
      ]
    },
    {
      "cell_type": "markdown",
      "metadata": {
        "id": "9htIvQ_X10Op"
      },
      "source": [
        "### Number of rows in Clean Data"
      ]
    },
    {
      "cell_type": "code",
      "execution_count": null,
      "metadata": {
        "id": "g-P3OKE21ubz",
        "colab": {
          "base_uri": "https://localhost:8080/"
        },
        "outputId": "22b4ac76-2ad2-447c-e4ac-f831d72c39b5"
      },
      "outputs": [
        {
          "output_type": "execute_result",
          "data": {
            "text/plain": [
              "1531"
            ]
          },
          "metadata": {},
          "execution_count": 59
        }
      ],
      "source": [
        "df.count()"
      ]
    },
    {
      "cell_type": "code",
      "execution_count": null,
      "metadata": {
        "id": "W2RVtvNr38c_",
        "colab": {
          "base_uri": "https://localhost:8080/"
        },
        "outputId": "c564d340-1d73-48f9-e6fd-5124176ab854"
      },
      "outputs": [
        {
          "output_type": "stream",
          "name": "stdout",
          "text": [
            "root\n",
            " |-- INCIDENT_KEY: integer (nullable = true)\n",
            " |-- OCCUR_DATE: string (nullable = true)\n",
            " |-- OCCUR_TIME: string (nullable = true)\n",
            " |-- BORO: string (nullable = true)\n",
            " |-- PRECINCT: integer (nullable = true)\n",
            " |-- JURISDICTION_CODE: integer (nullable = true)\n",
            " |-- LOCATION_DESC: string (nullable = true)\n",
            " |-- STATISTICAL_MURDER_FLAG: boolean (nullable = true)\n",
            " |-- PERP_AGE_GROUP: string (nullable = true)\n",
            " |-- PERP_SEX: string (nullable = true)\n",
            " |-- PERP_RACE: string (nullable = true)\n",
            " |-- VIC_AGE_GROUP: string (nullable = true)\n",
            " |-- VIC_SEX: string (nullable = true)\n",
            " |-- VIC_RACE: string (nullable = true)\n",
            " |-- New Georeferenced Column: string (nullable = true)\n",
            "\n"
          ]
        }
      ],
      "source": [
        "df.printSchema()"
      ]
    },
    {
      "cell_type": "markdown",
      "metadata": {
        "id": "JLIpnxgHVAfM"
      },
      "source": [
        "### **Exporting Clean Data in CSV**\n",
        "\n",
        "The Cleaned Data Set will be saved as `NYPD_Complaint_Data_Historic_Cleaned.csv`"
      ]
    },
    {
      "cell_type": "code",
      "execution_count": null,
      "metadata": {
        "id": "pNEBquVPrUtx"
      },
      "outputs": [],
      "source": [
        "pd_df = df.toPandas()\n",
        "pd_df.to_csv(\"NYPD_Complaint_Data_Historic_Cleaned_Spark.csv\")"
      ]
    }
  ],
  "metadata": {
    "colab": {
      "collapsed_sections": [],
      "name": "NYPD Shooting Incident Data (Year To Date)",
      "provenance": [],
      "include_colab_link": true
    },
    "kernelspec": {
      "display_name": "Python 3",
      "name": "python3"
    },
    "language_info": {
      "name": "python"
    }
  },
  "nbformat": 4,
  "nbformat_minor": 0
}