{
  "cells": [
    {
      "cell_type": "markdown",
      "metadata": {
        "id": "view-in-github",
        "colab_type": "text"
      },
      "source": [
        "<a href=\"https://colab.research.google.com/github/shubhamgundawarNYU/Big-Data-Project-Group-16/blob/main/misc-datasets-notebooks/Spark_NYPD_Arrest_Data_(Historic).ipynb\" target=\"_parent\"><img src=\"https://colab.research.google.com/assets/colab-badge.svg\" alt=\"Open In Colab\"/></a>"
      ]
    },
    {
      "cell_type": "markdown",
      "metadata": {
        "id": "7-dJg3ZWVPHJ"
      },
      "source": [
        "##**BIG DATA PROJECT**\n",
        "\n",
        "### NYPD Arrest Data (Historic)\n",
        "Link to Dataset (https://data.cityofnewyork.us/Public-Safety/NYPD-Arrests-Data-Historic-/8h9b-rp9u)\n",
        "\n",
        "### DATA CLEANING AT SCALE"
      ]
    },
    {
      "cell_type": "markdown",
      "metadata": {
        "id": "dZWscsxWG6BD"
      },
      "source": [
        "#### Mounting Google Drive to Google Collab Notebook to Load the Data Set\n",
        "\n",
        "Make sure you have the dataset in your Google Drive and you mount your drive to the Colab.\n",
        "\n",
        "The file should be at the following path: `gdrive/My Drive/NYPD_Arrest_Data_Historic.csv`\n"
      ]
    },
    {
      "cell_type": "code",
      "execution_count": null,
      "metadata": {
        "colab": {
          "base_uri": "https://localhost:8080/"
        },
        "id": "wSt7ZZI_zSt2",
        "outputId": "249488a4-259e-44ef-bca7-a68b2976f407"
      },
      "outputs": [
        {
          "output_type": "stream",
          "name": "stdout",
          "text": [
            "Mounted at /content/gdrive\n"
          ]
        }
      ],
      "source": [
        "from google.colab import drive \n",
        "drive.mount('/content/gdrive')"
      ]
    },
    {
      "cell_type": "markdown",
      "metadata": {
        "id": "5XTa8wVQHjVm"
      },
      "source": [
        "#### Importing required and Necessary Libraries for cleaning the data present in the data set"
      ]
    },
    {
      "cell_type": "code",
      "execution_count": null,
      "metadata": {
        "id": "IglUIuU9ntFm"
      },
      "outputs": [],
      "source": [
        "import numpy as np\n",
        "import pandas as pd\n",
        "import io"
      ]
    },
    {
      "cell_type": "code",
      "execution_count": null,
      "metadata": {
        "colab": {
          "base_uri": "https://localhost:8080/"
        },
        "id": "a6CbM0l_UnFq",
        "outputId": "0edc122f-dbce-47f5-e6ad-f86ee33536ac"
      },
      "outputs": [
        {
          "output_type": "stream",
          "name": "stdout",
          "text": [
            "Requirement already satisfied: pyspark in /usr/local/lib/python3.7/dist-packages (3.2.0)\n",
            "Requirement already satisfied: py4j==0.10.9.2 in /usr/local/lib/python3.7/dist-packages (from pyspark) (0.10.9.2)\n"
          ]
        }
      ],
      "source": [
        "!pip install pyspark"
      ]
    },
    {
      "cell_type": "markdown",
      "metadata": {
        "id": "sq8U3BtmhtRx"
      },
      "source": [
        "\n",
        "# **Running Pyspark in Colab**\n",
        "\n",
        "To run spark in Colab, we need to first install all the dependencies in Colab environment i.e. Apache Spark 2.3.2 with hadoop 2.7, Java 8 and Findspark to locate the spark in the system. The tools installation can be carried out inside the Jupyter Notebook of the Colab. One important note is that if you are new in Spark, it is better to avoid Spark 2.4.0 version since some people have already complained about its compatibility issue with python. \n",
        "Follow the steps to install the dependencies:"
      ]
    },
    {
      "cell_type": "code",
      "execution_count": null,
      "metadata": {
        "id": "lh5NCoc8fsSO"
      },
      "outputs": [],
      "source": [
        "!apt-get install openjdk-8-jdk-headless -qq > /dev/null\n",
        "!wget -q https://dlcdn.apache.org/spark/spark-3.2.0/spark-3.2.0-bin-hadoop3.2.tgz\n",
        "!tar xf spark-3.2.0-bin-hadoop3.2.tgz\n",
        "!pip install -q findspark"
      ]
    },
    {
      "cell_type": "markdown",
      "metadata": {
        "id": "ILheUROOhprv"
      },
      "source": [
        "Now that you installed Spark and Java in Colab, it is time to set the environment path which enables you to run Pyspark in your Colab environment. Set the location of Java and Spark by running the following code:"
      ]
    },
    {
      "cell_type": "code",
      "execution_count": null,
      "metadata": {
        "id": "v1b8k_OVf2QF"
      },
      "outputs": [],
      "source": [
        "import os\n",
        "os.environ[\"JAVA_HOME\"] = \"/usr/lib/jvm/java-8-openjdk-amd64\"\n",
        "os.environ[\"SPARK_HOME\"] = \"/content/spark-3.2.0-bin-hadoop3.2\""
      ]
    },
    {
      "cell_type": "markdown",
      "metadata": {
        "id": "KwrqMk3HiMiE"
      },
      "source": [
        "Run a local spark session to test your installation:"
      ]
    },
    {
      "cell_type": "code",
      "execution_count": null,
      "metadata": {
        "id": "9_Uz1NL4gHFx"
      },
      "outputs": [],
      "source": [
        "import findspark\n",
        "findspark.init()\n",
        "from pyspark.sql import SparkSession\n",
        "from pyspark.sql.functions import *\n",
        "from pyspark.sql.types import *\n",
        "spark = SparkSession.builder.getOrCreate()"
      ]
    },
    {
      "cell_type": "markdown",
      "metadata": {
        "id": "Z1n1HPiEIOXF"
      },
      "source": [
        "#### Reading the Data Set CSV File using `spark.read.csv()` Function"
      ]
    },
    {
      "cell_type": "code",
      "execution_count": null,
      "metadata": {
        "id": "NNL-wR74W52g"
      },
      "outputs": [],
      "source": [
        "df = spark.read.csv(\"/content/gdrive/MyDrive/NYPD_Arrest_Data_Historic.csv\", inferSchema=True, header =True)"
      ]
    },
    {
      "cell_type": "code",
      "execution_count": null,
      "metadata": {
        "colab": {
          "base_uri": "https://localhost:8080/"
        },
        "id": "IMecwoTS6upe",
        "outputId": "d449c3a9-19d3-4209-ac51-242eca2c8078"
      },
      "outputs": [
        {
          "output_type": "execute_result",
          "data": {
            "text/plain": [
              "5153369"
            ]
          },
          "metadata": {},
          "execution_count": 8
        }
      ],
      "source": [
        "df.count()"
      ]
    },
    {
      "cell_type": "markdown",
      "metadata": {
        "id": "ZLKtS1rNIjRD"
      },
      "source": [
        "#### Get Data Type for each column present in the Data Set\n",
        "\n",
        "\n"
      ]
    },
    {
      "cell_type": "code",
      "execution_count": null,
      "metadata": {
        "colab": {
          "base_uri": "https://localhost:8080/"
        },
        "id": "tYDkaV6r75y6",
        "outputId": "00a72360-e8f2-47b6-bd69-4e5822998086"
      },
      "outputs": [
        {
          "output_type": "stream",
          "name": "stdout",
          "text": [
            "root\n",
            " |-- ARREST_KEY: integer (nullable = true)\n",
            " |-- ARREST_DATE: string (nullable = true)\n",
            " |-- PD_CD: integer (nullable = true)\n",
            " |-- PD_DESC: string (nullable = true)\n",
            " |-- KY_CD: integer (nullable = true)\n",
            " |-- OFNS_DESC: string (nullable = true)\n",
            " |-- LAW_CODE: string (nullable = true)\n",
            " |-- LAW_CAT_CD: string (nullable = true)\n",
            " |-- ARREST_BORO: string (nullable = true)\n",
            " |-- ARREST_PRECINCT: integer (nullable = true)\n",
            " |-- JURISDICTION_CODE: integer (nullable = true)\n",
            " |-- AGE_GROUP: string (nullable = true)\n",
            " |-- PERP_SEX: string (nullable = true)\n",
            " |-- PERP_RACE: string (nullable = true)\n",
            " |-- X_COORD_CD: double (nullable = true)\n",
            " |-- Y_COORD_CD: double (nullable = true)\n",
            " |-- Latitude: double (nullable = true)\n",
            " |-- Longitude: double (nullable = true)\n",
            " |-- Lon_Lat: string (nullable = true)\n",
            "\n"
          ]
        }
      ],
      "source": [
        "df.printSchema()"
      ]
    },
    {
      "cell_type": "markdown",
      "metadata": {
        "id": "hNCSlJEuJIBS"
      },
      "source": [
        "#### Outputing the List of Columns in the Data Set"
      ]
    },
    {
      "cell_type": "code",
      "execution_count": null,
      "metadata": {
        "colab": {
          "base_uri": "https://localhost:8080/"
        },
        "id": "hApjoVvG9v9Y",
        "outputId": "4f96da5d-ce0d-43d1-910f-1b4bc0567807"
      },
      "outputs": [
        {
          "output_type": "execute_result",
          "data": {
            "text/plain": [
              "['ARREST_KEY',\n",
              " 'ARREST_DATE',\n",
              " 'PD_CD',\n",
              " 'PD_DESC',\n",
              " 'KY_CD',\n",
              " 'OFNS_DESC',\n",
              " 'LAW_CODE',\n",
              " 'LAW_CAT_CD',\n",
              " 'ARREST_BORO',\n",
              " 'ARREST_PRECINCT',\n",
              " 'JURISDICTION_CODE',\n",
              " 'AGE_GROUP',\n",
              " 'PERP_SEX',\n",
              " 'PERP_RACE',\n",
              " 'X_COORD_CD',\n",
              " 'Y_COORD_CD',\n",
              " 'Latitude',\n",
              " 'Longitude',\n",
              " 'Lon_Lat']"
            ]
          },
          "metadata": {},
          "execution_count": 10
        }
      ],
      "source": [
        "df.columns"
      ]
    },
    {
      "cell_type": "markdown",
      "metadata": {
        "id": "LDnW9Gi7Idy4"
      },
      "source": [
        "#### Get top 10 rows of the arrests dataframe"
      ]
    },
    {
      "cell_type": "code",
      "execution_count": null,
      "metadata": {
        "colab": {
          "base_uri": "https://localhost:8080/"
        },
        "id": "AOUrvQEG-UcM",
        "outputId": "46910048-2355-4711-aec6-90ba135f0fe2"
      },
      "outputs": [
        {
          "output_type": "stream",
          "name": "stdout",
          "text": [
            "+----------+-----------+-----+--------------------+-----+-----------------+----------+----------+-----------+---------------+-----------------+---------+--------+--------------+----------+----------+------------------+------------------+--------------------+\n",
            "|ARREST_KEY|ARREST_DATE|PD_CD|             PD_DESC|KY_CD|        OFNS_DESC|  LAW_CODE|LAW_CAT_CD|ARREST_BORO|ARREST_PRECINCT|JURISDICTION_CODE|AGE_GROUP|PERP_SEX|     PERP_RACE|X_COORD_CD|Y_COORD_CD|          Latitude|         Longitude|             Lon_Lat|\n",
            "+----------+-----------+-----+--------------------+-----+-----------------+----------+----------+-----------+---------------+-----------------+---------+--------+--------------+----------+----------+------------------+------------------+--------------------+\n",
            "|  32311380| 06/18/2007|  511|CONTROLLED SUBSTA...|  235|  DANGEROUS DRUGS|PL 2200300|         M|          Q|             27|                1|    18-24|       M|         BLACK|      null|      null|              null|              null|                null|\n",
            "| 192799737| 01/26/2019|  177|        SEXUAL ABUSE|  116|       SEX CRIMES|PL 1306503|         F|          M|             25|                0|    45-64|       M|         BLACK| 1000555.0|  230994.0|40.800694331000045|-73.94110928599997|POINT (-73.941109...|\n",
            "| 193260691| 02/06/2019| null|                null| null|             null|PL 2203400|         F|          M|             14|                0|    25-44|       M|       UNKNOWN|  986685.0|  215375.0| 40.75783900300007|-73.99121211099998|POINT (-73.991212...|\n",
            "| 149117452| 01/06/2016|  153|              RAPE 3|  104|             RAPE|PL 1302503|         F|          K|             67|                0|    25-44|       M|         BLACK|  998032.0|  175598.0|40.648650085000035|-73.95033556299995|POINT (-73.950335...|\n",
            "| 190049060| 11/15/2018|  157|              RAPE 1|  104|             RAPE|PL 1303501|         F|          K|             77|                0|    25-44|       M|         BLACK| 1003606.0|  185050.0| 40.67458330800008|-73.93022154099998|POINT (-73.930221...|\n",
            "|  24288194| 09/13/2006|  203|TRESPASS 3, CRIMINAL|  352|CRIMINAL TRESPASS|PL 140100E|         M|          K|             77|                2|    45-64|       M|         BLACK| 1004580.0|  183838.0| 40.67125445700003|     -73.926713851|POINT (-73.926713...|\n",
            "| 189182271| 10/24/2018|  153|              RAPE 3|  104|             RAPE|PL 1302503|         F|          M|              5|                0|    45-64|       M|WHITE HISPANIC|  984946.0|  200203.0|40.716195914000025|-73.99749074599998|POINT (-73.997490...|\n",
            "| 196324211| 04/23/2019|  157|              RAPE 1|  104|             RAPE|PL 1303501|         F|          K|             77|                0|    45-64|       M|BLACK HISPANIC| 1003606.0|  185050.0| 40.67458330800008|-73.93022154099998|POINT (-73.930221...|\n",
            "| 196785901| 05/04/2019|  175|    SEXUAL ABUSE 3,2|  233|       SEX CRIMES|PL 13052A1|         M|          B|             50|                0|    25-44|       M|         BLACK| 1011257.0|  261130.0|40.883382579000056|-73.90233330899997|POINT (-73.902333...|\n",
            "| 197554056| 05/23/2019|  175|    SEXUAL ABUSE 3,2|  233|       SEX CRIMES|PL 13052A1|         M|          M|             26|                0|    45-64|       F|         BLACK|  996241.0|  236149.0| 40.81485028900005|-73.95668184799996|POINT (-73.956681...|\n",
            "+----------+-----------+-----+--------------------+-----+-----------------+----------+----------+-----------+---------------+-----------------+---------+--------+--------------+----------+----------+------------------+------------------+--------------------+\n",
            "only showing top 10 rows\n",
            "\n"
          ]
        }
      ],
      "source": [
        "df.show(n=10)"
      ]
    },
    {
      "cell_type": "markdown",
      "metadata": {
        "id": "ygOCZQiaG97V"
      },
      "source": [
        "## We see that the columns `X_COORD_CD`,`Y_COORD_CD`, `Latitude` and `Longitude` convey the same data as `Lon_Lat`.\n",
        "\n",
        "#### Hence, we drop those 2 columns and keep only the `Lon_Lat` columns in our cleaned dataset."
      ]
    },
    {
      "cell_type": "code",
      "execution_count": null,
      "metadata": {
        "id": "r51qg2Ji_Ajv"
      },
      "outputs": [],
      "source": [
        "df = df.drop('X_COORD_CD','Y_COORD_CD', 'Latitude', 'Longitude')"
      ]
    },
    {
      "cell_type": "code",
      "execution_count": null,
      "metadata": {
        "colab": {
          "base_uri": "https://localhost:8080/"
        },
        "id": "I52xg3GV_jh0",
        "outputId": "adf901ce-c5b1-41c2-efdf-13d0168dc946"
      },
      "outputs": [
        {
          "output_type": "execute_result",
          "data": {
            "text/plain": [
              "['ARREST_KEY',\n",
              " 'ARREST_DATE',\n",
              " 'PD_CD',\n",
              " 'PD_DESC',\n",
              " 'KY_CD',\n",
              " 'OFNS_DESC',\n",
              " 'LAW_CODE',\n",
              " 'LAW_CAT_CD',\n",
              " 'ARREST_BORO',\n",
              " 'ARREST_PRECINCT',\n",
              " 'JURISDICTION_CODE',\n",
              " 'AGE_GROUP',\n",
              " 'PERP_SEX',\n",
              " 'PERP_RACE',\n",
              " 'Lon_Lat']"
            ]
          },
          "metadata": {},
          "execution_count": 13
        }
      ],
      "source": [
        "df.columns"
      ]
    },
    {
      "cell_type": "markdown",
      "metadata": {
        "id": "xdJS_wPiJaUN"
      },
      "source": [
        "#### Removing all the **duplicate** entries"
      ]
    },
    {
      "cell_type": "code",
      "execution_count": null,
      "metadata": {
        "id": "S2iLHt_GAVJh"
      },
      "outputs": [],
      "source": [
        "df = df.drop_duplicates()"
      ]
    },
    {
      "cell_type": "code",
      "execution_count": null,
      "metadata": {
        "colab": {
          "base_uri": "https://localhost:8080/"
        },
        "id": "o6ec7GPSA5Ol",
        "outputId": "555b1898-8e6c-47c1-becf-662820b79c75"
      },
      "outputs": [
        {
          "output_type": "execute_result",
          "data": {
            "text/plain": [
              "5153369"
            ]
          },
          "metadata": {},
          "execution_count": 15
        }
      ],
      "source": [
        "df.count()"
      ]
    },
    {
      "cell_type": "code",
      "execution_count": null,
      "metadata": {
        "colab": {
          "base_uri": "https://localhost:8080/"
        },
        "id": "5BO82obd0N6u",
        "outputId": "08bb61d7-60b1-4213-c880-e35c0e519d15"
      },
      "outputs": [
        {
          "output_type": "execute_result",
          "data": {
            "text/plain": [
              "5153369"
            ]
          },
          "metadata": {},
          "execution_count": 16
        }
      ],
      "source": [
        "df.distinct().count()"
      ]
    },
    {
      "cell_type": "markdown",
      "metadata": {
        "id": "O4zgb1QPJ02z"
      },
      "source": [
        "#### **Checking** if the arrest key is unique or not"
      ]
    },
    {
      "cell_type": "code",
      "execution_count": null,
      "metadata": {
        "colab": {
          "base_uri": "https://localhost:8080/"
        },
        "id": "R0o2wLm1h4Bo",
        "outputId": "825e2a09-1a1b-4525-b8cc-bfd4384f7dec"
      },
      "outputs": [
        {
          "output_type": "execute_result",
          "data": {
            "text/plain": [
              "5153369"
            ]
          },
          "metadata": {},
          "execution_count": 17
        }
      ],
      "source": [
        "df.select('ARREST_KEY').distinct().count()"
      ]
    },
    {
      "cell_type": "markdown",
      "metadata": {
        "id": "M-_iiUuEJ_5c"
      },
      "source": [
        "#### As we can see `ARREST_KEY` is unique."
      ]
    },
    {
      "cell_type": "code",
      "execution_count": null,
      "metadata": {
        "colab": {
          "base_uri": "https://localhost:8080/"
        },
        "id": "869tZgVki68U",
        "outputId": "56c2ed23-5862-4ea0-fbc4-6757bd0ecd5c"
      },
      "outputs": [
        {
          "output_type": "execute_result",
          "data": {
            "text/plain": [
              "0"
            ]
          },
          "metadata": {},
          "execution_count": 18
        }
      ],
      "source": [
        "df1 = df.groupBy('ARREST_KEY').count().filter(\"count > 1\")\n",
        "df1.drop('count').count()"
      ]
    },
    {
      "cell_type": "code",
      "execution_count": null,
      "metadata": {
        "colab": {
          "base_uri": "https://localhost:8080/"
        },
        "id": "WgA4Q88SoGaW",
        "outputId": "e3c699c8-8e64-49d1-d89b-5c24da845d35"
      },
      "outputs": [
        {
          "output_type": "stream",
          "name": "stdout",
          "text": [
            "+----------+-----+\n",
            "|ARREST_KEY|count|\n",
            "+----------+-----+\n",
            "+----------+-----+\n",
            "\n"
          ]
        }
      ],
      "source": [
        "df1.sort('ARREST_KEY').show(n = 10)"
      ]
    },
    {
      "cell_type": "markdown",
      "metadata": {
        "id": "xIXIyTg_LSGf"
      },
      "source": [
        "#### Check for a particular arrest key `32311380`"
      ]
    },
    {
      "cell_type": "code",
      "execution_count": null,
      "metadata": {
        "colab": {
          "base_uri": "https://localhost:8080/"
        },
        "id": "SuNyl3VjmbXH",
        "outputId": "d0173e27-893d-4b84-9a6f-6f56123d4d4c"
      },
      "outputs": [
        {
          "output_type": "stream",
          "name": "stdout",
          "text": [
            "+----------+-----------+-----+--------------------+-----+---------------+----------+----------+-----------+---------------+-----------------+---------+--------+---------+-------+\n",
            "|ARREST_KEY|ARREST_DATE|PD_CD|             PD_DESC|KY_CD|      OFNS_DESC|  LAW_CODE|LAW_CAT_CD|ARREST_BORO|ARREST_PRECINCT|JURISDICTION_CODE|AGE_GROUP|PERP_SEX|PERP_RACE|Lon_Lat|\n",
            "+----------+-----------+-----+--------------------+-----+---------------+----------+----------+-----------+---------------+-----------------+---------+--------+---------+-------+\n",
            "|  32311380| 06/18/2007|  511|CONTROLLED SUBSTA...|  235|DANGEROUS DRUGS|PL 2200300|         M|          Q|             27|                1|    18-24|       M|    BLACK|   null|\n",
            "+----------+-----------+-----+--------------------+-----+---------------+----------+----------+-----------+---------------+-----------------+---------+--------+---------+-------+\n",
            "\n"
          ]
        }
      ],
      "source": [
        "df.filter('ARREST_KEY = 32311380').show()"
      ]
    },
    {
      "cell_type": "markdown",
      "metadata": {
        "id": "XG8tNFuBT2YJ"
      },
      "source": [
        "#### We understand, that arrest key is unique. Thus, the ARREST_KEY column can be used to uniquely identify a record in the arrests dataset."
      ]
    },
    {
      "cell_type": "markdown",
      "metadata": {
        "id": "n96nZ6Pjq9k1"
      },
      "source": [
        "## Find Count of Null, None, NaN of All DataFrame Columns"
      ]
    },
    {
      "cell_type": "code",
      "execution_count": null,
      "metadata": {
        "colab": {
          "base_uri": "https://localhost:8080/"
        },
        "id": "mxelZ1tgqB74",
        "outputId": "37935903-d70c-44a6-cd79-664a699389ed"
      },
      "outputs": [
        {
          "output_type": "stream",
          "name": "stdout",
          "text": [
            "+----------+-----------+-----+-------+-----+---------+--------+----------+-----------+---------------+-----------------+---------+--------+---------+-------+\n",
            "|ARREST_KEY|ARREST_DATE|PD_CD|PD_DESC|KY_CD|OFNS_DESC|LAW_CODE|LAW_CAT_CD|ARREST_BORO|ARREST_PRECINCT|JURISDICTION_CODE|AGE_GROUP|PERP_SEX|PERP_RACE|Lon_Lat|\n",
            "+----------+-----------+-----+-------+-----+---------+--------+----------+-----------+---------------+-----------------+---------+--------+---------+-------+\n",
            "|         0|          0|  284|   9066| 9066|     9066|     196|     18861|          8|              0|               10|       17|       0|        0|      1|\n",
            "+----------+-----------+-----+-------+-----+---------+--------+----------+-----------+---------------+-----------------+---------+--------+---------+-------+\n",
            "\n"
          ]
        }
      ],
      "source": [
        "df.select([count(when(isnan(c) | col(c).isNull(), c)).alias(c) for c in df.columns]\n",
        "   ).show()"
      ]
    },
    {
      "cell_type": "markdown",
      "metadata": {
        "id": "Wt7SOaqwSIfw"
      },
      "source": [
        "#### Get top 5 rows where Arrest Date is NaN"
      ]
    },
    {
      "cell_type": "code",
      "execution_count": null,
      "metadata": {
        "colab": {
          "base_uri": "https://localhost:8080/"
        },
        "id": "OSBt5ZBcpfv2",
        "outputId": "c7630523-62f3-468d-c46e-b83478fd5597"
      },
      "outputs": [
        {
          "output_type": "stream",
          "name": "stdout",
          "text": [
            "+----------+-----------+-----+-------+-----+---------+--------+----------+-----------+---------------+-----------------+---------+--------+---------+-------+\n",
            "|ARREST_KEY|ARREST_DATE|PD_CD|PD_DESC|KY_CD|OFNS_DESC|LAW_CODE|LAW_CAT_CD|ARREST_BORO|ARREST_PRECINCT|JURISDICTION_CODE|AGE_GROUP|PERP_SEX|PERP_RACE|Lon_Lat|\n",
            "+----------+-----------+-----+-------+-----+---------+--------+----------+-----------+---------------+-----------------+---------+--------+---------+-------+\n",
            "+----------+-----------+-----+-------+-----+---------+--------+----------+-----------+---------------+-----------------+---------+--------+---------+-------+\n",
            "\n"
          ]
        }
      ],
      "source": [
        "df.where(col('ARREST_DATE').isNull()).show(n=5)"
      ]
    },
    {
      "cell_type": "markdown",
      "source": [
        "There are no rows where Arrest Date is not present which is the expected scenario since the arrest would have happened on a particular day."
      ],
      "metadata": {
        "id": "aq-FkT9_JkBu"
      }
    },
    {
      "cell_type": "code",
      "execution_count": null,
      "metadata": {
        "id": "v7i-_-ckTEQ0"
      },
      "outputs": [],
      "source": [
        "df = df.filter(df.ARREST_DATE.isNotNull())"
      ]
    },
    {
      "cell_type": "code",
      "execution_count": null,
      "metadata": {
        "colab": {
          "base_uri": "https://localhost:8080/"
        },
        "id": "VSK0NwkS7gTu",
        "outputId": "176d61d7-3203-4ebd-eb41-4f52f38af5d2"
      },
      "outputs": [
        {
          "output_type": "stream",
          "name": "stdout",
          "text": [
            "+----------+-----------+-----+--------------------+-----+--------------------+----------+----------+-----------+---------------+-----------------+---------+--------+--------------------+--------------------+\n",
            "|ARREST_KEY|ARREST_DATE|PD_CD|             PD_DESC|KY_CD|           OFNS_DESC|  LAW_CODE|LAW_CAT_CD|ARREST_BORO|ARREST_PRECINCT|JURISDICTION_CODE|AGE_GROUP|PERP_SEX|           PERP_RACE|             Lon_Lat|\n",
            "+----------+-----------+-----+--------------------+-----+--------------------+----------+----------+-----------+---------------+-----------------+---------+--------+--------------------+--------------------+\n",
            "| 173142170| 01/01/2018|  109|ASSAULT 2,1,UNCLA...|  106|      FELONY ASSAULT|PL 1200501|         F|          K|             83|                0|    25-44|       F|      WHITE HISPANIC|POINT (-73.921367...|\n",
            "| 173151559| 01/01/2018|  729|FORGERY,ETC.,UNCL...|  113|             FORGERY|PL 1702500|         F|          M|             23|                0|    25-44|       M|               BLACK|POINT (-73.942161...|\n",
            "| 173135545| 01/01/2018|  750|    RESISTING ARREST|  359|OFFENSES AGAINST ...|PL 2053000|         M|          Q|            114|                0|    25-44|       M|      BLACK HISPANIC|POINT (-73.912691...|\n",
            "| 191724882| 01/01/2019|  101|           ASSAULT 3|  344|ASSAULT 3 & RELAT...|PL 1200000|         M|          M|             23|                0|    45-64|       M|               BLACK|POINT (-73.946529...|\n",
            "| 191709541| 01/01/2019|  101|           ASSAULT 3|  344|ASSAULT 3 & RELAT...|PL 1200000|         M|          Q|            101|                0|    25-44|       M|      WHITE HISPANIC|POINT (-73.745406...|\n",
            "| 191724871| 01/01/2019|  779|PUBLIC ADMINISTRA...|  126|MISCELLANEOUS PEN...|PL 215510B|         F|          K|             70|                0|    25-44|       M|               BLACK|POINT (-73.973553...|\n",
            "| 159866359| 01/02/2017|  475|                null| null|                null|PL 1651600|         M|          M|             28|                1|    18-24|       M|               BLACK|POINT (-73.945484...|\n",
            "| 173178391| 01/02/2018|  688|INCOMPETENT PERSO...|  345|ENDAN WELFARE INCOMP|PL 2602400|         M|          K|             63|                0|    25-44|       M|               BLACK|POINT (-73.941383...|\n",
            "| 191773041| 01/02/2019|  397|ROBBERY,OPEN AREA...|  105|             ROBBERY|PL 160102A|         F|          Q|            103|                0|    45-64|       M|               BLACK|POINT (-73.792141...|\n",
            "| 191753728| 01/02/2019|  511|CONTROLLED SUBSTA...|  235|     DANGEROUS DRUGS|PL 2200300|         M|          M|             14|                0|    25-44|       M|               BLACK|POINT (-73.990624...|\n",
            "| 173193796| 01/03/2018|  244|BURGLARY,UNCLASSI...|  107|            BURGLARY|PL 1402000|         F|          K|             90|                0|    25-44|       F|      WHITE HISPANIC|POINT (-73.950350...|\n",
            "| 173209403| 01/03/2018|  397|ROBBERY,UNCLASSIF...|  105|             ROBBERY|PL 160102A|         F|          B|             43|                0|    25-44|       M|               BLACK|POINT (-73.870170...|\n",
            "| 173233832| 01/03/2018|  478|THEFT OF SERVICES...|  343|OTHER OFFENSES RE...|PL 16515M9|         M|          B|             44|                0|    18-24|       F|               BLACK|POINT (-73.927480...|\n",
            "| 173233861| 01/03/2018|  515|CONTROLLED SUBSTA...|  117|     DANGEROUS DRUGS|PL 2203901|         F|          K|             79|                0|    45-64|       F|               BLACK|POINT (-73.956508...|\n",
            "| 191844614| 01/03/2019|  567|MARIJUANA, POSSES...|  235|     DANGEROUS DRUGS|PL 2211001|         M|          K|             75|                2|    18-24|       M|               BLACK|POINT (-73.874037...|\n",
            "| 191839965| 01/03/2019|  729|FORGERY,ETC.,UNCL...|  113|             FORGERY|PL 1704001|         F|          Q|            113|                0|    18-24|       M|               BLACK|POINT (-73.775909...|\n",
            "| 191809288| 01/03/2019|  969|TRAFFIC,UNCLASSIF...|  881|OTHER TRAFFIC INF...|VTL051101A|         M|          K|             76|                0|    45-64|       M|ASIAN / PACIFIC I...|POINT (-73.999832...|\n",
            "| 191883354| 01/04/2019|  175|    SEXUAL ABUSE 3,2|  233|          SEX CRIMES|PL 1305500|         M|          Q|            104|                0|    18-24|       M|             UNKNOWN|POINT (-73.893553...|\n",
            "| 191845081| 01/04/2019|  462|UNAUTHORIZED USE ...|  353|UNAUTHORIZED USE ...|PL 1650501|         M|          S|            121|                0|    45-64|       M|      WHITE HISPANIC|POINT (-74.149226...|\n",
            "| 191868717| 01/04/2019|  744|      BAIL JUMPING 3|  359|OFFENSES AGAINST ...|PL 2155500|         M|          K|             78|                0|    25-44|       M|      BLACK HISPANIC|POINT (-73.988757...|\n",
            "| 173286491| 01/05/2018|  101|           ASSAULT 3|  344|ASSAULT 3 & RELAT...|PL 1200002|         M|          M|             25|                0|    25-44|       M|               BLACK|POINT (-73.940953...|\n",
            "| 191899264| 01/05/2019|  101|           ASSAULT 3|  344|ASSAULT 3 & RELAT...|PL 1200000|         M|          B|             41|                0|    25-44|       M|      WHITE HISPANIC|POINT (-73.895824...|\n",
            "| 191904471| 01/05/2019|  511|CONTROLLED SUBSTA...|  235|     DANGEROUS DRUGS|PL 2200300|         M|          B|             40|                0|    25-44|       M|      WHITE HISPANIC|POINT (-73.916225...|\n",
            "| 191891737| 01/05/2019|  515|CONTROLLED SUBSTA...|  117|     DANGEROUS DRUGS|PL 2203901|         F|          M|              9|                0|    25-44|       M|               BLACK|POINT (-73.986003...|\n",
            "| 173325666| 01/06/2018|  339|LARCENY,PETIT FRO...|  341|       PETIT LARCENY|PL 1552500|         M|          M|             17|                0|    18-24|       M|               BLACK|POINT (-73.966359...|\n",
            "| 191918834| 01/06/2019|  793|WEAPONS POSSESSION 3|  118|   DANGEROUS WEAPONS|PL 2650201|         F|          M|              7|                0|    25-44|       M|               BLACK|POINT (-73.990705...|\n",
            "| 191936990| 01/06/2019|  922|TRAFFIC,UNCLASSIF...|  348|VEHICLE AND TRAFF...|VTL0511001|         M|          B|             49|                0|    25-44|       M|               BLACK|POINT (-73.867997...|\n",
            "| 173346162| 01/07/2018|  101|           ASSAULT 3|  344|ASSAULT 3 & RELAT...|PL 1200001|         M|          M|             23|                2|    18-24|       F|               BLACK|POINT (-73.948611...|\n",
            "| 173333467| 01/07/2018|  259|MISCHIEF,CRIMINAL...|  351|CRIMINAL MISCHIEF...|PL 1450001|         M|          K|             73|                0|    18-24|       F|               BLACK|POINT (-73.907295...|\n",
            "| 191976194| 01/07/2019|  101|           ASSAULT 3|  344|ASSAULT 3 & RELAT...|PL 1200000|         M|          B|             48|                0|      <18|       F|      BLACK HISPANIC|POINT (-73.888174...|\n",
            "| 191979171| 01/07/2019|  101|           ASSAULT 3|  344|ASSAULT 3 & RELAT...|PL 1200000|         M|          Q|            100|                0|      <18|       M|               BLACK|POINT (-73.822827...|\n",
            "| 191946335| 01/07/2019|  339|LARCENY,PETIT FRO...|  341|       PETIT LARCENY|PL 1552500|         M|          M|             13|                0|    25-44|       M|      WHITE HISPANIC|POINT (-73.992098...|\n",
            "| 191970324| 01/07/2019|  922|TRAFFIC,UNCLASSIF...|  348|VEHICLE AND TRAFF...|VTL0511001|         M|          B|             48|                0|    25-44|       M|      WHITE HISPANIC|POINT (-73.898063...|\n",
            "| 173380422| 01/08/2018|  490|STOLEN PROPERTY 3...|  232|POSSESSION OF STO...|PL 1654000|         M|          K|             60|                0|    25-44|       M|               BLACK|POINT (-74.003032...|\n",
            "| 173386161| 01/08/2018|  904|INTOXICATED DRIVI...|  119|INTOXICATED/IMPAI...|VTL11920E3|         F|          K|             62|                0|    25-44|       M|               WHITE|POINT (-73.997916...|\n",
            "| 191994725| 01/08/2019|  101|           ASSAULT 3|  344|ASSAULT 3 & RELAT...|PL 1200000|         M|          B|             44|                0|    18-24|       M|               BLACK|POINT (-73.913506...|\n",
            "| 192003969| 01/08/2019|  109|ASSAULT 2,1,UNCLA...|  106|      FELONY ASSAULT|PL 1200502|         F|          B|             44|                0|    45-64|       M|               BLACK|POINT (-73.931156...|\n",
            "| 192038469| 01/08/2019|  339|LARCENY,PETIT FRO...|  341|       PETIT LARCENY|PL 1552500|         M|          B|             40|                0|    25-44|       M|               BLACK|POINT (-73.915865...|\n",
            "| 173416855| 01/09/2018|  101|           ASSAULT 3|  344|ASSAULT 3 & RELAT...|PL 1200001|         M|          Q|            112|                0|      <18|       F|      WHITE HISPANIC|POINT (-73.849248...|\n",
            "| 173416834| 01/09/2018|  203|TRESPASS 3, CRIMINAL|  352|   CRIMINAL TRESPASS|PL 140100E|         M|          M|              9|                2|    25-44|       M|      WHITE HISPANIC|POINT (-73.976025...|\n",
            "| 173431578| 01/09/2018|  258|CRIMINAL MISCHIEF...|  351|CRIMINAL MISCHIEF...|PL 1456002|         M|          K|             72|                0|    45-64|       M|               BLACK|POINT (-73.989566...|\n",
            "| 192049285| 01/09/2019|  339|LARCENY,PETIT FRO...|  341|       PETIT LARCENY|PL 1552500|         M|          B|             49|                0|    18-24|       M|               BLACK|POINT (-73.861156...|\n",
            "| 192097657| 01/09/2019|  419|LARCENY,GRAND FRO...|  109|       GRAND LARCENY|PL 1553005|         F|          Q|            114|                0|    25-44|       M|      WHITE HISPANIC|POINT (-73.915363...|\n",
            "| 192081234| 01/09/2019|  439|LARCENY,GRAND FRO...|  109|       GRAND LARCENY|PL 1553001|         F|          Q|            104|                0|    18-24|       M|               BLACK|POINT (-73.893470...|\n",
            "| 192093036| 01/09/2019|  505|CONTROLLED SUBSTA...|  117|     DANGEROUS DRUGS|PL 2200906|         F|          B|             40|                1|    25-44|       M|               BLACK|POINT (-73.927313...|\n",
            "|  76781064| 01/10/2011|  263|         ARSON 2,3,4|  114|               ARSON|PL 1501500|         F|          B|             41|               97|      <18|       M|      WHITE HISPANIC|POINT (-73.890658...|\n",
            "| 173471274| 01/10/2018|   49|US CODE,UNCLASSIFIED|  995|   F.C.A. P.I.N.O.S.|FOA9000049|      null|          Q|            109|                0|    25-44|       F|ASIAN / PACIFIC I...|POINT (-73.826869...|\n",
            "| 192148527| 01/10/2019|   49|U.S. CODE UNCLASS...|  995|FOR OTHER AUTHORI...|FOA9000049|      null|          B|             49|                0|    45-64|       M|               BLACK|POINT (-73.838782...|\n",
            "| 192150643| 01/10/2019|  101|           ASSAULT 3|  344|ASSAULT 3 & RELAT...|PL 1200000|         M|          Q|            102|                0|    25-44|       F|               BLACK|POINT (-73.827139...|\n",
            "| 173492965| 01/11/2018|  114| OBSTR BREATH/CIRCUL|  344|ASSAULT 3 & RELAT...|PL 1211100|         M|          B|             42|                0|    25-44|       M|      BLACK HISPANIC|POINT (-73.911694...|\n",
            "| 173477465| 01/11/2018|  478|THEFT OF SERVICES...|  343|OTHER OFFENSES RE...|PL 1651503|         M|          B|             44|                1|    45-64|       M|               BLACK|POINT (-73.925930...|\n",
            "| 173521086| 01/11/2018|  503|CONTROLLED SUBSTA...|  117|     DANGEROUS DRUGS|PL 2201602|         F|          B|             52|                0|    25-44|       M|      BLACK HISPANIC|POINT (-73.900586...|\n",
            "| 173516020| 01/11/2018|  511|CONTROLLED SUBSTA...|  235|     DANGEROUS DRUGS|PL 2200300|         M|          M|              7|                2|    25-44|       M|      WHITE HISPANIC|POINT (-73.978675...|\n",
            "| 173505879| 01/11/2018|  922|TRAFFIC,UNCLASSIF...|  348|VEHICLE AND TRAFF...|VTL0511002|         M|          B|             46|                0|    18-24|       M|               BLACK|POINT (-73.903605...|\n",
            "| 192178967| 01/11/2019|  203|TRESPASS 3, CRIMINAL|  352|   CRIMINAL TRESPASS|PL 140100A|         M|          B|             40|                2|    25-44|       M|      WHITE HISPANIC|POINT (-73.916214...|\n",
            "| 192178903| 01/11/2019|  205|TRESPASS 2, CRIMINAL|  352|   CRIMINAL TRESPASS|PL 1401501|         M|          B|             44|                0|    18-24|       M|      BLACK HISPANIC|POINT (-73.918936...|\n",
            "| 192178987| 01/11/2019|  397|ROBBERY,OPEN AREA...|  105|             ROBBERY|PL 1600500|         F|          K|             60|                0|    25-44|       M|ASIAN / PACIFIC I...|POINT (-73.976336...|\n",
            "| 192179003| 01/11/2019|  397|ROBBERY,OPEN AREA...|  105|             ROBBERY|PL 1601001|         F|          K|             73|                0|      <18|       F|               BLACK|POINT (-73.919598...|\n",
            "| 192194757| 01/11/2019|  511|CONTROLLED SUBSTA...|  235|     DANGEROUS DRUGS|PL 2200300|         M|          K|             62|                0|    18-24|       M|ASIAN / PACIFIC I...|POINT (-74.000458...|\n",
            "| 192179025| 01/11/2019|  511|CONTROLLED SUBSTA...|  235|     DANGEROUS DRUGS|PL 2200300|         M|          K|             79|                0|    25-44|       M|               BLACK|POINT (-73.938819...|\n",
            "| 192195161| 01/11/2019|  729|FORGERY,ETC.,UNCL...|  113|             FORGERY|PL 1702500|         F|          K|             81|                0|    25-44|       F|               BLACK|POINT (-73.921818...|\n",
            "| 192179036| 01/11/2019|  792|WEAPONS POSSESSIO...|  118|   DANGEROUS WEAPONS|PL 265031B|         F|          K|             61|                2|    18-24|       M|      BLACK HISPANIC|POINT (-73.937981...|\n",
            "| 192179000| 01/11/2019|  922|TRAFFIC,UNCLASSIF...|  348|VEHICLE AND TRAFF...|VTL0511001|         M|          K|             71|                0|    25-44|       M|               BLACK|POINT (-73.947999...|\n",
            "|  10069926| 01/12/2006|  511|CONTROLLED SUBSTA...|  235|     DANGEROUS DRUGS|PL 2200300|         M|          Q|            103|                0|    45-64|       F|               BLACK|POINT (-73.802959...|\n",
            "|  10069250| 01/12/2006|  759|PUBLIC ADMINISTAT...|  359|OFFENSES AGAINST ...|PL 1950500|         M|          K|             60|                0|      <18|       M|               WHITE|POINT (-73.967211...|\n",
            "| 173528024| 01/12/2018|  106|ASSAULT 2,1,PEACE...|  106|      FELONY ASSAULT|PL 12005A3|         F|          K|             71|                0|    25-44|       F|               WHITE|POINT (-73.957114...|\n",
            "| 173527262| 01/12/2018|  567|MARIJUANA, POSSES...|  235|     DANGEROUS DRUGS|PL 2211001|         M|          K|             78|                0|    18-24|       M|      WHITE HISPANIC|POINT (-73.967480...|\n",
            "| 173527677| 01/12/2018|  779|PUBLIC ADMINISTRA...|  126|MISCELLANEOUS PEN...|PL 2155100|         F|          B|             40|                2|    25-44|       M|               BLACK|POINT (-73.921004...|\n",
            "| 192209297| 01/12/2019|  101|           ASSAULT 3|  344|ASSAULT 3 & RELAT...|PL 1200000|         M|          Q|            103|                0|    18-24|       M|AMERICAN INDIAN/A...|POINT (-73.792141...|\n",
            "| 192225460| 01/12/2019|  339|LARCENY,PETIT FRO...|  341|       PETIT LARCENY|PL 1552500|         M|          K|             63|                0|    25-44|       M|      WHITE HISPANIC|POINT (-73.920985...|\n",
            "| 192202797| 01/12/2019|  441|LARCENY,GRAND OF ...|  110|GRAND LARCENY OF ...|PL 1553008|         F|          B|             47|                0|    25-44|       F|               BLACK|POINT (-73.862364...|\n",
            "| 192220364| 01/12/2019|  503|CONTROLLED SUBSTA...|  117|     DANGEROUS DRUGS|PL 2201601|         F|          K|             60|                0|    18-24|       M|               WHITE|POINT (-73.986356...|\n",
            "|  10087858| 01/13/2006|  101|           ASSAULT 3|  344|ASSAULT 3 & RELAT...|PL 1200001|         M|          B|             43|                2|    18-24|       M|      WHITE HISPANIC|POINT (-73.845552...|\n",
            "|  10087830| 01/13/2006|  567|MARIJUANA, POSSES...|  235|     DANGEROUS DRUGS|PL 2211001|         M|          B|             47|                0|    25-44|       M|               BLACK|POINT (-73.831292...|\n",
            "| 173574485| 01/13/2018|  750|    RESISTING ARREST|  359|OFFENSES AGAINST ...|PL 2053000|         M|          B|             43|                0|    25-44|       M|      WHITE HISPANIC|POINT (-73.861072...|\n",
            "| 173573481| 01/13/2018|  779|PUBLIC ADMINISTRA...|  126|MISCELLANEOUS PEN...|PL 2155100|         F|          K|             75|                0|    25-44|       M|      WHITE HISPANIC|POINT (-73.893465...|\n",
            "| 173585252| 01/13/2018|  779|PUBLIC ADMINISTRA...|  126|MISCELLANEOUS PEN...|PL 2155100|         F|          K|             81|                0|    45-64|       M|               BLACK|POINT (-73.924054...|\n",
            "| 192241098| 01/13/2019|  729|FORGERY,ETC.,UNCL...|  113|             FORGERY|PL 1702500|         F|          Q|            111|                0|    25-44|       M|      WHITE HISPANIC|POINT (-73.767502...|\n",
            "| 173603908| 01/14/2018|   49|US CODE,UNCLASSIFIED|  995|   F.C.A. P.I.N.O.S.|FOA9000049|      null|          Q|            106|                0|    45-64|       M|      BLACK HISPANIC|POINT (-73.843304...|\n",
            "| 192291841| 01/14/2019|  397|ROBBERY,OPEN AREA...|  105|             ROBBERY|PL 1600500|         F|          B|             40|                2|    18-24|       M|               BLACK|POINT (-73.918630...|\n",
            "| 192277919| 01/14/2019|  439|LARCENY,GRAND FRO...|  109|       GRAND LARCENY|PL 1553004|         F|          M|             24|                0|      <18|       F|               BLACK|POINT (-73.967052...|\n",
            "| 192291879| 01/14/2019|  729|FORGERY,ETC.,UNCL...|  113|             FORGERY|PL 1701004|         F|          K|             73|                1|    25-44|       M|               BLACK|POINT (-73.903286...|\n",
            "|  10098399| 01/15/2006|  113|MENACING,UNCLASSI...|  344|ASSAULT 3 & RELAT...|PL 1201401|         M|          M|              5|                0|    18-24|       M|      BLACK HISPANIC|POINT (-74.001253...|\n",
            "|  10098335| 01/15/2006|  708|IMPERSONATION 1, ...|  126|MISCELLANEOUS PEN...|PL 1902601|         F|          M|             18|                0|    25-44|       M|               OTHER|POINT (-73.982471...|\n",
            "|  69889610| 01/15/2010|  205|TRESPASS 2, CRIMINAL|  352|   CRIMINAL TRESPASS|PL 1401500|         M|          B|             48|                0|    45-64|       M|      WHITE HISPANIC|POINT (-73.881662...|\n",
            "| 173634276| 01/15/2018|  916|LEAVING SCENE-ACC...|  348|VEHICLE AND TRAFF...|VTL06000AA|         M|          M|             28|                0|    45-64|       M|      WHITE HISPANIC|POINT (-73.952354...|\n",
            "| 173615843| 01/15/2018|  922|TRAFFIC,UNCLASSIF...|  348|VEHICLE AND TRAFF...|VTL0511001|         M|          M|             10|                0|    25-44|       M|      WHITE HISPANIC|POINT (-74.004862...|\n",
            "| 192327907| 01/15/2019|  273|TAMPERING 1,CRIMINAL|  121|CRIMINAL MISCHIEF...|PL 1452000|         F|          M|              5|                1|    18-24|       M|               BLACK|POINT (-74.001253...|\n",
            "| 192348065| 01/15/2019|  339|LARCENY,PETIT FRO...|  341|       PETIT LARCENY|PL 1552500|         M|          M|             26|                0|    45-64|       M|               BLACK|POINT (-73.963863...|\n",
            "| 192321765| 01/15/2019|  969|TRAFFIC,UNCLASSIF...|  881|OTHER TRAFFIC INF...|VTL051101A|         M|          Q|            111|                0|    25-44|       M|      WHITE HISPANIC|POINT (-73.761589...|\n",
            "|  10102598| 01/16/2006|  205|TRESPASS 2, CRIMINAL|  352|   CRIMINAL TRESPASS|PL 1401500|         M|          M|             23|                2|    25-44|       M|      WHITE HISPANIC|POINT (-73.945966...|\n",
            "|  10102624| 01/16/2006|  478|THEFT OF SERVICES...|  343|OTHER OFFENSES RE...|PL 1651503|         M|          M|             28|                1|    25-44|       M|               BLACK|POINT (-73.949675...|\n",
            "|  88607402| 01/16/2013|  157|              RAPE 1|  104|                RAPE|PL 1303501|         F|          K|             77|                0|    18-24|       M|      WHITE HISPANIC|POINT (-73.930221...|\n",
            "| 173667002| 01/16/2018|  113|MENACING,UNCLASSI...|  344|ASSAULT 3 & RELAT...|PL 1201401|         M|          Q|            110|                0|    25-44|       M|               BLACK|POINT (-73.870128...|\n",
            "| 173688830| 01/16/2018|  259|MISCHIEF,CRIMINAL...|  351|CRIMINAL MISCHIEF...|PL 1450003|         M|          Q|            106|                0|    45-64|       M|ASIAN / PACIFIC I...|POINT (-73.828218...|\n",
            "| 192383332| 01/16/2019|  244|BURGLARY,UNCLASSI...|  107|            BURGLARY|PL 1402000|         F|          B|             42|                0|    45-64|       M|      WHITE HISPANIC|POINT (-73.885254...|\n",
            "| 192376442| 01/16/2019|  478|THEFT OF SERVICES...|  343|OTHER OFFENSES RE...|PL 1651503|         M|          B|             40|                1|    45-64|       M|               BLACK|POINT (-73.930278...|\n",
            "| 192386949| 01/16/2019|  511|CONTROLLED SUBSTA...|  235|     DANGEROUS DRUGS|PL 2200300|         M|          K|             79|                0|    25-44|       M|               BLACK|POINT (-73.950828...|\n",
            "|  10111314| 01/17/2006|  101|           ASSAULT 3|  344|ASSAULT 3 & RELAT...|PL 1200001|         M|          M|             25|                0|    18-24|       M|      WHITE HISPANIC|POINT (-73.940953...|\n",
            "| 173733902| 01/17/2018|  922|TRAFFIC,UNCLASSIF...|  348|VEHICLE AND TRAFF...|VTL0511001|         M|          M|             13|                0|    45-64|       M|               WHITE|POINT (-73.994227...|\n",
            "+----------+-----------+-----+--------------------+-----+--------------------+----------+----------+-----------+---------------+-----------------+---------+--------+--------------------+--------------------+\n",
            "only showing top 100 rows\n",
            "\n"
          ]
        }
      ],
      "source": [
        "df.show(100)"
      ]
    },
    {
      "cell_type": "markdown",
      "metadata": {
        "id": "xQB6VENfU63C"
      },
      "source": [
        "Check if minimum and maximum values of date and time are valid or not.\n",
        "\n",
        "1. The minimum value is January 1, 2006.\n",
        "\n",
        "2. The maximum value should not be greater than December 31, 2020."
      ]
    },
    {
      "cell_type": "code",
      "execution_count": null,
      "metadata": {
        "colab": {
          "base_uri": "https://localhost:8080/"
        },
        "id": "vVavFmZSuUoz",
        "outputId": "a59257ae-97dc-401b-cd70-0a494433df27"
      },
      "outputs": [
        {
          "output_type": "stream",
          "name": "stdout",
          "text": [
            "+----------------+\n",
            "|min(ARREST_DATE)|\n",
            "+----------------+\n",
            "|      01/01/2006|\n",
            "+----------------+\n",
            "\n"
          ]
        }
      ],
      "source": [
        "## Minimum value of the column in pyspark\n",
        "df.agg({'ARREST_DATE': 'min'}).show()"
      ]
    },
    {
      "cell_type": "code",
      "execution_count": null,
      "metadata": {
        "colab": {
          "base_uri": "https://localhost:8080/"
        },
        "id": "Tono32lCucBj",
        "outputId": "c11844e7-1085-4c7e-8aea-9a5b6717a22d"
      },
      "outputs": [
        {
          "output_type": "stream",
          "name": "stdout",
          "text": [
            "+----------------+\n",
            "|max(ARREST_DATE)|\n",
            "+----------------+\n",
            "|      12/31/2020|\n",
            "+----------------+\n",
            "\n"
          ]
        }
      ],
      "source": [
        "## Maximum value of the column in pyspark\n",
        "df.agg({'ARREST_DATE': 'max'}).show()"
      ]
    },
    {
      "cell_type": "markdown",
      "metadata": {
        "id": "StfFUDBsc_8R"
      },
      "source": [
        "## TODO: Revisit\n",
        "**Some basic data quality checks are as below:**\n",
        "1. Check if there are no garbage values in law category column. The valid values are: 'FELONY', 'VIOLATION', 'MISDEMEANOR'.\n",
        "Check for the value `I`.\n",
        "2. Check if there are no misspellings in Borough Name. There should be 5 distinct boroughs: Manhattan, Bronx, Queens, Brooklyn, Staten Island. We implement unique method, in case of misspellings multiple values of the same borough would be returned.\n",
        "3. Ideally, key code should contain only 3 digits. Implementing a check below to see if there are any invalid values for the key code. "
      ]
    },
    {
      "cell_type": "code",
      "execution_count": null,
      "metadata": {
        "colab": {
          "base_uri": "https://localhost:8080/"
        },
        "id": "thhWypodbGdS",
        "outputId": "ab6ddd09-8fc8-49f7-95ad-0083bbd35869"
      },
      "outputs": [
        {
          "output_type": "stream",
          "name": "stdout",
          "text": [
            "+----------+\n",
            "|LAW_CAT_CD|\n",
            "+----------+\n",
            "|         F|\n",
            "|      null|\n",
            "|         M|\n",
            "|         V|\n",
            "|         I|\n",
            "+----------+\n",
            "\n"
          ]
        }
      ],
      "source": [
        "df.select('LAW_CAT_CD').distinct().show()"
      ]
    },
    {
      "cell_type": "code",
      "source": [
        "df.groupBy('LAW_CAT_CD').count().show()"
      ],
      "metadata": {
        "colab": {
          "base_uri": "https://localhost:8080/"
        },
        "id": "Laz_PeO9LSWD",
        "outputId": "33948683-a215-4d29-932b-186eda7899c7"
      },
      "execution_count": null,
      "outputs": [
        {
          "output_type": "stream",
          "name": "stdout",
          "text": [
            "+----------+-------+\n",
            "|LAW_CAT_CD|  count|\n",
            "+----------+-------+\n",
            "|         F|1404172|\n",
            "|         M|3411013|\n",
            "|         V| 293065|\n",
            "|         I|  26258|\n",
            "|      null|  18861|\n",
            "+----------+-------+\n",
            "\n"
          ]
        }
      ]
    },
    {
      "cell_type": "markdown",
      "metadata": {
        "id": "GZowh0na-VjI"
      },
      "source": [
        "### Checks for Borough Name"
      ]
    },
    {
      "cell_type": "code",
      "execution_count": null,
      "metadata": {
        "colab": {
          "base_uri": "https://localhost:8080/"
        },
        "id": "8EkBxmg_bOue",
        "outputId": "5e9c4455-af0f-4ba8-f8b2-cf65a4210a1b"
      },
      "outputs": [
        {
          "output_type": "stream",
          "name": "stdout",
          "text": [
            "+-----------+\n",
            "|ARREST_BORO|\n",
            "+-----------+\n",
            "|          K|\n",
            "|          Q|\n",
            "|          B|\n",
            "|          M|\n",
            "|          S|\n",
            "|       null|\n",
            "+-----------+\n",
            "\n"
          ]
        }
      ],
      "source": [
        "df.select('ARREST_BORO').distinct().show()"
      ]
    },
    {
      "cell_type": "markdown",
      "metadata": {
        "id": "CLGPDp3OAdxF"
      },
      "source": [
        "We can see there are no invalid values for the Borough names and thus no need for additional data correction for the same."
      ]
    },
    {
      "cell_type": "code",
      "execution_count": null,
      "metadata": {
        "colab": {
          "base_uri": "https://localhost:8080/"
        },
        "id": "TGS80nUK-O1f",
        "outputId": "4f3f4613-9d24-47c2-fdff-5637bc532c94"
      },
      "outputs": [
        {
          "output_type": "stream",
          "name": "stdout",
          "text": [
            "+----------+-----------+-----+--------------------+-----+--------------------+----------+----------+-----------+---------------+-----------------+---------+--------+--------------+--------------------+\n",
            "|ARREST_KEY|ARREST_DATE|PD_CD|             PD_DESC|KY_CD|           OFNS_DESC|  LAW_CODE|LAW_CAT_CD|ARREST_BORO|ARREST_PRECINCT|JURISDICTION_CODE|AGE_GROUP|PERP_SEX|     PERP_RACE|             Lon_Lat|\n",
            "+----------+-----------+-----+--------------------+-----+--------------------+----------+----------+-----------+---------------+-----------------+---------+--------+--------------+--------------------+\n",
            "|  86596544| 09/05/2012|  297|FACILITATION 4, C...|  354|ANTICIPATORY OFFE...|PL 1150001|         M|       null|              5|                0|    18-24|       M|         BLACK|POINT (-74.001238...|\n",
            "|  61712847| 05/13/2009|  567|MARIJUANA, POSSES...|  235|     DANGEROUS DRUGS|PL 2211001|         M|       null|             34|                0|    18-24|       M|         BLACK|POINT (-73.927240...|\n",
            "|  56349345| 02/05/2009|  511|CONTROLLED SUBSTA...|  235|     DANGEROUS DRUGS|PL 2200300|         M|       null|             60|                0|    45-64|       F|         BLACK|POINT (-73.998424...|\n",
            "|  65627643| 09/10/2009|  490|STOLEN PROPERTY 3...|  232|POSSESSION OF STO...|PL 1654000|         M|       null|              9|                0|      <18|       M|         BLACK|POINT (-73.996285...|\n",
            "|  44798797| 03/25/2008|  969|TRAFFIC,UNCLASSIF...|  881|OTHER TRAFFIC INF...|VTL051101A|         M|       null|             62|                0|    25-44|       M|BLACK HISPANIC|POINT (-73.997999...|\n",
            "|  38776166| 01/31/2008|  101|           ASSAULT 3|  344|ASSAULT 3 & RELAT...|PL 1200001|         M|       null|              5|                0|    18-24|       M|BLACK HISPANIC|POINT (-74.001238...|\n",
            "|  37811154| 01/18/2008|  478|THEFT OF SERVICES...|  343|OTHER OFFENSES RE...|PL 1651502|         M|       null|             30|                0|    25-44|       F|WHITE HISPANIC|POINT (-73.941771...|\n",
            "|  39275686| 02/20/2008|  511|CONTROLLED SUBSTA...|  235|     DANGEROUS DRUGS|PL 2200300|         M|       null|             46|                0|    45-64|       M|         BLACK|POINT (-73.900192...|\n",
            "+----------+-----------+-----+--------------------+-----+--------------------+----------+----------+-----------+---------------+-----------------+---------+--------+--------------+--------------------+\n",
            "\n"
          ]
        }
      ],
      "source": [
        "df.where(col('ARREST_BORO').isNull()).show()"
      ]
    },
    {
      "cell_type": "markdown",
      "metadata": {
        "id": "8PBAVylwS6md"
      },
      "source": [
        "#### Dropping Rows where Borough Name is NULL"
      ]
    },
    {
      "cell_type": "code",
      "execution_count": null,
      "metadata": {
        "id": "3lxbjLgg37V8"
      },
      "outputs": [],
      "source": [
        "df = df.filter(df.ARREST_BORO.isNotNull())"
      ]
    },
    {
      "cell_type": "code",
      "execution_count": null,
      "metadata": {
        "colab": {
          "base_uri": "https://localhost:8080/"
        },
        "id": "BdsO97LX6bSs",
        "outputId": "b8122585-c909-4f23-e4ba-a451f70fe002"
      },
      "outputs": [
        {
          "output_type": "execute_result",
          "data": {
            "text/plain": [
              "5153361"
            ]
          },
          "metadata": {},
          "execution_count": 32
        }
      ],
      "source": [
        "df.count()"
      ]
    },
    {
      "cell_type": "code",
      "execution_count": null,
      "metadata": {
        "colab": {
          "base_uri": "https://localhost:8080/"
        },
        "id": "5TxYWPFN-mP5",
        "outputId": "44aaedd3-6d27-4318-fa14-f4abdf69f32d"
      },
      "outputs": [
        {
          "output_type": "stream",
          "name": "stdout",
          "text": [
            "+----------+-----------+-----+-------+-----+---------+--------+----------+-----------+---------------+-----------------+---------+--------+---------+-------+\n",
            "|ARREST_KEY|ARREST_DATE|PD_CD|PD_DESC|KY_CD|OFNS_DESC|LAW_CODE|LAW_CAT_CD|ARREST_BORO|ARREST_PRECINCT|JURISDICTION_CODE|AGE_GROUP|PERP_SEX|PERP_RACE|Lon_Lat|\n",
            "+----------+-----------+-----+-------+-----+---------+--------+----------+-----------+---------------+-----------------+---------+--------+---------+-------+\n",
            "+----------+-----------+-----+-------+-----+---------+--------+----------+-----------+---------------+-----------------+---------+--------+---------+-------+\n",
            "\n"
          ]
        }
      ],
      "source": [
        "df.filter(df.ARREST_BORO.isNull()).show()"
      ]
    },
    {
      "cell_type": "markdown",
      "metadata": {
        "id": "yrZc_yocN8wq"
      },
      "source": [
        "#### We can see that all the key codes are valid 3-digit numbers"
      ]
    },
    {
      "cell_type": "code",
      "execution_count": null,
      "metadata": {
        "colab": {
          "base_uri": "https://localhost:8080/"
        },
        "id": "LpMZbUBasZQa",
        "outputId": "f228a0dc-e6f4-44d2-c8e9-7c406c90af9f"
      },
      "outputs": [
        {
          "output_type": "execute_result",
          "data": {
            "text/plain": [
              "0"
            ]
          },
          "metadata": {},
          "execution_count": 34
        }
      ],
      "source": [
        "df.filter((df.KY_CD < 100) | (df.KY_CD > 999)).count()"
      ]
    },
    {
      "cell_type": "markdown",
      "metadata": {
        "id": "2yoI3xH_tbtM"
      },
      "source": [
        "## Defining checks for outliers in age group"
      ]
    },
    {
      "cell_type": "code",
      "execution_count": null,
      "metadata": {
        "colab": {
          "base_uri": "https://localhost:8080/"
        },
        "id": "DPf0c3XRtMth",
        "outputId": "2b5008a4-77c2-4c2a-be69-234f75961ae6"
      },
      "outputs": [
        {
          "output_type": "stream",
          "name": "stdout",
          "text": [
            "+---------+\n",
            "|AGE_GROUP|\n",
            "+---------+\n",
            "|      944|\n",
            "|      740|\n",
            "|      940|\n",
            "|      938|\n",
            "|      323|\n",
            "|      895|\n",
            "|      352|\n",
            "|      894|\n",
            "|      951|\n",
            "|      <18|\n",
            "|    25-44|\n",
            "|      928|\n",
            "|     null|\n",
            "|      320|\n",
            "|      912|\n",
            "|      948|\n",
            "|      943|\n",
            "|      935|\n",
            "|      932|\n",
            "|      194|\n",
            "+---------+\n",
            "only showing top 20 rows\n",
            "\n"
          ]
        }
      ],
      "source": [
        "df.select('AGE_GROUP').distinct().show()"
      ]
    },
    {
      "cell_type": "markdown",
      "metadata": {
        "id": "PupPgsepOcUV"
      },
      "source": [
        "#### There are many invalid age groups like unrealistically high age groups, etc. although no negative values are there.\n",
        "\n",
        "#### Lets find all the invalid age groups and replace them with `NaN`"
      ]
    },
    {
      "cell_type": "code",
      "execution_count": null,
      "metadata": {
        "id": "4PZeQuUBtmaT",
        "colab": {
          "base_uri": "https://localhost:8080/"
        },
        "outputId": "1cdc8151-44a6-46f6-9902-55a10cafd201"
      },
      "outputs": [
        {
          "output_type": "stream",
          "name": "stdout",
          "text": [
            "+----------+-----------+-----+--------------------+-----+--------------------+----------+----------+-----------+---------------+-----------------+---------+--------+--------------------+--------------------+\n",
            "|ARREST_KEY|ARREST_DATE|PD_CD|             PD_DESC|KY_CD|           OFNS_DESC|  LAW_CODE|LAW_CAT_CD|ARREST_BORO|ARREST_PRECINCT|JURISDICTION_CODE|AGE_GROUP|PERP_SEX|           PERP_RACE|             Lon_Lat|\n",
            "+----------+-----------+-----+--------------------+-----+--------------------+----------+----------+-----------+---------------+-----------------+---------+--------+--------------------+--------------------+\n",
            "| 173142170| 01/01/2018|  109|ASSAULT 2,1,UNCLA...|  106|      FELONY ASSAULT|PL 1200501|         F|          K|             83|                0|    25-44|       F|      WHITE HISPANIC|POINT (-73.921367...|\n",
            "| 173151559| 01/01/2018|  729|FORGERY,ETC.,UNCL...|  113|             FORGERY|PL 1702500|         F|          M|             23|                0|    25-44|       M|               BLACK|POINT (-73.942161...|\n",
            "| 173135545| 01/01/2018|  750|    RESISTING ARREST|  359|OFFENSES AGAINST ...|PL 2053000|         M|          Q|            114|                0|    25-44|       M|      BLACK HISPANIC|POINT (-73.912691...|\n",
            "| 191724882| 01/01/2019|  101|           ASSAULT 3|  344|ASSAULT 3 & RELAT...|PL 1200000|         M|          M|             23|                0|    45-64|       M|               BLACK|POINT (-73.946529...|\n",
            "| 191709541| 01/01/2019|  101|           ASSAULT 3|  344|ASSAULT 3 & RELAT...|PL 1200000|         M|          Q|            101|                0|    25-44|       M|      WHITE HISPANIC|POINT (-73.745406...|\n",
            "| 191724871| 01/01/2019|  779|PUBLIC ADMINISTRA...|  126|MISCELLANEOUS PEN...|PL 215510B|         F|          K|             70|                0|    25-44|       M|               BLACK|POINT (-73.973553...|\n",
            "| 159866359| 01/02/2017|  475|                null| null|                null|PL 1651600|         M|          M|             28|                1|    18-24|       M|               BLACK|POINT (-73.945484...|\n",
            "| 173178391| 01/02/2018|  688|INCOMPETENT PERSO...|  345|ENDAN WELFARE INCOMP|PL 2602400|         M|          K|             63|                0|    25-44|       M|               BLACK|POINT (-73.941383...|\n",
            "| 191773041| 01/02/2019|  397|ROBBERY,OPEN AREA...|  105|             ROBBERY|PL 160102A|         F|          Q|            103|                0|    45-64|       M|               BLACK|POINT (-73.792141...|\n",
            "| 191753728| 01/02/2019|  511|CONTROLLED SUBSTA...|  235|     DANGEROUS DRUGS|PL 2200300|         M|          M|             14|                0|    25-44|       M|               BLACK|POINT (-73.990624...|\n",
            "| 173193796| 01/03/2018|  244|BURGLARY,UNCLASSI...|  107|            BURGLARY|PL 1402000|         F|          K|             90|                0|    25-44|       F|      WHITE HISPANIC|POINT (-73.950350...|\n",
            "| 173209403| 01/03/2018|  397|ROBBERY,UNCLASSIF...|  105|             ROBBERY|PL 160102A|         F|          B|             43|                0|    25-44|       M|               BLACK|POINT (-73.870170...|\n",
            "| 173233832| 01/03/2018|  478|THEFT OF SERVICES...|  343|OTHER OFFENSES RE...|PL 16515M9|         M|          B|             44|                0|    18-24|       F|               BLACK|POINT (-73.927480...|\n",
            "| 173233861| 01/03/2018|  515|CONTROLLED SUBSTA...|  117|     DANGEROUS DRUGS|PL 2203901|         F|          K|             79|                0|    45-64|       F|               BLACK|POINT (-73.956508...|\n",
            "| 191844614| 01/03/2019|  567|MARIJUANA, POSSES...|  235|     DANGEROUS DRUGS|PL 2211001|         M|          K|             75|                2|    18-24|       M|               BLACK|POINT (-73.874037...|\n",
            "| 191839965| 01/03/2019|  729|FORGERY,ETC.,UNCL...|  113|             FORGERY|PL 1704001|         F|          Q|            113|                0|    18-24|       M|               BLACK|POINT (-73.775909...|\n",
            "| 191809288| 01/03/2019|  969|TRAFFIC,UNCLASSIF...|  881|OTHER TRAFFIC INF...|VTL051101A|         M|          K|             76|                0|    45-64|       M|ASIAN / PACIFIC I...|POINT (-73.999832...|\n",
            "| 191883354| 01/04/2019|  175|    SEXUAL ABUSE 3,2|  233|          SEX CRIMES|PL 1305500|         M|          Q|            104|                0|    18-24|       M|             UNKNOWN|POINT (-73.893553...|\n",
            "| 191845081| 01/04/2019|  462|UNAUTHORIZED USE ...|  353|UNAUTHORIZED USE ...|PL 1650501|         M|          S|            121|                0|    45-64|       M|      WHITE HISPANIC|POINT (-74.149226...|\n",
            "| 191868717| 01/04/2019|  744|      BAIL JUMPING 3|  359|OFFENSES AGAINST ...|PL 2155500|         M|          K|             78|                0|    25-44|       M|      BLACK HISPANIC|POINT (-73.988757...|\n",
            "+----------+-----------+-----+--------------------+-----+--------------------+----------+----------+-----------+---------------+-----------------+---------+--------+--------------------+--------------------+\n",
            "only showing top 20 rows\n",
            "\n"
          ]
        }
      ],
      "source": [
        "valid_age_groups = ['<18','18-24','25-44','45-64','65+',np.NaN]\n",
        "df = df.withColumn('AGE_GROUP', when(df.AGE_GROUP.isin(valid_age_groups), df.AGE_GROUP).otherwise(np.NaN))\n",
        "df.show()"
      ]
    },
    {
      "cell_type": "code",
      "execution_count": null,
      "metadata": {
        "id": "Y4_Sm8jySwhZ",
        "colab": {
          "base_uri": "https://localhost:8080/"
        },
        "outputId": "be580d50-f581-4fd0-80c2-f5f49c5d76bd"
      },
      "outputs": [
        {
          "output_type": "stream",
          "name": "stdout",
          "text": [
            "+---------+\n",
            "|AGE_GROUP|\n",
            "+---------+\n",
            "|      <18|\n",
            "|    25-44|\n",
            "|      65+|\n",
            "|      NaN|\n",
            "|    18-24|\n",
            "|    45-64|\n",
            "+---------+\n",
            "\n"
          ]
        }
      ],
      "source": [
        "df.select('AGE_GROUP').distinct().show()"
      ]
    },
    {
      "cell_type": "markdown",
      "metadata": {
        "id": "9C5Wbu2Hrb4m"
      },
      "source": [
        "### Check for Race Values "
      ]
    },
    {
      "cell_type": "code",
      "execution_count": null,
      "metadata": {
        "id": "mGZ6lAHAoC7m",
        "colab": {
          "base_uri": "https://localhost:8080/"
        },
        "outputId": "309c8821-6d10-40bb-8a6f-da236630e219"
      },
      "outputs": [
        {
          "output_type": "stream",
          "name": "stdout",
          "text": [
            "+--------------------+\n",
            "|           PERP_RACE|\n",
            "+--------------------+\n",
            "|               WHITE|\n",
            "|               BLACK|\n",
            "|AMERICAN INDIAN/A...|\n",
            "|      BLACK HISPANIC|\n",
            "|      WHITE HISPANIC|\n",
            "|             UNKNOWN|\n",
            "|               OTHER|\n",
            "|ASIAN / PACIFIC I...|\n",
            "+--------------------+\n",
            "\n"
          ]
        }
      ],
      "source": [
        "df.select('PERP_RACE').distinct().show()"
      ]
    },
    {
      "cell_type": "markdown",
      "metadata": {
        "id": "zL4B-B4f2fp2"
      },
      "source": [
        "#### Replace all `UNKNOWN` values with `NaN`"
      ]
    },
    {
      "cell_type": "code",
      "execution_count": null,
      "metadata": {
        "id": "lC0bTJYj2W2Q"
      },
      "outputs": [],
      "source": [
        "from pyspark.sql.functions import regexp_replace\n",
        "\n",
        "df = df.withColumn(\"PERP_RACE\",\n",
        "  regexp_replace(\"PERP_RACE\", \"UNKNOWN\", \"NaN\"))"
      ]
    },
    {
      "cell_type": "code",
      "execution_count": null,
      "metadata": {
        "id": "Lz15zl4N8e5l",
        "colab": {
          "base_uri": "https://localhost:8080/"
        },
        "outputId": "6fbfe000-829f-4fe6-df7c-4f50c6185aef"
      },
      "outputs": [
        {
          "output_type": "stream",
          "name": "stdout",
          "text": [
            "+----------+-----------+-----+--------------------+-----+--------------------+----------+----------+-----------+---------------+-----------------+---------+--------+--------------------+--------------------+\n",
            "|ARREST_KEY|ARREST_DATE|PD_CD|             PD_DESC|KY_CD|           OFNS_DESC|  LAW_CODE|LAW_CAT_CD|ARREST_BORO|ARREST_PRECINCT|JURISDICTION_CODE|AGE_GROUP|PERP_SEX|           PERP_RACE|             Lon_Lat|\n",
            "+----------+-----------+-----+--------------------+-----+--------------------+----------+----------+-----------+---------------+-----------------+---------+--------+--------------------+--------------------+\n",
            "| 173142170| 01/01/2018|  109|ASSAULT 2,1,UNCLA...|  106|      FELONY ASSAULT|PL 1200501|         F|          K|             83|                0|    25-44|       F|      WHITE HISPANIC|POINT (-73.921367...|\n",
            "| 173151559| 01/01/2018|  729|FORGERY,ETC.,UNCL...|  113|             FORGERY|PL 1702500|         F|          M|             23|                0|    25-44|       M|               BLACK|POINT (-73.942161...|\n",
            "| 173135545| 01/01/2018|  750|    RESISTING ARREST|  359|OFFENSES AGAINST ...|PL 2053000|         M|          Q|            114|                0|    25-44|       M|      BLACK HISPANIC|POINT (-73.912691...|\n",
            "| 191724882| 01/01/2019|  101|           ASSAULT 3|  344|ASSAULT 3 & RELAT...|PL 1200000|         M|          M|             23|                0|    45-64|       M|               BLACK|POINT (-73.946529...|\n",
            "| 191709541| 01/01/2019|  101|           ASSAULT 3|  344|ASSAULT 3 & RELAT...|PL 1200000|         M|          Q|            101|                0|    25-44|       M|      WHITE HISPANIC|POINT (-73.745406...|\n",
            "| 191724871| 01/01/2019|  779|PUBLIC ADMINISTRA...|  126|MISCELLANEOUS PEN...|PL 215510B|         F|          K|             70|                0|    25-44|       M|               BLACK|POINT (-73.973553...|\n",
            "| 159866359| 01/02/2017|  475|                null| null|                null|PL 1651600|         M|          M|             28|                1|    18-24|       M|               BLACK|POINT (-73.945484...|\n",
            "| 173178391| 01/02/2018|  688|INCOMPETENT PERSO...|  345|ENDAN WELFARE INCOMP|PL 2602400|         M|          K|             63|                0|    25-44|       M|               BLACK|POINT (-73.941383...|\n",
            "| 191773041| 01/02/2019|  397|ROBBERY,OPEN AREA...|  105|             ROBBERY|PL 160102A|         F|          Q|            103|                0|    45-64|       M|               BLACK|POINT (-73.792141...|\n",
            "| 191753728| 01/02/2019|  511|CONTROLLED SUBSTA...|  235|     DANGEROUS DRUGS|PL 2200300|         M|          M|             14|                0|    25-44|       M|               BLACK|POINT (-73.990624...|\n",
            "| 173193796| 01/03/2018|  244|BURGLARY,UNCLASSI...|  107|            BURGLARY|PL 1402000|         F|          K|             90|                0|    25-44|       F|      WHITE HISPANIC|POINT (-73.950350...|\n",
            "| 173209403| 01/03/2018|  397|ROBBERY,UNCLASSIF...|  105|             ROBBERY|PL 160102A|         F|          B|             43|                0|    25-44|       M|               BLACK|POINT (-73.870170...|\n",
            "| 173233832| 01/03/2018|  478|THEFT OF SERVICES...|  343|OTHER OFFENSES RE...|PL 16515M9|         M|          B|             44|                0|    18-24|       F|               BLACK|POINT (-73.927480...|\n",
            "| 173233861| 01/03/2018|  515|CONTROLLED SUBSTA...|  117|     DANGEROUS DRUGS|PL 2203901|         F|          K|             79|                0|    45-64|       F|               BLACK|POINT (-73.956508...|\n",
            "| 191844614| 01/03/2019|  567|MARIJUANA, POSSES...|  235|     DANGEROUS DRUGS|PL 2211001|         M|          K|             75|                2|    18-24|       M|               BLACK|POINT (-73.874037...|\n",
            "| 191839965| 01/03/2019|  729|FORGERY,ETC.,UNCL...|  113|             FORGERY|PL 1704001|         F|          Q|            113|                0|    18-24|       M|               BLACK|POINT (-73.775909...|\n",
            "| 191809288| 01/03/2019|  969|TRAFFIC,UNCLASSIF...|  881|OTHER TRAFFIC INF...|VTL051101A|         M|          K|             76|                0|    45-64|       M|ASIAN / PACIFIC I...|POINT (-73.999832...|\n",
            "| 191883354| 01/04/2019|  175|    SEXUAL ABUSE 3,2|  233|          SEX CRIMES|PL 1305500|         M|          Q|            104|                0|    18-24|       M|                 NaN|POINT (-73.893553...|\n",
            "| 191845081| 01/04/2019|  462|UNAUTHORIZED USE ...|  353|UNAUTHORIZED USE ...|PL 1650501|         M|          S|            121|                0|    45-64|       M|      WHITE HISPANIC|POINT (-74.149226...|\n",
            "| 191868717| 01/04/2019|  744|      BAIL JUMPING 3|  359|OFFENSES AGAINST ...|PL 2155500|         M|          K|             78|                0|    25-44|       M|      BLACK HISPANIC|POINT (-73.988757...|\n",
            "| 173286491| 01/05/2018|  101|           ASSAULT 3|  344|ASSAULT 3 & RELAT...|PL 1200002|         M|          M|             25|                0|    25-44|       M|               BLACK|POINT (-73.940953...|\n",
            "| 191899264| 01/05/2019|  101|           ASSAULT 3|  344|ASSAULT 3 & RELAT...|PL 1200000|         M|          B|             41|                0|    25-44|       M|      WHITE HISPANIC|POINT (-73.895824...|\n",
            "| 191904471| 01/05/2019|  511|CONTROLLED SUBSTA...|  235|     DANGEROUS DRUGS|PL 2200300|         M|          B|             40|                0|    25-44|       M|      WHITE HISPANIC|POINT (-73.916225...|\n",
            "| 191891737| 01/05/2019|  515|CONTROLLED SUBSTA...|  117|     DANGEROUS DRUGS|PL 2203901|         F|          M|              9|                0|    25-44|       M|               BLACK|POINT (-73.986003...|\n",
            "| 173325666| 01/06/2018|  339|LARCENY,PETIT FRO...|  341|       PETIT LARCENY|PL 1552500|         M|          M|             17|                0|    18-24|       M|               BLACK|POINT (-73.966359...|\n",
            "| 191918834| 01/06/2019|  793|WEAPONS POSSESSION 3|  118|   DANGEROUS WEAPONS|PL 2650201|         F|          M|              7|                0|    25-44|       M|               BLACK|POINT (-73.990705...|\n",
            "| 191936990| 01/06/2019|  922|TRAFFIC,UNCLASSIF...|  348|VEHICLE AND TRAFF...|VTL0511001|         M|          B|             49|                0|    25-44|       M|               BLACK|POINT (-73.867997...|\n",
            "| 173346162| 01/07/2018|  101|           ASSAULT 3|  344|ASSAULT 3 & RELAT...|PL 1200001|         M|          M|             23|                2|    18-24|       F|               BLACK|POINT (-73.948611...|\n",
            "| 173333467| 01/07/2018|  259|MISCHIEF,CRIMINAL...|  351|CRIMINAL MISCHIEF...|PL 1450001|         M|          K|             73|                0|    18-24|       F|               BLACK|POINT (-73.907295...|\n",
            "| 191976194| 01/07/2019|  101|           ASSAULT 3|  344|ASSAULT 3 & RELAT...|PL 1200000|         M|          B|             48|                0|      <18|       F|      BLACK HISPANIC|POINT (-73.888174...|\n",
            "| 191979171| 01/07/2019|  101|           ASSAULT 3|  344|ASSAULT 3 & RELAT...|PL 1200000|         M|          Q|            100|                0|      <18|       M|               BLACK|POINT (-73.822827...|\n",
            "| 191946335| 01/07/2019|  339|LARCENY,PETIT FRO...|  341|       PETIT LARCENY|PL 1552500|         M|          M|             13|                0|    25-44|       M|      WHITE HISPANIC|POINT (-73.992098...|\n",
            "| 191970324| 01/07/2019|  922|TRAFFIC,UNCLASSIF...|  348|VEHICLE AND TRAFF...|VTL0511001|         M|          B|             48|                0|    25-44|       M|      WHITE HISPANIC|POINT (-73.898063...|\n",
            "| 173380422| 01/08/2018|  490|STOLEN PROPERTY 3...|  232|POSSESSION OF STO...|PL 1654000|         M|          K|             60|                0|    25-44|       M|               BLACK|POINT (-74.003032...|\n",
            "| 173386161| 01/08/2018|  904|INTOXICATED DRIVI...|  119|INTOXICATED/IMPAI...|VTL11920E3|         F|          K|             62|                0|    25-44|       M|               WHITE|POINT (-73.997916...|\n",
            "| 191994725| 01/08/2019|  101|           ASSAULT 3|  344|ASSAULT 3 & RELAT...|PL 1200000|         M|          B|             44|                0|    18-24|       M|               BLACK|POINT (-73.913506...|\n",
            "| 192003969| 01/08/2019|  109|ASSAULT 2,1,UNCLA...|  106|      FELONY ASSAULT|PL 1200502|         F|          B|             44|                0|    45-64|       M|               BLACK|POINT (-73.931156...|\n",
            "| 192038469| 01/08/2019|  339|LARCENY,PETIT FRO...|  341|       PETIT LARCENY|PL 1552500|         M|          B|             40|                0|    25-44|       M|               BLACK|POINT (-73.915865...|\n",
            "| 173416855| 01/09/2018|  101|           ASSAULT 3|  344|ASSAULT 3 & RELAT...|PL 1200001|         M|          Q|            112|                0|      <18|       F|      WHITE HISPANIC|POINT (-73.849248...|\n",
            "| 173416834| 01/09/2018|  203|TRESPASS 3, CRIMINAL|  352|   CRIMINAL TRESPASS|PL 140100E|         M|          M|              9|                2|    25-44|       M|      WHITE HISPANIC|POINT (-73.976025...|\n",
            "| 173431578| 01/09/2018|  258|CRIMINAL MISCHIEF...|  351|CRIMINAL MISCHIEF...|PL 1456002|         M|          K|             72|                0|    45-64|       M|               BLACK|POINT (-73.989566...|\n",
            "| 192049285| 01/09/2019|  339|LARCENY,PETIT FRO...|  341|       PETIT LARCENY|PL 1552500|         M|          B|             49|                0|    18-24|       M|               BLACK|POINT (-73.861156...|\n",
            "| 192097657| 01/09/2019|  419|LARCENY,GRAND FRO...|  109|       GRAND LARCENY|PL 1553005|         F|          Q|            114|                0|    25-44|       M|      WHITE HISPANIC|POINT (-73.915363...|\n",
            "| 192081234| 01/09/2019|  439|LARCENY,GRAND FRO...|  109|       GRAND LARCENY|PL 1553001|         F|          Q|            104|                0|    18-24|       M|               BLACK|POINT (-73.893470...|\n",
            "| 192093036| 01/09/2019|  505|CONTROLLED SUBSTA...|  117|     DANGEROUS DRUGS|PL 2200906|         F|          B|             40|                1|    25-44|       M|               BLACK|POINT (-73.927313...|\n",
            "|  76781064| 01/10/2011|  263|         ARSON 2,3,4|  114|               ARSON|PL 1501500|         F|          B|             41|               97|      <18|       M|      WHITE HISPANIC|POINT (-73.890658...|\n",
            "| 173471274| 01/10/2018|   49|US CODE,UNCLASSIFIED|  995|   F.C.A. P.I.N.O.S.|FOA9000049|      null|          Q|            109|                0|    25-44|       F|ASIAN / PACIFIC I...|POINT (-73.826869...|\n",
            "| 192148527| 01/10/2019|   49|U.S. CODE UNCLASS...|  995|FOR OTHER AUTHORI...|FOA9000049|      null|          B|             49|                0|    45-64|       M|               BLACK|POINT (-73.838782...|\n",
            "| 192150643| 01/10/2019|  101|           ASSAULT 3|  344|ASSAULT 3 & RELAT...|PL 1200000|         M|          Q|            102|                0|    25-44|       F|               BLACK|POINT (-73.827139...|\n",
            "| 173492965| 01/11/2018|  114| OBSTR BREATH/CIRCUL|  344|ASSAULT 3 & RELAT...|PL 1211100|         M|          B|             42|                0|    25-44|       M|      BLACK HISPANIC|POINT (-73.911694...|\n",
            "| 173477465| 01/11/2018|  478|THEFT OF SERVICES...|  343|OTHER OFFENSES RE...|PL 1651503|         M|          B|             44|                1|    45-64|       M|               BLACK|POINT (-73.925930...|\n",
            "| 173521086| 01/11/2018|  503|CONTROLLED SUBSTA...|  117|     DANGEROUS DRUGS|PL 2201602|         F|          B|             52|                0|    25-44|       M|      BLACK HISPANIC|POINT (-73.900586...|\n",
            "| 173516020| 01/11/2018|  511|CONTROLLED SUBSTA...|  235|     DANGEROUS DRUGS|PL 2200300|         M|          M|              7|                2|    25-44|       M|      WHITE HISPANIC|POINT (-73.978675...|\n",
            "| 173505879| 01/11/2018|  922|TRAFFIC,UNCLASSIF...|  348|VEHICLE AND TRAFF...|VTL0511002|         M|          B|             46|                0|    18-24|       M|               BLACK|POINT (-73.903605...|\n",
            "| 192178967| 01/11/2019|  203|TRESPASS 3, CRIMINAL|  352|   CRIMINAL TRESPASS|PL 140100A|         M|          B|             40|                2|    25-44|       M|      WHITE HISPANIC|POINT (-73.916214...|\n",
            "| 192178903| 01/11/2019|  205|TRESPASS 2, CRIMINAL|  352|   CRIMINAL TRESPASS|PL 1401501|         M|          B|             44|                0|    18-24|       M|      BLACK HISPANIC|POINT (-73.918936...|\n",
            "| 192178987| 01/11/2019|  397|ROBBERY,OPEN AREA...|  105|             ROBBERY|PL 1600500|         F|          K|             60|                0|    25-44|       M|ASIAN / PACIFIC I...|POINT (-73.976336...|\n",
            "| 192179003| 01/11/2019|  397|ROBBERY,OPEN AREA...|  105|             ROBBERY|PL 1601001|         F|          K|             73|                0|      <18|       F|               BLACK|POINT (-73.919598...|\n",
            "| 192194757| 01/11/2019|  511|CONTROLLED SUBSTA...|  235|     DANGEROUS DRUGS|PL 2200300|         M|          K|             62|                0|    18-24|       M|ASIAN / PACIFIC I...|POINT (-74.000458...|\n",
            "| 192179025| 01/11/2019|  511|CONTROLLED SUBSTA...|  235|     DANGEROUS DRUGS|PL 2200300|         M|          K|             79|                0|    25-44|       M|               BLACK|POINT (-73.938819...|\n",
            "| 192195161| 01/11/2019|  729|FORGERY,ETC.,UNCL...|  113|             FORGERY|PL 1702500|         F|          K|             81|                0|    25-44|       F|               BLACK|POINT (-73.921818...|\n",
            "| 192179036| 01/11/2019|  792|WEAPONS POSSESSIO...|  118|   DANGEROUS WEAPONS|PL 265031B|         F|          K|             61|                2|    18-24|       M|      BLACK HISPANIC|POINT (-73.937981...|\n",
            "| 192179000| 01/11/2019|  922|TRAFFIC,UNCLASSIF...|  348|VEHICLE AND TRAFF...|VTL0511001|         M|          K|             71|                0|    25-44|       M|               BLACK|POINT (-73.947999...|\n",
            "|  10069926| 01/12/2006|  511|CONTROLLED SUBSTA...|  235|     DANGEROUS DRUGS|PL 2200300|         M|          Q|            103|                0|    45-64|       F|               BLACK|POINT (-73.802959...|\n",
            "|  10069250| 01/12/2006|  759|PUBLIC ADMINISTAT...|  359|OFFENSES AGAINST ...|PL 1950500|         M|          K|             60|                0|      <18|       M|               WHITE|POINT (-73.967211...|\n",
            "| 173528024| 01/12/2018|  106|ASSAULT 2,1,PEACE...|  106|      FELONY ASSAULT|PL 12005A3|         F|          K|             71|                0|    25-44|       F|               WHITE|POINT (-73.957114...|\n",
            "| 173527262| 01/12/2018|  567|MARIJUANA, POSSES...|  235|     DANGEROUS DRUGS|PL 2211001|         M|          K|             78|                0|    18-24|       M|      WHITE HISPANIC|POINT (-73.967480...|\n",
            "| 173527677| 01/12/2018|  779|PUBLIC ADMINISTRA...|  126|MISCELLANEOUS PEN...|PL 2155100|         F|          B|             40|                2|    25-44|       M|               BLACK|POINT (-73.921004...|\n",
            "| 192209297| 01/12/2019|  101|           ASSAULT 3|  344|ASSAULT 3 & RELAT...|PL 1200000|         M|          Q|            103|                0|    18-24|       M|AMERICAN INDIAN/A...|POINT (-73.792141...|\n",
            "| 192225460| 01/12/2019|  339|LARCENY,PETIT FRO...|  341|       PETIT LARCENY|PL 1552500|         M|          K|             63|                0|    25-44|       M|      WHITE HISPANIC|POINT (-73.920985...|\n",
            "| 192202797| 01/12/2019|  441|LARCENY,GRAND OF ...|  110|GRAND LARCENY OF ...|PL 1553008|         F|          B|             47|                0|    25-44|       F|               BLACK|POINT (-73.862364...|\n",
            "| 192220364| 01/12/2019|  503|CONTROLLED SUBSTA...|  117|     DANGEROUS DRUGS|PL 2201601|         F|          K|             60|                0|    18-24|       M|               WHITE|POINT (-73.986356...|\n",
            "|  10087858| 01/13/2006|  101|           ASSAULT 3|  344|ASSAULT 3 & RELAT...|PL 1200001|         M|          B|             43|                2|    18-24|       M|      WHITE HISPANIC|POINT (-73.845552...|\n",
            "|  10087830| 01/13/2006|  567|MARIJUANA, POSSES...|  235|     DANGEROUS DRUGS|PL 2211001|         M|          B|             47|                0|    25-44|       M|               BLACK|POINT (-73.831292...|\n",
            "| 173574485| 01/13/2018|  750|    RESISTING ARREST|  359|OFFENSES AGAINST ...|PL 2053000|         M|          B|             43|                0|    25-44|       M|      WHITE HISPANIC|POINT (-73.861072...|\n",
            "| 173573481| 01/13/2018|  779|PUBLIC ADMINISTRA...|  126|MISCELLANEOUS PEN...|PL 2155100|         F|          K|             75|                0|    25-44|       M|      WHITE HISPANIC|POINT (-73.893465...|\n",
            "| 173585252| 01/13/2018|  779|PUBLIC ADMINISTRA...|  126|MISCELLANEOUS PEN...|PL 2155100|         F|          K|             81|                0|    45-64|       M|               BLACK|POINT (-73.924054...|\n",
            "| 192241098| 01/13/2019|  729|FORGERY,ETC.,UNCL...|  113|             FORGERY|PL 1702500|         F|          Q|            111|                0|    25-44|       M|      WHITE HISPANIC|POINT (-73.767502...|\n",
            "| 173603908| 01/14/2018|   49|US CODE,UNCLASSIFIED|  995|   F.C.A. P.I.N.O.S.|FOA9000049|      null|          Q|            106|                0|    45-64|       M|      BLACK HISPANIC|POINT (-73.843304...|\n",
            "| 192291841| 01/14/2019|  397|ROBBERY,OPEN AREA...|  105|             ROBBERY|PL 1600500|         F|          B|             40|                2|    18-24|       M|               BLACK|POINT (-73.918630...|\n",
            "| 192277919| 01/14/2019|  439|LARCENY,GRAND FRO...|  109|       GRAND LARCENY|PL 1553004|         F|          M|             24|                0|      <18|       F|               BLACK|POINT (-73.967052...|\n",
            "| 192291879| 01/14/2019|  729|FORGERY,ETC.,UNCL...|  113|             FORGERY|PL 1701004|         F|          K|             73|                1|    25-44|       M|               BLACK|POINT (-73.903286...|\n",
            "|  10098399| 01/15/2006|  113|MENACING,UNCLASSI...|  344|ASSAULT 3 & RELAT...|PL 1201401|         M|          M|              5|                0|    18-24|       M|      BLACK HISPANIC|POINT (-74.001253...|\n",
            "|  10098335| 01/15/2006|  708|IMPERSONATION 1, ...|  126|MISCELLANEOUS PEN...|PL 1902601|         F|          M|             18|                0|    25-44|       M|               OTHER|POINT (-73.982471...|\n",
            "|  69889610| 01/15/2010|  205|TRESPASS 2, CRIMINAL|  352|   CRIMINAL TRESPASS|PL 1401500|         M|          B|             48|                0|    45-64|       M|      WHITE HISPANIC|POINT (-73.881662...|\n",
            "| 173634276| 01/15/2018|  916|LEAVING SCENE-ACC...|  348|VEHICLE AND TRAFF...|VTL06000AA|         M|          M|             28|                0|    45-64|       M|      WHITE HISPANIC|POINT (-73.952354...|\n",
            "| 173615843| 01/15/2018|  922|TRAFFIC,UNCLASSIF...|  348|VEHICLE AND TRAFF...|VTL0511001|         M|          M|             10|                0|    25-44|       M|      WHITE HISPANIC|POINT (-74.004862...|\n",
            "| 192327907| 01/15/2019|  273|TAMPERING 1,CRIMINAL|  121|CRIMINAL MISCHIEF...|PL 1452000|         F|          M|              5|                1|    18-24|       M|               BLACK|POINT (-74.001253...|\n",
            "| 192348065| 01/15/2019|  339|LARCENY,PETIT FRO...|  341|       PETIT LARCENY|PL 1552500|         M|          M|             26|                0|    45-64|       M|               BLACK|POINT (-73.963863...|\n",
            "| 192321765| 01/15/2019|  969|TRAFFIC,UNCLASSIF...|  881|OTHER TRAFFIC INF...|VTL051101A|         M|          Q|            111|                0|    25-44|       M|      WHITE HISPANIC|POINT (-73.761589...|\n",
            "|  10102598| 01/16/2006|  205|TRESPASS 2, CRIMINAL|  352|   CRIMINAL TRESPASS|PL 1401500|         M|          M|             23|                2|    25-44|       M|      WHITE HISPANIC|POINT (-73.945966...|\n",
            "|  10102624| 01/16/2006|  478|THEFT OF SERVICES...|  343|OTHER OFFENSES RE...|PL 1651503|         M|          M|             28|                1|    25-44|       M|               BLACK|POINT (-73.949675...|\n",
            "|  88607402| 01/16/2013|  157|              RAPE 1|  104|                RAPE|PL 1303501|         F|          K|             77|                0|    18-24|       M|      WHITE HISPANIC|POINT (-73.930221...|\n",
            "| 173667002| 01/16/2018|  113|MENACING,UNCLASSI...|  344|ASSAULT 3 & RELAT...|PL 1201401|         M|          Q|            110|                0|    25-44|       M|               BLACK|POINT (-73.870128...|\n",
            "| 173688830| 01/16/2018|  259|MISCHIEF,CRIMINAL...|  351|CRIMINAL MISCHIEF...|PL 1450003|         M|          Q|            106|                0|    45-64|       M|ASIAN / PACIFIC I...|POINT (-73.828218...|\n",
            "| 192383332| 01/16/2019|  244|BURGLARY,UNCLASSI...|  107|            BURGLARY|PL 1402000|         F|          B|             42|                0|    45-64|       M|      WHITE HISPANIC|POINT (-73.885254...|\n",
            "| 192376442| 01/16/2019|  478|THEFT OF SERVICES...|  343|OTHER OFFENSES RE...|PL 1651503|         M|          B|             40|                1|    45-64|       M|               BLACK|POINT (-73.930278...|\n",
            "| 192386949| 01/16/2019|  511|CONTROLLED SUBSTA...|  235|     DANGEROUS DRUGS|PL 2200300|         M|          K|             79|                0|    25-44|       M|               BLACK|POINT (-73.950828...|\n",
            "|  10111314| 01/17/2006|  101|           ASSAULT 3|  344|ASSAULT 3 & RELAT...|PL 1200001|         M|          M|             25|                0|    18-24|       M|      WHITE HISPANIC|POINT (-73.940953...|\n",
            "| 173733902| 01/17/2018|  922|TRAFFIC,UNCLASSIF...|  348|VEHICLE AND TRAFF...|VTL0511001|         M|          M|             13|                0|    45-64|       M|               WHITE|POINT (-73.994227...|\n",
            "+----------+-----------+-----+--------------------+-----+--------------------+----------+----------+-----------+---------------+-----------------+---------+--------+--------------------+--------------------+\n",
            "only showing top 100 rows\n",
            "\n"
          ]
        }
      ],
      "source": [
        "df.show(100)"
      ]
    },
    {
      "cell_type": "code",
      "execution_count": null,
      "metadata": {
        "id": "r-IkJsOz2b5V",
        "colab": {
          "base_uri": "https://localhost:8080/"
        },
        "outputId": "e2adfb8b-1b54-4921-cbfc-98a003544e24"
      },
      "outputs": [
        {
          "output_type": "stream",
          "name": "stdout",
          "text": [
            "+--------------------+\n",
            "|           PERP_RACE|\n",
            "+--------------------+\n",
            "|               WHITE|\n",
            "|               BLACK|\n",
            "|AMERICAN INDIAN/A...|\n",
            "|      BLACK HISPANIC|\n",
            "|      WHITE HISPANIC|\n",
            "|                 NaN|\n",
            "|               OTHER|\n",
            "|ASIAN / PACIFIC I...|\n",
            "+--------------------+\n",
            "\n"
          ]
        }
      ],
      "source": [
        "df.select('PERP_RACE').distinct().show()"
      ]
    },
    {
      "cell_type": "markdown",
      "metadata": {
        "id": "9BlHN7RN20P1"
      },
      "source": [
        "### Checks for Perpretrator Sex"
      ]
    },
    {
      "cell_type": "code",
      "execution_count": null,
      "metadata": {
        "id": "zsjPnhTAGxNj",
        "colab": {
          "base_uri": "https://localhost:8080/"
        },
        "outputId": "cc44b44b-d704-4629-d19c-3a2dbc10745f"
      },
      "outputs": [
        {
          "output_type": "stream",
          "name": "stdout",
          "text": [
            "+--------+\n",
            "|PERP_SEX|\n",
            "+--------+\n",
            "|       F|\n",
            "|       M|\n",
            "+--------+\n",
            "\n"
          ]
        }
      ],
      "source": [
        "df.select('PERP_SEX').distinct().show()"
      ]
    },
    {
      "cell_type": "markdown",
      "metadata": {
        "id": "GZBTi4BWTtiO"
      },
      "source": [
        "#### Checking values in suspect sex"
      ]
    },
    {
      "cell_type": "code",
      "execution_count": null,
      "metadata": {
        "id": "kTb_dCZlDlHN",
        "colab": {
          "base_uri": "https://localhost:8080/"
        },
        "outputId": "6a16e7b2-87e7-427d-e8e2-6bf032ed3ce3"
      },
      "outputs": [
        {
          "output_type": "stream",
          "name": "stdout",
          "text": [
            "+--------+-------+\n",
            "|PERP_SEX|  count|\n",
            "+--------+-------+\n",
            "|       M|4288491|\n",
            "|       F| 864870|\n",
            "+--------+-------+\n",
            "\n"
          ]
        }
      ],
      "source": [
        "df.groupBy('PERP_SEX').count().orderBy('count', ascending=False).show()"
      ]
    },
    {
      "cell_type": "markdown",
      "metadata": {
        "id": "u50lhakET780"
      },
      "source": [
        "#### Get unique values of offense description in sorted order"
      ]
    },
    {
      "cell_type": "code",
      "execution_count": null,
      "metadata": {
        "id": "P22KLvXgf5qs",
        "colab": {
          "base_uri": "https://localhost:8080/"
        },
        "outputId": "7a8cb179-57de-42dd-9e86-f90581c52832"
      },
      "outputs": [
        {
          "output_type": "stream",
          "name": "stdout",
          "text": [
            "+--------------------+\n",
            "|           OFNS_DESC|\n",
            "+--------------------+\n",
            "|                null|\n",
            "|            ABORTION|\n",
            "| ADMINISTRATIVE CODE|\n",
            "|ADMINISTRATIVE CODES|\n",
            "|AGRICULTURE & MRK...|\n",
            "|ALCOHOLIC BEVERAG...|\n",
            "|ANTICIPATORY OFFE...|\n",
            "|               ARSON|\n",
            "|ASSAULT 3 & RELAT...|\n",
            "|     BURGLAR'S TOOLS|\n",
            "|            BURGLARY|\n",
            "|CHILD ABANDONMENT...|\n",
            "|CHILD ABANDONMENT...|\n",
            "|CRIMINAL MISCHIEF...|\n",
            "|CRIMINAL MISCHIEF...|\n",
            "|   CRIMINAL TRESPASS|\n",
            "|     DANGEROUS DRUGS|\n",
            "|   DANGEROUS WEAPONS|\n",
            "|  DISORDERLY CONDUCT|\n",
            "|DISRUPTION OF A R...|\n",
            "+--------------------+\n",
            "only showing top 20 rows\n",
            "\n"
          ]
        }
      ],
      "source": [
        "df.select('OFNS_DESC').distinct().orderBy('OFNS_DESC', ascending=True).show()"
      ]
    },
    {
      "cell_type": "markdown",
      "metadata": {
        "id": "oXST8FTeUGgZ"
      },
      "source": [
        "#### Getting Total Count of Offense Description"
      ]
    },
    {
      "cell_type": "code",
      "execution_count": null,
      "metadata": {
        "id": "S7qj-jmIMCWL",
        "colab": {
          "base_uri": "https://localhost:8080/"
        },
        "outputId": "10ca8293-9a49-47f9-f10f-1de0c12bd59f"
      },
      "outputs": [
        {
          "output_type": "execute_result",
          "data": {
            "text/plain": [
              "88"
            ]
          },
          "metadata": {},
          "execution_count": 45
        }
      ],
      "source": [
        "df.select('OFNS_DESC').distinct().count()"
      ]
    },
    {
      "cell_type": "code",
      "execution_count": null,
      "metadata": {
        "id": "feQGTHyyqflL",
        "colab": {
          "base_uri": "https://localhost:8080/"
        },
        "outputId": "32a4f832-47e2-4ccf-f919-5c6edd633cbc"
      },
      "outputs": [
        {
          "output_type": "stream",
          "name": "stdout",
          "text": [
            "+--------------------+------+\n",
            "|           OFNS_DESC| count|\n",
            "+--------------------+------+\n",
            "|OTHER TRAFFIC INF...|175524|\n",
            "|ANTICIPATORY OFFE...|   762|\n",
            "|HOMICIDE-NEGLIGEN...|   165|\n",
            "|CHILD ABANDONMENT...|   474|\n",
            "|NEW YORK CITY HEA...|   515|\n",
            "|POSSESSION OF STO...|149876|\n",
            "|OTHER OFFENSES RE...|  5075|\n",
            "|VEHICLE AND TRAFF...|204881|\n",
            "|KIDNAPPING & RELA...|  2070|\n",
            "|HOMICIDE-NEGLIGEN...|   116|\n",
            "|OFF. AGNST PUB OR...| 13324|\n",
            "|      FELONY ASSAULT|210233|\n",
            "|ALCOHOLIC BEVERAG...|  5943|\n",
            "|OFFENSES RELATED ...|  2714|\n",
            "|CRIMINAL MISCHIEF...| 19596|\n",
            "|UNLAWFUL POSS. WE...|    63|\n",
            "|         THEFT-FRAUD|  9265|\n",
            "|   THEFT OF SERVICES|   604|\n",
            "|MURDER & NON-NEGL...|  2226|\n",
            "|            JOSTLING|   470|\n",
            "+--------------------+------+\n",
            "only showing top 20 rows\n",
            "\n"
          ]
        }
      ],
      "source": [
        "df.groupBy('OFNS_DESC').count().show()"
      ]
    },
    {
      "cell_type": "markdown",
      "metadata": {
        "id": "a_22p8gNUWwK"
      },
      "source": [
        "**Map Key Codes with Offense Description**"
      ]
    },
    {
      "cell_type": "code",
      "execution_count": null,
      "metadata": {
        "id": "F43lcNe1jCIP",
        "colab": {
          "base_uri": "https://localhost:8080/"
        },
        "outputId": "db71c4a2-9a9f-435b-c61a-fb4d9805fd34"
      },
      "outputs": [
        {
          "output_type": "stream",
          "name": "stdout",
          "text": [
            "+-----+--------------------+\n",
            "|KY_CD|          OFNS_DESCS|\n",
            "+-----+--------------------+\n",
            "| null|                  []|\n",
            "|  101|[MURDER & NON-NEG...|\n",
            "|  102|[HOMICIDE-NEGLIGE...|\n",
            "|  103|[HOMICIDE-NEGLIGE...|\n",
            "|  104|              [RAPE]|\n",
            "|  105|           [ROBBERY]|\n",
            "|  106|    [FELONY ASSAULT]|\n",
            "|  107|          [BURGLARY]|\n",
            "|  109|     [GRAND LARCENY]|\n",
            "|  110|[GRAND LARCENY OF...|\n",
            "|  111|[POSSESSION OF ST...|\n",
            "|  112|       [THEFT-FRAUD]|\n",
            "|  113|           [FORGERY]|\n",
            "|  114|             [ARSON]|\n",
            "|  115|[PROSTITUTION & R...|\n",
            "|  116|        [SEX CRIMES]|\n",
            "|  117|   [DANGEROUS DRUGS]|\n",
            "|  118| [DANGEROUS WEAPONS]|\n",
            "|  119|[INTOXICATED/IMPA...|\n",
            "|  120|[ENDAN WELFARE IN...|\n",
            "+-----+--------------------+\n",
            "only showing top 20 rows\n",
            "\n"
          ]
        }
      ],
      "source": [
        "key_off_mapping = df.groupBy('KY_CD').agg(collect_set('OFNS_DESC').alias('OFNS_DESCS')).orderBy('KY_CD')\n",
        "key_off_mapping.show()"
      ]
    },
    {
      "cell_type": "code",
      "execution_count": null,
      "metadata": {
        "id": "T-uGRES6yApb",
        "colab": {
          "base_uri": "https://localhost:8080/"
        },
        "outputId": "f6faf22d-8484-45fc-ad35-afda6850b4f1"
      },
      "outputs": [
        {
          "output_type": "execute_result",
          "data": {
            "text/plain": [
              "76"
            ]
          },
          "metadata": {},
          "execution_count": 48
        }
      ],
      "source": [
        "key_off_mapping.count()"
      ]
    },
    {
      "cell_type": "code",
      "execution_count": null,
      "metadata": {
        "id": "_iGrOfh5C-bd",
        "colab": {
          "base_uri": "https://localhost:8080/"
        },
        "outputId": "a72d0849-a906-4d35-df17-70e8e1d3971f"
      },
      "outputs": [
        {
          "output_type": "execute_result",
          "data": {
            "text/plain": [
              "76"
            ]
          },
          "metadata": {},
          "execution_count": 49
        }
      ],
      "source": [
        "df.select('KY_CD').distinct().count()"
      ]
    },
    {
      "cell_type": "markdown",
      "metadata": {
        "id": "o7CvGBj3D0z4"
      },
      "source": [
        "#### Each key code represents a particular offense description. There is a one to one mapping. So we would use key code for future analysis instead of offense description."
      ]
    },
    {
      "cell_type": "markdown",
      "metadata": {
        "id": "fZ74ExfCRC4g"
      },
      "source": [
        "#### Calculating the null values present in the data columnwise (with respect to the features)"
      ]
    },
    {
      "cell_type": "code",
      "execution_count": null,
      "metadata": {
        "id": "eNTgn7bW-X-t",
        "colab": {
          "base_uri": "https://localhost:8080/"
        },
        "outputId": "4daedbfe-6edf-44c7-871e-f625db01fbac"
      },
      "outputs": [
        {
          "output_type": "stream",
          "name": "stdout",
          "text": [
            "+----------+-----------+-----+-------+-----+---------+--------+----------+-----------+---------------+-----------------+---------+--------+---------+-------+\n",
            "|ARREST_KEY|ARREST_DATE|PD_CD|PD_DESC|KY_CD|OFNS_DESC|LAW_CODE|LAW_CAT_CD|ARREST_BORO|ARREST_PRECINCT|JURISDICTION_CODE|AGE_GROUP|PERP_SEX|PERP_RACE|Lon_Lat|\n",
            "+----------+-----------+-----+-------+-----+---------+--------+----------+-----------+---------------+-----------------+---------+--------+---------+-------+\n",
            "|         0|          0|  284|   9066| 9066|     9066|     196|     18861|          0|              0|               10|      195|       0|    51000|      1|\n",
            "+----------+-----------+-----+-------+-----+---------+--------+----------+-----------+---------------+-----------------+---------+--------+---------+-------+\n",
            "\n"
          ]
        }
      ],
      "source": [
        "df.select([count(when(isnan(c) | col(c).isNull(), c)).alias(c) for c in df.columns]).show()"
      ]
    },
    {
      "cell_type": "code",
      "execution_count": null,
      "metadata": {
        "id": "MgV4_9FW-a1j",
        "colab": {
          "base_uri": "https://localhost:8080/"
        },
        "outputId": "29181bb0-9d42-4313-9ebe-bbe56f401227"
      },
      "outputs": [
        {
          "output_type": "stream",
          "name": "stdout",
          "text": [
            "+----------+-----------+--------------------+--------------------+--------------------+--------------------+--------------------+--------------------+-----------+---------------+--------------------+--------------------+--------+--------------------+--------------------+\n",
            "|ARREST_KEY|ARREST_DATE|               PD_CD|             PD_DESC|               KY_CD|           OFNS_DESC|            LAW_CODE|          LAW_CAT_CD|ARREST_BORO|ARREST_PRECINCT|   JURISDICTION_CODE|           AGE_GROUP|PERP_SEX|           PERP_RACE|             Lon_Lat|\n",
            "+----------+-----------+--------------------+--------------------+--------------------+--------------------+--------------------+--------------------+-----------+---------------+--------------------+--------------------+--------+--------------------+--------------------+\n",
            "|       0.0|        0.0|5.510966532327155E-5|0.001759240231763...|0.001759240231763...|0.001759240231763...|3.803343099775079E-5|0.003659941541064...|        0.0|            0.0|1.940481173354632E-6|3.783938288041532E-5|     0.0|0.009896453984108624|1.940481173354632E-7|\n",
            "+----------+-----------+--------------------+--------------------+--------------------+--------------------+--------------------+--------------------+-----------+---------------+--------------------+--------------------+--------+--------------------+--------------------+\n",
            "\n"
          ]
        }
      ],
      "source": [
        "amount_missing_df = df.select([(count(when(isnan(c) | col(c).isNull(), c))/count(lit(1))).alias(c) for c in df.columns])\n",
        "amount_missing_df.show()"
      ]
    },
    {
      "cell_type": "markdown",
      "metadata": {
        "id": "5HQvMmXgJSy0"
      },
      "source": [
        "#### Thus, we can see that the percentage of null values per variable has gone considerably down after cleaning. Some variables like 'PARKS_NM', 'HADEVELOPT' and such can have null values as established above. "
      ]
    },
    {
      "cell_type": "markdown",
      "metadata": {
        "id": "FI1pGd8s16sd"
      },
      "source": [
        "### Number of columns in Clean Data"
      ]
    },
    {
      "cell_type": "code",
      "execution_count": null,
      "metadata": {
        "id": "rcI9kIjcrRSh",
        "colab": {
          "base_uri": "https://localhost:8080/"
        },
        "outputId": "2b615810-c404-4d55-afc8-a9ed67d94616"
      },
      "outputs": [
        {
          "output_type": "execute_result",
          "data": {
            "text/plain": [
              "15"
            ]
          },
          "metadata": {},
          "execution_count": 52
        }
      ],
      "source": [
        "len(df.columns)"
      ]
    },
    {
      "cell_type": "markdown",
      "metadata": {
        "id": "9htIvQ_X10Op"
      },
      "source": [
        "### Number of rows in Clean Data"
      ]
    },
    {
      "cell_type": "code",
      "execution_count": null,
      "metadata": {
        "id": "g-P3OKE21ubz",
        "colab": {
          "base_uri": "https://localhost:8080/"
        },
        "outputId": "f6528e18-f55a-45bf-8833-747dcdeeb9b7"
      },
      "outputs": [
        {
          "output_type": "execute_result",
          "data": {
            "text/plain": [
              "5153361"
            ]
          },
          "metadata": {},
          "execution_count": 53
        }
      ],
      "source": [
        "df.count()"
      ]
    },
    {
      "cell_type": "code",
      "execution_count": null,
      "metadata": {
        "id": "W2RVtvNr38c_",
        "colab": {
          "base_uri": "https://localhost:8080/"
        },
        "outputId": "06e843bb-56f0-4dcd-aa13-52965053c818"
      },
      "outputs": [
        {
          "output_type": "stream",
          "name": "stdout",
          "text": [
            "root\n",
            " |-- ARREST_KEY: integer (nullable = true)\n",
            " |-- ARREST_DATE: string (nullable = true)\n",
            " |-- PD_CD: integer (nullable = true)\n",
            " |-- PD_DESC: string (nullable = true)\n",
            " |-- KY_CD: integer (nullable = true)\n",
            " |-- OFNS_DESC: string (nullable = true)\n",
            " |-- LAW_CODE: string (nullable = true)\n",
            " |-- LAW_CAT_CD: string (nullable = true)\n",
            " |-- ARREST_BORO: string (nullable = true)\n",
            " |-- ARREST_PRECINCT: integer (nullable = true)\n",
            " |-- JURISDICTION_CODE: integer (nullable = true)\n",
            " |-- AGE_GROUP: string (nullable = true)\n",
            " |-- PERP_SEX: string (nullable = true)\n",
            " |-- PERP_RACE: string (nullable = true)\n",
            " |-- Lon_Lat: string (nullable = true)\n",
            "\n"
          ]
        }
      ],
      "source": [
        "df.printSchema()"
      ]
    },
    {
      "cell_type": "markdown",
      "metadata": {
        "id": "JLIpnxgHVAfM"
      },
      "source": [
        "### **Exporting Clean Data in CSV**\n",
        "\n",
        "The Cleaned Data Set will be saved as `NYPD_Complaint_Data_Historic_Cleaned.csv`"
      ]
    },
    {
      "cell_type": "code",
      "execution_count": null,
      "metadata": {
        "id": "pNEBquVPrUtx"
      },
      "outputs": [],
      "source": [
        "pd_df = df.toPandas()\n",
        "pd_df.to_csv(\"NYPD_Arrest_Data_Year_to_Date_Cleaned_Spark.csv\")"
      ]
    }
  ],
  "metadata": {
    "colab": {
      "collapsed_sections": [],
      "name": "Spark - NYPD Arrest Data (Historic).ipynb",
      "provenance": [],
      "include_colab_link": true
    },
    "kernelspec": {
      "display_name": "Python 3",
      "name": "python3"
    },
    "language_info": {
      "name": "python"
    }
  },
  "nbformat": 4,
  "nbformat_minor": 0
}
